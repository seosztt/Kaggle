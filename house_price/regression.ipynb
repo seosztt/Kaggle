{
 "cells": [
  {
   "cell_type": "code",
   "execution_count": null,
   "id": "087bb309",
   "metadata": {},
   "outputs": [],
   "source": [
    "import pandas as pd\n",
    "\n",
    "train=pd.read_csv('./data/preprocess/train_0910.csv')\n",
    "test=pd.read_csv('./data/preprocess/test_0910.csv')"
   ]
  },
  {
   "cell_type": "code",
   "execution_count": null,
   "id": "a9c40f1b",
   "metadata": {
    "scrolled": false
   },
   "outputs": [],
   "source": [
    "train.info()"
   ]
  },
  {
   "cell_type": "code",
   "execution_count": null,
   "id": "6bc57f80",
   "metadata": {},
   "outputs": [],
   "source": [
    "test.info()"
   ]
  },
  {
   "cell_type": "code",
   "execution_count": null,
   "id": "0fd973a0",
   "metadata": {},
   "outputs": [],
   "source": [
    "train.head()"
   ]
  },
  {
   "cell_type": "code",
   "execution_count": null,
   "id": "79952ecb",
   "metadata": {},
   "outputs": [],
   "source": [
    "train.iloc[:,:10]"
   ]
  },
  {
   "cell_type": "code",
   "execution_count": null,
   "id": "2c255a28",
   "metadata": {},
   "outputs": [],
   "source": [
    "from sklearn.model_selection import train_test_split\n",
    "\n",
    "train_set, test_set = train_test_split(train,\n",
    "                                       test_size = 0.3,\n",
    "                                       random_state = 2045)\n",
    "\n",
    "train_set.shape, test_set.shape"
   ]
  },
  {
   "cell_type": "code",
   "execution_count": null,
   "id": "bd228f42",
   "metadata": {
    "scrolled": true
   },
   "outputs": [],
   "source": [
    "from sklearn.model_selection import train_test_split\n",
    "\n",
    "train_set, test_set = train_test_split(train,\n",
    "                                       test_size = 0.3,\n",
    "                                       random_state = 2045)\n",
    "\n",
    "train_set.shape, test_set.shape"
   ]
  },
  {
   "cell_type": "markdown",
   "id": "2607ec2e",
   "metadata": {},
   "source": [
    "# RMSLE 정의"
   ]
  },
  {
   "cell_type": "code",
   "execution_count": null,
   "id": "13ead09a",
   "metadata": {},
   "outputs": [],
   "source": [
    "from sklearn.metrics import mean_squared_error, mean_squared_log_error, r2_score\n",
    "import numpy as np\n",
    "\n",
    "# RMSLE 정의\n",
    "def rmsle(origin, pred):\n",
    "    return np.sqrt(mean_squared_log_error(origin, pred))"
   ]
  },
  {
   "cell_type": "markdown",
   "id": "53f7c361",
   "metadata": {},
   "source": [
    "# Regression"
   ]
  },
  {
   "cell_type": "markdown",
   "id": "866f6759",
   "metadata": {},
   "source": [
    "## LotArea"
   ]
  },
  {
   "cell_type": "code",
   "execution_count": null,
   "id": "9068fee6",
   "metadata": {},
   "outputs": [],
   "source": [
    "import statsmodels.formula.api as smf\n",
    "\n",
    "Model_1 = smf.ols(formula = 'SalePrice ~ LotArea',\n",
    "                  data = train_set).fit()"
   ]
  },
  {
   "cell_type": "code",
   "execution_count": null,
   "id": "1b8a5bb6",
   "metadata": {},
   "outputs": [],
   "source": [
    "y_hat_1 = Model_1.predict(test_set[['LotArea']])"
   ]
  },
  {
   "cell_type": "code",
   "execution_count": null,
   "id": "fafd1dca",
   "metadata": {
    "scrolled": true
   },
   "outputs": [],
   "source": [
    "rmsle(test_set['SalePrice'],y_hat_1)"
   ]
  },
  {
   "cell_type": "markdown",
   "id": "c9cdb30b",
   "metadata": {},
   "source": [
    "## 1 + OverallQual +\tMasVnrArea"
   ]
  },
  {
   "cell_type": "code",
   "execution_count": null,
   "id": "2bf60465",
   "metadata": {
    "scrolled": true
   },
   "outputs": [],
   "source": [
    "Model_2 = smf.ols(formula = 'SalePrice ~ LotArea+OverallQual+MasVnrArea',\n",
    "                  data = train_set).fit()\n",
    "y_hat_2 = Model_2.predict(test_set[['LotArea','OverallQual','MasVnrArea']])\n",
    "rmsle(test_set['SalePrice'],y_hat_2)"
   ]
  },
  {
   "cell_type": "markdown",
   "id": "e4258c68",
   "metadata": {},
   "source": [
    "## 2 +  OverallCond + ExterQual + BsmtQual+BsmtCond+BsmtExposure+TotalBsmtSF+HeatingQC"
   ]
  },
  {
   "cell_type": "code",
   "execution_count": null,
   "id": "8e4ac045",
   "metadata": {},
   "outputs": [],
   "source": [
    "Model_3 = smf.ols(formula = 'SalePrice ~ LotArea+OverallQual+MasVnrArea+OverallCond + ExterQual + BsmtQual+BsmtCond+BsmtExposure+TotalBsmtSF+HeatingQC',\n",
    "                  data = train_set).fit()\n",
    "y_hat_3 = Model_3.predict(test_set[['LotArea','OverallQual','MasVnrArea','OverallCond','ExterQual','BsmtQual','BsmtCond','BsmtExposure','TotalBsmtSF','HeatingQC']])\n",
    "rmsle(test_set['SalePrice'],y_hat_3)"
   ]
  },
  {
   "cell_type": "markdown",
   "id": "e9b27f51",
   "metadata": {},
   "source": [
    "# all columns"
   ]
  },
  {
   "cell_type": "code",
   "execution_count": null,
   "id": "eed76168",
   "metadata": {
    "scrolled": false
   },
   "outputs": [],
   "source": [
    "'+'.join(list(train.columns))"
   ]
  },
  {
   "cell_type": "code",
   "execution_count": null,
   "id": "5fe28e6a",
   "metadata": {
    "scrolled": true
   },
   "outputs": [],
   "source": [
    "\"','\".join(list(train.columns))"
   ]
  },
  {
   "cell_type": "code",
   "execution_count": null,
   "id": "3d108ab5",
   "metadata": {},
   "outputs": [],
   "source": [
    "Model_4 = smf.ols(formula = 'SalePrice ~ LotArea+OverallQual+OverallCond+MasVnrArea+ExterQual+BsmtQual+BsmtCond+BsmtExposure+TotalBsmtSF+HeatingQC+CentralAir+GrLivArea+BsmtFullBath+BsmtHalfBath+FullBath+HalfBath+BedroomAbvGr+KitchenAbvGr+KitchenQual+TotRmsAbvGrd+Fireplaces+FireplaceQu+GarageFinish+GarageCars+GarageArea+GarageQual+GarageCond+WoodDeckSF+OpenPorchSF+EnclosedPorch+ScreenPorch+MSSubClass_20+MSSubClass_30+MSSubClass_50+MSSubClass_60+MSSubClass_70+MSSubClass_80+MSSubClass_85+MSSubClass_90+MSSubClass_120+MSSubClass_160+MSSubClass_190+MSZoning_FV+MSZoning_RL+MSZoning_RM+Street_Pave+Alley_Grvl+Alley_Pave+LotShape_IR1+LotShape_IR2+LotShape_Reg+LandContour_Bnk+LandContour_HLS+LandContour_Low+LandContour_Lvl+LotConfig_Corner+LotConfig_CulDSac+LotConfig_FR2+LotConfig_Inside+LandSlope_Gtl+LandSlope_Mod+Condition1_Artery+Condition1_Feedr+Condition1_Norm+Condition1_RRAn+BldgType_1Fam+BldgType_2fmCon+BldgType_Duplex+BldgType_Twnhs+BldgType_TwnhsE+HouseStyle_1Story+HouseStyle_2Story+HouseStyle_SFoyer+HouseStyle_SLvl+RoofStyle_Gable+RoofStyle_Hip+MasVnrType_BrkFace+MasVnrType_None+MasVnrType_Stone+ExterCond_Fa+ExterCond_Gd+ExterCond_TA+Foundation_BrkTil+Foundation_CBlock+Foundation_PConc+Foundation_Slab+Electrical_FuseA+Electrical_FuseF+Electrical_SBrkr+Functional_Min1+Functional_Min2+Functional_Typ+GarageType_Attchd+GarageType_BuiltIn+GarageType_Detchd+PavedDrive_N+PavedDrive_P+PavedDrive_Y+Fence_0+Fence_2+Fence_3+Fence_4+SaleType_COD+SaleType_New+SaleType_WD+SaleCondition_Abnorml+SaleCondition_Family+SaleCondition_Normal+SaleCondition_Partial+Neighborhood_BrkSide+Neighborhood_ClearCr+Neighborhood_CollgCr+Neighborhood_Crawfor+Neighborhood_Edwards+Neighborhood_Gilbert+Neighborhood_IDOTRR+Neighborhood_Mitchel+Neighborhood_NAmes+Neighborhood_NWAmes+Neighborhood_NoRidge+Neighborhood_NridgHt+Neighborhood_OldTown+Neighborhood_SWISU+Neighborhood_Sawyer+Neighborhood_SawyerW+Neighborhood_Somerst+Neighborhood_StoneBr+Neighborhood_Timber+MoSold_1+MoSold_2+MoSold_3+MoSold_4+MoSold_5+MoSold_6+MoSold_7+MoSold_8+MoSold_9+MoSold_10+MoSold_11+MoSold_12+YearOld',\n",
    "                  data = train_set).fit()\n",
    "y_hat_4 = Model_4.predict(test_set[['LotArea','OverallQual','OverallCond','MasVnrArea','ExterQual','BsmtQual','BsmtCond','BsmtExposure','TotalBsmtSF','HeatingQC','CentralAir','GrLivArea','BsmtFullBath','BsmtHalfBath','FullBath','HalfBath','BedroomAbvGr','KitchenAbvGr','KitchenQual','TotRmsAbvGrd','Fireplaces','FireplaceQu','GarageFinish','GarageCars','GarageArea','GarageQual','GarageCond','WoodDeckSF','OpenPorchSF','EnclosedPorch','ScreenPorch','MSSubClass_20','MSSubClass_30','MSSubClass_50','MSSubClass_60','MSSubClass_70','MSSubClass_80','MSSubClass_85','MSSubClass_90','MSSubClass_120','MSSubClass_160','MSSubClass_190','MSZoning_FV','MSZoning_RL','MSZoning_RM','Street_Pave','Alley_Grvl','Alley_Pave','LotShape_IR1','LotShape_IR2','LotShape_Reg','LandContour_Bnk','LandContour_HLS','LandContour_Low','LandContour_Lvl','LotConfig_Corner','LotConfig_CulDSac','LotConfig_FR2','LotConfig_Inside','LandSlope_Gtl','LandSlope_Mod','Condition1_Artery','Condition1_Feedr','Condition1_Norm','Condition1_RRAn','BldgType_1Fam','BldgType_2fmCon','BldgType_Duplex','BldgType_Twnhs','BldgType_TwnhsE','HouseStyle_1Story','HouseStyle_2Story','HouseStyle_SFoyer','HouseStyle_SLvl','RoofStyle_Gable','RoofStyle_Hip','MasVnrType_BrkFace','MasVnrType_None','MasVnrType_Stone','ExterCond_Fa','ExterCond_Gd','ExterCond_TA','Foundation_BrkTil','Foundation_CBlock','Foundation_PConc','Foundation_Slab','Electrical_FuseA','Electrical_FuseF','Electrical_SBrkr','Functional_Min1','Functional_Min2','Functional_Typ','GarageType_Attchd','GarageType_BuiltIn','GarageType_Detchd','PavedDrive_N','PavedDrive_P','PavedDrive_Y','Fence_0','Fence_2','Fence_3','Fence_4','SaleType_COD','SaleType_New','SaleType_WD','SaleCondition_Abnorml','SaleCondition_Family','SaleCondition_Normal','SaleCondition_Partial','Neighborhood_BrkSide','Neighborhood_ClearCr','Neighborhood_CollgCr','Neighborhood_Crawfor','Neighborhood_Edwards','Neighborhood_Gilbert','Neighborhood_IDOTRR','Neighborhood_Mitchel','Neighborhood_NAmes','Neighborhood_NWAmes','Neighborhood_NoRidge','Neighborhood_NridgHt','Neighborhood_OldTown','Neighborhood_SWISU','Neighborhood_Sawyer','Neighborhood_SawyerW','Neighborhood_Somerst','Neighborhood_StoneBr','Neighborhood_Timber','MoSold_1','MoSold_2','MoSold_3','MoSold_4','MoSold_5','MoSold_6','MoSold_7','MoSold_8','MoSold_9','MoSold_10','MoSold_11','MoSold_12','YearOld']])\n",
    "rmsle(test_set['SalePrice'],y_hat_4)"
   ]
  },
  {
   "cell_type": "code",
   "execution_count": null,
   "id": "2d8add3d",
   "metadata": {},
   "outputs": [],
   "source": [
    "rmsle(np.expm1(test_set['SalePrice']),np.expm1(y_hat_4))"
   ]
  },
  {
   "cell_type": "markdown",
   "id": "3718d13d",
   "metadata": {},
   "source": [
    "# submission"
   ]
  },
  {
   "cell_type": "code",
   "execution_count": null,
   "id": "5279ac65",
   "metadata": {},
   "outputs": [],
   "source": [
    "Model = smf.ols(formula = 'SalePrice ~ LotArea+OverallQual+OverallCond+MasVnrArea+ExterQual+BsmtQual+BsmtCond+BsmtExposure+TotalBsmtSF+HeatingQC+CentralAir+GrLivArea+BsmtFullBath+BsmtHalfBath+FullBath+HalfBath+BedroomAbvGr+KitchenAbvGr+KitchenQual+TotRmsAbvGrd+Fireplaces+FireplaceQu+GarageFinish+GarageCars+GarageArea+GarageQual+GarageCond+WoodDeckSF+OpenPorchSF+EnclosedPorch+ScreenPorch+MSSubClass_20+MSSubClass_30+MSSubClass_50+MSSubClass_60+MSSubClass_70+MSSubClass_80+MSSubClass_85+MSSubClass_90+MSSubClass_120+MSSubClass_160+MSSubClass_190+MSZoning_FV+MSZoning_RL+MSZoning_RM+Street_Pave+Alley_Grvl+Alley_Pave+LotShape_IR1+LotShape_IR2+LotShape_Reg+LandContour_Bnk+LandContour_HLS+LandContour_Low+LandContour_Lvl+LotConfig_Corner+LotConfig_CulDSac+LotConfig_FR2+LotConfig_Inside+LandSlope_Gtl+LandSlope_Mod+Condition1_Artery+Condition1_Feedr+Condition1_Norm+Condition1_RRAn+BldgType_1Fam+BldgType_2fmCon+BldgType_Duplex+BldgType_Twnhs+BldgType_TwnhsE+HouseStyle_1Story+HouseStyle_2Story+HouseStyle_SFoyer+HouseStyle_SLvl+RoofStyle_Gable+RoofStyle_Hip+MasVnrType_BrkFace+MasVnrType_None+MasVnrType_Stone+ExterCond_Fa+ExterCond_Gd+ExterCond_TA+Foundation_BrkTil+Foundation_CBlock+Foundation_PConc+Foundation_Slab+Electrical_FuseA+Electrical_FuseF+Electrical_SBrkr+Functional_Min1+Functional_Min2+Functional_Typ+GarageType_Attchd+GarageType_BuiltIn+GarageType_Detchd+PavedDrive_N+PavedDrive_P+PavedDrive_Y+Fence_0+Fence_2+Fence_3+Fence_4+SaleType_COD+SaleType_New+SaleType_WD+SaleCondition_Abnorml+SaleCondition_Family+SaleCondition_Normal+SaleCondition_Partial+Neighborhood_BrkSide+Neighborhood_ClearCr+Neighborhood_CollgCr+Neighborhood_Crawfor+Neighborhood_Edwards+Neighborhood_Gilbert+Neighborhood_IDOTRR+Neighborhood_Mitchel+Neighborhood_NAmes+Neighborhood_NWAmes+Neighborhood_NoRidge+Neighborhood_NridgHt+Neighborhood_OldTown+Neighborhood_SWISU+Neighborhood_Sawyer+Neighborhood_SawyerW+Neighborhood_Somerst+Neighborhood_StoneBr+Neighborhood_Timber+MoSold_1+MoSold_2+MoSold_3+MoSold_4+MoSold_5+MoSold_6+MoSold_7+MoSold_8+MoSold_9+MoSold_10+MoSold_11+MoSold_12+YearOld',\n",
    "                  data = train).fit()\n",
    "pred = Model.predict(test[['LotArea','OverallQual','OverallCond','MasVnrArea','ExterQual','BsmtQual','BsmtCond','BsmtExposure','TotalBsmtSF','HeatingQC','CentralAir','GrLivArea','BsmtFullBath','BsmtHalfBath','FullBath','HalfBath','BedroomAbvGr','KitchenAbvGr','KitchenQual','TotRmsAbvGrd','Fireplaces','FireplaceQu','GarageFinish','GarageCars','GarageArea','GarageQual','GarageCond','WoodDeckSF','OpenPorchSF','EnclosedPorch','ScreenPorch','MSSubClass_20','MSSubClass_30','MSSubClass_50','MSSubClass_60','MSSubClass_70','MSSubClass_80','MSSubClass_85','MSSubClass_90','MSSubClass_120','MSSubClass_160','MSSubClass_190','MSZoning_FV','MSZoning_RL','MSZoning_RM','Street_Pave','Alley_Grvl','Alley_Pave','LotShape_IR1','LotShape_IR2','LotShape_Reg','LandContour_Bnk','LandContour_HLS','LandContour_Low','LandContour_Lvl','LotConfig_Corner','LotConfig_CulDSac','LotConfig_FR2','LotConfig_Inside','LandSlope_Gtl','LandSlope_Mod','Condition1_Artery','Condition1_Feedr','Condition1_Norm','Condition1_RRAn','BldgType_1Fam','BldgType_2fmCon','BldgType_Duplex','BldgType_Twnhs','BldgType_TwnhsE','HouseStyle_1Story','HouseStyle_2Story','HouseStyle_SFoyer','HouseStyle_SLvl','RoofStyle_Gable','RoofStyle_Hip','MasVnrType_BrkFace','MasVnrType_None','MasVnrType_Stone','ExterCond_Fa','ExterCond_Gd','ExterCond_TA','Foundation_BrkTil','Foundation_CBlock','Foundation_PConc','Foundation_Slab','Electrical_FuseA','Electrical_FuseF','Electrical_SBrkr','Functional_Min1','Functional_Min2','Functional_Typ','GarageType_Attchd','GarageType_BuiltIn','GarageType_Detchd','PavedDrive_N','PavedDrive_P','PavedDrive_Y','Fence_0','Fence_2','Fence_3','Fence_4','SaleType_COD','SaleType_New','SaleType_WD','SaleCondition_Abnorml','SaleCondition_Family','SaleCondition_Normal','SaleCondition_Partial','Neighborhood_BrkSide','Neighborhood_ClearCr','Neighborhood_CollgCr','Neighborhood_Crawfor','Neighborhood_Edwards','Neighborhood_Gilbert','Neighborhood_IDOTRR','Neighborhood_Mitchel','Neighborhood_NAmes','Neighborhood_NWAmes','Neighborhood_NoRidge','Neighborhood_NridgHt','Neighborhood_OldTown','Neighborhood_SWISU','Neighborhood_Sawyer','Neighborhood_SawyerW','Neighborhood_Somerst','Neighborhood_StoneBr','Neighborhood_Timber','MoSold_1','MoSold_2','MoSold_3','MoSold_4','MoSold_5','MoSold_6','MoSold_7','MoSold_8','MoSold_9','MoSold_10','MoSold_11','MoSold_12','YearOld']])\n",
    "pred = np.expm1(pred)"
   ]
  },
  {
   "cell_type": "code",
   "execution_count": null,
   "id": "6a688cc4",
   "metadata": {},
   "outputs": [],
   "source": [
    "sub=pd.read_csv('data/sample_submission.csv')\n",
    "sub['SalePrice']=pred\n",
    "sub.to_csv('submission/OLS_1_0918.csv',index=False)"
   ]
  }
 ],
 "metadata": {
  "kernelspec": {
   "display_name": "Python 3",
   "language": "python",
   "name": "python3"
  },
  "language_info": {
   "codemirror_mode": {
    "name": "ipython",
    "version": 3
   },
   "file_extension": ".py",
   "mimetype": "text/x-python",
   "name": "python",
   "nbconvert_exporter": "python",
   "pygments_lexer": "ipython3",
   "version": "3.8.8"
  },
  "toc": {
   "base_numbering": 1,
   "nav_menu": {},
   "number_sections": true,
   "sideBar": true,
   "skip_h1_title": false,
   "title_cell": "Table of Contents",
   "title_sidebar": "Contents",
   "toc_cell": false,
   "toc_position": {},
   "toc_section_display": true,
   "toc_window_display": false
  }
 },
 "nbformat": 4,
 "nbformat_minor": 5
}
