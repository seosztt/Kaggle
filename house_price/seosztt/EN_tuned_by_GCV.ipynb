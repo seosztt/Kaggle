{
 "cells": [
  {
   "cell_type": "code",
   "execution_count": 1,
   "id": "5af95f62",
   "metadata": {},
   "outputs": [],
   "source": [
    "import pandas as pd\n",
    "import numpy as np\n",
    "\n",
    "from sklearn.linear_model import ElasticNet\n",
    "from sklearn.model_selection import GridSearchCV\n",
    "from sklearn.model_selection import KFold, train_test_split"
   ]
  },
  {
   "cell_type": "code",
   "execution_count": 2,
   "id": "58078317",
   "metadata": {},
   "outputs": [],
   "source": [
    "train=pd.read_csv('./data/preprocess/train_0926.csv')\n",
    "test=pd.read_csv('./data/preprocess/test_0926.csv')"
   ]
  },
  {
   "cell_type": "code",
   "execution_count": 3,
   "id": "4fdc5157",
   "metadata": {},
   "outputs": [],
   "source": [
    "params={'l1_ratio': [0.01, 0.03, 0.05, 0.1, 0.15 , 0.2, 0.3, 0.4, 0.5, 0.6, 0.7],\n",
    "        'alpha': [0.00000001,0.0000001, 0.000001,0.00001, 0.0001, 0.001, 0.07, 0.1, 0.5, 1, 3]}"
   ]
  },
  {
   "cell_type": "code",
   "execution_count": 4,
   "id": "b07e4189",
   "metadata": {},
   "outputs": [],
   "source": [
    "Model_en=ElasticNet()\n",
    "\n",
    "gcv_en=GridSearchCV(Model_en,\n",
    "                    param_grid=params,\n",
    "                    scoring='neg_mean_squared_log_error',\n",
    "                    cv=KFold(n_splits=5,\n",
    "                             shuffle=True,\n",
    "                             random_state=2045),\n",
    "                   refit=True)"
   ]
  },
  {
   "cell_type": "code",
   "execution_count": 5,
   "id": "b007a03d",
   "metadata": {
    "scrolled": true
   },
   "outputs": [
    {
     "data": {
      "text/plain": [
       "GridSearchCV(cv=KFold(n_splits=5, random_state=2045, shuffle=True),\n",
       "             estimator=ElasticNet(),\n",
       "             param_grid={'alpha': [1e-08, 1e-07, 1e-06, 1e-05, 0.0001, 0.001,\n",
       "                                   0.07, 0.1, 0.5, 1, 3],\n",
       "                         'l1_ratio': [0.01, 0.03, 0.05, 0.1, 0.15, 0.2, 0.3,\n",
       "                                      0.4, 0.5, 0.6, 0.7]},\n",
       "             scoring='neg_mean_squared_log_error')"
      ]
     },
     "execution_count": 5,
     "metadata": {},
     "output_type": "execute_result"
    }
   ],
   "source": [
    "X=train.drop(columns=['SalePrice'])\n",
    "y=train['SalePrice']\n",
    "gcv_en.fit(X,y)"
   ]
  },
  {
   "cell_type": "code",
   "execution_count": 6,
   "id": "f4bb3438",
   "metadata": {
    "scrolled": true
   },
   "outputs": [
    {
     "data": {
      "text/plain": [
       "{'alpha': 0.001, 'l1_ratio': 0.03}"
      ]
     },
     "execution_count": 6,
     "metadata": {},
     "output_type": "execute_result"
    }
   ],
   "source": [
    "gcv_en.best_params_"
   ]
  },
  {
   "cell_type": "code",
   "execution_count": 7,
   "id": "be7109a1",
   "metadata": {},
   "outputs": [
    {
     "data": {
      "text/plain": [
       "-0.00011404294537151202"
      ]
     },
     "execution_count": 7,
     "metadata": {},
     "output_type": "execute_result"
    }
   ],
   "source": [
    "gcv_en.best_score_"
   ]
  },
  {
   "cell_type": "code",
   "execution_count": 8,
   "id": "f482b84c",
   "metadata": {},
   "outputs": [],
   "source": [
    "y_hat = gcv_en.predict(test)\n",
    "pred = np.expm1(y_hat)\n",
    "sub=pd.read_csv('data/sample_submission.csv')\n",
    "sub['SalePrice']=pred\n",
    "sub.to_csv('./submission/GCV_EN_1.csv',index=False)"
   ]
  },
  {
   "cell_type": "markdown",
   "id": "5d3a3ad2",
   "metadata": {},
   "source": [
    "#The End#"
   ]
  }
 ],
 "metadata": {
  "kernelspec": {
   "display_name": "Python 3",
   "language": "python",
   "name": "python3"
  },
  "language_info": {
   "codemirror_mode": {
    "name": "ipython",
    "version": 3
   },
   "file_extension": ".py",
   "mimetype": "text/x-python",
   "name": "python",
   "nbconvert_exporter": "python",
   "pygments_lexer": "ipython3",
   "version": "3.8.8"
  },
  "toc": {
   "base_numbering": 1,
   "nav_menu": {},
   "number_sections": true,
   "sideBar": true,
   "skip_h1_title": false,
   "title_cell": "Table of Contents",
   "title_sidebar": "Contents",
   "toc_cell": false,
   "toc_position": {},
   "toc_section_display": true,
   "toc_window_display": false
  }
 },
 "nbformat": 4,
 "nbformat_minor": 5
}
