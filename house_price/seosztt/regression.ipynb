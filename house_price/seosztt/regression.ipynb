{
 "cells": [
  {
   "cell_type": "code",
   "execution_count": 75,
   "id": "087bb309",
   "metadata": {},
   "outputs": [],
   "source": [
    "import pandas as pd\n",
    "\n",
    "train=pd.read_csv('./data/preprocess/train_0910.csv')\n",
    "test=pd.read_csv('./data/preprocess/test_0910.csv')"
   ]
  },
  {
   "cell_type": "code",
   "execution_count": 76,
   "id": "a9c40f1b",
   "metadata": {
    "scrolled": false
   },
   "outputs": [
    {
     "name": "stdout",
     "output_type": "stream",
     "text": [
      "<class 'pandas.core.frame.DataFrame'>\n",
      "RangeIndex: 1460 entries, 0 to 1459\n",
      "Columns: 144 entries, LotArea to SalePrice\n",
      "dtypes: float64(144)\n",
      "memory usage: 1.6 MB\n"
     ]
    }
   ],
   "source": [
    "train.info()"
   ]
  },
  {
   "cell_type": "code",
   "execution_count": 9,
   "id": "6bc57f80",
   "metadata": {},
   "outputs": [
    {
     "name": "stdout",
     "output_type": "stream",
     "text": [
      "<class 'pandas.core.frame.DataFrame'>\n",
      "RangeIndex: 1459 entries, 0 to 1458\n",
      "Columns: 143 entries, LotArea to YearOld\n",
      "dtypes: float64(143)\n",
      "memory usage: 1.6 MB\n"
     ]
    }
   ],
   "source": [
    "test.info()"
   ]
  },
  {
   "cell_type": "code",
   "execution_count": 6,
   "id": "0fd973a0",
   "metadata": {},
   "outputs": [
    {
     "data": {
      "text/html": [
       "<div>\n",
       "<style scoped>\n",
       "    .dataframe tbody tr th:only-of-type {\n",
       "        vertical-align: middle;\n",
       "    }\n",
       "\n",
       "    .dataframe tbody tr th {\n",
       "        vertical-align: top;\n",
       "    }\n",
       "\n",
       "    .dataframe thead th {\n",
       "        text-align: right;\n",
       "    }\n",
       "</style>\n",
       "<table border=\"1\" class=\"dataframe\">\n",
       "  <thead>\n",
       "    <tr style=\"text-align: right;\">\n",
       "      <th></th>\n",
       "      <th>LotArea</th>\n",
       "      <th>OverallQual</th>\n",
       "      <th>OverallCond</th>\n",
       "      <th>MasVnrArea</th>\n",
       "      <th>ExterQual</th>\n",
       "      <th>BsmtQual</th>\n",
       "      <th>BsmtCond</th>\n",
       "      <th>BsmtExposure</th>\n",
       "      <th>TotalBsmtSF</th>\n",
       "      <th>HeatingQC</th>\n",
       "      <th>...</th>\n",
       "      <th>MoSold_5</th>\n",
       "      <th>MoSold_6</th>\n",
       "      <th>MoSold_7</th>\n",
       "      <th>MoSold_8</th>\n",
       "      <th>MoSold_9</th>\n",
       "      <th>MoSold_10</th>\n",
       "      <th>MoSold_11</th>\n",
       "      <th>MoSold_12</th>\n",
       "      <th>YearOld</th>\n",
       "      <th>SalePrice</th>\n",
       "    </tr>\n",
       "  </thead>\n",
       "  <tbody>\n",
       "    <tr>\n",
       "      <th>0</th>\n",
       "      <td>0.033420</td>\n",
       "      <td>0.666667</td>\n",
       "      <td>0.500</td>\n",
       "      <td>0.12250</td>\n",
       "      <td>0.666667</td>\n",
       "      <td>0.8</td>\n",
       "      <td>0.75</td>\n",
       "      <td>0.25</td>\n",
       "      <td>0.140098</td>\n",
       "      <td>1.00</td>\n",
       "      <td>...</td>\n",
       "      <td>0.0</td>\n",
       "      <td>0.0</td>\n",
       "      <td>0.0</td>\n",
       "      <td>0.0</td>\n",
       "      <td>0.0</td>\n",
       "      <td>0.0</td>\n",
       "      <td>0.0</td>\n",
       "      <td>0.0</td>\n",
       "      <td>0.940860</td>\n",
       "      <td>12.247699</td>\n",
       "    </tr>\n",
       "    <tr>\n",
       "      <th>1</th>\n",
       "      <td>0.038795</td>\n",
       "      <td>0.555556</td>\n",
       "      <td>0.875</td>\n",
       "      <td>0.00000</td>\n",
       "      <td>0.333333</td>\n",
       "      <td>0.8</td>\n",
       "      <td>0.75</td>\n",
       "      <td>1.00</td>\n",
       "      <td>0.206547</td>\n",
       "      <td>1.00</td>\n",
       "      <td>...</td>\n",
       "      <td>1.0</td>\n",
       "      <td>0.0</td>\n",
       "      <td>0.0</td>\n",
       "      <td>0.0</td>\n",
       "      <td>0.0</td>\n",
       "      <td>0.0</td>\n",
       "      <td>0.0</td>\n",
       "      <td>0.0</td>\n",
       "      <td>0.661290</td>\n",
       "      <td>12.109016</td>\n",
       "    </tr>\n",
       "    <tr>\n",
       "      <th>2</th>\n",
       "      <td>0.046507</td>\n",
       "      <td>0.666667</td>\n",
       "      <td>0.500</td>\n",
       "      <td>0.10125</td>\n",
       "      <td>0.666667</td>\n",
       "      <td>0.8</td>\n",
       "      <td>0.75</td>\n",
       "      <td>0.50</td>\n",
       "      <td>0.150573</td>\n",
       "      <td>1.00</td>\n",
       "      <td>...</td>\n",
       "      <td>0.0</td>\n",
       "      <td>0.0</td>\n",
       "      <td>0.0</td>\n",
       "      <td>0.0</td>\n",
       "      <td>1.0</td>\n",
       "      <td>0.0</td>\n",
       "      <td>0.0</td>\n",
       "      <td>0.0</td>\n",
       "      <td>0.924731</td>\n",
       "      <td>12.317171</td>\n",
       "    </tr>\n",
       "    <tr>\n",
       "      <th>3</th>\n",
       "      <td>0.038561</td>\n",
       "      <td>0.666667</td>\n",
       "      <td>0.500</td>\n",
       "      <td>0.00000</td>\n",
       "      <td>0.333333</td>\n",
       "      <td>0.6</td>\n",
       "      <td>1.00</td>\n",
       "      <td>0.25</td>\n",
       "      <td>0.123732</td>\n",
       "      <td>0.75</td>\n",
       "      <td>...</td>\n",
       "      <td>0.0</td>\n",
       "      <td>0.0</td>\n",
       "      <td>0.0</td>\n",
       "      <td>0.0</td>\n",
       "      <td>0.0</td>\n",
       "      <td>0.0</td>\n",
       "      <td>0.0</td>\n",
       "      <td>0.0</td>\n",
       "      <td>0.311828</td>\n",
       "      <td>11.849405</td>\n",
       "    </tr>\n",
       "    <tr>\n",
       "      <th>4</th>\n",
       "      <td>0.060576</td>\n",
       "      <td>0.777778</td>\n",
       "      <td>0.500</td>\n",
       "      <td>0.21875</td>\n",
       "      <td>0.666667</td>\n",
       "      <td>0.8</td>\n",
       "      <td>0.75</td>\n",
       "      <td>0.75</td>\n",
       "      <td>0.187398</td>\n",
       "      <td>1.00</td>\n",
       "      <td>...</td>\n",
       "      <td>0.0</td>\n",
       "      <td>0.0</td>\n",
       "      <td>0.0</td>\n",
       "      <td>0.0</td>\n",
       "      <td>0.0</td>\n",
       "      <td>0.0</td>\n",
       "      <td>0.0</td>\n",
       "      <td>1.0</td>\n",
       "      <td>0.908602</td>\n",
       "      <td>12.429220</td>\n",
       "    </tr>\n",
       "  </tbody>\n",
       "</table>\n",
       "<p>5 rows × 144 columns</p>\n",
       "</div>"
      ],
      "text/plain": [
       "    LotArea  OverallQual  OverallCond  MasVnrArea  ExterQual  BsmtQual  \\\n",
       "0  0.033420     0.666667        0.500     0.12250   0.666667       0.8   \n",
       "1  0.038795     0.555556        0.875     0.00000   0.333333       0.8   \n",
       "2  0.046507     0.666667        0.500     0.10125   0.666667       0.8   \n",
       "3  0.038561     0.666667        0.500     0.00000   0.333333       0.6   \n",
       "4  0.060576     0.777778        0.500     0.21875   0.666667       0.8   \n",
       "\n",
       "   BsmtCond  BsmtExposure  TotalBsmtSF  HeatingQC  ...  MoSold_5  MoSold_6  \\\n",
       "0      0.75          0.25     0.140098       1.00  ...       0.0       0.0   \n",
       "1      0.75          1.00     0.206547       1.00  ...       1.0       0.0   \n",
       "2      0.75          0.50     0.150573       1.00  ...       0.0       0.0   \n",
       "3      1.00          0.25     0.123732       0.75  ...       0.0       0.0   \n",
       "4      0.75          0.75     0.187398       1.00  ...       0.0       0.0   \n",
       "\n",
       "   MoSold_7  MoSold_8  MoSold_9  MoSold_10  MoSold_11  MoSold_12   YearOld  \\\n",
       "0       0.0       0.0       0.0        0.0        0.0        0.0  0.940860   \n",
       "1       0.0       0.0       0.0        0.0        0.0        0.0  0.661290   \n",
       "2       0.0       0.0       1.0        0.0        0.0        0.0  0.924731   \n",
       "3       0.0       0.0       0.0        0.0        0.0        0.0  0.311828   \n",
       "4       0.0       0.0       0.0        0.0        0.0        1.0  0.908602   \n",
       "\n",
       "   SalePrice  \n",
       "0  12.247699  \n",
       "1  12.109016  \n",
       "2  12.317171  \n",
       "3  11.849405  \n",
       "4  12.429220  \n",
       "\n",
       "[5 rows x 144 columns]"
      ]
     },
     "execution_count": 6,
     "metadata": {},
     "output_type": "execute_result"
    }
   ],
   "source": [
    "train.head()"
   ]
  },
  {
   "cell_type": "code",
   "execution_count": 44,
   "id": "79952ecb",
   "metadata": {},
   "outputs": [
    {
     "data": {
      "text/html": [
       "<div>\n",
       "<style scoped>\n",
       "    .dataframe tbody tr th:only-of-type {\n",
       "        vertical-align: middle;\n",
       "    }\n",
       "\n",
       "    .dataframe tbody tr th {\n",
       "        vertical-align: top;\n",
       "    }\n",
       "\n",
       "    .dataframe thead th {\n",
       "        text-align: right;\n",
       "    }\n",
       "</style>\n",
       "<table border=\"1\" class=\"dataframe\">\n",
       "  <thead>\n",
       "    <tr style=\"text-align: right;\">\n",
       "      <th></th>\n",
       "      <th>LotArea</th>\n",
       "      <th>OverallQual</th>\n",
       "      <th>OverallCond</th>\n",
       "      <th>MasVnrArea</th>\n",
       "      <th>ExterQual</th>\n",
       "      <th>BsmtQual</th>\n",
       "      <th>BsmtCond</th>\n",
       "      <th>BsmtExposure</th>\n",
       "      <th>TotalBsmtSF</th>\n",
       "      <th>HeatingQC</th>\n",
       "    </tr>\n",
       "  </thead>\n",
       "  <tbody>\n",
       "    <tr>\n",
       "      <th>0</th>\n",
       "      <td>0.033420</td>\n",
       "      <td>0.666667</td>\n",
       "      <td>0.500</td>\n",
       "      <td>0.122500</td>\n",
       "      <td>0.666667</td>\n",
       "      <td>0.8</td>\n",
       "      <td>0.75</td>\n",
       "      <td>0.25</td>\n",
       "      <td>0.140098</td>\n",
       "      <td>1.00</td>\n",
       "    </tr>\n",
       "    <tr>\n",
       "      <th>1</th>\n",
       "      <td>0.038795</td>\n",
       "      <td>0.555556</td>\n",
       "      <td>0.875</td>\n",
       "      <td>0.000000</td>\n",
       "      <td>0.333333</td>\n",
       "      <td>0.8</td>\n",
       "      <td>0.75</td>\n",
       "      <td>1.00</td>\n",
       "      <td>0.206547</td>\n",
       "      <td>1.00</td>\n",
       "    </tr>\n",
       "    <tr>\n",
       "      <th>2</th>\n",
       "      <td>0.046507</td>\n",
       "      <td>0.666667</td>\n",
       "      <td>0.500</td>\n",
       "      <td>0.101250</td>\n",
       "      <td>0.666667</td>\n",
       "      <td>0.8</td>\n",
       "      <td>0.75</td>\n",
       "      <td>0.50</td>\n",
       "      <td>0.150573</td>\n",
       "      <td>1.00</td>\n",
       "    </tr>\n",
       "    <tr>\n",
       "      <th>3</th>\n",
       "      <td>0.038561</td>\n",
       "      <td>0.666667</td>\n",
       "      <td>0.500</td>\n",
       "      <td>0.000000</td>\n",
       "      <td>0.333333</td>\n",
       "      <td>0.6</td>\n",
       "      <td>1.00</td>\n",
       "      <td>0.25</td>\n",
       "      <td>0.123732</td>\n",
       "      <td>0.75</td>\n",
       "    </tr>\n",
       "    <tr>\n",
       "      <th>4</th>\n",
       "      <td>0.060576</td>\n",
       "      <td>0.777778</td>\n",
       "      <td>0.500</td>\n",
       "      <td>0.218750</td>\n",
       "      <td>0.666667</td>\n",
       "      <td>0.8</td>\n",
       "      <td>0.75</td>\n",
       "      <td>0.75</td>\n",
       "      <td>0.187398</td>\n",
       "      <td>1.00</td>\n",
       "    </tr>\n",
       "    <tr>\n",
       "      <th>...</th>\n",
       "      <td>...</td>\n",
       "      <td>...</td>\n",
       "      <td>...</td>\n",
       "      <td>...</td>\n",
       "      <td>...</td>\n",
       "      <td>...</td>\n",
       "      <td>...</td>\n",
       "      <td>...</td>\n",
       "      <td>...</td>\n",
       "      <td>...</td>\n",
       "    </tr>\n",
       "    <tr>\n",
       "      <th>1455</th>\n",
       "      <td>0.030929</td>\n",
       "      <td>0.555556</td>\n",
       "      <td>0.500</td>\n",
       "      <td>0.000000</td>\n",
       "      <td>0.333333</td>\n",
       "      <td>0.8</td>\n",
       "      <td>0.75</td>\n",
       "      <td>0.25</td>\n",
       "      <td>0.155974</td>\n",
       "      <td>1.00</td>\n",
       "    </tr>\n",
       "    <tr>\n",
       "      <th>1456</th>\n",
       "      <td>0.055505</td>\n",
       "      <td>0.555556</td>\n",
       "      <td>0.625</td>\n",
       "      <td>0.074375</td>\n",
       "      <td>0.333333</td>\n",
       "      <td>0.8</td>\n",
       "      <td>0.75</td>\n",
       "      <td>0.25</td>\n",
       "      <td>0.252373</td>\n",
       "      <td>0.50</td>\n",
       "    </tr>\n",
       "    <tr>\n",
       "      <th>1457</th>\n",
       "      <td>0.036187</td>\n",
       "      <td>0.666667</td>\n",
       "      <td>1.000</td>\n",
       "      <td>0.000000</td>\n",
       "      <td>1.000000</td>\n",
       "      <td>0.6</td>\n",
       "      <td>1.00</td>\n",
       "      <td>0.25</td>\n",
       "      <td>0.188543</td>\n",
       "      <td>1.00</td>\n",
       "    </tr>\n",
       "    <tr>\n",
       "      <th>1458</th>\n",
       "      <td>0.039342</td>\n",
       "      <td>0.444444</td>\n",
       "      <td>0.625</td>\n",
       "      <td>0.000000</td>\n",
       "      <td>0.333333</td>\n",
       "      <td>0.6</td>\n",
       "      <td>0.75</td>\n",
       "      <td>0.50</td>\n",
       "      <td>0.176432</td>\n",
       "      <td>0.75</td>\n",
       "    </tr>\n",
       "    <tr>\n",
       "      <th>1459</th>\n",
       "      <td>0.040370</td>\n",
       "      <td>0.444444</td>\n",
       "      <td>0.625</td>\n",
       "      <td>0.000000</td>\n",
       "      <td>0.666667</td>\n",
       "      <td>0.6</td>\n",
       "      <td>0.75</td>\n",
       "      <td>0.25</td>\n",
       "      <td>0.205565</td>\n",
       "      <td>0.75</td>\n",
       "    </tr>\n",
       "  </tbody>\n",
       "</table>\n",
       "<p>1460 rows × 10 columns</p>\n",
       "</div>"
      ],
      "text/plain": [
       "       LotArea  OverallQual  OverallCond  MasVnrArea  ExterQual  BsmtQual  \\\n",
       "0     0.033420     0.666667        0.500    0.122500   0.666667       0.8   \n",
       "1     0.038795     0.555556        0.875    0.000000   0.333333       0.8   \n",
       "2     0.046507     0.666667        0.500    0.101250   0.666667       0.8   \n",
       "3     0.038561     0.666667        0.500    0.000000   0.333333       0.6   \n",
       "4     0.060576     0.777778        0.500    0.218750   0.666667       0.8   \n",
       "...        ...          ...          ...         ...        ...       ...   \n",
       "1455  0.030929     0.555556        0.500    0.000000   0.333333       0.8   \n",
       "1456  0.055505     0.555556        0.625    0.074375   0.333333       0.8   \n",
       "1457  0.036187     0.666667        1.000    0.000000   1.000000       0.6   \n",
       "1458  0.039342     0.444444        0.625    0.000000   0.333333       0.6   \n",
       "1459  0.040370     0.444444        0.625    0.000000   0.666667       0.6   \n",
       "\n",
       "      BsmtCond  BsmtExposure  TotalBsmtSF  HeatingQC  \n",
       "0         0.75          0.25     0.140098       1.00  \n",
       "1         0.75          1.00     0.206547       1.00  \n",
       "2         0.75          0.50     0.150573       1.00  \n",
       "3         1.00          0.25     0.123732       0.75  \n",
       "4         0.75          0.75     0.187398       1.00  \n",
       "...        ...           ...          ...        ...  \n",
       "1455      0.75          0.25     0.155974       1.00  \n",
       "1456      0.75          0.25     0.252373       0.50  \n",
       "1457      1.00          0.25     0.188543       1.00  \n",
       "1458      0.75          0.50     0.176432       0.75  \n",
       "1459      0.75          0.25     0.205565       0.75  \n",
       "\n",
       "[1460 rows x 10 columns]"
      ]
     },
     "execution_count": 44,
     "metadata": {},
     "output_type": "execute_result"
    }
   ],
   "source": [
    "train.iloc[:,:10]"
   ]
  },
  {
   "cell_type": "code",
   "execution_count": 11,
   "id": "2c255a28",
   "metadata": {},
   "outputs": [
    {
     "data": {
      "text/plain": [
       "((1022, 144), (438, 144))"
      ]
     },
     "execution_count": 11,
     "metadata": {},
     "output_type": "execute_result"
    }
   ],
   "source": [
    "from sklearn.model_selection import train_test_split\n",
    "\n",
    "train_set, test_set = train_test_split(train,\n",
    "                                       test_size = 0.3,\n",
    "                                       random_state = 2045)\n",
    "\n",
    "train_set.shape, test_set.shape"
   ]
  },
  {
   "cell_type": "code",
   "execution_count": 11,
   "id": "bd228f42",
   "metadata": {
    "scrolled": true
   },
   "outputs": [
    {
     "data": {
      "text/plain": [
       "((1022, 144), (438, 144))"
      ]
     },
     "execution_count": 11,
     "metadata": {},
     "output_type": "execute_result"
    }
   ],
   "source": [
    "from sklearn.model_selection import train_test_split\n",
    "\n",
    "train_set, test_set = train_test_split(train,\n",
    "                                       test_size = 0.3,\n",
    "                                       random_state = 2045)\n",
    "\n",
    "train_set.shape, test_set.shape"
   ]
  },
  {
   "cell_type": "markdown",
   "id": "2607ec2e",
   "metadata": {},
   "source": [
    "# RMSLE 정의"
   ]
  },
  {
   "cell_type": "code",
   "execution_count": 35,
   "id": "13ead09a",
   "metadata": {},
   "outputs": [],
   "source": [
    "from sklearn.metrics import mean_squared_error, mean_squared_log_error, r2_score\n",
    "import numpy as np\n",
    "\n",
    "# RMSLE 정의\n",
    "def rmsle(origin, pred):\n",
    "    return np.sqrt(mean_squared_log_error(origin, pred))"
   ]
  },
  {
   "cell_type": "markdown",
   "id": "53f7c361",
   "metadata": {},
   "source": [
    "# Regression"
   ]
  },
  {
   "cell_type": "markdown",
   "id": "866f6759",
   "metadata": {},
   "source": [
    "## LotArea"
   ]
  },
  {
   "cell_type": "code",
   "execution_count": 77,
   "id": "9068fee6",
   "metadata": {},
   "outputs": [],
   "source": [
    "import statsmodels.formula.api as smf\n",
    "\n",
    "Model_1 = smf.ols(formula = 'SalePrice ~ LotArea',\n",
    "                  data = train_set).fit()"
   ]
  },
  {
   "cell_type": "code",
   "execution_count": 78,
   "id": "1b8a5bb6",
   "metadata": {},
   "outputs": [],
   "source": [
    "y_hat_1 = Model_1.predict(test_set[['LotArea']])"
   ]
  },
  {
   "cell_type": "code",
   "execution_count": null,
   "id": "971d6039",
   "metadata": {},
   "outputs": [],
   "source": [
    "np.expm1(y_hat_1)"
   ]
  },
  {
   "cell_type": "code",
   "execution_count": 81,
   "id": "fafd1dca",
   "metadata": {
    "scrolled": true
   },
   "outputs": [
    {
     "data": {
      "text/plain": [
       "0.028665267807535408"
      ]
     },
     "execution_count": 81,
     "metadata": {},
     "output_type": "execute_result"
    }
   ],
   "source": [
    "rmsle(test_set['SalePrice'],y_hat_1)"
   ]
  },
  {
   "cell_type": "code",
   "execution_count": 82,
   "id": "2fab4f00",
   "metadata": {},
   "outputs": [
    {
     "data": {
      "text/plain": [
       "0.3717359973751983"
      ]
     },
     "execution_count": 82,
     "metadata": {},
     "output_type": "execute_result"
    }
   ],
   "source": [
    "rmsle(np.expm1(test_set['SalePrice']),np.expm1(y_hat_1))"
   ]
  },
  {
   "cell_type": "markdown",
   "id": "c9cdb30b",
   "metadata": {},
   "source": [
    "## 1 + OverallQual +\tMasVnrArea"
   ]
  },
  {
   "cell_type": "code",
   "execution_count": 47,
   "id": "2bf60465",
   "metadata": {
    "scrolled": true
   },
   "outputs": [
    {
     "data": {
      "text/plain": [
       "0.01582307591103426"
      ]
     },
     "execution_count": 47,
     "metadata": {},
     "output_type": "execute_result"
    }
   ],
   "source": [
    "Model_2 = smf.ols(formula = 'SalePrice ~ LotArea+OverallQual+MasVnrArea',\n",
    "                  data = train_set).fit()\n",
    "y_hat_2 = Model_2.predict(test_set[['LotArea','OverallQual','MasVnrArea']])\n",
    "rmsle(test_set['SalePrice'],y_hat_2)"
   ]
  },
  {
   "cell_type": "markdown",
   "id": "e4258c68",
   "metadata": {},
   "source": [
    "## 2 +  OverallCond + ExterQual + BsmtQual+BsmtCond+BsmtExposure+TotalBsmtSF+HeatingQC"
   ]
  },
  {
   "cell_type": "code",
   "execution_count": 60,
   "id": "8e4ac045",
   "metadata": {},
   "outputs": [
    {
     "data": {
      "text/plain": [
       "0.014080778311116168"
      ]
     },
     "execution_count": 60,
     "metadata": {},
     "output_type": "execute_result"
    }
   ],
   "source": [
    "Model_3 = smf.ols(formula = 'SalePrice ~ LotArea+OverallQual+MasVnrArea+OverallCond + ExterQual + BsmtQual+BsmtCond+BsmtExposure+TotalBsmtSF+HeatingQC',\n",
    "                  data = train_set).fit()\n",
    "y_hat_3 = Model_3.predict(test_set[['LotArea','OverallQual','MasVnrArea','OverallCond','ExterQual','BsmtQual','BsmtCond','BsmtExposure','TotalBsmtSF','HeatingQC']])\n",
    "rmsle(test_set['SalePrice'],y_hat_3)"
   ]
  },
  {
   "cell_type": "markdown",
   "id": "e9b27f51",
   "metadata": {},
   "source": [
    "# all columns"
   ]
  },
  {
   "cell_type": "code",
   "execution_count": 53,
   "id": "eed76168",
   "metadata": {
    "scrolled": false
   },
   "outputs": [
    {
     "data": {
      "text/plain": [
       "'LotArea+OverallQual+OverallCond+MasVnrArea+ExterQual+BsmtQual+BsmtCond+BsmtExposure+TotalBsmtSF+HeatingQC+CentralAir+GrLivArea+BsmtFullBath+BsmtHalfBath+FullBath+HalfBath+BedroomAbvGr+KitchenAbvGr+KitchenQual+TotRmsAbvGrd+Fireplaces+FireplaceQu+GarageFinish+GarageCars+GarageArea+GarageQual+GarageCond+WoodDeckSF+OpenPorchSF+EnclosedPorch+3SsnPorch+ScreenPorch+MSSubClass_20+MSSubClass_30+MSSubClass_50+MSSubClass_60+MSSubClass_70+MSSubClass_80+MSSubClass_85+MSSubClass_90+MSSubClass_120+MSSubClass_160+MSSubClass_190+MSZoning_FV+MSZoning_RL+MSZoning_RM+Street_Pave+Alley_Grvl+Alley_Pave+LotShape_IR1+LotShape_IR2+LotShape_Reg+LandContour_Bnk+LandContour_HLS+LandContour_Low+LandContour_Lvl+LotConfig_Corner+LotConfig_CulDSac+LotConfig_FR2+LotConfig_Inside+LandSlope_Gtl+LandSlope_Mod+Condition1_Artery+Condition1_Feedr+Condition1_Norm+Condition1_RRAn+BldgType_1Fam+BldgType_2fmCon+BldgType_Duplex+BldgType_Twnhs+BldgType_TwnhsE+HouseStyle_1.5Fin+HouseStyle_1Story+HouseStyle_2Story+HouseStyle_SFoyer+HouseStyle_SLvl+RoofStyle_Gable+RoofStyle_Hip+MasVnrType_BrkFace+MasVnrType_None+MasVnrType_Stone+ExterCond_Fa+ExterCond_Gd+ExterCond_TA+Foundation_BrkTil+Foundation_CBlock+Foundation_PConc+Foundation_Slab+Electrical_FuseA+Electrical_FuseF+Electrical_SBrkr+Functional_Min1+Functional_Min2+Functional_Typ+GarageType_Attchd+GarageType_BuiltIn+GarageType_Detchd+PavedDrive_N+PavedDrive_P+PavedDrive_Y+Fence_0+Fence_2+Fence_3+Fence_4+SaleType_COD+SaleType_New+SaleType_WD+SaleCondition_Abnorml+SaleCondition_Family+SaleCondition_Normal+SaleCondition_Partial+Neighborhood_BrkSide+Neighborhood_ClearCr+Neighborhood_CollgCr+Neighborhood_Crawfor+Neighborhood_Edwards+Neighborhood_Gilbert+Neighborhood_IDOTRR+Neighborhood_Mitchel+Neighborhood_NAmes+Neighborhood_NWAmes+Neighborhood_NoRidge+Neighborhood_NridgHt+Neighborhood_OldTown+Neighborhood_SWISU+Neighborhood_Sawyer+Neighborhood_SawyerW+Neighborhood_Somerst+Neighborhood_StoneBr+Neighborhood_Timber+MoSold_1+MoSold_2+MoSold_3+MoSold_4+MoSold_5+MoSold_6+MoSold_7+MoSold_8+MoSold_9+MoSold_10+MoSold_11+MoSold_12+YearOld+SalePrice'"
      ]
     },
     "execution_count": 53,
     "metadata": {},
     "output_type": "execute_result"
    }
   ],
   "source": [
    "'+'.join(list(train.columns))"
   ]
  },
  {
   "cell_type": "code",
   "execution_count": 55,
   "id": "5fe28e6a",
   "metadata": {
    "scrolled": true
   },
   "outputs": [
    {
     "data": {
      "text/plain": [
       "\"LotArea','OverallQual','OverallCond','MasVnrArea','ExterQual','BsmtQual','BsmtCond','BsmtExposure','TotalBsmtSF','HeatingQC','CentralAir','GrLivArea','BsmtFullBath','BsmtHalfBath','FullBath','HalfBath','BedroomAbvGr','KitchenAbvGr','KitchenQual','TotRmsAbvGrd','Fireplaces','FireplaceQu','GarageFinish','GarageCars','GarageArea','GarageQual','GarageCond','WoodDeckSF','OpenPorchSF','EnclosedPorch','3SsnPorch','ScreenPorch','MSSubClass_20','MSSubClass_30','MSSubClass_50','MSSubClass_60','MSSubClass_70','MSSubClass_80','MSSubClass_85','MSSubClass_90','MSSubClass_120','MSSubClass_160','MSSubClass_190','MSZoning_FV','MSZoning_RL','MSZoning_RM','Street_Pave','Alley_Grvl','Alley_Pave','LotShape_IR1','LotShape_IR2','LotShape_Reg','LandContour_Bnk','LandContour_HLS','LandContour_Low','LandContour_Lvl','LotConfig_Corner','LotConfig_CulDSac','LotConfig_FR2','LotConfig_Inside','LandSlope_Gtl','LandSlope_Mod','Condition1_Artery','Condition1_Feedr','Condition1_Norm','Condition1_RRAn','BldgType_1Fam','BldgType_2fmCon','BldgType_Duplex','BldgType_Twnhs','BldgType_TwnhsE','HouseStyle_1.5Fin','HouseStyle_1Story','HouseStyle_2Story','HouseStyle_SFoyer','HouseStyle_SLvl','RoofStyle_Gable','RoofStyle_Hip','MasVnrType_BrkFace','MasVnrType_None','MasVnrType_Stone','ExterCond_Fa','ExterCond_Gd','ExterCond_TA','Foundation_BrkTil','Foundation_CBlock','Foundation_PConc','Foundation_Slab','Electrical_FuseA','Electrical_FuseF','Electrical_SBrkr','Functional_Min1','Functional_Min2','Functional_Typ','GarageType_Attchd','GarageType_BuiltIn','GarageType_Detchd','PavedDrive_N','PavedDrive_P','PavedDrive_Y','Fence_0','Fence_2','Fence_3','Fence_4','SaleType_COD','SaleType_New','SaleType_WD','SaleCondition_Abnorml','SaleCondition_Family','SaleCondition_Normal','SaleCondition_Partial','Neighborhood_BrkSide','Neighborhood_ClearCr','Neighborhood_CollgCr','Neighborhood_Crawfor','Neighborhood_Edwards','Neighborhood_Gilbert','Neighborhood_IDOTRR','Neighborhood_Mitchel','Neighborhood_NAmes','Neighborhood_NWAmes','Neighborhood_NoRidge','Neighborhood_NridgHt','Neighborhood_OldTown','Neighborhood_SWISU','Neighborhood_Sawyer','Neighborhood_SawyerW','Neighborhood_Somerst','Neighborhood_StoneBr','Neighborhood_Timber','MoSold_1','MoSold_2','MoSold_3','MoSold_4','MoSold_5','MoSold_6','MoSold_7','MoSold_8','MoSold_9','MoSold_10','MoSold_11','MoSold_12','YearOld','SalePrice\""
      ]
     },
     "execution_count": 55,
     "metadata": {},
     "output_type": "execute_result"
    }
   ],
   "source": [
    "\"','\".join(list(train.columns))"
   ]
  },
  {
   "cell_type": "code",
   "execution_count": 71,
   "id": "3d108ab5",
   "metadata": {},
   "outputs": [
    {
     "data": {
      "text/plain": [
       "0.010427745526834875"
      ]
     },
     "execution_count": 71,
     "metadata": {},
     "output_type": "execute_result"
    }
   ],
   "source": [
    "Model_4 = smf.ols(formula = 'SalePrice ~ LotArea+OverallQual+OverallCond+MasVnrArea+ExterQual+BsmtQual+BsmtCond+BsmtExposure+TotalBsmtSF+HeatingQC+CentralAir+GrLivArea+BsmtFullBath+BsmtHalfBath+FullBath+HalfBath+BedroomAbvGr+KitchenAbvGr+KitchenQual+TotRmsAbvGrd+Fireplaces+FireplaceQu+GarageFinish+GarageCars+GarageArea+GarageQual+GarageCond+WoodDeckSF+OpenPorchSF+EnclosedPorch+ScreenPorch+MSSubClass_20+MSSubClass_30+MSSubClass_50+MSSubClass_60+MSSubClass_70+MSSubClass_80+MSSubClass_85+MSSubClass_90+MSSubClass_120+MSSubClass_160+MSSubClass_190+MSZoning_FV+MSZoning_RL+MSZoning_RM+Street_Pave+Alley_Grvl+Alley_Pave+LotShape_IR1+LotShape_IR2+LotShape_Reg+LandContour_Bnk+LandContour_HLS+LandContour_Low+LandContour_Lvl+LotConfig_Corner+LotConfig_CulDSac+LotConfig_FR2+LotConfig_Inside+LandSlope_Gtl+LandSlope_Mod+Condition1_Artery+Condition1_Feedr+Condition1_Norm+Condition1_RRAn+BldgType_1Fam+BldgType_2fmCon+BldgType_Duplex+BldgType_Twnhs+BldgType_TwnhsE+HouseStyle_1Story+HouseStyle_2Story+HouseStyle_SFoyer+HouseStyle_SLvl+RoofStyle_Gable+RoofStyle_Hip+MasVnrType_BrkFace+MasVnrType_None+MasVnrType_Stone+ExterCond_Fa+ExterCond_Gd+ExterCond_TA+Foundation_BrkTil+Foundation_CBlock+Foundation_PConc+Foundation_Slab+Electrical_FuseA+Electrical_FuseF+Electrical_SBrkr+Functional_Min1+Functional_Min2+Functional_Typ+GarageType_Attchd+GarageType_BuiltIn+GarageType_Detchd+PavedDrive_N+PavedDrive_P+PavedDrive_Y+Fence_0+Fence_2+Fence_3+Fence_4+SaleType_COD+SaleType_New+SaleType_WD+SaleCondition_Abnorml+SaleCondition_Family+SaleCondition_Normal+SaleCondition_Partial+Neighborhood_BrkSide+Neighborhood_ClearCr+Neighborhood_CollgCr+Neighborhood_Crawfor+Neighborhood_Edwards+Neighborhood_Gilbert+Neighborhood_IDOTRR+Neighborhood_Mitchel+Neighborhood_NAmes+Neighborhood_NWAmes+Neighborhood_NoRidge+Neighborhood_NridgHt+Neighborhood_OldTown+Neighborhood_SWISU+Neighborhood_Sawyer+Neighborhood_SawyerW+Neighborhood_Somerst+Neighborhood_StoneBr+Neighborhood_Timber+MoSold_1+MoSold_2+MoSold_3+MoSold_4+MoSold_5+MoSold_6+MoSold_7+MoSold_8+MoSold_9+MoSold_10+MoSold_11+MoSold_12+YearOld',\n",
    "                  data = train_set).fit()\n",
    "y_hat_4 = Model_4.predict(test_set[['LotArea','OverallQual','OverallCond','MasVnrArea','ExterQual','BsmtQual','BsmtCond','BsmtExposure','TotalBsmtSF','HeatingQC','CentralAir','GrLivArea','BsmtFullBath','BsmtHalfBath','FullBath','HalfBath','BedroomAbvGr','KitchenAbvGr','KitchenQual','TotRmsAbvGrd','Fireplaces','FireplaceQu','GarageFinish','GarageCars','GarageArea','GarageQual','GarageCond','WoodDeckSF','OpenPorchSF','EnclosedPorch','ScreenPorch','MSSubClass_20','MSSubClass_30','MSSubClass_50','MSSubClass_60','MSSubClass_70','MSSubClass_80','MSSubClass_85','MSSubClass_90','MSSubClass_120','MSSubClass_160','MSSubClass_190','MSZoning_FV','MSZoning_RL','MSZoning_RM','Street_Pave','Alley_Grvl','Alley_Pave','LotShape_IR1','LotShape_IR2','LotShape_Reg','LandContour_Bnk','LandContour_HLS','LandContour_Low','LandContour_Lvl','LotConfig_Corner','LotConfig_CulDSac','LotConfig_FR2','LotConfig_Inside','LandSlope_Gtl','LandSlope_Mod','Condition1_Artery','Condition1_Feedr','Condition1_Norm','Condition1_RRAn','BldgType_1Fam','BldgType_2fmCon','BldgType_Duplex','BldgType_Twnhs','BldgType_TwnhsE','HouseStyle_1Story','HouseStyle_2Story','HouseStyle_SFoyer','HouseStyle_SLvl','RoofStyle_Gable','RoofStyle_Hip','MasVnrType_BrkFace','MasVnrType_None','MasVnrType_Stone','ExterCond_Fa','ExterCond_Gd','ExterCond_TA','Foundation_BrkTil','Foundation_CBlock','Foundation_PConc','Foundation_Slab','Electrical_FuseA','Electrical_FuseF','Electrical_SBrkr','Functional_Min1','Functional_Min2','Functional_Typ','GarageType_Attchd','GarageType_BuiltIn','GarageType_Detchd','PavedDrive_N','PavedDrive_P','PavedDrive_Y','Fence_0','Fence_2','Fence_3','Fence_4','SaleType_COD','SaleType_New','SaleType_WD','SaleCondition_Abnorml','SaleCondition_Family','SaleCondition_Normal','SaleCondition_Partial','Neighborhood_BrkSide','Neighborhood_ClearCr','Neighborhood_CollgCr','Neighborhood_Crawfor','Neighborhood_Edwards','Neighborhood_Gilbert','Neighborhood_IDOTRR','Neighborhood_Mitchel','Neighborhood_NAmes','Neighborhood_NWAmes','Neighborhood_NoRidge','Neighborhood_NridgHt','Neighborhood_OldTown','Neighborhood_SWISU','Neighborhood_Sawyer','Neighborhood_SawyerW','Neighborhood_Somerst','Neighborhood_StoneBr','Neighborhood_Timber','MoSold_1','MoSold_2','MoSold_3','MoSold_4','MoSold_5','MoSold_6','MoSold_7','MoSold_8','MoSold_9','MoSold_10','MoSold_11','MoSold_12','YearOld']])\n",
    "rmsle(test_set['SalePrice'],y_hat_4)"
   ]
  },
  {
   "cell_type": "code",
   "execution_count": 83,
   "id": "801c6697",
   "metadata": {},
   "outputs": [
    {
     "data": {
      "text/plain": [
       "0.13370742143340683"
      ]
     },
     "execution_count": 83,
     "metadata": {},
     "output_type": "execute_result"
    }
   ],
   "source": [
    "rmsle(np.expm1(test_set['SalePrice']),np.expm1(y_hat_4))"
   ]
  },
  {
   "cell_type": "markdown",
   "id": "3718d13d",
   "metadata": {},
   "source": [
    "# submission"
   ]
  },
  {
   "cell_type": "code",
   "execution_count": 72,
   "id": "5279ac65",
   "metadata": {},
   "outputs": [],
   "source": [
    "Model = smf.ols(formula = 'SalePrice ~ LotArea+OverallQual+OverallCond+MasVnrArea+ExterQual+BsmtQual+BsmtCond+BsmtExposure+TotalBsmtSF+HeatingQC+CentralAir+GrLivArea+BsmtFullBath+BsmtHalfBath+FullBath+HalfBath+BedroomAbvGr+KitchenAbvGr+KitchenQual+TotRmsAbvGrd+Fireplaces+FireplaceQu+GarageFinish+GarageCars+GarageArea+GarageQual+GarageCond+WoodDeckSF+OpenPorchSF+EnclosedPorch+ScreenPorch+MSSubClass_20+MSSubClass_30+MSSubClass_50+MSSubClass_60+MSSubClass_70+MSSubClass_80+MSSubClass_85+MSSubClass_90+MSSubClass_120+MSSubClass_160+MSSubClass_190+MSZoning_FV+MSZoning_RL+MSZoning_RM+Street_Pave+Alley_Grvl+Alley_Pave+LotShape_IR1+LotShape_IR2+LotShape_Reg+LandContour_Bnk+LandContour_HLS+LandContour_Low+LandContour_Lvl+LotConfig_Corner+LotConfig_CulDSac+LotConfig_FR2+LotConfig_Inside+LandSlope_Gtl+LandSlope_Mod+Condition1_Artery+Condition1_Feedr+Condition1_Norm+Condition1_RRAn+BldgType_1Fam+BldgType_2fmCon+BldgType_Duplex+BldgType_Twnhs+BldgType_TwnhsE+HouseStyle_1Story+HouseStyle_2Story+HouseStyle_SFoyer+HouseStyle_SLvl+RoofStyle_Gable+RoofStyle_Hip+MasVnrType_BrkFace+MasVnrType_None+MasVnrType_Stone+ExterCond_Fa+ExterCond_Gd+ExterCond_TA+Foundation_BrkTil+Foundation_CBlock+Foundation_PConc+Foundation_Slab+Electrical_FuseA+Electrical_FuseF+Electrical_SBrkr+Functional_Min1+Functional_Min2+Functional_Typ+GarageType_Attchd+GarageType_BuiltIn+GarageType_Detchd+PavedDrive_N+PavedDrive_P+PavedDrive_Y+Fence_0+Fence_2+Fence_3+Fence_4+SaleType_COD+SaleType_New+SaleType_WD+SaleCondition_Abnorml+SaleCondition_Family+SaleCondition_Normal+SaleCondition_Partial+Neighborhood_BrkSide+Neighborhood_ClearCr+Neighborhood_CollgCr+Neighborhood_Crawfor+Neighborhood_Edwards+Neighborhood_Gilbert+Neighborhood_IDOTRR+Neighborhood_Mitchel+Neighborhood_NAmes+Neighborhood_NWAmes+Neighborhood_NoRidge+Neighborhood_NridgHt+Neighborhood_OldTown+Neighborhood_SWISU+Neighborhood_Sawyer+Neighborhood_SawyerW+Neighborhood_Somerst+Neighborhood_StoneBr+Neighborhood_Timber+MoSold_1+MoSold_2+MoSold_3+MoSold_4+MoSold_5+MoSold_6+MoSold_7+MoSold_8+MoSold_9+MoSold_10+MoSold_11+MoSold_12+YearOld',\n",
    "                  data = train).fit()\n",
    "pred = Model.predict(test[['LotArea','OverallQual','OverallCond','MasVnrArea','ExterQual','BsmtQual','BsmtCond','BsmtExposure','TotalBsmtSF','HeatingQC','CentralAir','GrLivArea','BsmtFullBath','BsmtHalfBath','FullBath','HalfBath','BedroomAbvGr','KitchenAbvGr','KitchenQual','TotRmsAbvGrd','Fireplaces','FireplaceQu','GarageFinish','GarageCars','GarageArea','GarageQual','GarageCond','WoodDeckSF','OpenPorchSF','EnclosedPorch','ScreenPorch','MSSubClass_20','MSSubClass_30','MSSubClass_50','MSSubClass_60','MSSubClass_70','MSSubClass_80','MSSubClass_85','MSSubClass_90','MSSubClass_120','MSSubClass_160','MSSubClass_190','MSZoning_FV','MSZoning_RL','MSZoning_RM','Street_Pave','Alley_Grvl','Alley_Pave','LotShape_IR1','LotShape_IR2','LotShape_Reg','LandContour_Bnk','LandContour_HLS','LandContour_Low','LandContour_Lvl','LotConfig_Corner','LotConfig_CulDSac','LotConfig_FR2','LotConfig_Inside','LandSlope_Gtl','LandSlope_Mod','Condition1_Artery','Condition1_Feedr','Condition1_Norm','Condition1_RRAn','BldgType_1Fam','BldgType_2fmCon','BldgType_Duplex','BldgType_Twnhs','BldgType_TwnhsE','HouseStyle_1Story','HouseStyle_2Story','HouseStyle_SFoyer','HouseStyle_SLvl','RoofStyle_Gable','RoofStyle_Hip','MasVnrType_BrkFace','MasVnrType_None','MasVnrType_Stone','ExterCond_Fa','ExterCond_Gd','ExterCond_TA','Foundation_BrkTil','Foundation_CBlock','Foundation_PConc','Foundation_Slab','Electrical_FuseA','Electrical_FuseF','Electrical_SBrkr','Functional_Min1','Functional_Min2','Functional_Typ','GarageType_Attchd','GarageType_BuiltIn','GarageType_Detchd','PavedDrive_N','PavedDrive_P','PavedDrive_Y','Fence_0','Fence_2','Fence_3','Fence_4','SaleType_COD','SaleType_New','SaleType_WD','SaleCondition_Abnorml','SaleCondition_Family','SaleCondition_Normal','SaleCondition_Partial','Neighborhood_BrkSide','Neighborhood_ClearCr','Neighborhood_CollgCr','Neighborhood_Crawfor','Neighborhood_Edwards','Neighborhood_Gilbert','Neighborhood_IDOTRR','Neighborhood_Mitchel','Neighborhood_NAmes','Neighborhood_NWAmes','Neighborhood_NoRidge','Neighborhood_NridgHt','Neighborhood_OldTown','Neighborhood_SWISU','Neighborhood_Sawyer','Neighborhood_SawyerW','Neighborhood_Somerst','Neighborhood_StoneBr','Neighborhood_Timber','MoSold_1','MoSold_2','MoSold_3','MoSold_4','MoSold_5','MoSold_6','MoSold_7','MoSold_8','MoSold_9','MoSold_10','MoSold_11','MoSold_12','YearOld']])\n",
    "pred = np.expm1(pred)"
   ]
  },
  {
   "cell_type": "code",
   "execution_count": 74,
   "id": "6a688cc4",
   "metadata": {},
   "outputs": [],
   "source": [
    "sub=pd.read_csv('data/sample_submission.csv')\n",
    "sub['SalePrice']=pred\n",
    "sub.to_csv('submission/OLS_1_0918.csv',index=False)"
   ]
  }
 ],
 "metadata": {
  "kernelspec": {
   "display_name": "Python 3",
   "language": "python",
   "name": "python3"
  },
  "language_info": {
   "codemirror_mode": {
    "name": "ipython",
    "version": 3
   },
   "file_extension": ".py",
   "mimetype": "text/x-python",
   "name": "python",
   "nbconvert_exporter": "python",
   "pygments_lexer": "ipython3",
   "version": "3.8.8"
  },
  "toc": {
   "base_numbering": 1,
   "nav_menu": {},
   "number_sections": true,
   "sideBar": true,
   "skip_h1_title": false,
   "title_cell": "Table of Contents",
   "title_sidebar": "Contents",
   "toc_cell": false,
   "toc_position": {},
   "toc_section_display": true,
   "toc_window_display": false
  }
 },
 "nbformat": 4,
 "nbformat_minor": 5
}
