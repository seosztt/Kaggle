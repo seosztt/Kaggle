{
 "cells": [
  {
   "cell_type": "code",
   "execution_count": 1,
   "id": "39ca221e",
   "metadata": {},
   "outputs": [],
   "source": [
    "import numpy as np\n",
    "import pandas as pd\n",
    "import matplotlib.pyplot as plt\n",
    "import seaborn as sns\n",
    "import statsmodels.api as sm;\n",
    "import sklearn\n",
    "from statsmodels.stats.outliers_influence import variance_inflation_factor"
   ]
  },
  {
   "cell_type": "code",
   "execution_count": 2,
   "id": "602368df",
   "metadata": {},
   "outputs": [],
   "source": [
    "train =  pd.read_csv('data/EDA/train_EDA_0910.csv')\n",
    "test =  pd.read_csv('data/EDA/test_EDA_0910.csv')\n",
    "feat_class = pd.read_csv('data/EDA/feat_class_0910.csv')"
   ]
  },
  {
   "cell_type": "code",
   "execution_count": 3,
   "id": "c76b7342",
   "metadata": {},
   "outputs": [],
   "source": [
    "feature_raw = feat_class['raw'].dropna().values.tolist()\n",
    "feature_dis = feat_class['dis'].dropna().values.tolist()\n",
    "feature_map = feat_class['map'].dropna().values.tolist()\n",
    "feature_onehot = feat_class['onehot'].dropna().values.tolist()\n",
    "feature_extra = feat_class['extra'].dropna().values.tolist()\n",
    "feature_del = feat_class['del'].dropna().values.tolist()"
   ]
  },
  {
   "cell_type": "markdown",
   "id": "e15c1376",
   "metadata": {},
   "source": [
    "# delete"
   ]
  },
  {
   "cell_type": "code",
   "execution_count": 4,
   "id": "6238b3a8",
   "metadata": {},
   "outputs": [
    {
     "data": {
      "text/plain": [
       "['Id',\n",
       " 'LotFrontage',\n",
       " 'Utilities',\n",
       " 'Condition2',\n",
       " 'RoofMatl',\n",
       " 'BsmtFinType1',\n",
       " 'BsmtFinType2',\n",
       " 'BsmtFinSF1',\n",
       " 'BsmtFinSF2',\n",
       " 'BsmtUnfSF',\n",
       " 'Heating',\n",
       " '1stFlrSF',\n",
       " '2ndFlrSF',\n",
       " 'LowQualFinSF',\n",
       " 'MiscFeature',\n",
       " 'PoolArea',\n",
       " 'PoolQC',\n",
       " 'MiscVal']"
      ]
     },
     "execution_count": 4,
     "metadata": {},
     "output_type": "execute_result"
    }
   ],
   "source": [
    "feature_del"
   ]
  },
  {
   "cell_type": "code",
   "execution_count": 5,
   "id": "c9e26396",
   "metadata": {},
   "outputs": [],
   "source": [
    "train = train.drop(columns = feature_del)\n",
    "test = test.drop(columns = feature_del)"
   ]
  },
  {
   "cell_type": "markdown",
   "id": "07a36138",
   "metadata": {},
   "source": [
    "# Extra"
   ]
  },
  {
   "cell_type": "code",
   "execution_count": 10,
   "id": "40aa41de",
   "metadata": {},
   "outputs": [
    {
     "data": {
      "text/plain": [
       "['Neighborhood',\n",
       " 'YearBuilt',\n",
       " 'YearRemodAdd',\n",
       " 'Exterior1st',\n",
       " 'Exterior2nd',\n",
       " 'GarageYrBlt',\n",
       " 'MoSold',\n",
       " 'YrSold']"
      ]
     },
     "execution_count": 10,
     "metadata": {},
     "output_type": "execute_result"
    }
   ],
   "source": [
    "feature_extra"
   ]
  },
  {
   "cell_type": "code",
   "execution_count": 82,
   "id": "cc73066c",
   "metadata": {},
   "outputs": [
    {
     "data": {
      "text/plain": [
       "Neighborhood\n",
       "MeadowV     98576.470588\n",
       "IDOTRR     100123.783784\n",
       "BrDale     104493.750000\n",
       "BrkSide    124834.051724\n",
       "Edwards    128219.700000\n",
       "OldTown    128225.300885\n",
       "Sawyer     136793.135135\n",
       "Blueste    137500.000000\n",
       "SWISU      142591.360000\n",
       "NPkVill    142694.444444\n",
       "NAmes      145847.080000\n",
       "Mitchel    156270.122449\n",
       "SawyerW    186555.796610\n",
       "NWAmes     189050.068493\n",
       "Gilbert    192854.506329\n",
       "Blmngtn    194870.882353\n",
       "CollgCr    197965.773333\n",
       "Crawfor    210624.725490\n",
       "ClearCr    212565.428571\n",
       "Somerst    225379.837209\n",
       "Veenker    238772.727273\n",
       "Timber     242247.447368\n",
       "StoneBr    310499.000000\n",
       "NridgHt    316270.623377\n",
       "NoRidge    335295.317073\n",
       "Name: SalePrice, dtype: float64"
      ]
     },
     "execution_count": 82,
     "metadata": {},
     "output_type": "execute_result"
    }
   ],
   "source": [
    "train.groupby('Neighborhood').mean().sort_values(by='SalePrice')['SalePrice']"
   ]
  },
  {
   "cell_type": "code",
   "execution_count": 83,
   "id": "bbc5596c",
   "metadata": {},
   "outputs": [],
   "source": [
    "map_Nei={'MeadowV' :0,\n",
    "'IDOTRR'  :1,\n",
    "'BrDale'  :2,\n",
    "'BrkSide' :3,\n",
    "'Edwards' :4,\n",
    "'OldTown' :5,\n",
    "'Sawyer'  :6,\n",
    "'Blueste' :7,\n",
    "'SWISU'   :8,\n",
    "'NPkVill' :9,\n",
    "'NAmes'   :10,\n",
    "'Mitchel' :11,\n",
    "'SawyerW' :12,\n",
    "'NWAmes'  :13,\n",
    "'Gilbert' :14,\n",
    "'Blmngtn' :15,\n",
    "'CollgCr' :16,\n",
    "'Crawfor' :17,\n",
    "'ClearCr' :18,\n",
    "'Somerst' :19,\n",
    "'Veenker' :20,\n",
    "'Timber'  :21,\n",
    "'StoneBr' :22,\n",
    "'NridgHt' :23,\n",
    "'NoRidge' :24}"
   ]
  },
  {
   "cell_type": "code",
   "execution_count": 84,
   "id": "9923e39f",
   "metadata": {},
   "outputs": [],
   "source": [
    "train['Neighborhood']=train['Neighborhood'].map(map_Nei)\n",
    "test['Neighborhood']=test['Neighborhood'].map(map_Nei)"
   ]
  },
  {
   "cell_type": "code",
   "execution_count": 31,
   "id": "d32de798",
   "metadata": {},
   "outputs": [],
   "source": [
    "train['YearOld'] = (train['YearBuilt'] + train['YearRemodAdd'] )/2\n",
    "train['YearOld'] -= train['YrSold']\n",
    "test['YearOld'] = (test['YearBuilt'] + test['YearRemodAdd'] )/2\n",
    "test['YearOld'] -= test['YrSold']"
   ]
  },
  {
   "cell_type": "code",
   "execution_count": 32,
   "id": "c504f6ae",
   "metadata": {},
   "outputs": [],
   "source": [
    "#Extra에서 따로 계산하고 지워줘야 할 컬럼 추가\n",
    "train = train.drop(columns = ['YearBuilt', 'YearRemodAdd',\n",
    "                    'Exterior1st', 'Exterior2nd', 'YrSold', 'GarageYrBlt'])\n",
    "test = test.drop(columns = ['YearBuilt', 'YearRemodAdd',\n",
    "                    'Exterior1st', 'Exterior2nd', 'YrSold', 'GarageYrBlt'])"
   ]
  },
  {
   "cell_type": "code",
   "execution_count": 33,
   "id": "31c77e71",
   "metadata": {},
   "outputs": [],
   "source": [
    "feature_dis.extend(['Neighborhood', 'MoSold'])\n",
    "feature_extra=[]\n",
    "feature_raw.append('YearOld')"
   ]
  },
  {
   "cell_type": "markdown",
   "id": "a9a03cc2",
   "metadata": {},
   "source": [
    "# onehot"
   ]
  },
  {
   "cell_type": "code",
   "execution_count": 53,
   "id": "a9b3d327",
   "metadata": {
    "scrolled": true
   },
   "outputs": [
    {
     "data": {
      "text/plain": [
       "['MSSubClass',\n",
       " 'MSZoning',\n",
       " 'Street',\n",
       " 'Alley',\n",
       " 'LotShape',\n",
       " 'LandContour',\n",
       " 'LotConfig',\n",
       " 'LandSlope',\n",
       " 'Condition1',\n",
       " 'BldgType',\n",
       " 'HouseStyle',\n",
       " 'RoofStyle',\n",
       " 'MasVnrType',\n",
       " 'ExterCond',\n",
       " 'Foundation',\n",
       " 'Electrical',\n",
       " 'Functional',\n",
       " 'GarageType',\n",
       " 'PavedDrive',\n",
       " 'Fence',\n",
       " 'SaleType',\n",
       " 'SaleCondition']"
      ]
     },
     "execution_count": 53,
     "metadata": {},
     "output_type": "execute_result"
    }
   ],
   "source": [
    "feature_onehot"
   ]
  },
  {
   "cell_type": "code",
   "execution_count": 54,
   "id": "1ea790c0",
   "metadata": {},
   "outputs": [],
   "source": [
    "from sklearn.preprocessing import LabelEncoder\n",
    "LE1=LabelEncoder()\n",
    "for i in feature_onehot:\n",
    "    temp=LE1.fit_transform(train[i])\n",
    "    train[i]=temp\n",
    "    \n",
    "LE2=LabelEncoder()\n",
    "for i in feature_onehot:\n",
    "    temp=LE2.fit_transform(test[i])\n",
    "    test[i]=temp"
   ]
  },
  {
   "cell_type": "markdown",
   "id": "7e272f48",
   "metadata": {},
   "source": [
    "train.column"
   ]
  },
  {
   "cell_type": "markdown",
   "id": "139eb0a6",
   "metadata": {},
   "source": [
    "# rename feature"
   ]
  },
  {
   "cell_type": "code",
   "execution_count": 61,
   "id": "05b68519",
   "metadata": {},
   "outputs": [],
   "source": [
    "# 모델링 할 때 컬럼명이 숫자로 시작해서 오류가 생겼음\n",
    "train.rename(columns = {'3SsnPorch' : 'SsnPorch'}, inplace = True)\n",
    "test.rename(columns = {'3SsnPorch' : 'SsnPorch'}, inplace = True)\n",
    "\n",
    "feature_raw.remove('3SsnPorch')\n",
    "feature_raw.append('SsnPorch')"
   ]
  },
  {
   "cell_type": "code",
   "execution_count": 63,
   "id": "f35eb5e9",
   "metadata": {
    "scrolled": true
   },
   "outputs": [
    {
     "data": {
      "text/plain": [
       "0      1436\n",
       "168       3\n",
       "216       2\n",
       "144       2\n",
       "180       2\n",
       "407       1\n",
       "320       1\n",
       "304       1\n",
       "290       1\n",
       "245       1\n",
       "238       1\n",
       "182       1\n",
       "196       1\n",
       "23        1\n",
       "162       1\n",
       "153       1\n",
       "140       1\n",
       "130       1\n",
       "96        1\n",
       "508       1\n",
       "Name: SsnPorch, dtype: int64"
      ]
     },
     "execution_count": 63,
     "metadata": {},
     "output_type": "execute_result"
    }
   ],
   "source": [
    "train['SsnPorch'].value_counts()"
   ]
  },
  {
   "cell_type": "markdown",
   "id": "aa9f4867",
   "metadata": {},
   "source": [
    "# Scaling"
   ]
  },
  {
   "cell_type": "code",
   "execution_count": 74,
   "id": "bcdc4a7b",
   "metadata": {},
   "outputs": [],
   "source": [
    "MMS_list=[]\n",
    "MMS_list.extend(feature_raw)\n",
    "MMS_list.extend(feature_dis)\n",
    "MMS_list.extend(feature_map)\n",
    "MMS_list.extend(feature_onehot)"
   ]
  },
  {
   "cell_type": "code",
   "execution_count": 73,
   "id": "6b81f0af",
   "metadata": {},
   "outputs": [
    {
     "data": {
      "text/plain": [
       "['LotArea',\n",
       " 'MasVnrArea',\n",
       " 'TotalBsmtSF',\n",
       " 'GrLivArea',\n",
       " 'GarageArea',\n",
       " 'WoodDeckSF',\n",
       " 'OpenPorchSF',\n",
       " 'EnclosedPorch',\n",
       " 'ScreenPorch',\n",
       " 'YearOld',\n",
       " 'SsnPorch',\n",
       " 'OverallQual',\n",
       " 'OverallCond',\n",
       " 'BsmtFullBath',\n",
       " 'BsmtHalfBath',\n",
       " 'HalfBath',\n",
       " 'BedroomAbvGr',\n",
       " 'KitchenAbvGr',\n",
       " 'TotRmsAbvGrd',\n",
       " 'Fireplaces',\n",
       " 'GarageCars',\n",
       " 'Neighborhood',\n",
       " 'MoSold',\n",
       " 'ExterQual',\n",
       " 'BsmtQual',\n",
       " 'BsmtCond',\n",
       " 'BsmtExposure',\n",
       " 'HeatingQC',\n",
       " 'CentralAir',\n",
       " 'KitchenQual',\n",
       " 'FireplaceQu',\n",
       " 'GarageFinish',\n",
       " 'GarageQual',\n",
       " 'GarageCond',\n",
       " 'MSSubClass',\n",
       " 'MSZoning',\n",
       " 'Street',\n",
       " 'Alley',\n",
       " 'LotShape',\n",
       " 'LandContour',\n",
       " 'LotConfig',\n",
       " 'LandSlope',\n",
       " 'Condition1',\n",
       " 'BldgType',\n",
       " 'HouseStyle',\n",
       " 'RoofStyle',\n",
       " 'MasVnrType',\n",
       " 'ExterCond',\n",
       " 'Foundation',\n",
       " 'Electrical',\n",
       " 'Functional',\n",
       " 'GarageType',\n",
       " 'PavedDrive',\n",
       " 'Fence',\n",
       " 'SaleType',\n",
       " 'SaleCondition']"
      ]
     },
     "execution_count": 73,
     "metadata": {},
     "output_type": "execute_result"
    }
   ],
   "source": [
    "MMS_list"
   ]
  },
  {
   "cell_type": "code",
   "execution_count": 90,
   "id": "2a088b28",
   "metadata": {},
   "outputs": [],
   "source": [
    "from sklearn.preprocessing import MinMaxScaler\n",
    "MMS1=MinMaxScaler()\n",
    "train[list_MMS]=MMS1.fit_transform(train[list_MMS])\n",
    "\n",
    "MMS2=MinMaxScaler()\n",
    "test[list_MMS]=MMS2.fit_transform(test[list_MMS])"
   ]
  },
  {
   "cell_type": "code",
   "execution_count": 93,
   "id": "eb55ff4e",
   "metadata": {},
   "outputs": [],
   "source": [
    "train['SalePrice'] = np.log1p(train['SalePrice'])"
   ]
  },
  {
   "cell_type": "markdown",
   "id": "2c14d077",
   "metadata": {},
   "source": [
    "# Save"
   ]
  },
  {
   "cell_type": "code",
   "execution_count": 96,
   "id": "a392e1bb",
   "metadata": {},
   "outputs": [],
   "source": [
    "train.to_csv('data/preprocess/train_0918.csv', index = False)\n",
    "test.to_csv('data/preprocess/test_0918.csv', index = False)"
   ]
  },
  {
   "cell_type": "code",
   "execution_count": 97,
   "id": "e3cd24b6",
   "metadata": {},
   "outputs": [
    {
     "name": "stderr",
     "output_type": "stream",
     "text": [
      "<ipython-input-97-ddbfd60d6fa6>:7: DeprecationWarning: The default dtype for empty Series will be 'object' instead of 'float64' in a future version. Specify a dtype explicitly to silence this warning.\n",
      "  features = pd.DataFrame(dict([ (k,pd.Series(v)) for k,v in feature_dict.items() ]))\n"
     ]
    }
   ],
   "source": [
    "feature_dict = {'raw':feature_raw, 'dis':feature_dis, \n",
    "               'map':feature_map, 'onehot':feature_onehot,\n",
    "                'extra':feature_extra, 'del':feature_del\n",
    "               }\n",
    "\n",
    "#features = pd.DataFrame(feature_dict)\n",
    "features = pd.DataFrame(dict([ (k,pd.Series(v)) for k,v in feature_dict.items() ]))\n",
    "features.to_csv('data/EDA/feat_class_0918.csv', index = False)"
   ]
  },
  {
   "cell_type": "code",
   "execution_count": null,
   "id": "82aeebaf",
   "metadata": {},
   "outputs": [],
   "source": []
  }
 ],
 "metadata": {
  "kernelspec": {
   "display_name": "Python 3",
   "language": "python",
   "name": "python3"
  },
  "language_info": {
   "codemirror_mode": {
    "name": "ipython",
    "version": 3
   },
   "file_extension": ".py",
   "mimetype": "text/x-python",
   "name": "python",
   "nbconvert_exporter": "python",
   "pygments_lexer": "ipython3",
   "version": "3.8.8"
  },
  "toc": {
   "base_numbering": 1,
   "nav_menu": {},
   "number_sections": true,
   "sideBar": true,
   "skip_h1_title": false,
   "title_cell": "Table of Contents",
   "title_sidebar": "Contents",
   "toc_cell": false,
   "toc_position": {},
   "toc_section_display": true,
   "toc_window_display": false
  }
 },
 "nbformat": 4,
 "nbformat_minor": 5
}
