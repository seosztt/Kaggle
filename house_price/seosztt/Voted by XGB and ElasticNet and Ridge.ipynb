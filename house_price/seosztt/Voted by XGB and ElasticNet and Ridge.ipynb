{
 "cells": [
  {
   "cell_type": "code",
   "execution_count": 1,
   "id": "82d855d2",
   "metadata": {},
   "outputs": [],
   "source": [
    "import pandas as pd\n",
    "\n",
    "train=pd.read_csv('./data/preprocess/train_0918.csv')\n",
    "test=pd.read_csv('./data/preprocess/test_0918.csv')"
   ]
  },
  {
   "cell_type": "code",
   "execution_count": 2,
   "id": "83eea17c",
   "metadata": {},
   "outputs": [],
   "source": [
    "from sklearn.metrics import mean_squared_error, mean_squared_log_error, r2_score\n",
    "import numpy as np\n",
    "\n",
    "# RMSLE 정의\n",
    "def rmsle(origin, pred):\n",
    "    return np.sqrt(mean_squared_log_error(origin, pred))"
   ]
  },
  {
   "cell_type": "markdown",
   "id": "5dc33548",
   "metadata": {},
   "source": [
    "# XGB and EN"
   ]
  },
  {
   "cell_type": "markdown",
   "id": "8168bb97",
   "metadata": {},
   "source": [
    "## Validation"
   ]
  },
  {
   "cell_type": "code",
   "execution_count": 3,
   "id": "daf51862",
   "metadata": {},
   "outputs": [],
   "source": [
    "from xgboost import XGBRegressor\n",
    "from sklearn.linear_model import ElasticNet\n",
    "from sklearn.ensemble import VotingRegressor"
   ]
  },
  {
   "cell_type": "code",
   "execution_count": 4,
   "id": "fa898bc5",
   "metadata": {},
   "outputs": [],
   "source": [
    "from xgboost import XGBRegressor\n",
    "from sklearn.linear_model import ElasticNet\n",
    "from sklearn.ensemble import VotingRegressor\n",
    "\n",
    "XGB=XGBRegressor()\n",
    "EN = ElasticNet(normalize = True, \n",
    "                alpha = 0.0001,\n",
    "                l1_ratio = 0.7)\n",
    "\n",
    "VR=VotingRegressor(estimators=[('xgb',XGB),('en',EN)])"
   ]
  },
  {
   "cell_type": "code",
   "execution_count": 5,
   "id": "7cc783b0",
   "metadata": {},
   "outputs": [
    {
     "data": {
      "text/plain": [
       "((1022, 58), (438, 58))"
      ]
     },
     "execution_count": 5,
     "metadata": {},
     "output_type": "execute_result"
    }
   ],
   "source": [
    "from sklearn.model_selection import train_test_split\n",
    "\n",
    "train_set, test_set = train_test_split(train,\n",
    "                                       test_size = 0.3,\n",
    "                                       random_state = 2045)\n",
    "\n",
    "train_set.shape, test_set.shape"
   ]
  },
  {
   "cell_type": "code",
   "execution_count": 6,
   "id": "3576fe46",
   "metadata": {},
   "outputs": [
    {
     "data": {
      "text/plain": [
       "VotingRegressor(estimators=[('xgb',\n",
       "                             XGBRegressor(base_score=None, booster=None,\n",
       "                                          colsample_bylevel=None,\n",
       "                                          colsample_bynode=None,\n",
       "                                          colsample_bytree=None, gamma=None,\n",
       "                                          gpu_id=None, importance_type='gain',\n",
       "                                          interaction_constraints=None,\n",
       "                                          learning_rate=None,\n",
       "                                          max_delta_step=None, max_depth=None,\n",
       "                                          min_child_weight=None, missing=nan,\n",
       "                                          monotone_constraints=None,\n",
       "                                          n_estimators=100, n_jobs=None,\n",
       "                                          num_parallel_tree=None,\n",
       "                                          random_state=None, reg_alpha=None,\n",
       "                                          reg_lambda=None,\n",
       "                                          scale_pos_weight=None, subsample=None,\n",
       "                                          tree_method=None,\n",
       "                                          validate_parameters=None,\n",
       "                                          verbosity=None)),\n",
       "                            ('en',\n",
       "                             ElasticNet(alpha=0.0001, l1_ratio=0.7,\n",
       "                                        normalize=True))])"
      ]
     },
     "execution_count": 6,
     "metadata": {},
     "output_type": "execute_result"
    }
   ],
   "source": [
    "X=train_set.drop('SalePrice',axis=1)\n",
    "y=train_set['SalePrice']\n",
    "\n",
    "VR.fit(X,y)"
   ]
  },
  {
   "cell_type": "code",
   "execution_count": 7,
   "id": "c2d8778a",
   "metadata": {},
   "outputs": [
    {
     "data": {
      "text/plain": [
       "0.12348368785626962"
      ]
     },
     "execution_count": 7,
     "metadata": {},
     "output_type": "execute_result"
    }
   ],
   "source": [
    "y_hat_1=VR.predict(test_set.drop(columns=['SalePrice']))\n",
    "rmsle(np.expm1(test_set['SalePrice']),np.expm1(y_hat_1))"
   ]
  },
  {
   "cell_type": "markdown",
   "id": "260a1044",
   "metadata": {},
   "source": [
    "## Submission"
   ]
  },
  {
   "cell_type": "code",
   "execution_count": 8,
   "id": "ca169798",
   "metadata": {},
   "outputs": [],
   "source": [
    "X=train.drop(columns=['SalePrice'])\n",
    "y=train['SalePrice']\n",
    "\n",
    "VR.fit(X, y)\n",
    "\n",
    "pred=VR.predict(test)"
   ]
  },
  {
   "cell_type": "code",
   "execution_count": 9,
   "id": "fb4c1dae",
   "metadata": {},
   "outputs": [],
   "source": [
    "pred = np.expm1(pred)\n",
    "sub=pd.read_csv('data/sample_submission.csv')\n",
    "sub['SalePrice']=pred\n",
    "sub.to_csv('./submission/VR_XGB_and_EN.csv',index=False)"
   ]
  },
  {
   "cell_type": "markdown",
   "id": "3a9a75a9",
   "metadata": {},
   "source": [
    "# EN and Ridge"
   ]
  },
  {
   "cell_type": "markdown",
   "id": "1bbb3ad9",
   "metadata": {},
   "source": [
    "##  Validation"
   ]
  },
  {
   "cell_type": "code",
   "execution_count": 10,
   "id": "5a8951e2",
   "metadata": {},
   "outputs": [],
   "source": [
    "from sklearn.linear_model import Ridge\n",
    "\n",
    "RG = Ridge(normalize = True, \n",
    "           alpha = 0.3,\n",
    "           solver = 'cholesky')\n",
    "\n",
    "VR2=VotingRegressor(estimators=[('rg',RG),('en',EN)])"
   ]
  },
  {
   "cell_type": "code",
   "execution_count": 11,
   "id": "c5367d33",
   "metadata": {},
   "outputs": [
    {
     "data": {
      "text/plain": [
       "0.12487677574400848"
      ]
     },
     "execution_count": 11,
     "metadata": {},
     "output_type": "execute_result"
    }
   ],
   "source": [
    "X=train_set.drop('SalePrice',axis=1)\n",
    "y=train_set['SalePrice']\n",
    "\n",
    "VR2.fit(X,y)\n",
    "\n",
    "y_hat_1=VR2.predict(test_set.drop(columns=['SalePrice']))\n",
    "rmsle(np.expm1(test_set['SalePrice']),np.expm1(y_hat_1))"
   ]
  },
  {
   "cell_type": "markdown",
   "id": "51370568",
   "metadata": {},
   "source": [
    "## Submission"
   ]
  },
  {
   "cell_type": "code",
   "execution_count": 12,
   "id": "fc21e327",
   "metadata": {},
   "outputs": [],
   "source": [
    "X=train.drop(columns=['SalePrice'])\n",
    "y=train['SalePrice']\n",
    "\n",
    "VR2.fit(X, y)\n",
    "\n",
    "pred=VR2.predict(test)"
   ]
  },
  {
   "cell_type": "code",
   "execution_count": 13,
   "id": "1106c35a",
   "metadata": {},
   "outputs": [],
   "source": [
    "pred = np.expm1(pred)\n",
    "sub=pd.read_csv('data/sample_submission.csv')\n",
    "sub['SalePrice']=pred\n",
    "sub.to_csv('./submission/VR_Ridge_and_EN.csv',index=False)"
   ]
  },
  {
   "cell_type": "markdown",
   "id": "40622c85",
   "metadata": {},
   "source": [
    "# XGB and Ridge"
   ]
  },
  {
   "cell_type": "markdown",
   "id": "7da56ade",
   "metadata": {},
   "source": [
    "## Validation"
   ]
  },
  {
   "cell_type": "code",
   "execution_count": 14,
   "id": "f6a35850",
   "metadata": {},
   "outputs": [
    {
     "data": {
      "text/plain": [
       "0.12318508759147237"
      ]
     },
     "execution_count": 14,
     "metadata": {},
     "output_type": "execute_result"
    }
   ],
   "source": [
    "VR3=VotingRegressor(estimators=[('xgb',XGB),('rg',RG)])\n",
    "\n",
    "X=train_set.drop('SalePrice',axis=1)\n",
    "y=train_set['SalePrice']\n",
    "\n",
    "VR3.fit(X,y)\n",
    "\n",
    "y_hat_1=VR3.predict(test_set.drop(columns=['SalePrice']))\n",
    "rmsle(np.expm1(test_set['SalePrice']),np.expm1(y_hat_1))"
   ]
  },
  {
   "cell_type": "markdown",
   "id": "1432c2eb",
   "metadata": {},
   "source": [
    "## Submission"
   ]
  },
  {
   "cell_type": "code",
   "execution_count": 15,
   "id": "daf7b618",
   "metadata": {},
   "outputs": [],
   "source": [
    "X=train.drop(columns=['SalePrice'])\n",
    "y=train['SalePrice']\n",
    "\n",
    "VR3.fit(X, y)\n",
    "\n",
    "pred=VR3.predict(test)"
   ]
  },
  {
   "cell_type": "code",
   "execution_count": 16,
   "id": "a066799a",
   "metadata": {},
   "outputs": [],
   "source": [
    "pred = np.expm1(pred)\n",
    "sub=pd.read_csv('data/sample_submission.csv')\n",
    "sub['SalePrice']=pred\n",
    "sub.to_csv('./submission/VR_XGB_and_Ridge.csv',index=False)"
   ]
  },
  {
   "cell_type": "markdown",
   "id": "36b96321",
   "metadata": {},
   "source": [
    "#The End#"
   ]
  }
 ],
 "metadata": {
  "kernelspec": {
   "display_name": "Python 3",
   "language": "python",
   "name": "python3"
  },
  "language_info": {
   "codemirror_mode": {
    "name": "ipython",
    "version": 3
   },
   "file_extension": ".py",
   "mimetype": "text/x-python",
   "name": "python",
   "nbconvert_exporter": "python",
   "pygments_lexer": "ipython3",
   "version": "3.8.8"
  },
  "toc": {
   "base_numbering": 1,
   "nav_menu": {},
   "number_sections": true,
   "sideBar": true,
   "skip_h1_title": false,
   "title_cell": "Table of Contents",
   "title_sidebar": "Contents",
   "toc_cell": false,
   "toc_position": {},
   "toc_section_display": true,
   "toc_window_display": false
  }
 },
 "nbformat": 4,
 "nbformat_minor": 5
}
