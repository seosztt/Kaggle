{
 "cells": [
  {
   "cell_type": "markdown",
   "metadata": {},
   "source": [
    "# Read data"
   ]
  },
  {
   "cell_type": "code",
   "execution_count": null,
   "metadata": {
    "ExecuteTime": {
     "end_time": "2021-09-10T06:13:38.112044Z",
     "start_time": "2021-09-10T06:13:38.104031Z"
    }
   },
   "outputs": [],
   "source": [
    "import pandas as pd"
   ]
  },
  {
   "cell_type": "code",
   "execution_count": null,
   "metadata": {
    "ExecuteTime": {
     "end_time": "2021-09-10T06:13:38.524533Z",
     "start_time": "2021-09-10T06:13:38.379885Z"
    }
   },
   "outputs": [],
   "source": [
    "train = pd.read_csv('data/train.csv')\n",
    "test = pd.read_csv('data/test.csv')\n",
    "train1 = pd.read_csv('data/train.csv')\n",
    "test1 = pd.read_csv('data/test.csv')"
   ]
  },
  {
   "cell_type": "markdown",
   "metadata": {
    "ExecuteTime": {
     "end_time": "2021-09-06T04:13:51.458253Z",
     "start_time": "2021-09-06T04:13:51.453200Z"
    }
   },
   "source": [
    "# EDA\n"
   ]
  },
  {
   "cell_type": "markdown",
   "metadata": {},
   "source": [
    "## Define Functions"
   ]
  },
  {
   "cell_type": "code",
   "execution_count": null,
   "metadata": {},
   "outputs": [],
   "source": [
    "import numpy as np\n",
    "import matplotlib.pyplot as plt\n",
    "import seaborn as sns\n",
    "import statsmodels.api as sm;\n",
    "from statsmodels.stats.outliers_influence import variance_inflation_factor"
   ]
  },
  {
   "cell_type": "code",
   "execution_count": null,
   "metadata": {
    "ExecuteTime": {
     "end_time": "2021-09-10T06:13:50.095925Z",
     "start_time": "2021-09-10T06:13:50.008609Z"
    }
   },
   "outputs": [],
   "source": [
    "def null_count(dataset):\n",
    "    '''\n",
    "    해당 데이터셋에 결측치가 있는 feature와 개수 출력\n",
    "    '''\n",
    "    return dataset.isnull().sum()[dataset.isnull().sum()!=0]\n",
    "    \n",
    "def null_check(feature):\n",
    "    '''\n",
    "    해당 feature의 결측치가 각 데이터셋에 얼마나 있는지 확인.\n",
    "    dataset도 input으로 받아야 할지 고민.\n",
    "    '''\n",
    "    print('--', feature, '--')\n",
    "    print('train :', train[feature].isnull().sum())\n",
    "    print('test :', test[feature].isnull().sum())\n",
    "\n",
    "def val_list(dataset, feature):\n",
    "    '''\n",
    "    해당 dataset의 feature가 가진 value들 중복 없이 리스트로 출력\n",
    "    '''\n",
    "    return list(set(dataset[feature].values.tolist()))\n",
    "# val_list = set(train['MSZoning'].values.tolist()) - 중복 없이 value종류 추출 \n",
    "# 근데 이건 순서가 내 맘대로 안됨\n",
    "\n",
    "def val_count(feature):\n",
    "    '''\n",
    "    train, test 데이터의 value_count를 같이 출력\n",
    "    input에 데이터셋도 받는게 좋을지..?\n",
    "    '''\n",
    "    print('-----', feature, '-----')\n",
    "    print('---- train ----')\n",
    "    print(train[feature].value_counts())\n",
    "    print('---- test ----')\n",
    "    print(test[feature].value_counts(),'\\n')\n",
    "\n",
    "def map_order(dataset, feature, val_list):\n",
    "    '''\n",
    "    Value들을 0부터 순서대로 매핑\n",
    "    데이터셋(train/test), feature명, 원하는 순서대로 value_list 입력\n",
    "    '''\n",
    "    mapping = dict(zip(val_list, range(len(val_list))))\n",
    "    return dataset[feature].map(mapping) #원하는 순서대로 0부터 매핑된 컬럼 출력\n",
    "\n",
    "\n",
    "def val_cat(dataset, feature):\n",
    "    '''\n",
    "    dataset, feature를 입력받아서 해당 feature에 대해 categorize\n",
    "    '''\n",
    "    val_list = set(dataset[feature].values.tolist())\n",
    "    for feat in val_list:\n",
    "        dataset[feat] = (dataset[feature]==feat).astype(int)\n",
    "    dataset = dataset.drop(feature, axis = 1)\n",
    "    \n",
    "def avg_price(feature):\n",
    "    '''\n",
    "    train set 내의 해당 feature의 value들에 따른 가격의 평균\n",
    "    '''\n",
    "    for feat in set(train[feature].values.tolist()):\n",
    "        mean_price = train['SalePrice'][train[feature] == feat].mean()\n",
    "        print(feat, ':', mean_price)\n",
    "        \n",
    "def price_plot(feature):\n",
    "    '''\n",
    "    train set 내의 해당 feature의 value에 따른 가격의 평균 plot 그래프로 출력\n",
    "    '''\n",
    "    train.groupby(feature).mean()['SalePrice'].plot()\n",
    "    \n",
    "def brief():\n",
    "    '''\n",
    "    feature의 분류를 브리핑\n",
    "    '''\n",
    "    print('그대로 넣을 거 {}개: \\n'.format(len(feature_raw)),feature_raw,'\\n')\n",
    "    print('모아놓고 그대로 넣을지? one-hot을 할지 등 {}개: \\n'.format(len(feature_dis)),feature_dis,'\\n')\n",
    "    print('매핑 할 데이터 {}개: \\n'.format(len(feature_map)),feature_map,'\\n')\n",
    "    print('one-hot encoding 시킬 것 {}개: \\n'.format(len(feature_onehot)),feature_onehot,'\\n')\n",
    "    print('따로 봐야 할 것 {}개: \\n'.format(len(feature_extra)),feature_extra,'\\n')\n",
    "    print('삭제할 것 {}개: \\n'.format(len(feature_del)),feature_del,'\\n')\n",
    "    \n",
    "def price_cor(feature):\n",
    "    '''\n",
    "    feature와 집값 사이의 상관계수를 프린트하고 반환\n",
    "    '''\n",
    "    print(round(float(pd.DataFrame(train.corr()['SalePrice']).loc[feature]),3))\n",
    "    return round(float(pd.DataFrame(train.corr()['SalePrice']).loc[feature]),3)\n",
    "\n",
    "def onehot(df, columns_list):\n",
    "    '''\n",
    "    columns_list에 있는 df의 column에 대하여 onehot인코딩하여 df을 반환\n",
    "    '''\n",
    "    import pandas as pd\n",
    "    len_list=len(columns_list)\n",
    "    for i in range(len_list):\n",
    "        len_cat=len(df.groupby(columns_list[i]))\n",
    "        catrzed=pd.get_dummies(df[columns_list[i]])\n",
    "        cat_list=[]\n",
    "        for j in range(len_cat):\n",
    "            cat_list.append(df.groupby(columns_list[i]).count().index[j])\n",
    "        df[cat_list]=catrzed\n",
    "        df=df.drop([columns_list[i]], axis=1)\n",
    "    return df\n",
    "\n",
    "def vif(feature_list):\n",
    "    '''\n",
    "    input : ['feat1', 'feat2'] 형식으로 입력\n",
    "    feature들 간의 vif 계산해서 출력.    \n",
    "    '''\n",
    "    X = train[feature_list].dropna()\n",
    "    df_vif = pd.DataFrame()\n",
    "    df_vif[\"VIF Factor\"] = [variance_inflation_factor(X.values, i) for i in range(X.shape[1])]\n",
    "    df_vif[\"features\"] = X.columns \n",
    "    return df_vif"
   ]
  },
  {
   "cell_type": "markdown",
   "metadata": {},
   "source": [
    "## Feature Classification"
   ]
  },
  {
   "cell_type": "markdown",
   "metadata": {},
   "source": [
    "- feature들을 하나씩 보면서 5가지 분류로 나눌 계획.  \n",
    "- 각 분류별로 리스트에 feature이름 저장.  \n",
    "  \n",
    "  \n",
    "- <span class=\"mark\">feature_raw</span> : 그대로 넣을거   \n",
    "     - 넓이, 길이 등 연속적인 숫자 데이터\n",
    "- <span class=\"mark\">feature_dis</span> : 모아놓고 그대로 넣을지? one-hot을 할지 등\n",
    "     - 개수, 유무(0/1) 등 discrete 한 숫자 데이터\n",
    "- <span class=\"mark\">feature_map</span> : 매핑 할 데이터   \n",
    "    - 경사도고 낮음 -> 높음 처럼 문자이지만 순서가 있어보이는 경우 숫자로 매핑\n",
    "- <span class=\"mark\">feature_onehot</span> : one-hot encoding 시킬 것\n",
    "    - 각각의 특성이 독립?이라서 컬럼을 새로 만들어 주는게 좋아 보이는 경우\n",
    "- <span class=\"mark\">feature_extra</span> : 따로 봐야 할 것  \n",
    "    - 그래프를 그려본다거나, 가격과의 관계를 직접 보고 판단\n",
    "- <span class=\"mark\">feature_del</span> : 삭제\n",
    "    - 필요 없다고 판단되어 삭제 할 데이터\n",
    "    "
   ]
  },
  {
   "cell_type": "code",
   "execution_count": null,
   "metadata": {
    "ExecuteTime": {
     "end_time": "2021-09-10T06:13:53.568786Z",
     "start_time": "2021-09-10T06:13:53.563787Z"
    }
   },
   "outputs": [],
   "source": [
    "feature_raw = []\n",
    "feature_dis = []\n",
    "feature_map = []\n",
    "feature_onehot = []\n",
    "feature_extra = []\n",
    "feature_del = []"
   ]
  },
  {
   "cell_type": "markdown",
   "metadata": {},
   "source": [
    "## Feature Analysis"
   ]
  },
  {
   "cell_type": "markdown",
   "metadata": {
    "heading_collapsed": true
   },
   "source": [
    "### ID"
   ]
  },
  {
   "cell_type": "markdown",
   "metadata": {
    "hidden": true
   },
   "source": [
    "#### 의견"
   ]
  },
  {
   "cell_type": "markdown",
   "metadata": {
    "ExecuteTime": {
     "end_time": "2021-09-06T06:24:54.937345Z",
     "start_time": "2021-09-06T06:24:54.930399Z"
    },
    "hidden": true
   },
   "source": [
    "그냥 아이디임.\n",
    "삭제해도 될 듯.\n",
    "- 동의"
   ]
  },
  {
   "cell_type": "markdown",
   "metadata": {
    "hidden": true
   },
   "source": [
    "#### 데이터 확인"
   ]
  },
  {
   "cell_type": "code",
   "execution_count": null,
   "metadata": {
    "ExecuteTime": {
     "end_time": "2021-09-10T06:14:00.266624Z",
     "start_time": "2021-09-10T06:14:00.256652Z"
    },
    "hidden": true
   },
   "outputs": [],
   "source": [
    "train['Id'].head()"
   ]
  },
  {
   "cell_type": "markdown",
   "metadata": {
    "hidden": true
   },
   "source": [
    "#### 분류"
   ]
  },
  {
   "cell_type": "code",
   "execution_count": null,
   "metadata": {
    "ExecuteTime": {
     "end_time": "2021-09-10T06:14:04.329605Z",
     "start_time": "2021-09-10T06:14:04.324617Z"
    },
    "hidden": true
   },
   "outputs": [],
   "source": [
    "feature_del.append('Id')"
   ]
  },
  {
   "cell_type": "markdown",
   "metadata": {},
   "source": [
    "### MSSubClass"
   ]
  },
  {
   "cell_type": "markdown",
   "metadata": {},
   "source": [
    "- The building class  \n",
    "- 빌딩의 클래스?  "
   ]
  },
  {
   "cell_type": "markdown",
   "metadata": {
    "heading_collapsed": true
   },
   "source": [
    "#### 의견\n",
    "- discrete한 값임\n",
    "- 숫자가 크다고 좋은게 아니라서. 다른 방법이 필요함."
   ]
  },
  {
   "cell_type": "markdown",
   "metadata": {},
   "source": [
    "#### 데이터 확인\n",
    "- 숫자가 크다고 무조건 좋지 않음 (ex 180)\n",
    "- 그래프 그려볼것"
   ]
  },
  {
   "cell_type": "code",
   "execution_count": null,
   "metadata": {
    "ExecuteTime": {
     "end_time": "2021-09-10T06:14:11.052407Z",
     "start_time": "2021-09-10T06:14:10.819720Z"
    }
   },
   "outputs": [],
   "source": [
    "price_plot('MSSubClass')"
   ]
  },
  {
   "cell_type": "markdown",
   "metadata": {},
   "source": [
    "#### 결측치 확인\n",
    "- 결측치 없음"
   ]
  },
  {
   "cell_type": "markdown",
   "metadata": {},
   "source": [
    "#### 분류\n",
    "- 숫자가 크다고 가격이 커지는게 아니므로 one-hot"
   ]
  },
  {
   "cell_type": "code",
   "execution_count": null,
   "metadata": {
    "ExecuteTime": {
     "end_time": "2021-09-10T06:14:15.080930Z",
     "start_time": "2021-09-10T06:14:15.074978Z"
    }
   },
   "outputs": [],
   "source": [
    "feature_onehot.append('MSSubClass')"
   ]
  },
  {
   "cell_type": "markdown",
   "metadata": {
    "heading_collapsed": true
   },
   "source": [
    "### MSZoning"
   ]
  },
  {
   "cell_type": "markdown",
   "metadata": {
    "hidden": true
   },
   "source": [
    "- The general zoning classification  \n",
    "- 주거구역 / 상업구역 등 집이 위치한 구역?을 나타냄."
   ]
  },
  {
   "cell_type": "markdown",
   "metadata": {
    "hidden": true
   },
   "source": [
    "#### 의견"
   ]
  },
  {
   "cell_type": "markdown",
   "metadata": {
    "hidden": true
   },
   "source": [
    "- C, FV 생각하면 one-hot encoding 하고 싶음.\n",
    "- 근데 RL, RM, RH간에는 순서?가 있어 보여서..  \n",
    "- 일단 매핑 해보자 1~5\n",
    "\n",
    "- 집값 평균 그래프 그려보니 5번이 젤 높고 4번이 젤 낮다\n",
    "- 순서 조정 필요할듯, 또는 원핫이코딩이 나을 수도."
   ]
  },
  {
   "cell_type": "markdown",
   "metadata": {
    "hidden": true
   },
   "source": [
    "#### 데이터 확인\n",
    "- RL -> RM -> RH 순으로 인구 밀집도가 높음.(얘네가 데이터의 대부분임)  \n",
    "- 나머지 FV(물에 떠있는 집;;), C(상업지구)는 어떻게 처리할지..  "
   ]
  },
  {
   "cell_type": "code",
   "execution_count": null,
   "metadata": {
    "ExecuteTime": {
     "end_time": "2021-09-10T06:14:21.587744Z",
     "start_time": "2021-09-10T06:14:21.577397Z"
    },
    "hidden": true
   },
   "outputs": [],
   "source": [
    "val_count('MSZoning')"
   ]
  },
  {
   "cell_type": "code",
   "execution_count": null,
   "metadata": {
    "ExecuteTime": {
     "end_time": "2021-09-10T06:14:21.974084Z",
     "start_time": "2021-09-10T06:14:21.749493Z"
    },
    "hidden": true
   },
   "outputs": [],
   "source": [
    "price_plot('MSZoning')"
   ]
  },
  {
   "cell_type": "markdown",
   "metadata": {
    "hidden": true
   },
   "source": [
    "#### 결측치 확인\n",
    "- test셋에 결측치 4개.\n",
    "- 데이터를 보면 RL이 압도적으로 많으니까.. RL로 결측 채워보자"
   ]
  },
  {
   "cell_type": "code",
   "execution_count": null,
   "metadata": {
    "ExecuteTime": {
     "end_time": "2021-09-10T06:14:23.236084Z",
     "start_time": "2021-09-10T06:14:23.228146Z"
    },
    "hidden": true
   },
   "outputs": [],
   "source": [
    "null_check('MSZoning')"
   ]
  },
  {
   "cell_type": "code",
   "execution_count": null,
   "metadata": {
    "ExecuteTime": {
     "end_time": "2021-09-10T06:14:23.404633Z",
     "start_time": "2021-09-10T06:14:23.396654Z"
    },
    "hidden": true
   },
   "outputs": [],
   "source": [
    "test['MSZoning'].fillna('RL', inplace=True)\n",
    "null_check('MSZoning')"
   ]
  },
  {
   "cell_type": "markdown",
   "metadata": {
    "hidden": true
   },
   "source": [
    "#### 매핑\n",
    "- C, FV 생각하면 <span class=\"mark\">카테고라이즈</span> 하고 싶은데 근데 RL, RM, RH간에는 순서?가 있어 보여서..  \n",
    "->일단 RL -> RM -> RH -> C -> FV 순으로 숫자로 매핑해보기로(0~4)\n",
    "- 그냥 one-hot 하기! C 제외."
   ]
  },
  {
   "cell_type": "code",
   "execution_count": null,
   "metadata": {
    "ExecuteTime": {
     "end_time": "2021-09-10T06:14:24.806430Z",
     "start_time": "2021-09-10T06:14:24.803157Z"
    },
    "hidden": true
   },
   "outputs": [],
   "source": [
    "# RL -> RM -> RH -> C -> FV \n",
    "#map_MSZoning = {'RL':1, 'RM':2, 'RH':3, 'C (all)':4, 'FV':5}\n",
    "#train['MSZoning'] = train['MSZoning'].map(map_MSZoning)\n",
    "#test['MSZoning'] = test['MSZoning'].map(map_MSZoning)"
   ]
  },
  {
   "cell_type": "markdown",
   "metadata": {
    "hidden": true
   },
   "source": [
    "#### 분류\n",
    "- C 제외하고 one-hot"
   ]
  },
  {
   "cell_type": "code",
   "execution_count": null,
   "metadata": {
    "ExecuteTime": {
     "end_time": "2021-09-10T06:14:26.260674Z",
     "start_time": "2021-09-10T06:14:26.254718Z"
    },
    "hidden": true
   },
   "outputs": [],
   "source": [
    "feature_onehot.append('MSZoning')\n",
    "#feature_del.append('MSZoning_C (all)')"
   ]
  },
  {
   "cell_type": "markdown",
   "metadata": {
    "heading_collapsed": true
   },
   "source": [
    "### *LotFrontage / LotArea"
   ]
  },
  {
   "cell_type": "markdown",
   "metadata": {
    "hidden": true
   },
   "source": [
    "- LotFrontage : Linear feet of street connected to property\n",
    "- LotArea : Lot size in square feet"
   ]
  },
  {
   "cell_type": "markdown",
   "metadata": {
    "hidden": true
   },
   "source": [
    "#### 의견"
   ]
  },
  {
   "cell_type": "markdown",
   "metadata": {
    "hidden": true
   },
   "source": [
    "- 둘 다 길이, 넓이로 숫자 데이터라서 그냥 넣을 것.\n",
    "- <span class=\"mark\">값이 큰데 어떻게 normalize할지?</span>\n",
    "- <span class=\"mark\">길이가 길면, 면적도 넓어질텐데 둘을 하나로 합칠 수 있나?</span>"
   ]
  },
  {
   "cell_type": "markdown",
   "metadata": {
    "hidden": true
   },
   "source": [
    "#### 데이터 확인"
   ]
  },
  {
   "cell_type": "code",
   "execution_count": null,
   "metadata": {
    "ExecuteTime": {
     "end_time": "2021-09-10T06:14:32.736495Z",
     "start_time": "2021-09-10T06:14:32.731477Z"
    },
    "cell_style": "split",
    "hidden": true
   },
   "outputs": [],
   "source": [
    "#val_count('LotFrontage')"
   ]
  },
  {
   "cell_type": "code",
   "execution_count": null,
   "metadata": {
    "ExecuteTime": {
     "end_time": "2021-09-10T06:14:32.904043Z",
     "start_time": "2021-09-10T06:14:32.901028Z"
    },
    "cell_style": "split",
    "hidden": true
   },
   "outputs": [],
   "source": [
    "#val_count('LotArea')"
   ]
  },
  {
   "cell_type": "code",
   "execution_count": null,
   "metadata": {
    "ExecuteTime": {
     "end_time": "2021-09-10T06:14:33.077578Z",
     "start_time": "2021-09-10T06:14:33.074567Z"
    },
    "hidden": true,
    "scrolled": true
   },
   "outputs": [],
   "source": [
    "#train.plot(x='LotFrontage',y='SalePrice',kind='scatter')"
   ]
  },
  {
   "cell_type": "code",
   "execution_count": null,
   "metadata": {
    "ExecuteTime": {
     "end_time": "2021-09-10T06:14:33.243134Z",
     "start_time": "2021-09-10T06:14:33.238158Z"
    },
    "hidden": true
   },
   "outputs": [],
   "source": [
    "#train.plot(x='LotFrontage',y='SalePrice',kind='scatter',xlim=(0,250))"
   ]
  },
  {
   "cell_type": "code",
   "execution_count": null,
   "metadata": {
    "ExecuteTime": {
     "end_time": "2021-09-10T06:14:33.411679Z",
     "start_time": "2021-09-10T06:14:33.406710Z"
    },
    "hidden": true
   },
   "outputs": [],
   "source": [
    "#train.plot(x='LotArea',y='SalePrice',kind='scatter')"
   ]
  },
  {
   "cell_type": "code",
   "execution_count": null,
   "metadata": {
    "ExecuteTime": {
     "end_time": "2021-09-10T06:14:45.180223Z",
     "start_time": "2021-09-10T06:14:45.176263Z"
    },
    "hidden": true
   },
   "outputs": [],
   "source": [
    "#train.plot(x='LotArea',y='SalePrice',kind='scatter', xlim=(0,50000))"
   ]
  },
  {
   "cell_type": "markdown",
   "metadata": {
    "hidden": true
   },
   "source": [
    "#### 결측치 확인\n",
    "- LotFrontage에 결측치가 꽤 많음\n",
    "- 넓이에 따라서 (넓으면 길이도 길게) 넣어주면 좋을거같음\n",
    "\n",
    "- LotFrontage의 산점도를 보면 이상값이 있음\n",
    "- 이상값을 제외하고 그래프를 그려보기 위해 x값 범위 설정했더니 양의 상관관계가 있는 듯 하지만 강하지 않음.\n",
    "- LotFrontage와 LotArea의 산점도 분포가 매우 유사하다.\n",
    "- 이상값을 어떻게 처리해야 하나?"
   ]
  },
  {
   "cell_type": "code",
   "execution_count": null,
   "metadata": {
    "ExecuteTime": {
     "end_time": "2021-09-10T06:14:47.407786Z",
     "start_time": "2021-09-10T06:14:47.393819Z"
    },
    "hidden": true
   },
   "outputs": [],
   "source": [
    "null_check('LotFrontage'), null_check('LotArea')"
   ]
  },
  {
   "cell_type": "markdown",
   "metadata": {
    "hidden": true
   },
   "source": [
    "- 길이 / 넓이 의 비율을 평균내서, 이 비율을 넓이에 곱해줘서 결측치를 채워줄거임.\n",
    "- 다행히도 넓이는 결측이 없어서 ㅎㅎ (다행히?다행이?)"
   ]
  },
  {
   "cell_type": "code",
   "execution_count": null,
   "metadata": {
    "ExecuteTime": {
     "end_time": "2021-09-10T06:14:48.745161Z",
     "start_time": "2021-09-10T06:14:48.722571Z"
    },
    "hidden": true
   },
   "outputs": [],
   "source": [
    "#Lot_ratio : train/test 데이터의 비율을 다 구해서 평균\n",
    "Lot_ratio = ((train['LotFrontage']/train['LotArea']).mean() + (test['LotFrontage']/test['LotArea']).mean())/2\n",
    "train['LotFrontage'].fillna(train['LotArea']*Lot_ratio, inplace=True)\n",
    "test['LotFrontage'].fillna(test['LotArea']*Lot_ratio, inplace=True) "
   ]
  },
  {
   "cell_type": "code",
   "execution_count": null,
   "metadata": {
    "ExecuteTime": {
     "end_time": "2021-09-10T06:14:48.876842Z",
     "start_time": "2021-09-10T06:14:48.868894Z"
    },
    "hidden": true
   },
   "outputs": [],
   "source": [
    "null_check('LotFrontage')"
   ]
  },
  {
   "cell_type": "markdown",
   "metadata": {
    "hidden": true
   },
   "source": [
    "#### 분류\n",
    "- LotFrontage를 일단 제외 / LotArea만 넣기\n",
    "- Normalize에 대한 고민."
   ]
  },
  {
   "cell_type": "code",
   "execution_count": null,
   "metadata": {
    "ExecuteTime": {
     "end_time": "2021-09-10T06:14:50.209335Z",
     "start_time": "2021-09-10T06:14:50.204342Z"
    },
    "hidden": true
   },
   "outputs": [],
   "source": [
    "feature_del.append('LotFrontage')\n",
    "feature_raw.append('LotArea')"
   ]
  },
  {
   "cell_type": "markdown",
   "metadata": {
    "heading_collapsed": true
   },
   "source": [
    "### Street / Alley"
   ]
  },
  {
   "cell_type": "markdown",
   "metadata": {
    "hidden": true
   },
   "source": [
    "- 거리, 골목의 유형?"
   ]
  },
  {
   "cell_type": "markdown",
   "metadata": {
    "hidden": true
   },
   "source": [
    "#### 의견"
   ]
  },
  {
   "cell_type": "markdown",
   "metadata": {
    "hidden": true
   },
   "source": [
    "- Street는 Gravl, Pave를 categorize\n",
    "- Alley는 NA 까지 3개로 categorize?\n",
    "- <span class=\"mark\">그냥 0/1/2를 쓰면 안되는지?</span>\n",
    "\n",
    "- Street는 Gravel 6개밖에 안되서 무의미한 feature 아닌가?\n",
    "- Alley는 pave가 Gravel보다 좋아 보이긴 하다. 그러나 전체 데이터의 90%이상을 차지하는 NA가 Gravel보다 좋은 것 같인 한데 pave와는 우열을 가릴 수 없다.\n",
    "- 그냥 NA가 중간이라 치고 0,1,2 넣는 게 나으려나"
   ]
  },
  {
   "cell_type": "markdown",
   "metadata": {
    "hidden": true
   },
   "source": [
    "#### 데이터 확인\n",
    "- Gravel / Pave / NA(골목이 없음)"
   ]
  },
  {
   "cell_type": "code",
   "execution_count": null,
   "metadata": {
    "ExecuteTime": {
     "end_time": "2021-09-10T06:14:56.649753Z",
     "start_time": "2021-09-10T06:14:56.644735Z"
    },
    "hidden": true
   },
   "outputs": [],
   "source": [
    "#val_count('Street')\n",
    "#val_count('Alley')"
   ]
  },
  {
   "cell_type": "code",
   "execution_count": null,
   "metadata": {
    "ExecuteTime": {
     "end_time": "2021-09-10T06:14:56.830243Z",
     "start_time": "2021-09-10T06:14:56.825285Z"
    },
    "hidden": true
   },
   "outputs": [],
   "source": [
    "#train.boxplot(column=['SalePrice'],by='Alley')"
   ]
  },
  {
   "cell_type": "code",
   "execution_count": null,
   "metadata": {
    "ExecuteTime": {
     "end_time": "2021-09-10T06:14:56.998790Z",
     "start_time": "2021-09-10T06:14:56.993806Z"
    },
    "hidden": true
   },
   "outputs": [],
   "source": [
    "# NA값만 분포 확인\n",
    "#train[train['Alley']=='NA'].plot(y='SalePrice',kind='hist')"
   ]
  },
  {
   "cell_type": "markdown",
   "metadata": {
    "hidden": true
   },
   "source": [
    "#### 결측치 확인"
   ]
  },
  {
   "cell_type": "markdown",
   "metadata": {
    "hidden": true
   },
   "source": [
    "- Alley에 골목이 없는 경우 null 값이 들어가 있는데, 'NA'로 채워주기"
   ]
  },
  {
   "cell_type": "code",
   "execution_count": null,
   "metadata": {
    "ExecuteTime": {
     "end_time": "2021-09-10T06:14:59.630139Z",
     "start_time": "2021-09-10T06:14:59.626148Z"
    },
    "hidden": true
   },
   "outputs": [],
   "source": [
    "#null_check('Street'), null_check('Alley')"
   ]
  },
  {
   "cell_type": "code",
   "execution_count": null,
   "metadata": {
    "ExecuteTime": {
     "end_time": "2021-09-10T06:14:59.796453Z",
     "start_time": "2021-09-10T06:14:59.788477Z"
    },
    "hidden": true
   },
   "outputs": [],
   "source": [
    "train['Alley'].fillna('NA', inplace=True)\n",
    "test['Alley'].fillna('NA', inplace=True)"
   ]
  },
  {
   "cell_type": "code",
   "execution_count": null,
   "metadata": {
    "ExecuteTime": {
     "end_time": "2021-09-10T06:14:59.970531Z",
     "start_time": "2021-09-10T06:14:59.961530Z"
    },
    "hidden": true
   },
   "outputs": [],
   "source": [
    "null_check('Alley')"
   ]
  },
  {
   "cell_type": "markdown",
   "metadata": {
    "hidden": true
   },
   "source": [
    "#### 분류\n",
    "- feature_onehot에 추가, 한꺼번에 one-hot encoding\n",
    "- Street는 제거. "
   ]
  },
  {
   "cell_type": "code",
   "execution_count": null,
   "metadata": {
    "ExecuteTime": {
     "end_time": "2021-09-10T06:15:01.514977Z",
     "start_time": "2021-09-10T06:15:01.510926Z"
    },
    "hidden": true
   },
   "outputs": [],
   "source": [
    "feature_onehot.append('Street')\n",
    "feature_onehot.append('Alley')"
   ]
  },
  {
   "cell_type": "markdown",
   "metadata": {
    "heading_collapsed": true
   },
   "source": [
    "### LotShape"
   ]
  },
  {
   "cell_type": "markdown",
   "metadata": {
    "hidden": true
   },
   "source": [
    "- General shape of property"
   ]
  },
  {
   "cell_type": "markdown",
   "metadata": {
    "hidden": true
   },
   "source": [
    "#### 의견"
   ]
  },
  {
   "cell_type": "markdown",
   "metadata": {
    "hidden": true
   },
   "source": [
    "- Reg -> IR3 순으로 1,2,3,4 으로 매핑"
   ]
  },
  {
   "cell_type": "markdown",
   "metadata": {
    "hidden": true
   },
   "source": [
    "#### 데이터 확인"
   ]
  },
  {
   "cell_type": "markdown",
   "metadata": {
    "hidden": true
   },
   "source": [
    "- Regular부터, IR의 숫자가 커질수록 안좋은거.\n",
    "- 문자 그대로 의미는 그럴 것 같은데 평균은 3과 4가 뒤집어져있네 왜일까...\n",
    "- 표본이 적어서 그런듯... 4가 10개밖에 없어서 평균이 왜곡됐나보당...\n",
    "- 4는 지워야 하나?"
   ]
  },
  {
   "cell_type": "code",
   "execution_count": null,
   "metadata": {
    "ExecuteTime": {
     "end_time": "2021-09-10T06:15:15.392025Z",
     "start_time": "2021-09-10T06:15:15.387018Z"
    },
    "hidden": true
   },
   "outputs": [],
   "source": [
    "#val_count('LotShape')"
   ]
  },
  {
   "cell_type": "code",
   "execution_count": null,
   "metadata": {
    "ExecuteTime": {
     "end_time": "2021-09-10T06:15:15.566541Z",
     "start_time": "2021-09-10T06:15:15.561585Z"
    },
    "hidden": true,
    "scrolled": true
   },
   "outputs": [],
   "source": [
    "#price_plot('LotShape')"
   ]
  },
  {
   "cell_type": "code",
   "execution_count": null,
   "metadata": {
    "ExecuteTime": {
     "end_time": "2021-09-10T06:15:15.745123Z",
     "start_time": "2021-09-10T06:15:15.741132Z"
    },
    "hidden": true,
    "scrolled": true
   },
   "outputs": [],
   "source": [
    "#train.boxplot(column=['SalePrice'],by='LotShape')"
   ]
  },
  {
   "cell_type": "markdown",
   "metadata": {
    "hidden": true
   },
   "source": [
    "#### 결측치 확인\n",
    "- 없음"
   ]
  },
  {
   "cell_type": "markdown",
   "metadata": {
    "hidden": true
   },
   "source": [
    "#### 매핑\n",
    "- Reg -> IR3 을 1->4 순으로 매핑"
   ]
  },
  {
   "cell_type": "code",
   "execution_count": null,
   "metadata": {
    "ExecuteTime": {
     "end_time": "2021-09-10T06:15:18.358850Z",
     "start_time": "2021-09-10T06:15:18.354861Z"
    },
    "hidden": true
   },
   "outputs": [],
   "source": [
    "# map_LotShape = {'Reg':1, 'IR1':2, 'IR2':3, 'IR3':4}\n",
    "# train['LotShape'] = train['LotShape'].map(map_LotShape)\n",
    "# test['LotShape'] = test['LotShape'].map(map_LotShape)"
   ]
  },
  {
   "cell_type": "code",
   "execution_count": null,
   "metadata": {
    "ExecuteTime": {
     "end_time": "2021-09-10T06:15:18.533525Z",
     "start_time": "2021-09-10T06:15:18.528585Z"
    },
    "hidden": true
   },
   "outputs": [],
   "source": [
    "# val_count('LotShape')"
   ]
  },
  {
   "cell_type": "markdown",
   "metadata": {
    "hidden": true
   },
   "source": [
    "#### 분류\n",
    "- IR3 지우고 one-hot"
   ]
  },
  {
   "cell_type": "code",
   "execution_count": null,
   "metadata": {
    "ExecuteTime": {
     "end_time": "2021-09-10T06:15:19.931321Z",
     "start_time": "2021-09-10T06:15:19.926336Z"
    },
    "hidden": true
   },
   "outputs": [],
   "source": [
    "feature_onehot.append('LotShape')\n",
    "#feature_del.append('LotShape_IR3')"
   ]
  },
  {
   "cell_type": "markdown",
   "metadata": {
    "heading_collapsed": true
   },
   "source": [
    "### LandContour"
   ]
  },
  {
   "cell_type": "markdown",
   "metadata": {
    "hidden": true
   },
   "source": [
    "- Flatness of the property\n",
    "- 경사도 : 얼마나 평평한지?"
   ]
  },
  {
   "cell_type": "markdown",
   "metadata": {
    "hidden": true
   },
   "source": [
    "#### 의견"
   ]
  },
  {
   "cell_type": "markdown",
   "metadata": {
    "hidden": true
   },
   "source": [
    "- 경사가 낮음 -> 높음 순으로 매핑\n",
    "- Lv1 -> Low -> HLS -> Bnk 순으로 매핑\n",
    "- <span class=\"mark\">여기도 0이 너무 많은데..</span>\n",
    "- 의외로 Hillside가 젤 높고 Bank가 제일 낮네. 데이터가 너무 적어서 왜곡이 있는 건지.. 아님 막 베버리 힐즈? 처럼 적당한 언덕이 부자동네인 건지... 우리나라에도 평창동? 이런데가 약간 산간 인데 고급주택가잖어.. 뭔가 도시를 내려다 볼 수 있어야 비싼 건가? 그렇지만 레알 절벽인 곳은 집값 최하인 거고?"
   ]
  },
  {
   "cell_type": "markdown",
   "metadata": {
    "hidden": true
   },
   "source": [
    "#### 데이터 확인\n",
    "- Lvl : 거의 평지 / Near Flat/Level \n",
    "- Bnk : 경사가 가장 심하다고 봐야하나? / Bank - Quick and Significant rise\n",
    "- HLS : 경사가 꽤 있음 / Hillside - Significant slope\n",
    "- Low : 경사가 낮음 / Depression"
   ]
  },
  {
   "cell_type": "code",
   "execution_count": null,
   "metadata": {
    "ExecuteTime": {
     "end_time": "2021-09-10T06:15:36.705965Z",
     "start_time": "2021-09-10T06:15:36.701946Z"
    },
    "hidden": true,
    "scrolled": true
   },
   "outputs": [],
   "source": [
    "#val_count('LandContour')"
   ]
  },
  {
   "cell_type": "code",
   "execution_count": null,
   "metadata": {
    "ExecuteTime": {
     "end_time": "2021-09-10T06:15:36.851996Z",
     "start_time": "2021-09-10T06:15:36.848006Z"
    },
    "hidden": true
   },
   "outputs": [],
   "source": [
    "#price_plot('LandContour')"
   ]
  },
  {
   "cell_type": "markdown",
   "metadata": {
    "heading_collapsed": true,
    "hidden": true
   },
   "source": [
    "#### 결측치 확인\n",
    "- 없음"
   ]
  },
  {
   "cell_type": "markdown",
   "metadata": {
    "hidden": true
   },
   "source": [
    "#### 매핑"
   ]
  },
  {
   "cell_type": "code",
   "execution_count": null,
   "metadata": {
    "ExecuteTime": {
     "end_time": "2021-09-10T06:15:39.333335Z",
     "start_time": "2021-09-10T06:15:39.328347Z"
    },
    "hidden": true
   },
   "outputs": [],
   "source": [
    "# map_LandContour = {'Lvl':1, 'Low':2, 'HLS':3, 'Bnk':4}\n",
    "# train['LandContour'] = train['LandContour'].map(map_LandContour)\n",
    "# test['LandContour'] = test['LandContour'].map(map_LandContour)"
   ]
  },
  {
   "cell_type": "code",
   "execution_count": null,
   "metadata": {
    "ExecuteTime": {
     "end_time": "2021-09-10T06:15:39.491913Z",
     "start_time": "2021-09-10T06:15:39.487956Z"
    },
    "hidden": true
   },
   "outputs": [],
   "source": [
    "# val_count('LandContour')"
   ]
  },
  {
   "cell_type": "markdown",
   "metadata": {
    "hidden": true
   },
   "source": [
    "#### 분류\n",
    "- 확실한 순서가 보이지 않아서 one-hot"
   ]
  },
  {
   "cell_type": "code",
   "execution_count": null,
   "metadata": {
    "ExecuteTime": {
     "end_time": "2021-09-10T06:15:40.812016Z",
     "start_time": "2021-09-10T06:15:40.806031Z"
    },
    "hidden": true
   },
   "outputs": [],
   "source": [
    "feature_onehot.append('LandContour')"
   ]
  },
  {
   "cell_type": "markdown",
   "metadata": {
    "heading_collapsed": true
   },
   "source": [
    "### Utilities"
   ]
  },
  {
   "cell_type": "markdown",
   "metadata": {
    "hidden": true
   },
   "source": [
    "#### 의견"
   ]
  },
  {
   "cell_type": "markdown",
   "metadata": {
    "hidden": true
   },
   "source": [
    "train set에서 1개 빼고 모두 AllPub이고  \n",
    "test set에도 결측 2개 제외하고는 모두 AllPub.  \n",
    "-> 제거해도 될지도?\n",
    "\n",
    "- 동의. 1개는 의미 없는 듯."
   ]
  },
  {
   "cell_type": "markdown",
   "metadata": {
    "hidden": true
   },
   "source": [
    "#### 데이터 확인 / 결측치 확인"
   ]
  },
  {
   "cell_type": "markdown",
   "metadata": {
    "hidden": true
   },
   "source": [
    "- AllPub : 다 있음\n",
    "- NoSewr : 전기, 가스, 물\n",
    "- NoSeWa : 전기, 가스\n",
    "- ELO : 전기만 있음"
   ]
  },
  {
   "cell_type": "code",
   "execution_count": null,
   "metadata": {
    "ExecuteTime": {
     "end_time": "2021-09-10T06:15:46.546557Z",
     "start_time": "2021-09-10T06:15:46.542501Z"
    },
    "hidden": true
   },
   "outputs": [],
   "source": [
    "#val_count('Utilities')"
   ]
  },
  {
   "cell_type": "markdown",
   "metadata": {
    "hidden": true
   },
   "source": [
    "#### 분류\n",
    "- 컬럼을 지워버릴거니까 feature_del에 추가."
   ]
  },
  {
   "cell_type": "code",
   "execution_count": null,
   "metadata": {
    "ExecuteTime": {
     "end_time": "2021-09-10T06:15:47.843334Z",
     "start_time": "2021-09-10T06:15:47.839342Z"
    },
    "hidden": true
   },
   "outputs": [],
   "source": [
    "feature_del.append('Utilities')"
   ]
  },
  {
   "cell_type": "markdown",
   "metadata": {
    "heading_collapsed": true
   },
   "source": [
    "### *LotConfig"
   ]
  },
  {
   "cell_type": "markdown",
   "metadata": {
    "hidden": true
   },
   "source": [
    "- Lot Configuration\n",
    "- Lot(마당/마당+집?)의 구성"
   ]
  },
  {
   "cell_type": "markdown",
   "metadata": {
    "hidden": true
   },
   "source": [
    "#### 의견"
   ]
  },
  {
   "cell_type": "markdown",
   "metadata": {
    "hidden": true
   },
   "source": [
    "- 일단 one-hot encoding\n",
    "- 그래프 그려보기?\n",
    "- FR3는 표본이 너무 적은 거 같고. 나머지는 CulDSac말고는 다 비슷한듯?\n",
    "- CulDSac과 그 외를 0과 1로만 구분하는 것은 어떨런지?"
   ]
  },
  {
   "cell_type": "markdown",
   "metadata": {
    "hidden": true
   },
   "source": [
    "#### 데이터 확인\n",
    "- 대부분 inside"
   ]
  },
  {
   "cell_type": "code",
   "execution_count": null,
   "metadata": {
    "ExecuteTime": {
     "end_time": "2021-09-10T06:15:53.802575Z",
     "start_time": "2021-09-10T06:15:53.798488Z"
    },
    "hidden": true
   },
   "outputs": [],
   "source": [
    "#val_count('LotConfig')"
   ]
  },
  {
   "cell_type": "markdown",
   "metadata": {
    "hidden": true
   },
   "source": [
    "- 그래프 그려보기"
   ]
  },
  {
   "cell_type": "code",
   "execution_count": null,
   "metadata": {
    "ExecuteTime": {
     "end_time": "2021-09-10T06:15:55.289477Z",
     "start_time": "2021-09-10T06:15:55.284500Z"
    },
    "hidden": true,
    "scrolled": true
   },
   "outputs": [],
   "source": [
    "#avg_price('LotConfig')"
   ]
  },
  {
   "cell_type": "code",
   "execution_count": null,
   "metadata": {
    "ExecuteTime": {
     "end_time": "2021-09-10T06:15:55.426286Z",
     "start_time": "2021-09-10T06:15:55.423348Z"
    },
    "hidden": true
   },
   "outputs": [],
   "source": [
    "#price_plot('LotConfig')"
   ]
  },
  {
   "cell_type": "markdown",
   "metadata": {
    "hidden": true
   },
   "source": [
    "#### 결측치 확인\n",
    "- 없음"
   ]
  },
  {
   "cell_type": "markdown",
   "metadata": {
    "hidden": true
   },
   "source": [
    "#### 분류"
   ]
  },
  {
   "cell_type": "markdown",
   "metadata": {
    "hidden": true
   },
   "source": [
    "- FR3 제외하고 onehot"
   ]
  },
  {
   "cell_type": "code",
   "execution_count": null,
   "metadata": {
    "ExecuteTime": {
     "end_time": "2021-09-10T06:15:58.942358Z",
     "start_time": "2021-09-10T06:15:58.938364Z"
    },
    "hidden": true
   },
   "outputs": [],
   "source": [
    "feature_onehot.append('LotConfig')\n",
    "#feature_del.append('LotConfig_FR3')"
   ]
  },
  {
   "cell_type": "markdown",
   "metadata": {
    "heading_collapsed": true
   },
   "source": [
    "### LandSlope"
   ]
  },
  {
   "cell_type": "markdown",
   "metadata": {
    "hidden": true
   },
   "source": [
    "- 경사도\n",
    "- Gentle -> Moderate -> Severe"
   ]
  },
  {
   "cell_type": "markdown",
   "metadata": {
    "hidden": true
   },
   "source": [
    "#### 의견"
   ]
  },
  {
   "cell_type": "markdown",
   "metadata": {
    "ExecuteTime": {
     "end_time": "2021-09-06T06:42:51.534414Z",
     "start_time": "2021-09-06T06:42:51.528430Z"
    },
    "hidden": true
   },
   "source": [
    "- 위에 LandContour랑 차이가 뭔지? / 합치거나 할 수 있을지?\n",
    "- 일단 경사도 순으로 매핑\n",
    "- 여기도 LandContour랑 비슷한 맥락이네. 경사도가 클수록 비싼듯? Sev가 13개 뿐이어서 엄청 유의미하진 않은 거 같지만."
   ]
  },
  {
   "cell_type": "markdown",
   "metadata": {
    "hidden": true
   },
   "source": [
    "#### 데이터 확인"
   ]
  },
  {
   "cell_type": "markdown",
   "metadata": {
    "hidden": true
   },
   "source": [
    "- 대부분 다 젠틀하다고 나옴."
   ]
  },
  {
   "cell_type": "code",
   "execution_count": null,
   "metadata": {
    "ExecuteTime": {
     "end_time": "2021-09-10T06:16:05.978192Z",
     "start_time": "2021-09-10T06:16:05.973235Z"
    },
    "hidden": true
   },
   "outputs": [],
   "source": [
    "#val_count('LandSlope')"
   ]
  },
  {
   "cell_type": "code",
   "execution_count": null,
   "metadata": {
    "ExecuteTime": {
     "end_time": "2021-09-10T06:16:06.122107Z",
     "start_time": "2021-09-10T06:16:06.118115Z"
    },
    "hidden": true
   },
   "outputs": [],
   "source": [
    "#price_plot('LandSlope')"
   ]
  },
  {
   "cell_type": "markdown",
   "metadata": {
    "hidden": true
   },
   "source": [
    "#### 결측치 확인\n",
    "- 없음"
   ]
  },
  {
   "cell_type": "code",
   "execution_count": null,
   "metadata": {
    "ExecuteTime": {
     "end_time": "2021-09-10T06:16:07.432412Z",
     "start_time": "2021-09-10T06:16:07.427458Z"
    },
    "hidden": true
   },
   "outputs": [],
   "source": [
    "#null_check('LandSlope')"
   ]
  },
  {
   "cell_type": "markdown",
   "metadata": {
    "hidden": true
   },
   "source": [
    "#### 매핑\n",
    "- Gtl -> Mod -> Sev 순으로"
   ]
  },
  {
   "cell_type": "code",
   "execution_count": null,
   "metadata": {
    "ExecuteTime": {
     "end_time": "2021-09-10T06:16:08.853155Z",
     "start_time": "2021-09-10T06:16:08.848173Z"
    },
    "hidden": true
   },
   "outputs": [],
   "source": [
    "# map_LandSlope = {'Gtl':1, 'Mod':2, 'Sev':3}\n",
    "# train['LandSlope'] = train['LandSlope'].map(map_LandSlope)\n",
    "# test['LandSlope'] = test['LandSlope'].map(map_LandSlope)"
   ]
  },
  {
   "cell_type": "code",
   "execution_count": null,
   "metadata": {
    "ExecuteTime": {
     "end_time": "2021-09-10T06:16:09.006525Z",
     "start_time": "2021-09-10T06:16:09.001541Z"
    },
    "hidden": true
   },
   "outputs": [],
   "source": [
    "# val_count('LandSlope')"
   ]
  },
  {
   "cell_type": "markdown",
   "metadata": {
    "hidden": true
   },
   "source": [
    "#### 분류\n",
    "- Sev 제외 one-hot"
   ]
  },
  {
   "cell_type": "code",
   "execution_count": null,
   "metadata": {
    "ExecuteTime": {
     "end_time": "2021-09-10T06:16:10.394033Z",
     "start_time": "2021-09-10T06:16:10.389051Z"
    },
    "hidden": true
   },
   "outputs": [],
   "source": [
    "feature_onehot.append('LandSlope')\n",
    "#feature_del.append('LandSlope_Sev')"
   ]
  },
  {
   "cell_type": "markdown",
   "metadata": {
    "heading_collapsed": true
   },
   "source": [
    "### !!! Neighborhood"
   ]
  },
  {
   "cell_type": "markdown",
   "metadata": {
    "hidden": true
   },
   "source": [
    "- 도시 경계? 어디랑 인접해있는지?"
   ]
  },
  {
   "cell_type": "markdown",
   "metadata": {
    "hidden": true
   },
   "source": [
    "#### 의견"
   ]
  },
  {
   "cell_type": "markdown",
   "metadata": {
    "hidden": true
   },
   "source": [
    "- 모르겠다 근데 one-hot을 하기에도 종류가 너무 많은거 아닌가?\n",
    "- 원핫 하기엔 너무 많긴 하다. 아예 그룹바이 평균 집값을 넣어버리는 건 해괴한 짓인가?"
   ]
  },
  {
   "cell_type": "markdown",
   "metadata": {
    "hidden": true
   },
   "source": [
    "#### 데이터 확인"
   ]
  },
  {
   "cell_type": "markdown",
   "metadata": {
    "hidden": true
   },
   "source": [
    "그래프 그려보기"
   ]
  },
  {
   "cell_type": "code",
   "execution_count": null,
   "metadata": {
    "ExecuteTime": {
     "end_time": "2021-09-10T06:16:17.304707Z",
     "start_time": "2021-09-10T06:16:17.300702Z"
    },
    "hidden": true
   },
   "outputs": [],
   "source": [
    "#val_count('Neighborhood')"
   ]
  },
  {
   "cell_type": "code",
   "execution_count": null,
   "metadata": {
    "ExecuteTime": {
     "end_time": "2021-09-10T06:16:17.446368Z",
     "start_time": "2021-09-10T06:16:17.441381Z"
    },
    "hidden": true,
    "scrolled": true
   },
   "outputs": [],
   "source": [
    "#avg_price('Neighborhood')"
   ]
  },
  {
   "cell_type": "code",
   "execution_count": null,
   "metadata": {
    "ExecuteTime": {
     "end_time": "2021-09-10T06:16:17.591981Z",
     "start_time": "2021-09-10T06:16:17.587992Z"
    },
    "hidden": true
   },
   "outputs": [],
   "source": [
    "#Nei=pd.DataFrame(train.groupby('Neighborhood').mean()['SalePrice']).sort_values(by=['SalePrice'])\n",
    "#Nei.plot()"
   ]
  },
  {
   "cell_type": "markdown",
   "metadata": {
    "hidden": true
   },
   "source": [
    "#### 결측치 확인\n",
    "- 없음"
   ]
  },
  {
   "cell_type": "markdown",
   "metadata": {
    "hidden": true
   },
   "source": [
    "#### 분류\n",
    "- 그냥 one-hot을 해버리기에 값들이 너무 다양한데, 고민해보기"
   ]
  },
  {
   "cell_type": "code",
   "execution_count": null,
   "metadata": {
    "ExecuteTime": {
     "end_time": "2021-09-10T06:16:20.014974Z",
     "start_time": "2021-09-10T06:16:20.009988Z"
    },
    "hidden": true
   },
   "outputs": [],
   "source": [
    "feature_extra.append('Neighborhood')"
   ]
  },
  {
   "cell_type": "markdown",
   "metadata": {
    "heading_collapsed": true
   },
   "source": [
    "### !!! Condition1/2"
   ]
  },
  {
   "cell_type": "markdown",
   "metadata": {
    "hidden": true
   },
   "source": [
    "- Condition\n",
    "- 그린벨트여부, 주변에 철도 여부 등등"
   ]
  },
  {
   "cell_type": "markdown",
   "metadata": {
    "hidden": true
   },
   "source": [
    "#### 의견"
   ]
  },
  {
   "cell_type": "markdown",
   "metadata": {
    "hidden": true
   },
   "source": [
    "- 1과 2를 합치는건 좋아 보이는데.\n",
    "- 근데 단순 컨디션 갯수로 판단하는게 괜찮을까?\n",
    "- one-hot을 해도 적합할까?\n",
    "- 같은 값들로 이루어진 열들이라 원핫으로 처리해도 괜찮을듯.\n",
    "- Condition1,2를 다 해도 값이 10개 미만인 RRNe, RRNn, PosA는 제거하고 원핫 돌리는 건 어떤지.\n",
    "- 둘이 합쳐서 하되, Norm은 기본값인 거 같으니 0으로 처리하고 나머지 해당하는 값에 1 체크하면 될듯"
   ]
  },
  {
   "cell_type": "markdown",
   "metadata": {
    "hidden": true
   },
   "source": [
    "#### 데이터 확인"
   ]
  },
  {
   "cell_type": "markdown",
   "metadata": {
    "hidden": true
   },
   "source": [
    "- 대부분 노말임."
   ]
  },
  {
   "cell_type": "code",
   "execution_count": null,
   "metadata": {
    "ExecuteTime": {
     "end_time": "2021-09-10T06:16:27.801600Z",
     "start_time": "2021-09-10T06:16:27.796614Z"
    },
    "hidden": true,
    "scrolled": true
   },
   "outputs": [],
   "source": [
    "# val_count('Condition1')"
   ]
  },
  {
   "cell_type": "code",
   "execution_count": null,
   "metadata": {
    "ExecuteTime": {
     "end_time": "2021-09-10T06:16:27.965164Z",
     "start_time": "2021-09-10T06:16:27.961177Z"
    },
    "hidden": true,
    "scrolled": true
   },
   "outputs": [],
   "source": [
    "# val_count('Condition2')"
   ]
  },
  {
   "cell_type": "markdown",
   "metadata": {
    "hidden": true
   },
   "source": [
    "- norm보다 싼거도 있네  \n",
    "- 옵션이 있다고 무조건 좋은게 아닌가봄..  \n",
    "- 그러면 컨디션 개수로 묶는건 진짜 아닌거같은뎅..\n",
    "- Condition2의 데이터가 너무 적어서 왜곡이 생긴 걸 수도...\n",
    "- Condition1으로 체크해보니 더 완곡해졌어"
   ]
  },
  {
   "cell_type": "code",
   "execution_count": null,
   "metadata": {
    "ExecuteTime": {
     "end_time": "2021-09-10T06:16:29.608200Z",
     "start_time": "2021-09-10T06:16:29.603215Z"
    },
    "hidden": true
   },
   "outputs": [],
   "source": [
    "# avg_price('Condition2')"
   ]
  },
  {
   "cell_type": "code",
   "execution_count": null,
   "metadata": {
    "ExecuteTime": {
     "end_time": "2021-09-10T06:16:29.759795Z",
     "start_time": "2021-09-10T06:16:29.754808Z"
    },
    "hidden": true
   },
   "outputs": [],
   "source": [
    "# price_plot('Condition2')\n",
    "# price_plot('Condition1')\n",
    "# 노란 선이 Condition1"
   ]
  },
  {
   "cell_type": "code",
   "execution_count": null,
   "metadata": {
    "ExecuteTime": {
     "end_time": "2021-09-10T06:16:29.921399Z",
     "start_time": "2021-09-10T06:16:29.917389Z"
    },
    "hidden": true
   },
   "outputs": [],
   "source": [
    "# 컨디션 2가 Norm이 아닌데, 컨디션 1이 Norm인 경우는 없음.\n",
    "# train['Condition1'][train['Condition2']!='Norm']"
   ]
  },
  {
   "cell_type": "markdown",
   "metadata": {
    "heading_collapsed": true,
    "hidden": true
   },
   "source": [
    "#### 결측치 확인\n",
    "- 없음~"
   ]
  },
  {
   "cell_type": "markdown",
   "metadata": {
    "hidden": true
   },
   "source": [
    "#### 분류\n",
    "- Cond2는 거의 다 Norm이라...\n",
    "- PosA, RRNn, RRNe 제외하고 원핫"
   ]
  },
  {
   "cell_type": "code",
   "execution_count": null,
   "metadata": {
    "ExecuteTime": {
     "end_time": "2021-09-10T06:16:32.897433Z",
     "start_time": "2021-09-10T06:16:32.892114Z"
    },
    "hidden": true
   },
   "outputs": [],
   "source": [
    "# feature_extra.append('Condition1')\n",
    "# feature_extra.append('Condition2')\n",
    "feature_onehot.append('Condition1')\n",
    "feature_del.append('Condition2')\n",
    "# feature_del.extend(['Condition1_PosA', 'Condition1_PRNn', 'Condition1_PRNe'])"
   ]
  },
  {
   "cell_type": "markdown",
   "metadata": {
    "heading_collapsed": true
   },
   "source": [
    "### BldgType"
   ]
  },
  {
   "cell_type": "markdown",
   "metadata": {
    "hidden": true
   },
   "source": [
    "- 주거 형태 \n",
    "- 1Fam : 독채\n",
    "- 2FmCon : 독채에 두 가구 거주\n",
    "- Duplx : Duplex(이중?)\n",
    "- TwnhsE : Townhouse End unit\n",
    "- Twnhs(I) : Townhouse Inside unit\n",
    "    - 설명 문서엔 TwnhsI 였는데 실제 값은 Twnhs 가 들어가있음"
   ]
  },
  {
   "cell_type": "markdown",
   "metadata": {
    "hidden": true
   },
   "source": [
    "#### 의견"
   ]
  },
  {
   "cell_type": "markdown",
   "metadata": {
    "hidden": true
   },
   "source": [
    "- 2fmCon < Duplex <= Twnhs <<<< TwnhsE <= 1Fam\n",
    "- 근데 순서가 약간 애매함. 생각했던거랑 실제 가격이랑\n",
    "- 애매하니까 one-hot 가자\n",
    "- 동의"
   ]
  },
  {
   "cell_type": "markdown",
   "metadata": {
    "hidden": true
   },
   "source": [
    "#### 데이터 확인"
   ]
  },
  {
   "cell_type": "code",
   "execution_count": null,
   "metadata": {
    "ExecuteTime": {
     "end_time": "2021-09-10T06:16:56.171752Z",
     "start_time": "2021-09-10T06:16:56.167728Z"
    },
    "hidden": true
   },
   "outputs": [],
   "source": [
    "# val_count('BldgType')"
   ]
  },
  {
   "cell_type": "code",
   "execution_count": null,
   "metadata": {
    "ExecuteTime": {
     "end_time": "2021-09-10T06:16:56.185710Z",
     "start_time": "2021-09-10T06:16:56.175721Z"
    },
    "hidden": true
   },
   "outputs": [],
   "source": [
    "# price_plot('BldgType')"
   ]
  },
  {
   "cell_type": "markdown",
   "metadata": {
    "heading_collapsed": true,
    "hidden": true
   },
   "source": [
    "#### 결측치 확인\n",
    "- 없다!"
   ]
  },
  {
   "cell_type": "markdown",
   "metadata": {
    "hidden": true
   },
   "source": [
    "#### 분류"
   ]
  },
  {
   "cell_type": "code",
   "execution_count": null,
   "metadata": {
    "ExecuteTime": {
     "end_time": "2021-09-10T06:16:56.194654Z",
     "start_time": "2021-09-10T06:16:56.188667Z"
    },
    "hidden": true
   },
   "outputs": [],
   "source": [
    "feature_onehot.append('BldgType')"
   ]
  },
  {
   "cell_type": "markdown",
   "metadata": {
    "heading_collapsed": true
   },
   "source": [
    "### HouseStyle"
   ]
  },
  {
   "cell_type": "markdown",
   "metadata": {
    "hidden": true
   },
   "source": [
    "- 주거 스타일"
   ]
  },
  {
   "cell_type": "markdown",
   "metadata": {
    "hidden": true
   },
   "source": [
    "#### 의견"
   ]
  },
  {
   "cell_type": "markdown",
   "metadata": {
    "hidden": true
   },
   "source": [
    "- one-hot 하자\n",
    "- 동의"
   ]
  },
  {
   "cell_type": "markdown",
   "metadata": {
    "hidden": true
   },
   "source": [
    "#### 데이터 확인"
   ]
  },
  {
   "cell_type": "code",
   "execution_count": null,
   "metadata": {
    "ExecuteTime": {
     "end_time": "2021-09-10T06:16:59.749428Z",
     "start_time": "2021-09-10T06:16:59.745472Z"
    },
    "hidden": true
   },
   "outputs": [],
   "source": [
    "# val_count('HouseStyle')"
   ]
  },
  {
   "cell_type": "code",
   "execution_count": null,
   "metadata": {
    "ExecuteTime": {
     "end_time": "2021-09-10T06:16:59.934442Z",
     "start_time": "2021-09-10T06:16:59.929455Z"
    },
    "hidden": true
   },
   "outputs": [],
   "source": [
    "# avg_price('HouseStyle')"
   ]
  },
  {
   "cell_type": "code",
   "execution_count": null,
   "metadata": {
    "ExecuteTime": {
     "end_time": "2021-09-10T06:17:00.143883Z",
     "start_time": "2021-09-10T06:17:00.139172Z"
    },
    "hidden": true
   },
   "outputs": [],
   "source": [
    "# price_plot('HouseStyle')"
   ]
  },
  {
   "cell_type": "markdown",
   "metadata": {
    "hidden": true
   },
   "source": [
    "#### 결측치 확인\n",
    "- 없음!"
   ]
  },
  {
   "cell_type": "markdown",
   "metadata": {
    "hidden": true
   },
   "source": [
    "#### 분류"
   ]
  },
  {
   "cell_type": "code",
   "execution_count": null,
   "metadata": {
    "ExecuteTime": {
     "end_time": "2021-09-10T06:17:19.342589Z",
     "start_time": "2021-09-10T06:17:19.336625Z"
    },
    "hidden": true
   },
   "outputs": [],
   "source": [
    "feature_onehot.append('HouseStyle')"
   ]
  },
  {
   "cell_type": "markdown",
   "metadata": {
    "heading_collapsed": true
   },
   "source": [
    "### ! OverallQual / OverallCond"
   ]
  },
  {
   "cell_type": "markdown",
   "metadata": {
    "hidden": true
   },
   "source": [
    "- 전체적인 퀄리티, 컨디션을 평가한 지표"
   ]
  },
  {
   "cell_type": "markdown",
   "metadata": {
    "hidden": true
   },
   "source": [
    "#### 의견"
   ]
  },
  {
   "cell_type": "markdown",
   "metadata": {
    "hidden": true
   },
   "source": [
    "- 그냥 숫자라서 그대로 넣으면 될 듯하긴 함\n",
    "- 상관계수가 엄청 높음.\n",
    "- 퀄리티는 상관계수가 높은데 컨디션은 상관계수가 낮음\n",
    "- 컨디션은 5일때 집값 평균이 젤 높은듯?"
   ]
  },
  {
   "cell_type": "markdown",
   "metadata": {
    "hidden": true
   },
   "source": [
    "#### 데이터 확인"
   ]
  },
  {
   "cell_type": "code",
   "execution_count": null,
   "metadata": {
    "ExecuteTime": {
     "end_time": "2021-09-10T06:17:25.030028Z",
     "start_time": "2021-09-10T06:17:25.026949Z"
    },
    "hidden": true,
    "scrolled": true
   },
   "outputs": [],
   "source": [
    "# val_count('OverallQual'), val_count('OverallCond')"
   ]
  },
  {
   "cell_type": "code",
   "execution_count": null,
   "metadata": {
    "ExecuteTime": {
     "end_time": "2021-09-10T06:17:25.202208Z",
     "start_time": "2021-09-10T06:17:25.198248Z"
    },
    "hidden": true
   },
   "outputs": [],
   "source": [
    "# train.boxplot(column='SalePrice', by='OverallCond')"
   ]
  },
  {
   "cell_type": "markdown",
   "metadata": {
    "heading_collapsed": true,
    "hidden": true
   },
   "source": [
    "#### 결측치 확인\n",
    "- 없음!"
   ]
  },
  {
   "cell_type": "markdown",
   "metadata": {
    "hidden": true
   },
   "source": [
    "#### 분류\n",
    "- discrete한 값이니까"
   ]
  },
  {
   "cell_type": "code",
   "execution_count": null,
   "metadata": {
    "ExecuteTime": {
     "end_time": "2021-09-10T06:17:27.840505Z",
     "start_time": "2021-09-10T06:17:27.835555Z"
    },
    "hidden": true
   },
   "outputs": [],
   "source": [
    "feature_dis.append('OverallQual')\n",
    "feature_dis.append('OverallCond')"
   ]
  },
  {
   "cell_type": "markdown",
   "metadata": {
    "heading_collapsed": true
   },
   "source": [
    "### YearBuilt / YearRemodAdd"
   ]
  },
  {
   "cell_type": "markdown",
   "metadata": {
    "hidden": true
   },
   "source": [
    "- 지어진 년도 / 리모델링한 년도"
   ]
  },
  {
   "cell_type": "markdown",
   "metadata": {
    "hidden": true
   },
   "source": [
    "#### 의견"
   ]
  },
  {
   "cell_type": "markdown",
   "metadata": {
    "hidden": true
   },
   "source": [
    "- 같은 년도에 공사를 했어도, 새 건물이 리모델링한 건물보다 좋겠지?\n",
    "- 일단 각각 넣고 두 feature를 합칠 방법이 있을지?\n",
    "- normalize : 1872를 빼주자\n",
    "- 산점도를 보면 양의 상관관계가 있어보임\n",
    "- 상관관계 둘다 0.5가 넘네\n",
    "- YearRemodAdd에도 왜 똑같이 1872를 빼준 거얌??\n",
    "- YearRemodAdd과 집값의 산점도를 보면 YearRemodAdd의 최솟값에 데이터가 몰려있음... 1950년 이전이면 다 1950으로 들어간듯 이거 어떻게 처리하지?"
   ]
  },
  {
   "cell_type": "markdown",
   "metadata": {
    "hidden": true
   },
   "source": [
    "#### 데이터 확인"
   ]
  },
  {
   "cell_type": "code",
   "execution_count": null,
   "metadata": {
    "ExecuteTime": {
     "end_time": "2021-09-10T06:17:33.258772Z",
     "start_time": "2021-09-10T06:17:33.254774Z"
    },
    "hidden": true
   },
   "outputs": [],
   "source": [
    "# 가장 오래전에 지어진 건물의 년도 출력\n",
    "# min(val_list(train, 'YearBuilt')[0], val_list(test, 'YearBuilt')[0])"
   ]
  },
  {
   "cell_type": "code",
   "execution_count": null,
   "metadata": {
    "ExecuteTime": {
     "end_time": "2021-09-10T06:17:33.412359Z",
     "start_time": "2021-09-10T06:17:33.407365Z"
    },
    "hidden": true,
    "scrolled": false
   },
   "outputs": [],
   "source": [
    "# min(train['YearRemodAdd'])"
   ]
  },
  {
   "cell_type": "code",
   "execution_count": null,
   "metadata": {
    "ExecuteTime": {
     "end_time": "2021-09-10T06:17:33.571706Z",
     "start_time": "2021-09-10T06:17:33.567717Z"
    },
    "hidden": true,
    "scrolled": true
   },
   "outputs": [],
   "source": [
    "# train.plot(x='YearBuilt',y='SalePrice', kind='scatter')"
   ]
  },
  {
   "cell_type": "code",
   "execution_count": null,
   "metadata": {
    "ExecuteTime": {
     "end_time": "2021-09-10T06:17:33.718808Z",
     "start_time": "2021-09-10T06:17:33.713808Z"
    },
    "hidden": true,
    "scrolled": true
   },
   "outputs": [],
   "source": [
    "# train.plot(x='YearRemodAdd',y='SalePrice', kind='scatter')"
   ]
  },
  {
   "cell_type": "markdown",
   "metadata": {
    "hidden": true
   },
   "source": [
    "#### 결측치 확인\n",
    "- 없음!"
   ]
  },
  {
   "cell_type": "markdown",
   "metadata": {
    "hidden": true
   },
   "source": [
    "#### 분류\n",
    "- 뒤에 있을 팔린 년도와 함께 따로 계산"
   ]
  },
  {
   "cell_type": "code",
   "execution_count": null,
   "metadata": {
    "ExecuteTime": {
     "end_time": "2021-09-10T06:17:41.467309Z",
     "start_time": "2021-09-10T06:17:41.462289Z"
    },
    "hidden": true
   },
   "outputs": [],
   "source": [
    "feature_extra.append('YearBuilt')\n",
    "feature_extra.append('YearRemodAdd')"
   ]
  },
  {
   "cell_type": "markdown",
   "metadata": {
    "heading_collapsed": true
   },
   "source": [
    "### RoofStyle / RoofMatl"
   ]
  },
  {
   "cell_type": "markdown",
   "metadata": {
    "hidden": true
   },
   "source": [
    "- 지붕 스타일, 재질"
   ]
  },
  {
   "cell_type": "markdown",
   "metadata": {
    "hidden": true
   },
   "source": [
    "#### 의견"
   ]
  },
  {
   "cell_type": "markdown",
   "metadata": {
    "hidden": true
   },
   "source": [
    "- one-hot.\n",
    "- 근데 특정 값만 엄청 많은데 one-hot을 하면 0에 가까운 열들이 생기는 문제?\n",
    "- 너무 적은 값들은 제거해도 될듯!\n",
    "- RoofMatl은 아예 feature를 제거해도 될듯!\n",
    "- 그래프 그려보기ㅣ"
   ]
  },
  {
   "cell_type": "markdown",
   "metadata": {
    "hidden": true
   },
   "source": [
    "#### 데이터 확인"
   ]
  },
  {
   "cell_type": "markdown",
   "metadata": {
    "hidden": true
   },
   "source": [
    "거의 다 Gable / CompShg 임."
   ]
  },
  {
   "cell_type": "code",
   "execution_count": null,
   "metadata": {
    "ExecuteTime": {
     "end_time": "2021-09-10T06:17:46.913203Z",
     "start_time": "2021-09-10T06:17:46.908216Z"
    },
    "hidden": true,
    "scrolled": true
   },
   "outputs": [],
   "source": [
    "# val_count('RoofStyle'), val_count('RoofMatl')"
   ]
  },
  {
   "cell_type": "markdown",
   "metadata": {
    "hidden": true
   },
   "source": [
    "#### 결측치 확인\n",
    "- 없음!"
   ]
  },
  {
   "cell_type": "markdown",
   "metadata": {
    "hidden": true
   },
   "source": [
    "#### 분류\n",
    "- RoofMatl은 아예 제거\n",
    "- RoofStyle은 Gambrel, Flat, Mansard, Shed 제외 one-hot"
   ]
  },
  {
   "cell_type": "code",
   "execution_count": null,
   "metadata": {
    "ExecuteTime": {
     "end_time": "2021-09-10T06:17:49.899919Z",
     "start_time": "2021-09-10T06:17:49.893938Z"
    },
    "hidden": true
   },
   "outputs": [],
   "source": [
    "feature_onehot.append('RoofStyle')\n",
    "feature_del.append('RoofMatl')\n",
    "# feature_del.extend(['RoofStyle_Gambrel', 'RoofStyle_Flat', \n",
    "#                    'RoofStyle_Mansard', 'RoofStyle_Shed'])"
   ]
  },
  {
   "cell_type": "markdown",
   "metadata": {
    "heading_collapsed": true
   },
   "source": [
    "### Exterior1st / Exterior2nd"
   ]
  },
  {
   "cell_type": "markdown",
   "metadata": {
    "hidden": true
   },
   "source": [
    "- 집 외부를 뭐로 덮고 있는지?"
   ]
  },
  {
   "cell_type": "markdown",
   "metadata": {
    "hidden": true
   },
   "source": [
    "#### 의견"
   ]
  },
  {
   "cell_type": "markdown",
   "metadata": {
    "hidden": true
   },
   "source": [
    "- one-hot으로 보내고 싶긴한데\n",
    "- 값이 1개인 친구들도 one-hot을 하는게 맞나?\n",
    "- 값이 1개인 친구들은 제거해도 될듯\n",
    "- 이게 feature 목록이 train과 test가 일치해야하니까... 값이 적은 것들은 제거하는 게 전처리 속도도 많이 개선시킬듯\n",
    "- 그리고 이거도 합칠 수 있을듯.\n",
    "- conditioni1/2랑 다르게 얘네는 독립?인 거 같어 1st하고 2nd가 포함관계에 있지 않음. VinySd를 체크해보니 1st하고 2nd 둘다 VinySd인 집은 502개임 2개는 2nd만 VinySd이고 13개는 1st만 VinySd임"
   ]
  },
  {
   "cell_type": "markdown",
   "metadata": {
    "hidden": true
   },
   "source": [
    "#### 데이터 확인"
   ]
  },
  {
   "cell_type": "code",
   "execution_count": null,
   "metadata": {
    "ExecuteTime": {
     "end_time": "2021-09-10T06:17:57.155698Z",
     "start_time": "2021-09-10T06:17:57.150680Z"
    },
    "hidden": true,
    "scrolled": true
   },
   "outputs": [],
   "source": [
    "# val_count('Exterior1st'), val_count('Exterior2nd')"
   ]
  },
  {
   "cell_type": "code",
   "execution_count": null,
   "metadata": {
    "ExecuteTime": {
     "end_time": "2021-09-10T06:17:57.346639Z",
     "start_time": "2021-09-10T06:17:57.343646Z"
    },
    "hidden": true,
    "scrolled": false
   },
   "outputs": [],
   "source": [
    "# train[train['Exterior1st']=='VinylSd'].loc[train['Exterior2nd']=='VinylSd']"
   ]
  },
  {
   "cell_type": "code",
   "execution_count": null,
   "metadata": {
    "ExecuteTime": {
     "end_time": "2021-09-10T06:17:57.560077Z",
     "start_time": "2021-09-10T06:17:57.555086Z"
    },
    "hidden": true
   },
   "outputs": [],
   "source": [
    "# price_plot('Exterior1st')\n",
    "# price_plot('Exterior2nd')\n",
    "# 노란색이 2nd"
   ]
  },
  {
   "cell_type": "markdown",
   "metadata": {
    "hidden": true
   },
   "source": [
    "#### 결측치 확인\n",
    "- test set에 한개씩. 가장 많은 값으로 채우기."
   ]
  },
  {
   "cell_type": "code",
   "execution_count": null,
   "metadata": {
    "ExecuteTime": {
     "end_time": "2021-09-10T06:18:14.379401Z",
     "start_time": "2021-09-10T06:18:14.377166Z"
    },
    "hidden": true
   },
   "outputs": [],
   "source": [
    "# null_check('Exterior1st'), null_check('Exterior2nd')"
   ]
  },
  {
   "cell_type": "code",
   "execution_count": null,
   "metadata": {
    "ExecuteTime": {
     "end_time": "2021-09-10T06:18:15.152505Z",
     "start_time": "2021-09-10T06:18:15.144527Z"
    },
    "hidden": true
   },
   "outputs": [],
   "source": [
    "test['Exterior1st'].fillna('VinylSd', inplace=True)\n",
    "test['Exterior2nd'].fillna('VinylSd', inplace=True)"
   ]
  },
  {
   "cell_type": "markdown",
   "metadata": {
    "hidden": true
   },
   "source": [
    "#### 분류\n",
    "- 원핫 할건데 신경 좀 써줘야할듯"
   ]
  },
  {
   "cell_type": "code",
   "execution_count": null,
   "metadata": {
    "ExecuteTime": {
     "end_time": "2021-09-10T06:18:16.204414Z",
     "start_time": "2021-09-10T06:18:16.198422Z"
    },
    "hidden": true
   },
   "outputs": [],
   "source": [
    "feature_extra.append('Exterior1st')\n",
    "feature_extra.append('Exterior2nd')"
   ]
  },
  {
   "cell_type": "markdown",
   "metadata": {
    "heading_collapsed": true
   },
   "source": [
    "### MasVnrType"
   ]
  },
  {
   "cell_type": "markdown",
   "metadata": {
    "hidden": true
   },
   "source": [
    "- 벽돌 베니어 벽의 타입..?"
   ]
  },
  {
   "cell_type": "markdown",
   "metadata": {
    "hidden": true
   },
   "source": [
    "#### 의견"
   ]
  },
  {
   "cell_type": "markdown",
   "metadata": {
    "hidden": true
   },
   "source": [
    "- one-hot\n",
    "- None을 제외하고 3개의 값으로 원핫 하면 되지 않나? 어차피 구분이 되니까 근데 그렇게 생각하니 그럼 모든 원핫은 값을 1개 빼고 해도 되는 거 아닌가 싶은 생각도 드네.. 그렇게 하면 성별은 걍 남0여1 이런 식으로 처리하는 것과 같은데.. 걍 None도 넣고 하는 게 더 결과가 좋으려나"
   ]
  },
  {
   "cell_type": "markdown",
   "metadata": {
    "hidden": true
   },
   "source": [
    "#### 데이터 확인"
   ]
  },
  {
   "cell_type": "code",
   "execution_count": null,
   "metadata": {
    "ExecuteTime": {
     "end_time": "2021-09-10T06:18:22.123245Z",
     "start_time": "2021-09-10T06:18:22.119262Z"
    },
    "hidden": true
   },
   "outputs": [],
   "source": [
    "# val_count('MasVnrType')"
   ]
  },
  {
   "cell_type": "code",
   "execution_count": null,
   "metadata": {
    "ExecuteTime": {
     "end_time": "2021-09-10T06:18:22.260923Z",
     "start_time": "2021-09-10T06:18:22.257923Z"
    },
    "hidden": true
   },
   "outputs": [],
   "source": [
    "# price_plot('MasVnrType')"
   ]
  },
  {
   "cell_type": "markdown",
   "metadata": {
    "hidden": true
   },
   "source": [
    "#### 결측치 확인\n",
    "- 결측이 좀 있는데 일단 최빈값으로 채우기."
   ]
  },
  {
   "cell_type": "code",
   "execution_count": null,
   "metadata": {
    "ExecuteTime": {
     "end_time": "2021-09-10T06:18:23.529730Z",
     "start_time": "2021-09-10T06:18:23.524743Z"
    },
    "hidden": true
   },
   "outputs": [],
   "source": [
    "# null_check('MasVnrType')"
   ]
  },
  {
   "cell_type": "code",
   "execution_count": null,
   "metadata": {
    "ExecuteTime": {
     "end_time": "2021-09-10T06:18:23.671351Z",
     "start_time": "2021-09-10T06:18:23.665398Z"
    },
    "hidden": true
   },
   "outputs": [],
   "source": [
    "train['MasVnrType'].fillna('None', inplace=True)\n",
    "test['MasVnrType'].fillna('None', inplace=True)"
   ]
  },
  {
   "cell_type": "code",
   "execution_count": null,
   "metadata": {
    "ExecuteTime": {
     "end_time": "2021-09-10T06:18:23.805061Z",
     "start_time": "2021-09-10T06:18:23.800089Z"
    },
    "hidden": true
   },
   "outputs": [],
   "source": [
    "# null_check('MasVnrType')"
   ]
  },
  {
   "cell_type": "markdown",
   "metadata": {
    "hidden": true
   },
   "source": [
    "#### 분류"
   ]
  },
  {
   "cell_type": "code",
   "execution_count": null,
   "metadata": {
    "ExecuteTime": {
     "end_time": "2021-09-10T06:18:25.010335Z",
     "start_time": "2021-09-10T06:18:25.005318Z"
    },
    "hidden": true
   },
   "outputs": [],
   "source": [
    "feature_onehot.append('MasVnrType')\n",
    "# feature_del.append('MasVnrType_BrkCmn')"
   ]
  },
  {
   "cell_type": "markdown",
   "metadata": {
    "heading_collapsed": true
   },
   "source": [
    "### MasVnrArea"
   ]
  },
  {
   "cell_type": "markdown",
   "metadata": {
    "hidden": true
   },
   "source": [
    "- 베니어 벽의 넓이?\n",
    "- 0만 어떻게 처리하면 될듯\n",
    "- 상관관계도 큰 편"
   ]
  },
  {
   "cell_type": "markdown",
   "metadata": {
    "hidden": true
   },
   "source": [
    "#### 의견"
   ]
  },
  {
   "cell_type": "markdown",
   "metadata": {
    "hidden": true
   },
   "source": [
    "- 넓이 값. 그대로 넣고 normalize 고민\n",
    "- 대부분 0임. 위에 타입이 None이 가장 많아서 그런듯"
   ]
  },
  {
   "cell_type": "markdown",
   "metadata": {
    "hidden": true
   },
   "source": [
    "#### 데이터 확인"
   ]
  },
  {
   "cell_type": "code",
   "execution_count": null,
   "metadata": {
    "ExecuteTime": {
     "end_time": "2021-09-10T06:18:30.687322Z",
     "start_time": "2021-09-10T06:18:30.681926Z"
    },
    "hidden": true,
    "scrolled": true
   },
   "outputs": [],
   "source": [
    "# val_count('MasVnrArea')"
   ]
  },
  {
   "cell_type": "code",
   "execution_count": null,
   "metadata": {
    "ExecuteTime": {
     "end_time": "2021-09-10T06:18:30.822098Z",
     "start_time": "2021-09-10T06:18:30.819073Z"
    },
    "hidden": true
   },
   "outputs": [],
   "source": [
    "# train.plot(x='MasVnrArea',y='SalePrice',kind='scatter')"
   ]
  },
  {
   "cell_type": "markdown",
   "metadata": {
    "hidden": true
   },
   "source": [
    "#### 결측치 확인\n",
    "- 결측값은 0으로"
   ]
  },
  {
   "cell_type": "code",
   "execution_count": null,
   "metadata": {
    "ExecuteTime": {
     "end_time": "2021-09-10T06:18:32.093074Z",
     "start_time": "2021-09-10T06:18:32.088020Z"
    },
    "hidden": true
   },
   "outputs": [],
   "source": [
    "# null_check('MasVnrArea')"
   ]
  },
  {
   "cell_type": "code",
   "execution_count": null,
   "metadata": {
    "ExecuteTime": {
     "end_time": "2021-09-10T06:18:32.235118Z",
     "start_time": "2021-09-10T06:18:32.228137Z"
    },
    "hidden": true
   },
   "outputs": [],
   "source": [
    "train['MasVnrArea'].fillna(0, inplace=True)\n",
    "test['MasVnrArea'].fillna(0, inplace=True)"
   ]
  },
  {
   "cell_type": "markdown",
   "metadata": {
    "hidden": true
   },
   "source": [
    "#### 분류"
   ]
  },
  {
   "cell_type": "code",
   "execution_count": null,
   "metadata": {
    "ExecuteTime": {
     "end_time": "2021-09-10T06:18:33.479937Z",
     "start_time": "2021-09-10T06:18:33.473919Z"
    },
    "hidden": true
   },
   "outputs": [],
   "source": [
    "feature_raw.append('MasVnrArea')"
   ]
  },
  {
   "cell_type": "markdown",
   "metadata": {
    "heading_collapsed": true
   },
   "source": [
    "### ExterQual / ExterCond"
   ]
  },
  {
   "cell_type": "markdown",
   "metadata": {
    "hidden": true
   },
   "source": [
    "- "
   ]
  },
  {
   "cell_type": "markdown",
   "metadata": {
    "hidden": true
   },
   "source": [
    "#### 의견"
   ]
  },
  {
   "cell_type": "markdown",
   "metadata": {
    "hidden": true
   },
   "source": [
    "- 대부분 TA(Typical/Average)\n",
    "- 그래도 순서가 있는거니까 숫자로 매핑해봄.\n",
    "- ExterQual은 예상대로인데 아까처럼 컨디션은 순서대로가 아니네.. 5번이 낮게 나오면 값이 3개밖에 없어서 그런갑다 할텐데 4번은 그렇지도 않은데...\n",
    "- 상관계수도 아까처럼 퀄리티는 높은데 컨디션은 무시해도 되는 수준."
   ]
  },
  {
   "cell_type": "markdown",
   "metadata": {
    "hidden": true
   },
   "source": [
    "#### 데이터 확인"
   ]
  },
  {
   "cell_type": "code",
   "execution_count": null,
   "metadata": {
    "ExecuteTime": {
     "end_time": "2021-09-10T06:18:49.826684Z",
     "start_time": "2021-09-10T06:18:49.823700Z"
    },
    "hidden": true,
    "scrolled": true
   },
   "outputs": [],
   "source": [
    "#val_count('ExterQual')\n",
    "# val_count('ExterCond')"
   ]
  },
  {
   "cell_type": "code",
   "execution_count": null,
   "metadata": {
    "ExecuteTime": {
     "end_time": "2021-09-10T06:18:49.977839Z",
     "start_time": "2021-09-10T06:18:49.974845Z"
    },
    "hidden": true,
    "scrolled": true
   },
   "outputs": [],
   "source": [
    "# price_plot('ExterQual')"
   ]
  },
  {
   "cell_type": "code",
   "execution_count": null,
   "metadata": {
    "ExecuteTime": {
     "end_time": "2021-09-10T06:18:50.126494Z",
     "start_time": "2021-09-10T06:18:50.122474Z"
    },
    "hidden": true,
    "scrolled": true
   },
   "outputs": [],
   "source": [
    "# price_plot('ExterCond')"
   ]
  },
  {
   "cell_type": "markdown",
   "metadata": {
    "hidden": true
   },
   "source": [
    "#### 결측치 확인\n",
    "- 없음!"
   ]
  },
  {
   "cell_type": "markdown",
   "metadata": {
    "hidden": true
   },
   "source": [
    "#### 매핑\n",
    "- Po, Fa, TA, Gd, Ex 순으로 1~5까지 매핑"
   ]
  },
  {
   "cell_type": "code",
   "execution_count": null,
   "metadata": {
    "ExecuteTime": {
     "end_time": "2021-09-10T06:19:19.343851Z",
     "start_time": "2021-09-10T06:19:19.330885Z"
    },
    "hidden": true
   },
   "outputs": [],
   "source": [
    "#ddaasdsa\n",
    "map_Exter = {'Po':1, 'Fa':2, 'TA':3, 'Gd':4, 'Ex':5}\n",
    "train['ExterQual'] = train['ExterQual'].map(map_Exter)\n",
    "test['ExterQual'] = test['ExterQual'].map(map_Exter)\n",
    "# train['ExterCond'] = train['ExterCond'].map(map_Exter)\n",
    "# test['ExterCond'] = test['ExterCond'].map(map_Exter)"
   ]
  },
  {
   "cell_type": "code",
   "execution_count": null,
   "metadata": {
    "ExecuteTime": {
     "end_time": "2021-09-10T06:19:19.515472Z",
     "start_time": "2021-09-10T06:19:19.511467Z"
    },
    "hidden": true
   },
   "outputs": [],
   "source": [
    "# price_cor('ExterCond')"
   ]
  },
  {
   "cell_type": "code",
   "execution_count": null,
   "metadata": {
    "ExecuteTime": {
     "end_time": "2021-09-10T06:19:19.700963Z",
     "start_time": "2021-09-10T06:19:19.696038Z"
    },
    "hidden": true
   },
   "outputs": [],
   "source": [
    "# price_cor('ExterQual')"
   ]
  },
  {
   "cell_type": "markdown",
   "metadata": {
    "hidden": true
   },
   "source": [
    "#### 분류\n",
    "- Qual은 매핑\n",
    "- Cond는 순서가 잘 안보여서 원핫 (Ex, Po 제외)"
   ]
  },
  {
   "cell_type": "code",
   "execution_count": null,
   "metadata": {
    "ExecuteTime": {
     "end_time": "2021-09-10T06:19:21.032491Z",
     "start_time": "2021-09-10T06:19:21.026504Z"
    },
    "hidden": true
   },
   "outputs": [],
   "source": [
    "feature_map.append('ExterQual')\n",
    "feature_onehot.append('ExterCond')\n",
    "# feature_del.extend(['ExterCond_Ex', 'ExterCond_Po'])"
   ]
  },
  {
   "cell_type": "markdown",
   "metadata": {
    "heading_collapsed": true
   },
   "source": [
    "### Foundation"
   ]
  },
  {
   "cell_type": "markdown",
   "metadata": {
    "hidden": true
   },
   "source": [
    "- 대문 종류"
   ]
  },
  {
   "cell_type": "markdown",
   "metadata": {
    "hidden": true
   },
   "source": [
    "#### 의견"
   ]
  },
  {
   "cell_type": "markdown",
   "metadata": {
    "hidden": true
   },
   "source": [
    "- one-hot / 3번밖에 안나오는 값에 대한 고민? 제거\n",
    "- 원핫 하면 될듯"
   ]
  },
  {
   "cell_type": "markdown",
   "metadata": {
    "hidden": true
   },
   "source": [
    "#### 데이터 확인"
   ]
  },
  {
   "cell_type": "code",
   "execution_count": null,
   "metadata": {
    "ExecuteTime": {
     "end_time": "2021-09-10T06:19:26.685716Z",
     "start_time": "2021-09-10T06:19:26.681752Z"
    },
    "hidden": true
   },
   "outputs": [],
   "source": [
    "# val_count('Foundation')"
   ]
  },
  {
   "cell_type": "code",
   "execution_count": null,
   "metadata": {
    "ExecuteTime": {
     "end_time": "2021-09-10T06:19:26.870239Z",
     "start_time": "2021-09-10T06:19:26.866250Z"
    },
    "hidden": true
   },
   "outputs": [],
   "source": [
    "# price_plot('Foundation')"
   ]
  },
  {
   "cell_type": "markdown",
   "metadata": {
    "hidden": true
   },
   "source": [
    "#### 결측치 확인\n",
    "- 없음!"
   ]
  },
  {
   "cell_type": "markdown",
   "metadata": {
    "hidden": true
   },
   "source": [
    "#### 분류\n",
    "- Stone, Wood 제외 원핫"
   ]
  },
  {
   "cell_type": "code",
   "execution_count": null,
   "metadata": {
    "ExecuteTime": {
     "end_time": "2021-09-10T06:19:44.097103Z",
     "start_time": "2021-09-10T06:19:44.092116Z"
    },
    "hidden": true
   },
   "outputs": [],
   "source": [
    "feature_onehot.append('Foundation')\n",
    "# feature_del.extend(['Foundation_Stone', 'Foundation_Wood'])"
   ]
  },
  {
   "cell_type": "markdown",
   "metadata": {
    "heading_collapsed": true
   },
   "source": [
    "### BsmtQual / BsmtCond"
   ]
  },
  {
   "cell_type": "markdown",
   "metadata": {
    "hidden": true
   },
   "source": [
    "- "
   ]
  },
  {
   "cell_type": "markdown",
   "metadata": {
    "hidden": true
   },
   "source": [
    "#### 의견"
   ]
  },
  {
   "cell_type": "markdown",
   "metadata": {
    "hidden": true
   },
   "source": [
    "- Po -> EX 순이긴 한데. No basement는?\n",
    "- No basement 는 0으로 해서 매핑해보기.\n",
    "- 여기는 앞의 퀄리티/컨디션 조합들과 다르게 컨디션이 유의미한 편"
   ]
  },
  {
   "cell_type": "markdown",
   "metadata": {
    "hidden": true
   },
   "source": [
    "#### 데이터 확인"
   ]
  },
  {
   "cell_type": "code",
   "execution_count": null,
   "metadata": {
    "ExecuteTime": {
     "end_time": "2021-09-10T06:20:40.032282Z",
     "start_time": "2021-09-10T06:20:40.027309Z"
    },
    "hidden": true
   },
   "outputs": [],
   "source": [
    "# val_count('BsmtQual')"
   ]
  },
  {
   "cell_type": "code",
   "execution_count": null,
   "metadata": {
    "ExecuteTime": {
     "end_time": "2021-09-10T06:20:40.216792Z",
     "start_time": "2021-09-10T06:20:40.212813Z"
    },
    "hidden": true,
    "scrolled": true
   },
   "outputs": [],
   "source": [
    "# price_plot('BsmtQual')"
   ]
  },
  {
   "cell_type": "code",
   "execution_count": null,
   "metadata": {
    "ExecuteTime": {
     "end_time": "2021-09-10T06:20:40.418258Z",
     "start_time": "2021-09-10T06:20:40.414271Z"
    },
    "hidden": true,
    "scrolled": true
   },
   "outputs": [],
   "source": [
    "# price_plot('BsmtCond')"
   ]
  },
  {
   "cell_type": "markdown",
   "metadata": {
    "hidden": true
   },
   "source": [
    "#### 결측치 확인\n",
    "- NA로 채워주긴 할건데, Basement가 없어서가 아니라 진짜 결측인 애들이 몇개 있음(2~3개)\n",
    "- 일단 NA로 채우기"
   ]
  },
  {
   "cell_type": "code",
   "execution_count": null,
   "metadata": {
    "ExecuteTime": {
     "end_time": "2021-09-10T06:20:41.678840Z",
     "start_time": "2021-09-10T06:20:41.674859Z"
    },
    "hidden": true
   },
   "outputs": [],
   "source": [
    "# null_check('BsmtQual'), null_check('BsmtCond')"
   ]
  },
  {
   "cell_type": "code",
   "execution_count": null,
   "metadata": {
    "ExecuteTime": {
     "end_time": "2021-09-10T06:20:41.861935Z",
     "start_time": "2021-09-10T06:20:41.853934Z"
    },
    "hidden": true
   },
   "outputs": [],
   "source": [
    "train['BsmtQual'].fillna('NA', inplace=True)\n",
    "test['BsmtQual'].fillna('NA', inplace=True)\n",
    "train['BsmtCond'].fillna('NA', inplace=True)\n",
    "test['BsmtCond'].fillna('NA', inplace=True)"
   ]
  },
  {
   "cell_type": "markdown",
   "metadata": {
    "hidden": true
   },
   "source": [
    "#### 매핑\n",
    "- NA(0), Po(1), Fa(2), TA(3), Gd(4), Ex(5)"
   ]
  },
  {
   "cell_type": "code",
   "execution_count": null,
   "metadata": {
    "ExecuteTime": {
     "end_time": "2021-09-10T06:20:43.169435Z",
     "start_time": "2021-09-10T06:20:43.154452Z"
    },
    "hidden": true
   },
   "outputs": [],
   "source": [
    "map_Bsmt = {'NA':0, 'Po':1, 'Fa':2, 'TA':3, 'Gd':4, 'Ex':5}\n",
    "train['BsmtQual'] = train['BsmtQual'].map(map_Bsmt)\n",
    "test['BsmtQual'] = test['BsmtQual'].map(map_Bsmt)\n",
    "train['BsmtCond'] = train['BsmtCond'].map(map_Bsmt)\n",
    "test['BsmtCond'] = test['BsmtCond'].map(map_Bsmt)"
   ]
  },
  {
   "cell_type": "markdown",
   "metadata": {
    "hidden": true
   },
   "source": [
    "#### 분류"
   ]
  },
  {
   "cell_type": "code",
   "execution_count": null,
   "metadata": {
    "ExecuteTime": {
     "end_time": "2021-09-10T06:20:44.462187Z",
     "start_time": "2021-09-10T06:20:44.458228Z"
    },
    "hidden": true
   },
   "outputs": [],
   "source": [
    "feature_map.append('BsmtQual')\n",
    "feature_map.append('BsmtCond')"
   ]
  },
  {
   "cell_type": "markdown",
   "metadata": {
    "heading_collapsed": true
   },
   "source": [
    "### BsmtExposure"
   ]
  },
  {
   "cell_type": "markdown",
   "metadata": {
    "hidden": true
   },
   "source": [
    "- "
   ]
  },
  {
   "cell_type": "markdown",
   "metadata": {
    "hidden": true
   },
   "source": [
    "#### 의견"
   ]
  },
  {
   "cell_type": "markdown",
   "metadata": {
    "hidden": true
   },
   "source": [
    "- No basement가 결측치로 처리되어 있어서 'NA'로 바꿔준 다음 one-hot encoding\n",
    "- 얘네도 뚜렷하게 순서가 있는 거 같기도 한데! 지하실이 없으면 젤 싸고 있는 애들 중에 햇빛이 잘 들수록 비싸지는뎅! 그렇게 01234해서 상관계수 계산하면 0.5 나오긴 하넹!\n",
    "- 매핑하고 나서 선그래프도 너무너무 직선인뎅??? 뭐야 오류인가"
   ]
  },
  {
   "cell_type": "markdown",
   "metadata": {
    "hidden": true
   },
   "source": [
    "#### 데이터 확인"
   ]
  },
  {
   "cell_type": "code",
   "execution_count": null,
   "metadata": {
    "ExecuteTime": {
     "end_time": "2021-09-10T06:20:56.194801Z",
     "start_time": "2021-09-10T06:20:56.189814Z"
    },
    "hidden": true
   },
   "outputs": [],
   "source": [
    "# val_count('BsmtExposure')"
   ]
  },
  {
   "cell_type": "code",
   "execution_count": null,
   "metadata": {
    "ExecuteTime": {
     "end_time": "2021-09-10T06:20:56.348092Z",
     "start_time": "2021-09-10T06:20:56.344074Z"
    },
    "hidden": true,
    "scrolled": true
   },
   "outputs": [],
   "source": [
    "#price_plot('BsmtExposure')"
   ]
  },
  {
   "cell_type": "markdown",
   "metadata": {
    "hidden": true
   },
   "source": [
    "#### 결측치 확인\n",
    "- basement가 없는 경우 결측으로 처리되어 있어서, 'NA' 넣어주기"
   ]
  },
  {
   "cell_type": "code",
   "execution_count": null,
   "metadata": {
    "ExecuteTime": {
     "end_time": "2021-09-10T06:20:57.421690Z",
     "start_time": "2021-09-10T06:20:57.418626Z"
    },
    "hidden": true
   },
   "outputs": [],
   "source": [
    "# null_check('BsmtExposure')"
   ]
  },
  {
   "cell_type": "code",
   "execution_count": null,
   "metadata": {
    "ExecuteTime": {
     "end_time": "2021-09-10T06:20:57.585697Z",
     "start_time": "2021-09-10T06:20:57.578716Z"
    },
    "hidden": true
   },
   "outputs": [],
   "source": [
    "train['BsmtExposure'].fillna('NA', inplace=True)\n",
    "test['BsmtExposure'].fillna('NA', inplace=True)"
   ]
  },
  {
   "cell_type": "markdown",
   "metadata": {
    "hidden": true
   },
   "source": [
    "#### 매핑"
   ]
  },
  {
   "cell_type": "code",
   "execution_count": null,
   "metadata": {
    "ExecuteTime": {
     "end_time": "2021-09-10T06:20:58.890617Z",
     "start_time": "2021-09-10T06:20:58.880537Z"
    },
    "hidden": true
   },
   "outputs": [],
   "source": [
    "map_Expo = {'NA':0, 'No':1, 'Mn':2, 'Av':3, 'Gd':4}\n",
    "train['BsmtExposure'] = train['BsmtExposure'].map(map_Expo)\n",
    "test['BsmtExposure'] = test['BsmtExposure'].map(map_Expo)"
   ]
  },
  {
   "cell_type": "markdown",
   "metadata": {
    "hidden": true
   },
   "source": [
    "#### 분류\n",
    "- one-hot"
   ]
  },
  {
   "cell_type": "code",
   "execution_count": null,
   "metadata": {
    "ExecuteTime": {
     "end_time": "2021-09-10T06:21:00.190234Z",
     "start_time": "2021-09-10T06:21:00.186242Z"
    },
    "hidden": true
   },
   "outputs": [],
   "source": [
    "# feature_onehot.append('BsmtExposure')\n",
    "feature_map.append('BsmtExposure')"
   ]
  },
  {
   "cell_type": "markdown",
   "metadata": {
    "heading_collapsed": true
   },
   "source": [
    "### ***BsmtFinType / SF"
   ]
  },
  {
   "cell_type": "markdown",
   "metadata": {
    "hidden": true
   },
   "source": [
    "- basement type1, type2, Unfinished를 합치면 총 면적."
   ]
  },
  {
   "cell_type": "code",
   "execution_count": null,
   "metadata": {
    "ExecuteTime": {
     "end_time": "2021-09-10T07:18:49.895907Z",
     "start_time": "2021-09-10T07:18:49.891920Z"
    },
    "hidden": true
   },
   "outputs": [],
   "source": [
    "Bsmt = ['BsmtFinType1', 'BsmtFinType2',\n",
    "        'BsmtFinSF1', 'BsmtFinSF2', 'BsmtUnfSF', 'TotalBsmtSF']"
   ]
  },
  {
   "cell_type": "markdown",
   "metadata": {
    "hidden": true
   },
   "source": [
    "#### 의견"
   ]
  },
  {
   "cell_type": "markdown",
   "metadata": {
    "hidden": true
   },
   "source": [
    "- No basement가 많은데.. \n",
    "- type1, type2, unf 를 각각 쓸지 / Total로 합쳐서 쓸지?\n",
    "- total 쓰면 될듯! 상관계수도 높고 각자 쓰자니 0을 처리하기도 어렵고 type2는 상관계수가 거의 0인데 그것만 없애는 것도 그렇고...\n",
    "- type2의 종류도 보니까 Unf가 1256개나 되네. 그래서 넓이도 0이 많은갑다\n",
    "- type1,2의 종류도 Exterior 1st,2nd 처리방법과 같게 하면 될듯 어케 해야할지는 아직 모르겠지만.."
   ]
  },
  {
   "cell_type": "markdown",
   "metadata": {
    "hidden": true
   },
   "source": [
    "#### 데이터 확인"
   ]
  },
  {
   "cell_type": "code",
   "execution_count": null,
   "metadata": {
    "ExecuteTime": {
     "end_time": "2021-09-10T06:21:05.978170Z",
     "start_time": "2021-09-10T06:21:05.973157Z"
    },
    "hidden": true,
    "scrolled": false
   },
   "outputs": [],
   "source": [
    "# val_count('BsmtFinType2')"
   ]
  },
  {
   "cell_type": "code",
   "execution_count": null,
   "metadata": {
    "ExecuteTime": {
     "end_time": "2021-09-10T06:21:06.171451Z",
     "start_time": "2021-09-10T06:21:06.167465Z"
    },
    "hidden": true
   },
   "outputs": [],
   "source": [
    "# train.loc[:,'BsmtFinType1':'TotalBsmtSF']"
   ]
  },
  {
   "cell_type": "code",
   "execution_count": null,
   "metadata": {
    "ExecuteTime": {
     "end_time": "2021-09-10T06:21:06.356989Z",
     "start_time": "2021-09-10T06:21:06.350973Z"
    },
    "hidden": true
   },
   "outputs": [],
   "source": [
    "# train.plot(x='BsmtFinSF1',y='SalePrice',kind='scatter')\n",
    "# train.plot(x='BsmtFinSF2',y='SalePrice',kind='scatter')\n",
    "# train.plot(x='BsmtUnfSF',y='SalePrice',kind='scatter')\n",
    "# train.plot(x='TotalBsmtSF',y='SalePrice',kind='scatter')\n",
    "# price_cor('BsmtFinSF1')\n",
    "# price_cor('BsmtFinSF2')\n",
    "# price_cor('BsmtUnfSF')\n",
    "# price_cor('TotalBsmtSF')"
   ]
  },
  {
   "cell_type": "code",
   "execution_count": null,
   "metadata": {
    "ExecuteTime": {
     "end_time": "2021-09-10T06:21:06.547569Z",
     "start_time": "2021-09-10T06:21:06.543604Z"
    },
    "hidden": true
   },
   "outputs": [],
   "source": [
    "# price_plot('BsmtFinType1')\n",
    "# price_plot('BsmtFinType2')\n",
    "# 노란색이 타입2"
   ]
  },
  {
   "cell_type": "markdown",
   "metadata": {
    "hidden": true
   },
   "source": [
    "#### 결측치 확인"
   ]
  },
  {
   "cell_type": "code",
   "execution_count": null,
   "metadata": {
    "ExecuteTime": {
     "end_time": "2021-09-10T07:21:36.725967Z",
     "start_time": "2021-09-10T07:21:36.718984Z"
    },
    "hidden": true
   },
   "outputs": [],
   "source": [
    "#null_check('TotalBsmtSF')\n",
    "# for feat in Bsmt:\n",
    "#     null_check(feat)\n",
    "test['TotalBsmtSF'].fillna(0, inplace=True)"
   ]
  },
  {
   "cell_type": "markdown",
   "metadata": {
    "hidden": true
   },
   "source": [
    "#### 분류\n",
    "- 토탈만 사용해보기"
   ]
  },
  {
   "cell_type": "code",
   "execution_count": null,
   "metadata": {
    "ExecuteTime": {
     "end_time": "2021-09-10T06:21:09.016839Z",
     "start_time": "2021-09-10T06:21:09.010887Z"
    },
    "hidden": true
   },
   "outputs": [],
   "source": [
    "feature_del.extend(['BsmtFinType1', 'BsmtFinType2', 'BsmtFinSF1',\n",
    "                    'BsmtFinSF2', 'BsmtUnfSF'])\n",
    "\n",
    "feature_raw.append('TotalBsmtSF')"
   ]
  },
  {
   "cell_type": "markdown",
   "metadata": {
    "heading_collapsed": true
   },
   "source": [
    "### Heating / HeatingQC"
   ]
  },
  {
   "cell_type": "markdown",
   "metadata": {
    "hidden": true
   },
   "source": [
    "- 난방의 종류와 퀄리티"
   ]
  },
  {
   "cell_type": "markdown",
   "metadata": {
    "hidden": true
   },
   "source": [
    "#### 의견"
   ]
  },
  {
   "cell_type": "markdown",
   "metadata": {
    "hidden": true
   },
   "source": [
    "- 난방의 종류가 무엇이든 QC에 포함이 되는게 아닌지..?\n",
    "- 난방 종류는 one-hot, QC는 점수로 매핑\n",
    "- QC 매핑은 좋은 거 같음.\n",
    "- 종류는 1428개가 GasA라서 굳이 원핫 할 만큼 좋은 feature는 아닌듯? 제거 제안"
   ]
  },
  {
   "cell_type": "markdown",
   "metadata": {
    "hidden": true
   },
   "source": [
    "#### 데이터 확인"
   ]
  },
  {
   "cell_type": "code",
   "execution_count": null,
   "metadata": {
    "ExecuteTime": {
     "end_time": "2021-09-10T06:21:14.436910Z",
     "start_time": "2021-09-10T06:21:14.431954Z"
    },
    "hidden": true,
    "scrolled": true
   },
   "outputs": [],
   "source": [
    "# train['HeatingQC'].value_counts()"
   ]
  },
  {
   "cell_type": "code",
   "execution_count": null,
   "metadata": {
    "ExecuteTime": {
     "end_time": "2021-09-10T06:21:14.595724Z",
     "start_time": "2021-09-10T06:21:14.590738Z"
    },
    "hidden": true,
    "scrolled": true
   },
   "outputs": [],
   "source": [
    "# price_plot('HeatingQC')"
   ]
  },
  {
   "cell_type": "code",
   "execution_count": null,
   "metadata": {
    "ExecuteTime": {
     "end_time": "2021-09-10T06:21:14.751148Z",
     "start_time": "2021-09-10T06:21:14.746180Z"
    },
    "hidden": true,
    "scrolled": true
   },
   "outputs": [],
   "source": [
    "# train['Heating'].value_counts()"
   ]
  },
  {
   "cell_type": "markdown",
   "metadata": {
    "hidden": true
   },
   "source": [
    "#### 결측치 확인\n",
    "- 없음"
   ]
  },
  {
   "cell_type": "markdown",
   "metadata": {
    "hidden": true
   },
   "source": [
    "#### 매핑"
   ]
  },
  {
   "cell_type": "code",
   "execution_count": null,
   "metadata": {
    "ExecuteTime": {
     "end_time": "2021-09-10T06:21:17.293147Z",
     "start_time": "2021-09-10T06:21:17.282141Z"
    },
    "hidden": true
   },
   "outputs": [],
   "source": [
    "map_heat = {'Po':0, 'Fa':1, 'TA':2, 'Gd':3, 'Ex':4}\n",
    "train['HeatingQC'] = train['HeatingQC'].map(map_heat)\n",
    "test['HeatingQC'] = test['HeatingQC'].map(map_heat)"
   ]
  },
  {
   "cell_type": "markdown",
   "metadata": {
    "hidden": true
   },
   "source": [
    "#### 분류"
   ]
  },
  {
   "cell_type": "code",
   "execution_count": null,
   "metadata": {
    "ExecuteTime": {
     "end_time": "2021-09-10T06:21:18.498302Z",
     "start_time": "2021-09-10T06:21:18.492323Z"
    },
    "hidden": true
   },
   "outputs": [],
   "source": [
    "# feature_onehot.append('Heating')\n",
    "feature_del.append('Heating')\n",
    "feature_map.append('HeatingQC')"
   ]
  },
  {
   "cell_type": "markdown",
   "metadata": {
    "heading_collapsed": true
   },
   "source": [
    "### CentralAir / Electrical"
   ]
  },
  {
   "cell_type": "markdown",
   "metadata": {
    "hidden": true
   },
   "source": [
    "- "
   ]
  },
  {
   "cell_type": "markdown",
   "metadata": {
    "hidden": true
   },
   "source": [
    "#### 의견"
   ]
  },
  {
   "cell_type": "markdown",
   "metadata": {
    "hidden": true
   },
   "source": [
    "- CentralAir는 Y/N을 1/0으로 매핑\n",
    "- 동의\n",
    "- Electrical은 one-hot\n",
    "- FuseP랑 mix는 제거해도?"
   ]
  },
  {
   "cell_type": "markdown",
   "metadata": {
    "hidden": true
   },
   "source": [
    "#### 데이터 확인"
   ]
  },
  {
   "cell_type": "code",
   "execution_count": null,
   "metadata": {
    "ExecuteTime": {
     "end_time": "2021-09-10T06:21:23.947685Z",
     "start_time": "2021-09-10T06:21:23.944690Z"
    },
    "hidden": true,
    "scrolled": true
   },
   "outputs": [],
   "source": [
    "# val_count('Electrical')"
   ]
  },
  {
   "cell_type": "code",
   "execution_count": null,
   "metadata": {
    "ExecuteTime": {
     "end_time": "2021-09-10T06:21:24.095560Z",
     "start_time": "2021-09-10T06:21:24.091569Z"
    },
    "hidden": true,
    "scrolled": true
   },
   "outputs": [],
   "source": [
    "# val_count('CentralAir')"
   ]
  },
  {
   "cell_type": "markdown",
   "metadata": {
    "hidden": true
   },
   "source": [
    "#### 결측치 확인\n",
    "- 최빈값인 'SBrkr'로 결측치 채움"
   ]
  },
  {
   "cell_type": "code",
   "execution_count": null,
   "metadata": {
    "ExecuteTime": {
     "end_time": "2021-09-10T06:21:25.291325Z",
     "start_time": "2021-09-10T06:21:25.286340Z"
    },
    "hidden": true
   },
   "outputs": [],
   "source": [
    "# null_check('CentralAir'), null_check('Electrical')"
   ]
  },
  {
   "cell_type": "code",
   "execution_count": null,
   "metadata": {
    "ExecuteTime": {
     "end_time": "2021-09-10T06:21:25.442587Z",
     "start_time": "2021-09-10T06:21:25.435644Z"
    },
    "hidden": true
   },
   "outputs": [],
   "source": [
    "train['Electrical'].fillna('SBrkr', inplace=True)"
   ]
  },
  {
   "cell_type": "markdown",
   "metadata": {
    "hidden": true
   },
   "source": [
    "#### 매핑\n",
    "- CentralAir의 Y/N을 1/0으로"
   ]
  },
  {
   "cell_type": "code",
   "execution_count": null,
   "metadata": {
    "ExecuteTime": {
     "end_time": "2021-09-10T06:21:26.664172Z",
     "start_time": "2021-09-10T06:21:26.653919Z"
    },
    "hidden": true
   },
   "outputs": [],
   "source": [
    "map_CA = {'N':0, 'Y':1}\n",
    "train['CentralAir'] = train['CentralAir'].map(map_CA)\n",
    "test['CentralAir'] = test['CentralAir'].map(map_CA)"
   ]
  },
  {
   "cell_type": "markdown",
   "metadata": {
    "hidden": true
   },
   "source": [
    "#### 분류\n",
    "- FuseP, Mix 제외"
   ]
  },
  {
   "cell_type": "code",
   "execution_count": null,
   "metadata": {
    "ExecuteTime": {
     "end_time": "2021-09-10T06:21:27.875895Z",
     "start_time": "2021-09-10T06:21:27.871854Z"
    },
    "hidden": true
   },
   "outputs": [],
   "source": [
    "feature_map.append('CentralAir')\n",
    "feature_onehot.append('Electrical')\n",
    "# feature_del.extend(['Electrical_FuseP', 'Electrical_Mix'])"
   ]
  },
  {
   "cell_type": "markdown",
   "metadata": {
    "heading_collapsed": true
   },
   "source": [
    "### Floor"
   ]
  },
  {
   "cell_type": "markdown",
   "metadata": {
    "hidden": true
   },
   "source": [
    "- 1stFlrSF / 2ndFlrSF : 1층/2층 Floor의 면적\n",
    "- 2ndFlrSF는 0인 값이 많긴 한데, 1층집이라는 얘긴데, 분포를  2층집이라고 해서 1층집보다 많이 비싸도 않네. 2층 넓이 0인 행과 아닌 행 1로 해서 집값 박스플랏 그려봄. 큰차이는 없는듯 1,2층면적을 더해도 괜찮나?\n",
    "- 상관계수는 각각\n",
    "> - 1stFlrSF\t0.605852\n",
    "> - 2ndFlrSF\t0.319334\n",
    "> - sum\t0.716883\n",
    "> - 더해서 처리해도 되려나.\n",
    "- LowQualFinSF : 모든 층 통츨어서 마감이 잘 안된 부분?의 면적\n",
    "- LowQualFinSF은 numeric인데 0이 1434개나 되서 무의미한듯? 걍 제거해도 될듯\n"
   ]
  },
  {
   "cell_type": "code",
   "execution_count": null,
   "metadata": {
    "ExecuteTime": {
     "end_time": "2021-09-10T06:21:30.292376Z",
     "start_time": "2021-09-10T06:21:30.288391Z"
    },
    "hidden": true,
    "scrolled": true
   },
   "outputs": [],
   "source": [
    "# train.plot(x='1stFlrSF',y='SalePrice',kind='scatter')\n",
    "# train.plot(x='2ndFlrSF',y='SalePrice',kind='scatter')\n",
    "# SF=pd.read_csv('data/train.csv')\n",
    "# SF.loc[SF['2ndFlrSF']!=0,['2ndFlrSF']]=1\n",
    "# SF.boxplot(column='SalePrice',by='2ndFlrSF')\n",
    "# train.plot(x='LowQualFinSF',y='SalePrice',kind='scatter')"
   ]
  },
  {
   "cell_type": "code",
   "execution_count": null,
   "metadata": {
    "ExecuteTime": {
     "end_time": "2021-09-10T06:21:30.435992Z",
     "start_time": "2021-09-10T06:21:30.431003Z"
    },
    "hidden": true
   },
   "outputs": [],
   "source": [
    "# SF=pd.read_csv('data/train.csv')\n",
    "# SF['sum']=SF['1stFlrSF']+SF['2ndFlrSF']\n",
    "# pd.DataFrame(SF.corr()['SalePrice']).loc[['1stFlrSF','2ndFlrSF','sum']]"
   ]
  },
  {
   "cell_type": "code",
   "execution_count": null,
   "metadata": {
    "ExecuteTime": {
     "end_time": "2021-09-10T06:21:30.585085Z",
     "start_time": "2021-09-10T06:21:30.580098Z"
    },
    "hidden": true
   },
   "outputs": [],
   "source": [
    "# val_count('LowQualFinSF')"
   ]
  },
  {
   "cell_type": "markdown",
   "metadata": {
    "hidden": true
   },
   "source": [
    "#### 의견"
   ]
  },
  {
   "cell_type": "markdown",
   "metadata": {
    "hidden": true
   },
   "source": [
    "- 면적데이터라서 normailze하고 그냥 넣으면 될 것 같음.\n",
    "- 1층과 2층을 합쳐버리는건?"
   ]
  },
  {
   "cell_type": "markdown",
   "metadata": {
    "heading_collapsed": true,
    "hidden": true
   },
   "source": [
    "#### 결측치 확인\n",
    "- 없음!"
   ]
  },
  {
   "cell_type": "markdown",
   "metadata": {
    "hidden": true
   },
   "source": [
    "#### 분류"
   ]
  },
  {
   "cell_type": "code",
   "execution_count": null,
   "metadata": {
    "ExecuteTime": {
     "end_time": "2021-09-10T06:21:53.358542Z",
     "start_time": "2021-09-10T06:21:53.352557Z"
    },
    "hidden": true
   },
   "outputs": [],
   "source": [
    "# for floor in ['1stFlrSF', '2ndFlrSF', 'LowQualFinSF']:\n",
    "#    feature_raw.append(floor)\n",
    "# for floor in ['1stFlrSF', '2ndFlrSF']:\n",
    "#     feature_raw.append(floor)\n",
    "feature_del.extend(['1stFlrSF', '2ndFlrSF', 'LowQualFinSF'])"
   ]
  },
  {
   "cell_type": "markdown",
   "metadata": {
    "heading_collapsed": true
   },
   "source": [
    "### GrLivArea"
   ]
  },
  {
   "cell_type": "markdown",
   "metadata": {
    "hidden": true
   },
   "source": [
    "- 지상 주거 공간의 넓이"
   ]
  },
  {
   "cell_type": "markdown",
   "metadata": {
    "hidden": true
   },
   "source": [
    "#### 의견"
   ]
  },
  {
   "cell_type": "markdown",
   "metadata": {
    "hidden": true
   },
   "source": [
    "- 그냥 넣어주면 될 듯?\n",
    "- 동의"
   ]
  },
  {
   "cell_type": "markdown",
   "metadata": {
    "hidden": true
   },
   "source": [
    "#### 데이터 확인"
   ]
  },
  {
   "cell_type": "code",
   "execution_count": null,
   "metadata": {
    "ExecuteTime": {
     "end_time": "2021-09-10T06:21:53.370507Z",
     "start_time": "2021-09-10T06:21:53.365522Z"
    },
    "hidden": true
   },
   "outputs": [],
   "source": [
    "# train['GrLivArea'].head()"
   ]
  },
  {
   "cell_type": "code",
   "execution_count": null,
   "metadata": {
    "ExecuteTime": {
     "end_time": "2021-09-10T06:21:53.380482Z",
     "start_time": "2021-09-10T06:21:53.374530Z"
    },
    "hidden": true
   },
   "outputs": [],
   "source": [
    "# train.plot(x='GrLivArea',y='SalePrice',kind='scatter')"
   ]
  },
  {
   "cell_type": "code",
   "execution_count": null,
   "metadata": {
    "ExecuteTime": {
     "end_time": "2021-09-10T06:21:53.388466Z",
     "start_time": "2021-09-10T06:21:53.383474Z"
    },
    "hidden": true
   },
   "outputs": [],
   "source": [
    "# price_cor('GrLivArea')"
   ]
  },
  {
   "cell_type": "markdown",
   "metadata": {
    "hidden": true
   },
   "source": [
    "#### 결측치 확인\n",
    "- 없음!"
   ]
  },
  {
   "cell_type": "markdown",
   "metadata": {
    "hidden": true
   },
   "source": [
    "#### 분류"
   ]
  },
  {
   "cell_type": "code",
   "execution_count": null,
   "metadata": {
    "ExecuteTime": {
     "end_time": "2021-09-10T06:21:53.398431Z",
     "start_time": "2021-09-10T06:21:53.392448Z"
    },
    "hidden": true
   },
   "outputs": [],
   "source": [
    "feature_raw.append('GrLivArea')"
   ]
  },
  {
   "cell_type": "markdown",
   "metadata": {
    "heading_collapsed": true
   },
   "source": [
    "### Bathroom"
   ]
  },
  {
   "cell_type": "markdown",
   "metadata": {
    "hidden": true
   },
   "source": [
    "- 화장실의 개수"
   ]
  },
  {
   "cell_type": "markdown",
   "metadata": {
    "hidden": true
   },
   "source": [
    "#### 의견"
   ]
  },
  {
   "cell_type": "markdown",
   "metadata": {
    "hidden": true
   },
   "source": [
    "- 그래프 그려볼 필요.\n",
    "- 일단 discrete에 다 넣어놓기\n",
    "- 값의 count가 한자릿수인 값들은 빼도 될듯?\n",
    "- 상관계수\n",
    "> - BsmtFullBath 0.227\n",
    "> - BsmtHalfBath -0.017\n",
    "> - FullBath 0.561\n",
    "> - HalfBath 0.284\n",
    "- 상관계수가 낮지 않긴 한데, 급 의문이 discrete 데이터와 상관계수를 구하는 게 유의미한가? 위에서도 discrete 데이터에 상관계수 많이 구해봤던 거 같은데 ㅠㅠㅠ 생각해봐야할듯... 낼 해야지... "
   ]
  },
  {
   "cell_type": "markdown",
   "metadata": {
    "hidden": true
   },
   "source": [
    "#### 데이터 확인"
   ]
  },
  {
   "cell_type": "code",
   "execution_count": null,
   "metadata": {
    "ExecuteTime": {
     "end_time": "2021-09-10T06:22:09.829498Z",
     "start_time": "2021-09-10T06:22:09.824846Z"
    },
    "hidden": true,
    "scrolled": true
   },
   "outputs": [],
   "source": [
    "# val_count('BsmtFullBath')\n",
    "# val_count('BsmtHalfBath')\n",
    "# val_count('FullBath')\n",
    "# val_count('HalfBath')"
   ]
  },
  {
   "cell_type": "code",
   "execution_count": null,
   "metadata": {
    "ExecuteTime": {
     "end_time": "2021-09-10T06:22:10.451951Z",
     "start_time": "2021-09-10T06:22:10.448946Z"
    },
    "hidden": true,
    "scrolled": true
   },
   "outputs": [],
   "source": [
    "# price_plot('BsmtFullBath') #파랑\n",
    "# price_plot('BsmtHalfBath') #노랑\n",
    "# price_plot('FullBath') #빨강\n",
    "# price_plot('HalfBath') #초록"
   ]
  },
  {
   "cell_type": "markdown",
   "metadata": {
    "hidden": true
   },
   "source": [
    "#### 결측치 확인\n",
    "- test set의 BsmtFullBath, BsmtHalfBath에 각각 결측 2개씩\n",
    "- 최빈값 0으로 채움"
   ]
  },
  {
   "cell_type": "code",
   "execution_count": null,
   "metadata": {
    "ExecuteTime": {
     "end_time": "2021-09-10T06:22:11.351252Z",
     "start_time": "2021-09-10T06:22:11.345301Z"
    },
    "hidden": true
   },
   "outputs": [],
   "source": [
    "null_check('BsmtHalfBath')"
   ]
  },
  {
   "cell_type": "code",
   "execution_count": null,
   "metadata": {
    "ExecuteTime": {
     "end_time": "2021-09-10T06:22:11.528816Z",
     "start_time": "2021-09-10T06:22:11.520837Z"
    },
    "hidden": true
   },
   "outputs": [],
   "source": [
    "#null_check('BsmtFullBath'), null_check('BsmtHalfBath'), null_check('FullBath'), null_check('HalfBath')\n",
    "test['BsmtFullBath'].fillna(0, inplace=True)\n",
    "test['BsmtHalfBath'].fillna(0, inplace=True)"
   ]
  },
  {
   "cell_type": "markdown",
   "metadata": {
    "hidden": true
   },
   "source": [
    "#### 분류"
   ]
  },
  {
   "cell_type": "code",
   "execution_count": null,
   "metadata": {
    "ExecuteTime": {
     "end_time": "2021-09-10T06:22:12.687920Z",
     "start_time": "2021-09-10T06:22:12.682931Z"
    },
    "hidden": true
   },
   "outputs": [],
   "source": [
    "feature_dis.extend(['BsmtFullBath', 'BsmtHalfBath',  'HalfBath'])"
   ]
  },
  {
   "cell_type": "markdown",
   "metadata": {
    "heading_collapsed": true
   },
   "source": [
    "### Bedroom, Kitchen, TotalRooms"
   ]
  },
  {
   "cell_type": "markdown",
   "metadata": {
    "hidden": true
   },
   "source": [
    "- 침실, 주방의 개수 및 총 방의 개수"
   ]
  },
  {
   "cell_type": "markdown",
   "metadata": {
    "hidden": true
   },
   "source": [
    "#### 의견"
   ]
  },
  {
   "cell_type": "markdown",
   "metadata": {
    "hidden": true
   },
   "source": [
    "- 일단 다 discrete feature로 분류\n",
    "- 근데 전체 방 개수에 침실/주방 개수가 포함되는데?\n",
    "- KitchenQual 은 0->4로 매핑\n",
    "- 침실이든 주방이는 전체 방이든 많다고 비싸지는 건 아니네... 희한하네...\n",
    "- 걍 그대로 넣어도 머신러닝 모듈이 비선형 관계를 알아서 분석해서 예측해주나? 모듈마다 다르겠지? 모듈마다 어떻게 다른지를 모르니까 모르겠다..."
   ]
  },
  {
   "cell_type": "markdown",
   "metadata": {
    "hidden": true
   },
   "source": [
    "#### 데이터 확인"
   ]
  },
  {
   "cell_type": "code",
   "execution_count": null,
   "metadata": {
    "ExecuteTime": {
     "end_time": "2021-09-10T06:22:17.917243Z",
     "start_time": "2021-09-10T06:22:17.912257Z"
    },
    "hidden": true,
    "scrolled": true
   },
   "outputs": [],
   "source": [
    "# train['TotRmsAbvGrd']-train['BedroomAbvGr']-train['KitchenAbvGr']\n",
    "#train['KitchenAbvGr'].value_counts()\n",
    "#val_count('KitchenQual')"
   ]
  },
  {
   "cell_type": "code",
   "execution_count": null,
   "metadata": {
    "ExecuteTime": {
     "end_time": "2021-09-10T06:22:18.074853Z",
     "start_time": "2021-09-10T06:22:18.069837Z"
    },
    "hidden": true
   },
   "outputs": [],
   "source": [
    "# val_count('BedroomAbvGr')"
   ]
  },
  {
   "cell_type": "code",
   "execution_count": null,
   "metadata": {
    "ExecuteTime": {
     "end_time": "2021-09-10T06:22:28.611935Z",
     "start_time": "2021-09-10T06:22:28.608966Z"
    },
    "hidden": true
   },
   "outputs": [],
   "source": [
    "# price_plot('KitchenQual')"
   ]
  },
  {
   "cell_type": "code",
   "execution_count": null,
   "metadata": {
    "ExecuteTime": {
     "end_time": "2021-09-10T06:22:29.257859Z",
     "start_time": "2021-09-10T06:22:29.252801Z"
    },
    "hidden": true,
    "scrolled": true
   },
   "outputs": [],
   "source": [
    "# price_plot('BedroomAbvGr')"
   ]
  },
  {
   "cell_type": "code",
   "execution_count": null,
   "metadata": {
    "ExecuteTime": {
     "end_time": "2021-09-10T06:22:29.273422Z",
     "start_time": "2021-09-10T06:22:29.259792Z"
    },
    "hidden": true,
    "scrolled": true
   },
   "outputs": [],
   "source": [
    "# price_plot('KitchenAbvGr')"
   ]
  },
  {
   "cell_type": "code",
   "execution_count": null,
   "metadata": {
    "ExecuteTime": {
     "end_time": "2021-09-10T06:22:29.282370Z",
     "start_time": "2021-09-10T06:22:29.277380Z"
    },
    "hidden": true
   },
   "outputs": [],
   "source": [
    "# price_plot('TotRmsAbvGrd')"
   ]
  },
  {
   "cell_type": "markdown",
   "metadata": {
    "hidden": true
   },
   "source": [
    "#### 결측치 확인\n",
    "- test-set KitchenQual에 결측 하나.\n",
    "- 최빈값이자 중앙값인 TA로 처리"
   ]
  },
  {
   "cell_type": "code",
   "execution_count": null,
   "metadata": {
    "ExecuteTime": {
     "end_time": "2021-09-10T06:22:30.471009Z",
     "start_time": "2021-09-10T06:22:30.454055Z"
    },
    "hidden": true
   },
   "outputs": [],
   "source": [
    "for room in ['BedroomAbvGr', 'KitchenAbvGr', 'TotRmsAbvGrd', 'KitchenQual']:\n",
    "    null_check(room)\n",
    "test['KitchenQual'].fillna('TA', inplace=True)"
   ]
  },
  {
   "cell_type": "markdown",
   "metadata": {
    "hidden": true
   },
   "source": [
    "#### 매핑\n",
    "- 주방 퀄리티를 숫자로"
   ]
  },
  {
   "cell_type": "code",
   "execution_count": null,
   "metadata": {
    "ExecuteTime": {
     "end_time": "2021-09-10T06:22:31.692275Z",
     "start_time": "2021-09-10T06:22:31.680723Z"
    },
    "hidden": true
   },
   "outputs": [],
   "source": [
    "map_qual = {'Po':0, 'Fa':1, 'TA':2, 'Gd':3, 'Ex':4}\n",
    "train['KitchenQual'] = train['KitchenQual'].map(map_qual)\n",
    "test['KitchenQual'] = test['KitchenQual'].map(map_qual)"
   ]
  },
  {
   "cell_type": "markdown",
   "metadata": {
    "hidden": true
   },
   "source": [
    "#### 분류"
   ]
  },
  {
   "cell_type": "code",
   "execution_count": null,
   "metadata": {
    "ExecuteTime": {
     "end_time": "2021-09-10T06:22:32.895899Z",
     "start_time": "2021-09-10T06:22:32.892919Z"
    },
    "hidden": true
   },
   "outputs": [],
   "source": [
    "feature_dis.extend(['BedroomAbvGr', 'KitchenAbvGr', 'TotRmsAbvGrd'])\n",
    "feature_map.append('KitchenQual')"
   ]
  },
  {
   "cell_type": "markdown",
   "metadata": {
    "heading_collapsed": true
   },
   "source": [
    "### Functional"
   ]
  },
  {
   "cell_type": "markdown",
   "metadata": {
    "hidden": true
   },
   "source": [
    "- "
   ]
  },
  {
   "cell_type": "markdown",
   "metadata": {
    "hidden": true
   },
   "source": [
    "#### 의견"
   ]
  },
  {
   "cell_type": "markdown",
   "metadata": {
    "hidden": true
   },
   "source": [
    "- one-hot? / extra에 넣어놓고 그래프 그려보기\n",
    "\n",
    "- Sev, Maj1/2는 제거하고 나머지 원핫?"
   ]
  },
  {
   "cell_type": "markdown",
   "metadata": {
    "hidden": true
   },
   "source": [
    "#### 데이터 확인"
   ]
  },
  {
   "cell_type": "code",
   "execution_count": null,
   "metadata": {
    "ExecuteTime": {
     "end_time": "2021-09-10T06:22:38.202789Z",
     "start_time": "2021-09-10T06:22:38.197800Z"
    },
    "hidden": true,
    "scrolled": false
   },
   "outputs": [],
   "source": [
    "# val_count('Functional')"
   ]
  },
  {
   "cell_type": "code",
   "execution_count": null,
   "metadata": {
    "ExecuteTime": {
     "end_time": "2021-09-10T06:22:38.349414Z",
     "start_time": "2021-09-10T06:22:38.343410Z"
    },
    "hidden": true
   },
   "outputs": [],
   "source": [
    "# price_plot('Functional')"
   ]
  },
  {
   "cell_type": "code",
   "execution_count": null,
   "metadata": {
    "ExecuteTime": {
     "end_time": "2021-09-10T06:22:38.501989Z",
     "start_time": "2021-09-10T06:22:38.497003Z"
    },
    "hidden": true
   },
   "outputs": [],
   "source": [
    "# train.boxplot(column=['SalePrice'],by='Functional')"
   ]
  },
  {
   "cell_type": "markdown",
   "metadata": {
    "hidden": true
   },
   "source": [
    "#### 결측치 확인\n",
    "- 최빈값으로 결측치 채워줌"
   ]
  },
  {
   "cell_type": "code",
   "execution_count": null,
   "metadata": {
    "ExecuteTime": {
     "end_time": "2021-09-10T06:22:58.460935Z",
     "start_time": "2021-09-10T06:22:58.455957Z"
    },
    "hidden": true
   },
   "outputs": [],
   "source": [
    "test['Functional'].fillna('Typ', inplace=True)\n",
    "null_check('Functional')"
   ]
  },
  {
   "cell_type": "markdown",
   "metadata": {
    "hidden": true
   },
   "source": [
    "#### 분류\n",
    "- Maj1, Maj2, Sev제거 원핫"
   ]
  },
  {
   "cell_type": "code",
   "execution_count": null,
   "metadata": {
    "ExecuteTime": {
     "end_time": "2021-09-10T06:22:59.769113Z",
     "start_time": "2021-09-10T06:22:59.764155Z"
    },
    "hidden": true
   },
   "outputs": [],
   "source": [
    "feature_onehot.append('Functional')\n",
    "# feature_del.extend(['Functional_Maj1', 'Functional_Maj2', 'Functional_Sev'])"
   ]
  },
  {
   "cell_type": "markdown",
   "metadata": {
    "heading_collapsed": true
   },
   "source": [
    "### Fireplaces / Qu"
   ]
  },
  {
   "cell_type": "markdown",
   "metadata": {
    "hidden": true
   },
   "source": [
    "- 벽난로의 개수 및 퀄리티"
   ]
  },
  {
   "cell_type": "markdown",
   "metadata": {
    "hidden": true
   },
   "source": [
    "#### 의견"
   ]
  },
  {
   "cell_type": "markdown",
   "metadata": {
    "hidden": true
   },
   "source": [
    "- 벽난로의 개수는 discrete로.\n",
    "- Quality는 매핑\n",
    "- 벽난로가 많아질수록 비싸지긴 하는뎅\n",
    "- 벽난로 퀄리티가 1점인 집은 벽난로가 없는 집보다 집값 평균은 아주 약간 낮네... 유의미한 차이는 아닌 거 같지만... 집값 평균 차이 자체가 작기도 하고 난로 없는 집이 690개고 난로 퀄리티 1점인 집이 20개기도 해서\n",
    "- 난로의 퀄리티에 난로가 없는 경우가 들어 있는 게 뭔가 안 맞는 거 같은데... 퀄리티가 0점이라는 게 아니잖엉... 걍 난로가 없다는 건데 그건 난로 퀄리티가 1인 것보다 나은 상황일 수 있음... 이걸 어떻게 전처리해야 할까..."
   ]
  },
  {
   "cell_type": "markdown",
   "metadata": {
    "hidden": true
   },
   "source": [
    "#### 데이터 확인"
   ]
  },
  {
   "cell_type": "code",
   "execution_count": null,
   "metadata": {
    "ExecuteTime": {
     "end_time": "2021-09-10T06:23:07.377181Z",
     "start_time": "2021-09-10T06:23:07.372193Z"
    },
    "hidden": true
   },
   "outputs": [],
   "source": [
    "# val_count('Fireplaces')"
   ]
  },
  {
   "cell_type": "code",
   "execution_count": null,
   "metadata": {
    "ExecuteTime": {
     "end_time": "2021-09-10T06:23:07.551200Z",
     "start_time": "2021-09-10T06:23:07.546231Z"
    },
    "hidden": true
   },
   "outputs": [],
   "source": [
    "# price_plot('Fireplaces')"
   ]
  },
  {
   "cell_type": "markdown",
   "metadata": {
    "hidden": true
   },
   "source": [
    "#### 결측치 확인\n",
    "- fireplace가 없는 경우 'NA'로 채워주기"
   ]
  },
  {
   "cell_type": "code",
   "execution_count": null,
   "metadata": {
    "ExecuteTime": {
     "end_time": "2021-09-10T06:23:08.541483Z",
     "start_time": "2021-09-10T06:23:08.532504Z"
    },
    "hidden": true
   },
   "outputs": [],
   "source": [
    "train['FireplaceQu'].fillna('NA', inplace=True)\n",
    "test['FireplaceQu'].fillna('NA', inplace=True)\n",
    "null_check('FireplaceQu')"
   ]
  },
  {
   "cell_type": "markdown",
   "metadata": {
    "hidden": true
   },
   "source": [
    "#### 매핑"
   ]
  },
  {
   "cell_type": "code",
   "execution_count": null,
   "metadata": {
    "ExecuteTime": {
     "end_time": "2021-09-10T06:23:09.682000Z",
     "start_time": "2021-09-10T06:23:09.670054Z"
    },
    "hidden": true
   },
   "outputs": [],
   "source": [
    "map_qual = {'NA':0, 'Po':1, 'Fa':2, 'TA':3, 'Gd':4, 'Ex':5}\n",
    "train['FireplaceQu'] = train['FireplaceQu'].map(map_qual)\n",
    "test['FireplaceQu'] = test['FireplaceQu'].map(map_qual)"
   ]
  },
  {
   "cell_type": "code",
   "execution_count": null,
   "metadata": {
    "ExecuteTime": {
     "end_time": "2021-09-10T06:23:09.852419Z",
     "start_time": "2021-09-10T06:23:09.847449Z"
    },
    "hidden": true
   },
   "outputs": [],
   "source": [
    "# val_count('FireplaceQu')"
   ]
  },
  {
   "cell_type": "code",
   "execution_count": null,
   "metadata": {
    "ExecuteTime": {
     "end_time": "2021-09-10T06:23:10.026350Z",
     "start_time": "2021-09-10T06:23:10.021357Z"
    },
    "hidden": true
   },
   "outputs": [],
   "source": [
    "# price_plot('FireplaceQu')"
   ]
  },
  {
   "cell_type": "markdown",
   "metadata": {
    "hidden": true
   },
   "source": [
    "#### 분류"
   ]
  },
  {
   "cell_type": "code",
   "execution_count": null,
   "metadata": {
    "ExecuteTime": {
     "end_time": "2021-09-10T06:23:11.186417Z",
     "start_time": "2021-09-10T06:23:11.181417Z"
    },
    "hidden": true
   },
   "outputs": [],
   "source": [
    "feature_dis.append('Fireplaces')\n",
    "feature_map.append('FireplaceQu')"
   ]
  },
  {
   "cell_type": "markdown",
   "metadata": {},
   "source": [
    "### ***Garage"
   ]
  },
  {
   "cell_type": "markdown",
   "metadata": {},
   "source": [
    "- 차고에 관한 항목들"
   ]
  },
  {
   "cell_type": "code",
   "execution_count": null,
   "metadata": {
    "ExecuteTime": {
     "end_time": "2021-09-10T06:23:13.554479Z",
     "start_time": "2021-09-10T06:23:13.550486Z"
    }
   },
   "outputs": [],
   "source": [
    "Garage = ['GarageType', 'GarageYrBlt', 'GarageFinish',\n",
    "'GarageCars', 'GarageArea', 'GarageQual', 'GarageCond', 'PavedDrive']"
   ]
  },
  {
   "cell_type": "code",
   "execution_count": null,
   "metadata": {
    "scrolled": true
   },
   "outputs": [],
   "source": [
    "sns.pairplot(train[['GarageType', 'GarageYrBlt', 'GarageFinish']])"
   ]
  },
  {
   "cell_type": "markdown",
   "metadata": {},
   "source": [
    "#### 의견"
   ]
  },
  {
   "cell_type": "markdown",
   "metadata": {},
   "source": [
    "- one-hot : Type, PavedDrive\n",
    "- discrete : YrBlt, Cars\n",
    "- mapping : Finish, Qual, Cond\n",
    "- raw : Area"
   ]
  },
  {
   "cell_type": "markdown",
   "metadata": {},
   "source": [
    "#### 데이터 확인"
   ]
  },
  {
   "cell_type": "code",
   "execution_count": null,
   "metadata": {
    "ExecuteTime": {
     "end_time": "2021-09-10T06:23:16.817586Z",
     "start_time": "2021-09-10T06:23:16.813594Z"
    }
   },
   "outputs": [],
   "source": [
    "#val_count('GarageCars')"
   ]
  },
  {
   "cell_type": "code",
   "execution_count": null,
   "metadata": {
    "ExecuteTime": {
     "end_time": "2021-09-10T06:23:16.991124Z",
     "start_time": "2021-09-10T06:23:16.986132Z"
    }
   },
   "outputs": [],
   "source": [
    "# train.loc[:,'GarageType':'PavedDrive']"
   ]
  },
  {
   "cell_type": "markdown",
   "metadata": {},
   "source": [
    "#### 결측치 확인\n",
    "- Type, YrBlt, Finish, Qual, Cond에 차고가 없는 경우 결측이 들어가있음.\n",
    "- 'NA' 혹은 0으로 데이터 형태에 맞게 채워주기\n",
    "- Cars/Area의 결측 하나는 0으로"
   ]
  },
  {
   "cell_type": "code",
   "execution_count": null,
   "metadata": {
    "ExecuteTime": {
     "end_time": "2021-09-10T06:23:18.089379Z",
     "start_time": "2021-09-10T06:23:18.074393Z"
    }
   },
   "outputs": [],
   "source": [
    "for feat in ['GarageType', 'GarageFinish', 'GarageQual', 'GarageCond']:\n",
    "    train[feat].fillna('NA', inplace=True)\n",
    "    test[feat].fillna('NA', inplace=True)\n",
    "for feat in ['GarageYrBlt', 'GarageCars', 'GarageArea']:\n",
    "    train[feat].fillna(0, inplace=True)\n",
    "    test[feat].fillna(0, inplace=True)"
   ]
  },
  {
   "cell_type": "markdown",
   "metadata": {},
   "source": [
    "#### 매핑\n",
    "- Finish 는 NA, Unf, Rfn, Fin 순으로\n",
    "- Qual, Cond 는 하던대로"
   ]
  },
  {
   "cell_type": "code",
   "execution_count": null,
   "metadata": {
    "ExecuteTime": {
     "end_time": "2021-09-10T06:23:19.211838Z",
     "start_time": "2021-09-10T06:23:19.190862Z"
    }
   },
   "outputs": [],
   "source": [
    "map_fin = {'NA':0, 'Unf':1, 'RFn':2, 'Fin':3}\n",
    "map_qual = {'NA':0, 'Po':1, 'Fa':2, 'TA':3, 'Gd':4, 'Ex':5}\n",
    "for dataset in [train, test]:\n",
    "    dataset['GarageFinish'] = dataset['GarageFinish'].map(map_fin)\n",
    "    for feat in ['GarageQual', 'GarageCond']:\n",
    "        dataset[feat] = dataset[feat].map(map_qual)"
   ]
  },
  {
   "cell_type": "code",
   "execution_count": null,
   "metadata": {
    "ExecuteTime": {
     "end_time": "2021-09-10T06:23:19.377365Z",
     "start_time": "2021-09-10T06:23:19.373421Z"
    },
    "scrolled": true
   },
   "outputs": [],
   "source": [
    "# train.loc[:,'GarageType':'PavedDrive'].hist()"
   ]
  },
  {
   "cell_type": "markdown",
   "metadata": {},
   "source": [
    "- 여기 퀄리티랑 컨디션 히스토그램으로 보니까 더 극적으로 3만 많아보이네 걍 넣고 돌리면 되니까 굳이 피쳐 삭제할 필요는 없게찌??\n",
    "- 여기서도 컨디션은 집값과 선형관계가 아니긴한데\n",
    "- 머신러닝 모듈이 비선형관계도 모델링 해주는가?\n",
    "- 아니라면 비선형 변수는 어떻게 처리해야 하는가?"
   ]
  },
  {
   "cell_type": "code",
   "execution_count": null,
   "metadata": {
    "ExecuteTime": {
     "end_time": "2021-09-10T06:23:20.463682Z",
     "start_time": "2021-09-10T06:23:20.458996Z"
    },
    "scrolled": true
   },
   "outputs": [],
   "source": [
    "# train['GarageQual'].hist()"
   ]
  },
  {
   "cell_type": "code",
   "execution_count": null,
   "metadata": {
    "ExecuteTime": {
     "end_time": "2021-09-10T06:23:20.641486Z",
     "start_time": "2021-09-10T06:23:20.637498Z"
    }
   },
   "outputs": [],
   "source": [
    "# price_plot('GarageQual')"
   ]
  },
  {
   "cell_type": "code",
   "execution_count": null,
   "metadata": {
    "ExecuteTime": {
     "end_time": "2021-09-10T06:23:20.809635Z",
     "start_time": "2021-09-10T06:23:20.805627Z"
    }
   },
   "outputs": [],
   "source": [
    "# train['GarageCond'].hist()"
   ]
  },
  {
   "cell_type": "code",
   "execution_count": null,
   "metadata": {
    "ExecuteTime": {
     "end_time": "2021-09-10T06:23:20.968775Z",
     "start_time": "2021-09-10T06:23:20.963788Z"
    }
   },
   "outputs": [],
   "source": [
    "# val_count('GarageQual')"
   ]
  },
  {
   "cell_type": "code",
   "execution_count": null,
   "metadata": {
    "ExecuteTime": {
     "end_time": "2021-09-10T06:23:21.142331Z",
     "start_time": "2021-09-10T06:23:21.138354Z"
    }
   },
   "outputs": [],
   "source": [
    "# val_count('GarageCond')"
   ]
  },
  {
   "cell_type": "code",
   "execution_count": null,
   "metadata": {
    "ExecuteTime": {
     "end_time": "2021-09-10T06:23:21.304879Z",
     "start_time": "2021-09-10T06:23:21.299924Z"
    }
   },
   "outputs": [],
   "source": [
    "# price_plot('GarageCond')"
   ]
  },
  {
   "cell_type": "markdown",
   "metadata": {},
   "source": [
    "GarageType은 원핫 동의"
   ]
  },
  {
   "cell_type": "code",
   "execution_count": null,
   "metadata": {
    "ExecuteTime": {
     "end_time": "2021-09-10T06:23:22.412097Z",
     "start_time": "2021-09-10T06:23:22.408113Z"
    }
   },
   "outputs": [],
   "source": [
    "# val_count('GarageType')"
   ]
  },
  {
   "cell_type": "code",
   "execution_count": null,
   "metadata": {
    "ExecuteTime": {
     "end_time": "2021-09-10T06:23:22.580282Z",
     "start_time": "2021-09-10T06:23:22.575261Z"
    },
    "scrolled": true
   },
   "outputs": [],
   "source": [
    "# price_plot('GarageType')"
   ]
  },
  {
   "cell_type": "markdown",
   "metadata": {},
   "source": [
    "PavedDrive는 순서가 뚜렷한 거 같은뎅 012로 넣으면 어떨지\n",
    "- 비포장 -> 일부 포장 -> 전체 포장 순"
   ]
  },
  {
   "cell_type": "code",
   "execution_count": null,
   "metadata": {
    "ExecuteTime": {
     "end_time": "2021-09-10T06:23:23.713156Z",
     "start_time": "2021-09-10T06:23:23.708171Z"
    },
    "scrolled": true
   },
   "outputs": [],
   "source": [
    "# val_count('PavedDrive')"
   ]
  },
  {
   "cell_type": "code",
   "execution_count": null,
   "metadata": {
    "ExecuteTime": {
     "end_time": "2021-09-10T06:23:23.885321Z",
     "start_time": "2021-09-10T06:23:23.881317Z"
    }
   },
   "outputs": [],
   "source": [
    "# price_plot('PavedDrive')"
   ]
  },
  {
   "cell_type": "markdown",
   "metadata": {},
   "source": [
    "GarageArea는 raw 동의"
   ]
  },
  {
   "cell_type": "code",
   "execution_count": null,
   "metadata": {
    "ExecuteTime": {
     "end_time": "2021-09-10T06:23:25.004714Z",
     "start_time": "2021-09-10T06:23:24.999725Z"
    }
   },
   "outputs": [],
   "source": [
    "# train.plot(x='GarageArea',y='SalePrice',kind='scatter')"
   ]
  },
  {
   "cell_type": "code",
   "execution_count": null,
   "metadata": {
    "ExecuteTime": {
     "end_time": "2021-09-10T06:23:25.176281Z",
     "start_time": "2021-09-10T06:23:25.171267Z"
    }
   },
   "outputs": [],
   "source": [
    "# price_cor('GarageArea')"
   ]
  },
  {
   "cell_type": "code",
   "execution_count": null,
   "metadata": {
    "ExecuteTime": {
     "end_time": "2021-09-10T06:23:25.347368Z",
     "start_time": "2021-09-10T06:23:25.343376Z"
    }
   },
   "outputs": [],
   "source": [
    "# val_count('GarageFinish')"
   ]
  },
  {
   "cell_type": "code",
   "execution_count": null,
   "metadata": {
    "ExecuteTime": {
     "end_time": "2021-09-10T06:23:25.520460Z",
     "start_time": "2021-09-10T06:23:25.515473Z"
    },
    "scrolled": true
   },
   "outputs": [],
   "source": [
    "# price_plot('GarageFinish')"
   ]
  },
  {
   "cell_type": "markdown",
   "metadata": {},
   "source": [
    "GarageCars는 4가 5개밖에 없어서 4의 평균집값이 왜곡된듯"
   ]
  },
  {
   "cell_type": "code",
   "execution_count": null,
   "metadata": {
    "ExecuteTime": {
     "end_time": "2021-09-10T06:23:26.677238Z",
     "start_time": "2021-09-10T06:23:26.672887Z"
    },
    "scrolled": true
   },
   "outputs": [],
   "source": [
    "# price_plot('GarageCars')"
   ]
  },
  {
   "cell_type": "code",
   "execution_count": null,
   "metadata": {
    "ExecuteTime": {
     "end_time": "2021-09-10T06:23:26.844273Z",
     "start_time": "2021-09-10T06:23:26.841248Z"
    }
   },
   "outputs": [],
   "source": [
    "# val_count('GarageCars')"
   ]
  },
  {
   "cell_type": "code",
   "execution_count": null,
   "metadata": {
    "ExecuteTime": {
     "end_time": "2021-09-10T06:23:27.010828Z",
     "start_time": "2021-09-10T06:23:27.007804Z"
    }
   },
   "outputs": [],
   "source": [
    "# price_plot('GarageYrBlt')"
   ]
  },
  {
   "cell_type": "markdown",
   "metadata": {},
   "source": [
    "#### 분류\n",
    "- 차고가 지어진 년도는 다른 년도들이랑 같이 보게 extra로"
   ]
  },
  {
   "cell_type": "code",
   "execution_count": null,
   "metadata": {
    "ExecuteTime": {
     "end_time": "2021-09-10T06:23:28.219652Z",
     "start_time": "2021-09-10T06:23:28.210674Z"
    }
   },
   "outputs": [],
   "source": [
    "feature_onehot.extend(['GarageType', 'PavedDrive'])\n",
    "feature_dis.append('GarageCars')\n",
    "feature_extra.append('GarageYrBlt')\n",
    "feature_map.extend(['GarageFinish', 'GarageQual', 'GarageCond'])\n",
    "feature_raw.append('GarageArea')"
   ]
  },
  {
   "cell_type": "markdown",
   "metadata": {
    "heading_collapsed": true
   },
   "source": [
    "### Extra Areas"
   ]
  },
  {
   "cell_type": "markdown",
   "metadata": {
    "hidden": true
   },
   "source": [
    "- 실외 부가적인 공간들의 넓이(Deck, Porch)"
   ]
  },
  {
   "cell_type": "code",
   "execution_count": null,
   "metadata": {
    "ExecuteTime": {
     "end_time": "2021-09-10T06:23:30.341828Z",
     "start_time": "2021-09-10T06:23:30.337827Z"
    },
    "hidden": true
   },
   "outputs": [],
   "source": [
    "ex_area = ['WoodDeckSF', 'OpenPorchSF', 'EnclosedPorch', '3SsnPorch', 'ScreenPorch']"
   ]
  },
  {
   "cell_type": "code",
   "execution_count": null,
   "metadata": {
    "ExecuteTime": {
     "end_time": "2021-09-10T06:23:30.480480Z",
     "start_time": "2021-09-10T06:23:30.475458Z"
    },
    "hidden": true
   },
   "outputs": [],
   "source": [
    "# train.corr()['WoodDeckSF':'ScreenPorch']['SalePrice']"
   ]
  },
  {
   "cell_type": "code",
   "execution_count": null,
   "metadata": {
    "ExecuteTime": {
     "end_time": "2021-09-10T06:23:30.625059Z",
     "start_time": "2021-09-10T06:23:30.620188Z"
    },
    "hidden": true
   },
   "outputs": [],
   "source": [
    "# train.loc[:,'WoodDeckSF':'ScreenPorch'][500:550]"
   ]
  },
  {
   "cell_type": "markdown",
   "metadata": {
    "hidden": true
   },
   "source": [
    "#### 의견"
   ]
  },
  {
   "cell_type": "markdown",
   "metadata": {
    "hidden": true
   },
   "source": [
    "- 전부 면적 값이므로 그대로 넣기 / normalize 고민\n",
    "- 그대로 넣기 동의 Scale은 안 해도 될듯? 값이 엄청 크거나 하진 않은 거 같은뎅"
   ]
  },
  {
   "cell_type": "markdown",
   "metadata": {
    "hidden": true
   },
   "source": [
    "#### 결측치 확인\n",
    "- 없음!"
   ]
  },
  {
   "cell_type": "markdown",
   "metadata": {
    "hidden": true
   },
   "source": [
    "#### 분류"
   ]
  },
  {
   "cell_type": "code",
   "execution_count": null,
   "metadata": {
    "ExecuteTime": {
     "end_time": "2021-09-10T06:23:35.106354Z",
     "start_time": "2021-09-10T06:23:35.103116Z"
    },
    "hidden": true
   },
   "outputs": [],
   "source": [
    "feature_raw.extend(ex_area)"
   ]
  },
  {
   "cell_type": "markdown",
   "metadata": {
    "heading_collapsed": true
   },
   "source": [
    "### Pool, Fence, Misc"
   ]
  },
  {
   "cell_type": "markdown",
   "metadata": {
    "hidden": true
   },
   "source": [
    "- 수영장, 펜스, 그 외 추가적인 feature들"
   ]
  },
  {
   "cell_type": "markdown",
   "metadata": {
    "hidden": true
   },
   "source": [
    "#### 의견"
   ]
  },
  {
   "cell_type": "markdown",
   "metadata": {
    "hidden": true
   },
   "source": [
    "- PoolArea랑 QC를 동시에 반영? (곱한다거나)\n",
    "- 일단 Area는 면적이니까 raw / PoolQC, Fence는 mapping\n",
    "- Pool은 데이터가 7개밖에 없당... 무의미한 거 같엉 심지어 테스트에도 3개밖에 없음... Pool관련은 다 지우는 게 어떤가.\n",
    "- MiscFeature의 종류가 중요할까? 가격이 있으니까 지우는걸로..\n",
    "- 그래프 보면 Misc가격이랑 집값이 상관 없어보임. 상관계수도 -0.02 심지어 음수네...\n",
    "- MiscFeature는 Shed정도가 그나마 49개라 의미가 있다고 여길 수 있는데 shed 평균 집값을 보면 전체평균보다 15%정도 낮은 거 같음 걍 Misc가 있다 없다 정도만 구분해서 원핫 하던가 아니면 걍 지워버려도 될듯...\n",
    "\n",
    "- Fence는 원핫"
   ]
  },
  {
   "cell_type": "markdown",
   "metadata": {
    "hidden": true
   },
   "source": [
    "#### 데이터 확인"
   ]
  },
  {
   "cell_type": "code",
   "execution_count": null,
   "metadata": {
    "ExecuteTime": {
     "end_time": "2021-09-10T06:23:40.689283Z",
     "start_time": "2021-09-10T06:23:40.684296Z"
    },
    "hidden": true
   },
   "outputs": [],
   "source": [
    "# val_count('MiscFeature')"
   ]
  },
  {
   "cell_type": "code",
   "execution_count": null,
   "metadata": {
    "ExecuteTime": {
     "end_time": "2021-09-10T06:23:40.872305Z",
     "start_time": "2021-09-10T06:23:40.868384Z"
    },
    "hidden": true,
    "scrolled": true
   },
   "outputs": [],
   "source": [
    "# val_count('PoolQC')"
   ]
  },
  {
   "cell_type": "code",
   "execution_count": null,
   "metadata": {
    "ExecuteTime": {
     "end_time": "2021-09-10T06:23:41.016462Z",
     "start_time": "2021-09-10T06:23:41.012473Z"
    },
    "hidden": true
   },
   "outputs": [],
   "source": [
    "# val_count('Fence')"
   ]
  },
  {
   "cell_type": "code",
   "execution_count": null,
   "metadata": {
    "ExecuteTime": {
     "end_time": "2021-09-10T06:23:41.171664Z",
     "start_time": "2021-09-10T06:23:41.166670Z"
    },
    "hidden": true,
    "scrolled": true
   },
   "outputs": [],
   "source": [
    "# price_plot('Fence')"
   ]
  },
  {
   "cell_type": "markdown",
   "metadata": {
    "hidden": true
   },
   "source": [
    "#### 결측치 확인\n",
    "- Pool, Fence가 없는경우 'NA'로 바꿔주기"
   ]
  },
  {
   "cell_type": "code",
   "execution_count": null,
   "metadata": {
    "ExecuteTime": {
     "end_time": "2021-09-10T06:23:42.271319Z",
     "start_time": "2021-09-10T06:23:42.261407Z"
    },
    "hidden": true
   },
   "outputs": [],
   "source": [
    "for dataset in [train, test]:\n",
    "    for feat in ['PoolQC', 'Fence']:\n",
    "        dataset[feat].fillna('NA', inplace=True)"
   ]
  },
  {
   "cell_type": "markdown",
   "metadata": {
    "hidden": true
   },
   "source": [
    "#### 매핑"
   ]
  },
  {
   "cell_type": "code",
   "execution_count": null,
   "metadata": {
    "ExecuteTime": {
     "end_time": "2021-09-10T06:23:43.385489Z",
     "start_time": "2021-09-10T06:23:43.364542Z"
    },
    "hidden": true
   },
   "outputs": [],
   "source": [
    "map_qual = {'NA':0, 'Po':1, 'Fa':2, 'TA':3, 'Gd':4, 'Ex':5}\n",
    "map_fence = {'NA':0, 'MnWw':1, 'GdWo':2, 'MnPrv':3, 'GdPrv':4}\n",
    "for dataset in [train, test]:\n",
    "    dataset['PoolQC'] = dataset['PoolQC'].map(map_qual)\n",
    "    dataset['Fence'] = dataset['Fence'].map(map_fence)    "
   ]
  },
  {
   "cell_type": "code",
   "execution_count": null,
   "metadata": {
    "ExecuteTime": {
     "end_time": "2021-09-10T06:23:43.527110Z",
     "start_time": "2021-09-10T06:23:43.523121Z"
    },
    "hidden": true,
    "scrolled": true
   },
   "outputs": [],
   "source": [
    "# val_count('MiscFeature')"
   ]
  },
  {
   "cell_type": "code",
   "execution_count": null,
   "metadata": {
    "ExecuteTime": {
     "end_time": "2021-09-10T06:23:43.664317Z",
     "start_time": "2021-09-10T06:23:43.661323Z"
    },
    "hidden": true,
    "scrolled": true
   },
   "outputs": [],
   "source": [
    "# price_plot('MiscVal')"
   ]
  },
  {
   "cell_type": "code",
   "execution_count": null,
   "metadata": {
    "ExecuteTime": {
     "end_time": "2021-09-10T06:23:43.802872Z",
     "start_time": "2021-09-10T06:23:43.798879Z"
    },
    "hidden": true
   },
   "outputs": [],
   "source": [
    "# price_cor('MiscVal')"
   ]
  },
  {
   "cell_type": "code",
   "execution_count": null,
   "metadata": {
    "ExecuteTime": {
     "end_time": "2021-09-10T06:23:43.945975Z",
     "start_time": "2021-09-10T06:23:43.942966Z"
    },
    "hidden": true,
    "scrolled": true
   },
   "outputs": [],
   "source": [
    "# price_plot('MiscFeature')\n",
    "# train['SalePrice'].mean()"
   ]
  },
  {
   "cell_type": "code",
   "execution_count": null,
   "metadata": {
    "ExecuteTime": {
     "end_time": "2021-09-10T06:23:44.097129Z",
     "start_time": "2021-09-10T06:23:44.093145Z"
    },
    "hidden": true
   },
   "outputs": [],
   "source": [
    "# train.groupby('MiscFeature').mean()"
   ]
  },
  {
   "cell_type": "markdown",
   "metadata": {
    "hidden": true
   },
   "source": [
    "#### 분류"
   ]
  },
  {
   "cell_type": "code",
   "execution_count": null,
   "metadata": {
    "ExecuteTime": {
     "end_time": "2021-09-10T06:23:45.245103Z",
     "start_time": "2021-09-10T06:23:45.240108Z"
    },
    "hidden": true
   },
   "outputs": [],
   "source": [
    "feature_onehot.append('Fence')\n",
    "feature_del.extend(['MiscFeature', 'PoolArea', 'PoolQC', 'MiscVal'])"
   ]
  },
  {
   "cell_type": "markdown",
   "metadata": {
    "heading_collapsed": true
   },
   "source": [
    "### MoSold / YrSold"
   ]
  },
  {
   "cell_type": "markdown",
   "metadata": {
    "hidden": true
   },
   "source": [
    "- 팔린 월/년도"
   ]
  },
  {
   "cell_type": "markdown",
   "metadata": {
    "hidden": true
   },
   "source": [
    "#### 의견"
   ]
  },
  {
   "cell_type": "markdown",
   "metadata": {
    "hidden": true
   },
   "source": [
    "- discrete\n",
    "- 년도 normalize / 둘을 합쳐야할지 각각 반영해야 할지?\n",
    "- 미래에 팔릴 집값을 예측하는 거라면 월만 의미 있고 년은 무의미 하겠지만... test의 집값을 맞추는 거라면... test에도 년도 분포가 train가 같으니까 년도도 넣어야 할듯\n",
    "- 둘이 합칠 수는 없을듯? 의미가 달라서... 시작점을 기준으로 1개월씩 지나는 방식으로 해도 선형관계가 있는 게 아니고 딱 그 해 그 달에 대한 정보가 유의미한 거니까 원핫인코딩을 하던가 해야할듯 그렇게 하면 총 60개월이니까 열이 60개라서... 걍 둘이 따로 두고 그대로 돌리던가 각자 원핫 하던가? "
   ]
  },
  {
   "cell_type": "markdown",
   "metadata": {
    "hidden": true
   },
   "source": [
    "#### 데이터 확인"
   ]
  },
  {
   "cell_type": "code",
   "execution_count": null,
   "metadata": {
    "ExecuteTime": {
     "end_time": "2021-09-10T06:23:50.353785Z",
     "start_time": "2021-09-10T06:23:50.349826Z"
    },
    "hidden": true,
    "scrolled": true
   },
   "outputs": [],
   "source": [
    "# val_count('YrSold')"
   ]
  },
  {
   "cell_type": "code",
   "execution_count": null,
   "metadata": {
    "ExecuteTime": {
     "end_time": "2021-09-10T06:23:50.498049Z",
     "start_time": "2021-09-10T06:23:50.495038Z"
    },
    "hidden": true,
    "scrolled": false
   },
   "outputs": [],
   "source": [
    "# val_count('MoSold')"
   ]
  },
  {
   "cell_type": "code",
   "execution_count": null,
   "metadata": {
    "ExecuteTime": {
     "end_time": "2021-09-10T06:23:50.644647Z",
     "start_time": "2021-09-10T06:23:50.640660Z"
    },
    "hidden": true
   },
   "outputs": [],
   "source": [
    "# price_plot('YrSold')"
   ]
  },
  {
   "cell_type": "code",
   "execution_count": null,
   "metadata": {
    "ExecuteTime": {
     "end_time": "2021-09-10T06:23:50.798234Z",
     "start_time": "2021-09-10T06:23:50.793248Z"
    },
    "hidden": true
   },
   "outputs": [],
   "source": [
    "# price_plot('MoSold')"
   ]
  },
  {
   "cell_type": "markdown",
   "metadata": {
    "heading_collapsed": true,
    "hidden": true
   },
   "source": [
    "#### 결측치 확인\n",
    "- 없음!"
   ]
  },
  {
   "cell_type": "markdown",
   "metadata": {
    "hidden": true
   },
   "source": [
    "#### 분류\n",
    "- 지은 연도랑 같이 연산"
   ]
  },
  {
   "cell_type": "code",
   "execution_count": null,
   "metadata": {
    "ExecuteTime": {
     "end_time": "2021-09-10T06:23:52.985138Z",
     "start_time": "2021-09-10T06:23:52.980940Z"
    },
    "hidden": true
   },
   "outputs": [],
   "source": [
    "feature_extra.extend(['MoSold', 'YrSold'])"
   ]
  },
  {
   "cell_type": "markdown",
   "metadata": {
    "heading_collapsed": true
   },
   "source": [
    "### Sale Type / Condition"
   ]
  },
  {
   "cell_type": "markdown",
   "metadata": {
    "hidden": true
   },
   "source": [
    "- 거래 타입 / 조건"
   ]
  },
  {
   "cell_type": "markdown",
   "metadata": {
    "hidden": true
   },
   "source": [
    "#### 의견"
   ]
  },
  {
   "cell_type": "markdown",
   "metadata": {
    "hidden": true
   },
   "source": [
    "- 순서가 있어보이지만, 애매한 부분이 있어서 일단 onehot 하기로\n",
    "- 이거도 그래프 꼭 그려보기\n",
    "- 개수 적은 값들 처리하고 원핫하면 될듯"
   ]
  },
  {
   "cell_type": "markdown",
   "metadata": {
    "hidden": true
   },
   "source": [
    "#### 데이터 확인"
   ]
  },
  {
   "cell_type": "code",
   "execution_count": null,
   "metadata": {
    "ExecuteTime": {
     "end_time": "2021-09-10T06:23:58.334927Z",
     "start_time": "2021-09-10T06:23:58.330906Z"
    },
    "hidden": true,
    "scrolled": true
   },
   "outputs": [],
   "source": [
    "# val_count('SaleType')"
   ]
  },
  {
   "cell_type": "code",
   "execution_count": null,
   "metadata": {
    "ExecuteTime": {
     "end_time": "2021-09-10T06:23:58.475988Z",
     "start_time": "2021-09-10T06:23:58.472001Z"
    },
    "hidden": true
   },
   "outputs": [],
   "source": [
    "# val_count('SaleCondition')"
   ]
  },
  {
   "cell_type": "code",
   "execution_count": null,
   "metadata": {
    "ExecuteTime": {
     "end_time": "2021-09-10T06:23:58.614032Z",
     "start_time": "2021-09-10T06:23:58.610077Z"
    },
    "hidden": true
   },
   "outputs": [],
   "source": [
    "# price_plot('SaleCondition')"
   ]
  },
  {
   "cell_type": "code",
   "execution_count": null,
   "metadata": {
    "ExecuteTime": {
     "end_time": "2021-09-10T06:23:58.748716Z",
     "start_time": "2021-09-10T06:23:58.745723Z"
    },
    "hidden": true
   },
   "outputs": [],
   "source": [
    "# price_plot('SaleType')"
   ]
  },
  {
   "cell_type": "markdown",
   "metadata": {
    "hidden": true
   },
   "source": [
    "#### 결측치 확인\n",
    "- test의 SaleType에 결측 한개 -> 최빈값 WD로 채우기"
   ]
  },
  {
   "cell_type": "code",
   "execution_count": null,
   "metadata": {
    "ExecuteTime": {
     "end_time": "2021-09-10T06:24:00.005636Z",
     "start_time": "2021-09-10T06:23:59.998654Z"
    },
    "hidden": true
   },
   "outputs": [],
   "source": [
    "test['SaleType'].fillna('WD', inplace=True)"
   ]
  },
  {
   "cell_type": "markdown",
   "metadata": {
    "hidden": true
   },
   "source": [
    "#### 분류\n",
    "['ConLD', 'ConLI', 'ConLw', 'CWD', 'Oth', 'Con', 'Alloca', 'AdjLand'] 제거"
   ]
  },
  {
   "cell_type": "code",
   "execution_count": null,
   "metadata": {
    "ExecuteTime": {
     "end_time": "2021-09-10T06:24:01.263012Z",
     "start_time": "2021-09-10T06:24:01.259048Z"
    },
    "hidden": true
   },
   "outputs": [],
   "source": [
    "feature_onehot.extend(['SaleType', 'SaleCondition'])\n",
    "# feature_del.extend(['SaleType_ConLD', 'SaleType_ConLI', 'SaleType_ConLw',\n",
    "#                     'SaleType_CWD', 'SaleType_Oth', 'SaleType_Con',\n",
    "#                     'SaleCondition_Alloca', 'SaleCondition_AdjLand'])"
   ]
  },
  {
   "cell_type": "markdown",
   "metadata": {
    "heading_collapsed": true
   },
   "source": [
    "# save data"
   ]
  },
  {
   "cell_type": "code",
   "execution_count": null,
   "metadata": {
    "ExecuteTime": {
     "end_time": "2021-09-10T07:22:15.208090Z",
     "start_time": "2021-09-10T07:22:15.006927Z"
    },
    "hidden": true
   },
   "outputs": [],
   "source": [
    "train.to_csv('data/EDA/train_EDA_0910.csv', index = False)\n",
    "test.to_csv('data/EDA/test_EDA_0910.csv', index = False)"
   ]
  },
  {
   "cell_type": "code",
   "execution_count": null,
   "metadata": {
    "ExecuteTime": {
     "end_time": "2021-09-10T07:01:43.965062Z",
     "start_time": "2021-09-10T07:01:43.959076Z"
    },
    "hidden": true
   },
   "outputs": [],
   "source": [
    "feature_dict = {'raw':feature_raw, 'dis':feature_dis, \n",
    "               'map':feature_map, 'onehot':feature_onehot,\n",
    "                'extra':feature_extra, 'del':feature_del\n",
    "               }"
   ]
  },
  {
   "cell_type": "code",
   "execution_count": null,
   "metadata": {
    "ExecuteTime": {
     "end_time": "2021-09-10T07:01:45.211797Z",
     "start_time": "2021-09-10T07:01:45.197839Z"
    },
    "hidden": true
   },
   "outputs": [],
   "source": [
    "#features = pd.DataFrame(feature_dict)\n",
    "features = pd.DataFrame(dict([ (k,pd.Series(v)) for k,v in feature_dict.items() ]))\n",
    "features.to_csv('data/EDA/feat_class_0910.csv', index = False)"
   ]
  },
  {
   "cell_type": "code",
   "execution_count": null,
   "metadata": {
    "hidden": true
   },
   "outputs": [],
   "source": []
  }
 ],
 "metadata": {
  "kernelspec": {
   "display_name": "Python 3",
   "language": "python",
   "name": "python3"
  },
  "language_info": {
   "codemirror_mode": {
    "name": "ipython",
    "version": 3
   },
   "file_extension": ".py",
   "mimetype": "text/x-python",
   "name": "python",
   "nbconvert_exporter": "python",
   "pygments_lexer": "ipython3",
   "version": "3.8.8"
  },
  "latex_envs": {
   "LaTeX_envs_menu_present": true,
   "autoclose": false,
   "autocomplete": true,
   "bibliofile": "biblio.bib",
   "cite_by": "apalike",
   "current_citInitial": 1,
   "eqLabelWithNumbers": true,
   "eqNumInitial": 1,
   "hotkeys": {
    "equation": "Ctrl-E",
    "itemize": "Ctrl-I"
   },
   "labels_anchors": false,
   "latex_user_defs": false,
   "report_style_numbering": false,
   "user_envs_cfg": false
  },
  "toc": {
   "base_numbering": 1,
   "nav_menu": {},
   "number_sections": true,
   "sideBar": true,
   "skip_h1_title": false,
   "title_cell": "Table of Contents",
   "title_sidebar": "Contents",
   "toc_cell": false,
   "toc_position": {
    "height": "calc(100% - 180px)",
    "left": "10px",
    "top": "150px",
    "width": "179.3px"
   },
   "toc_section_display": true,
   "toc_window_display": true
  },
  "varInspector": {
   "cols": {
    "lenName": 16,
    "lenType": 16,
    "lenVar": 40
   },
   "kernels_config": {
    "python": {
     "delete_cmd_postfix": "",
     "delete_cmd_prefix": "del ",
     "library": "var_list.py",
     "varRefreshCmd": "print(var_dic_list())"
    },
    "r": {
     "delete_cmd_postfix": ") ",
     "delete_cmd_prefix": "rm(",
     "library": "var_list.r",
     "varRefreshCmd": "cat(var_dic_list()) "
    }
   },
   "types_to_exclude": [
    "module",
    "function",
    "builtin_function_or_method",
    "instance",
    "_Feature"
   ],
   "window_display": false
  }
 },
 "nbformat": 4,
 "nbformat_minor": 2
}
