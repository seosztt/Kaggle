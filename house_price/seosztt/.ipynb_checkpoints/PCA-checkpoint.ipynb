{
 "cells": [
  {
   "cell_type": "markdown",
   "id": "06bcca64",
   "metadata": {},
   "source": [
    "# Read"
   ]
  },
  {
   "cell_type": "code",
   "execution_count": null,
   "id": "6988c9f3",
   "metadata": {},
   "outputs": [],
   "source": [
    "import pandas as pd\n",
    "\n",
    "train=pd.read_csv('./data/preprocess/train_0918.csv')\n",
    "test=pd.read_csv('./data/preprocess/test_0918.csv')"
   ]
  },
  {
   "cell_type": "code",
   "execution_count": null,
   "id": "66571336",
   "metadata": {},
   "outputs": [],
   "source": [
    "from sklearn.decomposition import PCA"
   ]
  },
  {
   "cell_type": "code",
   "execution_count": null,
   "id": "1b77589c",
   "metadata": {},
   "outputs": [],
   "source": [
    "from sklearn.metrics import mean_squared_error, mean_squared_log_error, r2_score\n",
    "import numpy as np\n",
    "\n",
    "# RMSLE 정의\n",
    "def rmsle(origin, pred):\n",
    "    return np.sqrt(mean_squared_log_error(origin, pred))"
   ]
  },
  {
   "cell_type": "code",
   "execution_count": null,
   "id": "1ea1bc53",
   "metadata": {},
   "outputs": [],
   "source": [
    "train_features=train.drop(['SalePrice'],axis=1)\n",
    "pca=PCA(n_components=10)\n",
    "\n",
    "pca.fit(train_features)\n",
    "train_pca=pca.transform(train_features)\n",
    "\n",
    "train_pca=pd.DataFrame(train_pca)"
   ]
  },
  {
   "cell_type": "code",
   "execution_count": null,
   "id": "80aae121",
   "metadata": {},
   "outputs": [],
   "source": [
    "train_pca['SalePrice']=train['SalePrice']"
   ]
  },
  {
   "cell_type": "code",
   "execution_count": null,
   "id": "13e57783",
   "metadata": {
    "scrolled": true
   },
   "outputs": [],
   "source": [
    "train_pca.columns=['PCA_a','PCA_b','PCA_c','PCA_d','PCA_e','PCA_f','PCA_g','PCA_h','PCA_i','PCA_j','SalePrice']"
   ]
  },
  {
   "cell_type": "code",
   "execution_count": null,
   "id": "ca266c70",
   "metadata": {},
   "outputs": [],
   "source": [
    "train_pca"
   ]
  },
  {
   "cell_type": "code",
   "execution_count": null,
   "id": "b6728571",
   "metadata": {},
   "outputs": [],
   "source": [
    "from sklearn.model_selection import train_test_split\n",
    "\n",
    "train_set, test_set = train_test_split(train_pca,\n",
    "                                       test_size = 0.3,\n",
    "                                       random_state = 2045)\n",
    "\n",
    "train_set.shape, test_set.shape"
   ]
  },
  {
   "cell_type": "code",
   "execution_count": null,
   "id": "2c993a9e",
   "metadata": {},
   "outputs": [],
   "source": [
    "import statsmodels.formula.api as smf\n",
    "\n",
    "Model_1 = smf.ols(formula = 'SalePrice ~ PCA_a+PCA_b+PCA_c+PCA_d+PCA_e+PCA_f+PCA_g+PCA_h+PCA_i+PCA_j',\n",
    "                  data = train_set).fit()\n",
    "y_hat_1 = Model_1.predict([['PCA_a','PCA_b','PCA_c','PCA_d','PCA_e','PCA_f','PCA_g','PCA_h','PCA_i','PCA_j']])\n",
    "rmsle(np.expm1(test_set['SalePrice']),np.expm1(y_hat_1))"
   ]
  },
  {
   "cell_type": "code",
   "execution_count": null,
   "id": "b8da6d3c",
   "metadata": {},
   "outputs": [],
   "source": [
    "import statsmodels.formula.api as smf\n",
    "\n",
    "Model_1 = smf.ols(formula = 'SalePrice ~ PCA_a',\n",
    "                  data = train_set).fit()\n",
    "y_hat_1 = Model_1.predict([['PCA_a']])\n",
    "rmsle(np.expm1(test_set['SalePrice']),np.expm1(y_hat_1))"
   ]
  },
  {
   "cell_type": "code",
   "execution_count": null,
   "id": "a63ff219",
   "metadata": {},
   "outputs": [],
   "source": []
  }
 ],
 "metadata": {
  "kernelspec": {
   "display_name": "Python 3",
   "language": "python",
   "name": "python3"
  },
  "language_info": {
   "codemirror_mode": {
    "name": "ipython",
    "version": 3
   },
   "file_extension": ".py",
   "mimetype": "text/x-python",
   "name": "python",
   "nbconvert_exporter": "python",
   "pygments_lexer": "ipython3",
   "version": "3.8.8"
  },
  "toc": {
   "base_numbering": 1,
   "nav_menu": {},
   "number_sections": true,
   "sideBar": true,
   "skip_h1_title": false,
   "title_cell": "Table of Contents",
   "title_sidebar": "Contents",
   "toc_cell": false,
   "toc_position": {},
   "toc_section_display": true,
   "toc_window_display": false
  }
 },
 "nbformat": 4,
 "nbformat_minor": 5
}
