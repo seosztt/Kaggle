{
 "cells": [
  {
   "cell_type": "markdown",
   "id": "06bcca64",
   "metadata": {
    "heading_collapsed": true
   },
   "source": [
    "# Read"
   ]
  },
  {
   "cell_type": "code",
   "execution_count": 1,
   "id": "6988c9f3",
   "metadata": {
    "hidden": true
   },
   "outputs": [],
   "source": [
    "import pandas as pd\n",
    "\n",
    "train=pd.read_csv('./data/preprocess/train_0918.csv')\n",
    "test=pd.read_csv('./data/preprocess/test_0918.csv')"
   ]
  },
  {
   "cell_type": "code",
   "execution_count": 2,
   "id": "1b77589c",
   "metadata": {
    "hidden": true
   },
   "outputs": [],
   "source": [
    "from sklearn.metrics import mean_squared_error, mean_squared_log_error, r2_score\n",
    "import numpy as np\n",
    "\n",
    "# RMSLE 정의\n",
    "def rmsle(origin, pred):\n",
    "    return np.sqrt(mean_squared_log_error(origin, pred))"
   ]
  },
  {
   "cell_type": "markdown",
   "id": "0d07699b",
   "metadata": {
    "heading_collapsed": true
   },
   "source": [
    "# PCA"
   ]
  },
  {
   "cell_type": "code",
   "execution_count": 3,
   "id": "760d4c72",
   "metadata": {
    "hidden": true
   },
   "outputs": [],
   "source": [
    "from sklearn.decomposition import PCA"
   ]
  },
  {
   "cell_type": "code",
   "execution_count": 4,
   "id": "1ea1bc53",
   "metadata": {
    "hidden": true
   },
   "outputs": [],
   "source": [
    "train_features=train.drop(['SalePrice'],axis=1)\n",
    "pca=PCA(n_components=10)\n",
    "\n",
    "pca.fit(train_features)\n",
    "train_pca=pca.transform(train_features)\n",
    "\n",
    "train_pca=pd.DataFrame(train_pca)\n",
    "\n",
    "pca.fit(test)\n",
    "test_pca=pca.transform(test)\n",
    "test_pca=pd.DataFrame(test_pca)"
   ]
  },
  {
   "cell_type": "code",
   "execution_count": 5,
   "id": "80aae121",
   "metadata": {
    "hidden": true
   },
   "outputs": [],
   "source": [
    "train_pca['SalePrice']=train['SalePrice']"
   ]
  },
  {
   "cell_type": "code",
   "execution_count": 6,
   "id": "13e57783",
   "metadata": {
    "hidden": true,
    "scrolled": true
   },
   "outputs": [],
   "source": [
    "train_pca.columns=['PCA_a','PCA_b','PCA_c','PCA_d','PCA_e','PCA_f','PCA_g','PCA_h','PCA_i','PCA_j','SalePrice']\n",
    "test_pca.columns=['PCA_a','PCA_b','PCA_c','PCA_d','PCA_e','PCA_f','PCA_g','PCA_h','PCA_i','PCA_j']"
   ]
  },
  {
   "cell_type": "code",
   "execution_count": 7,
   "id": "ca266c70",
   "metadata": {
    "hidden": true,
    "scrolled": false
   },
   "outputs": [
    {
     "data": {
      "text/html": [
       "<div>\n",
       "<style scoped>\n",
       "    .dataframe tbody tr th:only-of-type {\n",
       "        vertical-align: middle;\n",
       "    }\n",
       "\n",
       "    .dataframe tbody tr th {\n",
       "        vertical-align: top;\n",
       "    }\n",
       "\n",
       "    .dataframe thead th {\n",
       "        text-align: right;\n",
       "    }\n",
       "</style>\n",
       "<table border=\"1\" class=\"dataframe\">\n",
       "  <thead>\n",
       "    <tr style=\"text-align: right;\">\n",
       "      <th></th>\n",
       "      <th>PCA_a</th>\n",
       "      <th>PCA_b</th>\n",
       "      <th>PCA_c</th>\n",
       "      <th>PCA_d</th>\n",
       "      <th>PCA_e</th>\n",
       "      <th>PCA_f</th>\n",
       "      <th>PCA_g</th>\n",
       "      <th>PCA_h</th>\n",
       "      <th>PCA_i</th>\n",
       "      <th>PCA_j</th>\n",
       "      <th>SalePrice</th>\n",
       "    </tr>\n",
       "  </thead>\n",
       "  <tbody>\n",
       "    <tr>\n",
       "      <th>0</th>\n",
       "      <td>0.480410</td>\n",
       "      <td>-0.598396</td>\n",
       "      <td>0.124197</td>\n",
       "      <td>0.064496</td>\n",
       "      <td>0.147570</td>\n",
       "      <td>-0.453665</td>\n",
       "      <td>0.308187</td>\n",
       "      <td>0.371302</td>\n",
       "      <td>-0.216566</td>\n",
       "      <td>0.101077</td>\n",
       "      <td>12.247699</td>\n",
       "    </tr>\n",
       "    <tr>\n",
       "      <th>1</th>\n",
       "      <td>0.451492</td>\n",
       "      <td>-0.044245</td>\n",
       "      <td>0.192636</td>\n",
       "      <td>-0.414024</td>\n",
       "      <td>0.345606</td>\n",
       "      <td>-0.062898</td>\n",
       "      <td>-0.244490</td>\n",
       "      <td>-0.124862</td>\n",
       "      <td>0.304453</td>\n",
       "      <td>0.261059</td>\n",
       "      <td>12.109016</td>\n",
       "    </tr>\n",
       "    <tr>\n",
       "      <th>2</th>\n",
       "      <td>0.934661</td>\n",
       "      <td>0.185431</td>\n",
       "      <td>-0.071397</td>\n",
       "      <td>0.177784</td>\n",
       "      <td>-0.443480</td>\n",
       "      <td>0.005623</td>\n",
       "      <td>0.212351</td>\n",
       "      <td>0.202846</td>\n",
       "      <td>-0.136426</td>\n",
       "      <td>-0.024003</td>\n",
       "      <td>12.317171</td>\n",
       "    </tr>\n",
       "    <tr>\n",
       "      <th>3</th>\n",
       "      <td>-0.169822</td>\n",
       "      <td>0.986483</td>\n",
       "      <td>-0.355584</td>\n",
       "      <td>0.265519</td>\n",
       "      <td>0.288106</td>\n",
       "      <td>0.519453</td>\n",
       "      <td>-0.218631</td>\n",
       "      <td>0.152117</td>\n",
       "      <td>-0.040710</td>\n",
       "      <td>-0.230421</td>\n",
       "      <td>11.849405</td>\n",
       "    </tr>\n",
       "    <tr>\n",
       "      <th>4</th>\n",
       "      <td>1.202343</td>\n",
       "      <td>0.411371</td>\n",
       "      <td>-0.197432</td>\n",
       "      <td>0.180890</td>\n",
       "      <td>-0.043481</td>\n",
       "      <td>0.054618</td>\n",
       "      <td>0.060697</td>\n",
       "      <td>0.318852</td>\n",
       "      <td>0.039483</td>\n",
       "      <td>0.142404</td>\n",
       "      <td>12.429220</td>\n",
       "    </tr>\n",
       "  </tbody>\n",
       "</table>\n",
       "</div>"
      ],
      "text/plain": [
       "      PCA_a     PCA_b     PCA_c     PCA_d     PCA_e     PCA_f     PCA_g  \\\n",
       "0  0.480410 -0.598396  0.124197  0.064496  0.147570 -0.453665  0.308187   \n",
       "1  0.451492 -0.044245  0.192636 -0.414024  0.345606 -0.062898 -0.244490   \n",
       "2  0.934661  0.185431 -0.071397  0.177784 -0.443480  0.005623  0.212351   \n",
       "3 -0.169822  0.986483 -0.355584  0.265519  0.288106  0.519453 -0.218631   \n",
       "4  1.202343  0.411371 -0.197432  0.180890 -0.043481  0.054618  0.060697   \n",
       "\n",
       "      PCA_h     PCA_i     PCA_j  SalePrice  \n",
       "0  0.371302 -0.216566  0.101077  12.247699  \n",
       "1 -0.124862  0.304453  0.261059  12.109016  \n",
       "2  0.202846 -0.136426 -0.024003  12.317171  \n",
       "3  0.152117 -0.040710 -0.230421  11.849405  \n",
       "4  0.318852  0.039483  0.142404  12.429220  "
      ]
     },
     "execution_count": 7,
     "metadata": {},
     "output_type": "execute_result"
    }
   ],
   "source": [
    "train_pca.head()"
   ]
  },
  {
   "cell_type": "code",
   "execution_count": 8,
   "id": "02067b4c",
   "metadata": {
    "hidden": true
   },
   "outputs": [
    {
     "data": {
      "text/html": [
       "<div>\n",
       "<style scoped>\n",
       "    .dataframe tbody tr th:only-of-type {\n",
       "        vertical-align: middle;\n",
       "    }\n",
       "\n",
       "    .dataframe tbody tr th {\n",
       "        vertical-align: top;\n",
       "    }\n",
       "\n",
       "    .dataframe thead th {\n",
       "        text-align: right;\n",
       "    }\n",
       "</style>\n",
       "<table border=\"1\" class=\"dataframe\">\n",
       "  <thead>\n",
       "    <tr style=\"text-align: right;\">\n",
       "      <th></th>\n",
       "      <th>PCA_a</th>\n",
       "      <th>PCA_b</th>\n",
       "      <th>PCA_c</th>\n",
       "      <th>PCA_d</th>\n",
       "      <th>PCA_e</th>\n",
       "      <th>PCA_f</th>\n",
       "      <th>PCA_g</th>\n",
       "      <th>PCA_h</th>\n",
       "      <th>PCA_i</th>\n",
       "      <th>PCA_j</th>\n",
       "    </tr>\n",
       "  </thead>\n",
       "  <tbody>\n",
       "    <tr>\n",
       "      <th>0</th>\n",
       "      <td>-0.810122</td>\n",
       "      <td>-0.377436</td>\n",
       "      <td>-0.422705</td>\n",
       "      <td>-0.137336</td>\n",
       "      <td>0.019262</td>\n",
       "      <td>-0.431771</td>\n",
       "      <td>0.351560</td>\n",
       "      <td>-0.210417</td>\n",
       "      <td>-0.199171</td>\n",
       "      <td>-0.057127</td>\n",
       "    </tr>\n",
       "    <tr>\n",
       "      <th>1</th>\n",
       "      <td>-0.269841</td>\n",
       "      <td>-0.928839</td>\n",
       "      <td>0.618272</td>\n",
       "      <td>0.210182</td>\n",
       "      <td>0.313579</td>\n",
       "      <td>-0.294487</td>\n",
       "      <td>-0.086364</td>\n",
       "      <td>0.185090</td>\n",
       "      <td>0.318745</td>\n",
       "      <td>0.035342</td>\n",
       "    </tr>\n",
       "    <tr>\n",
       "      <th>2</th>\n",
       "      <td>0.695088</td>\n",
       "      <td>-0.241682</td>\n",
       "      <td>0.174082</td>\n",
       "      <td>0.155848</td>\n",
       "      <td>-0.402202</td>\n",
       "      <td>-0.110233</td>\n",
       "      <td>0.794484</td>\n",
       "      <td>0.105852</td>\n",
       "      <td>-0.055367</td>\n",
       "      <td>-0.266450</td>\n",
       "    </tr>\n",
       "    <tr>\n",
       "      <th>3</th>\n",
       "      <td>0.910160</td>\n",
       "      <td>-0.131783</td>\n",
       "      <td>0.112251</td>\n",
       "      <td>0.110085</td>\n",
       "      <td>-0.413214</td>\n",
       "      <td>0.017011</td>\n",
       "      <td>0.329636</td>\n",
       "      <td>0.273868</td>\n",
       "      <td>0.377219</td>\n",
       "      <td>-0.118169</td>\n",
       "    </tr>\n",
       "    <tr>\n",
       "      <th>4</th>\n",
       "      <td>0.745020</td>\n",
       "      <td>0.276776</td>\n",
       "      <td>0.060757</td>\n",
       "      <td>1.011543</td>\n",
       "      <td>-0.109306</td>\n",
       "      <td>-0.203872</td>\n",
       "      <td>-0.188596</td>\n",
       "      <td>-0.524885</td>\n",
       "      <td>-0.069044</td>\n",
       "      <td>-0.578934</td>\n",
       "    </tr>\n",
       "  </tbody>\n",
       "</table>\n",
       "</div>"
      ],
      "text/plain": [
       "      PCA_a     PCA_b     PCA_c     PCA_d     PCA_e     PCA_f     PCA_g  \\\n",
       "0 -0.810122 -0.377436 -0.422705 -0.137336  0.019262 -0.431771  0.351560   \n",
       "1 -0.269841 -0.928839  0.618272  0.210182  0.313579 -0.294487 -0.086364   \n",
       "2  0.695088 -0.241682  0.174082  0.155848 -0.402202 -0.110233  0.794484   \n",
       "3  0.910160 -0.131783  0.112251  0.110085 -0.413214  0.017011  0.329636   \n",
       "4  0.745020  0.276776  0.060757  1.011543 -0.109306 -0.203872 -0.188596   \n",
       "\n",
       "      PCA_h     PCA_i     PCA_j  \n",
       "0 -0.210417 -0.199171 -0.057127  \n",
       "1  0.185090  0.318745  0.035342  \n",
       "2  0.105852 -0.055367 -0.266450  \n",
       "3  0.273868  0.377219 -0.118169  \n",
       "4 -0.524885 -0.069044 -0.578934  "
      ]
     },
     "execution_count": 8,
     "metadata": {},
     "output_type": "execute_result"
    }
   ],
   "source": [
    "test_pca.head()"
   ]
  },
  {
   "cell_type": "markdown",
   "id": "4a854c92",
   "metadata": {
    "heading_collapsed": true
   },
   "source": [
    "# OLS"
   ]
  },
  {
   "cell_type": "code",
   "execution_count": 9,
   "id": "b6728571",
   "metadata": {
    "hidden": true
   },
   "outputs": [
    {
     "data": {
      "text/plain": [
       "((1022, 11), (438, 11))"
      ]
     },
     "execution_count": 9,
     "metadata": {},
     "output_type": "execute_result"
    }
   ],
   "source": [
    "from sklearn.model_selection import train_test_split\n",
    "\n",
    "train_set, test_set = train_test_split(train_pca,\n",
    "                                       test_size = 0.3,\n",
    "                                       random_state = 2045)\n",
    "\n",
    "train_set.shape, test_set.shape"
   ]
  },
  {
   "cell_type": "code",
   "execution_count": 11,
   "id": "48956df3",
   "metadata": {
    "hidden": true,
    "scrolled": true
   },
   "outputs": [
    {
     "data": {
      "text/html": [
       "<div>\n",
       "<style scoped>\n",
       "    .dataframe tbody tr th:only-of-type {\n",
       "        vertical-align: middle;\n",
       "    }\n",
       "\n",
       "    .dataframe tbody tr th {\n",
       "        vertical-align: top;\n",
       "    }\n",
       "\n",
       "    .dataframe thead th {\n",
       "        text-align: right;\n",
       "    }\n",
       "</style>\n",
       "<table border=\"1\" class=\"dataframe\">\n",
       "  <thead>\n",
       "    <tr style=\"text-align: right;\">\n",
       "      <th></th>\n",
       "      <th>PCA_a</th>\n",
       "      <th>PCA_b</th>\n",
       "      <th>PCA_c</th>\n",
       "      <th>PCA_d</th>\n",
       "      <th>PCA_e</th>\n",
       "      <th>PCA_f</th>\n",
       "      <th>PCA_g</th>\n",
       "      <th>PCA_h</th>\n",
       "      <th>PCA_i</th>\n",
       "      <th>PCA_j</th>\n",
       "      <th>SalePrice</th>\n",
       "    </tr>\n",
       "  </thead>\n",
       "  <tbody>\n",
       "    <tr>\n",
       "      <th>1358</th>\n",
       "      <td>0.246944</td>\n",
       "      <td>-1.023000</td>\n",
       "      <td>-0.292161</td>\n",
       "      <td>0.659276</td>\n",
       "      <td>0.067435</td>\n",
       "      <td>-0.196132</td>\n",
       "      <td>0.035104</td>\n",
       "      <td>0.258521</td>\n",
       "      <td>-0.098245</td>\n",
       "      <td>-0.350379</td>\n",
       "      <td>12.086732</td>\n",
       "    </tr>\n",
       "    <tr>\n",
       "      <th>712</th>\n",
       "      <td>0.990889</td>\n",
       "      <td>-0.073580</td>\n",
       "      <td>-0.107626</td>\n",
       "      <td>0.660441</td>\n",
       "      <td>-0.583710</td>\n",
       "      <td>0.306182</td>\n",
       "      <td>-0.495943</td>\n",
       "      <td>-0.656935</td>\n",
       "      <td>0.124082</td>\n",
       "      <td>-0.002234</td>\n",
       "      <td>12.149508</td>\n",
       "    </tr>\n",
       "    <tr>\n",
       "      <th>795</th>\n",
       "      <td>0.156607</td>\n",
       "      <td>-0.383902</td>\n",
       "      <td>0.048888</td>\n",
       "      <td>-0.264270</td>\n",
       "      <td>0.114097</td>\n",
       "      <td>0.368758</td>\n",
       "      <td>0.868060</td>\n",
       "      <td>-0.145811</td>\n",
       "      <td>-0.023940</td>\n",
       "      <td>0.049648</td>\n",
       "      <td>12.049425</td>\n",
       "    </tr>\n",
       "    <tr>\n",
       "      <th>1244</th>\n",
       "      <td>-0.165515</td>\n",
       "      <td>1.039493</td>\n",
       "      <td>-0.398934</td>\n",
       "      <td>0.183535</td>\n",
       "      <td>0.080423</td>\n",
       "      <td>0.780333</td>\n",
       "      <td>-0.333909</td>\n",
       "      <td>0.169153</td>\n",
       "      <td>0.029185</td>\n",
       "      <td>-0.064930</td>\n",
       "      <td>12.345839</td>\n",
       "    </tr>\n",
       "    <tr>\n",
       "      <th>847</th>\n",
       "      <td>-0.176088</td>\n",
       "      <td>1.056644</td>\n",
       "      <td>0.086364</td>\n",
       "      <td>0.175515</td>\n",
       "      <td>0.032129</td>\n",
       "      <td>-0.143249</td>\n",
       "      <td>-0.313375</td>\n",
       "      <td>-0.082216</td>\n",
       "      <td>0.075842</td>\n",
       "      <td>0.003381</td>\n",
       "      <td>11.801864</td>\n",
       "    </tr>\n",
       "  </tbody>\n",
       "</table>\n",
       "</div>"
      ],
      "text/plain": [
       "         PCA_a     PCA_b     PCA_c     PCA_d     PCA_e     PCA_f     PCA_g  \\\n",
       "1358  0.246944 -1.023000 -0.292161  0.659276  0.067435 -0.196132  0.035104   \n",
       "712   0.990889 -0.073580 -0.107626  0.660441 -0.583710  0.306182 -0.495943   \n",
       "795   0.156607 -0.383902  0.048888 -0.264270  0.114097  0.368758  0.868060   \n",
       "1244 -0.165515  1.039493 -0.398934  0.183535  0.080423  0.780333 -0.333909   \n",
       "847  -0.176088  1.056644  0.086364  0.175515  0.032129 -0.143249 -0.313375   \n",
       "\n",
       "         PCA_h     PCA_i     PCA_j  SalePrice  \n",
       "1358  0.258521 -0.098245 -0.350379  12.086732  \n",
       "712  -0.656935  0.124082 -0.002234  12.149508  \n",
       "795  -0.145811 -0.023940  0.049648  12.049425  \n",
       "1244  0.169153  0.029185 -0.064930  12.345839  \n",
       "847  -0.082216  0.075842  0.003381  11.801864  "
      ]
     },
     "execution_count": 11,
     "metadata": {},
     "output_type": "execute_result"
    }
   ],
   "source": [
    "test_set.head()"
   ]
  },
  {
   "cell_type": "code",
   "execution_count": 12,
   "id": "2c993a9e",
   "metadata": {
    "hidden": true
   },
   "outputs": [
    {
     "data": {
      "text/plain": [
       "0.16815584912298828"
      ]
     },
     "execution_count": 12,
     "metadata": {},
     "output_type": "execute_result"
    }
   ],
   "source": [
    "import statsmodels.formula.api as smf\n",
    "\n",
    "Model_1 = smf.ols(formula = 'SalePrice ~ PCA_a+PCA_b+PCA_c+PCA_d+PCA_e+PCA_f+PCA_g+PCA_h+PCA_i+PCA_j',\n",
    "                  data = train_set).fit()\n",
    "y_hat_1 = Model_1.predict(test_set[['PCA_a','PCA_b','PCA_c','PCA_d','PCA_e','PCA_f','PCA_g','PCA_h','PCA_i','PCA_j']])\n",
    "rmsle(np.expm1(test_set['SalePrice']),np.expm1(y_hat_1))"
   ]
  },
  {
   "cell_type": "markdown",
   "id": "d47b1ded",
   "metadata": {
    "heading_collapsed": true
   },
   "source": [
    "# Submission"
   ]
  },
  {
   "cell_type": "code",
   "execution_count": 15,
   "id": "9147fd77",
   "metadata": {
    "hidden": true
   },
   "outputs": [],
   "source": [
    "Model = smf.ols(formula = 'SalePrice ~ PCA_a+PCA_b+PCA_c+PCA_d+PCA_e+PCA_f+PCA_g+PCA_h+PCA_i+PCA_j',\n",
    "                  data = train_pca).fit()\n",
    "y_hat = Model.predict(test_pca[['PCA_a','PCA_b','PCA_c','PCA_d','PCA_e','PCA_f','PCA_g','PCA_h','PCA_i','PCA_j']])\n",
    "pred = np.expm1(y_hat)"
   ]
  },
  {
   "cell_type": "code",
   "execution_count": 16,
   "id": "8f003bcc",
   "metadata": {
    "hidden": true
   },
   "outputs": [],
   "source": [
    "sub=pd.read_csv('data/sample_submission.csv')\n",
    "sub['SalePrice']=pred\n",
    "sub.to_csv('./submission/OLS_with_PCA_1.csv',index=False)"
   ]
  },
  {
   "cell_type": "markdown",
   "id": "e07c6d36",
   "metadata": {},
   "source": [
    "#The End#"
   ]
  }
 ],
 "metadata": {
  "kernelspec": {
   "display_name": "Python 3",
   "language": "python",
   "name": "python3"
  },
  "language_info": {
   "codemirror_mode": {
    "name": "ipython",
    "version": 3
   },
   "file_extension": ".py",
   "mimetype": "text/x-python",
   "name": "python",
   "nbconvert_exporter": "python",
   "pygments_lexer": "ipython3",
   "version": "3.8.8"
  },
  "toc": {
   "base_numbering": 1,
   "nav_menu": {},
   "number_sections": true,
   "sideBar": true,
   "skip_h1_title": false,
   "title_cell": "Table of Contents",
   "title_sidebar": "Contents",
   "toc_cell": false,
   "toc_position": {},
   "toc_section_display": true,
   "toc_window_display": false
  }
 },
 "nbformat": 4,
 "nbformat_minor": 5
}
