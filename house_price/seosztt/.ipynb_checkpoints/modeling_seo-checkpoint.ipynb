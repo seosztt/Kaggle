{
 "cells": [
  {
   "cell_type": "markdown",
   "metadata": {},
   "source": [
    "# 불러오기"
   ]
  },
  {
   "cell_type": "code",
   "execution_count": 28,
   "metadata": {},
   "outputs": [
    {
     "name": "stdout",
     "output_type": "stream",
     "text": [
      "Collecting lightgbm\n",
      "  Downloading lightgbm-3.2.1-py3-none-win_amd64.whl (1.0 MB)\n",
      "Requirement already satisfied: numpy in c:\\programdata\\anaconda3\\lib\\site-packages (from lightgbm) (1.20.1)\n",
      "Requirement already satisfied: scipy in c:\\programdata\\anaconda3\\lib\\site-packages (from lightgbm) (1.6.2)\n",
      "Requirement already satisfied: wheel in c:\\programdata\\anaconda3\\lib\\site-packages (from lightgbm) (0.36.2)\n",
      "Requirement already satisfied: scikit-learn!=0.22.0 in c:\\programdata\\anaconda3\\lib\\site-packages (from lightgbm) (0.24.1)\n",
      "Requirement already satisfied: threadpoolctl>=2.0.0 in c:\\programdata\\anaconda3\\lib\\site-packages (from scikit-learn!=0.22.0->lightgbm) (2.1.0)\n",
      "Requirement already satisfied: joblib>=0.11 in c:\\programdata\\anaconda3\\lib\\site-packages (from scikit-learn!=0.22.0->lightgbm) (1.0.1)\n",
      "Installing collected packages: lightgbm\n",
      "Successfully installed lightgbm-3.2.1\n"
     ]
    }
   ],
   "source": [
    "!pip3 install lightgbm"
   ]
  },
  {
   "cell_type": "code",
   "execution_count": 33,
   "metadata": {
    "ExecuteTime": {
     "end_time": "2021-09-10T08:11:50.112085Z",
     "start_time": "2021-09-10T08:11:50.092134Z"
    }
   },
   "outputs": [],
   "source": [
    "import numpy as np\n",
    "import pandas as pd\n",
    "import matplotlib.pyplot as plt\n",
    "import seaborn as sns\n",
    "import statsmodels.api as sm;\n",
    "from statsmodels.stats.outliers_influence import variance_inflation_factor\n",
    "import sklearn"
   ]
  },
  {
   "cell_type": "code",
   "execution_count": 34,
   "metadata": {},
   "outputs": [
    {
     "data": {
      "text/plain": [
       "'0.24.1'"
      ]
     },
     "execution_count": 34,
     "metadata": {},
     "output_type": "execute_result"
    }
   ],
   "source": [
    "sklearn.__version__"
   ]
  },
  {
   "cell_type": "code",
   "execution_count": 36,
   "metadata": {
    "ExecuteTime": {
     "end_time": "2021-09-10T08:11:50.241776Z",
     "start_time": "2021-09-10T08:11:50.116073Z"
    }
   },
   "outputs": [],
   "source": [
    "train =  pd.read_csv('data/preprocess/train_0910.csv')\n",
    "test =  pd.read_csv('data/preprocess/test_0910.csv')"
   ]
  },
  {
   "cell_type": "code",
   "execution_count": 37,
   "metadata": {
    "scrolled": true
   },
   "outputs": [
    {
     "data": {
      "text/plain": [
       "<AxesSubplot:>"
      ]
     },
     "execution_count": 37,
     "metadata": {},
     "output_type": "execute_result"
    },
    {
     "data": {
      "image/png": "[encoded data removed]",
      "text/plain": [
       "<Figure size 432x288 with 1 Axes>"
      ]
     },
     "metadata": {
      "needs_background": "light"
     },
     "output_type": "display_data"
    }
   ],
   "source": [
    "train['MasVnrArea'].hist()"
   ]
  },
  {
   "cell_type": "code",
   "execution_count": 5,
   "metadata": {},
   "outputs": [],
   "source": [
    "train=train.fillna(0)\n",
    "test=test.fillna(0)"
   ]
  },
  {
   "cell_type": "code",
   "execution_count": 38,
   "metadata": {
    "ExecuteTime": {
     "end_time": "2021-09-10T08:11:50.255697Z",
     "start_time": "2021-09-10T08:11:50.245724Z"
    }
   },
   "outputs": [],
   "source": [
    "X = train.drop('SalePrice', axis=1)\n",
    "y = train['SalePrice']"
   ]
  },
  {
   "cell_type": "code",
   "execution_count": 39,
   "metadata": {},
   "outputs": [
    {
     "name": "stdout",
     "output_type": "stream",
     "text": [
      "Train Data :  (1022, 143) (1022,)\n",
      "Test Data :  (438, 143) (438,)\n"
     ]
    }
   ],
   "source": [
    "from sklearn.model_selection import train_test_split\n",
    "X_train, X_test, y_train, y_test=train_test_split(X,y,\n",
    "                                                  test_size=0.3,\n",
    "                                                  random_state=2045)\n",
    "\n",
    "print('Train Data : ',X_train.shape,y_train.shape)\n",
    "print('Test Data : ',X_test.shape,y_test.shape)"
   ]
  },
  {
   "cell_type": "code",
   "execution_count": 40,
   "metadata": {
    "scrolled": true
   },
   "outputs": [
    {
     "name": "stdout",
     "output_type": "stream",
     "text": [
      "<class 'pandas.core.frame.DataFrame'>\n",
      "Int64Index: 1022 entries, 1154 to 887\n",
      "Columns: 143 entries, LotArea to YearOld\n",
      "dtypes: float64(143)\n",
      "memory usage: 1.1 MB\n"
     ]
    }
   ],
   "source": [
    "X_train.info()"
   ]
  },
  {
   "cell_type": "markdown",
   "metadata": {},
   "source": [
    "# multivaricable regression"
   ]
  },
  {
   "cell_type": "code",
   "execution_count": 10,
   "metadata": {},
   "outputs": [
    {
     "data": {
      "text/plain": [
       "LinearRegression()"
      ]
     },
     "execution_count": 10,
     "metadata": {},
     "output_type": "execute_result"
    }
   ],
   "source": [
    "from sklearn.linear_model import LinearRegression\n",
    "\n",
    "MR=LinearRegression()\n",
    "MR.fit(X_train,y_train)"
   ]
  },
  {
   "cell_type": "code",
   "execution_count": 11,
   "metadata": {},
   "outputs": [
    {
     "name": "stdout",
     "output_type": "stream",
     "text": [
      "weight(w) :  [-1.96947016e+03 -2.37595232e+02  6.64123333e+04  3.14456713e+04\n",
      " -1.46809495e+03  6.71764403e+03  2.03205292e+02  1.09874283e+04\n",
      "  5.27523035e+02 -2.35736952e+02 -1.77541285e+02 -8.53503053e+02\n",
      "  1.26288686e+04  3.43819775e+03  2.83234455e+03  3.88542999e+03\n",
      "  5.12241598e+04 -9.03387276e+03  9.76072621e+02  2.71576490e+03\n",
      " -9.68445581e+03  3.30305888e+03 -5.33301641e+03 -2.78762708e+03\n",
      " -5.95779735e+02  2.77830621e+03  5.94774072e+02  2.67253813e+05\n",
      "  1.12673115e+04  5.17128476e+03  7.76004534e+03  4.93825370e+03\n",
      " -1.53757304e+03 -6.68520017e+03 -9.85141636e+03  5.06721603e+03\n",
      "  6.95890051e+03  2.47724191e+01  3.71647239e+02  3.54814399e+04\n",
      " -3.17305835e+02  3.17515197e+03  2.66423109e+03  2.14628981e+04\n",
      " -2.00917963e+04 -1.18185775e+04  7.77854648e+03  1.76667707e+04\n",
      "  2.03787927e+02 -2.37423342e+02  1.29691991e+03]\n",
      "bias(b) :  -47797.46194242\n"
     ]
    }
   ],
   "source": [
    "print('weight(w) : ',MR.coef_)\n",
    "print('bias(b) : ','%.8f' % MR.intercept_)"
   ]
  },
  {
   "cell_type": "code",
   "execution_count": 12,
   "metadata": {},
   "outputs": [
    {
     "data": {
      "text/plain": [
       "0.8654866809526802"
      ]
     },
     "execution_count": 12,
     "metadata": {},
     "output_type": "execute_result"
    }
   ],
   "source": [
    "MR.score(X_test,y_test)"
   ]
  },
  {
   "cell_type": "code",
   "execution_count": 13,
   "metadata": {
    "scrolled": false
   },
   "outputs": [
    {
     "name": "stdout",
     "output_type": "stream",
     "text": [
      "633098101.4603996\n",
      "0.8654866809526802\n",
      "0.027247104025936893\n",
      "0.16506696830661455\n"
     ]
    }
   ],
   "source": [
    "from sklearn.metrics import mean_squared_error, mean_squared_log_error, r2_score\n",
    "\n",
    "print(mean_squared_error(y_test, MR.predict(X_test)))\n",
    "print(r2_score(y_test, MR.predict(X_test)))\n",
    "print(mean_squared_log_error(y_test, MR.predict(X_test)))\n",
    "print(np.sqrt(mean_squared_log_error(y_test, MR.predict(X_test))))"
   ]
  },
  {
   "cell_type": "markdown",
   "metadata": {},
   "source": [
    "# Polynomial regression"
   ]
  },
  {
   "cell_type": "code",
   "execution_count": 14,
   "metadata": {},
   "outputs": [
    {
     "name": "stdout",
     "output_type": "stream",
     "text": [
      "변환 전 데이터:  (1022, 51)\n",
      "2차항 변환 데이터:  (1022, 24803)\n"
     ]
    }
   ],
   "source": [
    "from sklearn.preprocessing import PolynomialFeatures\n",
    "\n",
    "poly=PolynomialFeatures(degree=3, include_bias=False)\n",
    "X_train_poly=poly.fit_transform(X_train)\n",
    "\n",
    "print('변환 전 데이터: ',X_train.shape)\n",
    "print('2차항 변환 데이터: ', X_train_poly.shape)"
   ]
  },
  {
   "cell_type": "code",
   "execution_count": 15,
   "metadata": {},
   "outputs": [
    {
     "data": {
      "text/plain": [
       "LinearRegression()"
      ]
     },
     "execution_count": 15,
     "metadata": {},
     "output_type": "execute_result"
    }
   ],
   "source": [
    "from sklearn.linear_model import LinearRegression\n",
    "\n",
    "NL=LinearRegression()\n",
    "NL.fit(X_train_poly,y_train)"
   ]
  },
  {
   "cell_type": "code",
   "execution_count": 16,
   "metadata": {},
   "outputs": [
    {
     "name": "stdout",
     "output_type": "stream",
     "text": [
      "weight(w) :  [ -6.42203322   0.92634665   1.47016174 ... -86.30474159  33.12681907\n",
      " -44.09759721]\n",
      "bias(b) :  79149.02536621\n"
     ]
    }
   ],
   "source": [
    "print('weight(w) : ',NL.coef_)\n",
    "print('bias(b) : ','%.8f' % NL.intercept_)"
   ]
  },
  {
   "cell_type": "code",
   "execution_count": 17,
   "metadata": {},
   "outputs": [
    {
     "data": {
      "text/plain": [
       "0.21537468966768003"
      ]
     },
     "execution_count": 17,
     "metadata": {},
     "output_type": "execute_result"
    }
   ],
   "source": [
    "X_test_poly=poly.fit_transform(X_test)\n",
    "\n",
    "NL.score(X_test_poly, y_test)"
   ]
  },
  {
   "cell_type": "code",
   "execution_count": 23,
   "metadata": {},
   "outputs": [
    {
     "name": "stdout",
     "output_type": "stream",
     "text": [
      "1706695157.809869\n",
      "0.7609772022007217\n"
     ]
    }
   ],
   "source": [
    "from sklearn.metrics import mean_squared_error, mean_squared_log_error, r2_score\n",
    "\n",
    "X_test_poly=poly.fit_transform(X_test)\n",
    "\n",
    "print(mean_squared_error(y_test, NL.predict(X_test_poly)))\n",
    "print(r2_score(y_test, NL.predict(X_test_poly)))"
   ]
  },
  {
   "cell_type": "markdown",
   "metadata": {},
   "source": [
    "# RandomForestRegressor"
   ]
  },
  {
   "cell_type": "code",
   "execution_count": 20,
   "metadata": {
    "ExecuteTime": {
     "end_time": "2021-09-10T08:11:51.624401Z",
     "start_time": "2021-09-10T08:11:50.272652Z"
    }
   },
   "outputs": [],
   "source": [
    "from sklearn.ensemble import RandomForestRegressor\n",
    "from sklearn.metrics import mean_squared_error, mean_squared_log_error, r2_score\n",
    "from sklearn.model_selection import train_test_split\n",
    "\n",
    "# RMSLE 정의\n",
    "def rmsle(origin, pred):\n",
    "    return np.sqrt(mean_squared_log_error(origin, pred))\n",
    "\n",
    "# X, y를 split\n",
    "X_train, X_test, y_train, y_test = train_test_split(\n",
    "    X, y, test_size=0.3, random_state=1)"
   ]
  },
  {
   "cell_type": "markdown",
   "metadata": {},
   "source": [
    "### Train\n",
    "- 우리가 가진 데이터셋 내에서 훈련 -> 예측 -> 검증을 해보면서 모델의 성능을 평가/향상시키려고 함\n",
    "- 그래서 가격을 알고 있는 데이터(여기선 X,y)를 7:3 비율로 train : test로 쪼개서 우리가 돌리는 모델을 검증해보려고 함\n",
    "- 근데 아직은 K-Fold Validation이라던가 유의미한 방법은 적용 안해봄.  \n",
    "\n",
    "그래서 아직은\n",
    "- 큰 의미가 있는 과정이라기보다는, RandomForestRegressor가 잘 돌아가는구나~\n",
    "- 우리가 가진 데이터 내에서 검증해봤을때 RMSLE 가 0.012면 꽤 잘 나오는구나~\n",
    "- feature importance 관찰용\n",
    "- 정도로 생각하시면 될 듯 (이제 여러가지 시도해봐야죠 ㅎㅎ)"
   ]
  },
  {
   "cell_type": "code",
   "execution_count": 40,
   "metadata": {
    "ExecuteTime": {
     "end_time": "2021-09-10T08:11:56.299126Z",
     "start_time": "2021-09-10T08:11:51.627363Z"
    }
   },
   "outputs": [
    {
     "name": "stdout",
     "output_type": "stream",
     "text": [
      "훈련 MSE: 148125928.212, 테스트 MSE: 767543418.809\n",
      "훈련 R^2: 0.975, 테스트 R^2: 0.893\n",
      "훈련 RMSLE: 0.060, 테스트 RMSLE: 0.160\n"
     ]
    }
   ],
   "source": [
    "forest_train = RandomForestRegressor(n_estimators=1000, \n",
    "                              criterion='mse',\n",
    "                              random_state=1,\n",
    "                              n_jobs=-1)\n",
    "forest_train.fit(X_train, y_train)\n",
    "y_train_pred = forest_train.predict(X_train)\n",
    "y_test_pred = forest_train.predict(X_test)\n",
    "\n",
    "print('훈련 MSE: %.3f, 테스트 MSE: %.3f' % (\n",
    "        mean_squared_error(y_train, y_train_pred),\n",
    "        mean_squared_error(y_test, y_test_pred)))\n",
    "print('훈련 R^2: %.3f, 테스트 R^2: %.3f' % (\n",
    "        r2_score(y_train, y_train_pred),\n",
    "        r2_score(y_test, y_test_pred)))\n",
    "print('훈련 RMSLE: %.3f, 테스트 RMSLE: %.3f' % (\n",
    "        rmsle(y_train, y_train_pred),\n",
    "        rmsle(y_test, y_test_pred)))"
   ]
  },
  {
   "cell_type": "markdown",
   "metadata": {},
   "source": [
    "importance가 낮은 feature drop"
   ]
  },
  {
   "cell_type": "code",
   "execution_count": 41,
   "metadata": {
    "ExecuteTime": {
     "end_time": "2021-09-10T08:11:56.523034Z",
     "start_time": "2021-09-10T08:11:56.306103Z"
    }
   },
   "outputs": [],
   "source": [
    "importance = forest_train.feature_importances_"
   ]
  },
  {
   "cell_type": "code",
   "execution_count": 42,
   "metadata": {
    "ExecuteTime": {
     "end_time": "2021-09-10T08:11:56.541982Z",
     "start_time": "2021-09-10T08:11:56.530014Z"
    }
   },
   "outputs": [
    {
     "data": {
      "text/plain": [
       "1"
      ]
     },
     "execution_count": 42,
     "metadata": {},
     "output_type": "execute_result"
    }
   ],
   "source": [
    "del_list = []\n",
    "for i in range(len(test.columns.tolist())):\n",
    "    if importance[i] < 0.0001:\n",
    "        del_list.append(test.columns.tolist()[i])\n",
    "len(del_list)"
   ]
  },
  {
   "cell_type": "code",
   "execution_count": 43,
   "metadata": {
    "ExecuteTime": {
     "end_time": "2021-09-10T08:11:56.562928Z",
     "start_time": "2021-09-10T08:11:56.546978Z"
    }
   },
   "outputs": [],
   "source": [
    "X = X.drop(columns=del_list,axis=1)\n",
    "test = test.drop(columns=del_list,axis=1)"
   ]
  },
  {
   "cell_type": "code",
   "execution_count": 50,
   "metadata": {
    "ExecuteTime": {
     "end_time": "2021-09-10T08:12:02.752191Z",
     "start_time": "2021-09-10T08:11:56.565918Z"
    }
   },
   "outputs": [
    {
     "name": "stderr",
     "output_type": "stream",
     "text": [
      "<ipython-input-50-6d7a10c5b150>:7: RuntimeWarning: overflow encountered in expm1\n",
      "  pred = np.expm1(pred)\n"
     ]
    }
   ],
   "source": [
    "forest = RandomForestRegressor(n_estimators=1000, \n",
    "                              criterion='mse',\n",
    "                              random_state=1,\n",
    "                              n_jobs=-1)\n",
    "forest.fit(X, y)\n",
    "pred = forest.predict(test)\n",
    "pred = np.expm1(pred)"
   ]
  },
  {
   "cell_type": "code",
   "execution_count": 49,
   "metadata": {},
   "outputs": [
    {
     "name": "stdout",
     "output_type": "stream",
     "text": [
      "<class 'pandas.core.frame.DataFrame'>\n",
      "RangeIndex: 1459 entries, 0 to 1458\n",
      "Data columns (total 50 columns):\n",
      " #   Column         Non-Null Count  Dtype  \n",
      "---  ------         --------------  -----  \n",
      " 0   MSSubClass     1459 non-null   int64  \n",
      " 1   MSZoning       1459 non-null   int64  \n",
      " 2   LotArea        1459 non-null   float64\n",
      " 3   LotShape       1459 non-null   int64  \n",
      " 4   LandContour    1459 non-null   int64  \n",
      " 5   LotConfig      1459 non-null   int64  \n",
      " 6   LandSlope      1459 non-null   int64  \n",
      " 7   Neighborhood   1459 non-null   int64  \n",
      " 8   Condition1     1459 non-null   int64  \n",
      " 9   BldgType       1459 non-null   int64  \n",
      " 10  HouseStyle     1459 non-null   int64  \n",
      " 11  OverallQual    1459 non-null   int64  \n",
      " 12  OverallCond    1459 non-null   int64  \n",
      " 13  RoofStyle      1459 non-null   int64  \n",
      " 14  MasVnrType     1459 non-null   int64  \n",
      " 15  MasVnrArea     1459 non-null   float64\n",
      " 16  ExterQual      1459 non-null   int64  \n",
      " 17  ExterCond      1459 non-null   int64  \n",
      " 18  Foundation     1459 non-null   int64  \n",
      " 19  BsmtQual       1459 non-null   int64  \n",
      " 20  BsmtCond       1459 non-null   int64  \n",
      " 21  BsmtExposure   1459 non-null   int64  \n",
      " 22  TotalBsmtSF    1459 non-null   float64\n",
      " 23  HeatingQC      1459 non-null   int64  \n",
      " 24  CentralAir     1459 non-null   int64  \n",
      " 25  Electrical     1459 non-null   int64  \n",
      " 26  GrLivArea      1459 non-null   float64\n",
      " 27  BsmtFullBath   1459 non-null   float64\n",
      " 28  BsmtHalfBath   1459 non-null   float64\n",
      " 29  FullBath       1459 non-null   int64  \n",
      " 30  HalfBath       1459 non-null   int64  \n",
      " 31  BedroomAbvGr   1459 non-null   int64  \n",
      " 32  KitchenAbvGr   1459 non-null   int64  \n",
      " 33  KitchenQual    1459 non-null   int64  \n",
      " 34  Functional     1459 non-null   int64  \n",
      " 35  Fireplaces     1459 non-null   int64  \n",
      " 36  GarageType     1459 non-null   int64  \n",
      " 37  GarageFinish   1459 non-null   int64  \n",
      " 38  GarageArea     1459 non-null   float64\n",
      " 39  GarageQual     1459 non-null   int64  \n",
      " 40  GarageCond     1459 non-null   int64  \n",
      " 41  PavedDrive     1459 non-null   int64  \n",
      " 42  WoodDeckSF     1459 non-null   float64\n",
      " 43  OpenPorchSF    1459 non-null   float64\n",
      " 44  EnclosedPorch  1459 non-null   float64\n",
      " 45  3SsnPorch      1459 non-null   float64\n",
      " 46  ScreenPorch    1459 non-null   float64\n",
      " 47  MoSold         1459 non-null   int64  \n",
      " 48  SaleType       1459 non-null   int64  \n",
      " 49  SaleCondition  1459 non-null   int64  \n",
      "dtypes: float64(12), int64(38)\n",
      "memory usage: 570.0 KB\n"
     ]
    }
   ],
   "source": [
    "test.info()"
   ]
  },
  {
   "cell_type": "code",
   "execution_count": null,
   "metadata": {
    "ExecuteTime": {
     "end_time": "2021-09-10T08:12:02.774134Z",
     "start_time": "2021-09-10T08:12:02.764160Z"
    }
   },
   "outputs": [],
   "source": [
    "pred"
   ]
  },
  {
   "cell_type": "markdown",
   "metadata": {},
   "source": [
    "- 저장"
   ]
  },
  {
   "cell_type": "code",
   "execution_count": null,
   "metadata": {
    "ExecuteTime": {
     "end_time": "2021-09-10T08:12:02.787107Z",
     "start_time": "2021-09-10T08:12:02.779122Z"
    }
   },
   "outputs": [],
   "source": [
    "# sub=pd.read_csv('data/sample_submission.csv')\n",
    "# sub['SalePrice']=pred\n",
    "# sub.to_csv('submission/sub_1_0910.csv',index=False)"
   ]
  },
  {
   "cell_type": "markdown",
   "metadata": {},
   "source": [
    "# XGBoost\n",
    "- 이건 아직 복붙해서 돌려본거라...\n",
    "- 대충 돌려봤는데도 RandomForest보다 훨씬 잘 나옴\n",
    "- 더 잘 해보고 수정하겠음..."
   ]
  },
  {
   "cell_type": "code",
   "execution_count": 29,
   "metadata": {
    "ExecuteTime": {
     "end_time": "2021-09-10T08:12:02.799066Z",
     "start_time": "2021-09-10T08:12:02.795077Z"
    }
   },
   "outputs": [],
   "source": [
    "from sklearn.linear_model import ElasticNet, Lasso,  BayesianRidge, LassoLarsIC\n",
    "from sklearn.ensemble import RandomForestRegressor,  GradientBoostingRegressor\n",
    "from sklearn.kernel_ridge import KernelRidge\n",
    "from sklearn.pipeline import make_pipeline\n",
    "from sklearn.preprocessing import RobustScaler\n",
    "from sklearn.base import BaseEstimator, TransformerMixin, RegressorMixin, clone\n",
    "from sklearn.model_selection import KFold, cross_val_score, train_test_split\n",
    "from sklearn.metrics import mean_squared_error\n",
    "from xgboost import XGBRegressor\n",
    "import xgboost as xgb\n",
    "import lightgbm as lgb\n",
    "from sklearn.svm import SVR\n",
    "from sklearn.ensemble import RandomForestRegressor\n",
    "from sklearn.datasets import make_regression\n",
    "from sklearn.model_selection import GridSearchCV"
   ]
  },
  {
   "cell_type": "code",
   "execution_count": 41,
   "metadata": {
    "ExecuteTime": {
     "end_time": "2021-09-10T08:12:02.811044Z",
     "start_time": "2021-09-10T08:12:02.802059Z"
    }
   },
   "outputs": [],
   "source": [
    "#Validation function\n",
    "n_folds = 10\n",
    "\n",
    "def rmsle_cv(model):\n",
    "    kf = KFold(n_folds, shuffle=True, random_state=42).get_n_splits(train.values)\n",
    "    rmse= np.sqrt(-cross_val_score(model, train.values, y_train, scoring=\"neg_mean_squared_error\", cv = kf))\n",
    "    return(rmse)"
   ]
  },
  {
   "cell_type": "code",
   "execution_count": 42,
   "metadata": {
    "ExecuteTime": {
     "end_time": "2021-09-10T08:12:02.822011Z",
     "start_time": "2021-09-10T08:12:02.816022Z"
    }
   },
   "outputs": [],
   "source": [
    "model_xgb = xgb.XGBRegressor(colsample_bytree=0.4603, gamma=0.0468, \n",
    "                             learning_rate=0.05, max_depth=3, \n",
    "                             min_child_weight=1.7817, n_estimators=2200,\n",
    "                             reg_alpha=0.4640, reg_lambda=0.8571,\n",
    "                             subsample=0.5213, silent=1,\n",
    "                             random_state =7, nthread = -1)"
   ]
  },
  {
   "cell_type": "code",
   "execution_count": 43,
   "metadata": {
    "ExecuteTime": {
     "end_time": "2021-09-10T08:12:02.835969Z",
     "start_time": "2021-09-10T08:12:02.830982Z"
    }
   },
   "outputs": [
    {
     "name": "stdout",
     "output_type": "stream",
     "text": [
      "[16:58:29] WARNING: C:/Users/Administrator/workspace/xgboost-win64_release_1.4.0/src/learner.cc:573: \n",
      "Parameters: { \"silent\" } might not be used.\n",
      "\n",
      "  This may not be accurate due to some parameters are only used in language bindings but\n",
      "  passed down to XGBoost core.  Or some parameters are not used but slip through this\n",
      "  verification. Please open an issue if you find above cases.\n",
      "\n",
      "\n",
      "0.0064604431382589795\n",
      "9.456006352945524\n"
     ]
    }
   ],
   "source": [
    "model_xgb.fit(X_train, y_train)\n",
    "xgb_train_pred = model_xgb.predict(X_train)\n",
    "xgb_pred = np.expm1(model_xgb.predict(X_test))\n",
    "print(rmsle(y_train, xgb_train_pred))\n",
    "print(rmsle(y_test, xgb_pred))"
   ]
  },
  {
   "cell_type": "code",
   "execution_count": null,
   "metadata": {
    "ExecuteTime": {
     "end_time": "2021-09-10T08:12:02.848946Z",
     "start_time": "2021-09-10T08:12:02.841953Z"
    }
   },
   "outputs": [],
   "source": [
    "model_xgb.fit(X, y)\n",
    "pred_xgb = model_xgb.predict(test)"
   ]
  },
  {
   "cell_type": "code",
   "execution_count": null,
   "metadata": {
    "ExecuteTime": {
     "end_time": "2021-09-10T08:12:02.858906Z",
     "start_time": "2021-09-10T08:12:02.853922Z"
    }
   },
   "outputs": [],
   "source": [
    "#pred_log_xgb = np.expm1(pred_xgb)"
   ]
  },
  {
   "cell_type": "code",
   "execution_count": null,
   "metadata": {
    "ExecuteTime": {
     "end_time": "2021-09-10T08:12:02.870877Z",
     "start_time": "2021-09-10T08:12:02.863894Z"
    }
   },
   "outputs": [],
   "source": [
    "#sub=pd.read_csv('data/sample_submission.csv')\n",
    "#sub['SalePrice']=pred_log_xgb\n",
    "#sub.to_csv('sub_0910_xgb.csv',index=False)"
   ]
  },
  {
   "cell_type": "markdown",
   "metadata": {},
   "source": [
    "# 앙상블"
   ]
  },
  {
   "cell_type": "code",
   "execution_count": null,
   "metadata": {},
   "outputs": [],
   "source": []
  }
 ],
 "metadata": {
  "kernelspec": {
   "display_name": "Python 3",
   "language": "python",
   "name": "python3"
  },
  "language_info": {
   "codemirror_mode": {
    "name": "ipython",
    "version": 3
   },
   "file_extension": ".py",
   "mimetype": "text/x-python",
   "name": "python",
   "nbconvert_exporter": "python",
   "pygments_lexer": "ipython3",
   "version": "3.8.8"
  },
  "latex_envs": {
   "LaTeX_envs_menu_present": true,
   "autoclose": false,
   "autocomplete": true,
   "bibliofile": "biblio.bib",
   "cite_by": "apalike",
   "current_citInitial": 1,
   "eqLabelWithNumbers": true,
   "eqNumInitial": 1,
   "hotkeys": {
    "equation": "Ctrl-E",
    "itemize": "Ctrl-I"
   },
   "labels_anchors": false,
   "latex_user_defs": false,
   "report_style_numbering": false,
   "user_envs_cfg": false
  },
  "toc": {
   "base_numbering": 1,
   "nav_menu": {},
   "number_sections": true,
   "sideBar": true,
   "skip_h1_title": false,
   "title_cell": "Table of Contents",
   "title_sidebar": "Contents",
   "toc_cell": false,
   "toc_position": {},
   "toc_section_display": true,
   "toc_window_display": false
  },
  "varInspector": {
   "cols": {
    "lenName": 16,
    "lenType": 16,
    "lenVar": 40
   },
   "kernels_config": {
    "python": {
     "delete_cmd_postfix": "",
     "delete_cmd_prefix": "del ",
     "library": "var_list.py",
     "varRefreshCmd": "print(var_dic_list())"
    },
    "r": {
     "delete_cmd_postfix": ") ",
     "delete_cmd_prefix": "rm(",
     "library": "var_list.r",
     "varRefreshCmd": "cat(var_dic_list()) "
    }
   },
   "types_to_exclude": [
    "module",
    "function",
    "builtin_function_or_method",
    "instance",
    "_Feature"
   ],
   "window_display": false
  }
 },
 "nbformat": 4,
 "nbformat_minor": 2
}
