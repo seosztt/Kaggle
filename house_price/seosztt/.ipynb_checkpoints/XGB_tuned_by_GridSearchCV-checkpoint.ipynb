{
 "cells": [
  {
   "cell_type": "code",
   "execution_count": 9,
   "id": "f4ae24a1",
   "metadata": {},
   "outputs": [],
   "source": [
    "import numpy as np\n",
    "import pandas as pd\n",
    "from sklearn.ensemble import RandomForestRegressor\n",
    "from sklearn.model_selection import KFold, train_test_split\n",
    "from sklearn.metrics import mean_squared_error, mean_squared_log_error\n",
    "from xgboost import XGBRegressor\n",
    "from lightgbm import LGBMRegressor\n",
    "from sklearn.model_selection import GridSearchCV"
   ]
  },
  {
   "cell_type": "code",
   "execution_count": 2,
   "id": "f6c63196",
   "metadata": {},
   "outputs": [],
   "source": [
    "train =  pd.read_csv('data/preprocess/train_0910.csv')\n",
    "test =  pd.read_csv('data/preprocess/test_0910.csv')"
   ]
  },
  {
   "cell_type": "markdown",
   "id": "28b73f72",
   "metadata": {},
   "source": [
    "# GCV_RF"
   ]
  },
  {
   "cell_type": "code",
   "execution_count": 3,
   "id": "7c3bd058",
   "metadata": {},
   "outputs": [],
   "source": [
    "params={'n_estimators':[100,300,500],\n",
    "        'max_features':[3,4,5],\n",
    "        'max_depth':[3,4,5],\n",
    "        'random_state':[2045]}"
   ]
  },
  {
   "cell_type": "code",
   "execution_count": 4,
   "id": "fcdaf046",
   "metadata": {},
   "outputs": [],
   "source": [
    "Model_rf=RandomForestRegressor()\n",
    "\n",
    "gcv_RF=GridSearchCV(Model_rf,\n",
    "                    param_grid=params,\n",
    "                    scoring='neg_mean_squared_log_error',\n",
    "                    cv=KFold(n_splits=5,\n",
    "                             shuffle=True,\n",
    "                             random_state=2045),\n",
    "                    refit=True)"
   ]
  },
  {
   "cell_type": "code",
   "execution_count": 5,
   "id": "2aeb81fb",
   "metadata": {},
   "outputs": [
    {
     "data": {
      "text/plain": [
       "GridSearchCV(cv=KFold(n_splits=5, random_state=2045, shuffle=True),\n",
       "             estimator=RandomForestRegressor(),\n",
       "             param_grid={'max_depth': [3, 4, 5], 'max_features': [3, 4, 5],\n",
       "                         'n_estimators': [100, 300, 500],\n",
       "                         'random_state': [2045]},\n",
       "             scoring='neg_mean_squared_log_error')"
      ]
     },
     "execution_count": 5,
     "metadata": {},
     "output_type": "execute_result"
    }
   ],
   "source": [
    "X=train.drop(columns = ['SalePrice'])\n",
    "y=train['SalePrice']\n",
    "gcv_RF.fit(X,y)"
   ]
  },
  {
   "cell_type": "code",
   "execution_count": 6,
   "id": "f7dac6ac",
   "metadata": {},
   "outputs": [
    {
     "data": {
      "text/plain": [
       "{'max_depth': 5, 'max_features': 5, 'n_estimators': 100, 'random_state': 2045}"
      ]
     },
     "execution_count": 6,
     "metadata": {},
     "output_type": "execute_result"
    }
   ],
   "source": [
    "gcv_RF.best_params_"
   ]
  },
  {
   "cell_type": "code",
   "execution_count": 7,
   "id": "ed3022e3",
   "metadata": {},
   "outputs": [
    {
     "data": {
      "text/plain": [
       "-0.00023696432504585933"
      ]
     },
     "execution_count": 7,
     "metadata": {},
     "output_type": "execute_result"
    }
   ],
   "source": [
    "gcv_RF.best_score_"
   ]
  },
  {
   "cell_type": "markdown",
   "id": "179ec4e2",
   "metadata": {},
   "source": [
    "# GCV_XGB"
   ]
  },
  {
   "cell_type": "code",
   "execution_count": 14,
   "id": "9e4e062b",
   "metadata": {},
   "outputs": [],
   "source": [
    "params={'n_estimators':[50,100,200],\n",
    "        'max_depth':[5,6,7],\n",
    "        'gamma' : [0,1,2],\n",
    "        'random_state':[2045]}"
   ]
  },
  {
   "cell_type": "code",
   "execution_count": 15,
   "id": "ded10dce",
   "metadata": {},
   "outputs": [],
   "source": [
    "Model_xgb=XGBRegressor()\n",
    "\n",
    "gcv_xgb=GridSearchCV(Model_xgb,\n",
    "                    param_grid=params,\n",
    "                    scoring='neg_mean_squared_log_error',\n",
    "                    cv=KFold(n_splits=5,\n",
    "                             shuffle=True,\n",
    "                             random_state=2045),\n",
    "                    refit=True)"
   ]
  },
  {
   "cell_type": "code",
   "execution_count": 16,
   "id": "fd675194",
   "metadata": {},
   "outputs": [
    {
     "data": {
      "text/plain": [
       "GridSearchCV(cv=KFold(n_splits=5, random_state=2045, shuffle=True),\n",
       "             estimator=XGBRegressor(base_score=None, booster=None,\n",
       "                                    colsample_bylevel=None,\n",
       "                                    colsample_bynode=None,\n",
       "                                    colsample_bytree=None, gamma=None,\n",
       "                                    gpu_id=None, importance_type='gain',\n",
       "                                    interaction_constraints=None,\n",
       "                                    learning_rate=None, max_delta_step=None,\n",
       "                                    max_depth=None, min_child_weight=None,\n",
       "                                    missing=nan, mon..._constraints=None,\n",
       "                                    n_estimators=100, n_jobs=None,\n",
       "                                    num_parallel_tree=None, random_state=None,\n",
       "                                    reg_alpha=None, reg_lambda=None,\n",
       "                                    scale_pos_weight=None, subsample=None,\n",
       "                                    tree_method=None, validate_parameters=None,\n",
       "                                    verbosity=None),\n",
       "             param_grid={'gamma': [0, 1, 2], 'max_depth': [5, 6, 7],\n",
       "                         'n_estimators': [50, 100, 200],\n",
       "                         'random_state': [2045]},\n",
       "             scoring='neg_mean_squared_log_error')"
      ]
     },
     "execution_count": 16,
     "metadata": {},
     "output_type": "execute_result"
    }
   ],
   "source": [
    "X=train.drop(columns = ['SalePrice'])\n",
    "y=train['SalePrice']\n",
    "gcv_xgb.fit(X,y)"
   ]
  },
  {
   "cell_type": "code",
   "execution_count": 17,
   "id": "d902d98e",
   "metadata": {},
   "outputs": [
    {
     "data": {
      "text/plain": [
       "{'gamma': 0, 'max_depth': 5, 'n_estimators': 100, 'random_state': 2045}"
      ]
     },
     "execution_count": 17,
     "metadata": {},
     "output_type": "execute_result"
    }
   ],
   "source": [
    "gcv_xgb.best_params_"
   ]
  },
  {
   "cell_type": "code",
   "execution_count": 19,
   "id": "dee7c6aa",
   "metadata": {},
   "outputs": [
    {
     "data": {
      "text/plain": [
       "-0.00011392367668177706"
      ]
     },
     "execution_count": 19,
     "metadata": {},
     "output_type": "execute_result"
    }
   ],
   "source": [
    "gcv_xgb.best_score_"
   ]
  },
  {
   "cell_type": "code",
   "execution_count": 20,
   "id": "5f747c2c",
   "metadata": {},
   "outputs": [],
   "source": [
    "y_hat = gcv_xgb.predict(test)\n",
    "pred = np.expm1(y_hat)"
   ]
  },
  {
   "cell_type": "code",
   "execution_count": 24,
   "id": "8a0917f0",
   "metadata": {},
   "outputs": [],
   "source": [
    "sub=pd.read_csv('data/sample_submission.csv')\n",
    "sub['SalePrice']=pred\n",
    "sub.to_csv('./submission/GCV_XGB_1.csv',index=False)"
   ]
  },
  {
   "cell_type": "code",
   "execution_count": 25,
   "id": "e3b41564",
   "metadata": {},
   "outputs": [],
   "source": [
    "params={'max_depth':[3,4,5],\n",
    "        'gamma' : [0,3,6],\n",
    "        'random_state':[2045]}\n",
    "\n",
    "Model_xgb=XGBRegressor()\n",
    "\n",
    "gcv_xgb=GridSearchCV(Model_xgb,\n",
    "                    param_grid=params,\n",
    "                    scoring='neg_mean_squared_log_error',\n",
    "                    cv=KFold(n_splits=5,\n",
    "                             shuffle=True,\n",
    "                             random_state=2045),\n",
    "                    refit=True)"
   ]
  },
  {
   "cell_type": "code",
   "execution_count": 26,
   "id": "a6c9ca1b",
   "metadata": {},
   "outputs": [
    {
     "data": {
      "text/plain": [
       "GridSearchCV(cv=KFold(n_splits=5, random_state=2045, shuffle=True),\n",
       "             estimator=XGBRegressor(base_score=None, booster=None,\n",
       "                                    colsample_bylevel=None,\n",
       "                                    colsample_bynode=None,\n",
       "                                    colsample_bytree=None, gamma=None,\n",
       "                                    gpu_id=None, importance_type='gain',\n",
       "                                    interaction_constraints=None,\n",
       "                                    learning_rate=None, max_delta_step=None,\n",
       "                                    max_depth=None, min_child_weight=None,\n",
       "                                    missing=nan, monotone_constraints=None,\n",
       "                                    n_estimators=100, n_jobs=None,\n",
       "                                    num_parallel_tree=None, random_state=None,\n",
       "                                    reg_alpha=None, reg_lambda=None,\n",
       "                                    scale_pos_weight=None, subsample=None,\n",
       "                                    tree_method=None, validate_parameters=None,\n",
       "                                    verbosity=None),\n",
       "             param_grid={'gamma': [0, 3, 6], 'max_depth': [3, 4, 5],\n",
       "                         'random_state': [2045]},\n",
       "             scoring='neg_mean_squared_log_error')"
      ]
     },
     "execution_count": 26,
     "metadata": {},
     "output_type": "execute_result"
    }
   ],
   "source": [
    "X=train.drop(columns = ['SalePrice'])\n",
    "y=train['SalePrice']\n",
    "gcv_xgb.fit(X,y)"
   ]
  },
  {
   "cell_type": "code",
   "execution_count": 27,
   "id": "8b468a46",
   "metadata": {},
   "outputs": [
    {
     "data": {
      "text/plain": [
       "{'gamma': 0, 'max_depth': 4, 'random_state': 2045}"
      ]
     },
     "execution_count": 27,
     "metadata": {},
     "output_type": "execute_result"
    }
   ],
   "source": [
    "gcv_xgb.best_params_"
   ]
  },
  {
   "cell_type": "code",
   "execution_count": 28,
   "id": "1f42d135",
   "metadata": {
    "scrolled": false
   },
   "outputs": [
    {
     "data": {
      "text/plain": [
       "-0.00011031070416179828"
      ]
     },
     "execution_count": 28,
     "metadata": {},
     "output_type": "execute_result"
    }
   ],
   "source": [
    "gcv_xgb.best_score_"
   ]
  },
  {
   "cell_type": "code",
   "execution_count": 30,
   "id": "c87d0f9e",
   "metadata": {},
   "outputs": [],
   "source": [
    "y_hat = gcv_xgb.predict(test)\n",
    "pred = np.expm1(y_hat)"
   ]
  },
  {
   "cell_type": "code",
   "execution_count": 31,
   "id": "72c678a5",
   "metadata": {},
   "outputs": [],
   "source": [
    "sub=pd.read_csv('data/sample_submission.csv')\n",
    "sub['SalePrice']=pred\n",
    "sub.to_csv('./submission/GCV_XGB_2.csv',index=False)"
   ]
  },
  {
   "cell_type": "markdown",
   "id": "0d902033",
   "metadata": {},
   "source": [
    "#The End#"
   ]
  }
 ],
 "metadata": {
  "kernelspec": {
   "display_name": "Python 3",
   "language": "python",
   "name": "python3"
  },
  "language_info": {
   "codemirror_mode": {
    "name": "ipython",
    "version": 3
   },
   "file_extension": ".py",
   "mimetype": "text/x-python",
   "name": "python",
   "nbconvert_exporter": "python",
   "pygments_lexer": "ipython3",
   "version": "3.8.8"
  },
  "toc": {
   "base_numbering": 1,
   "nav_menu": {},
   "number_sections": true,
   "sideBar": true,
   "skip_h1_title": false,
   "title_cell": "Table of Contents",
   "title_sidebar": "Contents",
   "toc_cell": false,
   "toc_position": {},
   "toc_section_display": true,
   "toc_window_display": false
  }
 },
 "nbformat": 4,
 "nbformat_minor": 5
}
