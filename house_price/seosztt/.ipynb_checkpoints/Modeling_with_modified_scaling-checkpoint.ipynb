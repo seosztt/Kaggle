{
 "cells": [
  {
   "cell_type": "code",
   "execution_count": 16,
   "id": "5b133a95",
   "metadata": {},
   "outputs": [],
   "source": [
    "import pandas as pd\n",
    "\n",
    "train=pd.read_csv('./data/preprocess/train_0926.csv')\n",
    "test=pd.read_csv('./data/preprocess/test_0926.csv')"
   ]
  },
  {
   "cell_type": "code",
   "execution_count": 17,
   "id": "3686146f",
   "metadata": {},
   "outputs": [
    {
     "data": {
      "text/plain": [
       "((1022, 58), (438, 58))"
      ]
     },
     "execution_count": 17,
     "metadata": {},
     "output_type": "execute_result"
    }
   ],
   "source": [
    "from sklearn.model_selection import train_test_split\n",
    "\n",
    "train_set, test_set = train_test_split(train,\n",
    "                                       test_size = 0.3,\n",
    "                                       random_state = 2045)\n",
    "\n",
    "train_set.shape, test_set.shape"
   ]
  },
  {
   "cell_type": "code",
   "execution_count": 18,
   "id": "0ab97ba0",
   "metadata": {},
   "outputs": [],
   "source": [
    "from sklearn.metrics import mean_squared_error, mean_squared_log_error, r2_score\n",
    "import numpy as np\n",
    "\n",
    "# RMSLE 정의\n",
    "def rmsle(origin, pred):\n",
    "    return np.sqrt(mean_squared_log_error(origin, pred))"
   ]
  },
  {
   "cell_type": "markdown",
   "id": "0ffbac1b",
   "metadata": {},
   "source": [
    "# Ridge Regression"
   ]
  },
  {
   "cell_type": "markdown",
   "id": "361859a3",
   "metadata": {},
   "source": [
    "## Validation"
   ]
  },
  {
   "cell_type": "code",
   "execution_count": 4,
   "id": "c98bd6fe",
   "metadata": {},
   "outputs": [
    {
     "data": {
      "text/plain": [
       "Ridge(alpha=0.3, normalize=True, solver='cholesky')"
      ]
     },
     "execution_count": 4,
     "metadata": {},
     "output_type": "execute_result"
    }
   ],
   "source": [
    "from sklearn.linear_model import Ridge\n",
    "\n",
    "RG = Ridge(normalize = True, \n",
    "           alpha = 0.3,\n",
    "           solver = 'cholesky')   \n",
    "\n",
    "X=train_set.drop(columns=['SalePrice'])\n",
    "y=train_set['SalePrice']\n",
    "\n",
    "RG.fit(X, y)"
   ]
  },
  {
   "cell_type": "code",
   "execution_count": 5,
   "id": "eee17a59",
   "metadata": {
    "scrolled": true
   },
   "outputs": [
    {
     "data": {
      "text/plain": [
       "0.1261448281058073"
      ]
     },
     "execution_count": 5,
     "metadata": {},
     "output_type": "execute_result"
    }
   ],
   "source": [
    "y_hat=RG.predict(test_set.drop(columns=['SalePrice']))\n",
    "rmsle(np.expm1(test_set['SalePrice']),np.expm1(y_hat))"
   ]
  },
  {
   "cell_type": "markdown",
   "id": "c294bfaf",
   "metadata": {},
   "source": [
    "## Submission"
   ]
  },
  {
   "cell_type": "code",
   "execution_count": null,
   "id": "9e6924c3",
   "metadata": {},
   "outputs": [],
   "source": [
    "X=train.drop(columns=['SalePrice'])\n",
    "y=train['SalePrice']\n",
    "\n",
    "RG.fit(X, y)\n",
    "\n",
    "pred=RG.predict(test)"
   ]
  },
  {
   "cell_type": "code",
   "execution_count": null,
   "id": "88c6f283",
   "metadata": {},
   "outputs": [],
   "source": [
    "pred = np.expm1(pred)\n",
    "sub=pd.read_csv('data/sample_submission.csv')\n",
    "sub['SalePrice']=pred\n",
    "sub.to_csv('./submission/ridge_1.csv',index=False)"
   ]
  },
  {
   "cell_type": "markdown",
   "id": "07d561ba",
   "metadata": {},
   "source": [
    "# Lasso Regression"
   ]
  },
  {
   "cell_type": "markdown",
   "id": "24e559fd",
   "metadata": {},
   "source": [
    "## Validation"
   ]
  },
  {
   "cell_type": "code",
   "execution_count": 10,
   "id": "79f8aadb",
   "metadata": {},
   "outputs": [
    {
     "data": {
      "text/plain": [
       "Lasso(alpha=0.2, normalize=True)"
      ]
     },
     "execution_count": 10,
     "metadata": {},
     "output_type": "execute_result"
    }
   ],
   "source": [
    "from sklearn.linear_model import Lasso\n",
    "\n",
    "LS = Lasso(normalize = True, \n",
    "           alpha = 0.2)\n",
    "\n",
    "X=train_set.drop(columns=['SalePrice'])\n",
    "y=train_set['SalePrice']\n",
    "\n",
    "LS.fit(X, y)"
   ]
  },
  {
   "cell_type": "code",
   "execution_count": 11,
   "id": "38506002",
   "metadata": {},
   "outputs": [
    {
     "data": {
      "text/plain": [
       "0.38277372901293605"
      ]
     },
     "execution_count": 11,
     "metadata": {},
     "output_type": "execute_result"
    }
   ],
   "source": [
    "y_hat=LS.predict(test_set.drop(columns=['SalePrice']))\n",
    "rmsle(np.expm1(test_set['SalePrice']),np.expm1(y_hat))"
   ]
  },
  {
   "cell_type": "markdown",
   "id": "a224ab6c",
   "metadata": {},
   "source": [
    "# ElasticNet Regression"
   ]
  },
  {
   "cell_type": "markdown",
   "id": "6b8f0d87",
   "metadata": {},
   "source": [
    "## Validation"
   ]
  },
  {
   "cell_type": "code",
   "execution_count": 6,
   "id": "27b34b4f",
   "metadata": {},
   "outputs": [
    {
     "data": {
      "text/plain": [
       "ElasticNet(alpha=0.0001, l1_ratio=0.7, normalize=True)"
      ]
     },
     "execution_count": 6,
     "metadata": {},
     "output_type": "execute_result"
    }
   ],
   "source": [
    "from sklearn.linear_model import ElasticNet\n",
    "\n",
    "EN = ElasticNet(normalize = True, \n",
    "                alpha = 0.0001,\n",
    "                l1_ratio = 0.7)\n",
    "\n",
    "X=train_set.drop(columns=['SalePrice'])\n",
    "y=train_set['SalePrice']\n",
    "\n",
    "EN.fit(X, y)"
   ]
  },
  {
   "cell_type": "code",
   "execution_count": 7,
   "id": "1b9188b5",
   "metadata": {},
   "outputs": [
    {
     "data": {
      "text/plain": [
       "0.12484478031715027"
      ]
     },
     "execution_count": 7,
     "metadata": {},
     "output_type": "execute_result"
    }
   ],
   "source": [
    "y_hat=EN.predict(test_set.drop(columns=['SalePrice']))\n",
    "rmsle(np.expm1(test_set['SalePrice']),np.expm1(y_hat))"
   ]
  },
  {
   "cell_type": "markdown",
   "id": "934fa3ca",
   "metadata": {},
   "source": [
    "## Submission"
   ]
  },
  {
   "cell_type": "code",
   "execution_count": 8,
   "id": "7adac48a",
   "metadata": {},
   "outputs": [],
   "source": [
    "X=train.drop(columns=['SalePrice'])\n",
    "y=train['SalePrice']\n",
    "\n",
    "EN.fit(X, y)\n",
    "\n",
    "pred=EN.predict(test)"
   ]
  },
  {
   "cell_type": "code",
   "execution_count": 9,
   "id": "d93ae20c",
   "metadata": {},
   "outputs": [],
   "source": [
    "pred = np.expm1(pred)\n",
    "sub=pd.read_csv('data/sample_submission.csv')\n",
    "sub['SalePrice']=pred\n",
    "sub.to_csv('./submission/EN_2.csv',index=False)"
   ]
  },
  {
   "cell_type": "markdown",
   "id": "f9d532b7",
   "metadata": {},
   "source": [
    "# Adaptive Boosting Regressor"
   ]
  },
  {
   "cell_type": "code",
   "execution_count": 19,
   "id": "6d89d871",
   "metadata": {},
   "outputs": [
    {
     "data": {
      "text/plain": [
       "AdaBoostRegressor(random_state=0)"
      ]
     },
     "execution_count": 19,
     "metadata": {},
     "output_type": "execute_result"
    }
   ],
   "source": [
    "from sklearn.ensemble import AdaBoostRegressor\n",
    "\n",
    "ABR = AdaBoostRegressor(random_state = 0)\n",
    "\n",
    "X=train_set.drop(columns=['SalePrice'])\n",
    "y=train_set['SalePrice']\n",
    "\n",
    "ABR.fit(X, y)"
   ]
  },
  {
   "cell_type": "code",
   "execution_count": 20,
   "id": "2f6398bc",
   "metadata": {
    "scrolled": true
   },
   "outputs": [
    {
     "data": {
      "text/plain": [
       "0.16522581623969151"
      ]
     },
     "execution_count": 20,
     "metadata": {},
     "output_type": "execute_result"
    }
   ],
   "source": [
    "y_hat=ABR.predict(test_set.drop(columns=['SalePrice']))\n",
    "rmsle(np.expm1(test_set['SalePrice']),np.expm1(y_hat))"
   ]
  },
  {
   "cell_type": "markdown",
   "id": "fb7dbdf6",
   "metadata": {},
   "source": [
    "# Gradient Boosting Machine(GBM) Regressor"
   ]
  },
  {
   "cell_type": "markdown",
   "id": "08f145bb",
   "metadata": {},
   "source": [
    "## Validation"
   ]
  },
  {
   "cell_type": "code",
   "execution_count": 21,
   "id": "4321a2fc",
   "metadata": {},
   "outputs": [
    {
     "data": {
      "text/plain": [
       "GradientBoostingRegressor(random_state=0)"
      ]
     },
     "execution_count": 21,
     "metadata": {},
     "output_type": "execute_result"
    }
   ],
   "source": [
    "from sklearn.ensemble import GradientBoostingRegressor\n",
    "\n",
    "GBR = GradientBoostingRegressor(random_state=0)\n",
    "X=train_set.drop(columns=['SalePrice'])\n",
    "y=train_set['SalePrice']\n",
    "\n",
    "GBR.fit(X, y)"
   ]
  },
  {
   "cell_type": "code",
   "execution_count": 22,
   "id": "13bb95aa",
   "metadata": {},
   "outputs": [
    {
     "data": {
      "text/plain": [
       "0.12740232742201202"
      ]
     },
     "execution_count": 22,
     "metadata": {},
     "output_type": "execute_result"
    }
   ],
   "source": [
    "y_hat=GBR.predict(test_set.drop(columns=['SalePrice']))\n",
    "rmsle(np.expm1(test_set['SalePrice']),np.expm1(y_hat))"
   ]
  },
  {
   "cell_type": "markdown",
   "id": "66be7a13",
   "metadata": {},
   "source": [
    "## Submission"
   ]
  },
  {
   "cell_type": "code",
   "execution_count": null,
   "id": "d83bcd73",
   "metadata": {},
   "outputs": [],
   "source": [
    "X=train.drop(columns=['SalePrice'])\n",
    "y=train['SalePrice']\n",
    "\n",
    "GBR.fit(X, y)\n",
    "\n",
    "pred=GBR.predict(test)"
   ]
  },
  {
   "cell_type": "code",
   "execution_count": null,
   "id": "f1f9acde",
   "metadata": {},
   "outputs": [],
   "source": [
    "pred = np.expm1(pred)\n",
    "sub=pd.read_csv('data/sample_submission.csv')\n",
    "sub['SalePrice']=pred\n",
    "sub.to_csv('./submission/GBR_1.csv',index=False)"
   ]
  },
  {
   "cell_type": "markdown",
   "id": "2cdea40a",
   "metadata": {},
   "source": [
    "# LightGBM Regressor"
   ]
  },
  {
   "cell_type": "markdown",
   "id": "570e96ed",
   "metadata": {},
   "source": [
    "## validation"
   ]
  },
  {
   "cell_type": "code",
   "execution_count": 23,
   "id": "ae4e5905",
   "metadata": {},
   "outputs": [
    {
     "data": {
      "text/plain": [
       "LGBMRegressor(random_state=0)"
      ]
     },
     "execution_count": 23,
     "metadata": {},
     "output_type": "execute_result"
    }
   ],
   "source": [
    "from lightgbm import LGBMRegressor\n",
    "\n",
    "LGB = LGBMRegressor(random_state=0)\n",
    "\n",
    "X=train_set.drop(columns=['SalePrice'])\n",
    "y=train_set['SalePrice']\n",
    "\n",
    "LGB.fit(X, y)"
   ]
  },
  {
   "cell_type": "code",
   "execution_count": 24,
   "id": "a357f575",
   "metadata": {},
   "outputs": [
    {
     "data": {
      "text/plain": [
       "0.13519916615901967"
      ]
     },
     "execution_count": 24,
     "metadata": {},
     "output_type": "execute_result"
    }
   ],
   "source": [
    "y_hat=LGB.predict(test_set.drop(columns=['SalePrice']))\n",
    "rmsle(np.expm1(test_set['SalePrice']),np.expm1(y_hat))"
   ]
  },
  {
   "cell_type": "markdown",
   "id": "f8ee1312",
   "metadata": {},
   "source": [
    "## Submission"
   ]
  },
  {
   "cell_type": "code",
   "execution_count": null,
   "id": "4ac6f776",
   "metadata": {},
   "outputs": [],
   "source": [
    "X=train.drop(columns=['SalePrice'])\n",
    "y=train['SalePrice']\n",
    "\n",
    "LGB.fit(X, y)\n",
    "\n",
    "pred=LGB.predict(test)"
   ]
  },
  {
   "cell_type": "code",
   "execution_count": null,
   "id": "7209e2b8",
   "metadata": {},
   "outputs": [],
   "source": [
    "pred = np.expm1(pred)\n",
    "sub=pd.read_csv('data/sample_submission.csv')\n",
    "sub['SalePrice']=pred\n",
    "sub.to_csv('./submission/LGB_1.csv',index=False)"
   ]
  },
  {
   "cell_type": "markdown",
   "id": "de1053ee",
   "metadata": {},
   "source": [
    "#The End#"
   ]
  }
 ],
 "metadata": {
  "kernelspec": {
   "display_name": "Python 3",
   "language": "python",
   "name": "python3"
  },
  "language_info": {
   "codemirror_mode": {
    "name": "ipython",
    "version": 3
   },
   "file_extension": ".py",
   "mimetype": "text/x-python",
   "name": "python",
   "nbconvert_exporter": "python",
   "pygments_lexer": "ipython3",
   "version": "3.8.8"
  },
  "toc": {
   "base_numbering": 1,
   "nav_menu": {},
   "number_sections": true,
   "sideBar": true,
   "skip_h1_title": false,
   "title_cell": "Table of Contents",
   "title_sidebar": "Contents",
   "toc_cell": false,
   "toc_position": {},
   "toc_section_display": true,
   "toc_window_display": false
  }
 },
 "nbformat": 4,
 "nbformat_minor": 5
}
