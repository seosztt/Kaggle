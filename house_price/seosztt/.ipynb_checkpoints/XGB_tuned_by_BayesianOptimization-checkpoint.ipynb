{
 "cells": [
  {
   "cell_type": "code",
   "execution_count": 1,
   "id": "abe80538",
   "metadata": {},
   "outputs": [],
   "source": [
    "import numpy as np\n",
    "import pandas as pd\n",
    "import matplotlib.pyplot as plt\n",
    "import seaborn as sns\n",
    "import statsmodels.api as sm;\n",
    "from statsmodels.stats.outliers_influence import variance_inflation_factor\n",
    "import sklearn"
   ]
  },
  {
   "cell_type": "code",
   "execution_count": 11,
   "id": "2f888bfe",
   "metadata": {},
   "outputs": [],
   "source": [
    "from sklearn.linear_model import ElasticNet, Lasso,  BayesianRidge, LassoLarsIC\n",
    "from sklearn.ensemble import RandomForestRegressor,  GradientBoostingRegressor\n",
    "from sklearn.kernel_ridge import KernelRidge\n",
    "from sklearn.pipeline import make_pipeline\n",
    "from sklearn.preprocessing import RobustScaler\n",
    "from sklearn.base import BaseEstimator, TransformerMixin, RegressorMixin, clone\n",
    "from sklearn.model_selection import KFold, cross_val_score, train_test_split\n",
    "from sklearn.metrics import mean_squared_error, mean_squared_log_error, r2_score\n",
    "from xgboost import XGBRegressor\n",
    "import xgboost as xgb\n",
    "import lightgbm as lgb\n",
    "from sklearn.svm import SVR\n",
    "from sklearn.ensemble import RandomForestRegressor\n",
    "from sklearn.datasets import make_regression\n",
    "from sklearn.model_selection import GridSearchCV"
   ]
  },
  {
   "cell_type": "code",
   "execution_count": 3,
   "id": "f92f73a5",
   "metadata": {},
   "outputs": [],
   "source": [
    "train =  pd.read_csv('data/preprocess/train_0910.csv')\n",
    "test =  pd.read_csv('data/preprocess/test_0910.csv')"
   ]
  },
  {
   "cell_type": "code",
   "execution_count": 4,
   "id": "8d7c8432",
   "metadata": {},
   "outputs": [],
   "source": [
    "X = train.drop(columns = ['SalePrice'])\n",
    "y = train['SalePrice']"
   ]
  },
  {
   "cell_type": "code",
   "execution_count": 5,
   "id": "4ea5591b",
   "metadata": {},
   "outputs": [],
   "source": [
    "from bayes_opt import BayesianOptimization"
   ]
  },
  {
   "cell_type": "code",
   "execution_count": 13,
   "id": "7d3dee84",
   "metadata": {},
   "outputs": [],
   "source": [
    "def xgb_bo(gamma,max_depth, subsample):\n",
    "    xgb_params = {\n",
    "              'gamma' : int(round(gamma)),\n",
    "              'max_depth' : int(round(max_depth)),\n",
    "               'subsample' : int(round(subsample)),      \n",
    "              }\n",
    "    xgb = XGBRegressor(**xgb_params)\n",
    "    \n",
    "    X_train, X_valid, y_train, y_valid = train_test_split(X,y,test_size = 0.2, )\n",
    "    \n",
    "    xgb.fit(X_train,y_train)\n",
    "    score = mean_squared_log_error(y_valid, xgb.predict(X_valid))\n",
    "    return score"
   ]
  },
  {
   "cell_type": "code",
   "execution_count": 14,
   "id": "2af30ac7",
   "metadata": {},
   "outputs": [],
   "source": [
    "#Validation function\n",
    "n_folds = 10\n",
    "\n",
    "def rmsle_cv(model):\n",
    "    kf = KFold(n_folds, shuffle=True, random_state=42).get_n_splits(train.values)\n",
    "    rmse= np.sqrt(-cross_val_score(model, train.values, y_train, scoring=\"neg_mean_squared_error\", cv = kf))\n",
    "    return(rmse)"
   ]
  },
  {
   "cell_type": "code",
   "execution_count": 15,
   "id": "1b866e2d",
   "metadata": {},
   "outputs": [],
   "source": [
    "# RMSLE 정의\n",
    "def rmsle(origin, pred):\n",
    "    return np.sqrt(mean_squared_log_error(origin, pred))"
   ]
  },
  {
   "cell_type": "code",
   "execution_count": 16,
   "id": "728da0ea",
   "metadata": {},
   "outputs": [],
   "source": [
    "xgb_parameter_bounds = {\n",
    "                      'gamma' : (0,10),\n",
    "                      'max_depth' : (1,3), # 나무의 깊이\n",
    "                      'subsample' : (0.5,1)\n",
    "                      }"
   ]
  },
  {
   "cell_type": "code",
   "execution_count": 17,
   "id": "3f5256fb",
   "metadata": {},
   "outputs": [],
   "source": [
    "BO_xgb = BayesianOptimization(f = xgb_bo, pbounds = xgb_parameter_bounds,random_state = 0)"
   ]
  },
  {
   "cell_type": "code",
   "execution_count": 18,
   "id": "01d8f565",
   "metadata": {},
   "outputs": [
    {
     "name": "stdout",
     "output_type": "stream",
     "text": [
      "|   iter    |  target   |   gamma   | max_depth | subsample |\n",
      "-------------------------------------------------------------\n",
      "| \u001b[0m 1       \u001b[0m | \u001b[0m 0.000270\u001b[0m | \u001b[0m 5.488   \u001b[0m | \u001b[0m 2.43    \u001b[0m | \u001b[0m 0.8014  \u001b[0m |\n",
      "| \u001b[0m 2       \u001b[0m | \u001b[0m 0.000246\u001b[0m | \u001b[0m 5.449   \u001b[0m | \u001b[0m 1.847   \u001b[0m | \u001b[0m 0.8229  \u001b[0m |\n",
      "| \u001b[0m 3       \u001b[0m | \u001b[0m 0.000180\u001b[0m | \u001b[0m 4.376   \u001b[0m | \u001b[0m 2.784   \u001b[0m | \u001b[0m 0.9818  \u001b[0m |\n",
      "| \u001b[0m 4       \u001b[0m | \u001b[0m 0.000259\u001b[0m | \u001b[0m 3.834   \u001b[0m | \u001b[0m 2.583   \u001b[0m | \u001b[0m 0.7644  \u001b[0m |\n",
      "| \u001b[95m 5       \u001b[0m | \u001b[95m 0.000272\u001b[0m | \u001b[95m 5.68    \u001b[0m | \u001b[95m 2.851   \u001b[0m | \u001b[95m 0.5355  \u001b[0m |\n",
      "| \u001b[95m 6       \u001b[0m | \u001b[95m 0.000280\u001b[0m | \u001b[95m 5.592   \u001b[0m | \u001b[95m 2.749   \u001b[0m | \u001b[95m 0.8524  \u001b[0m |\n",
      "| \u001b[0m 7       \u001b[0m | \u001b[0m 0.000179\u001b[0m | \u001b[0m 2.303   \u001b[0m | \u001b[0m 2.915   \u001b[0m | \u001b[0m 0.6916  \u001b[0m |\n",
      "| \u001b[0m 8       \u001b[0m | \u001b[0m 0.000201\u001b[0m | \u001b[0m 5.411   \u001b[0m | \u001b[0m 2.106   \u001b[0m | \u001b[0m 0.8663  \u001b[0m |\n",
      "| \u001b[0m 9       \u001b[0m | \u001b[0m 0.000173\u001b[0m | \u001b[0m 1.953   \u001b[0m | \u001b[0m 1.551   \u001b[0m | \u001b[0m 0.5432  \u001b[0m |\n",
      "| \u001b[0m 10      \u001b[0m | \u001b[0m 0.000225\u001b[0m | \u001b[0m 3.72    \u001b[0m | \u001b[0m 1.231   \u001b[0m | \u001b[0m 0.9286  \u001b[0m |\n",
      "=============================================================\n"
     ]
    }
   ],
   "source": [
    "BO_xgb.maximize(init_points = 5, n_iter = 5)"
   ]
  },
  {
   "cell_type": "code",
   "execution_count": 23,
   "id": "6b316424",
   "metadata": {},
   "outputs": [],
   "source": [
    "tuned_xgb_by_BO_1 =XGBRegressor(gamma = 5.68,max_depth = 3, subsample =  0.5355)\n",
    "tuned_xgb_by_BO_1.fit(X,y)\n",
    "\n",
    "\n",
    "#예측\n",
    "pred = tuned_xgb_by_BO_1.predict(test)\n",
    "pred = np.expm1(pred)\n",
    "\n",
    "#정답파일 내보내기\n",
    "sub = pd.read_csv('data/sample_submission.csv')\n",
    "sub['SalePrice'] = pred\n",
    "sub.to_csv('tuned_xgb_by_BO_1.csv',index = False)"
   ]
  }
 ],
 "metadata": {
  "kernelspec": {
   "display_name": "Python 3",
   "language": "python",
   "name": "python3"
  },
  "language_info": {
   "codemirror_mode": {
    "name": "ipython",
    "version": 3
   },
   "file_extension": ".py",
   "mimetype": "text/x-python",
   "name": "python",
   "nbconvert_exporter": "python",
   "pygments_lexer": "ipython3",
   "version": "3.8.8"
  },
  "toc": {
   "base_numbering": 1,
   "nav_menu": {},
   "number_sections": true,
   "sideBar": true,
   "skip_h1_title": false,
   "title_cell": "Table of Contents",
   "title_sidebar": "Contents",
   "toc_cell": false,
   "toc_position": {},
   "toc_section_display": true,
   "toc_window_display": false
  }
 },
 "nbformat": 4,
 "nbformat_minor": 5
}
