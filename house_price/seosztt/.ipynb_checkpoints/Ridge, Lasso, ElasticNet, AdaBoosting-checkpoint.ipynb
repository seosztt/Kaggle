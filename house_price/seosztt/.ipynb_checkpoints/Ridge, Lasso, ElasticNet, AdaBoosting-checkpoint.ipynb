{
 "cells": [
  {
   "cell_type": "code",
   "execution_count": 1,
   "id": "d5891787",
   "metadata": {},
   "outputs": [],
   "source": [
    "import pandas as pd\n",
    "\n",
    "train=pd.read_csv('./data/preprocess/train_0918.csv')\n",
    "test=pd.read_csv('./data/preprocess/test_0918.csv')"
   ]
  },
  {
   "cell_type": "code",
   "execution_count": 2,
   "id": "aa5bf59b",
   "metadata": {},
   "outputs": [
    {
     "data": {
      "text/plain": [
       "((1022, 58), (438, 58))"
      ]
     },
     "execution_count": 2,
     "metadata": {},
     "output_type": "execute_result"
    }
   ],
   "source": [
    "from sklearn.model_selection import train_test_split\n",
    "\n",
    "train_set, test_set = train_test_split(train,\n",
    "                                       test_size = 0.3,\n",
    "                                       random_state = 2045)\n",
    "\n",
    "train_set.shape, test_set.shape"
   ]
  },
  {
   "cell_type": "code",
   "execution_count": 3,
   "id": "b5b083fa",
   "metadata": {},
   "outputs": [],
   "source": [
    "from sklearn.metrics import mean_squared_error, mean_squared_log_error, r2_score\n",
    "import numpy as np\n",
    "\n",
    "# RMSLE 정의\n",
    "def rmsle(origin, pred):\n",
    "    return np.sqrt(mean_squared_log_error(origin, pred))"
   ]
  },
  {
   "cell_type": "markdown",
   "id": "7dbc162b",
   "metadata": {},
   "source": [
    "# Ridge Regression"
   ]
  },
  {
   "cell_type": "markdown",
   "id": "53af1b7b",
   "metadata": {},
   "source": [
    "## Validation"
   ]
  },
  {
   "cell_type": "code",
   "execution_count": null,
   "id": "b4afc221",
   "metadata": {},
   "outputs": [],
   "source": [
    "from sklearn.linear_model import Ridge\n",
    "\n",
    "RG = Ridge(normalize = True, \n",
    "           alpha = 0.3,\n",
    "           solver = 'cholesky')   \n",
    "\n",
    "X=train_set.drop(columns=['SalePrice'])\n",
    "y=train_set['SalePrice']\n",
    "\n",
    "RG.fit(X, y)"
   ]
  },
  {
   "cell_type": "code",
   "execution_count": null,
   "id": "41f8c190",
   "metadata": {
    "scrolled": true
   },
   "outputs": [],
   "source": [
    "y_hat=RG.predict(test_set.drop(columns=['SalePrice']))\n",
    "rmsle(np.expm1(test_set['SalePrice']),np.expm1(y_hat))"
   ]
  },
  {
   "cell_type": "markdown",
   "id": "c3fcaf11",
   "metadata": {},
   "source": [
    "## Submission"
   ]
  },
  {
   "cell_type": "code",
   "execution_count": null,
   "id": "ec26dc7b",
   "metadata": {},
   "outputs": [],
   "source": [
    "X=train.drop(columns=['SalePrice'])\n",
    "y=train['SalePrice']\n",
    "\n",
    "RG.fit(X, y)\n",
    "\n",
    "pred=RG.predict(test)"
   ]
  },
  {
   "cell_type": "code",
   "execution_count": null,
   "id": "a3d05b29",
   "metadata": {},
   "outputs": [],
   "source": [
    "pred = np.expm1(pred)\n",
    "sub=pd.read_csv('data/sample_submission.csv')\n",
    "sub['SalePrice']=pred\n",
    "sub.to_csv('./submission/ridge_1.csv',index=False)"
   ]
  },
  {
   "cell_type": "markdown",
   "id": "f7c258aa",
   "metadata": {},
   "source": [
    "# Lasso Regression"
   ]
  },
  {
   "cell_type": "markdown",
   "id": "fc68fd11",
   "metadata": {},
   "source": [
    "## Validation"
   ]
  },
  {
   "cell_type": "code",
   "execution_count": null,
   "id": "55063c29",
   "metadata": {},
   "outputs": [],
   "source": [
    "from sklearn.linear_model import Lasso\n",
    "\n",
    "LS = Lasso(normalize = True, \n",
    "           alpha = 0.2)\n",
    "\n",
    "X=train_set.drop(columns=['SalePrice'])\n",
    "y=train_set['SalePrice']\n",
    "\n",
    "LS.fit(X, y)"
   ]
  },
  {
   "cell_type": "code",
   "execution_count": null,
   "id": "f15aef1e",
   "metadata": {},
   "outputs": [],
   "source": [
    "y_hat=LS.predict(test_set.drop(columns=['SalePrice']))\n",
    "rmsle(np.expm1(test_set['SalePrice']),np.expm1(y_hat))"
   ]
  },
  {
   "cell_type": "markdown",
   "id": "b94ae6ff",
   "metadata": {},
   "source": [
    "# ElasticNet Regression"
   ]
  },
  {
   "cell_type": "markdown",
   "id": "d18fb6bd",
   "metadata": {},
   "source": [
    "## Validation"
   ]
  },
  {
   "cell_type": "code",
   "execution_count": 4,
   "id": "6b4d1b21",
   "metadata": {},
   "outputs": [
    {
     "data": {
      "text/plain": [
       "ElasticNet(alpha=0.0001, l1_ratio=0.7, normalize=True)"
      ]
     },
     "execution_count": 4,
     "metadata": {},
     "output_type": "execute_result"
    }
   ],
   "source": [
    "from sklearn.linear_model import ElasticNet\n",
    "\n",
    "EN = ElasticNet(normalize = True, \n",
    "                alpha = 0.0001,\n",
    "                l1_ratio = 0.7)\n",
    "\n",
    "X=train_set.drop(columns=['SalePrice'])\n",
    "y=train_set['SalePrice']\n",
    "\n",
    "EN.fit(X, y)"
   ]
  },
  {
   "cell_type": "code",
   "execution_count": 5,
   "id": "1abad27d",
   "metadata": {},
   "outputs": [
    {
     "data": {
      "text/plain": [
       "0.1251141288280315"
      ]
     },
     "execution_count": 5,
     "metadata": {},
     "output_type": "execute_result"
    }
   ],
   "source": [
    "y_hat=EN.predict(test_set.drop(columns=['SalePrice']))\n",
    "rmsle(np.expm1(test_set['SalePrice']),np.expm1(y_hat))"
   ]
  },
  {
   "cell_type": "markdown",
   "id": "be5ed785",
   "metadata": {},
   "source": [
    "## Submission"
   ]
  },
  {
   "cell_type": "code",
   "execution_count": 6,
   "id": "7954cda5",
   "metadata": {},
   "outputs": [],
   "source": [
    "X=train.drop(columns=['SalePrice'])\n",
    "y=train['SalePrice']\n",
    "\n",
    "EN.fit(X, y)\n",
    "\n",
    "pred=EN.predict(test)"
   ]
  },
  {
   "cell_type": "code",
   "execution_count": 7,
   "id": "ac76ae5a",
   "metadata": {},
   "outputs": [],
   "source": [
    "pred = np.expm1(pred)\n",
    "sub=pd.read_csv('data/sample_submission.csv')\n",
    "sub['SalePrice']=pred\n",
    "sub.to_csv('./submission/EN_1.csv',index=False)"
   ]
  },
  {
   "cell_type": "markdown",
   "id": "4b132500",
   "metadata": {},
   "source": [
    "# Adaptive Boosting Regressor"
   ]
  },
  {
   "cell_type": "code",
   "execution_count": 20,
   "id": "9483fdcf",
   "metadata": {},
   "outputs": [
    {
     "data": {
      "text/plain": [
       "AdaBoostRegressor(learning_rate=0.0001, loss='square', n_estimators=500,\n",
       "                  random_state=2045)"
      ]
     },
     "execution_count": 20,
     "metadata": {},
     "output_type": "execute_result"
    }
   ],
   "source": [
    "from sklearn.ensemble import AdaBoostRegressor\n",
    "\n",
    "ABR = AdaBoostRegressor(loss = 'square',\n",
    "                        n_estimators = 500,\n",
    "                        learning_rate = 0.0001,\n",
    "                        random_state = 2045)\n",
    "\n",
    "X=train_set.drop(columns=['SalePrice'])\n",
    "y=train_set['SalePrice']\n",
    "\n",
    "ABR.fit(X, y)"
   ]
  },
  {
   "cell_type": "code",
   "execution_count": 21,
   "id": "3708ce1b",
   "metadata": {},
   "outputs": [
    {
     "data": {
      "text/plain": [
       "0.1898079637273237"
      ]
     },
     "execution_count": 21,
     "metadata": {},
     "output_type": "execute_result"
    }
   ],
   "source": [
    "y_hat=ABR.predict(test_set.drop(columns=['SalePrice']))\n",
    "rmsle(np.expm1(test_set['SalePrice']),np.expm1(y_hat))"
   ]
  },
  {
   "cell_type": "markdown",
   "id": "51c95afc",
   "metadata": {},
   "source": [
    "#The End#"
   ]
  }
 ],
 "metadata": {
  "kernelspec": {
   "display_name": "Python 3",
   "language": "python",
   "name": "python3"
  },
  "language_info": {
   "codemirror_mode": {
    "name": "ipython",
    "version": 3
   },
   "file_extension": ".py",
   "mimetype": "text/x-python",
   "name": "python",
   "nbconvert_exporter": "python",
   "pygments_lexer": "ipython3",
   "version": "3.8.8"
  },
  "toc": {
   "base_numbering": 1,
   "nav_menu": {},
   "number_sections": true,
   "sideBar": true,
   "skip_h1_title": false,
   "title_cell": "Table of Contents",
   "title_sidebar": "Contents",
   "toc_cell": false,
   "toc_position": {},
   "toc_section_display": true,
   "toc_window_display": false
  }
 },
 "nbformat": 4,
 "nbformat_minor": 5
}
