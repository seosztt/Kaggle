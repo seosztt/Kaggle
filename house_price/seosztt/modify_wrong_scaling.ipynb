{
 "cells": [
  {
   "cell_type": "code",
   "execution_count": 1,
   "id": "39ca221e",
   "metadata": {},
   "outputs": [],
   "source": [
    "import numpy as np\n",
    "import pandas as pd\n",
    "import matplotlib.pyplot as plt\n",
    "import seaborn as sns\n",
    "import statsmodels.api as sm;\n",
    "import sklearn\n",
    "from statsmodels.stats.outliers_influence import variance_inflation_factor"
   ]
  },
  {
   "cell_type": "code",
   "execution_count": 2,
   "id": "602368df",
   "metadata": {},
   "outputs": [],
   "source": [
    "train =  pd.read_csv('data/EDA/train_EDA_0910.csv')\n",
    "test =  pd.read_csv('data/EDA/test_EDA_0910.csv')\n",
    "feat_class = pd.read_csv('data/EDA/feat_class_0918.csv')"
   ]
  },
  {
   "cell_type": "code",
   "execution_count": 3,
   "id": "c76b7342",
   "metadata": {},
   "outputs": [],
   "source": [
    "feature_raw = feat_class['raw'].dropna().values.tolist()\n",
    "feature_dis = feat_class['dis'].dropna().values.tolist()\n",
    "feature_map = feat_class['map'].dropna().values.tolist()\n",
    "feature_onehot = feat_class['onehot'].dropna().values.tolist()\n",
    "feature_extra = feat_class['extra'].dropna().values.tolist()\n",
    "feature_del = feat_class['del'].dropna().values.tolist()"
   ]
  },
  {
   "cell_type": "markdown",
   "id": "e15c1376",
   "metadata": {},
   "source": [
    "# delete"
   ]
  },
  {
   "cell_type": "code",
   "execution_count": 4,
   "id": "6238b3a8",
   "metadata": {},
   "outputs": [
    {
     "data": {
      "text/plain": [
       "['Id',\n",
       " 'LotFrontage',\n",
       " 'Utilities',\n",
       " 'Condition2',\n",
       " 'RoofMatl',\n",
       " 'BsmtFinType1',\n",
       " 'BsmtFinType2',\n",
       " 'BsmtFinSF1',\n",
       " 'BsmtFinSF2',\n",
       " 'BsmtUnfSF',\n",
       " 'Heating',\n",
       " '1stFlrSF',\n",
       " '2ndFlrSF',\n",
       " 'LowQualFinSF',\n",
       " 'MiscFeature',\n",
       " 'PoolArea',\n",
       " 'PoolQC',\n",
       " 'MiscVal']"
      ]
     },
     "execution_count": 4,
     "metadata": {},
     "output_type": "execute_result"
    }
   ],
   "source": [
    "feature_del"
   ]
  },
  {
   "cell_type": "code",
   "execution_count": 5,
   "id": "c9e26396",
   "metadata": {},
   "outputs": [],
   "source": [
    "train = train.drop(columns = feature_del)\n",
    "test = test.drop(columns = feature_del)"
   ]
  },
  {
   "cell_type": "markdown",
   "id": "07a36138",
   "metadata": {},
   "source": [
    "# Extra"
   ]
  },
  {
   "cell_type": "code",
   "execution_count": 6,
   "id": "ad0ea851",
   "metadata": {},
   "outputs": [
    {
     "data": {
      "text/plain": [
       "[]"
      ]
     },
     "execution_count": 6,
     "metadata": {},
     "output_type": "execute_result"
    }
   ],
   "source": [
    "feature_extra"
   ]
  },
  {
   "cell_type": "code",
   "execution_count": 7,
   "id": "cc73066c",
   "metadata": {},
   "outputs": [
    {
     "data": {
      "text/plain": [
       "Neighborhood\n",
       "MeadowV     98576.470588\n",
       "IDOTRR     100123.783784\n",
       "BrDale     104493.750000\n",
       "BrkSide    124834.051724\n",
       "Edwards    128219.700000\n",
       "OldTown    128225.300885\n",
       "Sawyer     136793.135135\n",
       "Blueste    137500.000000\n",
       "SWISU      142591.360000\n",
       "NPkVill    142694.444444\n",
       "NAmes      145847.080000\n",
       "Mitchel    156270.122449\n",
       "SawyerW    186555.796610\n",
       "NWAmes     189050.068493\n",
       "Gilbert    192854.506329\n",
       "Blmngtn    194870.882353\n",
       "CollgCr    197965.773333\n",
       "Crawfor    210624.725490\n",
       "ClearCr    212565.428571\n",
       "Somerst    225379.837209\n",
       "Veenker    238772.727273\n",
       "Timber     242247.447368\n",
       "StoneBr    310499.000000\n",
       "NridgHt    316270.623377\n",
       "NoRidge    335295.317073\n",
       "Name: SalePrice, dtype: float64"
      ]
     },
     "execution_count": 7,
     "metadata": {},
     "output_type": "execute_result"
    }
   ],
   "source": [
    "train.groupby('Neighborhood').mean().sort_values(by='SalePrice')['SalePrice']"
   ]
  },
  {
   "cell_type": "code",
   "execution_count": 8,
   "id": "bbc5596c",
   "metadata": {},
   "outputs": [],
   "source": [
    "map_Nei={'MeadowV' :0,\n",
    "'IDOTRR'  :1,\n",
    "'BrDale'  :2,\n",
    "'BrkSide' :3,\n",
    "'Edwards' :4,\n",
    "'OldTown' :5,\n",
    "'Sawyer'  :6,\n",
    "'Blueste' :7,\n",
    "'SWISU'   :8,\n",
    "'NPkVill' :9,\n",
    "'NAmes'   :10,\n",
    "'Mitchel' :11,\n",
    "'SawyerW' :12,\n",
    "'NWAmes'  :13,\n",
    "'Gilbert' :14,\n",
    "'Blmngtn' :15,\n",
    "'CollgCr' :16,\n",
    "'Crawfor' :17,\n",
    "'ClearCr' :18,\n",
    "'Somerst' :19,\n",
    "'Veenker' :20,\n",
    "'Timber'  :21,\n",
    "'StoneBr' :22,\n",
    "'NridgHt' :23,\n",
    "'NoRidge' :24}"
   ]
  },
  {
   "cell_type": "code",
   "execution_count": 9,
   "id": "9923e39f",
   "metadata": {},
   "outputs": [],
   "source": [
    "train['Neighborhood']=train['Neighborhood'].map(map_Nei)\n",
    "test['Neighborhood']=test['Neighborhood'].map(map_Nei)"
   ]
  },
  {
   "cell_type": "code",
   "execution_count": 10,
   "id": "d32de798",
   "metadata": {},
   "outputs": [],
   "source": [
    "train['YearOld'] = (train['YearBuilt'] + train['YearRemodAdd'] )/2\n",
    "train['YearOld'] -= train['YrSold']\n",
    "test['YearOld'] = (test['YearBuilt'] + test['YearRemodAdd'] )/2\n",
    "test['YearOld'] -= test['YrSold']"
   ]
  },
  {
   "cell_type": "code",
   "execution_count": 11,
   "id": "c504f6ae",
   "metadata": {},
   "outputs": [],
   "source": [
    "#Extra에서 따로 계산하고 지워줘야 할 컬럼 추가\n",
    "train = train.drop(columns = ['YearBuilt', 'YearRemodAdd',\n",
    "                    'Exterior1st', 'Exterior2nd', 'YrSold', 'GarageYrBlt'])\n",
    "test = test.drop(columns = ['YearBuilt', 'YearRemodAdd',\n",
    "                    'Exterior1st', 'Exterior2nd', 'YrSold', 'GarageYrBlt'])"
   ]
  },
  {
   "cell_type": "markdown",
   "id": "a9a03cc2",
   "metadata": {},
   "source": [
    "# Label Encoder"
   ]
  },
  {
   "cell_type": "code",
   "execution_count": 12,
   "id": "a9b3d327",
   "metadata": {
    "scrolled": true
   },
   "outputs": [
    {
     "data": {
      "text/plain": [
       "['MSSubClass',\n",
       " 'MSZoning',\n",
       " 'Street',\n",
       " 'Alley',\n",
       " 'LotShape',\n",
       " 'LandContour',\n",
       " 'LotConfig',\n",
       " 'LandSlope',\n",
       " 'Condition1',\n",
       " 'BldgType',\n",
       " 'HouseStyle',\n",
       " 'RoofStyle',\n",
       " 'MasVnrType',\n",
       " 'ExterCond',\n",
       " 'Foundation',\n",
       " 'Electrical',\n",
       " 'Functional',\n",
       " 'GarageType',\n",
       " 'PavedDrive',\n",
       " 'Fence',\n",
       " 'SaleType',\n",
       " 'SaleCondition']"
      ]
     },
     "execution_count": 12,
     "metadata": {},
     "output_type": "execute_result"
    }
   ],
   "source": [
    "feature_onehot"
   ]
  },
  {
   "cell_type": "code",
   "execution_count": 13,
   "id": "e4c68d3f",
   "metadata": {},
   "outputs": [],
   "source": [
    "feature_onehot.remove('MSSubClass')"
   ]
  },
  {
   "cell_type": "code",
   "execution_count": 14,
   "id": "1ea790c0",
   "metadata": {
    "scrolled": true
   },
   "outputs": [],
   "source": [
    "from sklearn.preprocessing import LabelEncoder\n",
    "LE=LabelEncoder()\n",
    "for i in feature_onehot:\n",
    "    temp1=LE.fit_transform(train[i])\n",
    "    train[i]=temp1\n",
    "    temp2=LE.transform(test[i])\n",
    "    test[i]=temp2"
   ]
  },
  {
   "cell_type": "markdown",
   "id": "3e546a2f",
   "metadata": {},
   "source": [
    "##  MSSubClass"
   ]
  },
  {
   "cell_type": "code",
   "execution_count": 17,
   "id": "f03f98a3",
   "metadata": {
    "scrolled": true
   },
   "outputs": [
    {
     "data": {
      "text/plain": [
       "0       60\n",
       "1       20\n",
       "2       60\n",
       "3       70\n",
       "4       60\n",
       "        ..\n",
       "1455    60\n",
       "1456    20\n",
       "1457    70\n",
       "1458    20\n",
       "1459    20\n",
       "Name: MSSubClass, Length: 1460, dtype: int64"
      ]
     },
     "execution_count": 17,
     "metadata": {},
     "output_type": "execute_result"
    }
   ],
   "source": [
    "train['MSSubClass']"
   ]
  },
  {
   "cell_type": "code",
   "execution_count": 18,
   "id": "6b092a29",
   "metadata": {},
   "outputs": [],
   "source": [
    "# MinMaxScale을 바로 하는 걸로\n",
    "MMS_list=['MSSubClass']"
   ]
  },
  {
   "cell_type": "markdown",
   "id": "139eb0a6",
   "metadata": {},
   "source": [
    "# rename feature"
   ]
  },
  {
   "cell_type": "code",
   "execution_count": 19,
   "id": "05b68519",
   "metadata": {},
   "outputs": [],
   "source": [
    "# 모델링 할 때 컬럼명이 숫자로 시작해서 오류가 생겼음\n",
    "train.rename(columns = {'3SsnPorch' : 'SsnPorch'}, inplace = True)\n",
    "test.rename(columns = {'3SsnPorch' : 'SsnPorch'}, inplace = True)"
   ]
  },
  {
   "cell_type": "code",
   "execution_count": 20,
   "id": "f35eb5e9",
   "metadata": {
    "scrolled": true
   },
   "outputs": [
    {
     "data": {
      "text/plain": [
       "0      1436\n",
       "168       3\n",
       "216       2\n",
       "144       2\n",
       "180       2\n",
       "407       1\n",
       "320       1\n",
       "304       1\n",
       "290       1\n",
       "245       1\n",
       "238       1\n",
       "182       1\n",
       "196       1\n",
       "23        1\n",
       "162       1\n",
       "153       1\n",
       "140       1\n",
       "130       1\n",
       "96        1\n",
       "508       1\n",
       "Name: SsnPorch, dtype: int64"
      ]
     },
     "execution_count": 20,
     "metadata": {},
     "output_type": "execute_result"
    }
   ],
   "source": [
    "train['SsnPorch'].value_counts()"
   ]
  },
  {
   "cell_type": "markdown",
   "id": "aa9f4867",
   "metadata": {},
   "source": [
    "# Scaling"
   ]
  },
  {
   "cell_type": "code",
   "execution_count": 21,
   "id": "bcdc4a7b",
   "metadata": {},
   "outputs": [],
   "source": [
    "MMS_list.extend(feature_raw)\n",
    "MMS_list.extend(feature_dis)\n",
    "MMS_list.extend(feature_map)\n",
    "MMS_list.extend(feature_onehot)"
   ]
  },
  {
   "cell_type": "code",
   "execution_count": 22,
   "id": "6b81f0af",
   "metadata": {},
   "outputs": [
    {
     "data": {
      "text/plain": [
       "['MSSubClass',\n",
       " 'LotArea',\n",
       " 'MasVnrArea',\n",
       " 'TotalBsmtSF',\n",
       " 'GrLivArea',\n",
       " 'GarageArea',\n",
       " 'WoodDeckSF',\n",
       " 'OpenPorchSF',\n",
       " 'EnclosedPorch',\n",
       " 'ScreenPorch',\n",
       " 'YearOld',\n",
       " 'SsnPorch',\n",
       " 'OverallQual',\n",
       " 'OverallCond',\n",
       " 'BsmtFullBath',\n",
       " 'BsmtHalfBath',\n",
       " 'HalfBath',\n",
       " 'BedroomAbvGr',\n",
       " 'KitchenAbvGr',\n",
       " 'TotRmsAbvGrd',\n",
       " 'Fireplaces',\n",
       " 'GarageCars',\n",
       " 'Neighborhood',\n",
       " 'MoSold',\n",
       " 'ExterQual',\n",
       " 'BsmtQual',\n",
       " 'BsmtCond',\n",
       " 'BsmtExposure',\n",
       " 'HeatingQC',\n",
       " 'CentralAir',\n",
       " 'KitchenQual',\n",
       " 'FireplaceQu',\n",
       " 'GarageFinish',\n",
       " 'GarageQual',\n",
       " 'GarageCond',\n",
       " 'MSZoning',\n",
       " 'Street',\n",
       " 'Alley',\n",
       " 'LotShape',\n",
       " 'LandContour',\n",
       " 'LotConfig',\n",
       " 'LandSlope',\n",
       " 'Condition1',\n",
       " 'BldgType',\n",
       " 'HouseStyle',\n",
       " 'RoofStyle',\n",
       " 'MasVnrType',\n",
       " 'ExterCond',\n",
       " 'Foundation',\n",
       " 'Electrical',\n",
       " 'Functional',\n",
       " 'GarageType',\n",
       " 'PavedDrive',\n",
       " 'Fence',\n",
       " 'SaleType',\n",
       " 'SaleCondition']"
      ]
     },
     "execution_count": 22,
     "metadata": {},
     "output_type": "execute_result"
    }
   ],
   "source": [
    "MMS_list"
   ]
  },
  {
   "cell_type": "code",
   "execution_count": 23,
   "id": "2a088b28",
   "metadata": {},
   "outputs": [],
   "source": [
    "from sklearn.preprocessing import MinMaxScaler\n",
    "MMS=MinMaxScaler()\n",
    "train[MMS_list]=MMS.fit_transform(train[MMS_list])\n",
    "test[MMS_list]=MMS.transform(test[MMS_list])"
   ]
  },
  {
   "cell_type": "code",
   "execution_count": 24,
   "id": "eb55ff4e",
   "metadata": {},
   "outputs": [],
   "source": [
    "train['SalePrice'] = np.log1p(train['SalePrice'])"
   ]
  },
  {
   "cell_type": "code",
   "execution_count": 25,
   "id": "1f2d9bb6",
   "metadata": {},
   "outputs": [
    {
     "data": {
      "text/html": [
       "<div>\n",
       "<style scoped>\n",
       "    .dataframe tbody tr th:only-of-type {\n",
       "        vertical-align: middle;\n",
       "    }\n",
       "\n",
       "    .dataframe tbody tr th {\n",
       "        vertical-align: top;\n",
       "    }\n",
       "\n",
       "    .dataframe thead th {\n",
       "        text-align: right;\n",
       "    }\n",
       "</style>\n",
       "<table border=\"1\" class=\"dataframe\">\n",
       "  <thead>\n",
       "    <tr style=\"text-align: right;\">\n",
       "      <th></th>\n",
       "      <th>MSSubClass</th>\n",
       "      <th>MSZoning</th>\n",
       "      <th>LotArea</th>\n",
       "      <th>Street</th>\n",
       "      <th>Alley</th>\n",
       "      <th>LotShape</th>\n",
       "      <th>LandContour</th>\n",
       "      <th>LotConfig</th>\n",
       "      <th>LandSlope</th>\n",
       "      <th>Neighborhood</th>\n",
       "      <th>...</th>\n",
       "      <th>OpenPorchSF</th>\n",
       "      <th>EnclosedPorch</th>\n",
       "      <th>SsnPorch</th>\n",
       "      <th>ScreenPorch</th>\n",
       "      <th>Fence</th>\n",
       "      <th>MoSold</th>\n",
       "      <th>SaleType</th>\n",
       "      <th>SaleCondition</th>\n",
       "      <th>SalePrice</th>\n",
       "      <th>YearOld</th>\n",
       "    </tr>\n",
       "  </thead>\n",
       "  <tbody>\n",
       "    <tr>\n",
       "      <th>0</th>\n",
       "      <td>0.235294</td>\n",
       "      <td>0.75</td>\n",
       "      <td>0.033420</td>\n",
       "      <td>1.0</td>\n",
       "      <td>1.0</td>\n",
       "      <td>1.0</td>\n",
       "      <td>1.0</td>\n",
       "      <td>1.0</td>\n",
       "      <td>0.0</td>\n",
       "      <td>0.666667</td>\n",
       "      <td>...</td>\n",
       "      <td>0.111517</td>\n",
       "      <td>0.000000</td>\n",
       "      <td>0.0</td>\n",
       "      <td>0.0</td>\n",
       "      <td>0.00</td>\n",
       "      <td>0.090909</td>\n",
       "      <td>1.0</td>\n",
       "      <td>0.8</td>\n",
       "      <td>12.247699</td>\n",
       "      <td>0.940860</td>\n",
       "    </tr>\n",
       "    <tr>\n",
       "      <th>1</th>\n",
       "      <td>0.000000</td>\n",
       "      <td>0.75</td>\n",
       "      <td>0.038795</td>\n",
       "      <td>1.0</td>\n",
       "      <td>1.0</td>\n",
       "      <td>1.0</td>\n",
       "      <td>1.0</td>\n",
       "      <td>0.5</td>\n",
       "      <td>0.0</td>\n",
       "      <td>0.833333</td>\n",
       "      <td>...</td>\n",
       "      <td>0.000000</td>\n",
       "      <td>0.000000</td>\n",
       "      <td>0.0</td>\n",
       "      <td>0.0</td>\n",
       "      <td>0.00</td>\n",
       "      <td>0.363636</td>\n",
       "      <td>1.0</td>\n",
       "      <td>0.8</td>\n",
       "      <td>12.109016</td>\n",
       "      <td>0.661290</td>\n",
       "    </tr>\n",
       "    <tr>\n",
       "      <th>2</th>\n",
       "      <td>0.235294</td>\n",
       "      <td>0.75</td>\n",
       "      <td>0.046507</td>\n",
       "      <td>1.0</td>\n",
       "      <td>1.0</td>\n",
       "      <td>0.0</td>\n",
       "      <td>1.0</td>\n",
       "      <td>1.0</td>\n",
       "      <td>0.0</td>\n",
       "      <td>0.666667</td>\n",
       "      <td>...</td>\n",
       "      <td>0.076782</td>\n",
       "      <td>0.000000</td>\n",
       "      <td>0.0</td>\n",
       "      <td>0.0</td>\n",
       "      <td>0.00</td>\n",
       "      <td>0.727273</td>\n",
       "      <td>1.0</td>\n",
       "      <td>0.8</td>\n",
       "      <td>12.317171</td>\n",
       "      <td>0.924731</td>\n",
       "    </tr>\n",
       "    <tr>\n",
       "      <th>3</th>\n",
       "      <td>0.294118</td>\n",
       "      <td>0.75</td>\n",
       "      <td>0.038561</td>\n",
       "      <td>1.0</td>\n",
       "      <td>1.0</td>\n",
       "      <td>0.0</td>\n",
       "      <td>1.0</td>\n",
       "      <td>0.0</td>\n",
       "      <td>0.0</td>\n",
       "      <td>0.708333</td>\n",
       "      <td>...</td>\n",
       "      <td>0.063985</td>\n",
       "      <td>0.492754</td>\n",
       "      <td>0.0</td>\n",
       "      <td>0.0</td>\n",
       "      <td>0.00</td>\n",
       "      <td>0.090909</td>\n",
       "      <td>1.0</td>\n",
       "      <td>0.0</td>\n",
       "      <td>11.849405</td>\n",
       "      <td>0.311828</td>\n",
       "    </tr>\n",
       "    <tr>\n",
       "      <th>4</th>\n",
       "      <td>0.235294</td>\n",
       "      <td>0.75</td>\n",
       "      <td>0.060576</td>\n",
       "      <td>1.0</td>\n",
       "      <td>1.0</td>\n",
       "      <td>0.0</td>\n",
       "      <td>1.0</td>\n",
       "      <td>0.5</td>\n",
       "      <td>0.0</td>\n",
       "      <td>1.000000</td>\n",
       "      <td>...</td>\n",
       "      <td>0.153565</td>\n",
       "      <td>0.000000</td>\n",
       "      <td>0.0</td>\n",
       "      <td>0.0</td>\n",
       "      <td>0.00</td>\n",
       "      <td>1.000000</td>\n",
       "      <td>1.0</td>\n",
       "      <td>0.8</td>\n",
       "      <td>12.429220</td>\n",
       "      <td>0.908602</td>\n",
       "    </tr>\n",
       "    <tr>\n",
       "      <th>...</th>\n",
       "      <td>...</td>\n",
       "      <td>...</td>\n",
       "      <td>...</td>\n",
       "      <td>...</td>\n",
       "      <td>...</td>\n",
       "      <td>...</td>\n",
       "      <td>...</td>\n",
       "      <td>...</td>\n",
       "      <td>...</td>\n",
       "      <td>...</td>\n",
       "      <td>...</td>\n",
       "      <td>...</td>\n",
       "      <td>...</td>\n",
       "      <td>...</td>\n",
       "      <td>...</td>\n",
       "      <td>...</td>\n",
       "      <td>...</td>\n",
       "      <td>...</td>\n",
       "      <td>...</td>\n",
       "      <td>...</td>\n",
       "      <td>...</td>\n",
       "    </tr>\n",
       "    <tr>\n",
       "      <th>1455</th>\n",
       "      <td>0.235294</td>\n",
       "      <td>0.75</td>\n",
       "      <td>0.030929</td>\n",
       "      <td>1.0</td>\n",
       "      <td>1.0</td>\n",
       "      <td>1.0</td>\n",
       "      <td>1.0</td>\n",
       "      <td>1.0</td>\n",
       "      <td>0.0</td>\n",
       "      <td>0.583333</td>\n",
       "      <td>...</td>\n",
       "      <td>0.073126</td>\n",
       "      <td>0.000000</td>\n",
       "      <td>0.0</td>\n",
       "      <td>0.0</td>\n",
       "      <td>0.00</td>\n",
       "      <td>0.636364</td>\n",
       "      <td>1.0</td>\n",
       "      <td>0.8</td>\n",
       "      <td>12.072547</td>\n",
       "      <td>0.913978</td>\n",
       "    </tr>\n",
       "    <tr>\n",
       "      <th>1456</th>\n",
       "      <td>0.000000</td>\n",
       "      <td>0.75</td>\n",
       "      <td>0.055505</td>\n",
       "      <td>1.0</td>\n",
       "      <td>1.0</td>\n",
       "      <td>1.0</td>\n",
       "      <td>1.0</td>\n",
       "      <td>1.0</td>\n",
       "      <td>0.0</td>\n",
       "      <td>0.541667</td>\n",
       "      <td>...</td>\n",
       "      <td>0.000000</td>\n",
       "      <td>0.000000</td>\n",
       "      <td>0.0</td>\n",
       "      <td>0.0</td>\n",
       "      <td>0.75</td>\n",
       "      <td>0.090909</td>\n",
       "      <td>1.0</td>\n",
       "      <td>0.8</td>\n",
       "      <td>12.254868</td>\n",
       "      <td>0.704301</td>\n",
       "    </tr>\n",
       "    <tr>\n",
       "      <th>1457</th>\n",
       "      <td>0.294118</td>\n",
       "      <td>0.75</td>\n",
       "      <td>0.036187</td>\n",
       "      <td>1.0</td>\n",
       "      <td>1.0</td>\n",
       "      <td>1.0</td>\n",
       "      <td>1.0</td>\n",
       "      <td>1.0</td>\n",
       "      <td>0.0</td>\n",
       "      <td>0.708333</td>\n",
       "      <td>...</td>\n",
       "      <td>0.109689</td>\n",
       "      <td>0.000000</td>\n",
       "      <td>0.0</td>\n",
       "      <td>0.0</td>\n",
       "      <td>1.00</td>\n",
       "      <td>0.363636</td>\n",
       "      <td>1.0</td>\n",
       "      <td>0.8</td>\n",
       "      <td>12.493133</td>\n",
       "      <td>0.602151</td>\n",
       "    </tr>\n",
       "    <tr>\n",
       "      <th>1458</th>\n",
       "      <td>0.000000</td>\n",
       "      <td>0.75</td>\n",
       "      <td>0.039342</td>\n",
       "      <td>1.0</td>\n",
       "      <td>1.0</td>\n",
       "      <td>1.0</td>\n",
       "      <td>1.0</td>\n",
       "      <td>1.0</td>\n",
       "      <td>0.0</td>\n",
       "      <td>0.416667</td>\n",
       "      <td>...</td>\n",
       "      <td>0.000000</td>\n",
       "      <td>0.202899</td>\n",
       "      <td>0.0</td>\n",
       "      <td>0.0</td>\n",
       "      <td>0.00</td>\n",
       "      <td>0.272727</td>\n",
       "      <td>1.0</td>\n",
       "      <td>0.8</td>\n",
       "      <td>11.864469</td>\n",
       "      <td>0.596774</td>\n",
       "    </tr>\n",
       "    <tr>\n",
       "      <th>1459</th>\n",
       "      <td>0.000000</td>\n",
       "      <td>0.75</td>\n",
       "      <td>0.040370</td>\n",
       "      <td>1.0</td>\n",
       "      <td>1.0</td>\n",
       "      <td>1.0</td>\n",
       "      <td>1.0</td>\n",
       "      <td>1.0</td>\n",
       "      <td>0.0</td>\n",
       "      <td>0.166667</td>\n",
       "      <td>...</td>\n",
       "      <td>0.124314</td>\n",
       "      <td>0.000000</td>\n",
       "      <td>0.0</td>\n",
       "      <td>0.0</td>\n",
       "      <td>0.00</td>\n",
       "      <td>0.454545</td>\n",
       "      <td>1.0</td>\n",
       "      <td>0.8</td>\n",
       "      <td>11.901590</td>\n",
       "      <td>0.532258</td>\n",
       "    </tr>\n",
       "  </tbody>\n",
       "</table>\n",
       "<p>1460 rows × 58 columns</p>\n",
       "</div>"
      ],
      "text/plain": [
       "      MSSubClass  MSZoning   LotArea  Street  Alley  LotShape  LandContour  \\\n",
       "0       0.235294      0.75  0.033420     1.0    1.0       1.0          1.0   \n",
       "1       0.000000      0.75  0.038795     1.0    1.0       1.0          1.0   \n",
       "2       0.235294      0.75  0.046507     1.0    1.0       0.0          1.0   \n",
       "3       0.294118      0.75  0.038561     1.0    1.0       0.0          1.0   \n",
       "4       0.235294      0.75  0.060576     1.0    1.0       0.0          1.0   \n",
       "...          ...       ...       ...     ...    ...       ...          ...   \n",
       "1455    0.235294      0.75  0.030929     1.0    1.0       1.0          1.0   \n",
       "1456    0.000000      0.75  0.055505     1.0    1.0       1.0          1.0   \n",
       "1457    0.294118      0.75  0.036187     1.0    1.0       1.0          1.0   \n",
       "1458    0.000000      0.75  0.039342     1.0    1.0       1.0          1.0   \n",
       "1459    0.000000      0.75  0.040370     1.0    1.0       1.0          1.0   \n",
       "\n",
       "      LotConfig  LandSlope  Neighborhood  ...  OpenPorchSF  EnclosedPorch  \\\n",
       "0           1.0        0.0      0.666667  ...     0.111517       0.000000   \n",
       "1           0.5        0.0      0.833333  ...     0.000000       0.000000   \n",
       "2           1.0        0.0      0.666667  ...     0.076782       0.000000   \n",
       "3           0.0        0.0      0.708333  ...     0.063985       0.492754   \n",
       "4           0.5        0.0      1.000000  ...     0.153565       0.000000   \n",
       "...         ...        ...           ...  ...          ...            ...   \n",
       "1455        1.0        0.0      0.583333  ...     0.073126       0.000000   \n",
       "1456        1.0        0.0      0.541667  ...     0.000000       0.000000   \n",
       "1457        1.0        0.0      0.708333  ...     0.109689       0.000000   \n",
       "1458        1.0        0.0      0.416667  ...     0.000000       0.202899   \n",
       "1459        1.0        0.0      0.166667  ...     0.124314       0.000000   \n",
       "\n",
       "      SsnPorch  ScreenPorch  Fence    MoSold  SaleType  SaleCondition  \\\n",
       "0          0.0          0.0   0.00  0.090909       1.0            0.8   \n",
       "1          0.0          0.0   0.00  0.363636       1.0            0.8   \n",
       "2          0.0          0.0   0.00  0.727273       1.0            0.8   \n",
       "3          0.0          0.0   0.00  0.090909       1.0            0.0   \n",
       "4          0.0          0.0   0.00  1.000000       1.0            0.8   \n",
       "...        ...          ...    ...       ...       ...            ...   \n",
       "1455       0.0          0.0   0.00  0.636364       1.0            0.8   \n",
       "1456       0.0          0.0   0.75  0.090909       1.0            0.8   \n",
       "1457       0.0          0.0   1.00  0.363636       1.0            0.8   \n",
       "1458       0.0          0.0   0.00  0.272727       1.0            0.8   \n",
       "1459       0.0          0.0   0.00  0.454545       1.0            0.8   \n",
       "\n",
       "      SalePrice   YearOld  \n",
       "0     12.247699  0.940860  \n",
       "1     12.109016  0.661290  \n",
       "2     12.317171  0.924731  \n",
       "3     11.849405  0.311828  \n",
       "4     12.429220  0.908602  \n",
       "...         ...       ...  \n",
       "1455  12.072547  0.913978  \n",
       "1456  12.254868  0.704301  \n",
       "1457  12.493133  0.602151  \n",
       "1458  11.864469  0.596774  \n",
       "1459  11.901590  0.532258  \n",
       "\n",
       "[1460 rows x 58 columns]"
      ]
     },
     "execution_count": 25,
     "metadata": {},
     "output_type": "execute_result"
    }
   ],
   "source": [
    "train"
   ]
  },
  {
   "cell_type": "markdown",
   "id": "2c14d077",
   "metadata": {},
   "source": [
    "# Save"
   ]
  },
  {
   "cell_type": "code",
   "execution_count": 26,
   "id": "a392e1bb",
   "metadata": {},
   "outputs": [],
   "source": [
    "train.to_csv('data/preprocess/train_0926.csv', index = False)\n",
    "test.to_csv('data/preprocess/test_0926.csv', index = False)"
   ]
  },
  {
   "cell_type": "markdown",
   "id": "cf1f79ca",
   "metadata": {},
   "source": [
    "#The End#"
   ]
  }
 ],
 "metadata": {
  "kernelspec": {
   "display_name": "Python 3",
   "language": "python",
   "name": "python3"
  },
  "language_info": {
   "codemirror_mode": {
    "name": "ipython",
    "version": 3
   },
   "file_extension": ".py",
   "mimetype": "text/x-python",
   "name": "python",
   "nbconvert_exporter": "python",
   "pygments_lexer": "ipython3",
   "version": "3.8.8"
  },
  "toc": {
   "base_numbering": 1,
   "nav_menu": {},
   "number_sections": true,
   "sideBar": true,
   "skip_h1_title": false,
   "title_cell": "Table of Contents",
   "title_sidebar": "Contents",
   "toc_cell": false,
   "toc_position": {},
   "toc_section_display": true,
   "toc_window_display": false
  }
 },
 "nbformat": 4,
 "nbformat_minor": 5
}
