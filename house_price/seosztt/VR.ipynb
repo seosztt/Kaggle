{
 "cells": [
  {
   "cell_type": "markdown",
   "id": "6027123f",
   "metadata": {
    "heading_collapsed": true
   },
   "source": [
    "# Read"
   ]
  },
  {
   "cell_type": "code",
   "execution_count": null,
   "id": "41d4a2a5",
   "metadata": {
    "hidden": true
   },
   "outputs": [],
   "source": [
    "import pandas as pd\n",
    "\n",
    "train=pd.read_csv('./data/preprocess/train_0918.csv')\n",
    "test=pd.read_csv('./data/preprocess/test_0918.csv')"
   ]
  },
  {
   "cell_type": "code",
   "execution_count": 5,
   "id": "7fea4721",
   "metadata": {
    "hidden": true
   },
   "outputs": [],
   "source": [
    "from sklearn.metrics import mean_squared_error, mean_squared_log_error, r2_score\n",
    "import numpy as np\n",
    "\n",
    "# RMSLE 정의\n",
    "def rmsle(origin, pred):\n",
    "    return np.sqrt(mean_squared_log_error(origin, pred))"
   ]
  },
  {
   "cell_type": "markdown",
   "id": "096f500d",
   "metadata": {
    "heading_collapsed": true
   },
   "source": [
    "# VotingRegressor"
   ]
  },
  {
   "cell_type": "code",
   "execution_count": 7,
   "id": "2c3caff8",
   "metadata": {
    "hidden": true
   },
   "outputs": [],
   "source": [
    "from lightgbm import LGBMRegressor\n",
    "from xgboost import XGBRegressor\n",
    "from sklearn.model_selection import StratifiedKFold\n",
    "from sklearn.ensemble import VotingRegressor\n",
    "from sklearn.ensemble import RandomForestRegressor"
   ]
  },
  {
   "cell_type": "code",
   "execution_count": 8,
   "id": "f46983ac",
   "metadata": {
    "hidden": true
   },
   "outputs": [],
   "source": [
    "LGBM=LGBMRegressor()\n",
    "XGB=XGBRegressor()\n",
    "RF=RandomForestRegressor()\n",
    "\n",
    "VR=VotingRegressor(estimators=[('rf',RF),('xgb',XGB),('lgbm',LGBM)])"
   ]
  },
  {
   "cell_type": "code",
   "execution_count": null,
   "id": "186aae26",
   "metadata": {
    "hidden": true
   },
   "outputs": [],
   "source": [
    "from sklearn.model_selection import train_test_split\n",
    "\n",
    "train_set, test_set = train_test_split(train,\n",
    "                                       test_size = 0.3,\n",
    "                                       random_state = 2045)\n",
    "\n",
    "train_set.shape, test_set.shape"
   ]
  },
  {
   "cell_type": "code",
   "execution_count": null,
   "id": "d6921a6e",
   "metadata": {
    "hidden": true
   },
   "outputs": [],
   "source": [
    "X=train_set.drop('SalePrice',axis=1)\n",
    "y=train_set['SalePrice']\n",
    "\n",
    "VR.fit(X,y)"
   ]
  },
  {
   "cell_type": "code",
   "execution_count": null,
   "id": "996207ce",
   "metadata": {
    "hidden": true
   },
   "outputs": [],
   "source": [
    "y_hat_1=VR.predict(test_set.drop(columns=['SalePrice']))"
   ]
  },
  {
   "cell_type": "code",
   "execution_count": null,
   "id": "bbe96305",
   "metadata": {
    "hidden": true
   },
   "outputs": [],
   "source": [
    "import numpy as np\n",
    "\n",
    "rmsle(np.expm1(test_set['SalePrice']),np.expm1(y_hat_1))"
   ]
  },
  {
   "cell_type": "markdown",
   "id": "c239db23",
   "metadata": {
    "heading_collapsed": true
   },
   "source": [
    "# Submission"
   ]
  },
  {
   "cell_type": "code",
   "execution_count": null,
   "id": "dcf5ba31",
   "metadata": {
    "hidden": true
   },
   "outputs": [],
   "source": [
    "X=train.drop('SalePrice',axis=1)\n",
    "y=train['SalePrice']\n",
    "\n",
    "VR.fit(X,y)"
   ]
  },
  {
   "cell_type": "code",
   "execution_count": null,
   "id": "2323cd23",
   "metadata": {
    "hidden": true
   },
   "outputs": [],
   "source": [
    "pred=VR.predict(test)"
   ]
  },
  {
   "cell_type": "code",
   "execution_count": null,
   "id": "ebdadeee",
   "metadata": {
    "hidden": true
   },
   "outputs": [],
   "source": [
    "pred=np.expm1(pred)"
   ]
  },
  {
   "cell_type": "code",
   "execution_count": null,
   "id": "a348b88b",
   "metadata": {
    "hidden": true
   },
   "outputs": [],
   "source": [
    "sub=pd.read_csv('data/sample_submission.csv')\n",
    "sub['SalePrice']=pred\n",
    "sub.to_csv('./submission/VR_1.csv',index=False)"
   ]
  },
  {
   "cell_type": "markdown",
   "id": "00fd0a1f",
   "metadata": {
    "heading_collapsed": true
   },
   "source": [
    "# features are preprocessed by onehot"
   ]
  },
  {
   "cell_type": "code",
   "execution_count": null,
   "id": "2b64fecc",
   "metadata": {
    "hidden": true
   },
   "outputs": [],
   "source": [
    "train=pd.read_csv('./data/preprocess/train_0910.csv')\n",
    "test=pd.read_csv('./data/preprocess/test_0910.csv')"
   ]
  },
  {
   "cell_type": "code",
   "execution_count": null,
   "id": "b60fed81",
   "metadata": {
    "hidden": true
   },
   "outputs": [],
   "source": [
    "train_set, test_set = train_test_split(train,\n",
    "                                       test_size = 0.3,\n",
    "                                       random_state = 2045)\n",
    "\n",
    "train_set.shape, test_set.shape"
   ]
  },
  {
   "cell_type": "code",
   "execution_count": null,
   "id": "034ce3e3",
   "metadata": {
    "hidden": true
   },
   "outputs": [],
   "source": [
    "X=train_set.drop('SalePrice',axis=1)\n",
    "y=train_set['SalePrice']\n",
    "\n",
    "VR.fit(X,y)"
   ]
  },
  {
   "cell_type": "code",
   "execution_count": null,
   "id": "ac59260f",
   "metadata": {
    "hidden": true
   },
   "outputs": [],
   "source": [
    "y_hat_2=VR.predict(test_set.drop(columns=['SalePrice']))\n",
    "rmsle(np.expm1(test_set['SalePrice']),np.expm1(y_hat_2))"
   ]
  },
  {
   "cell_type": "code",
   "execution_count": null,
   "id": "de11216e",
   "metadata": {
    "hidden": true
   },
   "outputs": [],
   "source": [
    "X=train.drop('SalePrice',axis=1)\n",
    "y=train['SalePrice']\n",
    "\n",
    "VR.fit(X,y)"
   ]
  },
  {
   "cell_type": "code",
   "execution_count": null,
   "id": "75240b98",
   "metadata": {
    "hidden": true
   },
   "outputs": [],
   "source": [
    "pred=VR.predict(test)\n",
    "pred=np.expm1(pred)"
   ]
  },
  {
   "cell_type": "code",
   "execution_count": null,
   "id": "c60aa054",
   "metadata": {
    "hidden": true
   },
   "outputs": [],
   "source": [
    "sub=pd.read_csv('data/sample_submission.csv')\n",
    "sub['SalePrice']=pred\n",
    "sub.to_csv('./submission/VR_2.csv',index=False)"
   ]
  },
  {
   "cell_type": "markdown",
   "id": "d8eb93a3",
   "metadata": {},
   "source": [
    "#The End#"
   ]
  }
 ],
 "metadata": {
  "kernelspec": {
   "display_name": "Python 3",
   "language": "python",
   "name": "python3"
  },
  "language_info": {
   "codemirror_mode": {
    "name": "ipython",
    "version": 3
   },
   "file_extension": ".py",
   "mimetype": "text/x-python",
   "name": "python",
   "nbconvert_exporter": "python",
   "pygments_lexer": "ipython3",
   "version": "3.8.8"
  },
  "toc": {
   "base_numbering": 1,
   "nav_menu": {},
   "number_sections": true,
   "sideBar": true,
   "skip_h1_title": false,
   "title_cell": "Table of Contents",
   "title_sidebar": "Contents",
   "toc_cell": false,
   "toc_position": {},
   "toc_section_display": true,
   "toc_window_display": false
  }
 },
 "nbformat": 4,
 "nbformat_minor": 5
}
