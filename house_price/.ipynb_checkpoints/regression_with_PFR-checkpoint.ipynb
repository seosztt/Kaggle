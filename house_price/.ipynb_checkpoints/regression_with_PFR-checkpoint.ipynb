{
 "cells": [
  {
   "cell_type": "markdown",
   "id": "6d8029bb",
   "metadata": {},
   "source": [
    "# Read"
   ]
  },
  {
   "cell_type": "code",
   "execution_count": null,
   "id": "497c5ba4",
   "metadata": {},
   "outputs": [],
   "source": [
    "import pandas as pd\n",
    "\n",
    "train=pd.read_csv('./data/preprocess/train_0918.csv')\n",
    "test=pd.read_csv('./data/preprocess/test_0918.csv')"
   ]
  },
  {
   "cell_type": "code",
   "execution_count": null,
   "id": "a36c8f25",
   "metadata": {},
   "outputs": [],
   "source": [
    "from sklearn.model_selection import train_test_split\n",
    "\n",
    "train_set, test_set = train_test_split(train,\n",
    "                                       test_size = 0.3,\n",
    "                                       random_state = 2045)\n",
    "\n",
    "train_set.shape, test_set.shape"
   ]
  },
  {
   "cell_type": "code",
   "execution_count": null,
   "id": "f6db105a",
   "metadata": {},
   "outputs": [],
   "source": [
    "from sklearn.metrics import mean_squared_error, mean_squared_log_error, r2_score\n",
    "import numpy as np\n",
    "\n",
    "# RMSLE 정의\n",
    "def rmsle(origin, pred):\n",
    "    return np.sqrt(mean_squared_log_error(origin, pred))"
   ]
  },
  {
   "cell_type": "code",
   "execution_count": null,
   "id": "fa754245",
   "metadata": {},
   "outputs": [],
   "source": [
    "'+'.join(list(train.columns))"
   ]
  },
  {
   "cell_type": "code",
   "execution_count": null,
   "id": "d1a02640",
   "metadata": {
    "scrolled": true
   },
   "outputs": [],
   "source": [
    "\"','\".join(list(train.columns))"
   ]
  },
  {
   "cell_type": "markdown",
   "id": "74fd4ec6",
   "metadata": {
    "heading_collapsed": true
   },
   "source": [
    "# Validation"
   ]
  },
  {
   "cell_type": "code",
   "execution_count": null,
   "id": "10d20745",
   "metadata": {
    "hidden": true
   },
   "outputs": [],
   "source": [
    "import statsmodels.formula.api as smf\n",
    "\n",
    "Model_1 = smf.ols(formula = 'SalePrice ~ MSSubClass+MSZoning+LotArea+Street+Alley+LotShape+LandContour+LotConfig+LandSlope+Neighborhood+Condition1+BldgType+HouseStyle+OverallQual+OverallCond+RoofStyle+MasVnrType+MasVnrArea+ExterQual+ExterCond+Foundation+BsmtQual+BsmtCond+BsmtExposure+TotalBsmtSF+HeatingQC+CentralAir+Electrical+GrLivArea+BsmtFullBath+BsmtHalfBath+FullBath+HalfBath+BedroomAbvGr+KitchenAbvGr+KitchenQual+TotRmsAbvGrd+Functional+Fireplaces+FireplaceQu+GarageType+GarageFinish+GarageCars+GarageArea+GarageQual+GarageCond+PavedDrive+WoodDeckSF+OpenPorchSF+EnclosedPorch+SsnPorch+ScreenPorch+Fence+MoSold+SaleType+SaleCondition+YearOld',\n",
    "                  data = train_set).fit()\n",
    "y_hat_1 = Model_1.predict(test_set[['MSSubClass','MSZoning','LotArea','Street','Alley','LotShape','LandContour','LotConfig','LandSlope','Neighborhood','Condition1','BldgType','HouseStyle','OverallQual','OverallCond','RoofStyle','MasVnrType','MasVnrArea','ExterQual','ExterCond','Foundation','BsmtQual','BsmtCond','BsmtExposure','TotalBsmtSF','HeatingQC','CentralAir','Electrical','GrLivArea','BsmtFullBath','BsmtHalfBath','FullBath','HalfBath','BedroomAbvGr','KitchenAbvGr','KitchenQual','TotRmsAbvGrd','Functional','Fireplaces','FireplaceQu','GarageType','GarageFinish','GarageCars','GarageArea','GarageQual','GarageCond','PavedDrive','WoodDeckSF','OpenPorchSF','EnclosedPorch','SsnPorch','ScreenPorch','Fence','MoSold','SaleType','SaleCondition','YearOld']])\n",
    "rmsle(np.expm1(test_set['SalePrice']),np.expm1(y_hat_1))"
   ]
  },
  {
   "cell_type": "markdown",
   "id": "25c6a408",
   "metadata": {
    "heading_collapsed": true
   },
   "source": [
    "# Submission"
   ]
  },
  {
   "cell_type": "code",
   "execution_count": null,
   "id": "12ee2ec3",
   "metadata": {
    "hidden": true
   },
   "outputs": [],
   "source": [
    "Model = smf.ols(formula = 'SalePrice ~ MSSubClass+MSZoning+LotArea+Street+Alley+LotShape+LandContour+LotConfig+LandSlope+Neighborhood+Condition1+BldgType+HouseStyle+OverallQual+OverallCond+RoofStyle+MasVnrType+MasVnrArea+ExterQual+ExterCond+Foundation+BsmtQual+BsmtCond+BsmtExposure+TotalBsmtSF+HeatingQC+CentralAir+Electrical+GrLivArea+BsmtFullBath+BsmtHalfBath+FullBath+HalfBath+BedroomAbvGr+KitchenAbvGr+KitchenQual+TotRmsAbvGrd+Functional+Fireplaces+FireplaceQu+GarageType+GarageFinish+GarageCars+GarageArea+GarageQual+GarageCond+PavedDrive+WoodDeckSF+OpenPorchSF+EnclosedPorch+SsnPorch+ScreenPorch+Fence+MoSold+SaleType+SaleCondition+YearOld',\n",
    "                  data = train).fit()\n",
    "y_hat = Model.predict(test[['MSSubClass','MSZoning','LotArea','Street','Alley','LotShape','LandContour','LotConfig','LandSlope','Neighborhood','Condition1','BldgType','HouseStyle','OverallQual','OverallCond','RoofStyle','MasVnrType','MasVnrArea','ExterQual','ExterCond','Foundation','BsmtQual','BsmtCond','BsmtExposure','TotalBsmtSF','HeatingQC','CentralAir','Electrical','GrLivArea','BsmtFullBath','BsmtHalfBath','FullBath','HalfBath','BedroomAbvGr','KitchenAbvGr','KitchenQual','TotRmsAbvGrd','Functional','Fireplaces','FireplaceQu','GarageType','GarageFinish','GarageCars','GarageArea','GarageQual','GarageCond','PavedDrive','WoodDeckSF','OpenPorchSF','EnclosedPorch','SsnPorch','ScreenPorch','Fence','MoSold','SaleType','SaleCondition','YearOld']])\n",
    "pred = np.expm1(y_hat)"
   ]
  },
  {
   "cell_type": "code",
   "execution_count": null,
   "id": "6febaeac",
   "metadata": {
    "hidden": true
   },
   "outputs": [],
   "source": [
    "sub=pd.read_csv('data/sample_submission.csv')\n",
    "sub['SalePrice']=pred\n",
    "sub.to_csv('./submission/OLS_2_0918.csv',index=False)"
   ]
  },
  {
   "cell_type": "markdown",
   "id": "db517808",
   "metadata": {},
   "source": [
    "#The End#"
   ]
  }
 ],
 "metadata": {
  "kernelspec": {
   "display_name": "Python 3",
   "language": "python",
   "name": "python3"
  },
  "language_info": {
   "codemirror_mode": {
    "name": "ipython",
    "version": 3
   },
   "file_extension": ".py",
   "mimetype": "text/x-python",
   "name": "python",
   "nbconvert_exporter": "python",
   "pygments_lexer": "ipython3",
   "version": "3.8.8"
  },
  "toc": {
   "base_numbering": 1,
   "nav_menu": {},
   "number_sections": true,
   "sideBar": true,
   "skip_h1_title": false,
   "title_cell": "Table of Contents",
   "title_sidebar": "Contents",
   "toc_cell": false,
   "toc_position": {},
   "toc_section_display": true,
   "toc_window_display": false
  }
 },
 "nbformat": 4,
 "nbformat_minor": 5
}
