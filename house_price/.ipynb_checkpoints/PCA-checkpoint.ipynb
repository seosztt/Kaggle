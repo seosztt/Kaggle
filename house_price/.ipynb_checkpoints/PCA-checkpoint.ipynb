{
 "cells": [
  {
   "cell_type": "markdown",
   "id": "06bcca64",
   "metadata": {},
   "source": [
    "# Read"
   ]
  },
  {
   "cell_type": "code",
   "execution_count": null,
   "id": "6988c9f3",
   "metadata": {},
   "outputs": [],
   "source": [
    "import pandas as pd\n",
    "\n",
    "train=pd.read_csv('./data/preprocess/train_0918.csv')\n",
    "test=pd.read_csv('./data/preprocess/test_0918.csv')"
   ]
  },
  {
   "cell_type": "code",
   "execution_count": null,
   "id": "1b77589c",
   "metadata": {},
   "outputs": [],
   "source": [
    "from sklearn.metrics import mean_squared_error, mean_squared_log_error, r2_score\n",
    "import numpy as np\n",
    "\n",
    "# RMSLE 정의\n",
    "def rmsle(origin, pred):\n",
    "    return np.sqrt(mean_squared_log_error(origin, pred))"
   ]
  },
  {
   "cell_type": "markdown",
   "id": "0d07699b",
   "metadata": {
    "heading_collapsed": true
   },
   "source": [
    "# PCA"
   ]
  },
  {
   "cell_type": "code",
   "execution_count": null,
   "id": "760d4c72",
   "metadata": {
    "hidden": true
   },
   "outputs": [],
   "source": [
    "from sklearn.decomposition import PCA"
   ]
  },
  {
   "cell_type": "code",
   "execution_count": null,
   "id": "1ea1bc53",
   "metadata": {
    "hidden": true
   },
   "outputs": [],
   "source": [
    "train_features=train.drop(['SalePrice'],axis=1)\n",
    "pca=PCA(n_components=10)\n",
    "\n",
    "pca.fit(train_features)\n",
    "train_pca=pca.transform(train_features)\n",
    "\n",
    "train_pca=pd.DataFrame(train_pca)\n",
    "\n",
    "pca.fit(test)\n",
    "test_pca=pca.transform(test)\n",
    "test_pca=pd.DataFrame(test_pca)"
   ]
  },
  {
   "cell_type": "code",
   "execution_count": null,
   "id": "80aae121",
   "metadata": {
    "hidden": true
   },
   "outputs": [],
   "source": [
    "train_pca['SalePrice']=train['SalePrice']"
   ]
  },
  {
   "cell_type": "code",
   "execution_count": null,
   "id": "13e57783",
   "metadata": {
    "hidden": true,
    "scrolled": true
   },
   "outputs": [],
   "source": [
    "train_pca.columns=['PCA_a','PCA_b','PCA_c','PCA_d','PCA_e','PCA_f','PCA_g','PCA_h','PCA_i','PCA_j','SalePrice']\n",
    "test_pca.columns=['PCA_a','PCA_b','PCA_c','PCA_d','PCA_e','PCA_f','PCA_g','PCA_h','PCA_i','PCA_j']"
   ]
  },
  {
   "cell_type": "code",
   "execution_count": null,
   "id": "ca266c70",
   "metadata": {
    "hidden": true,
    "scrolled": false
   },
   "outputs": [],
   "source": [
    "train_pca.head()"
   ]
  },
  {
   "cell_type": "code",
   "execution_count": null,
   "id": "02067b4c",
   "metadata": {
    "hidden": true
   },
   "outputs": [],
   "source": [
    "test_pca.head()"
   ]
  },
  {
   "cell_type": "markdown",
   "id": "4a854c92",
   "metadata": {
    "heading_collapsed": true
   },
   "source": [
    "# OLS"
   ]
  },
  {
   "cell_type": "code",
   "execution_count": null,
   "id": "b6728571",
   "metadata": {
    "hidden": true
   },
   "outputs": [],
   "source": [
    "from sklearn.model_selection import train_test_split\n",
    "\n",
    "train_set, test_set = train_test_split(train_pca,\n",
    "                                       test_size = 0.3,\n",
    "                                       random_state = 2045)\n",
    "\n",
    "train_set.shape, test_set.shape"
   ]
  },
  {
   "cell_type": "code",
   "execution_count": null,
   "id": "48956df3",
   "metadata": {
    "hidden": true,
    "scrolled": true
   },
   "outputs": [],
   "source": [
    "test_set.head()"
   ]
  },
  {
   "cell_type": "code",
   "execution_count": null,
   "id": "2c993a9e",
   "metadata": {
    "hidden": true
   },
   "outputs": [],
   "source": [
    "import statsmodels.formula.api as smf\n",
    "\n",
    "Model_1 = smf.ols(formula = 'SalePrice ~ PCA_a+PCA_b+PCA_c+PCA_d+PCA_e+PCA_f+PCA_g+PCA_h+PCA_i+PCA_j',\n",
    "                  data = train_set).fit()\n",
    "y_hat_1 = Model_1.predict(test_set[['PCA_a','PCA_b','PCA_c','PCA_d','PCA_e','PCA_f','PCA_g','PCA_h','PCA_i','PCA_j']])\n",
    "rmsle(np.expm1(test_set['SalePrice']),np.expm1(y_hat_1))"
   ]
  },
  {
   "cell_type": "markdown",
   "id": "d47b1ded",
   "metadata": {
    "heading_collapsed": true
   },
   "source": [
    "# Submission"
   ]
  },
  {
   "cell_type": "code",
   "execution_count": null,
   "id": "9147fd77",
   "metadata": {
    "hidden": true
   },
   "outputs": [],
   "source": [
    "Model = smf.ols(formula = 'SalePrice ~ PCA_a+PCA_b+PCA_c+PCA_d+PCA_e+PCA_f+PCA_g+PCA_h+PCA_i+PCA_j',\n",
    "                  data = train_pca).fit()\n",
    "y_hat = Model.predict(test_pca[['PCA_a','PCA_b','PCA_c','PCA_d','PCA_e','PCA_f','PCA_g','PCA_h','PCA_i','PCA_j']])\n",
    "pred = np.expm1(y_hat)"
   ]
  },
  {
   "cell_type": "code",
   "execution_count": null,
   "id": "8f003bcc",
   "metadata": {
    "hidden": true
   },
   "outputs": [],
   "source": [
    "sub=pd.read_csv('data/sample_submission.csv')\n",
    "sub['SalePrice']=pred\n",
    "sub.to_csv('./submission/OLS_with_PCA_1.csv',index=False)"
   ]
  },
  {
   "cell_type": "markdown",
   "id": "e07c6d36",
   "metadata": {},
   "source": [
    "#The End#"
   ]
  }
 ],
 "metadata": {
  "kernelspec": {
   "display_name": "Python 3",
   "language": "python",
   "name": "python3"
  },
  "language_info": {
   "codemirror_mode": {
    "name": "ipython",
    "version": 3
   },
   "file_extension": ".py",
   "mimetype": "text/x-python",
   "name": "python",
   "nbconvert_exporter": "python",
   "pygments_lexer": "ipython3",
   "version": "3.8.8"
  },
  "toc": {
   "base_numbering": 1,
   "nav_menu": {},
   "number_sections": true,
   "sideBar": true,
   "skip_h1_title": false,
   "title_cell": "Table of Contents",
   "title_sidebar": "Contents",
   "toc_cell": false,
   "toc_position": {},
   "toc_section_display": true,
   "toc_window_display": false
  }
 },
 "nbformat": 4,
 "nbformat_minor": 5
}
