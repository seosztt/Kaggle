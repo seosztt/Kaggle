{
 "cells": [
  {
   "cell_type": "code",
   "execution_count": null,
   "id": "94797995",
   "metadata": {},
   "outputs": [],
   "source": [
    "import pandas as pd\n",
    "train=pd.read_csv('./data/preprocess/train_0926.csv')\n",
    "test=pd.read_csv('./data/preprocess/test_0926.csv')"
   ]
  },
  {
   "cell_type": "code",
   "execution_count": null,
   "id": "636de1fa",
   "metadata": {},
   "outputs": [],
   "source": [
    "from sklearn.linear_model import ElasticNet\n",
    "import numpy as np\n",
    "\n",
    "EN = ElasticNet(normalize = True, \n",
    "                alpha = 0.0001,\n",
    "                l1_ratio = 0.7)\n",
    "\n",
    "X=train.drop(columns=['SalePrice'])\n",
    "y=train['SalePrice']\n",
    "\n",
    "EN.fit(X, y)"
   ]
  },
  {
   "cell_type": "code",
   "execution_count": null,
   "id": "99ea6014",
   "metadata": {
    "scrolled": true
   },
   "outputs": [],
   "source": [
    "from sklearn.model_selection import cross_val_score\n",
    "\n",
    "np.sqrt(-cross_val_score(EN,train,y,scoring='neg_mean_squared_log_error', cv=5))"
   ]
  },
  {
   "cell_type": "code",
   "execution_count": null,
   "id": "d0fa0150",
   "metadata": {},
   "outputs": [],
   "source": [
    "import sklearn\n",
    "sklearn.metrics.SCORERS.keys()"
   ]
  }
 ],
 "metadata": {
  "kernelspec": {
   "display_name": "Python 3",
   "language": "python",
   "name": "python3"
  },
  "language_info": {
   "codemirror_mode": {
    "name": "ipython",
    "version": 3
   },
   "file_extension": ".py",
   "mimetype": "text/x-python",
   "name": "python",
   "nbconvert_exporter": "python",
   "pygments_lexer": "ipython3",
   "version": "3.8.8"
  },
  "toc": {
   "base_numbering": 1,
   "nav_menu": {},
   "number_sections": true,
   "sideBar": true,
   "skip_h1_title": false,
   "title_cell": "Table of Contents",
   "title_sidebar": "Contents",
   "toc_cell": false,
   "toc_position": {},
   "toc_section_display": true,
   "toc_window_display": false
  }
 },
 "nbformat": 4,
 "nbformat_minor": 5
}
