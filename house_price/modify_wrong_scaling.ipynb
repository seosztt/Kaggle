{
 "cells": [
  {
   "cell_type": "code",
   "execution_count": null,
   "id": "39ca221e",
   "metadata": {},
   "outputs": [],
   "source": [
    "import numpy as np\n",
    "import pandas as pd\n",
    "import matplotlib.pyplot as plt\n",
    "import seaborn as sns\n",
    "import statsmodels.api as sm;\n",
    "import sklearn\n",
    "from statsmodels.stats.outliers_influence import variance_inflation_factor"
   ]
  },
  {
   "cell_type": "code",
   "execution_count": null,
   "id": "602368df",
   "metadata": {},
   "outputs": [],
   "source": [
    "train =  pd.read_csv('data/EDA/train_EDA_0910.csv')\n",
    "test =  pd.read_csv('data/EDA/test_EDA_0910.csv')\n",
    "feat_class = pd.read_csv('data/EDA/feat_class_0918.csv')"
   ]
  },
  {
   "cell_type": "code",
   "execution_count": null,
   "id": "c76b7342",
   "metadata": {},
   "outputs": [],
   "source": [
    "feature_raw = feat_class['raw'].dropna().values.tolist()\n",
    "feature_dis = feat_class['dis'].dropna().values.tolist()\n",
    "feature_map = feat_class['map'].dropna().values.tolist()\n",
    "feature_onehot = feat_class['onehot'].dropna().values.tolist()\n",
    "feature_extra = feat_class['extra'].dropna().values.tolist()\n",
    "feature_del = feat_class['del'].dropna().values.tolist()"
   ]
  },
  {
   "cell_type": "markdown",
   "id": "e15c1376",
   "metadata": {},
   "source": [
    "# delete"
   ]
  },
  {
   "cell_type": "code",
   "execution_count": null,
   "id": "6238b3a8",
   "metadata": {},
   "outputs": [],
   "source": [
    "feature_del"
   ]
  },
  {
   "cell_type": "code",
   "execution_count": null,
   "id": "c9e26396",
   "metadata": {},
   "outputs": [],
   "source": [
    "train = train.drop(columns = feature_del)\n",
    "test = test.drop(columns = feature_del)"
   ]
  },
  {
   "cell_type": "markdown",
   "id": "07a36138",
   "metadata": {},
   "source": [
    "# Extra"
   ]
  },
  {
   "cell_type": "code",
   "execution_count": null,
   "id": "ad0ea851",
   "metadata": {},
   "outputs": [],
   "source": [
    "feature_extra"
   ]
  },
  {
   "cell_type": "code",
   "execution_count": null,
   "id": "cc73066c",
   "metadata": {},
   "outputs": [],
   "source": [
    "train.groupby('Neighborhood').mean().sort_values(by='SalePrice')['SalePrice']"
   ]
  },
  {
   "cell_type": "code",
   "execution_count": null,
   "id": "bbc5596c",
   "metadata": {},
   "outputs": [],
   "source": [
    "map_Nei={'MeadowV' :0,\n",
    "'IDOTRR'  :1,\n",
    "'BrDale'  :2,\n",
    "'BrkSide' :3,\n",
    "'Edwards' :4,\n",
    "'OldTown' :5,\n",
    "'Sawyer'  :6,\n",
    "'Blueste' :7,\n",
    "'SWISU'   :8,\n",
    "'NPkVill' :9,\n",
    "'NAmes'   :10,\n",
    "'Mitchel' :11,\n",
    "'SawyerW' :12,\n",
    "'NWAmes'  :13,\n",
    "'Gilbert' :14,\n",
    "'Blmngtn' :15,\n",
    "'CollgCr' :16,\n",
    "'Crawfor' :17,\n",
    "'ClearCr' :18,\n",
    "'Somerst' :19,\n",
    "'Veenker' :20,\n",
    "'Timber'  :21,\n",
    "'StoneBr' :22,\n",
    "'NridgHt' :23,\n",
    "'NoRidge' :24}"
   ]
  },
  {
   "cell_type": "code",
   "execution_count": null,
   "id": "9923e39f",
   "metadata": {},
   "outputs": [],
   "source": [
    "train['Neighborhood']=train['Neighborhood'].map(map_Nei)\n",
    "test['Neighborhood']=test['Neighborhood'].map(map_Nei)"
   ]
  },
  {
   "cell_type": "code",
   "execution_count": null,
   "id": "d32de798",
   "metadata": {},
   "outputs": [],
   "source": [
    "train['YearOld'] = (train['YearBuilt'] + train['YearRemodAdd'] )/2\n",
    "train['YearOld'] -= train['YrSold']\n",
    "test['YearOld'] = (test['YearBuilt'] + test['YearRemodAdd'] )/2\n",
    "test['YearOld'] -= test['YrSold']"
   ]
  },
  {
   "cell_type": "code",
   "execution_count": null,
   "id": "c504f6ae",
   "metadata": {},
   "outputs": [],
   "source": [
    "#Extra에서 따로 계산하고 지워줘야 할 컬럼 추가\n",
    "train = train.drop(columns = ['YearBuilt', 'YearRemodAdd',\n",
    "                    'Exterior1st', 'Exterior2nd', 'YrSold', 'GarageYrBlt'])\n",
    "test = test.drop(columns = ['YearBuilt', 'YearRemodAdd',\n",
    "                    'Exterior1st', 'Exterior2nd', 'YrSold', 'GarageYrBlt'])"
   ]
  },
  {
   "cell_type": "markdown",
   "id": "a9a03cc2",
   "metadata": {},
   "source": [
    "# Label Encoder"
   ]
  },
  {
   "cell_type": "code",
   "execution_count": null,
   "id": "a9b3d327",
   "metadata": {
    "scrolled": true
   },
   "outputs": [],
   "source": [
    "feature_onehot"
   ]
  },
  {
   "cell_type": "code",
   "execution_count": null,
   "id": "e4c68d3f",
   "metadata": {},
   "outputs": [],
   "source": [
    "feature_onehot.remove('MSSubClass')"
   ]
  },
  {
   "cell_type": "code",
   "execution_count": null,
   "id": "1ea790c0",
   "metadata": {
    "scrolled": true
   },
   "outputs": [],
   "source": [
    "from sklearn.preprocessing import LabelEncoder\n",
    "LE=LabelEncoder()\n",
    "for i in feature_onehot:\n",
    "    temp1=LE.fit_transform(train[i])\n",
    "    train[i]=temp1\n",
    "    temp2=LE.transform(test[i])\n",
    "    test[i]=temp2"
   ]
  },
  {
   "cell_type": "markdown",
   "id": "3e546a2f",
   "metadata": {},
   "source": [
    "##  MSSubClass"
   ]
  },
  {
   "cell_type": "code",
   "execution_count": null,
   "id": "f03f98a3",
   "metadata": {
    "scrolled": true
   },
   "outputs": [],
   "source": [
    "train['MSSubClass']"
   ]
  },
  {
   "cell_type": "code",
   "execution_count": null,
   "id": "6b092a29",
   "metadata": {},
   "outputs": [],
   "source": [
    "# MinMaxScale을 바로 하는 걸로\n",
    "MMS_list=['MSSubClass']"
   ]
  },
  {
   "cell_type": "markdown",
   "id": "139eb0a6",
   "metadata": {},
   "source": [
    "# rename feature"
   ]
  },
  {
   "cell_type": "code",
   "execution_count": null,
   "id": "05b68519",
   "metadata": {},
   "outputs": [],
   "source": [
    "# 모델링 할 때 컬럼명이 숫자로 시작해서 오류가 생겼음\n",
    "train.rename(columns = {'3SsnPorch' : 'SsnPorch'}, inplace = True)\n",
    "test.rename(columns = {'3SsnPorch' : 'SsnPorch'}, inplace = True)"
   ]
  },
  {
   "cell_type": "code",
   "execution_count": null,
   "id": "f35eb5e9",
   "metadata": {
    "scrolled": true
   },
   "outputs": [],
   "source": [
    "train['SsnPorch'].value_counts()"
   ]
  },
  {
   "cell_type": "markdown",
   "id": "aa9f4867",
   "metadata": {},
   "source": [
    "# Scaling"
   ]
  },
  {
   "cell_type": "code",
   "execution_count": null,
   "id": "bcdc4a7b",
   "metadata": {},
   "outputs": [],
   "source": [
    "MMS_list.extend(feature_raw)\n",
    "MMS_list.extend(feature_dis)\n",
    "MMS_list.extend(feature_map)\n",
    "MMS_list.extend(feature_onehot)"
   ]
  },
  {
   "cell_type": "code",
   "execution_count": null,
   "id": "6b81f0af",
   "metadata": {},
   "outputs": [],
   "source": [
    "MMS_list"
   ]
  },
  {
   "cell_type": "code",
   "execution_count": null,
   "id": "2a088b28",
   "metadata": {},
   "outputs": [],
   "source": [
    "from sklearn.preprocessing import MinMaxScaler\n",
    "MMS=MinMaxScaler()\n",
    "train[MMS_list]=MMS.fit_transform(train[MMS_list])\n",
    "test[MMS_list]=MMS.transform(test[MMS_list])"
   ]
  },
  {
   "cell_type": "code",
   "execution_count": null,
   "id": "eb55ff4e",
   "metadata": {},
   "outputs": [],
   "source": [
    "train['SalePrice'] = np.log1p(train['SalePrice'])"
   ]
  },
  {
   "cell_type": "code",
   "execution_count": null,
   "id": "1f2d9bb6",
   "metadata": {},
   "outputs": [],
   "source": [
    "train"
   ]
  },
  {
   "cell_type": "markdown",
   "id": "2c14d077",
   "metadata": {},
   "source": [
    "# Save"
   ]
  },
  {
   "cell_type": "code",
   "execution_count": null,
   "id": "a392e1bb",
   "metadata": {},
   "outputs": [],
   "source": [
    "train.to_csv('data/preprocess/train_0926.csv', index = False)\n",
    "test.to_csv('data/preprocess/test_0926.csv', index = False)"
   ]
  },
  {
   "cell_type": "markdown",
   "id": "cf1f79ca",
   "metadata": {},
   "source": [
    "#The End#"
   ]
  }
 ],
 "metadata": {
  "kernelspec": {
   "display_name": "Python 3",
   "language": "python",
   "name": "python3"
  },
  "language_info": {
   "codemirror_mode": {
    "name": "ipython",
    "version": 3
   },
   "file_extension": ".py",
   "mimetype": "text/x-python",
   "name": "python",
   "nbconvert_exporter": "python",
   "pygments_lexer": "ipython3",
   "version": "3.8.8"
  },
  "toc": {
   "base_numbering": 1,
   "nav_menu": {},
   "number_sections": true,
   "sideBar": true,
   "skip_h1_title": false,
   "title_cell": "Table of Contents",
   "title_sidebar": "Contents",
   "toc_cell": false,
   "toc_position": {},
   "toc_section_display": true,
   "toc_window_display": false
  }
 },
 "nbformat": 4,
 "nbformat_minor": 5
}
