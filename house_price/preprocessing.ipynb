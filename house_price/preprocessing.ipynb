{
 "cells": [
  {
   "cell_type": "markdown",
   "metadata": {},
   "source": [
    "# Preprocessing"
   ]
  },
  {
   "cell_type": "markdown",
   "metadata": {},
   "source": [
    "앞에서 분류한 것을 바탕으로, one-hot / scaling 등 실제 계산 진행"
   ]
  },
  {
   "cell_type": "markdown",
   "metadata": {},
   "source": [
    "## 불러오기"
   ]
  },
  {
   "cell_type": "code",
   "execution_count": null,
   "metadata": {
    "ExecuteTime": {
     "end_time": "2021-09-10T07:41:31.189870Z",
     "start_time": "2021-09-10T07:41:31.172906Z"
    }
   },
   "outputs": [],
   "source": [
    "import numpy as np\n",
    "import pandas as pd\n",
    "import matplotlib.pyplot as plt\n",
    "import seaborn as sns\n",
    "import statsmodels.api as sm;\n",
    "import sklearn\n",
    "from statsmodels.stats.outliers_influence import variance_inflation_factor"
   ]
  },
  {
   "cell_type": "code",
   "execution_count": null,
   "metadata": {
    "ExecuteTime": {
     "end_time": "2021-09-10T07:41:31.297559Z",
     "start_time": "2021-09-10T07:41:31.193828Z"
    }
   },
   "outputs": [],
   "source": [
    "train =  pd.read_csv('data/EDA/train_EDA_0910.csv')\n",
    "test =  pd.read_csv('data/EDA/test_EDA_0910.csv')\n",
    "feat_class = pd.read_csv('data/EDA/feat_class_0910.csv')"
   ]
  },
  {
   "cell_type": "code",
   "execution_count": null,
   "metadata": {
    "ExecuteTime": {
     "end_time": "2021-09-10T07:41:31.319494Z",
     "start_time": "2021-09-10T07:41:31.303540Z"
    }
   },
   "outputs": [],
   "source": [
    "feat_raw = feat_class['raw'].dropna().values.tolist()\n",
    "feat_dis = feat_class['dis'].dropna().values.tolist()\n",
    "feat_map = feat_class['map'].dropna().values.tolist()\n",
    "feat_onehot = feat_class['onehot'].dropna().values.tolist()\n",
    "feat_extra = feat_class['extra'].dropna().values.tolist()\n",
    "feature_del = feat_class['del'].dropna().values.tolist()"
   ]
  },
  {
   "cell_type": "markdown",
   "metadata": {},
   "source": [
    "# 분류별"
   ]
  },
  {
   "cell_type": "markdown",
   "metadata": {},
   "source": [
    "- 분류별 feature들을 불러와서 각 분류에 맞게 핸들링"
   ]
  },
  {
   "cell_type": "markdown",
   "metadata": {},
   "source": [
    "### Raw"
   ]
  },
  {
   "cell_type": "code",
   "execution_count": null,
   "metadata": {
    "ExecuteTime": {
     "end_time": "2021-09-10T07:41:31.332460Z",
     "start_time": "2021-09-10T07:41:31.322487Z"
    }
   },
   "outputs": [],
   "source": [
    "feat_raw"
   ]
  },
  {
   "cell_type": "markdown",
   "metadata": {},
   "source": [
    "### discrete"
   ]
  },
  {
   "cell_type": "code",
   "execution_count": null,
   "metadata": {
    "ExecuteTime": {
     "end_time": "2021-09-10T07:41:31.344444Z",
     "start_time": "2021-09-10T07:41:31.335450Z"
    }
   },
   "outputs": [],
   "source": [
    "feat_dis"
   ]
  },
  {
   "cell_type": "markdown",
   "metadata": {},
   "source": [
    "### map"
   ]
  },
  {
   "cell_type": "code",
   "execution_count": null,
   "metadata": {
    "ExecuteTime": {
     "end_time": "2021-09-10T07:41:31.357393Z",
     "start_time": "2021-09-10T07:41:31.351410Z"
    }
   },
   "outputs": [],
   "source": [
    "feat_map"
   ]
  },
  {
   "cell_type": "markdown",
   "metadata": {},
   "source": [
    "### onehot"
   ]
  },
  {
   "cell_type": "code",
   "execution_count": null,
   "metadata": {
    "ExecuteTime": {
     "end_time": "2021-09-10T07:41:31.376345Z",
     "start_time": "2021-09-10T07:41:31.369360Z"
    }
   },
   "outputs": [],
   "source": [
    "feat_onehot"
   ]
  },
  {
   "cell_type": "code",
   "execution_count": null,
   "metadata": {
    "ExecuteTime": {
     "end_time": "2021-09-10T07:41:31.387313Z",
     "start_time": "2021-09-10T07:41:31.382332Z"
    }
   },
   "outputs": [],
   "source": [
    "# feature_map도 전부 onehot으로.\n",
    "#feat_onehot.extend(feat_map)"
   ]
  },
  {
   "cell_type": "code",
   "execution_count": null,
   "metadata": {
    "ExecuteTime": {
     "end_time": "2021-09-10T07:41:31.499013Z",
     "start_time": "2021-09-10T07:41:31.391303Z"
    }
   },
   "outputs": [],
   "source": [
    "train = pd.get_dummies(train, columns = feat_onehot)\n",
    "test = pd.get_dummies(test, columns = feat_onehot)"
   ]
  },
  {
   "cell_type": "code",
   "execution_count": null,
   "metadata": {},
   "outputs": [],
   "source": []
  },
  {
   "cell_type": "markdown",
   "metadata": {},
   "source": [
    "### extra"
   ]
  },
  {
   "cell_type": "code",
   "execution_count": null,
   "metadata": {
    "ExecuteTime": {
     "end_time": "2021-09-10T07:41:31.511981Z",
     "start_time": "2021-09-10T07:41:31.503002Z"
    }
   },
   "outputs": [],
   "source": [
    "feat_extra"
   ]
  },
  {
   "cell_type": "markdown",
   "metadata": {},
   "source": [
    "neighbor, MoSold는 일단 원핫."
   ]
  },
  {
   "cell_type": "code",
   "execution_count": null,
   "metadata": {
    "ExecuteTime": {
     "end_time": "2021-09-10T07:41:31.561847Z",
     "start_time": "2021-09-10T07:41:31.518961Z"
    }
   },
   "outputs": [],
   "source": [
    "train = pd.get_dummies(train, columns = ['Neighborhood', 'MoSold'])\n",
    "test = pd.get_dummies(test, columns = ['Neighborhood', 'MoSold'])"
   ]
  },
  {
   "cell_type": "markdown",
   "metadata": {},
   "source": [
    "- 년도는 절대적인 년도보다 지어진지 얼마나 된 건물을 샀는지가 더 중요해보여서 지어진 년도 - 팔린 년도 로 계산\n",
    "- 차고가 지어진 년도는 모르겟어서 일단 제거.."
   ]
  },
  {
   "cell_type": "code",
   "execution_count": null,
   "metadata": {
    "ExecuteTime": {
     "end_time": "2021-09-10T07:41:31.592765Z",
     "start_time": "2021-09-10T07:41:31.564837Z"
    }
   },
   "outputs": [],
   "source": [
    "train['YearOld'] = (train['YearBuilt'] + train['YearRemodAdd'] )/2\n",
    "train['YearOld'] -= train['YrSold']\n",
    "test['YearOld'] = (test['YearBuilt'] + test['YearRemodAdd'] )/2\n",
    "test['YearOld'] -= test['YrSold']"
   ]
  },
  {
   "cell_type": "code",
   "execution_count": null,
   "metadata": {
    "ExecuteTime": {
     "end_time": "2021-09-10T07:41:31.601739Z",
     "start_time": "2021-09-10T07:41:31.595754Z"
    }
   },
   "outputs": [],
   "source": [
    "#Extra에서 따로 계산하고 지워줘야 할 컬럼 추가\n",
    "feature_del.extend(['YearBuilt', 'YearRemodAdd',\n",
    "                    'Exterior1st', 'Exterior2nd', 'YrSold', 'GarageYrBlt'])"
   ]
  },
  {
   "cell_type": "markdown",
   "metadata": {},
   "source": [
    "## Delete"
   ]
  },
  {
   "cell_type": "code",
   "execution_count": null,
   "metadata": {
    "ExecuteTime": {
     "end_time": "2021-09-10T07:41:31.612709Z",
     "start_time": "2021-09-10T07:41:31.604731Z"
    }
   },
   "outputs": [],
   "source": [
    "feature_del"
   ]
  },
  {
   "cell_type": "code",
   "execution_count": null,
   "metadata": {
    "ExecuteTime": {
     "end_time": "2021-09-10T07:41:31.636645Z",
     "start_time": "2021-09-10T07:41:31.618695Z"
    }
   },
   "outputs": [],
   "source": [
    "train = train.drop(columns = feature_del)\n",
    "test = test.drop(columns = feature_del)"
   ]
  },
  {
   "cell_type": "markdown",
   "metadata": {},
   "source": [
    "One-hot 과정에서 train / test 둘 중 하나에만 존재하는 컬럼 제거"
   ]
  },
  {
   "cell_type": "code",
   "execution_count": null,
   "metadata": {
    "ExecuteTime": {
     "end_time": "2021-09-10T07:41:31.653601Z",
     "start_time": "2021-09-10T07:41:31.640640Z"
    }
   },
   "outputs": [],
   "source": [
    "train_comp = list(set(train) - set(test)-{'SalePrice'})\n",
    "test_comp = list(set(test)- set(train))\n",
    "train = train.drop(columns = train_comp)\n",
    "test = test.drop(columns = test_comp)"
   ]
  },
  {
   "cell_type": "markdown",
   "metadata": {},
   "source": [
    "개수가 20개 이하인 one-hot column들 제거함."
   ]
  },
  {
   "cell_type": "code",
   "execution_count": null,
   "metadata": {
    "ExecuteTime": {
     "end_time": "2021-09-10T07:41:31.773283Z",
     "start_time": "2021-09-10T07:41:31.656591Z"
    }
   },
   "outputs": [],
   "source": [
    "small_samples = []\n",
    "for feat in train.columns.to_list():\n",
    "    if abs(train[feat]).sum() < 20:\n",
    "        small_samples.append(feat)\n",
    "len(small_samples)"
   ]
  },
  {
   "cell_type": "code",
   "execution_count": null,
   "metadata": {
    "ExecuteTime": {
     "end_time": "2021-09-10T07:41:31.790234Z",
     "start_time": "2021-09-10T07:41:31.776275Z"
    }
   },
   "outputs": [],
   "source": [
    "train = train.drop(columns = small_samples)\n",
    "test = test.drop(columns = small_samples)"
   ]
  },
  {
   "cell_type": "markdown",
   "metadata": {},
   "source": [
    "## Min-Max Scaling"
   ]
  },
  {
   "cell_type": "code",
   "execution_count": null,
   "metadata": {
    "ExecuteTime": {
     "end_time": "2021-09-10T07:41:32.666274Z",
     "start_time": "2021-09-10T07:41:31.792229Z"
    }
   },
   "outputs": [],
   "source": [
    "from sklearn.preprocessing import MinMaxScaler\n",
    "minmax_scaler = MinMaxScaler()"
   ]
  },
  {
   "cell_type": "code",
   "execution_count": null,
   "metadata": {
    "ExecuteTime": {
     "end_time": "2021-09-10T07:41:32.679145Z",
     "start_time": "2021-09-10T07:41:32.669174Z"
    }
   },
   "outputs": [],
   "source": [
    "train_X = train.drop('SalePrice', axis=1)\n",
    "train_y = train['SalePrice']"
   ]
  },
  {
   "cell_type": "code",
   "execution_count": null,
   "metadata": {
    "ExecuteTime": {
     "end_time": "2021-09-10T07:41:32.720074Z",
     "start_time": "2021-09-10T07:41:32.683134Z"
    }
   },
   "outputs": [],
   "source": [
    "X_scale = minmax_scaler.fit_transform(train_X)\n",
    "train = pd.DataFrame(X_scale, columns=train_X.columns, index=list(train_X.index.values))\n",
    "test_scale = minmax_scaler.fit_transform(test)\n",
    "test = pd.DataFrame(test_scale, columns=test.columns, index=list(test.index.values))"
   ]
  },
  {
   "cell_type": "code",
   "execution_count": null,
   "metadata": {
    "ExecuteTime": {
     "end_time": "2021-09-10T07:41:32.728022Z",
     "start_time": "2021-09-10T07:41:32.722042Z"
    }
   },
   "outputs": [],
   "source": [
    "train_y = np.log1p(train_y)"
   ]
  },
  {
   "cell_type": "code",
   "execution_count": null,
   "metadata": {
    "ExecuteTime": {
     "end_time": "2021-09-10T07:41:32.790880Z",
     "start_time": "2021-09-10T07:41:32.733036Z"
    }
   },
   "outputs": [],
   "source": [
    "train['SalePrice'] = train_y\n",
    "train"
   ]
  },
  {
   "cell_type": "code",
   "execution_count": null,
   "metadata": {
    "ExecuteTime": {
     "end_time": "2021-09-10T07:41:33.408174Z",
     "start_time": "2021-09-10T07:41:32.794842Z"
    }
   },
   "outputs": [],
   "source": [
    "train.to_csv('data/preprocess/train_0910.csv', index = False)\n",
    "test.to_csv('data/preprocess/test_0910.csv', index = False)"
   ]
  },
  {
   "cell_type": "code",
   "execution_count": null,
   "metadata": {},
   "outputs": [],
   "source": []
  }
 ],
 "metadata": {
  "kernelspec": {
   "display_name": "Python 3",
   "language": "python",
   "name": "python3"
  },
  "language_info": {
   "codemirror_mode": {
    "name": "ipython",
    "version": 3
   },
   "file_extension": ".py",
   "mimetype": "text/x-python",
   "name": "python",
   "nbconvert_exporter": "python",
   "pygments_lexer": "ipython3",
   "version": "3.8.8"
  },
  "latex_envs": {
   "LaTeX_envs_menu_present": true,
   "autoclose": false,
   "autocomplete": true,
   "bibliofile": "biblio.bib",
   "cite_by": "apalike",
   "current_citInitial": 1,
   "eqLabelWithNumbers": true,
   "eqNumInitial": 1,
   "hotkeys": {
    "equation": "Ctrl-E",
    "itemize": "Ctrl-I"
   },
   "labels_anchors": false,
   "latex_user_defs": false,
   "report_style_numbering": false,
   "user_envs_cfg": false
  },
  "toc": {
   "base_numbering": 1,
   "nav_menu": {},
   "number_sections": true,
   "sideBar": true,
   "skip_h1_title": false,
   "title_cell": "Table of Contents",
   "title_sidebar": "Contents",
   "toc_cell": false,
   "toc_position": {},
   "toc_section_display": true,
   "toc_window_display": false
  },
  "varInspector": {
   "cols": {
    "lenName": 16,
    "lenType": 16,
    "lenVar": 40
   },
   "kernels_config": {
    "python": {
     "delete_cmd_postfix": "",
     "delete_cmd_prefix": "del ",
     "library": "var_list.py",
     "varRefreshCmd": "print(var_dic_list())"
    },
    "r": {
     "delete_cmd_postfix": ") ",
     "delete_cmd_prefix": "rm(",
     "library": "var_list.r",
     "varRefreshCmd": "cat(var_dic_list()) "
    }
   },
   "types_to_exclude": [
    "module",
    "function",
    "builtin_function_or_method",
    "instance",
    "_Feature"
   ],
   "window_display": false
  }
 },
 "nbformat": 4,
 "nbformat_minor": 2
}
