{
 "cells": [
  {
   "cell_type": "code",
   "execution_count": null,
   "id": "2d64dca8",
   "metadata": {},
   "outputs": [],
   "source": [
    "import numpy as np\n",
    "import pandas as pd\n",
    "import matplotlib.pyplot as plt\n",
    "import seaborn as sns\n",
    "import statsmodels.api as sm;\n",
    "import sklearn\n",
    "from statsmodels.stats.outliers_influence import variance_inflation_factor"
   ]
  },
  {
   "cell_type": "code",
   "execution_count": null,
   "id": "9fa6627e",
   "metadata": {},
   "outputs": [],
   "source": [
    "train =  pd.read_csv('data/EDA/train_EDA_0910.csv')\n",
    "test =  pd.read_csv('data/EDA/test_EDA_0910.csv')\n",
    "feat_class = pd.read_csv('data/EDA/feat_class_0910.csv')"
   ]
  },
  {
   "cell_type": "code",
   "execution_count": null,
   "id": "1ddf3dfb",
   "metadata": {},
   "outputs": [],
   "source": [
    "feature_raw = feat_class['raw'].dropna().values.tolist()\n",
    "feature_dis = feat_class['dis'].dropna().values.tolist()\n",
    "feature_map = feat_class['map'].dropna().values.tolist()\n",
    "feature_onehot = feat_class['onehot'].dropna().values.tolist()\n",
    "feature_extra = feat_class['extra'].dropna().values.tolist()\n",
    "feature_del = feat_class['del'].dropna().values.tolist()"
   ]
  },
  {
   "cell_type": "markdown",
   "id": "44d4fa12",
   "metadata": {},
   "source": [
    "# Extra"
   ]
  },
  {
   "cell_type": "code",
   "execution_count": null,
   "id": "0194a85f",
   "metadata": {},
   "outputs": [],
   "source": [
    "feature_extra"
   ]
  },
  {
   "cell_type": "code",
   "execution_count": null,
   "id": "ff1955a4",
   "metadata": {},
   "outputs": [],
   "source": [
    "train['MoSold']"
   ]
  },
  {
   "cell_type": "code",
   "execution_count": null,
   "id": "031e702b",
   "metadata": {},
   "outputs": [],
   "source": [
    "sns.boxplot(x='MoSold',y='SalePrice',data=train)\n",
    "plt.show()"
   ]
  },
  {
   "cell_type": "code",
   "execution_count": null,
   "id": "9e2a3d72",
   "metadata": {},
   "outputs": [],
   "source": [
    "sns.boxplot(x='Neighborhood',y='SalePrice',data=train)\n",
    "plt.xticks(rotation=60)\n",
    "plt.show()"
   ]
  },
  {
   "cell_type": "code",
   "execution_count": null,
   "id": "397d42af",
   "metadata": {},
   "outputs": [],
   "source": [
    "from sklearn.preprocessing import LabelEncoder\n",
    "LE=LabelEncoder()\n",
    "temp=LE.fit_transform(train['Neighborhood'])\n",
    "\n",
    "sns.boxplot(x=temp,y='SalePrice',data=train)\n",
    "plt.xticks(rotation=60)\n",
    "plt.show()"
   ]
  },
  {
   "cell_type": "code",
   "execution_count": null,
   "id": "0169a9dd",
   "metadata": {},
   "outputs": [],
   "source": [
    "sns.boxplot(x=train['Neighborhood'].map(map_Nei),y='SalePrice',data=train)\n",
    "plt.xticks(rotation=60)\n",
    "plt.show()"
   ]
  },
  {
   "cell_type": "code",
   "execution_count": null,
   "id": "d3a30a67",
   "metadata": {},
   "outputs": [],
   "source": [
    "sns.boxplot(x='Exterior1st',y='SalePrice',data=train)\n",
    "plt.xticks(rotation=60)\n",
    "plt.show()"
   ]
  },
  {
   "cell_type": "code",
   "execution_count": null,
   "id": "16120d48",
   "metadata": {},
   "outputs": [],
   "source": [
    "sns.boxplot(x='Exterior2nd',y='SalePrice',data=train)\n",
    "plt.xticks(rotation=60)\n",
    "plt.show()"
   ]
  },
  {
   "cell_type": "markdown",
   "id": "b75ddfa3",
   "metadata": {},
   "source": [
    "# onehot"
   ]
  },
  {
   "cell_type": "code",
   "execution_count": null,
   "id": "49b686e3",
   "metadata": {},
   "outputs": [],
   "source": [
    "feature_onehot"
   ]
  },
  {
   "cell_type": "code",
   "execution_count": null,
   "id": "e38f9283",
   "metadata": {},
   "outputs": [],
   "source": [
    "sns.boxplot(x='MSSubClass',y='SalePrice',data=train)\n",
    "plt.xticks(rotation=60)\n",
    "plt.show()"
   ]
  }
 ],
 "metadata": {
  "kernelspec": {
   "display_name": "Python 3",
   "language": "python",
   "name": "python3"
  },
  "language_info": {
   "codemirror_mode": {
    "name": "ipython",
    "version": 3
   },
   "file_extension": ".py",
   "mimetype": "text/x-python",
   "name": "python",
   "nbconvert_exporter": "python",
   "pygments_lexer": "ipython3",
   "version": "3.8.8"
  },
  "toc": {
   "base_numbering": 1,
   "nav_menu": {},
   "number_sections": true,
   "sideBar": true,
   "skip_h1_title": false,
   "title_cell": "Table of Contents",
   "title_sidebar": "Contents",
   "toc_cell": false,
   "toc_position": {},
   "toc_section_display": true,
   "toc_window_display": false
  }
 },
 "nbformat": 4,
 "nbformat_minor": 5
}
