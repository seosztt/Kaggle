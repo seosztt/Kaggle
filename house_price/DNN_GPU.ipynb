{
 "cells": [
  {
   "cell_type": "code",
   "execution_count": 1,
   "metadata": {
    "executionInfo": {
     "elapsed": 223,
     "status": "ok",
     "timestamp": 1633246841355,
     "user": {
      "displayName": "임성국",
      "photoUrl": "https://lh3.googleusercontent.com/a/default-user=s64",
      "userId": "16836461090630312519"
     },
     "user_tz": -540
    },
    "id": "1iXjd_jwGKJx"
   },
   "outputs": [],
   "source": [
    "import warnings\n",
    "warnings.filterwarnings('ignore')"
   ]
  },
  {
   "cell_type": "code",
   "execution_count": 2,
   "metadata": {
    "colab": {
     "base_uri": "https://localhost:8080/",
     "height": 35
    },
    "executionInfo": {
     "elapsed": 1968,
     "status": "ok",
     "timestamp": 1633246847031,
     "user": {
      "displayName": "임성국",
      "photoUrl": "https://lh3.googleusercontent.com/a/default-user=s64",
      "userId": "16836461090630312519"
     },
     "user_tz": -540
    },
    "id": "zwdm97vDGMya",
    "outputId": "1c0398dd-5339-422d-92e8-b05aade28082"
   },
   "outputs": [
    {
     "data": {
      "text/plain": [
       "'2.6.0'"
      ]
     },
     "execution_count": 2,
     "metadata": {},
     "output_type": "execute_result"
    }
   ],
   "source": [
    "import tensorflow\n",
    "\n",
    "tensorflow.__version__"
   ]
  },
  {
   "cell_type": "code",
   "execution_count": 3,
   "metadata": {
    "colab": {
     "base_uri": "https://localhost:8080/"
    },
    "executionInfo": {
     "elapsed": 15530,
     "status": "ok",
     "timestamp": 1633246992760,
     "user": {
      "displayName": "임성국",
      "photoUrl": "https://lh3.googleusercontent.com/a/default-user=s64",
      "userId": "16836461090630312519"
     },
     "user_tz": -540
    },
    "id": "j55yIdZQGoeB",
    "outputId": "a3224efb-c964-4569-fd5c-c82c3ab626d6"
   },
   "outputs": [
    {
     "ename": "ModuleNotFoundError",
     "evalue": "No module named 'google.colab'",
     "output_type": "error",
     "traceback": [
      "\u001b[1;31m---------------------------------------------------------------------------\u001b[0m",
      "\u001b[1;31mModuleNotFoundError\u001b[0m                       Traceback (most recent call last)",
      "\u001b[1;32m<ipython-input-3-c36f5579453e>\u001b[0m in \u001b[0;36m<module>\u001b[1;34m\u001b[0m\n\u001b[1;32m----> 1\u001b[1;33m \u001b[1;32mfrom\u001b[0m \u001b[0mgoogle\u001b[0m\u001b[1;33m.\u001b[0m\u001b[0mcolab\u001b[0m \u001b[1;32mimport\u001b[0m \u001b[0mdrive\u001b[0m\u001b[1;33m\u001b[0m\u001b[1;33m\u001b[0m\u001b[0m\n\u001b[0m\u001b[0;32m      2\u001b[0m \u001b[1;33m\u001b[0m\u001b[0m\n\u001b[0;32m      3\u001b[0m \u001b[0mdrive\u001b[0m\u001b[1;33m.\u001b[0m\u001b[0mmount\u001b[0m\u001b[1;33m(\u001b[0m\u001b[1;34m'/content/drive'\u001b[0m\u001b[1;33m)\u001b[0m\u001b[1;33m\u001b[0m\u001b[1;33m\u001b[0m\u001b[0m\n",
      "\u001b[1;31mModuleNotFoundError\u001b[0m: No module named 'google.colab'"
     ]
    }
   ],
   "source": [
    "from google.colab import drive\n",
    "\n",
    "drive.mount('/content/drive')"
   ]
  },
  {
   "cell_type": "code",
   "execution_count": null,
   "metadata": {
    "executionInfo": {
     "elapsed": 1266,
     "status": "ok",
     "timestamp": 1633247055916,
     "user": {
      "displayName": "임성국",
      "photoUrl": "https://lh3.googleusercontent.com/a/default-user=s64",
      "userId": "16836461090630312519"
     },
     "user_tz": -540
    },
    "id": "qcvSNwX7GUsJ"
   },
   "outputs": [],
   "source": [
    "import pandas as pd\n",
    "\n",
    "train=pd.read_csv('/content/drive/MyDrive/Colab Notebooks/datasets/train_0926.csv')\n",
    "test=pd.read_csv('/content/drive/MyDrive/Colab Notebooks/datasets/test_0926.csv')"
   ]
  },
  {
   "cell_type": "code",
   "execution_count": null,
   "metadata": {
    "colab": {
     "base_uri": "https://localhost:8080/",
     "height": 444
    },
    "executionInfo": {
     "elapsed": 287,
     "status": "ok",
     "timestamp": 1633247144359,
     "user": {
      "displayName": "임성국",
      "photoUrl": "https://lh3.googleusercontent.com/a/default-user=s64",
      "userId": "16836461090630312519"
     },
     "user_tz": -540
    },
    "id": "NYgdyy3tGm86",
    "outputId": "2ccec93a-ec21-448d-aac0-54d4341faa61"
   },
   "outputs": [],
   "source": [
    "train"
   ]
  },
  {
   "cell_type": "code",
   "execution_count": null,
   "metadata": {
    "colab": {
     "base_uri": "https://localhost:8080/"
    },
    "executionInfo": {
     "elapsed": 224,
     "status": "ok",
     "timestamp": 1633247171755,
     "user": {
      "displayName": "임성국",
      "photoUrl": "https://lh3.googleusercontent.com/a/default-user=s64",
      "userId": "16836461090630312519"
     },
     "user_tz": -540
    },
    "id": "T0TlmTjcHS2D",
    "outputId": "ca6e2815-dcdc-4734-a1fb-84134396c18e"
   },
   "outputs": [],
   "source": [
    "train.shape"
   ]
  },
  {
   "cell_type": "code",
   "execution_count": null,
   "metadata": {
    "colab": {
     "base_uri": "https://localhost:8080/"
    },
    "executionInfo": {
     "elapsed": 958,
     "status": "ok",
     "timestamp": 1633247638203,
     "user": {
      "displayName": "임성국",
      "photoUrl": "https://lh3.googleusercontent.com/a/default-user=s64",
      "userId": "16836461090630312519"
     },
     "user_tz": -540
    },
    "id": "EslKCrl4Hgc3",
    "outputId": "969a0b94-1391-4314-f3dd-f946e2401028"
   },
   "outputs": [],
   "source": [
    "X=train.drop(columns=['SalePrice'])\n",
    "y=train['SalePrice']\n",
    "\n",
    "from sklearn.model_selection import train_test_split\n",
    "\n",
    "X_train, X_valid, y_train, y_valid = train_test_split(X, y,\n",
    "                                                      test_size = 0.2,\n",
    "                                                      random_state = 2045)\n",
    "\n",
    "X_train.shape, X_valid.shape, y_train.shape, y_valid.shape"
   ]
  },
  {
   "cell_type": "code",
   "execution_count": null,
   "metadata": {
    "executionInfo": {
     "elapsed": 232,
     "status": "ok",
     "timestamp": 1633247690548,
     "user": {
      "displayName": "임성국",
      "photoUrl": "https://lh3.googleusercontent.com/a/default-user=s64",
      "userId": "16836461090630312519"
     },
     "user_tz": -540
    },
    "id": "RifazzWtHrki"
   },
   "outputs": [],
   "source": [
    "from tensorflow.keras import models\n",
    "from tensorflow.keras import layers\n",
    "\n",
    "model = models.Sequential(name='Regression')\n",
    "model.add(layers.Dense(64, activation = 'relu', input_shape = (57,)))\n",
    "model.add(layers.Dense(64, activation = 'relu'))\n",
    "model.add(layers.Dense(1))"
   ]
  },
  {
   "cell_type": "code",
   "execution_count": null,
   "metadata": {
    "colab": {
     "base_uri": "https://localhost:8080/"
    },
    "executionInfo": {
     "elapsed": 220,
     "status": "ok",
     "timestamp": 1633247692147,
     "user": {
      "displayName": "임성국",
      "photoUrl": "https://lh3.googleusercontent.com/a/default-user=s64",
      "userId": "16836461090630312519"
     },
     "user_tz": -540
    },
    "id": "5kM-mx7mIraG",
    "outputId": "1f9b2af1-b6d2-48d0-81ed-4c25d167deae"
   },
   "outputs": [],
   "source": [
    "model.summary()"
   ]
  },
  {
   "cell_type": "code",
   "execution_count": null,
   "metadata": {
    "executionInfo": {
     "elapsed": 311,
     "status": "ok",
     "timestamp": 1633247694998,
     "user": {
      "displayName": "임성국",
      "photoUrl": "https://lh3.googleusercontent.com/a/default-user=s64",
      "userId": "16836461090630312519"
     },
     "user_tz": -540
    },
    "id": "qk-K4srZIuzl"
   },
   "outputs": [],
   "source": [
    "model.compile(loss = 'mse',\n",
    "               optimizer = 'rmsprop',\n",
    "               metrics = ['mse'])"
   ]
  },
  {
   "cell_type": "code",
   "execution_count": null,
   "metadata": {
    "colab": {
     "base_uri": "https://localhost:8080/"
    },
    "executionInfo": {
     "elapsed": 180003,
     "status": "ok",
     "timestamp": 1633249818730,
     "user": {
      "displayName": "임성국",
      "photoUrl": "https://lh3.googleusercontent.com/a/default-user=s64",
      "userId": "16836461090630312519"
     },
     "user_tz": -540
    },
    "id": "FnLmUMhDI37m",
    "outputId": "9df70a13-4fa1-4e2a-a442-0be1b708edb6"
   },
   "outputs": [],
   "source": [
    "%%time\n",
    "\n",
    "Hist_model = model.fit(X_train, y_train,\n",
    "                       epochs = 500,\n",
    "                       batch_size = 1,\n",
    "                       validation_data = (X_valid, y_valid))"
   ]
  },
  {
   "cell_type": "code",
   "execution_count": null,
   "metadata": {
    "colab": {
     "base_uri": "https://localhost:8080/"
    },
    "executionInfo": {
     "elapsed": 597,
     "status": "ok",
     "timestamp": 1633249851737,
     "user": {
      "displayName": "임성국",
      "photoUrl": "https://lh3.googleusercontent.com/a/default-user=s64",
      "userId": "16836461090630312519"
     },
     "user_tz": -540
    },
    "id": "Nl31gLcuI9_c",
    "outputId": "532097be-a9b1-4935-89b8-675425175859"
   },
   "outputs": [],
   "source": [
    "test_mse_score, test_mae_score = model.evaluate(X_valid, y_valid)\n",
    "\n",
    "print('MSE is :',test_mse_score)"
   ]
  },
  {
   "cell_type": "code",
   "execution_count": null,
   "metadata": {
    "colab": {
     "base_uri": "https://localhost:8080/",
     "height": 404
    },
    "executionInfo": {
     "elapsed": 719,
     "status": "ok",
     "timestamp": 1633249950705,
     "user": {
      "displayName": "임성국",
      "photoUrl": "https://lh3.googleusercontent.com/a/default-user=s64",
      "userId": "16836461090630312519"
     },
     "user_tz": -540
    },
    "id": "RKPtDbFRRvWs",
    "outputId": "26a63615-9a9a-4868-f4d0-0cdc31cfdb7d"
   },
   "outputs": [],
   "source": [
    "import matplotlib.pyplot as plt\n",
    "\n",
    "epochs = range(1, len(Hist_model.history['val_mse']) + 1)\n",
    "\n",
    "plt.figure(figsize = (9, 6))\n",
    "plt.plot(epochs, Hist_model.history['val_mse'])\n",
    "plt.title('Validation MSE')\n",
    "plt.xlabel('Epochs')\n",
    "plt.ylabel('Mean Standard Error')\n",
    "plt.grid()\n",
    "plt.show()"
   ]
  },
  {
   "cell_type": "code",
   "execution_count": null,
   "metadata": {
    "executionInfo": {
     "elapsed": 343,
     "status": "ok",
     "timestamp": 1633250004643,
     "user": {
      "displayName": "임성국",
      "photoUrl": "https://lh3.googleusercontent.com/a/default-user=s64",
      "userId": "16836461090630312519"
     },
     "user_tz": -540
    },
    "id": "ByZ9XULOSHXp"
   },
   "outputs": [],
   "source": [
    "pred=model.predict(test)"
   ]
  },
  {
   "cell_type": "code",
   "execution_count": null,
   "metadata": {
    "colab": {
     "base_uri": "https://localhost:8080/"
    },
    "executionInfo": {
     "elapsed": 410,
     "status": "ok",
     "timestamp": 1633250009653,
     "user": {
      "displayName": "임성국",
      "photoUrl": "https://lh3.googleusercontent.com/a/default-user=s64",
      "userId": "16836461090630312519"
     },
     "user_tz": -540
    },
    "id": "1fQMB2tbSUuD",
    "outputId": "c8d1cdcc-675e-4909-b39c-72d0164beead"
   },
   "outputs": [],
   "source": [
    "pred"
   ]
  },
  {
   "cell_type": "code",
   "execution_count": null,
   "metadata": {
    "executionInfo": {
     "elapsed": 227,
     "status": "ok",
     "timestamp": 1633250063319,
     "user": {
      "displayName": "임성국",
      "photoUrl": "https://lh3.googleusercontent.com/a/default-user=s64",
      "userId": "16836461090630312519"
     },
     "user_tz": -540
    },
    "id": "8zmI66VlSV6R"
   },
   "outputs": [],
   "source": [
    "import numpy as np\n",
    "pred = np.expm1(pred)"
   ]
  },
  {
   "cell_type": "code",
   "execution_count": null,
   "metadata": {
    "colab": {
     "base_uri": "https://localhost:8080/"
    },
    "executionInfo": {
     "elapsed": 250,
     "status": "ok",
     "timestamp": 1633250321030,
     "user": {
      "displayName": "임성국",
      "photoUrl": "https://lh3.googleusercontent.com/a/default-user=s64",
      "userId": "16836461090630312519"
     },
     "user_tz": -540
    },
    "id": "iXEWepHKThbc",
    "outputId": "d0434896-f86d-404b-e76f-b063fc79272c"
   },
   "outputs": [],
   "source": [
    "pred"
   ]
  },
  {
   "cell_type": "code",
   "execution_count": null,
   "metadata": {
    "executionInfo": {
     "elapsed": 227,
     "status": "ok",
     "timestamp": 1633250293909,
     "user": {
      "displayName": "임성국",
      "photoUrl": "https://lh3.googleusercontent.com/a/default-user=s64",
      "userId": "16836461090630312519"
     },
     "user_tz": -540
    },
    "id": "41wMuxp4SkNM"
   },
   "outputs": [],
   "source": [
    "sub=pd.read_csv('/content/drive/MyDrive/Colab Notebooks/datasets/sample_submission.csv')\n",
    "sub['SalePrice']=pred\n",
    "sub.to_csv('/content/drive/MyDrive/Colab Notebooks/submission/DNN_1.csv',index=False)"
   ]
  },
  {
   "cell_type": "code",
   "execution_count": null,
   "metadata": {
    "executionInfo": {
     "elapsed": 641,
     "status": "ok",
     "timestamp": 1633250131185,
     "user": {
      "displayName": "임성국",
      "photoUrl": "https://lh3.googleusercontent.com/a/default-user=s64",
      "userId": "16836461090630312519"
     },
     "user_tz": -540
    },
    "id": "VlmdTuJ7SkDh"
   },
   "outputs": [],
   "source": [
    "model.save('/content/drive/My Drive/Colab Notebooks/models/house_price_DNN.h5')"
   ]
  },
  {
   "cell_type": "code",
   "execution_count": null,
   "metadata": {
    "id": "FN-4_Bh2SkBU"
   },
   "outputs": [],
   "source": []
  }
 ],
 "metadata": {
  "accelerator": "GPU",
  "colab": {
   "authorship_tag": "ABX9TyMXSMcGWmWu87PACcxPFojo",
   "collapsed_sections": [],
   "name": "DNN_GPU.ipynb",
   "provenance": []
  },
  "kernelspec": {
   "display_name": "Python 3",
   "language": "python",
   "name": "python3"
  },
  "language_info": {
   "codemirror_mode": {
    "name": "ipython",
    "version": 3
   },
   "file_extension": ".py",
   "mimetype": "text/x-python",
   "name": "python",
   "nbconvert_exporter": "python",
   "pygments_lexer": "ipython3",
   "version": "3.8.8"
  },
  "toc": {
   "base_numbering": 1,
   "nav_menu": {},
   "number_sections": true,
   "sideBar": true,
   "skip_h1_title": false,
   "title_cell": "Table of Contents",
   "title_sidebar": "Contents",
   "toc_cell": false,
   "toc_position": {},
   "toc_section_display": true,
   "toc_window_display": false
  }
 },
 "nbformat": 4,
 "nbformat_minor": 1
}
