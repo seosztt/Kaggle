{
 "cells": [
  {
   "cell_type": "markdown",
   "metadata": {},
   "source": [
    "# 데이터 불러오기"
   ]
  },
  {
   "cell_type": "code",
   "execution_count": 1,
   "metadata": {
    "ExecuteTime": {
     "end_time": "2021-09-06T06:02:01.211203Z",
     "start_time": "2021-09-06T06:02:01.200237Z"
    }
   },
   "outputs": [],
   "source": [
    "import numpy as np\n",
    "import pandas as pd\n",
    "import matplotlib.pyplot as plt\n",
    "import seaborn as sns"
   ]
  },
  {
   "cell_type": "code",
   "execution_count": 2,
   "metadata": {
    "ExecuteTime": {
     "end_time": "2021-09-06T06:02:01.415026Z",
     "start_time": "2021-09-06T06:01:56.844Z"
    }
   },
   "outputs": [],
   "source": [
    "#train_link = \"https://bit.ly/38Lia2e\"\n",
    "#test_link = \"https://bit.ly/3h5eqNL\"\n",
    "#train1 = pd.read_csv(train_link)\n",
    "#test1 = pd.read_csv(test_link)"
   ]
  },
  {
   "cell_type": "code",
   "execution_count": 3,
   "metadata": {
    "ExecuteTime": {
     "end_time": "2021-09-06T06:02:05.875531Z",
     "start_time": "2021-09-06T06:02:05.770971Z"
    }
   },
   "outputs": [],
   "source": [
    "train = pd.read_csv('data/train.csv')\n",
    "test = pd.read_csv('data/test.csv')\n",
    "train1 = pd.read_csv('data/train.csv')\n",
    "test1 = pd.read_csv('data/test.csv')"
   ]
  },
  {
   "cell_type": "markdown",
   "metadata": {
    "ExecuteTime": {
     "end_time": "2021-09-06T04:13:51.458253Z",
     "start_time": "2021-09-06T04:13:51.453200Z"
    }
   },
   "source": [
    "# 전처리\n"
   ]
  },
  {
   "cell_type": "markdown",
   "metadata": {},
   "source": [
    "## 전처리 시작"
   ]
  },
  {
   "cell_type": "markdown",
   "metadata": {},
   "source": [
    "### 필요한 함수 정의"
   ]
  },
  {
   "cell_type": "code",
   "execution_count": 268,
   "metadata": {
    "ExecuteTime": {
     "end_time": "2021-09-06T08:12:36.972953Z",
     "start_time": "2021-09-06T08:12:36.962016Z"
    }
   },
   "outputs": [],
   "source": [
    "def null_count(dataset):\n",
    "    '''\n",
    "    해당 데이터셋에 결측치가 있는 feature와 개수 출력\n",
    "    '''\n",
    "    return dataset.isnull().sum()[dataset.isnull().sum()!=0]\n",
    "    \n",
    "def null_check(feature):\n",
    "    '''\n",
    "    해당 feature의 결측치가 각 데이터셋에 얼마나 있는지 확인.\n",
    "    dataset도 input으로 받아야 할지 고민.\n",
    "    '''\n",
    "    print('--', feature, '--')\n",
    "    print('train :', train[feature].isnull().sum())\n",
    "    print('test :', test[feature].isnull().sum())\n",
    "\n",
    "def val_list(dataset, feature):\n",
    "    '''\n",
    "    해당 dataset의 feature가 가진 value들 중복 없이 리스트로 출력\n",
    "    '''\n",
    "    return list(set(dataset[feature].values.tolist()))\n",
    "\n",
    "#val_list = set(train['MSZoning'].values.tolist()) - 중복 없이 value종류 추출 \n",
    "# 근데 이건 순서가 내 맘대로 안됨\n",
    "\n",
    "def val_count(feature):\n",
    "    '''\n",
    "    train, test 데이터의 value_count를 같이 출력\n",
    "    input에 데이터셋도 받는게 좋을지..?\n",
    "    '''\n",
    "    print('-----', feature, '-----')\n",
    "    print('---- train ----')\n",
    "    print(train[feature].value_counts())\n",
    "    print('---- test ----')\n",
    "    print(test[feature].value_counts(),'\\n')\n",
    "\n",
    "def map_order(dataset, feature, val_list):\n",
    "    '''\n",
    "    Value들을 0부터 순서대로 매핑\n",
    "    데이터셋(train/test), feature명, 원하는 순서대로 value_list 입력\n",
    "    '''\n",
    "    mapping = dict(zip(val_list, range(len(val_list))))\n",
    "    return dataset[feature].map(mapping) #원하는 순서대로 0부터 매핑된 컬럼 출력\n",
    "\n",
    "\n",
    "def val_cat(dataset, feature):\n",
    "    '''\n",
    "    dataset, feature를 입력받아서 해당 feature에 대해 categorize\n",
    "    '''\n",
    "    val_list = set(dataset[feature].values.tolist())\n",
    "    for feat in val_list:\n",
    "        dataset[feat] = (dataset[feature]==feat).astype(int)\n",
    "    dataset = dataset.drop(feature, axis = 1)\n",
    "    \n",
    "def avg_price(feature):\n",
    "    '''\n",
    "    train set 내의 해당 feature의 value들에 따른 가격의 평균\n",
    "    '''\n",
    "    for feat in set(train[feature].values.tolist()):\n",
    "        mean_price = train['SalePrice'][train[feature] == feat].mean()\n",
    "        print(feat, ':', mean_price)\n",
    "        \n",
    "def price_plot(feature):\n",
    "    '''\n",
    "    train set 내의 해당 feature의 value에 따른 가격의 평균 plot 그래프로 출력\n",
    "    '''\n",
    "    train.groupby(feature).mean()['SalePrice'].plot()\n",
    "    \n",
    "def brief():\n",
    "    '''\n",
    "    feature의 분류를 브리핑\n",
    "    '''\n",
    "    print('그대로 넣을 거 {}개: \\n'.format(len(feature_raw)),feature_raw,'\\n')\n",
    "    print('모아놓고 그대로 넣을지? one-hot을 할지 등 {}개: \\n'.format(len(feature_dis)),feature_dis,'\\n')\n",
    "    print('매핑 할 데이터 {}개: \\n'.format(len(feature_map)),feature_map,'\\n')\n",
    "    print('one-hot encoding 시킬 것 {}개: \\n'.format(len(feature_onehot)),feature_onehot,'\\n')\n",
    "    print('따로 봐야 할 것 {}개: \\n'.format(len(feature_extra)),feature_extra,'\\n')\n",
    "    print('삭제할 것 {}개: \\n'.format(len(feature_del)),feature_del,'\\n')\n",
    "    \n",
    "def price_cor(feature):\n",
    "    '''\n",
    "    feature와 집값 사이의 상관계수를 반환\n",
    "    '''\n",
    "    return round(float(pd.DataFrame(train.corr()['SalePrice']).loc[feature]),3)"
   ]
  },
  {
   "cell_type": "markdown",
   "metadata": {},
   "source": [
    "### feature 분류"
   ]
  },
  {
   "cell_type": "markdown",
   "metadata": {},
   "source": [
    "- feature들을 하나씩 보면서 5가지 분류로 나눌 계획.  \n",
    "- 각 분류별로 리스트에 feature이름 저장.  \n",
    "  \n",
    "  \n",
    "- <span class=\"mark\">feature_raw</span> : 그대로 넣을거   \n",
    "     - 넓이, 길이 등 연속적인 숫자 데이터\n",
    "- <span class=\"mark\">feature_dis</span> : 모아놓고 그대로 넣을지? one-hot을 할지 등\n",
    "     - 개수, 유무(0/1) 등 discrete 한 숫자 데이터\n",
    "- <span class=\"mark\">feature_map</span> : 매핑 할 데이터   \n",
    "    - 경사도고 낮음 -> 높음 처럼 문자이지만 순서가 있어보이는 경우 숫자로 매핑\n",
    "- <span class=\"mark\">feature_onehot</span> : one-hot encoding 시킬 것\n",
    "    - 각각의 특성이 독립?이라서 컬럼을 새로 만들어 주는게 좋아 보이는 경우\n",
    "- <span class=\"mark\">feature_extra</span> : 따로 봐야 할 것  \n",
    "    - 그래프를 그려본다거나, 가격과의 관계를 직접 보고 판단\n",
    "- <span class=\"mark\">feature_del</span> : 삭제\n",
    "    - 필요 없다고 판단되어 삭제 할 데이터\n",
    "    "
   ]
  },
  {
   "cell_type": "code",
   "execution_count": 11,
   "metadata": {
    "ExecuteTime": {
     "end_time": "2021-09-06T06:04:12.614077Z",
     "start_time": "2021-09-06T06:04:12.608059Z"
    }
   },
   "outputs": [],
   "source": [
    "feature_raw = []\n",
    "feature_dis = []\n",
    "feature_map = []\n",
    "feature_onehot = []\n",
    "feature_extra = []\n",
    "feature_del = []"
   ]
  },
  {
   "cell_type": "code",
   "execution_count": 246,
   "metadata": {
    "scrolled": true
   },
   "outputs": [
    {
     "name": "stdout",
     "output_type": "stream",
     "text": [
      "그대로 넣을 거 15개: \n",
      " ['LotFrontage', 'LotArea', 'MasVnrArea', '1stFlrSF', '2ndFlrSF', 'LowQualFinSF', 'GrLivArea', 'GarageArea', 'WoodDeckSF', 'OpenPorchSF', 'EnclosedPorch', '3SsnPorch', 'ScreenPorch', 'PoolArea', 'MiscVal'] \n",
      "\n",
      "모아놓고 그대로 넣을지? one-hot을 할지 등 17개: \n",
      " ['MSSubClass', 'OverallQual', 'OverallCond', 'YearBuilt', 'YearRemodAdd', 'BsmtFullBath', 'BsmtHalfBath', 'FullBath', 'HalfBath', 'BedroomAbvGr', 'KitchenAbvGr', 'TotRmsAbvGrd', 'Fireplaces', 'GarageYrBlt', 'GarageCars', 'MoSold', 'YrSold'] \n",
      "\n",
      "매핑 할 데이터 17개: \n",
      " ['MSZoning', 'LotShape', 'LandContour', 'LandSlope', 'ExterQual', 'ExterCond', 'BsmtQual', 'BsmtCond', 'HeatingQC', 'CentralAir', 'KitchenQual', 'FireplaceQu', 'GarageFinish', 'GarageQual', 'GarageCond', 'PoolQC', 'Fence'] \n",
      "\n",
      "one-hot encoding 시킬 것 16개: \n",
      " ['Street', 'Alley', 'LotConfig', 'BldgType', 'HouseStyle', 'RoofStyle', 'RoofMatl', 'MasVnrType', 'Foundation', 'BsmtExposure', 'Heating', 'Electrical', 'GarageType', 'PavedDrive', 'SaleType', 'SaleCondition'] \n",
      "\n",
      "따로 봐야 할 것 12개: \n",
      " ['Neighborhood', 'Condition1', 'Condition2', 'Exterior1st', 'Exterior2nd', 'BsmtFinType1', 'BsmtFinType2', 'BsmtFinSF1', 'BsmtFinSF2', 'BsmtUnfSF', 'TotalBsmtSF', 'Functional'] \n",
      "\n",
      "삭제할 것 3개: \n",
      " ['Id', 'Utilities', 'MiscFeature'] \n",
      "\n"
     ]
    }
   ],
   "source": [
    "brief()"
   ]
  },
  {
   "cell_type": "markdown",
   "metadata": {
    "heading_collapsed": true
   },
   "source": [
    "## Feature들 살펴보기"
   ]
  },
  {
   "cell_type": "markdown",
   "metadata": {
    "heading_collapsed": true,
    "hidden": true
   },
   "source": [
    "### 의견\n",
    "heading3 라고 하나?\n",
    "샾 3개인 feature 이름 탭 셀 상단에 ----------------가 적혀있으면 탭이 접히지가 않음.\n",
    "`2.2.1.3 분류`를 접으면 `2.2.2 MSSubClass` 까지 같이 접힙니당...\n",
    "체크 완료 했다는 의미로 선 그어놓은 건가...??"
   ]
  },
  {
   "cell_type": "markdown",
   "metadata": {
    "heading_collapsed": true,
    "hidden": true
   },
   "source": [
    "### ID"
   ]
  },
  {
   "cell_type": "markdown",
   "metadata": {
    "hidden": true
   },
   "source": [
    "#### 의견"
   ]
  },
  {
   "cell_type": "markdown",
   "metadata": {
    "ExecuteTime": {
     "end_time": "2021-09-06T06:24:54.937345Z",
     "start_time": "2021-09-06T06:24:54.930399Z"
    },
    "hidden": true
   },
   "source": [
    "그냥 아이디임.\n",
    "삭제해도 될 듯.\n",
    "- 동의"
   ]
  },
  {
   "cell_type": "markdown",
   "metadata": {
    "hidden": true
   },
   "source": [
    "#### 데이터 확인"
   ]
  },
  {
   "cell_type": "code",
   "execution_count": 12,
   "metadata": {
    "ExecuteTime": {
     "end_time": "2021-09-06T06:04:23.718527Z",
     "start_time": "2021-09-06T06:04:23.710550Z"
    },
    "hidden": true
   },
   "outputs": [
    {
     "data": {
      "text/plain": [
       "0    1\n",
       "1    2\n",
       "2    3\n",
       "3    4\n",
       "4    5\n",
       "Name: Id, dtype: int64"
      ]
     },
     "execution_count": 12,
     "metadata": {},
     "output_type": "execute_result"
    }
   ],
   "source": [
    "train['Id'].head()"
   ]
  },
  {
   "cell_type": "markdown",
   "metadata": {
    "hidden": true
   },
   "source": [
    "#### 분류"
   ]
  },
  {
   "cell_type": "code",
   "execution_count": 13,
   "metadata": {
    "ExecuteTime": {
     "end_time": "2021-09-06T06:04:25.089378Z",
     "start_time": "2021-09-06T06:04:25.084427Z"
    },
    "hidden": true
   },
   "outputs": [],
   "source": [
    "feature_del.append('Id')"
   ]
  },
  {
   "cell_type": "markdown",
   "metadata": {
    "heading_collapsed": true,
    "hidden": true
   },
   "source": [
    "### MSSubClass"
   ]
  },
  {
   "cell_type": "markdown",
   "metadata": {
    "hidden": true
   },
   "source": [
    "- The building class  \n",
    "- 빌딩의 클래스?  "
   ]
  },
  {
   "cell_type": "markdown",
   "metadata": {
    "heading_collapsed": true,
    "hidden": true
   },
   "source": [
    "#### 의견\n",
    "- discrete한 값임\n",
    "- 숫자가 크다고 좋은게 아니라서. 다른 방법이 필요함."
   ]
  },
  {
   "cell_type": "markdown",
   "metadata": {
    "heading_collapsed": true,
    "hidden": true
   },
   "source": [
    "#### 데이터 확인\n",
    "- 숫자가 크다고 무조건 좋지 않음 (ex 180)\n",
    "- 그래프 그려볼것"
   ]
  },
  {
   "cell_type": "code",
   "execution_count": 14,
   "metadata": {
    "ExecuteTime": {
     "end_time": "2021-09-06T06:04:27.230077Z",
     "start_time": "2021-09-06T06:04:27.221800Z"
    },
    "hidden": true
   },
   "outputs": [
    {
     "data": {
      "image/png": "[encoded data removed]",
      "text/plain": [
       "<Figure size 432x288 with 1 Axes>"
      ]
     },
     "metadata": {
      "needs_background": "light"
     },
     "output_type": "display_data"
    }
   ],
   "source": [
    "price_plot('MSSubClass')"
   ]
  },
  {
   "cell_type": "markdown",
   "metadata": {
    "hidden": true
   },
   "source": [
    "#### 결측치 확인\n",
    "- 결측치 없음"
   ]
  },
  {
   "cell_type": "markdown",
   "metadata": {
    "hidden": true
   },
   "source": [
    "#### 분류\n",
    "- discrete한 값이니까 feature_dis 리스트에 추가"
   ]
  },
  {
   "cell_type": "code",
   "execution_count": 15,
   "metadata": {
    "ExecuteTime": {
     "end_time": "2021-09-06T06:04:29.414969Z",
     "start_time": "2021-09-06T06:04:29.410990Z"
    },
    "hidden": true
   },
   "outputs": [],
   "source": [
    "feature_dis.append('MSSubClass')"
   ]
  },
  {
   "cell_type": "markdown",
   "metadata": {
    "heading_collapsed": true,
    "hidden": true
   },
   "source": [
    "### MSZoning"
   ]
  },
  {
   "cell_type": "markdown",
   "metadata": {
    "hidden": true
   },
   "source": [
    "- The general zoning classification  \n",
    "- 주거구역 / 상업구역 등 집이 위치한 구역?을 나타냄."
   ]
  },
  {
   "cell_type": "markdown",
   "metadata": {
    "hidden": true
   },
   "source": [
    "#### 의견"
   ]
  },
  {
   "cell_type": "markdown",
   "metadata": {
    "hidden": true
   },
   "source": [
    "- C, FV 생각하면 one-hot encoding 하고 싶음.\n",
    "- 근데 RL, RM, RH간에는 순서?가 있어 보여서..  \n",
    "- 일단 매핑 해보자 1~5\n",
    "\n",
    "- 집값 평균 그래프 그려보니 5번이 젤 높고 4번이 젤 낮다\n",
    "- 순서 조정 필요할듯, 또는 원핫이코딩이 나을 수도."
   ]
  },
  {
   "cell_type": "markdown",
   "metadata": {
    "hidden": true
   },
   "source": [
    "#### 데이터 확인\n",
    "- RL -> RM -> RH 순으로 인구 밀집도가 높음.(얘네가 데이터의 대부분임)  \n",
    "- 나머지 FV(물에 떠있는 집;;), C(상업지구)는 어떻게 처리할지..  "
   ]
  },
  {
   "cell_type": "code",
   "execution_count": 16,
   "metadata": {
    "ExecuteTime": {
     "end_time": "2021-09-06T06:04:31.543507Z",
     "start_time": "2021-09-06T06:04:31.534019Z"
    },
    "hidden": true
   },
   "outputs": [
    {
     "name": "stdout",
     "output_type": "stream",
     "text": [
      "----- MSZoning -----\n",
      "---- train ----\n",
      "RL         1151\n",
      "RM          218\n",
      "FV           65\n",
      "RH           16\n",
      "C (all)      10\n",
      "Name: MSZoning, dtype: int64\n",
      "---- test ----\n",
      "RL         1114\n",
      "RM          242\n",
      "FV           74\n",
      "C (all)      15\n",
      "RH           10\n",
      "Name: MSZoning, dtype: int64 \n",
      "\n"
     ]
    }
   ],
   "source": [
    "val_count('MSZoning')"
   ]
  },
  {
   "cell_type": "code",
   "execution_count": 168,
   "metadata": {
    "hidden": true
   },
   "outputs": [
    {
     "data": {
      "image/png": "[encoded data removed]",
      "text/plain": [
       "<Figure size 432x288 with 1 Axes>"
      ]
     },
     "metadata": {
      "needs_background": "light"
     },
     "output_type": "display_data"
    }
   ],
   "source": [
    "price_plot('MSZoning')"
   ]
  },
  {
   "cell_type": "markdown",
   "metadata": {
    "hidden": true
   },
   "source": [
    "#### 결측치 확인\n",
    "- test셋에 결측치 4개.\n",
    "- 데이터를 보면 RL이 압도적으로 많으니까.. RL로 결측 채워보자"
   ]
  },
  {
   "cell_type": "code",
   "execution_count": 17,
   "metadata": {
    "ExecuteTime": {
     "end_time": "2021-09-06T06:04:33.141214Z",
     "start_time": "2021-09-06T06:04:33.134244Z"
    },
    "hidden": true
   },
   "outputs": [
    {
     "name": "stdout",
     "output_type": "stream",
     "text": [
      "-- MSZoning --\n",
      "train : 0\n",
      "test : 4\n"
     ]
    }
   ],
   "source": [
    "null_check('MSZoning')"
   ]
  },
  {
   "cell_type": "code",
   "execution_count": 19,
   "metadata": {
    "ExecuteTime": {
     "end_time": "2021-09-06T06:04:35.966299Z",
     "start_time": "2021-09-06T06:04:35.958321Z"
    },
    "hidden": true
   },
   "outputs": [
    {
     "name": "stdout",
     "output_type": "stream",
     "text": [
      "-- MSZoning --\n",
      "train : 0\n",
      "test : 0\n"
     ]
    }
   ],
   "source": [
    "test['MSZoning'].fillna('RL', inplace=True)\n",
    "null_check('MSZoning')"
   ]
  },
  {
   "cell_type": "markdown",
   "metadata": {
    "hidden": true
   },
   "source": [
    "#### 매핑\n",
    "- C, FV 생각하면 <span class=\"mark\">카테고라이즈</span> 하고 싶은데 근데 RL, RM, RH간에는 순서?가 있어 보여서..  \n",
    "->일단 RL -> RM -> RH -> C -> FV 순으로 숫자로 매핑해보기로(0~4)"
   ]
  },
  {
   "cell_type": "code",
   "execution_count": 20,
   "metadata": {
    "ExecuteTime": {
     "end_time": "2021-09-06T06:04:42.314935Z",
     "start_time": "2021-09-06T06:04:42.307887Z"
    },
    "hidden": true
   },
   "outputs": [],
   "source": [
    "# RL -> RM -> RH -> C -> FV \n",
    "map_MSZoning = {'RL':1, 'RM':2, 'RH':3, 'C (all)':4, 'FV':5}\n",
    "train['MSZoning'] = train['MSZoning'].map(map_MSZoning)\n",
    "test['MSZoning'] = test['MSZoning'].map(map_MSZoning)"
   ]
  },
  {
   "cell_type": "code",
   "execution_count": 21,
   "metadata": {
    "ExecuteTime": {
     "end_time": "2021-09-06T06:04:42.901285Z",
     "start_time": "2021-09-06T06:04:42.888292Z"
    },
    "hidden": true,
    "scrolled": true
   },
   "outputs": [
    {
     "name": "stdout",
     "output_type": "stream",
     "text": [
      "----- MSZoning -----\n",
      "---- train ----\n",
      "1    1151\n",
      "2     218\n",
      "5      65\n",
      "3      16\n",
      "4      10\n",
      "Name: MSZoning, dtype: int64\n",
      "---- test ----\n",
      "1    1118\n",
      "2     242\n",
      "5      74\n",
      "4      15\n",
      "3      10\n",
      "Name: MSZoning, dtype: int64 \n",
      "\n"
     ]
    }
   ],
   "source": [
    "val_count('MSZoning')"
   ]
  },
  {
   "cell_type": "markdown",
   "metadata": {
    "hidden": true
   },
   "source": [
    "#### 분류\n",
    "- 일단 순서를 줘서 매핑을 했으니까 feature_order 리스트에 'MSZoning' 넣기"
   ]
  },
  {
   "cell_type": "code",
   "execution_count": 22,
   "metadata": {
    "ExecuteTime": {
     "end_time": "2021-09-06T06:04:58.674020Z",
     "start_time": "2021-09-06T06:04:58.670007Z"
    },
    "hidden": true
   },
   "outputs": [],
   "source": [
    "feature_map.append('MSZoning')"
   ]
  },
  {
   "cell_type": "markdown",
   "metadata": {
    "heading_collapsed": true,
    "hidden": true
   },
   "source": [
    "### LotFrontage / LotArea"
   ]
  },
  {
   "cell_type": "markdown",
   "metadata": {
    "hidden": true
   },
   "source": [
    "- LotFrontage : Linear feet of street connected to property\n",
    "- LotArea : Lot size in square feet"
   ]
  },
  {
   "cell_type": "markdown",
   "metadata": {
    "hidden": true
   },
   "source": [
    "#### 의견"
   ]
  },
  {
   "cell_type": "markdown",
   "metadata": {
    "hidden": true
   },
   "source": [
    "- 둘 다 길이, 넓이로 숫자 데이터라서 그냥 넣을 것.\n",
    "- <span class=\"mark\">값이 큰데 어떻게 normalize할지?</span>\n",
    "- <span class=\"mark\">길이가 길면, 면적도 넓어질텐데 둘을 하나로 합칠 수 있나?</span>"
   ]
  },
  {
   "cell_type": "markdown",
   "metadata": {
    "hidden": true
   },
   "source": [
    "#### 데이터 확인"
   ]
  },
  {
   "cell_type": "code",
   "execution_count": 23,
   "metadata": {
    "ExecuteTime": {
     "end_time": "2021-09-06T06:05:00.169136Z",
     "start_time": "2021-09-06T06:05:00.152181Z"
    },
    "cell_style": "split",
    "hidden": true
   },
   "outputs": [
    {
     "name": "stdout",
     "output_type": "stream",
     "text": [
      "----- LotFrontage -----\n",
      "---- train ----\n",
      "60.0     143\n",
      "70.0      70\n",
      "80.0      69\n",
      "50.0      57\n",
      "75.0      53\n",
      "        ... \n",
      "112.0      1\n",
      "138.0      1\n",
      "149.0      1\n",
      "38.0       1\n",
      "111.0      1\n",
      "Name: LotFrontage, Length: 110, dtype: int64\n",
      "---- test ----\n",
      "60.0     133\n",
      "80.0      68\n",
      "70.0      63\n",
      "50.0      60\n",
      "75.0      52\n",
      "        ... \n",
      "149.0      1\n",
      "117.0      1\n",
      "121.0      1\n",
      "101.0      1\n",
      "22.0       1\n",
      "Name: LotFrontage, Length: 115, dtype: int64 \n",
      "\n"
     ]
    }
   ],
   "source": [
    "val_count('LotFrontage')"
   ]
  },
  {
   "cell_type": "code",
   "execution_count": 24,
   "metadata": {
    "ExecuteTime": {
     "end_time": "2021-09-06T06:05:00.632136Z",
     "start_time": "2021-09-06T06:05:00.621165Z"
    },
    "cell_style": "split",
    "hidden": true
   },
   "outputs": [
    {
     "name": "stdout",
     "output_type": "stream",
     "text": [
      "----- LotArea -----\n",
      "---- train ----\n",
      "7200     25\n",
      "9600     24\n",
      "6000     17\n",
      "8400     14\n",
      "9000     14\n",
      "         ..\n",
      "13031     1\n",
      "10991     1\n",
      "8944      1\n",
      "6897      1\n",
      "8190      1\n",
      "Name: LotArea, Length: 1073, dtype: int64\n",
      "---- test ----\n",
      "9600     20\n",
      "7200     18\n",
      "6000     17\n",
      "9000     15\n",
      "7500     12\n",
      "         ..\n",
      "10990     1\n",
      "8088      1\n",
      "13041     1\n",
      "6900      1\n",
      "12285     1\n",
      "Name: LotArea, Length: 1106, dtype: int64 \n",
      "\n"
     ]
    }
   ],
   "source": [
    "val_count('LotArea')"
   ]
  },
  {
   "cell_type": "code",
   "execution_count": 169,
   "metadata": {
    "hidden": true,
    "scrolled": true
   },
   "outputs": [
    {
     "data": {
      "text/plain": [
       "<AxesSubplot:xlabel='LotFrontage', ylabel='SalePrice'>"
      ]
     },
     "execution_count": 169,
     "metadata": {},
     "output_type": "execute_result"
    },
    {
     "data": {
      "image/png": "[encoded data removed]",
      "text/plain": [
       "<Figure size 432x288 with 1 Axes>"
      ]
     },
     "metadata": {
      "needs_background": "light"
     },
     "output_type": "display_data"
    }
   ],
   "source": [
    "train.plot(x='LotFrontage',y='SalePrice',kind='scatter')"
   ]
  },
  {
   "cell_type": "code",
   "execution_count": 170,
   "metadata": {
    "hidden": true
   },
   "outputs": [
    {
     "data": {
      "text/plain": [
       "<AxesSubplot:xlabel='LotFrontage', ylabel='SalePrice'>"
      ]
     },
     "execution_count": 170,
     "metadata": {},
     "output_type": "execute_result"
    },
    {
     "data": {
      "image/png": "[encoded data removed]",
      "text/plain": [
       "<Figure size 432x288 with 1 Axes>"
      ]
     },
     "metadata": {
      "needs_background": "light"
     },
     "output_type": "display_data"
    }
   ],
   "source": [
    "train.plot(x='LotFrontage',y='SalePrice',kind='scatter',xlim=(0,300))"
   ]
  },
  {
   "cell_type": "code",
   "execution_count": 171,
   "metadata": {
    "hidden": true
   },
   "outputs": [
    {
     "data": {
      "text/plain": [
       "<AxesSubplot:xlabel='LotArea', ylabel='SalePrice'>"
      ]
     },
     "execution_count": 171,
     "metadata": {},
     "output_type": "execute_result"
    },
    {
     "data": {
      "image/png": "[encoded data removed]",
      "text/plain": [
       "<Figure size 432x288 with 1 Axes>"
      ]
     },
     "metadata": {
      "needs_background": "light"
     },
     "output_type": "display_data"
    }
   ],
   "source": [
    "train.plot(x='LotArea',y='SalePrice',kind='scatter')"
   ]
  },
  {
   "cell_type": "code",
   "execution_count": 172,
   "metadata": {
    "hidden": true
   },
   "outputs": [
    {
     "data": {
      "text/plain": [
       "<AxesSubplot:xlabel='LotArea', ylabel='SalePrice'>"
      ]
     },
     "execution_count": 172,
     "metadata": {},
     "output_type": "execute_result"
    },
    {
     "data": {
      "image/png": "[encoded data removed]",
      "text/plain": [
       "<Figure size 432x288 with 1 Axes>"
      ]
     },
     "metadata": {
      "needs_background": "light"
     },
     "output_type": "display_data"
    }
   ],
   "source": [
    "train.plot(x='LotArea',y='SalePrice',kind='scatter', xlim=(0,50000))"
   ]
  },
  {
   "cell_type": "markdown",
   "metadata": {
    "heading_collapsed": true,
    "hidden": true
   },
   "source": [
    "#### 결측치 확인\n",
    "- LotFrontage에 결측치가 꽤 많음\n",
    "- 넓이에 따라서 (넓으면 길이도 길게) 넣어주면 좋을거같음\n",
    "\n",
    "- LotFrontage의 산점도를 보면 이상값이 있음\n",
    "- 이상값을 제외하고 그래프를 그려보기 위해 x값 범위 설정했더니 양의 상관관계가 있는 듯 하지만 강하지 않음.\n",
    "- LotFrontage와 LotArea의 산점도 분포가 매우 유사하다.\n",
    "- 이상값을 어떻게 처리해야 하나?"
   ]
  },
  {
   "cell_type": "code",
   "execution_count": 25,
   "metadata": {
    "ExecuteTime": {
     "end_time": "2021-09-06T06:05:01.535951Z",
     "start_time": "2021-09-06T06:05:01.526945Z"
    },
    "hidden": true
   },
   "outputs": [
    {
     "name": "stdout",
     "output_type": "stream",
     "text": [
      "-- LotFrontage --\n",
      "train : 259\n",
      "test : 227\n",
      "-- LotArea --\n",
      "train : 0\n",
      "test : 0\n"
     ]
    },
    {
     "data": {
      "text/plain": [
       "(None, None)"
      ]
     },
     "execution_count": 25,
     "metadata": {},
     "output_type": "execute_result"
    }
   ],
   "source": [
    "null_check('LotFrontage'), null_check('LotArea')"
   ]
  },
  {
   "cell_type": "markdown",
   "metadata": {
    "hidden": true
   },
   "source": [
    "- 길이 / 넓이 의 비율을 평균내서, 이 비율을 넓이에 곱해줘서 결측치를 채워줄거임.\n",
    "- 다행히도 넓이는 결측이 없어서 ㅎㅎ (다행히?다행이?)"
   ]
  },
  {
   "cell_type": "code",
   "execution_count": 26,
   "metadata": {
    "ExecuteTime": {
     "end_time": "2021-09-06T06:05:02.284742Z",
     "start_time": "2021-09-06T06:05:02.250827Z"
    },
    "hidden": true
   },
   "outputs": [],
   "source": [
    "#Lot_ratio : train/test 데이터의 비율을 다 구해서 평균\n",
    "Lot_ratio = ((train['LotFrontage']/train['LotArea']).mean() + (test['LotFrontage']/test['LotArea']).mean())/2\n",
    "train['LotFrontage'].fillna(train['LotArea']*Lot_ratio, inplace=True)\n",
    "test['LotFrontage'].fillna(test['LotArea']*Lot_ratio, inplace=True) "
   ]
  },
  {
   "cell_type": "code",
   "execution_count": 27,
   "metadata": {
    "ExecuteTime": {
     "end_time": "2021-09-06T06:05:02.776255Z",
     "start_time": "2021-09-06T06:05:02.766279Z"
    },
    "hidden": true
   },
   "outputs": [
    {
     "name": "stdout",
     "output_type": "stream",
     "text": [
      "-- LotFrontage --\n",
      "train : 0\n",
      "test : 0\n"
     ]
    }
   ],
   "source": [
    "null_check('LotFrontage')"
   ]
  },
  {
   "cell_type": "markdown",
   "metadata": {
    "heading_collapsed": true,
    "hidden": true
   },
   "source": [
    "#### 분류\n",
    "- 숫자(길이, 넓이) 데이터니까 일단 그냥 넣기\n",
    "- Normalize에 대한 고민."
   ]
  },
  {
   "cell_type": "code",
   "execution_count": 28,
   "metadata": {
    "ExecuteTime": {
     "end_time": "2021-09-06T06:05:03.941151Z",
     "start_time": "2021-09-06T06:05:03.937161Z"
    },
    "hidden": true
   },
   "outputs": [],
   "source": [
    "feature_raw.append('LotFrontage')\n",
    "feature_raw.append('LotArea')"
   ]
  },
  {
   "cell_type": "markdown",
   "metadata": {
    "heading_collapsed": true,
    "hidden": true
   },
   "source": [
    "### Street / Alley"
   ]
  },
  {
   "cell_type": "markdown",
   "metadata": {
    "hidden": true
   },
   "source": [
    "- 거리, 골목의 유형?"
   ]
  },
  {
   "cell_type": "markdown",
   "metadata": {
    "heading_collapsed": true,
    "hidden": true
   },
   "source": [
    "#### 의견"
   ]
  },
  {
   "cell_type": "markdown",
   "metadata": {
    "hidden": true
   },
   "source": [
    "- Street는 Gravl, Pave를 categorize\n",
    "- Alley는 NA 까지 3개로 categorize?\n",
    "- <span class=\"mark\">그냥 0/1/2를 쓰면 안되는지?</span>\n",
    "\n",
    "- Street는 Gravel 6개밖에 안되서 무의미한 feature 아닌가?\n",
    "- Alley는 pave가 Gravel보다 좋아 보이긴 하다. 그러나 전체 데이터의 90%이상을 차지하는 NA가 Gravel보다 좋은 것 같인 한데 pave와는 우열을 가릴 수 없다.\n",
    "- 그냥 NA가 중간이라 치고 0,1,2 넣는 게 나으려나"
   ]
  },
  {
   "cell_type": "markdown",
   "metadata": {
    "hidden": true
   },
   "source": [
    "#### 데이터 확인\n",
    "- Gravel / Pave / NA(골목이 없음)"
   ]
  },
  {
   "cell_type": "code",
   "execution_count": 29,
   "metadata": {
    "ExecuteTime": {
     "end_time": "2021-09-06T06:05:05.525465Z",
     "start_time": "2021-09-06T06:05:05.507512Z"
    },
    "hidden": true
   },
   "outputs": [
    {
     "name": "stdout",
     "output_type": "stream",
     "text": [
      "----- Street -----\n",
      "---- train ----\n",
      "Pave    1454\n",
      "Grvl       6\n",
      "Name: Street, dtype: int64\n",
      "---- test ----\n",
      "Pave    1453\n",
      "Grvl       6\n",
      "Name: Street, dtype: int64 \n",
      "\n",
      "----- Alley -----\n",
      "---- train ----\n",
      "Grvl    50\n",
      "Pave    41\n",
      "Name: Alley, dtype: int64\n",
      "---- test ----\n",
      "Grvl    70\n",
      "Pave    37\n",
      "Name: Alley, dtype: int64 \n",
      "\n"
     ]
    },
    {
     "data": {
      "text/plain": [
       "(None, None)"
      ]
     },
     "execution_count": 29,
     "metadata": {},
     "output_type": "execute_result"
    }
   ],
   "source": [
    "val_count('Street'), val_count('Alley')"
   ]
  },
  {
   "cell_type": "code",
   "execution_count": 174,
   "metadata": {
    "hidden": true
   },
   "outputs": [
    {
     "name": "stdout",
     "output_type": "stream",
     "text": [
      "Pave : 181130.53851444292\n",
      "Grvl : 130190.5\n"
     ]
    }
   ],
   "source": [
    "avg_price('Street')"
   ]
  },
  {
   "cell_type": "code",
   "execution_count": 176,
   "metadata": {
    "hidden": true
   },
   "outputs": [
    {
     "name": "stdout",
     "output_type": "stream",
     "text": [
      "Pave : 168000.58536585365\n",
      "Grvl : 122219.08\n",
      "NA : 183452.13148283417\n"
     ]
    }
   ],
   "source": [
    "avg_price('Alley')"
   ]
  },
  {
   "cell_type": "code",
   "execution_count": 190,
   "metadata": {
    "hidden": true
   },
   "outputs": [
    {
     "data": {
      "text/plain": [
       "<AxesSubplot:title={'center':'SalePrice'}, xlabel='Alley'>"
      ]
     },
     "execution_count": 190,
     "metadata": {},
     "output_type": "execute_result"
    },
    {
     "data": {
      "image/png": "[encoded data removed]",
      "text/plain": [
       "<Figure size 432x288 with 1 Axes>"
      ]
     },
     "metadata": {
      "needs_background": "light"
     },
     "output_type": "display_data"
    }
   ],
   "source": [
    "train.boxplot(column=['SalePrice'],by='Alley')"
   ]
  },
  {
   "cell_type": "code",
   "execution_count": 199,
   "metadata": {
    "hidden": true
   },
   "outputs": [
    {
     "data": {
      "text/plain": [
       "<AxesSubplot:ylabel='Frequency'>"
      ]
     },
     "execution_count": 199,
     "metadata": {},
     "output_type": "execute_result"
    },
    {
     "data": {
      "image/png": "[encoded data removed]",
      "text/plain": [
       "<Figure size 432x288 with 1 Axes>"
      ]
     },
     "metadata": {
      "needs_background": "light"
     },
     "output_type": "display_data"
    }
   ],
   "source": [
    "# NA값만 분포 확인\n",
    "train[train['Alley']=='NA'].plot(y='SalePrice',kind='hist')"
   ]
  },
  {
   "cell_type": "markdown",
   "metadata": {
    "hidden": true
   },
   "source": [
    "#### 결측치 확인"
   ]
  },
  {
   "cell_type": "markdown",
   "metadata": {
    "hidden": true
   },
   "source": [
    "- Alley에 골목이 없는 경우 null 값이 들어가 있는데, 'NA'로 채워주기"
   ]
  },
  {
   "cell_type": "code",
   "execution_count": 30,
   "metadata": {
    "ExecuteTime": {
     "end_time": "2021-09-06T06:05:06.740100Z",
     "start_time": "2021-09-06T06:05:06.733145Z"
    },
    "hidden": true
   },
   "outputs": [
    {
     "name": "stdout",
     "output_type": "stream",
     "text": [
      "-- Street --\n",
      "train : 0\n",
      "test : 0\n",
      "-- Alley --\n",
      "train : 1369\n",
      "test : 1352\n"
     ]
    },
    {
     "data": {
      "text/plain": [
       "(None, None)"
      ]
     },
     "execution_count": 30,
     "metadata": {},
     "output_type": "execute_result"
    }
   ],
   "source": [
    "null_check('Street'), null_check('Alley')"
   ]
  },
  {
   "cell_type": "code",
   "execution_count": 31,
   "metadata": {
    "ExecuteTime": {
     "end_time": "2021-09-06T06:05:07.250743Z",
     "start_time": "2021-09-06T06:05:07.243763Z"
    },
    "hidden": true
   },
   "outputs": [],
   "source": [
    "train['Alley'].fillna('NA', inplace=True)\n",
    "test['Alley'].fillna('NA', inplace=True)"
   ]
  },
  {
   "cell_type": "code",
   "execution_count": 32,
   "metadata": {
    "ExecuteTime": {
     "end_time": "2021-09-06T06:05:07.799001Z",
     "start_time": "2021-09-06T06:05:07.790025Z"
    },
    "hidden": true
   },
   "outputs": [
    {
     "name": "stdout",
     "output_type": "stream",
     "text": [
      "-- Alley --\n",
      "train : 0\n",
      "test : 0\n"
     ]
    }
   ],
   "source": [
    "null_check('Alley')"
   ]
  },
  {
   "cell_type": "code",
   "execution_count": null,
   "metadata": {
    "hidden": true
   },
   "outputs": [],
   "source": []
  },
  {
   "cell_type": "markdown",
   "metadata": {
    "hidden": true
   },
   "source": [
    "#### 분류\n",
    "- feature_onehot에 추가, 한꺼번에 one-hot encoding"
   ]
  },
  {
   "cell_type": "code",
   "execution_count": 33,
   "metadata": {
    "ExecuteTime": {
     "end_time": "2021-09-06T06:05:09.803072Z",
     "start_time": "2021-09-06T06:05:09.798121Z"
    },
    "hidden": true
   },
   "outputs": [],
   "source": [
    "feature_onehot.append('Street')\n",
    "feature_onehot.append('Alley')"
   ]
  },
  {
   "cell_type": "markdown",
   "metadata": {
    "heading_collapsed": true,
    "hidden": true
   },
   "source": [
    "### LotShape"
   ]
  },
  {
   "cell_type": "markdown",
   "metadata": {
    "hidden": true
   },
   "source": [
    "- General shape of property"
   ]
  },
  {
   "cell_type": "markdown",
   "metadata": {
    "hidden": true
   },
   "source": [
    "#### 의견"
   ]
  },
  {
   "cell_type": "markdown",
   "metadata": {
    "hidden": true
   },
   "source": [
    "- Reg -> IR3 순으로 1,2,3,4 으로 매핑"
   ]
  },
  {
   "cell_type": "markdown",
   "metadata": {
    "hidden": true
   },
   "source": [
    "#### 데이터 확인"
   ]
  },
  {
   "cell_type": "markdown",
   "metadata": {
    "hidden": true
   },
   "source": [
    "- Regular부터, IR의 숫자가 커질수록 안좋은거.\n",
    "- 문자 그대로 의미는 그럴 것 같은데 평균은 3과 4가 뒤집어져있네 왜일까...\n",
    "- 표본이 적어서 그런듯... 4가 10개밖에 없어서 평균이 왜곡됐나보당...\n",
    "- 4는 지워야 하나?"
   ]
  },
  {
   "cell_type": "code",
   "execution_count": 208,
   "metadata": {
    "ExecuteTime": {
     "end_time": "2021-09-06T06:05:12.003565Z",
     "start_time": "2021-09-06T06:05:11.996581Z"
    },
    "hidden": true
   },
   "outputs": [
    {
     "name": "stdout",
     "output_type": "stream",
     "text": [
      "----- LotShape -----\n",
      "---- train ----\n",
      "1    925\n",
      "2    484\n",
      "3     41\n",
      "4     10\n",
      "Name: LotShape, dtype: int64\n",
      "---- test ----\n",
      "1    934\n",
      "2    484\n",
      "3     35\n",
      "4      6\n",
      "Name: LotShape, dtype: int64 \n",
      "\n"
     ]
    }
   ],
   "source": [
    "val_count('LotShape')"
   ]
  },
  {
   "cell_type": "code",
   "execution_count": 209,
   "metadata": {
    "hidden": true,
    "scrolled": true
   },
   "outputs": [
    {
     "data": {
      "image/png": "[encoded data removed]",
      "text/plain": [
       "<Figure size 432x288 with 1 Axes>"
      ]
     },
     "metadata": {
      "needs_background": "light"
     },
     "output_type": "display_data"
    }
   ],
   "source": [
    "price_plot('LotShape')"
   ]
  },
  {
   "cell_type": "code",
   "execution_count": 210,
   "metadata": {
    "hidden": true,
    "scrolled": true
   },
   "outputs": [
    {
     "data": {
      "text/plain": [
       "<AxesSubplot:title={'center':'SalePrice'}, xlabel='LotShape'>"
      ]
     },
     "execution_count": 210,
     "metadata": {},
     "output_type": "execute_result"
    },
    {
     "data": {
      "image/png": "[encoded data removed]",
      "text/plain": [
       "<Figure size 432x288 with 1 Axes>"
      ]
     },
     "metadata": {
      "needs_background": "light"
     },
     "output_type": "display_data"
    }
   ],
   "source": [
    "train.boxplot(column=['SalePrice'],by='LotShape')"
   ]
  },
  {
   "cell_type": "code",
   "execution_count": 212,
   "metadata": {
    "hidden": true
   },
   "outputs": [
    {
     "data": {
      "text/plain": [
       "<AxesSubplot:ylabel='Frequency'>"
      ]
     },
     "execution_count": 212,
     "metadata": {},
     "output_type": "execute_result"
    },
    {
     "data": {
      "image/png": "[encoded data removed]",
      "text/plain": [
       "<Figure size 432x288 with 1 Axes>"
      ]
     },
     "metadata": {
      "needs_background": "light"
     },
     "output_type": "display_data"
    }
   ],
   "source": [
    "train['LotShape'].plot(kind='hist')"
   ]
  },
  {
   "cell_type": "markdown",
   "metadata": {
    "hidden": true
   },
   "source": [
    "#### 결측치 확인\n",
    "- 없음"
   ]
  },
  {
   "cell_type": "markdown",
   "metadata": {
    "hidden": true
   },
   "source": [
    "#### 매핑\n",
    "- Reg -> IR3 을 1->4 순으로 매핑"
   ]
  },
  {
   "cell_type": "code",
   "execution_count": 35,
   "metadata": {
    "ExecuteTime": {
     "end_time": "2021-09-06T06:06:32.305641Z",
     "start_time": "2021-09-06T06:06:32.295701Z"
    },
    "hidden": true
   },
   "outputs": [],
   "source": [
    "map_LotShape = {'Reg':1, 'IR1':2, 'IR2':3, 'IR3':4}\n",
    "train['LotShape'] = train['LotShape'].map(map_LotShape)\n",
    "test['LotShape'] = test['LotShape'].map(map_LotShape)"
   ]
  },
  {
   "cell_type": "code",
   "execution_count": 36,
   "metadata": {
    "ExecuteTime": {
     "end_time": "2021-09-06T06:06:36.593063Z",
     "start_time": "2021-09-06T06:06:36.584088Z"
    },
    "hidden": true
   },
   "outputs": [
    {
     "name": "stdout",
     "output_type": "stream",
     "text": [
      "----- LotShape -----\n",
      "---- train ----\n",
      "1    925\n",
      "2    484\n",
      "3     41\n",
      "4     10\n",
      "Name: LotShape, dtype: int64\n",
      "---- test ----\n",
      "1    934\n",
      "2    484\n",
      "3     35\n",
      "4      6\n",
      "Name: LotShape, dtype: int64 \n",
      "\n"
     ]
    }
   ],
   "source": [
    "val_count('LotShape')"
   ]
  },
  {
   "cell_type": "markdown",
   "metadata": {
    "hidden": true
   },
   "source": [
    "#### 분류\n",
    "- 순서대로 매핑해줬고, feature_map에 추가"
   ]
  },
  {
   "cell_type": "code",
   "execution_count": 37,
   "metadata": {
    "ExecuteTime": {
     "end_time": "2021-09-06T06:07:18.699395Z",
     "start_time": "2021-09-06T06:07:18.695439Z"
    },
    "hidden": true
   },
   "outputs": [],
   "source": [
    "feature_map.append('LotShape')"
   ]
  },
  {
   "cell_type": "markdown",
   "metadata": {
    "heading_collapsed": true,
    "hidden": true
   },
   "source": [
    "### LandContour"
   ]
  },
  {
   "cell_type": "markdown",
   "metadata": {
    "hidden": true
   },
   "source": [
    "- Flatness of the property\n",
    "- 경사도 : 얼마나 평평한지?"
   ]
  },
  {
   "cell_type": "markdown",
   "metadata": {
    "hidden": true
   },
   "source": [
    "#### 의견"
   ]
  },
  {
   "cell_type": "markdown",
   "metadata": {
    "hidden": true
   },
   "source": [
    "- 경사가 낮음 -> 높음 순으로 매핑\n",
    "- Lv1 -> Low -> HLS -> Bnk 순으로 매핑\n",
    "- <span class=\"mark\">여기도 0이 너무 많은데..</span>\n",
    "- 의외로 Hillside가 젤 높고 Bank가 제일 낮네. 데이터가 너무 적어서 왜곡이 있는 건지.. 아님 막 베버리 힐즈? 처럼 적당한 언덕이 부자동네인 건지... 우리나라에도 평창동? 이런데가 약간 산간 인데 고급주택가잖어.. 뭔가 도시를 내려다 볼 수 있어야 비싼 건가? 그렇지만 레알 절벽인 곳은 집값 최하인 거고?"
   ]
  },
  {
   "cell_type": "markdown",
   "metadata": {
    "hidden": true
   },
   "source": [
    "#### 데이터 확인\n",
    "- Lvl : 거의 평지 / Near Flat/Level \n",
    "- Bnk : 경사가 가장 심하다고 봐야하나? / Bank - Quick and Significant rise\n",
    "- HLS : 경사가 꽤 있음 / Hillside - Significant slope\n",
    "- Low : 경사가 낮음 / Depression"
   ]
  },
  {
   "cell_type": "code",
   "execution_count": 38,
   "metadata": {
    "ExecuteTime": {
     "end_time": "2021-09-06T06:15:16.018844Z",
     "start_time": "2021-09-06T06:15:16.008876Z"
    },
    "hidden": true,
    "scrolled": true
   },
   "outputs": [
    {
     "name": "stdout",
     "output_type": "stream",
     "text": [
      "----- LandContour -----\n",
      "---- train ----\n",
      "Lvl    1311\n",
      "Bnk      63\n",
      "HLS      50\n",
      "Low      36\n",
      "Name: LandContour, dtype: int64\n",
      "---- test ----\n",
      "Lvl    1311\n",
      "HLS      70\n",
      "Bnk      54\n",
      "Low      24\n",
      "Name: LandContour, dtype: int64 \n",
      "\n"
     ]
    }
   ],
   "source": [
    "val_count('LandContour')"
   ]
  },
  {
   "cell_type": "code",
   "execution_count": 214,
   "metadata": {
    "hidden": true
   },
   "outputs": [
    {
     "data": {
      "image/png": "[encoded data removed]",
      "text/plain": [
       "<Figure size 432x288 with 1 Axes>"
      ]
     },
     "metadata": {
      "needs_background": "light"
     },
     "output_type": "display_data"
    }
   ],
   "source": [
    "price_plot('LandContour')"
   ]
  },
  {
   "cell_type": "markdown",
   "metadata": {
    "heading_collapsed": true,
    "hidden": true
   },
   "source": [
    "#### 결측치 확인\n",
    "- 없음"
   ]
  },
  {
   "cell_type": "markdown",
   "metadata": {
    "hidden": true
   },
   "source": [
    "#### 매핑"
   ]
  },
  {
   "cell_type": "code",
   "execution_count": 39,
   "metadata": {
    "ExecuteTime": {
     "end_time": "2021-09-06T06:17:55.520178Z",
     "start_time": "2021-09-06T06:17:55.510131Z"
    },
    "hidden": true
   },
   "outputs": [],
   "source": [
    "map_LandContour = {'Lvl':1, 'Low':2, 'HLS':3, 'Bnk':4}\n",
    "train['LandContour'] = train['LandContour'].map(map_LandContour)\n",
    "test['LandContour'] = test['LandContour'].map(map_LandContour)"
   ]
  },
  {
   "cell_type": "code",
   "execution_count": 40,
   "metadata": {
    "ExecuteTime": {
     "end_time": "2021-09-06T06:18:06.078257Z",
     "start_time": "2021-09-06T06:18:06.069281Z"
    },
    "hidden": true
   },
   "outputs": [
    {
     "name": "stdout",
     "output_type": "stream",
     "text": [
      "----- LandContour -----\n",
      "---- train ----\n",
      "1    1311\n",
      "4      63\n",
      "3      50\n",
      "2      36\n",
      "Name: LandContour, dtype: int64\n",
      "---- test ----\n",
      "1    1311\n",
      "3      70\n",
      "4      54\n",
      "2      24\n",
      "Name: LandContour, dtype: int64 \n",
      "\n"
     ]
    }
   ],
   "source": [
    "val_count('LandContour')"
   ]
  },
  {
   "cell_type": "markdown",
   "metadata": {
    "hidden": true
   },
   "source": [
    "#### 분류\n",
    "- 매핑했으므로 feature_map에 추가"
   ]
  },
  {
   "cell_type": "code",
   "execution_count": 41,
   "metadata": {
    "ExecuteTime": {
     "end_time": "2021-09-06T06:19:15.422348Z",
     "start_time": "2021-09-06T06:19:15.419353Z"
    },
    "hidden": true
   },
   "outputs": [],
   "source": [
    "feature_map.append('LandContour')"
   ]
  },
  {
   "cell_type": "markdown",
   "metadata": {
    "heading_collapsed": true,
    "hidden": true
   },
   "source": [
    "### Utilities"
   ]
  },
  {
   "cell_type": "markdown",
   "metadata": {
    "hidden": true
   },
   "source": [
    "#### 의견"
   ]
  },
  {
   "cell_type": "markdown",
   "metadata": {
    "hidden": true
   },
   "source": [
    "train set에서 1개 빼고 모두 AllPub이고  \n",
    "test set에도 결측 2개 제외하고는 모두 AllPub.  \n",
    "-> 제거해도 될지도?\n",
    "\n",
    "- 동의. 1개는 의미 없는 듯."
   ]
  },
  {
   "cell_type": "markdown",
   "metadata": {
    "hidden": true
   },
   "source": [
    "#### 데이터 확인 / 결측치 확인"
   ]
  },
  {
   "cell_type": "markdown",
   "metadata": {
    "hidden": true
   },
   "source": [
    "- AllPub : 다 있음\n",
    "- NoSewr : 전기, 가스, 물\n",
    "- NoSeWa : 전기, 가스\n",
    "- ELO : 전기만 있음"
   ]
  },
  {
   "cell_type": "code",
   "execution_count": 42,
   "metadata": {
    "ExecuteTime": {
     "end_time": "2021-09-06T06:20:48.617034Z",
     "start_time": "2021-09-06T06:20:48.607062Z"
    },
    "hidden": true
   },
   "outputs": [
    {
     "name": "stdout",
     "output_type": "stream",
     "text": [
      "----- Utilities -----\n",
      "---- train ----\n",
      "AllPub    1459\n",
      "NoSeWa       1\n",
      "Name: Utilities, dtype: int64\n",
      "---- test ----\n",
      "AllPub    1457\n",
      "Name: Utilities, dtype: int64 \n",
      "\n"
     ]
    }
   ],
   "source": [
    "val_count('Utilities')"
   ]
  },
  {
   "cell_type": "markdown",
   "metadata": {
    "hidden": true
   },
   "source": [
    "#### 분류\n",
    "- 컬럼을 지워버릴거니까 feature_del에 추가."
   ]
  },
  {
   "cell_type": "code",
   "execution_count": 43,
   "metadata": {
    "ExecuteTime": {
     "end_time": "2021-09-06T06:23:08.171312Z",
     "start_time": "2021-09-06T06:23:08.167972Z"
    },
    "hidden": true
   },
   "outputs": [],
   "source": [
    "feature_del.append('Utilities')"
   ]
  },
  {
   "cell_type": "markdown",
   "metadata": {
    "heading_collapsed": true,
    "hidden": true
   },
   "source": [
    "### !!! LotConfig"
   ]
  },
  {
   "cell_type": "markdown",
   "metadata": {
    "hidden": true
   },
   "source": [
    "- Lot Configuration\n",
    "- Lot(마당/마당+집?)의 구성"
   ]
  },
  {
   "cell_type": "markdown",
   "metadata": {
    "hidden": true
   },
   "source": [
    "#### 의견"
   ]
  },
  {
   "cell_type": "markdown",
   "metadata": {
    "hidden": true
   },
   "source": [
    "- 일단 one-hot encoding\n",
    "- 그래프 그려보기?\n",
    "- FR3는 표본이 너무 적은 거 같고. 나머지는 CulDSac말고는 다 비슷한듯?\n",
    "- CulDSac과 그 외를 0과 1로만 구분하는 것은 어떨런지?"
   ]
  },
  {
   "cell_type": "markdown",
   "metadata": {
    "hidden": true
   },
   "source": [
    "#### 데이터 확인\n",
    "- 대부분 inside"
   ]
  },
  {
   "cell_type": "code",
   "execution_count": 44,
   "metadata": {
    "ExecuteTime": {
     "end_time": "2021-09-06T06:24:01.982758Z",
     "start_time": "2021-09-06T06:24:01.970791Z"
    },
    "hidden": true
   },
   "outputs": [
    {
     "name": "stdout",
     "output_type": "stream",
     "text": [
      "----- LotConfig -----\n",
      "---- train ----\n",
      "Inside     1052\n",
      "Corner      263\n",
      "CulDSac      94\n",
      "FR2          47\n",
      "FR3           4\n",
      "Name: LotConfig, dtype: int64\n",
      "---- test ----\n",
      "Inside     1081\n",
      "Corner      248\n",
      "CulDSac      82\n",
      "FR2          38\n",
      "FR3          10\n",
      "Name: LotConfig, dtype: int64 \n",
      "\n"
     ]
    }
   ],
   "source": [
    "val_count('LotConfig')"
   ]
  },
  {
   "cell_type": "markdown",
   "metadata": {
    "hidden": true
   },
   "source": [
    "- 그래프 그려보기"
   ]
  },
  {
   "cell_type": "code",
   "execution_count": 45,
   "metadata": {
    "ExecuteTime": {
     "end_time": "2021-09-06T06:37:19.158048Z",
     "start_time": "2021-09-06T06:37:19.144827Z"
    },
    "hidden": true,
    "scrolled": true
   },
   "outputs": [
    {
     "name": "stdout",
     "output_type": "stream",
     "text": [
      "FR3 : 208475.0\n",
      "FR2 : 177934.5744680851\n",
      "CulDSac : 223854.6170212766\n",
      "Inside : 176938.0475285171\n",
      "Corner : 181623.4258555133\n"
     ]
    }
   ],
   "source": [
    "avg_price('LotConfig')"
   ]
  },
  {
   "cell_type": "code",
   "execution_count": 215,
   "metadata": {
    "hidden": true
   },
   "outputs": [
    {
     "data": {
      "image/png": "[encoded data removed]",
      "text/plain": [
       "<Figure size 432x288 with 1 Axes>"
      ]
     },
     "metadata": {
      "needs_background": "light"
     },
     "output_type": "display_data"
    }
   ],
   "source": [
    "price_plot('LotConfig')"
   ]
  },
  {
   "cell_type": "markdown",
   "metadata": {
    "hidden": true
   },
   "source": [
    "#### 결측치 확인\n",
    "- 없음"
   ]
  },
  {
   "cell_type": "markdown",
   "metadata": {
    "hidden": true
   },
   "source": [
    "#### 분류"
   ]
  },
  {
   "cell_type": "markdown",
   "metadata": {
    "hidden": true
   },
   "source": [
    "- 추가적으로 고민해보는걸루"
   ]
  },
  {
   "cell_type": "code",
   "execution_count": 46,
   "metadata": {
    "ExecuteTime": {
     "end_time": "2021-09-06T06:39:11.995280Z",
     "start_time": "2021-09-06T06:39:11.991290Z"
    },
    "hidden": true
   },
   "outputs": [],
   "source": [
    "feature_onehot.append('LotConfig')"
   ]
  },
  {
   "cell_type": "markdown",
   "metadata": {
    "heading_collapsed": true,
    "hidden": true
   },
   "source": [
    "### LandSlope"
   ]
  },
  {
   "cell_type": "markdown",
   "metadata": {
    "hidden": true
   },
   "source": [
    "- 경사도\n",
    "- Gentle -> Moderate -> Severe"
   ]
  },
  {
   "cell_type": "markdown",
   "metadata": {
    "hidden": true
   },
   "source": [
    "#### 의견"
   ]
  },
  {
   "cell_type": "markdown",
   "metadata": {
    "ExecuteTime": {
     "end_time": "2021-09-06T06:42:51.534414Z",
     "start_time": "2021-09-06T06:42:51.528430Z"
    },
    "hidden": true
   },
   "source": [
    "- 위에 LandContour랑 차이가 뭔지? / 합치거나 할 수 있을지?\n",
    "- 일단 경사도 순으로 매핑\n",
    "- 여기도 LandContour랑 비슷한 맥락이네. 경사도가 클수록 비싼듯? Sev가 13개 뿐이어서 엄청 유의미하진 않은 거 같지만."
   ]
  },
  {
   "cell_type": "markdown",
   "metadata": {
    "hidden": true
   },
   "source": [
    "#### 데이터 확인"
   ]
  },
  {
   "cell_type": "markdown",
   "metadata": {
    "hidden": true
   },
   "source": [
    "- 대부분 다 젠틀하다고 나옴."
   ]
  },
  {
   "cell_type": "code",
   "execution_count": 47,
   "metadata": {
    "ExecuteTime": {
     "end_time": "2021-09-06T06:40:49.787679Z",
     "start_time": "2021-09-06T06:40:49.779667Z"
    },
    "hidden": true
   },
   "outputs": [
    {
     "name": "stdout",
     "output_type": "stream",
     "text": [
      "----- LandSlope -----\n",
      "---- train ----\n",
      "Gtl    1382\n",
      "Mod      65\n",
      "Sev      13\n",
      "Name: LandSlope, dtype: int64\n",
      "---- test ----\n",
      "Gtl    1396\n",
      "Mod      60\n",
      "Sev       3\n",
      "Name: LandSlope, dtype: int64 \n",
      "\n"
     ]
    }
   ],
   "source": [
    "val_count('LandSlope')"
   ]
  },
  {
   "cell_type": "code",
   "execution_count": 216,
   "metadata": {
    "hidden": true
   },
   "outputs": [
    {
     "data": {
      "image/png": "[encoded data removed]",
      "text/plain": [
       "<Figure size 432x288 with 1 Axes>"
      ]
     },
     "metadata": {
      "needs_background": "light"
     },
     "output_type": "display_data"
    }
   ],
   "source": [
    "price_plot('LandSlope')"
   ]
  },
  {
   "cell_type": "markdown",
   "metadata": {
    "hidden": true
   },
   "source": [
    "#### 결측치 확인\n",
    "- 없음"
   ]
  },
  {
   "cell_type": "code",
   "execution_count": 48,
   "metadata": {
    "ExecuteTime": {
     "end_time": "2021-09-06T06:43:34.209199Z",
     "start_time": "2021-09-06T06:43:34.203217Z"
    },
    "hidden": true
   },
   "outputs": [
    {
     "name": "stdout",
     "output_type": "stream",
     "text": [
      "-- LandSlope --\n",
      "train : 0\n",
      "test : 0\n"
     ]
    }
   ],
   "source": [
    "null_check('LandSlope')"
   ]
  },
  {
   "cell_type": "markdown",
   "metadata": {
    "hidden": true
   },
   "source": [
    "#### 매핑\n",
    "- Gtl -> Mod -> Sev 순으로"
   ]
  },
  {
   "cell_type": "code",
   "execution_count": 49,
   "metadata": {
    "ExecuteTime": {
     "end_time": "2021-09-06T06:46:56.374698Z",
     "start_time": "2021-09-06T06:46:56.365688Z"
    },
    "hidden": true
   },
   "outputs": [],
   "source": [
    "map_LandSlope = {'Gtl':1, 'Mod':2, 'Sev':3}\n",
    "train['LandSlope'] = train['LandSlope'].map(map_LandSlope)\n",
    "test['LandSlope'] = test['LandSlope'].map(map_LandSlope)"
   ]
  },
  {
   "cell_type": "code",
   "execution_count": 50,
   "metadata": {
    "ExecuteTime": {
     "end_time": "2021-09-06T06:47:11.861735Z",
     "start_time": "2021-09-06T06:47:11.853757Z"
    },
    "hidden": true
   },
   "outputs": [
    {
     "name": "stdout",
     "output_type": "stream",
     "text": [
      "----- LandSlope -----\n",
      "---- train ----\n",
      "1    1382\n",
      "2      65\n",
      "3      13\n",
      "Name: LandSlope, dtype: int64\n",
      "---- test ----\n",
      "1    1396\n",
      "2      60\n",
      "3       3\n",
      "Name: LandSlope, dtype: int64 \n",
      "\n"
     ]
    }
   ],
   "source": [
    "val_count('LandSlope')"
   ]
  },
  {
   "cell_type": "markdown",
   "metadata": {
    "hidden": true
   },
   "source": [
    "#### 분류"
   ]
  },
  {
   "cell_type": "code",
   "execution_count": 51,
   "metadata": {
    "ExecuteTime": {
     "end_time": "2021-09-06T06:47:39.210043Z",
     "start_time": "2021-09-06T06:47:39.206090Z"
    },
    "hidden": true
   },
   "outputs": [],
   "source": [
    "feature_map.append('LandSlope')"
   ]
  },
  {
   "cell_type": "markdown",
   "metadata": {
    "heading_collapsed": true,
    "hidden": true
   },
   "source": [
    "### !!! Neighborhood"
   ]
  },
  {
   "cell_type": "markdown",
   "metadata": {
    "hidden": true
   },
   "source": [
    "- 도시 경계? 어디랑 인접해있는지?"
   ]
  },
  {
   "cell_type": "markdown",
   "metadata": {
    "hidden": true
   },
   "source": [
    "#### 의견"
   ]
  },
  {
   "cell_type": "markdown",
   "metadata": {
    "hidden": true
   },
   "source": [
    "- 모르겠다 근데 one-hot을 하기에도 종류가 너무 많은거 아닌가?\n",
    "- 원핫 하기엔 너무 많긴 하다. 아예 그룹바이 평균 집값을 넣어버리는 건 해괴한 짓인가?"
   ]
  },
  {
   "cell_type": "markdown",
   "metadata": {
    "hidden": true
   },
   "source": [
    "#### 데이터 확인"
   ]
  },
  {
   "cell_type": "markdown",
   "metadata": {
    "hidden": true
   },
   "source": [
    "그래프 그려보기"
   ]
  },
  {
   "cell_type": "code",
   "execution_count": 52,
   "metadata": {
    "ExecuteTime": {
     "end_time": "2021-09-06T06:53:07.464238Z",
     "start_time": "2021-09-06T06:53:07.454266Z"
    },
    "hidden": true
   },
   "outputs": [
    {
     "name": "stdout",
     "output_type": "stream",
     "text": [
      "----- Neighborhood -----\n",
      "---- train ----\n",
      "NAmes      225\n",
      "CollgCr    150\n",
      "OldTown    113\n",
      "Edwards    100\n",
      "Somerst     86\n",
      "Gilbert     79\n",
      "NridgHt     77\n",
      "Sawyer      74\n",
      "NWAmes      73\n",
      "SawyerW     59\n",
      "BrkSide     58\n",
      "Crawfor     51\n",
      "Mitchel     49\n",
      "NoRidge     41\n",
      "Timber      38\n",
      "IDOTRR      37\n",
      "ClearCr     28\n",
      "StoneBr     25\n",
      "SWISU       25\n",
      "MeadowV     17\n",
      "Blmngtn     17\n",
      "BrDale      16\n",
      "Veenker     11\n",
      "NPkVill      9\n",
      "Blueste      2\n",
      "Name: Neighborhood, dtype: int64\n",
      "---- test ----\n",
      "NAmes      218\n",
      "OldTown    126\n",
      "CollgCr    117\n",
      "Somerst     96\n",
      "Edwards     94\n",
      "NridgHt     89\n",
      "Gilbert     86\n",
      "Sawyer      77\n",
      "SawyerW     66\n",
      "Mitchel     65\n",
      "NWAmes      58\n",
      "IDOTRR      56\n",
      "Crawfor     52\n",
      "BrkSide     50\n",
      "Timber      34\n",
      "NoRidge     30\n",
      "StoneBr     26\n",
      "SWISU       23\n",
      "MeadowV     20\n",
      "ClearCr     16\n",
      "NPkVill     14\n",
      "BrDale      14\n",
      "Veenker     13\n",
      "Blmngtn     11\n",
      "Blueste      8\n",
      "Name: Neighborhood, dtype: int64 \n",
      "\n"
     ]
    }
   ],
   "source": [
    "val_count('Neighborhood')"
   ]
  },
  {
   "cell_type": "code",
   "execution_count": 219,
   "metadata": {
    "ExecuteTime": {
     "end_time": "2021-09-06T06:53:54.608795Z",
     "start_time": "2021-09-06T06:53:54.572306Z"
    },
    "hidden": true,
    "scrolled": true
   },
   "outputs": [
    {
     "name": "stdout",
     "output_type": "stream",
     "text": [
      "CollgCr : 197965.77333333335\n",
      "Blmngtn : 194870.88235294117\n",
      "ClearCr : 212565.42857142858\n",
      "Mitchel : 156270.1224489796\n",
      "IDOTRR : 100123.78378378379\n",
      "Sawyer : 136793.13513513515\n",
      "MeadowV : 98576.4705882353\n",
      "NoRidge : 335295.31707317074\n",
      "OldTown : 128225.30088495575\n",
      "NPkVill : 142694.44444444444\n",
      "Gilbert : 192854.50632911394\n",
      "NAmes : 145847.08\n",
      "BrkSide : 124834.05172413793\n",
      "Blueste : 137500.0\n",
      "Timber : 242247.44736842104\n",
      "NWAmes : 189050.0684931507\n",
      "Edwards : 128219.7\n",
      "StoneBr : 310499.0\n",
      "SWISU : 142591.36\n",
      "Veenker : 238772.72727272726\n",
      "Crawfor : 210624.72549019608\n",
      "NridgHt : 316270.6233766234\n",
      "Somerst : 225379.83720930232\n",
      "SawyerW : 186555.7966101695\n",
      "BrDale : 104493.75\n"
     ]
    }
   ],
   "source": [
    "avg_price('Neighborhood')"
   ]
  },
  {
   "cell_type": "code",
   "execution_count": 230,
   "metadata": {
    "hidden": true
   },
   "outputs": [
    {
     "data": {
      "text/plain": [
       "<AxesSubplot:xlabel='Neighborhood'>"
      ]
     },
     "execution_count": 230,
     "metadata": {},
     "output_type": "execute_result"
    },
    {
     "data": {
      "image/png": "[encoded data removed]",
      "text/plain": [
       "<Figure size 432x288 with 1 Axes>"
      ]
     },
     "metadata": {
      "needs_background": "light"
     },
     "output_type": "display_data"
    }
   ],
   "source": [
    "Nei=pd.DataFrame(train.groupby('Neighborhood').mean()['SalePrice']).sort_values(by=['SalePrice'])\n",
    "Nei.plot()"
   ]
  },
  {
   "cell_type": "markdown",
   "metadata": {
    "hidden": true
   },
   "source": [
    "#### 결측치 확인\n",
    "- 없음"
   ]
  },
  {
   "cell_type": "markdown",
   "metadata": {
    "hidden": true
   },
   "source": [
    "#### 분류\n",
    "- 그냥 one-hot을 해버리기에 값들이 너무 다양한데, 고민해보기"
   ]
  },
  {
   "cell_type": "code",
   "execution_count": 54,
   "metadata": {
    "ExecuteTime": {
     "end_time": "2021-09-06T07:20:21.721190Z",
     "start_time": "2021-09-06T07:20:21.719194Z"
    },
    "hidden": true
   },
   "outputs": [],
   "source": [
    "feature_extra.append('Neighborhood')"
   ]
  },
  {
   "cell_type": "markdown",
   "metadata": {
    "heading_collapsed": true,
    "hidden": true
   },
   "source": [
    "### !!! Condition1/2"
   ]
  },
  {
   "cell_type": "markdown",
   "metadata": {
    "hidden": true
   },
   "source": [
    "- Condition\n",
    "- 그린벨트여부, 주변에 철도 여부 등등"
   ]
  },
  {
   "cell_type": "markdown",
   "metadata": {
    "hidden": true
   },
   "source": [
    "#### 의견"
   ]
  },
  {
   "cell_type": "markdown",
   "metadata": {
    "hidden": true
   },
   "source": [
    "- 1과 2를 합치는건 좋아 보이는데.\n",
    "- 근데 단순 컨디션 갯수로 판단하는게 괜찮을까?\n",
    "- one-hot을 해도 적합할까?\n",
    "- 같은 값들로 이루어진 열들이라 원핫으로 처리해도 괜찮을듯.\n",
    "- Condition1,2를 다 해도 값이 10개 미만인 RRNe, RRNn, PosA는 제거하고 원핫 돌리는 건 어떤지."
   ]
  },
  {
   "cell_type": "markdown",
   "metadata": {
    "hidden": true
   },
   "source": [
    "#### 데이터 확인"
   ]
  },
  {
   "cell_type": "markdown",
   "metadata": {
    "hidden": true
   },
   "source": [
    "- 대부분 노말임."
   ]
  },
  {
   "cell_type": "code",
   "execution_count": 55,
   "metadata": {
    "ExecuteTime": {
     "end_time": "2021-09-06T07:23:34.033954Z",
     "start_time": "2021-09-06T07:23:34.025501Z"
    },
    "hidden": true,
    "scrolled": true
   },
   "outputs": [
    {
     "name": "stdout",
     "output_type": "stream",
     "text": [
      "----- Condition1 -----\n",
      "---- train ----\n",
      "Norm      1260\n",
      "Feedr       81\n",
      "Artery      48\n",
      "RRAn        26\n",
      "PosN        19\n",
      "RRAe        11\n",
      "PosA         8\n",
      "RRNn         5\n",
      "RRNe         2\n",
      "Name: Condition1, dtype: int64\n",
      "---- test ----\n",
      "Norm      1251\n",
      "Feedr       83\n",
      "Artery      44\n",
      "RRAn        24\n",
      "PosN        20\n",
      "RRAe        17\n",
      "PosA        12\n",
      "RRNe         4\n",
      "RRNn         4\n",
      "Name: Condition1, dtype: int64 \n",
      "\n"
     ]
    }
   ],
   "source": [
    "val_count('Condition1')"
   ]
  },
  {
   "cell_type": "code",
   "execution_count": 231,
   "metadata": {
    "hidden": true,
    "scrolled": true
   },
   "outputs": [
    {
     "name": "stdout",
     "output_type": "stream",
     "text": [
      "----- Condition2 -----\n",
      "---- train ----\n",
      "Norm      1445\n",
      "Feedr        6\n",
      "PosN         2\n",
      "RRNn         2\n",
      "Artery       2\n",
      "RRAe         1\n",
      "RRAn         1\n",
      "PosA         1\n",
      "Name: Condition2, dtype: int64\n",
      "---- test ----\n",
      "Norm      1444\n",
      "Feedr        7\n",
      "Artery       3\n",
      "PosA         3\n",
      "PosN         2\n",
      "Name: Condition2, dtype: int64 \n",
      "\n"
     ]
    }
   ],
   "source": [
    "val_count('Condition2')"
   ]
  },
  {
   "cell_type": "markdown",
   "metadata": {
    "hidden": true
   },
   "source": [
    "- norm보다 싼거도 있네  \n",
    "- 옵션이 있다고 무조건 좋은게 아닌가봄..  \n",
    "- 그러면 컨디션 개수로 묶는건 진짜 아닌거같은뎅..\n",
    "- Condition2의 데이터가 너무 적어서 왜곡이 생긴 걸 수도...\n",
    "- Condition1으로 체크해보니 더 완곡해졌어"
   ]
  },
  {
   "cell_type": "code",
   "execution_count": 56,
   "metadata": {
    "ExecuteTime": {
     "end_time": "2021-09-06T07:26:32.104034Z",
     "start_time": "2021-09-06T07:26:32.093066Z"
    },
    "hidden": true
   },
   "outputs": [
    {
     "name": "stdout",
     "output_type": "stream",
     "text": [
      "Feedr : 121166.66666666667\n",
      "PosN : 284875.0\n",
      "RRAe : 190000.0\n",
      "RRAn : 136905.0\n",
      "RRNn : 96750.0\n",
      "Norm : 181169.40553633217\n",
      "Artery : 106500.0\n",
      "PosA : 325000.0\n"
     ]
    }
   ],
   "source": [
    "avg_price('Condition2')"
   ]
  },
  {
   "cell_type": "code",
   "execution_count": 245,
   "metadata": {
    "hidden": true
   },
   "outputs": [
    {
     "data": {
      "image/png": "[encoded data removed]",
      "text/plain": [
       "<Figure size 432x288 with 1 Axes>"
      ]
     },
     "metadata": {
      "needs_background": "light"
     },
     "output_type": "display_data"
    }
   ],
   "source": [
    "price_plot('Condition2')\n",
    "price_plot('Condition1')\n",
    "# 노란 선이 Condition1"
   ]
  },
  {
   "cell_type": "code",
   "execution_count": 57,
   "metadata": {
    "ExecuteTime": {
     "end_time": "2021-09-06T07:24:45.985757Z",
     "start_time": "2021-09-06T07:24:45.978680Z"
    },
    "hidden": true
   },
   "outputs": [
    {
     "data": {
      "text/plain": [
       "9       Artery\n",
       "29       Feedr\n",
       "63        RRAn\n",
       "88       Feedr\n",
       "184       RRAn\n",
       "523       PosN\n",
       "531       RRNn\n",
       "548      Feedr\n",
       "583     Artery\n",
       "589       RRAn\n",
       "825       PosN\n",
       "974       RRAn\n",
       "1003     Feedr\n",
       "1186    Artery\n",
       "1230     Feedr\n",
       "Name: Condition1, dtype: object"
      ]
     },
     "execution_count": 57,
     "metadata": {},
     "output_type": "execute_result"
    }
   ],
   "source": [
    "# 컨디션 2가 Norm이 아닌데, 컨디션 1이 Norm인 경우는 없음.\n",
    "train['Condition1'][train['Condition2']!='Norm']"
   ]
  },
  {
   "cell_type": "markdown",
   "metadata": {
    "heading_collapsed": true,
    "hidden": true
   },
   "source": [
    "#### 결측치 확인\n",
    "- 없음~"
   ]
  },
  {
   "cell_type": "markdown",
   "metadata": {
    "hidden": true
   },
   "source": [
    "#### 분류"
   ]
  },
  {
   "cell_type": "code",
   "execution_count": 58,
   "metadata": {
    "ExecuteTime": {
     "end_time": "2021-09-06T07:28:11.635030Z",
     "start_time": "2021-09-06T07:28:11.632046Z"
    },
    "hidden": true
   },
   "outputs": [],
   "source": [
    "feature_extra.append('Condition1')\n",
    "feature_extra.append('Condition2')"
   ]
  },
  {
   "cell_type": "markdown",
   "metadata": {
    "heading_collapsed": true,
    "hidden": true
   },
   "source": [
    "### BldgType"
   ]
  },
  {
   "cell_type": "markdown",
   "metadata": {
    "hidden": true
   },
   "source": [
    "- 주거 형태 \n",
    "- 1Fam : 독채\n",
    "- 2FmCon : 독채에 두 가구 거주\n",
    "- Duplx : Duplex(이중?)\n",
    "- TwnhsE : Townhouse End unit\n",
    "- Twnhs(I) : Townhouse Inside unit\n",
    "    - 설명 문서엔 TwnhsI 였는데 실제 값은 Twnhs 가 들어가있음"
   ]
  },
  {
   "cell_type": "markdown",
   "metadata": {
    "hidden": true
   },
   "source": [
    "#### 의견"
   ]
  },
  {
   "cell_type": "markdown",
   "metadata": {
    "hidden": true
   },
   "source": [
    "- 2fmCon < Duplex <= Twnhs <<<< TwnhsE <= 1Fam\n",
    "- 근데 순서가 약간 애매함. 생각했던거랑 실제 가격이랑\n",
    "- 애매하니까 one-hot 가자"
   ]
  },
  {
   "cell_type": "markdown",
   "metadata": {
    "heading_collapsed": true,
    "hidden": true
   },
   "source": [
    "#### 데이터 확인"
   ]
  },
  {
   "cell_type": "code",
   "execution_count": 59,
   "metadata": {
    "ExecuteTime": {
     "end_time": "2021-09-06T07:29:11.511947Z",
     "start_time": "2021-09-06T07:29:11.502929Z"
    },
    "hidden": true
   },
   "outputs": [
    {
     "name": "stdout",
     "output_type": "stream",
     "text": [
      "----- BldgType -----\n",
      "---- train ----\n",
      "1Fam      1220\n",
      "TwnhsE     114\n",
      "Duplex      52\n",
      "Twnhs       43\n",
      "2fmCon      31\n",
      "Name: BldgType, dtype: int64\n",
      "---- test ----\n",
      "1Fam      1205\n",
      "TwnhsE     113\n",
      "Duplex      57\n",
      "Twnhs       53\n",
      "2fmCon      31\n",
      "Name: BldgType, dtype: int64 \n",
      "\n"
     ]
    }
   ],
   "source": [
    "val_count('BldgType')"
   ]
  },
  {
   "cell_type": "markdown",
   "metadata": {
    "heading_collapsed": true,
    "hidden": true
   },
   "source": [
    "#### 결측치 확인\n",
    "- 없다!"
   ]
  },
  {
   "cell_type": "markdown",
   "metadata": {
    "hidden": true
   },
   "source": [
    "#### 분류"
   ]
  },
  {
   "cell_type": "code",
   "execution_count": 60,
   "metadata": {
    "ExecuteTime": {
     "end_time": "2021-09-06T07:45:26.850555Z",
     "start_time": "2021-09-06T07:45:26.846567Z"
    },
    "hidden": true
   },
   "outputs": [],
   "source": [
    "feature_onehot.append('BldgType')"
   ]
  },
  {
   "cell_type": "markdown",
   "metadata": {
    "heading_collapsed": true,
    "hidden": true
   },
   "source": [
    "### HouseStyle"
   ]
  },
  {
   "cell_type": "markdown",
   "metadata": {
    "hidden": true
   },
   "source": [
    "- 주거 스타일"
   ]
  },
  {
   "cell_type": "markdown",
   "metadata": {
    "hidden": true
   },
   "source": [
    "#### 의견"
   ]
  },
  {
   "cell_type": "markdown",
   "metadata": {
    "hidden": true
   },
   "source": [
    "- one-hot 하자"
   ]
  },
  {
   "cell_type": "markdown",
   "metadata": {
    "hidden": true
   },
   "source": [
    "#### 데이터 확인"
   ]
  },
  {
   "cell_type": "code",
   "execution_count": 61,
   "metadata": {
    "ExecuteTime": {
     "end_time": "2021-09-06T07:46:27.128711Z",
     "start_time": "2021-09-06T07:46:27.118139Z"
    },
    "hidden": true
   },
   "outputs": [
    {
     "name": "stdout",
     "output_type": "stream",
     "text": [
      "----- HouseStyle -----\n",
      "---- train ----\n",
      "1Story    726\n",
      "2Story    445\n",
      "1.5Fin    154\n",
      "SLvl       65\n",
      "SFoyer     37\n",
      "1.5Unf     14\n",
      "2.5Unf     11\n",
      "2.5Fin      8\n",
      "Name: HouseStyle, dtype: int64\n",
      "---- test ----\n",
      "1Story    745\n",
      "2Story    427\n",
      "1.5Fin    160\n",
      "SLvl       63\n",
      "SFoyer     46\n",
      "2.5Unf     13\n",
      "1.5Unf      5\n",
      "Name: HouseStyle, dtype: int64 \n",
      "\n"
     ]
    }
   ],
   "source": [
    "val_count('HouseStyle')"
   ]
  },
  {
   "cell_type": "code",
   "execution_count": 62,
   "metadata": {
    "ExecuteTime": {
     "end_time": "2021-09-06T07:46:48.144859Z",
     "start_time": "2021-09-06T07:46:48.127918Z"
    },
    "hidden": true
   },
   "outputs": [
    {
     "name": "stdout",
     "output_type": "stream",
     "text": [
      "SFoyer : 135074.48648648648\n",
      "2Story : 210051.76404494382\n",
      "SLvl : 166703.38461538462\n",
      "2.5Unf : 157354.54545454544\n",
      "2.5Fin : 220000.0\n",
      "1Story : 175985.4779614325\n",
      "1.5Fin : 143116.74025974027\n",
      "1.5Unf : 110150.0\n"
     ]
    }
   ],
   "source": [
    "avg_price('HouseStyle')"
   ]
  },
  {
   "cell_type": "markdown",
   "metadata": {
    "hidden": true
   },
   "source": [
    "#### 결측치 확인\n",
    "- 없음!"
   ]
  },
  {
   "cell_type": "markdown",
   "metadata": {
    "hidden": true
   },
   "source": [
    "#### 분류"
   ]
  },
  {
   "cell_type": "code",
   "execution_count": 63,
   "metadata": {
    "ExecuteTime": {
     "end_time": "2021-09-06T07:52:43.173983Z",
     "start_time": "2021-09-06T07:52:43.169992Z"
    },
    "hidden": true
   },
   "outputs": [],
   "source": [
    "feature_onehot.append('HouseStyle')"
   ]
  },
  {
   "cell_type": "markdown",
   "metadata": {
    "heading_collapsed": true,
    "hidden": true
   },
   "source": [
    "### OverallQual / OverallCond"
   ]
  },
  {
   "cell_type": "markdown",
   "metadata": {
    "hidden": true
   },
   "source": [
    "- 전체적인 퀄리티, 컨디션을 평가한 지표"
   ]
  },
  {
   "cell_type": "markdown",
   "metadata": {
    "hidden": true
   },
   "source": [
    "#### 의견"
   ]
  },
  {
   "cell_type": "markdown",
   "metadata": {
    "hidden": true
   },
   "source": [
    "- 그냥 숫자라서 그대로 넣으면 될 듯하긴 함\n",
    "- 상관계수가 엄청 높음."
   ]
  },
  {
   "cell_type": "markdown",
   "metadata": {
    "hidden": true
   },
   "source": [
    "#### 데이터 확인"
   ]
  },
  {
   "cell_type": "code",
   "execution_count": 64,
   "metadata": {
    "ExecuteTime": {
     "end_time": "2021-09-06T07:56:11.142619Z",
     "start_time": "2021-09-06T07:56:11.129059Z"
    },
    "hidden": true
   },
   "outputs": [
    {
     "name": "stdout",
     "output_type": "stream",
     "text": [
      "----- OverallQual -----\n",
      "---- train ----\n",
      "5     397\n",
      "6     374\n",
      "7     319\n",
      "8     168\n",
      "4     116\n",
      "9      43\n",
      "3      20\n",
      "10     18\n",
      "2       3\n",
      "1       2\n",
      "Name: OverallQual, dtype: int64\n",
      "---- test ----\n",
      "5     428\n",
      "6     357\n",
      "7     281\n",
      "8     174\n",
      "4     110\n",
      "9      64\n",
      "3      20\n",
      "10     13\n",
      "2      10\n",
      "1       2\n",
      "Name: OverallQual, dtype: int64 \n",
      "\n",
      "----- OverallCond -----\n",
      "---- train ----\n",
      "5    821\n",
      "6    252\n",
      "7    205\n",
      "8     72\n",
      "4     57\n",
      "3     25\n",
      "9     22\n",
      "2      5\n",
      "1      1\n",
      "Name: OverallCond, dtype: int64\n",
      "---- test ----\n",
      "5    824\n",
      "6    279\n",
      "7    185\n",
      "8     72\n",
      "4     44\n",
      "3     25\n",
      "9     19\n",
      "1      6\n",
      "2      5\n",
      "Name: OverallCond, dtype: int64 \n",
      "\n"
     ]
    },
    {
     "data": {
      "text/plain": [
       "(None, None)"
      ]
     },
     "execution_count": 64,
     "metadata": {},
     "output_type": "execute_result"
    }
   ],
   "source": [
    "val_count('OverallQual'), val_count('OverallCond')"
   ]
  },
  {
   "cell_type": "code",
   "execution_count": 65,
   "metadata": {
    "hidden": true
   },
   "outputs": [
    {
     "data": {
      "text/plain": [
       "array([[1.       , 0.7909816],\n",
       "       [0.7909816, 1.       ]])"
      ]
     },
     "execution_count": 65,
     "metadata": {},
     "output_type": "execute_result"
    }
   ],
   "source": [
    "np.corrcoef(train['OverallQual'], train['SalePrice'])"
   ]
  },
  {
   "cell_type": "markdown",
   "metadata": {
    "heading_collapsed": true,
    "hidden": true
   },
   "source": [
    "#### 결측치 확인\n",
    "- 없음!"
   ]
  },
  {
   "cell_type": "markdown",
   "metadata": {
    "hidden": true
   },
   "source": [
    "#### 분류\n",
    "- discrete한 값이니까"
   ]
  },
  {
   "cell_type": "code",
   "execution_count": 66,
   "metadata": {
    "ExecuteTime": {
     "end_time": "2021-09-06T08:07:08.003233Z",
     "start_time": "2021-09-06T08:07:07.999243Z"
    },
    "hidden": true
   },
   "outputs": [],
   "source": [
    "feature_dis.append('OverallQual')\n",
    "feature_dis.append('OverallCond')"
   ]
  },
  {
   "cell_type": "markdown",
   "metadata": {
    "heading_collapsed": true,
    "hidden": true
   },
   "source": [
    "### YearBuilt / YearRemodAdd"
   ]
  },
  {
   "cell_type": "markdown",
   "metadata": {
    "hidden": true
   },
   "source": [
    "- 지어진 년도 / 리모델링한 년도"
   ]
  },
  {
   "cell_type": "markdown",
   "metadata": {
    "hidden": true
   },
   "source": [
    "#### 의견"
   ]
  },
  {
   "cell_type": "markdown",
   "metadata": {
    "hidden": true
   },
   "source": [
    "- 같은 년도에 공사를 했어도, 새 건물이 리모델링한 건물보다 좋겠지?\n",
    "- 일단 각각 넣고 두 feature를 합칠 방법이 있을지?\n",
    "- normalize : 1872를 빼주자"
   ]
  },
  {
   "cell_type": "markdown",
   "metadata": {
    "hidden": true
   },
   "source": [
    "#### 데이터 확인"
   ]
  },
  {
   "cell_type": "code",
   "execution_count": 67,
   "metadata": {
    "ExecuteTime": {
     "end_time": "2021-09-06T08:13:14.786137Z",
     "start_time": "2021-09-06T08:13:14.778753Z"
    },
    "hidden": true
   },
   "outputs": [
    {
     "data": {
      "text/plain": [
       "1872"
      ]
     },
     "execution_count": 67,
     "metadata": {},
     "output_type": "execute_result"
    }
   ],
   "source": [
    "# 가장 오래전에 지어진 건물의 년도 출력\n",
    "min(val_list(train, 'YearBuilt')[0], val_list(test, 'YearBuilt')[0])"
   ]
  },
  {
   "cell_type": "markdown",
   "metadata": {
    "hidden": true
   },
   "source": [
    "#### 결측치 확인\n",
    "- 없음!"
   ]
  },
  {
   "cell_type": "markdown",
   "metadata": {
    "hidden": true
   },
   "source": [
    "#### Normalize"
   ]
  },
  {
   "cell_type": "markdown",
   "metadata": {
    "hidden": true
   },
   "source": [
    "- 가장 오래된 년도인 1872년 빼주자"
   ]
  },
  {
   "cell_type": "code",
   "execution_count": 68,
   "metadata": {
    "ExecuteTime": {
     "end_time": "2021-09-06T08:19:00.204835Z",
     "start_time": "2021-09-06T08:19:00.197804Z"
    },
    "hidden": true
   },
   "outputs": [],
   "source": [
    "train['YearBuilt'] -= 1872\n",
    "test['YearBuilt'] -= 1872\n",
    "train['YearRemodAdd'] -= 1872\n",
    "test['YearRemodAdd'] -= 1872"
   ]
  },
  {
   "cell_type": "code",
   "execution_count": 69,
   "metadata": {
    "ExecuteTime": {
     "end_time": "2021-09-06T08:19:32.704336Z",
     "start_time": "2021-09-06T08:19:32.698326Z"
    },
    "hidden": true
   },
   "outputs": [
    {
     "data": {
      "text/plain": [
       "0    131\n",
       "1    104\n",
       "2    129\n",
       "3     43\n",
       "4    128\n",
       "Name: YearBuilt, dtype: int64"
      ]
     },
     "execution_count": 69,
     "metadata": {},
     "output_type": "execute_result"
    }
   ],
   "source": [
    "train['YearBuilt'].head()"
   ]
  },
  {
   "cell_type": "markdown",
   "metadata": {
    "hidden": true
   },
   "source": [
    "#### 분류\n",
    "- discrete"
   ]
  },
  {
   "cell_type": "code",
   "execution_count": 70,
   "metadata": {
    "ExecuteTime": {
     "end_time": "2021-09-06T08:21:41.929871Z",
     "start_time": "2021-09-06T08:21:41.924922Z"
    },
    "hidden": true
   },
   "outputs": [],
   "source": [
    "feature_dis.append('YearBuilt')\n",
    "feature_dis.append('YearRemodAdd')"
   ]
  },
  {
   "cell_type": "markdown",
   "metadata": {
    "heading_collapsed": true,
    "hidden": true
   },
   "source": [
    "### RoofStyle / RoofMatl"
   ]
  },
  {
   "cell_type": "markdown",
   "metadata": {
    "hidden": true
   },
   "source": [
    "- 지붕 스타일, 재질"
   ]
  },
  {
   "cell_type": "markdown",
   "metadata": {
    "hidden": true
   },
   "source": [
    "#### 의견"
   ]
  },
  {
   "cell_type": "markdown",
   "metadata": {
    "hidden": true
   },
   "source": [
    "- one-hot.\n",
    "- 근데 특정 값만 엄청 많은데 one-hot을 하면 0에 가까운 열들이 생기는 문제?\n",
    "- 그래프 그려보기ㅣ"
   ]
  },
  {
   "cell_type": "markdown",
   "metadata": {
    "hidden": true
   },
   "source": [
    "#### 데이터 확인"
   ]
  },
  {
   "cell_type": "markdown",
   "metadata": {
    "hidden": true
   },
   "source": [
    "거의 다 Gable / CompShg 임."
   ]
  },
  {
   "cell_type": "code",
   "execution_count": 71,
   "metadata": {
    "ExecuteTime": {
     "end_time": "2021-09-06T08:25:54.111334Z",
     "start_time": "2021-09-06T08:25:54.099306Z"
    },
    "hidden": true
   },
   "outputs": [
    {
     "name": "stdout",
     "output_type": "stream",
     "text": [
      "----- RoofStyle -----\n",
      "---- train ----\n",
      "Gable      1141\n",
      "Hip         286\n",
      "Flat         13\n",
      "Gambrel      11\n",
      "Mansard       7\n",
      "Shed          2\n",
      "Name: RoofStyle, dtype: int64\n",
      "---- test ----\n",
      "Gable      1169\n",
      "Hip         265\n",
      "Gambrel      11\n",
      "Flat          7\n",
      "Mansard       4\n",
      "Shed          3\n",
      "Name: RoofStyle, dtype: int64 \n",
      "\n",
      "----- RoofMatl -----\n",
      "---- train ----\n",
      "CompShg    1434\n",
      "Tar&Grv      11\n",
      "WdShngl       6\n",
      "WdShake       5\n",
      "Roll          1\n",
      "Metal         1\n",
      "Membran       1\n",
      "ClyTile       1\n",
      "Name: RoofMatl, dtype: int64\n",
      "---- test ----\n",
      "CompShg    1442\n",
      "Tar&Grv      12\n",
      "WdShake       4\n",
      "WdShngl       1\n",
      "Name: RoofMatl, dtype: int64 \n",
      "\n"
     ]
    },
    {
     "data": {
      "text/plain": [
       "(None, None)"
      ]
     },
     "execution_count": 71,
     "metadata": {},
     "output_type": "execute_result"
    }
   ],
   "source": [
    "val_count('RoofStyle'), val_count('RoofMatl')"
   ]
  },
  {
   "cell_type": "markdown",
   "metadata": {
    "hidden": true
   },
   "source": [
    "#### 결측치 확인\n",
    "- 없음!"
   ]
  },
  {
   "cell_type": "markdown",
   "metadata": {
    "hidden": true
   },
   "source": [
    "#### 분류"
   ]
  },
  {
   "cell_type": "code",
   "execution_count": 72,
   "metadata": {
    "ExecuteTime": {
     "end_time": "2021-09-06T08:39:11.378783Z",
     "start_time": "2021-09-06T08:39:11.373800Z"
    },
    "hidden": true
   },
   "outputs": [],
   "source": [
    "feature_onehot.append('RoofStyle')\n",
    "feature_onehot.append('RoofMatl')"
   ]
  },
  {
   "cell_type": "markdown",
   "metadata": {
    "heading_collapsed": true,
    "hidden": true
   },
   "source": [
    "### Exterior1st / Exterior2nd"
   ]
  },
  {
   "cell_type": "markdown",
   "metadata": {
    "hidden": true
   },
   "source": [
    "- 집 외부를 뭐로 덮고 있는지?"
   ]
  },
  {
   "cell_type": "markdown",
   "metadata": {
    "hidden": true
   },
   "source": [
    "#### 의견"
   ]
  },
  {
   "cell_type": "markdown",
   "metadata": {
    "hidden": true
   },
   "source": [
    "- one-hot으로 보내고 싶긴한데\n",
    "- 값이 1개인 친구들도 one-hot을 하는게 맞나?\n",
    "- 그리고 이거도 합칠 수 있을듯."
   ]
  },
  {
   "cell_type": "markdown",
   "metadata": {
    "hidden": true
   },
   "source": [
    "#### 데이터 확인"
   ]
  },
  {
   "cell_type": "code",
   "execution_count": 73,
   "metadata": {
    "hidden": true
   },
   "outputs": [
    {
     "name": "stdout",
     "output_type": "stream",
     "text": [
      "----- Exterior1st -----\n",
      "---- train ----\n",
      "VinylSd    515\n",
      "HdBoard    222\n",
      "MetalSd    220\n",
      "Wd Sdng    206\n",
      "Plywood    108\n",
      "CemntBd     61\n",
      "BrkFace     50\n",
      "WdShing     26\n",
      "Stucco      25\n",
      "AsbShng     20\n",
      "BrkComm      2\n",
      "Stone        2\n",
      "CBlock       1\n",
      "AsphShn      1\n",
      "ImStucc      1\n",
      "Name: Exterior1st, dtype: int64\n",
      "---- test ----\n",
      "VinylSd    510\n",
      "MetalSd    230\n",
      "HdBoard    220\n",
      "Wd Sdng    205\n",
      "Plywood    113\n",
      "CemntBd     65\n",
      "BrkFace     37\n",
      "WdShing     30\n",
      "AsbShng     24\n",
      "Stucco      18\n",
      "BrkComm      4\n",
      "CBlock       1\n",
      "AsphShn      1\n",
      "Name: Exterior1st, dtype: int64 \n",
      "\n",
      "----- Exterior2nd -----\n",
      "---- train ----\n",
      "VinylSd    504\n",
      "MetalSd    214\n",
      "HdBoard    207\n",
      "Wd Sdng    197\n",
      "Plywood    142\n",
      "CmentBd     60\n",
      "Wd Shng     38\n",
      "Stucco      26\n",
      "BrkFace     25\n",
      "AsbShng     20\n",
      "ImStucc     10\n",
      "Brk Cmn      7\n",
      "Stone        5\n",
      "AsphShn      3\n",
      "CBlock       1\n",
      "Other        1\n",
      "Name: Exterior2nd, dtype: int64\n",
      "---- test ----\n",
      "VinylSd    510\n",
      "MetalSd    233\n",
      "HdBoard    199\n",
      "Wd Sdng    194\n",
      "Plywood    128\n",
      "CmentBd     66\n",
      "Wd Shng     43\n",
      "BrkFace     22\n",
      "Stucco      21\n",
      "AsbShng     18\n",
      "Brk Cmn     15\n",
      "ImStucc      5\n",
      "CBlock       2\n",
      "Stone        1\n",
      "AsphShn      1\n",
      "Name: Exterior2nd, dtype: int64 \n",
      "\n"
     ]
    },
    {
     "data": {
      "text/plain": [
       "(None, None)"
      ]
     },
     "execution_count": 73,
     "metadata": {},
     "output_type": "execute_result"
    }
   ],
   "source": [
    "val_count('Exterior1st'), val_count('Exterior2nd')"
   ]
  },
  {
   "cell_type": "markdown",
   "metadata": {
    "hidden": true
   },
   "source": [
    "#### 결측치 확인\n",
    "- test set에 한개씩. 가장 많은 값으로 채우기."
   ]
  },
  {
   "cell_type": "code",
   "execution_count": 74,
   "metadata": {
    "hidden": true
   },
   "outputs": [
    {
     "name": "stdout",
     "output_type": "stream",
     "text": [
      "-- Exterior1st --\n",
      "train : 0\n",
      "test : 1\n",
      "-- Exterior2nd --\n",
      "train : 0\n",
      "test : 1\n"
     ]
    },
    {
     "data": {
      "text/plain": [
       "(None, None)"
      ]
     },
     "execution_count": 74,
     "metadata": {},
     "output_type": "execute_result"
    }
   ],
   "source": [
    "null_check('Exterior1st'), null_check('Exterior2nd')"
   ]
  },
  {
   "cell_type": "code",
   "execution_count": 75,
   "metadata": {
    "hidden": true
   },
   "outputs": [],
   "source": [
    "test['Exterior1st'].fillna('VinylSd', inplace=True)\n",
    "test['Exterior2nd'].fillna('VinylSd', inplace=True)"
   ]
  },
  {
   "cell_type": "markdown",
   "metadata": {
    "hidden": true
   },
   "source": [
    "#### 분류"
   ]
  },
  {
   "cell_type": "code",
   "execution_count": 76,
   "metadata": {
    "hidden": true
   },
   "outputs": [],
   "source": [
    "feature_extra.append('Exterior1st')\n",
    "feature_extra.append('Exterior2nd')"
   ]
  },
  {
   "cell_type": "markdown",
   "metadata": {
    "heading_collapsed": true,
    "hidden": true
   },
   "source": [
    "### MasVnrType"
   ]
  },
  {
   "cell_type": "markdown",
   "metadata": {
    "hidden": true
   },
   "source": [
    "- 벽돌 베니어 벽의 타입..?"
   ]
  },
  {
   "cell_type": "markdown",
   "metadata": {
    "hidden": true
   },
   "source": [
    "#### 의견"
   ]
  },
  {
   "cell_type": "markdown",
   "metadata": {
    "hidden": true
   },
   "source": [
    "- one-hot"
   ]
  },
  {
   "cell_type": "markdown",
   "metadata": {
    "hidden": true
   },
   "source": [
    "#### 데이터 확인"
   ]
  },
  {
   "cell_type": "code",
   "execution_count": 77,
   "metadata": {
    "hidden": true
   },
   "outputs": [
    {
     "name": "stdout",
     "output_type": "stream",
     "text": [
      "----- MasVnrType -----\n",
      "---- train ----\n",
      "None       864\n",
      "BrkFace    445\n",
      "Stone      128\n",
      "BrkCmn      15\n",
      "Name: MasVnrType, dtype: int64\n",
      "---- test ----\n",
      "None       878\n",
      "BrkFace    434\n",
      "Stone      121\n",
      "BrkCmn      10\n",
      "Name: MasVnrType, dtype: int64 \n",
      "\n"
     ]
    }
   ],
   "source": [
    "val_count('MasVnrType')"
   ]
  },
  {
   "cell_type": "markdown",
   "metadata": {
    "hidden": true
   },
   "source": [
    "#### 결측치 확인\n",
    "- 결측이 좀 있는데 일단 최빈값으로 채우기."
   ]
  },
  {
   "cell_type": "code",
   "execution_count": 78,
   "metadata": {
    "hidden": true
   },
   "outputs": [
    {
     "name": "stdout",
     "output_type": "stream",
     "text": [
      "-- MasVnrType --\n",
      "train : 8\n",
      "test : 16\n"
     ]
    }
   ],
   "source": [
    "null_check('MasVnrType')"
   ]
  },
  {
   "cell_type": "code",
   "execution_count": 79,
   "metadata": {
    "hidden": true
   },
   "outputs": [],
   "source": [
    "train['MasVnrType'].fillna('None', inplace=True)\n",
    "test['MasVnrType'].fillna('None', inplace=True)"
   ]
  },
  {
   "cell_type": "code",
   "execution_count": 80,
   "metadata": {
    "hidden": true
   },
   "outputs": [
    {
     "name": "stdout",
     "output_type": "stream",
     "text": [
      "-- MasVnrType --\n",
      "train : 0\n",
      "test : 0\n"
     ]
    }
   ],
   "source": [
    "null_check('MasVnrType')"
   ]
  },
  {
   "cell_type": "markdown",
   "metadata": {
    "hidden": true
   },
   "source": [
    "#### 분류"
   ]
  },
  {
   "cell_type": "code",
   "execution_count": 81,
   "metadata": {
    "hidden": true
   },
   "outputs": [],
   "source": [
    "feature_onehot.append('MasVnrType')"
   ]
  },
  {
   "cell_type": "markdown",
   "metadata": {
    "heading_collapsed": true,
    "hidden": true
   },
   "source": [
    "### MasVnrArea"
   ]
  },
  {
   "cell_type": "markdown",
   "metadata": {
    "hidden": true
   },
   "source": [
    "- 베니어 벽의 넓이?"
   ]
  },
  {
   "cell_type": "markdown",
   "metadata": {
    "hidden": true
   },
   "source": [
    "#### 의견"
   ]
  },
  {
   "cell_type": "markdown",
   "metadata": {
    "hidden": true
   },
   "source": [
    "- 넓이 값. 그대로 넣고 normalize 고민\n",
    "- 대부분 0임. 위에 타입이 None이 가장 많아서 그런듯"
   ]
  },
  {
   "cell_type": "markdown",
   "metadata": {
    "hidden": true
   },
   "source": [
    "#### 데이터 확인"
   ]
  },
  {
   "cell_type": "code",
   "execution_count": 82,
   "metadata": {
    "hidden": true
   },
   "outputs": [
    {
     "name": "stdout",
     "output_type": "stream",
     "text": [
      "----- MasVnrArea -----\n",
      "---- train ----\n",
      "0.0      861\n",
      "108.0      8\n",
      "72.0       8\n",
      "180.0      8\n",
      "16.0       7\n",
      "        ... \n",
      "31.0       1\n",
      "366.0      1\n",
      "528.0      1\n",
      "894.0      1\n",
      "415.0      1\n",
      "Name: MasVnrArea, Length: 327, dtype: int64\n",
      "---- test ----\n",
      "0.0       877\n",
      "176.0      10\n",
      "144.0       9\n",
      "120.0       8\n",
      "216.0       8\n",
      "         ... \n",
      "166.0       1\n",
      "292.0       1\n",
      "113.0       1\n",
      "39.0        1\n",
      "1159.0      1\n",
      "Name: MasVnrArea, Length: 303, dtype: int64 \n",
      "\n"
     ]
    }
   ],
   "source": [
    "val_count('MasVnrArea')"
   ]
  },
  {
   "cell_type": "markdown",
   "metadata": {
    "hidden": true
   },
   "source": [
    "#### 결측치 확인\n",
    "- 결측값은 0으로"
   ]
  },
  {
   "cell_type": "code",
   "execution_count": 83,
   "metadata": {
    "hidden": true
   },
   "outputs": [
    {
     "name": "stdout",
     "output_type": "stream",
     "text": [
      "-- MasVnrArea --\n",
      "train : 8\n",
      "test : 15\n"
     ]
    }
   ],
   "source": [
    "null_check('MasVnrArea')"
   ]
  },
  {
   "cell_type": "code",
   "execution_count": 84,
   "metadata": {
    "hidden": true
   },
   "outputs": [],
   "source": [
    "train['MasVnrArea'].fillna(0, inplace=True)\n",
    "test['MasVnrArea'].fillna(0, inplace=True)"
   ]
  },
  {
   "cell_type": "markdown",
   "metadata": {
    "hidden": true
   },
   "source": [
    "#### 분류"
   ]
  },
  {
   "cell_type": "code",
   "execution_count": 85,
   "metadata": {
    "hidden": true
   },
   "outputs": [],
   "source": [
    "feature_raw.append('MasVnrArea')"
   ]
  },
  {
   "cell_type": "markdown",
   "metadata": {
    "heading_collapsed": true,
    "hidden": true
   },
   "source": [
    "### ExterQual / ExterCond"
   ]
  },
  {
   "cell_type": "markdown",
   "metadata": {
    "hidden": true
   },
   "source": [
    "- "
   ]
  },
  {
   "cell_type": "markdown",
   "metadata": {
    "hidden": true
   },
   "source": [
    "#### 의견"
   ]
  },
  {
   "cell_type": "markdown",
   "metadata": {
    "hidden": true
   },
   "source": [
    "- 대부분 TA(Typical/Average)\n",
    "- 그래도 순서가 있는거니까 숫자로 매핑해봄."
   ]
  },
  {
   "cell_type": "markdown",
   "metadata": {
    "hidden": true
   },
   "source": [
    "#### 데이터 확인"
   ]
  },
  {
   "cell_type": "code",
   "execution_count": 86,
   "metadata": {
    "hidden": true
   },
   "outputs": [
    {
     "name": "stdout",
     "output_type": "stream",
     "text": [
      "----- ExterCond -----\n",
      "---- train ----\n",
      "TA    1282\n",
      "Gd     146\n",
      "Fa      28\n",
      "Ex       3\n",
      "Po       1\n",
      "Name: ExterCond, dtype: int64\n",
      "---- test ----\n",
      "TA    1256\n",
      "Gd     153\n",
      "Fa      39\n",
      "Ex       9\n",
      "Po       2\n",
      "Name: ExterCond, dtype: int64 \n",
      "\n"
     ]
    }
   ],
   "source": [
    "#val_count('ExterQual')\n",
    "val_count('ExterCond')"
   ]
  },
  {
   "cell_type": "markdown",
   "metadata": {
    "hidden": true
   },
   "source": [
    "#### 결측치 확인\n",
    "- 없음!"
   ]
  },
  {
   "cell_type": "markdown",
   "metadata": {
    "hidden": true
   },
   "source": [
    "#### 매핑\n",
    "- Po, Fa, TA, Gd, Ex 순으로 1~5까지 매핑"
   ]
  },
  {
   "cell_type": "code",
   "execution_count": 87,
   "metadata": {
    "hidden": true
   },
   "outputs": [],
   "source": [
    "#ddaasdsa\n",
    "map_Exter = {'Po':1, 'Fa':2, 'TA':3, 'Gd':4, 'Ex':5}\n",
    "train['ExterQual'] = train['ExterQual'].map(map_Exter)\n",
    "test['ExterQual'] = test['ExterQual'].map(map_Exter)\n",
    "train['ExterCond'] = train['ExterCond'].map(map_Exter)\n",
    "test['ExterCond'] = test['ExterCond'].map(map_Exter)"
   ]
  },
  {
   "cell_type": "markdown",
   "metadata": {
    "hidden": true
   },
   "source": [
    "#### 분류"
   ]
  },
  {
   "cell_type": "code",
   "execution_count": 88,
   "metadata": {
    "hidden": true
   },
   "outputs": [],
   "source": [
    "feature_map.append('ExterQual')\n",
    "feature_map.append('ExterCond')"
   ]
  },
  {
   "cell_type": "markdown",
   "metadata": {
    "heading_collapsed": true,
    "hidden": true
   },
   "source": [
    "### Foundation"
   ]
  },
  {
   "cell_type": "markdown",
   "metadata": {
    "hidden": true
   },
   "source": [
    "- 대문 종류"
   ]
  },
  {
   "cell_type": "markdown",
   "metadata": {
    "hidden": true
   },
   "source": [
    "#### 의견"
   ]
  },
  {
   "cell_type": "markdown",
   "metadata": {
    "hidden": true
   },
   "source": [
    "- one-hot / 3번밖에 안나오는 값에 대한 고민?"
   ]
  },
  {
   "cell_type": "markdown",
   "metadata": {
    "hidden": true
   },
   "source": [
    "#### 데이터 확인"
   ]
  },
  {
   "cell_type": "code",
   "execution_count": 89,
   "metadata": {
    "hidden": true
   },
   "outputs": [
    {
     "name": "stdout",
     "output_type": "stream",
     "text": [
      "----- Foundation -----\n",
      "---- train ----\n",
      "PConc     647\n",
      "CBlock    634\n",
      "BrkTil    146\n",
      "Slab       24\n",
      "Stone       6\n",
      "Wood        3\n",
      "Name: Foundation, dtype: int64\n",
      "---- test ----\n",
      "PConc     661\n",
      "CBlock    601\n",
      "BrkTil    165\n",
      "Slab       25\n",
      "Stone       5\n",
      "Wood        2\n",
      "Name: Foundation, dtype: int64 \n",
      "\n"
     ]
    }
   ],
   "source": [
    "val_count('Foundation')"
   ]
  },
  {
   "cell_type": "markdown",
   "metadata": {
    "hidden": true
   },
   "source": [
    "#### 결측치 확인\n",
    "- 없음!"
   ]
  },
  {
   "cell_type": "markdown",
   "metadata": {
    "hidden": true
   },
   "source": [
    "#### 분류"
   ]
  },
  {
   "cell_type": "code",
   "execution_count": 90,
   "metadata": {
    "hidden": true
   },
   "outputs": [],
   "source": [
    "feature_onehot.append('Foundation')"
   ]
  },
  {
   "cell_type": "markdown",
   "metadata": {
    "heading_collapsed": true,
    "hidden": true
   },
   "source": [
    "### BsmtQual / BsmtCond"
   ]
  },
  {
   "cell_type": "markdown",
   "metadata": {
    "hidden": true
   },
   "source": [
    "- "
   ]
  },
  {
   "cell_type": "markdown",
   "metadata": {
    "hidden": true
   },
   "source": [
    "#### 의견"
   ]
  },
  {
   "cell_type": "markdown",
   "metadata": {
    "hidden": true
   },
   "source": [
    "- Po -> EX 순이긴 한데. No basement는?\n",
    "- No basement 는 0으로 해서 매핑해보기."
   ]
  },
  {
   "cell_type": "markdown",
   "metadata": {
    "hidden": true
   },
   "source": [
    "#### 데이터 확인"
   ]
  },
  {
   "cell_type": "code",
   "execution_count": 91,
   "metadata": {
    "hidden": true
   },
   "outputs": [
    {
     "name": "stdout",
     "output_type": "stream",
     "text": [
      "----- BsmtQual -----\n",
      "---- train ----\n",
      "TA    649\n",
      "Gd    618\n",
      "Ex    121\n",
      "Fa     35\n",
      "Name: BsmtQual, dtype: int64\n",
      "---- test ----\n",
      "TA    634\n",
      "Gd    591\n",
      "Ex    137\n",
      "Fa     53\n",
      "Name: BsmtQual, dtype: int64 \n",
      "\n"
     ]
    }
   ],
   "source": [
    "val_count('BsmtQual')"
   ]
  },
  {
   "cell_type": "markdown",
   "metadata": {
    "hidden": true
   },
   "source": [
    "#### 결측치 확인\n",
    "- NA로 채워주긴 할건데, Basement가 없어서가 아니라 진짜 결측인 애들이 몇개 있음(2~3개)\n",
    "- 일단 NA로 채우기"
   ]
  },
  {
   "cell_type": "code",
   "execution_count": 92,
   "metadata": {
    "hidden": true
   },
   "outputs": [
    {
     "name": "stdout",
     "output_type": "stream",
     "text": [
      "-- BsmtQual --\n",
      "train : 37\n",
      "test : 44\n",
      "-- BsmtCond --\n",
      "train : 37\n",
      "test : 45\n"
     ]
    },
    {
     "data": {
      "text/plain": [
       "(None, None)"
      ]
     },
     "execution_count": 92,
     "metadata": {},
     "output_type": "execute_result"
    }
   ],
   "source": [
    "null_check('BsmtQual'), null_check('BsmtCond')"
   ]
  },
  {
   "cell_type": "code",
   "execution_count": 93,
   "metadata": {
    "hidden": true
   },
   "outputs": [],
   "source": [
    "train['BsmtQual'].fillna('NA', inplace=True)\n",
    "test['BsmtQual'].fillna('NA', inplace=True)\n",
    "train['BsmtCond'].fillna('NA', inplace=True)\n",
    "test['BsmtCond'].fillna('NA', inplace=True)"
   ]
  },
  {
   "cell_type": "markdown",
   "metadata": {
    "hidden": true
   },
   "source": [
    "#### 매핑\n",
    "- NA(0), Po(1), Fa(2), TA(3), Gd(4), Ex(5)"
   ]
  },
  {
   "cell_type": "code",
   "execution_count": 94,
   "metadata": {
    "hidden": true
   },
   "outputs": [],
   "source": [
    "map_Bsmt = {'NA':0, 'Po':1, 'Fa':2, 'TA':3, 'Gd':4, 'Ex':5}\n",
    "train['BsmtQual'] = train['BsmtQual'].map(map_Bsmt)\n",
    "test['BsmtQual'] = test['BsmtQual'].map(map_Bsmt)\n",
    "train['BsmtCond'] = train['BsmtCond'].map(map_Bsmt)\n",
    "test['BsmtCond'] = test['BsmtCond'].map(map_Bsmt)"
   ]
  },
  {
   "cell_type": "markdown",
   "metadata": {
    "hidden": true
   },
   "source": [
    "#### 분류"
   ]
  },
  {
   "cell_type": "code",
   "execution_count": 95,
   "metadata": {
    "hidden": true
   },
   "outputs": [],
   "source": [
    "feature_map.append('BsmtQual')\n",
    "feature_map.append('BsmtCond')"
   ]
  },
  {
   "cell_type": "markdown",
   "metadata": {
    "hidden": true
   },
   "source": [
    "----------------------------------\n",
    "### BsmtExposure"
   ]
  },
  {
   "cell_type": "markdown",
   "metadata": {
    "hidden": true
   },
   "source": [
    "- "
   ]
  },
  {
   "cell_type": "markdown",
   "metadata": {
    "hidden": true
   },
   "source": [
    "#### 의견"
   ]
  },
  {
   "cell_type": "markdown",
   "metadata": {
    "hidden": true
   },
   "source": [
    "- No basement가 결측치로 처리되어 있어서 'NA'로 바꿔준 다음 one-hot encoding"
   ]
  },
  {
   "cell_type": "markdown",
   "metadata": {
    "hidden": true
   },
   "source": [
    "#### 데이터 확인"
   ]
  },
  {
   "cell_type": "code",
   "execution_count": 96,
   "metadata": {
    "hidden": true
   },
   "outputs": [
    {
     "name": "stdout",
     "output_type": "stream",
     "text": [
      "----- BsmtExposure -----\n",
      "---- train ----\n",
      "No    953\n",
      "Av    221\n",
      "Gd    134\n",
      "Mn    114\n",
      "Name: BsmtExposure, dtype: int64\n",
      "---- test ----\n",
      "No    951\n",
      "Av    197\n",
      "Gd    142\n",
      "Mn    125\n",
      "Name: BsmtExposure, dtype: int64 \n",
      "\n"
     ]
    }
   ],
   "source": [
    "val_count('BsmtExposure')"
   ]
  },
  {
   "cell_type": "markdown",
   "metadata": {
    "hidden": true
   },
   "source": [
    "#### 결측치 확인\n",
    "- basement가 없는 경우 결측으로 처리되어 있어서, 'NA' 넣어주기"
   ]
  },
  {
   "cell_type": "code",
   "execution_count": 97,
   "metadata": {
    "hidden": true
   },
   "outputs": [],
   "source": [
    "train['BsmtExposure'].fillna('NA', inplace=True)\n",
    "test['BsmtExposure'].fillna('NA', inplace=True)"
   ]
  },
  {
   "cell_type": "markdown",
   "metadata": {
    "hidden": true
   },
   "source": [
    "#### 분류\n",
    "- one-hot"
   ]
  },
  {
   "cell_type": "code",
   "execution_count": 98,
   "metadata": {
    "hidden": true
   },
   "outputs": [],
   "source": [
    "feature_onehot.append('BsmtExposure')"
   ]
  },
  {
   "cell_type": "markdown",
   "metadata": {
    "hidden": true
   },
   "source": [
    "----------------------------------\n",
    "### BsmtFinType / SF"
   ]
  },
  {
   "cell_type": "markdown",
   "metadata": {
    "hidden": true
   },
   "source": [
    "- basement type1, type2, Unfinished를 합치면 총 면적."
   ]
  },
  {
   "cell_type": "code",
   "execution_count": 99,
   "metadata": {
    "hidden": true
   },
   "outputs": [],
   "source": [
    "# 'BsmtFinType1', 'BsmtFinType2', 'BsmtFinSF1', 'BsmtFinSF2', 'BsmtUnfSF', 'TotalBsmtSF'"
   ]
  },
  {
   "cell_type": "markdown",
   "metadata": {
    "hidden": true
   },
   "source": [
    "#### 의견"
   ]
  },
  {
   "cell_type": "markdown",
   "metadata": {
    "hidden": true
   },
   "source": [
    "- No basement가 많은데.. \n",
    "- type1, type2, unf 를 각각 쓸지 / Total로 합쳐서 쓸지?"
   ]
  },
  {
   "cell_type": "markdown",
   "metadata": {
    "hidden": true
   },
   "source": [
    "#### 데이터 확인"
   ]
  },
  {
   "cell_type": "code",
   "execution_count": 100,
   "metadata": {
    "hidden": true
   },
   "outputs": [],
   "source": [
    "# val_count('BsmtFinType1')"
   ]
  },
  {
   "cell_type": "markdown",
   "metadata": {
    "hidden": true
   },
   "source": [
    "#### 결측치 확인"
   ]
  },
  {
   "cell_type": "code",
   "execution_count": 101,
   "metadata": {
    "hidden": true
   },
   "outputs": [
    {
     "name": "stdout",
     "output_type": "stream",
     "text": [
      "-- BsmtFinType1 --\n",
      "train : 37\n",
      "test : 42\n"
     ]
    }
   ],
   "source": [
    "null_check('BsmtFinType1')"
   ]
  },
  {
   "cell_type": "markdown",
   "metadata": {
    "hidden": true
   },
   "source": [
    "#### 분류"
   ]
  },
  {
   "cell_type": "code",
   "execution_count": 102,
   "metadata": {
    "hidden": true
   },
   "outputs": [],
   "source": [
    "for bsmt in ['BsmtFinType1', 'BsmtFinType2', 'BsmtFinSF1', 'BsmtFinSF2', 'BsmtUnfSF', 'TotalBsmtSF']:\n",
    "    feature_extra.append(bsmt)"
   ]
  },
  {
   "cell_type": "markdown",
   "metadata": {
    "hidden": true
   },
   "source": [
    "----------------------------------\n",
    "### Heating / HeatingQC"
   ]
  },
  {
   "cell_type": "markdown",
   "metadata": {
    "hidden": true
   },
   "source": [
    "- 난방의 종류와 퀄리티"
   ]
  },
  {
   "cell_type": "markdown",
   "metadata": {
    "hidden": true
   },
   "source": [
    "#### 의견"
   ]
  },
  {
   "cell_type": "markdown",
   "metadata": {
    "hidden": true
   },
   "source": [
    "- 난방의 종류가 무엇이든 QC에 포함이 되는게 아닌지..?\n",
    "- 난방 종류는 one-hot, QC는 점수로 매핑\n"
   ]
  },
  {
   "cell_type": "markdown",
   "metadata": {
    "hidden": true
   },
   "source": [
    "#### 데이터 확인"
   ]
  },
  {
   "cell_type": "code",
   "execution_count": 103,
   "metadata": {
    "hidden": true
   },
   "outputs": [
    {
     "data": {
      "text/plain": [
       "Ex    741\n",
       "TA    428\n",
       "Gd    241\n",
       "Fa     49\n",
       "Po      1\n",
       "Name: HeatingQC, dtype: int64"
      ]
     },
     "execution_count": 103,
     "metadata": {},
     "output_type": "execute_result"
    }
   ],
   "source": [
    "train['HeatingQC'].value_counts()"
   ]
  },
  {
   "cell_type": "markdown",
   "metadata": {
    "hidden": true
   },
   "source": [
    "#### 결측치 확인"
   ]
  },
  {
   "cell_type": "code",
   "execution_count": 104,
   "metadata": {
    "hidden": true
   },
   "outputs": [
    {
     "name": "stdout",
     "output_type": "stream",
     "text": [
      "-- Heating --\n",
      "train : 0\n",
      "test : 0\n",
      "-- HeatingQC --\n",
      "train : 0\n",
      "test : 0\n"
     ]
    },
    {
     "data": {
      "text/plain": [
       "(None, None)"
      ]
     },
     "execution_count": 104,
     "metadata": {},
     "output_type": "execute_result"
    }
   ],
   "source": [
    "null_check('Heating'), null_check('HeatingQC')"
   ]
  },
  {
   "cell_type": "markdown",
   "metadata": {
    "hidden": true
   },
   "source": [
    "#### 매핑"
   ]
  },
  {
   "cell_type": "code",
   "execution_count": 105,
   "metadata": {
    "hidden": true
   },
   "outputs": [],
   "source": [
    "map_heat = {'Po':0, 'Fa':1, 'TA':2, 'Gd':3, 'Ex':4}\n",
    "train['HeatingQC'] = train['HeatingQC'].map(map_heat)\n",
    "test['HeatingQC'] = test['HeatingQC'].map(map_heat)"
   ]
  },
  {
   "cell_type": "markdown",
   "metadata": {
    "hidden": true
   },
   "source": [
    "#### 분류"
   ]
  },
  {
   "cell_type": "code",
   "execution_count": 106,
   "metadata": {
    "hidden": true
   },
   "outputs": [],
   "source": [
    "feature_onehot.append('Heating')\n",
    "feature_map.append('HeatingQC')"
   ]
  },
  {
   "cell_type": "markdown",
   "metadata": {
    "hidden": true
   },
   "source": [
    "----------------------------------\n",
    "### CentralAir / Electrical"
   ]
  },
  {
   "cell_type": "markdown",
   "metadata": {
    "hidden": true
   },
   "source": [
    "- "
   ]
  },
  {
   "cell_type": "markdown",
   "metadata": {
    "hidden": true
   },
   "source": [
    "#### 의견"
   ]
  },
  {
   "cell_type": "markdown",
   "metadata": {
    "hidden": true
   },
   "source": [
    "- CentralAir는 Y/N을 1/0으로 매핑\n",
    "- Electrical은 one-hot"
   ]
  },
  {
   "cell_type": "markdown",
   "metadata": {
    "hidden": true
   },
   "source": [
    "#### 데이터 확인"
   ]
  },
  {
   "cell_type": "code",
   "execution_count": 107,
   "metadata": {
    "hidden": true
   },
   "outputs": [
    {
     "name": "stdout",
     "output_type": "stream",
     "text": [
      "----- Electrical -----\n",
      "---- train ----\n",
      "SBrkr    1334\n",
      "FuseA      94\n",
      "FuseF      27\n",
      "FuseP       3\n",
      "Mix         1\n",
      "Name: Electrical, dtype: int64\n",
      "---- test ----\n",
      "SBrkr    1337\n",
      "FuseA      94\n",
      "FuseF      23\n",
      "FuseP       5\n",
      "Name: Electrical, dtype: int64 \n",
      "\n"
     ]
    }
   ],
   "source": [
    "val_count('Electrical')"
   ]
  },
  {
   "cell_type": "markdown",
   "metadata": {
    "hidden": true
   },
   "source": [
    "#### 결측치 확인\n",
    "- 최빈값인 'SBrkr'로 결측치 채움"
   ]
  },
  {
   "cell_type": "code",
   "execution_count": 108,
   "metadata": {
    "hidden": true
   },
   "outputs": [
    {
     "name": "stdout",
     "output_type": "stream",
     "text": [
      "-- CentralAir --\n",
      "train : 0\n",
      "test : 0\n",
      "-- Electrical --\n",
      "train : 1\n",
      "test : 0\n"
     ]
    },
    {
     "data": {
      "text/plain": [
       "(None, None)"
      ]
     },
     "execution_count": 108,
     "metadata": {},
     "output_type": "execute_result"
    }
   ],
   "source": [
    "null_check('CentralAir'), null_check('Electrical')"
   ]
  },
  {
   "cell_type": "code",
   "execution_count": 109,
   "metadata": {
    "hidden": true
   },
   "outputs": [],
   "source": [
    "train['Electrical'].fillna('SBrkr', inplace=True)"
   ]
  },
  {
   "cell_type": "markdown",
   "metadata": {
    "hidden": true
   },
   "source": [
    "#### 매핑\n",
    "- CentralAir의 Y/N을 1/0으로"
   ]
  },
  {
   "cell_type": "code",
   "execution_count": 110,
   "metadata": {
    "hidden": true
   },
   "outputs": [],
   "source": [
    "map_CA = {'N':0, 'Y':1}\n",
    "train['CentralAir'] = train['CentralAir'].map(map_CA)\n",
    "test['CentralAir'] = test['CentralAir'].map(map_CA)"
   ]
  },
  {
   "cell_type": "markdown",
   "metadata": {
    "hidden": true
   },
   "source": [
    "#### 분류"
   ]
  },
  {
   "cell_type": "code",
   "execution_count": 111,
   "metadata": {
    "hidden": true
   },
   "outputs": [],
   "source": [
    "feature_map.append('CentralAir')\n",
    "feature_onehot.append('Electrical')"
   ]
  },
  {
   "cell_type": "markdown",
   "metadata": {
    "hidden": true
   },
   "source": [
    "----------------------------------\n",
    "### Floor"
   ]
  },
  {
   "cell_type": "markdown",
   "metadata": {
    "hidden": true
   },
   "source": [
    "- 1stFlrSF / 2ndFlrSF : 1층/2층 Floor의 면적\n",
    "- LowQualFinSF : 모든 층 통츨어서 마감이 잘 안된 부분?의 면적"
   ]
  },
  {
   "cell_type": "markdown",
   "metadata": {
    "hidden": true
   },
   "source": [
    "#### 의견"
   ]
  },
  {
   "cell_type": "markdown",
   "metadata": {
    "hidden": true
   },
   "source": [
    "- 면적데이터라서 normailze하고 그냥 넣으면 될 것 같음.\n",
    "- 1층과 2층을 합쳐버리는건?"
   ]
  },
  {
   "cell_type": "markdown",
   "metadata": {
    "hidden": true
   },
   "source": [
    "#### 결측치 확인\n",
    "- 없음!"
   ]
  },
  {
   "cell_type": "markdown",
   "metadata": {
    "hidden": true
   },
   "source": [
    "#### 분류"
   ]
  },
  {
   "cell_type": "code",
   "execution_count": 112,
   "metadata": {
    "hidden": true
   },
   "outputs": [],
   "source": [
    "for floor in ['1stFlrSF', '2ndFlrSF', 'LowQualFinSF']:\n",
    "    feature_raw.append(floor)"
   ]
  },
  {
   "cell_type": "markdown",
   "metadata": {
    "hidden": true
   },
   "source": [
    "----------------------------------\n",
    "### GrLivArea"
   ]
  },
  {
   "cell_type": "markdown",
   "metadata": {
    "hidden": true
   },
   "source": [
    "- 지상 주거 공간의 넓이"
   ]
  },
  {
   "cell_type": "markdown",
   "metadata": {
    "hidden": true
   },
   "source": [
    "#### 의견"
   ]
  },
  {
   "cell_type": "markdown",
   "metadata": {
    "hidden": true
   },
   "source": [
    "- 그냥 넣어주면 될 듯?"
   ]
  },
  {
   "cell_type": "markdown",
   "metadata": {
    "hidden": true
   },
   "source": [
    "#### 데이터 확인"
   ]
  },
  {
   "cell_type": "code",
   "execution_count": 113,
   "metadata": {
    "hidden": true
   },
   "outputs": [
    {
     "data": {
      "text/plain": [
       "0    1710\n",
       "1    1262\n",
       "2    1786\n",
       "3    1717\n",
       "4    2198\n",
       "Name: GrLivArea, dtype: int64"
      ]
     },
     "execution_count": 113,
     "metadata": {},
     "output_type": "execute_result"
    }
   ],
   "source": [
    "train['GrLivArea'].head()"
   ]
  },
  {
   "cell_type": "markdown",
   "metadata": {
    "hidden": true
   },
   "source": [
    "#### 결측치 확인\n",
    "- 없음!"
   ]
  },
  {
   "cell_type": "markdown",
   "metadata": {
    "hidden": true
   },
   "source": [
    "#### 분류"
   ]
  },
  {
   "cell_type": "code",
   "execution_count": 114,
   "metadata": {
    "hidden": true
   },
   "outputs": [],
   "source": [
    "feature_raw.append('GrLivArea')"
   ]
  },
  {
   "cell_type": "markdown",
   "metadata": {
    "hidden": true
   },
   "source": [
    "----------------------------------\n",
    "### Bathroom"
   ]
  },
  {
   "cell_type": "markdown",
   "metadata": {
    "hidden": true
   },
   "source": [
    "- 화장실의 개수"
   ]
  },
  {
   "cell_type": "markdown",
   "metadata": {
    "hidden": true
   },
   "source": [
    "#### 의견"
   ]
  },
  {
   "cell_type": "markdown",
   "metadata": {
    "hidden": true
   },
   "source": [
    "- 그래프 그려볼 필요.\n",
    "- 일단 discrete에 다 넣어놓기"
   ]
  },
  {
   "cell_type": "markdown",
   "metadata": {
    "hidden": true
   },
   "source": [
    "#### 데이터 확인"
   ]
  },
  {
   "cell_type": "code",
   "execution_count": 115,
   "metadata": {
    "hidden": true
   },
   "outputs": [
    {
     "name": "stdout",
     "output_type": "stream",
     "text": [
      "----- BsmtFullBath -----\n",
      "---- train ----\n",
      "0    856\n",
      "1    588\n",
      "2     15\n",
      "3      1\n",
      "Name: BsmtFullBath, dtype: int64\n",
      "---- test ----\n",
      "0.0    849\n",
      "1.0    584\n",
      "2.0     23\n",
      "3.0      1\n",
      "Name: BsmtFullBath, dtype: int64 \n",
      "\n"
     ]
    }
   ],
   "source": [
    "val_count('BsmtFullBath')"
   ]
  },
  {
   "cell_type": "markdown",
   "metadata": {
    "hidden": true
   },
   "source": [
    "#### 결측치 확인\n",
    "- test set의 BsmtFullBath, BsmtHalfBath에 각각 결측 2개씩\n",
    "- 최빈값 0으로 채움"
   ]
  },
  {
   "cell_type": "code",
   "execution_count": 116,
   "metadata": {
    "hidden": true
   },
   "outputs": [],
   "source": [
    "#null_check('BsmtFullBath'), null_check('BsmtHalfBath'), null_check('FullBath'), null_check('HalfBath')\n",
    "test['BsmtFullBath'].fillna(0, inplace=True)\n",
    "test['BsmtHalfBath'].fillna(0, inplace=True)"
   ]
  },
  {
   "cell_type": "markdown",
   "metadata": {
    "hidden": true
   },
   "source": [
    "#### 분류"
   ]
  },
  {
   "cell_type": "code",
   "execution_count": 117,
   "metadata": {
    "hidden": true
   },
   "outputs": [],
   "source": [
    "for bath in ['BsmtFullBath', 'BsmtHalfBath', 'FullBath', 'HalfBath']:\n",
    "    feature_dis.append(bath)"
   ]
  },
  {
   "cell_type": "markdown",
   "metadata": {
    "hidden": true
   },
   "source": [
    "----------------------------------\n",
    "### Bedroom, Kitchen, TotalRooms"
   ]
  },
  {
   "cell_type": "markdown",
   "metadata": {
    "hidden": true
   },
   "source": [
    "- 침실, 주방의 개수 및 총 방의 개수"
   ]
  },
  {
   "cell_type": "markdown",
   "metadata": {
    "hidden": true
   },
   "source": [
    "#### 의견"
   ]
  },
  {
   "cell_type": "markdown",
   "metadata": {
    "hidden": true
   },
   "source": [
    "- 일단 다 discrete feature로 분류\n",
    "- 근데 전체 방 개수에 침실/주방 개수가 포함되는데?\n",
    "- KitchenQual 은 0->4로 매핑"
   ]
  },
  {
   "cell_type": "markdown",
   "metadata": {
    "hidden": true
   },
   "source": [
    "#### 데이터 확인"
   ]
  },
  {
   "cell_type": "code",
   "execution_count": 118,
   "metadata": {
    "hidden": true
   },
   "outputs": [
    {
     "name": "stdout",
     "output_type": "stream",
     "text": [
      "----- KitchenQual -----\n",
      "---- train ----\n",
      "TA    735\n",
      "Gd    586\n",
      "Ex    100\n",
      "Fa     39\n",
      "Name: KitchenQual, dtype: int64\n",
      "---- test ----\n",
      "TA    757\n",
      "Gd    565\n",
      "Ex    105\n",
      "Fa     31\n",
      "Name: KitchenQual, dtype: int64 \n",
      "\n"
     ]
    }
   ],
   "source": [
    "#train['TotRmsAbvGrd']-train['BedroomAbvGr']\n",
    "#train['KitchenAbvGr'].value_counts()\n",
    "val_count('KitchenQual')"
   ]
  },
  {
   "cell_type": "markdown",
   "metadata": {
    "hidden": true
   },
   "source": [
    "#### 결측치 확인\n",
    "- test-set KitchenQual에 결측 하나.\n",
    "- 최빈값이자 중앙값인 TA로 처리"
   ]
  },
  {
   "cell_type": "code",
   "execution_count": 119,
   "metadata": {
    "hidden": true
   },
   "outputs": [
    {
     "name": "stdout",
     "output_type": "stream",
     "text": [
      "-- BedroomAbvGr --\n",
      "train : 0\n",
      "test : 0\n",
      "-- KitchenAbvGr --\n",
      "train : 0\n",
      "test : 0\n",
      "-- TotRmsAbvGrd --\n",
      "train : 0\n",
      "test : 0\n",
      "-- KitchenQual --\n",
      "train : 0\n",
      "test : 1\n"
     ]
    }
   ],
   "source": [
    "for room in ['BedroomAbvGr', 'KitchenAbvGr', 'TotRmsAbvGrd', 'KitchenQual']:\n",
    "    null_check(room)\n",
    "test['KitchenQual'].fillna('TA', inplace=True)"
   ]
  },
  {
   "cell_type": "markdown",
   "metadata": {
    "hidden": true
   },
   "source": [
    "#### 매핑\n",
    "- 주방 퀄리티를 숫자로"
   ]
  },
  {
   "cell_type": "code",
   "execution_count": 120,
   "metadata": {
    "hidden": true
   },
   "outputs": [],
   "source": [
    "map_qual = {'Po':0, 'Fa':1, 'TA':2, 'Gd':3, 'Ex':4}\n",
    "train['KitchenQual'] = train['KitchenQual'].map(map_qual)\n",
    "test['KitchenQual'] = test['KitchenQual'].map(map_qual)"
   ]
  },
  {
   "cell_type": "markdown",
   "metadata": {
    "hidden": true
   },
   "source": [
    "#### 분류"
   ]
  },
  {
   "cell_type": "code",
   "execution_count": 121,
   "metadata": {
    "hidden": true
   },
   "outputs": [],
   "source": [
    "for room in ['BedroomAbvGr', 'KitchenAbvGr', 'TotRmsAbvGrd']:\n",
    "    feature_dis.append(room)\n",
    "feature_map.append('KitchenQual')"
   ]
  },
  {
   "cell_type": "markdown",
   "metadata": {
    "hidden": true
   },
   "source": [
    "----------------------------------\n",
    "### Functional"
   ]
  },
  {
   "cell_type": "markdown",
   "metadata": {
    "hidden": true
   },
   "source": [
    "- "
   ]
  },
  {
   "cell_type": "markdown",
   "metadata": {
    "hidden": true
   },
   "source": [
    "#### 의견"
   ]
  },
  {
   "cell_type": "markdown",
   "metadata": {
    "hidden": true
   },
   "source": [
    "- one-hot? / extra에 넣어놓고 그래프 그려보기"
   ]
  },
  {
   "cell_type": "markdown",
   "metadata": {
    "hidden": true
   },
   "source": [
    "#### 데이터 확인"
   ]
  },
  {
   "cell_type": "code",
   "execution_count": 122,
   "metadata": {
    "hidden": true
   },
   "outputs": [],
   "source": [
    "#val_count('Functional')"
   ]
  },
  {
   "cell_type": "markdown",
   "metadata": {
    "hidden": true
   },
   "source": [
    "#### 결측치 확인\n",
    "- 최빈값으로 결측치 채워줌"
   ]
  },
  {
   "cell_type": "code",
   "execution_count": 123,
   "metadata": {
    "hidden": true
   },
   "outputs": [
    {
     "name": "stdout",
     "output_type": "stream",
     "text": [
      "-- Functional --\n",
      "train : 0\n",
      "test : 0\n"
     ]
    }
   ],
   "source": [
    "test['Functional'].fillna('Typ', inplace=True)\n",
    "null_check('Functional')"
   ]
  },
  {
   "cell_type": "markdown",
   "metadata": {
    "hidden": true
   },
   "source": [
    "#### 분류"
   ]
  },
  {
   "cell_type": "code",
   "execution_count": 124,
   "metadata": {
    "hidden": true
   },
   "outputs": [],
   "source": [
    "feature_extra.append('Functional')"
   ]
  },
  {
   "cell_type": "markdown",
   "metadata": {
    "hidden": true
   },
   "source": [
    "----------------------------------\n",
    "### Fireplaces / Qu"
   ]
  },
  {
   "cell_type": "markdown",
   "metadata": {
    "hidden": true
   },
   "source": [
    "- 벽난로의 개수 및 퀄리티"
   ]
  },
  {
   "cell_type": "markdown",
   "metadata": {
    "hidden": true
   },
   "source": [
    "#### 의견"
   ]
  },
  {
   "cell_type": "markdown",
   "metadata": {
    "hidden": true
   },
   "source": [
    "- 벽난로의 개수는 discrete로.\n",
    "- Quality는 매핑"
   ]
  },
  {
   "cell_type": "markdown",
   "metadata": {
    "hidden": true
   },
   "source": [
    "#### 데이터 확인"
   ]
  },
  {
   "cell_type": "code",
   "execution_count": 125,
   "metadata": {
    "hidden": true
   },
   "outputs": [
    {
     "name": "stdout",
     "output_type": "stream",
     "text": [
      "----- Fireplaces -----\n",
      "---- train ----\n",
      "0    690\n",
      "1    650\n",
      "2    115\n",
      "3      5\n",
      "Name: Fireplaces, dtype: int64\n",
      "---- test ----\n",
      "0    730\n",
      "1    618\n",
      "2    104\n",
      "3      6\n",
      "4      1\n",
      "Name: Fireplaces, dtype: int64 \n",
      "\n"
     ]
    }
   ],
   "source": [
    "val_count('Fireplaces')"
   ]
  },
  {
   "cell_type": "markdown",
   "metadata": {
    "hidden": true
   },
   "source": [
    "#### 결측치 확인\n",
    "- fireplace가 없는 경우 'NA'로 채워주기"
   ]
  },
  {
   "cell_type": "code",
   "execution_count": 126,
   "metadata": {
    "hidden": true
   },
   "outputs": [
    {
     "name": "stdout",
     "output_type": "stream",
     "text": [
      "-- FireplaceQu --\n",
      "train : 0\n",
      "test : 0\n"
     ]
    }
   ],
   "source": [
    "train['FireplaceQu'].fillna('NA', inplace=True)\n",
    "test['FireplaceQu'].fillna('NA', inplace=True)\n",
    "null_check('FireplaceQu')"
   ]
  },
  {
   "cell_type": "markdown",
   "metadata": {
    "hidden": true
   },
   "source": [
    "#### 매핑"
   ]
  },
  {
   "cell_type": "code",
   "execution_count": 127,
   "metadata": {
    "hidden": true
   },
   "outputs": [],
   "source": [
    "map_qual = {'NA':0, 'Po':1, 'Fa':2, 'TA':3, 'Gd':4, 'Ex':5}\n",
    "train['FireplaceQu'] = train['FireplaceQu'].map(map_qual)\n",
    "test['FireplaceQu'] = test['FireplaceQu'].map(map_qual)"
   ]
  },
  {
   "cell_type": "markdown",
   "metadata": {
    "hidden": true
   },
   "source": [
    "#### 분류"
   ]
  },
  {
   "cell_type": "code",
   "execution_count": 128,
   "metadata": {
    "hidden": true
   },
   "outputs": [],
   "source": [
    "feature_dis.append('Fireplaces')\n",
    "feature_map.append('FireplaceQu')"
   ]
  },
  {
   "cell_type": "markdown",
   "metadata": {
    "hidden": true
   },
   "source": [
    "----------------------------------\n",
    "### Garage"
   ]
  },
  {
   "cell_type": "markdown",
   "metadata": {
    "hidden": true
   },
   "source": [
    "- 차고에 관한 항목들"
   ]
  },
  {
   "cell_type": "code",
   "execution_count": 129,
   "metadata": {
    "hidden": true
   },
   "outputs": [],
   "source": [
    "Garage = ['GarageType', 'GarageYrBlt', 'GarageFinish',\n",
    "'GarageCars', 'GarageArea', 'GarageQual', 'GarageCond', 'PavedDrive']"
   ]
  },
  {
   "cell_type": "markdown",
   "metadata": {
    "hidden": true
   },
   "source": [
    "#### 의견"
   ]
  },
  {
   "cell_type": "markdown",
   "metadata": {
    "hidden": true
   },
   "source": [
    "- one-hot : Type, PavedDrive\n",
    "- discrete : YrBlt, Cars\n",
    "- mapping : Finish, Qual, Cond\n",
    "- raw : Area"
   ]
  },
  {
   "cell_type": "markdown",
   "metadata": {
    "hidden": true
   },
   "source": [
    "#### 데이터 확인"
   ]
  },
  {
   "cell_type": "code",
   "execution_count": 130,
   "metadata": {
    "hidden": true
   },
   "outputs": [],
   "source": [
    "#val_count('GarageCars')"
   ]
  },
  {
   "cell_type": "markdown",
   "metadata": {
    "hidden": true
   },
   "source": [
    "#### 결측치 확인\n",
    "- Type, YrBlt, Finish, Qual, Cond에 차고가 없는 경우 결측이 들어가있음.\n",
    "- 'NA' 혹은 0으로 데이터 형태에 맞게 채워주기\n",
    "- Cars/Area의 결측 하나는 0으로"
   ]
  },
  {
   "cell_type": "code",
   "execution_count": 131,
   "metadata": {
    "hidden": true
   },
   "outputs": [],
   "source": [
    "for feat in ['GarageType', 'GarageFinish', 'GarageQual', 'GarageCond']:\n",
    "    train[feat].fillna('NA', inplace=True)\n",
    "    test[feat].fillna('NA', inplace=True)\n",
    "for feat in ['GarageYrBlt', 'GarageCars', 'GarageArea']:\n",
    "    train[feat].fillna(0, inplace=True)\n",
    "    test[feat].fillna(0, inplace=True)"
   ]
  },
  {
   "cell_type": "markdown",
   "metadata": {
    "hidden": true
   },
   "source": [
    "#### 매핑\n",
    "- Finish 는 NA, Unf, Rfn, Fin 순으로\n",
    "- Qual, Cond 는 하던대로"
   ]
  },
  {
   "cell_type": "code",
   "execution_count": 132,
   "metadata": {
    "hidden": true
   },
   "outputs": [],
   "source": [
    "map_fin = {'NA':0, 'Unf':1, 'RFn':2, 'Fin':3}\n",
    "map_qual = {'NA':0, 'Po':1, 'Fa':2, 'TA':3, 'Gd':4, 'Ex':5}\n",
    "for dataset in [train, test]:\n",
    "    dataset['GarageFinish'] = dataset['GarageFinish'].map(map_fin)\n",
    "    for feat in ['GarageQual', 'GarageCond']:\n",
    "        dataset[feat] = dataset[feat].map(map_qual)"
   ]
  },
  {
   "cell_type": "markdown",
   "metadata": {
    "hidden": true
   },
   "source": [
    "#### 분류"
   ]
  },
  {
   "cell_type": "code",
   "execution_count": 133,
   "metadata": {
    "hidden": true
   },
   "outputs": [],
   "source": [
    "feature_onehot.extend(['GarageType', 'PavedDrive'])\n",
    "feature_dis.extend(['GarageYrBlt', 'GarageCars'])\n",
    "feature_map.extend(['GarageFinish', 'GarageQual', 'GarageCond'])\n",
    "feature_raw.append('GarageArea')"
   ]
  },
  {
   "cell_type": "markdown",
   "metadata": {
    "hidden": true
   },
   "source": [
    "----------------------------------\n",
    "### Extra Areas"
   ]
  },
  {
   "cell_type": "markdown",
   "metadata": {
    "hidden": true
   },
   "source": [
    "- 실외 부가적인 공간들의 넓이(Deck, Porch)"
   ]
  },
  {
   "cell_type": "code",
   "execution_count": 134,
   "metadata": {
    "hidden": true
   },
   "outputs": [],
   "source": [
    "ex_area = ['WoodDeckSF', 'OpenPorchSF', 'EnclosedPorch', '3SsnPorch', 'ScreenPorch']"
   ]
  },
  {
   "cell_type": "markdown",
   "metadata": {
    "hidden": true
   },
   "source": [
    "#### 의견"
   ]
  },
  {
   "cell_type": "markdown",
   "metadata": {
    "hidden": true
   },
   "source": [
    "- 전부 면적 값이므로 그대로 넣기 / normalize 고민"
   ]
  },
  {
   "cell_type": "markdown",
   "metadata": {
    "hidden": true
   },
   "source": [
    "#### 결측치 확인\n",
    "- 없음!"
   ]
  },
  {
   "cell_type": "markdown",
   "metadata": {
    "hidden": true
   },
   "source": [
    "#### 분류"
   ]
  },
  {
   "cell_type": "code",
   "execution_count": 135,
   "metadata": {
    "hidden": true
   },
   "outputs": [],
   "source": [
    "feature_raw.extend(ex_area)"
   ]
  },
  {
   "cell_type": "markdown",
   "metadata": {
    "hidden": true
   },
   "source": [
    "----------------------------------\n",
    "### Pool, Fence, Misc"
   ]
  },
  {
   "cell_type": "markdown",
   "metadata": {
    "hidden": true
   },
   "source": [
    "- 수영장, 펜스, 그 외 추가적인 feature들"
   ]
  },
  {
   "cell_type": "markdown",
   "metadata": {
    "hidden": true
   },
   "source": [
    "#### 의견"
   ]
  },
  {
   "cell_type": "markdown",
   "metadata": {
    "hidden": true
   },
   "source": [
    "- PoolArea랑 QC를 동시에 반영? (곱한다거나)\n",
    "- 일단 Area는 면적이니까 raw / PoolQC, Fence는 mapping\n",
    "- MiscFeature의 종류가 중요할까? 가격이 있으니까 지우는걸로.."
   ]
  },
  {
   "cell_type": "markdown",
   "metadata": {
    "hidden": true
   },
   "source": [
    "#### 데이터 확인"
   ]
  },
  {
   "cell_type": "code",
   "execution_count": 136,
   "metadata": {
    "hidden": true
   },
   "outputs": [
    {
     "name": "stdout",
     "output_type": "stream",
     "text": [
      "----- MiscFeature -----\n",
      "---- train ----\n",
      "Shed    49\n",
      "Gar2     2\n",
      "Othr     2\n",
      "TenC     1\n",
      "Name: MiscFeature, dtype: int64\n",
      "---- test ----\n",
      "Shed    46\n",
      "Gar2     3\n",
      "Othr     2\n",
      "Name: MiscFeature, dtype: int64 \n",
      "\n"
     ]
    }
   ],
   "source": [
    "val_count('MiscFeature')"
   ]
  },
  {
   "cell_type": "markdown",
   "metadata": {
    "hidden": true
   },
   "source": [
    "#### 결측치 확인\n",
    "- Pool, Fence가 없는경우 'NA'로 바꿔주기"
   ]
  },
  {
   "cell_type": "code",
   "execution_count": 137,
   "metadata": {
    "hidden": true
   },
   "outputs": [],
   "source": [
    "for dataset in [train, test]:\n",
    "    for feat in ['PoolQC', 'Fence']:\n",
    "        dataset[feat].fillna('NA', inplace=True)"
   ]
  },
  {
   "cell_type": "markdown",
   "metadata": {
    "hidden": true
   },
   "source": [
    "#### 매핑"
   ]
  },
  {
   "cell_type": "code",
   "execution_count": 138,
   "metadata": {
    "hidden": true
   },
   "outputs": [],
   "source": [
    "map_qual = {'NA':0, 'Po':1, 'Fa':2, 'TA':3, 'Gd':4, 'Ex':5}\n",
    "map_fence = {'NA':0, 'MnWw':1, 'GdWo':2, 'MnPrv':3, 'GdPrv':4}\n",
    "for dataset in [train, test]:\n",
    "    dataset['PoolQC'] = dataset['PoolQC'].map(map_qual)\n",
    "    dataset['Fence'] = dataset['Fence'].map(map_fence)    "
   ]
  },
  {
   "cell_type": "markdown",
   "metadata": {
    "hidden": true
   },
   "source": [
    "#### 분류"
   ]
  },
  {
   "cell_type": "code",
   "execution_count": 139,
   "metadata": {
    "hidden": true
   },
   "outputs": [],
   "source": [
    "feature_raw.extend(['PoolArea', 'MiscVal'])\n",
    "feature_map.extend(['PoolQC', 'Fence'])\n",
    "feature_del.append('MiscFeature')"
   ]
  },
  {
   "cell_type": "markdown",
   "metadata": {
    "hidden": true
   },
   "source": [
    "----------------------------------\n",
    "### MoSold / YrSold"
   ]
  },
  {
   "cell_type": "markdown",
   "metadata": {
    "hidden": true
   },
   "source": [
    "- 팔린 월/년도"
   ]
  },
  {
   "cell_type": "markdown",
   "metadata": {
    "hidden": true
   },
   "source": [
    "#### 의견"
   ]
  },
  {
   "cell_type": "markdown",
   "metadata": {
    "hidden": true
   },
   "source": [
    "- discrete\n",
    "- 년도 normalize / 둘을 합쳐야할지 각각 반영해야 할지?"
   ]
  },
  {
   "cell_type": "markdown",
   "metadata": {
    "hidden": true
   },
   "source": [
    "#### 데이터 확인"
   ]
  },
  {
   "cell_type": "code",
   "execution_count": 140,
   "metadata": {
    "hidden": true
   },
   "outputs": [
    {
     "name": "stdout",
     "output_type": "stream",
     "text": [
      "----- YrSold -----\n",
      "---- train ----\n",
      "2009    338\n",
      "2007    329\n",
      "2006    314\n",
      "2008    304\n",
      "2010    175\n",
      "Name: YrSold, dtype: int64\n",
      "---- test ----\n",
      "2007    363\n",
      "2008    318\n",
      "2009    309\n",
      "2006    305\n",
      "2010    164\n",
      "Name: YrSold, dtype: int64 \n",
      "\n"
     ]
    }
   ],
   "source": [
    "val_count('YrSold')"
   ]
  },
  {
   "cell_type": "markdown",
   "metadata": {
    "hidden": true
   },
   "source": [
    "#### 결측치 확인\n",
    "- 없음!"
   ]
  },
  {
   "cell_type": "markdown",
   "metadata": {
    "hidden": true
   },
   "source": [
    "#### 분류"
   ]
  },
  {
   "cell_type": "code",
   "execution_count": 141,
   "metadata": {
    "hidden": true
   },
   "outputs": [],
   "source": [
    "feature_dis.extend(['MoSold', 'YrSold'])"
   ]
  },
  {
   "cell_type": "markdown",
   "metadata": {
    "hidden": true
   },
   "source": [
    "----------------------------------\n",
    "### Sale Type / Condition"
   ]
  },
  {
   "cell_type": "markdown",
   "metadata": {
    "hidden": true
   },
   "source": [
    "- 거래 타입 / 조건"
   ]
  },
  {
   "cell_type": "markdown",
   "metadata": {
    "hidden": true
   },
   "source": [
    "#### 의견"
   ]
  },
  {
   "cell_type": "markdown",
   "metadata": {
    "hidden": true
   },
   "source": [
    "- 순서가 있어보이지만, 애매한 부분이 있어서 일단 onehot 하기로\n",
    "- 이거도 그래프 꼭 그려보기"
   ]
  },
  {
   "cell_type": "markdown",
   "metadata": {
    "hidden": true
   },
   "source": [
    "#### 데이터 확인"
   ]
  },
  {
   "cell_type": "code",
   "execution_count": 142,
   "metadata": {
    "hidden": true
   },
   "outputs": [
    {
     "name": "stdout",
     "output_type": "stream",
     "text": [
      "----- SaleType -----\n",
      "---- train ----\n",
      "WD       1267\n",
      "New       122\n",
      "COD        43\n",
      "ConLD       9\n",
      "ConLI       5\n",
      "ConLw       5\n",
      "CWD         4\n",
      "Oth         3\n",
      "Con         2\n",
      "Name: SaleType, dtype: int64\n",
      "---- test ----\n",
      "WD       1258\n",
      "New       117\n",
      "COD        44\n",
      "ConLD      17\n",
      "CWD         8\n",
      "Oth         4\n",
      "ConLI       4\n",
      "ConLw       3\n",
      "Con         3\n",
      "Name: SaleType, dtype: int64 \n",
      "\n"
     ]
    }
   ],
   "source": [
    "val_count('SaleType')"
   ]
  },
  {
   "cell_type": "markdown",
   "metadata": {
    "hidden": true
   },
   "source": [
    "#### 결측치 확인\n",
    "- test의 SaleType에 결측 한개 -> 최빈값 WD로 채우기"
   ]
  },
  {
   "cell_type": "code",
   "execution_count": 143,
   "metadata": {
    "hidden": true
   },
   "outputs": [],
   "source": [
    "test['SaleType'].fillna('WD', inplace=True)"
   ]
  },
  {
   "cell_type": "markdown",
   "metadata": {
    "hidden": true
   },
   "source": [
    "#### 분류"
   ]
  },
  {
   "cell_type": "code",
   "execution_count": 144,
   "metadata": {
    "hidden": true
   },
   "outputs": [],
   "source": [
    "feature_onehot.extend(['SaleType', 'SaleCondition'])"
   ]
  },
  {
   "cell_type": "markdown",
   "metadata": {
    "hidden": true
   },
   "source": [
    "----------------------------------\n",
    "## 저장"
   ]
  },
  {
   "cell_type": "code",
   "execution_count": 145,
   "metadata": {
    "hidden": true
   },
   "outputs": [],
   "source": [
    "train.to_csv('data/train_pre1.csv')\n",
    "test.to_csv('data/test_pre1.csv')"
   ]
  },
  {
   "cell_type": "code",
   "execution_count": 146,
   "metadata": {
    "hidden": true
   },
   "outputs": [],
   "source": [
    "feature_dict = {'raw':feature_raw, 'dis':feature_dis, \n",
    "               'map':feature_map, 'onehot':feature_onehot,\n",
    "                'extra':feature_extra, 'def':feature_del\n",
    "               }"
   ]
  },
  {
   "cell_type": "code",
   "execution_count": 147,
   "metadata": {
    "hidden": true
   },
   "outputs": [],
   "source": [
    "#features = pd.DataFrame(feature_dict)\n",
    "features = pd.DataFrame(dict([ (k,pd.Series(v)) for k,v in feature_dict.items() ]))\n",
    "features.to_csv('data/feature_classification.csv')"
   ]
  },
  {
   "cell_type": "code",
   "execution_count": null,
   "metadata": {
    "hidden": true
   },
   "outputs": [],
   "source": []
  }
 ],
 "metadata": {
  "kernelspec": {
   "display_name": "Python 3",
   "language": "python",
   "name": "python3"
  },
  "language_info": {
   "codemirror_mode": {
    "name": "ipython",
    "version": 3
   },
   "file_extension": ".py",
   "mimetype": "text/x-python",
   "name": "python",
   "nbconvert_exporter": "python",
   "pygments_lexer": "ipython3",
   "version": "3.8.8"
  },
  "latex_envs": {
   "LaTeX_envs_menu_present": true,
   "autoclose": false,
   "autocomplete": true,
   "bibliofile": "biblio.bib",
   "cite_by": "apalike",
   "current_citInitial": 1,
   "eqLabelWithNumbers": true,
   "eqNumInitial": 1,
   "hotkeys": {
    "equation": "Ctrl-E",
    "itemize": "Ctrl-I"
   },
   "labels_anchors": false,
   "latex_user_defs": false,
   "report_style_numbering": false,
   "user_envs_cfg": false
  },
  "toc": {
   "base_numbering": 1,
   "nav_menu": {},
   "number_sections": true,
   "sideBar": true,
   "skip_h1_title": false,
   "title_cell": "Table of Contents",
   "title_sidebar": "Contents",
   "toc_cell": false,
   "toc_position": {
    "height": "calc(100% - 180px)",
    "left": "10px",
    "top": "150px",
    "width": "197.3px"
   },
   "toc_section_display": true,
   "toc_window_display": true
  },
  "varInspector": {
   "cols": {
    "lenName": 16,
    "lenType": 16,
    "lenVar": 40
   },
   "kernels_config": {
    "python": {
     "delete_cmd_postfix": "",
     "delete_cmd_prefix": "del ",
     "library": "var_list.py",
     "varRefreshCmd": "print(var_dic_list())"
    },
    "r": {
     "delete_cmd_postfix": ") ",
     "delete_cmd_prefix": "rm(",
     "library": "var_list.r",
     "varRefreshCmd": "cat(var_dic_list()) "
    }
   },
   "types_to_exclude": [
    "module",
    "function",
    "builtin_function_or_method",
    "instance",
    "_Feature"
   ],
   "window_display": false
  }
 },
 "nbformat": 4,
 "nbformat_minor": 2
}
