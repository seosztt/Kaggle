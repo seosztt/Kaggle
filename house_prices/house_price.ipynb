{
 "cells": [
  {
   "cell_type": "markdown",
   "metadata": {
    "heading_collapsed": true
   },
   "source": [
    "# 데이터 불러오기"
   ]
  },
  {
   "cell_type": "code",
   "execution_count": 1,
   "metadata": {
    "ExecuteTime": {
     "end_time": "2021-09-06T06:02:01.211203Z",
     "start_time": "2021-09-06T06:02:01.200237Z"
    },
    "hidden": true
   },
   "outputs": [],
   "source": [
    "import numpy as np\n",
    "import pandas as pd\n",
    "import matplotlib.pyplot as plt\n",
    "import seaborn as sns"
   ]
  },
  {
   "cell_type": "code",
   "execution_count": 2,
   "metadata": {
    "ExecuteTime": {
     "end_time": "2021-09-06T06:02:01.415026Z",
     "start_time": "2021-09-06T06:01:56.844Z"
    },
    "hidden": true
   },
   "outputs": [],
   "source": [
    "#train_link = \"https://bit.ly/38Lia2e\"\n",
    "#test_link = \"https://bit.ly/3h5eqNL\"\n",
    "#train1 = pd.read_csv(train_link)\n",
    "#test1 = pd.read_csv(test_link)"
   ]
  },
  {
   "cell_type": "code",
   "execution_count": 3,
   "metadata": {
    "ExecuteTime": {
     "end_time": "2021-09-06T06:02:05.875531Z",
     "start_time": "2021-09-06T06:02:05.770971Z"
    },
    "hidden": true
   },
   "outputs": [],
   "source": [
    "train = pd.read_csv('data/train.csv')\n",
    "test = pd.read_csv('data/test.csv')\n",
    "train1 = pd.read_csv('data/train.csv')\n",
    "test1 = pd.read_csv('data/test.csv') "
   ]
  },
  {
   "cell_type": "code",
   "execution_count": 4,
   "metadata": {
    "ExecuteTime": {
     "end_time": "2021-09-06T04:36:30.622179Z",
     "start_time": "2021-09-06T04:36:30.603694Z"
    },
    "hidden": true
   },
   "outputs": [
    {
     "data": {
      "text/plain": [
       "(1460, 81)"
      ]
     },
     "execution_count": 4,
     "metadata": {},
     "output_type": "execute_result"
    }
   ],
   "source": [
    "train.shape"
   ]
  },
  {
   "cell_type": "code",
   "execution_count": 5,
   "metadata": {
    "ExecuteTime": {
     "end_time": "2021-09-06T04:36:32.785866Z",
     "start_time": "2021-09-06T04:36:32.766742Z"
    },
    "hidden": true
   },
   "outputs": [
    {
     "data": {
      "text/plain": [
       "(1459, 80)"
      ]
     },
     "execution_count": 5,
     "metadata": {},
     "output_type": "execute_result"
    }
   ],
   "source": [
    "test.shape"
   ]
  },
  {
   "cell_type": "code",
   "execution_count": 11,
   "metadata": {
    "ExecuteTime": {
     "end_time": "2021-09-06T04:36:35.045435Z",
     "start_time": "2021-09-06T04:36:34.909734Z"
    },
    "hidden": true
   },
   "outputs": [
    {
     "data": {
      "text/plain": [
       "count      1460.000000\n",
       "mean     180921.195890\n",
       "std       79442.502883\n",
       "min       34900.000000\n",
       "25%      129975.000000\n",
       "50%      163000.000000\n",
       "75%      214000.000000\n",
       "max      755000.000000\n",
       "Name: SalePrice, dtype: float64"
      ]
     },
     "execution_count": 11,
     "metadata": {},
     "output_type": "execute_result"
    }
   ],
   "source": [
    "train['SalePrice'].describe()"
   ]
  },
  {
   "cell_type": "code",
   "execution_count": 17,
   "metadata": {},
   "outputs": [
    {
     "data": {
      "text/plain": [
       "array([[1.       , 0.7909816],\n",
       "       [0.7909816, 1.       ]])"
      ]
     },
     "execution_count": 17,
     "metadata": {},
     "output_type": "execute_result"
    }
   ],
   "source": [
    "np.corrcoef(train['SalePrice'], train['OverallQual'])"
   ]
  },
  {
   "cell_type": "markdown",
   "metadata": {
    "ExecuteTime": {
     "end_time": "2021-09-06T04:13:51.458253Z",
     "start_time": "2021-09-06T04:13:51.453200Z"
    }
   },
   "source": [
    "# 전처리\n"
   ]
  },
  {
   "cell_type": "markdown",
   "metadata": {
    "heading_collapsed": true
   },
   "source": [
    "## 전처리 시작"
   ]
  },
  {
   "cell_type": "markdown",
   "metadata": {
    "heading_collapsed": true,
    "hidden": true
   },
   "source": [
    "### 필요한 함수 정의"
   ]
  },
  {
   "cell_type": "code",
   "execution_count": 12,
   "metadata": {
    "ExecuteTime": {
     "end_time": "2021-09-06T08:12:36.972953Z",
     "start_time": "2021-09-06T08:12:36.962016Z"
    },
    "hidden": true
   },
   "outputs": [],
   "source": [
    "def null_count(dataset):\n",
    "    '''\n",
    "    해당 데이터셋에 결측치가 있는 feature와 개수 출력\n",
    "    '''\n",
    "    return dataset.isnull().sum()[dataset.isnull().sum()!=0]\n",
    "    \n",
    "def null_check(feature):\n",
    "    '''\n",
    "    해당 feature의 결측치가 각 데이터셋에 얼마나 있는지 확인.\n",
    "    dataset도 input으로 받아야 할지 고민.\n",
    "    '''\n",
    "    print('--', feature, '--')\n",
    "    print('train :', train[feature].isnull().sum())\n",
    "    print('test :', test[feature].isnull().sum())\n",
    "\n",
    "def val_list(dataset, feature):\n",
    "    '''\n",
    "    해당 dataset의 feature가 가진 value들 중복 없이 리스트로 출력\n",
    "    '''\n",
    "    return list(set(dataset[feature].values.tolist()))\n",
    "\n",
    "#val_list = set(train['MSZoning'].values.tolist()) - 중복 없이 value종류 추출 \n",
    "# 근데 이건 순서가 내 맘대로 안됨\n",
    "\n",
    "def val_count(feature):\n",
    "    '''\n",
    "    train, test 데이터의 value_count를 같이 출력\n",
    "    input에 데이터셋도 받는게 좋을지..?\n",
    "    '''\n",
    "    print('-----', feature, '-----')\n",
    "    print('---- train ----')\n",
    "    print(train[feature].value_counts())\n",
    "    print('---- test ----')\n",
    "    print(test[feature].value_counts(),'\\n')\n",
    "\n",
    "def map_order(dataset, feature, val_list):\n",
    "    '''\n",
    "    Value들을 0부터 순서대로 매핑\n",
    "    데이터셋(train/test), feature명, 원하는 순서대로 value_list 입력\n",
    "    '''\n",
    "    mapping = dict(zip(val_list, range(len(val_list))))\n",
    "    return dataset[feature].map(mapping) #원하는 순서대로 0부터 매핑된 컬럼 출력\n",
    "\n",
    "\n",
    "def val_cat(dataset, feature):\n",
    "    '''\n",
    "    dataset, feature를 입력받아서 해당 feature에 대해 categorize\n",
    "    '''\n",
    "    val_list = set(dataset[feature].values.tolist())\n",
    "    for feat in val_list:\n",
    "        dataset[feat] = (dataset[feature]==feat).astype(int)\n",
    "    dataset = dataset.drop(feature, axis = 1)\n",
    "    \n",
    "def avg_price(feature):\n",
    "    '''\n",
    "    train set 내의 해당 feature의 value들에 따른 가격의 평균\n",
    "    '''\n",
    "    for feat in set(train[feature].values.tolist()):\n",
    "        mean_price = train['SalePrice'][train[feature] == feat].mean()\n",
    "        print(feat, ':', mean_price)"
   ]
  },
  {
   "cell_type": "markdown",
   "metadata": {
    "hidden": true
   },
   "source": [
    "### feature 분류"
   ]
  },
  {
   "cell_type": "markdown",
   "metadata": {
    "hidden": true
   },
   "source": [
    "- feature들을 하나씩 보면서 5가지 분류로 나눌 계획.  \n",
    "- 각 분류별로 리스트에 feature이름 저장.  \n",
    "  \n",
    "  \n",
    "- <span class=\"mark\">feature_raw</span> : 그대로 넣을거   \n",
    "     - 방 크기 등 데이터가 숫자인 값       \n",
    "- <span class=\"mark\">feature_map</span> : 숫자에 매핑할 것   \n",
    "    - Quality의 Poor ~ Excellent 처럼 숫자는 아니지만 value간에 순서?가 있는 것은 0,1,2,~ 로 매핑\n",
    "    - 혹은 다른 방식으로?(0부터 증가하는게 아니라) 매핑할수도\n",
    "- <span class=\"mark\">feature_cat</span> : 카테고라이즈?? 시킬 것\n",
    "    - 각각의 특성이 독립?이라서 컬럼을 새로 만들어 주는게 좋아 보이는 경우\n",
    "- <span class=\"mark\">feature_extra</span> : 따로 봐야 할 것  \n",
    "    - 그래프를 그려본다거나, 가격과의 관계를 직접 보고 판단\n",
    "- <span class=\"mark\">feature_del</span> : 삭제\n",
    "    - 필요 없다고 판단되어 삭제 할 데이터\n",
    "    "
   ]
  },
  {
   "cell_type": "code",
   "execution_count": 8,
   "metadata": {
    "ExecuteTime": {
     "end_time": "2021-09-06T06:04:12.614077Z",
     "start_time": "2021-09-06T06:04:12.608059Z"
    },
    "hidden": true
   },
   "outputs": [],
   "source": [
    "feature_raw = []\n",
    "feature_map = []\n",
    "feature_cat = []\n",
    "feature_extra = []\n",
    "feature_del = []"
   ]
  },
  {
   "cell_type": "markdown",
   "metadata": {},
   "source": [
    "## Feature들 살펴보기"
   ]
  },
  {
   "cell_type": "markdown",
   "metadata": {
    "heading_collapsed": true
   },
   "source": [
    "----------------------------------\n",
    "### ID"
   ]
  },
  {
   "cell_type": "markdown",
   "metadata": {
    "hidden": true
   },
   "source": [
    "#### 의견"
   ]
  },
  {
   "cell_type": "markdown",
   "metadata": {
    "ExecuteTime": {
     "end_time": "2021-09-06T06:24:54.937345Z",
     "start_time": "2021-09-06T06:24:54.930399Z"
    },
    "hidden": true
   },
   "source": [
    "그냥 아이디임.\n",
    "삭제해도 될 듯."
   ]
  },
  {
   "cell_type": "markdown",
   "metadata": {
    "hidden": true
   },
   "source": [
    "#### 데이터 확인"
   ]
  },
  {
   "cell_type": "code",
   "execution_count": 5,
   "metadata": {
    "ExecuteTime": {
     "end_time": "2021-09-06T06:04:23.718527Z",
     "start_time": "2021-09-06T06:04:23.710550Z"
    },
    "hidden": true
   },
   "outputs": [
    {
     "data": {
      "text/plain": [
       "0    1\n",
       "1    2\n",
       "2    3\n",
       "3    4\n",
       "4    5\n",
       "Name: Id, dtype: int64"
      ]
     },
     "execution_count": 5,
     "metadata": {},
     "output_type": "execute_result"
    }
   ],
   "source": [
    "train['Id'].head()"
   ]
  },
  {
   "cell_type": "markdown",
   "metadata": {
    "hidden": true
   },
   "source": [
    "#### 분류"
   ]
  },
  {
   "cell_type": "code",
   "execution_count": 6,
   "metadata": {
    "ExecuteTime": {
     "end_time": "2021-09-06T06:04:25.089378Z",
     "start_time": "2021-09-06T06:04:25.084427Z"
    },
    "hidden": true
   },
   "outputs": [],
   "source": [
    "feature_del.append('Id')"
   ]
  },
  {
   "cell_type": "markdown",
   "metadata": {
    "heading_collapsed": true
   },
   "source": [
    "----------------------------------\n",
    "### MSSubClass"
   ]
  },
  {
   "cell_type": "markdown",
   "metadata": {
    "hidden": true
   },
   "source": [
    "- The building class  \n",
    "- 빌딩의 클래스?  "
   ]
  },
  {
   "cell_type": "markdown",
   "metadata": {
    "hidden": true
   },
   "source": [
    "#### 의견\n",
    "- 일단 숫자로 값을 줬으니까 그대로 넣어보기.\n",
    "- Normalize에 대한 생각"
   ]
  },
  {
   "cell_type": "markdown",
   "metadata": {
    "hidden": true
   },
   "source": [
    "#### 데이터 확인\n",
    "- 20부터 190까지 숫자가 더 클수록 좋은거같음.  "
   ]
  },
  {
   "cell_type": "code",
   "execution_count": 7,
   "metadata": {
    "ExecuteTime": {
     "end_time": "2021-09-06T06:04:27.230077Z",
     "start_time": "2021-09-06T06:04:27.221800Z"
    },
    "hidden": true,
    "scrolled": true
   },
   "outputs": [
    {
     "name": "stdout",
     "output_type": "stream",
     "text": [
      "----- MSSubClass -----\n",
      "---- train ----\n",
      "20     536\n",
      "60     299\n",
      "50     144\n",
      "120     87\n",
      "30      69\n",
      "160     63\n",
      "70      60\n",
      "80      58\n",
      "90      52\n",
      "190     30\n",
      "85      20\n",
      "75      16\n",
      "45      12\n",
      "180     10\n",
      "40       4\n",
      "Name: MSSubClass, dtype: int64\n",
      "---- test ----\n",
      "20     543\n",
      "60     276\n",
      "50     143\n",
      "120     95\n",
      "30      70\n",
      "70      68\n",
      "160     65\n",
      "80      60\n",
      "90      57\n",
      "190     31\n",
      "85      28\n",
      "180      7\n",
      "75       7\n",
      "45       6\n",
      "40       2\n",
      "150      1\n",
      "Name: MSSubClass, dtype: int64 \n",
      "\n"
     ]
    }
   ],
   "source": [
    "val_count('MSSubClass')"
   ]
  },
  {
   "cell_type": "markdown",
   "metadata": {
    "hidden": true
   },
   "source": [
    "#### 결측치 확인\n",
    "- 결측치 없음"
   ]
  },
  {
   "cell_type": "code",
   "execution_count": 8,
   "metadata": {
    "ExecuteTime": {
     "end_time": "2021-09-06T06:04:28.624520Z",
     "start_time": "2021-09-06T06:04:28.620521Z"
    },
    "hidden": true
   },
   "outputs": [
    {
     "name": "stdout",
     "output_type": "stream",
     "text": [
      "-- MSSubClass --\n",
      "train : 0\n",
      "test : 0\n"
     ]
    }
   ],
   "source": [
    "null_check('MSSubClass')"
   ]
  },
  {
   "cell_type": "markdown",
   "metadata": {
    "hidden": true
   },
   "source": [
    "#### 분류\n",
    "- 일단 숫자로 값을 줬으니까 그대로 넣어보기.  \n",
    "- feature_raw 리스트에 추가 (그대로 넣을 것)"
   ]
  },
  {
   "cell_type": "code",
   "execution_count": 9,
   "metadata": {
    "ExecuteTime": {
     "end_time": "2021-09-06T06:04:29.414969Z",
     "start_time": "2021-09-06T06:04:29.410990Z"
    },
    "hidden": true
   },
   "outputs": [],
   "source": [
    "feature_raw.append('MSSubClass')"
   ]
  },
  {
   "cell_type": "markdown",
   "metadata": {
    "heading_collapsed": true
   },
   "source": [
    "----------------------------------\n",
    "### MSZoning"
   ]
  },
  {
   "cell_type": "markdown",
   "metadata": {
    "hidden": true
   },
   "source": [
    "- The general zoning classification  \n",
    "- 주거구역 / 상업구역 등 집이 위치한 구역?을 나타냄."
   ]
  },
  {
   "cell_type": "markdown",
   "metadata": {
    "hidden": true
   },
   "source": [
    "#### 의견"
   ]
  },
  {
   "cell_type": "markdown",
   "metadata": {
    "hidden": true
   },
   "source": [
    "- C, FV 생각하면 <span class=\"mark\">카테고라이즈</span> 하고 싶음.\n",
    "- 근데 RL, RM, RH간에는 순서?가 있어 보여서..  \n",
    "->일단 RL -> RM -> RH -> C -> FV 순으로 숫자로 매핑해보기로(0~4)"
   ]
  },
  {
   "cell_type": "markdown",
   "metadata": {
    "hidden": true
   },
   "source": [
    "#### 데이터 확인\n",
    "- RL -> RM -> RH 순으로 인구 밀집도가 높음.(얘네가 데이터의 대부분임)  \n",
    "- 나머지 FV(물에 떠있는 집;;), C(상업지구)는 어떻게 처리할지..  "
   ]
  },
  {
   "cell_type": "code",
   "execution_count": 10,
   "metadata": {
    "ExecuteTime": {
     "end_time": "2021-09-06T06:04:31.543507Z",
     "start_time": "2021-09-06T06:04:31.534019Z"
    },
    "hidden": true
   },
   "outputs": [
    {
     "name": "stdout",
     "output_type": "stream",
     "text": [
      "----- MSZoning -----\n",
      "---- train ----\n",
      "RL         1151\n",
      "RM          218\n",
      "FV           65\n",
      "RH           16\n",
      "C (all)      10\n",
      "Name: MSZoning, dtype: int64\n",
      "---- test ----\n",
      "RL         1114\n",
      "RM          242\n",
      "FV           74\n",
      "C (all)      15\n",
      "RH           10\n",
      "Name: MSZoning, dtype: int64 \n",
      "\n"
     ]
    }
   ],
   "source": [
    "val_count('MSZoning')"
   ]
  },
  {
   "cell_type": "markdown",
   "metadata": {
    "hidden": true
   },
   "source": [
    "#### 결측치 확인\n",
    "- test셋에 결측치 4개.\n",
    "- 데이터를 보면 RL이 압도적으로 많으니까.. RL로 결측 채워보자"
   ]
  },
  {
   "cell_type": "code",
   "execution_count": 11,
   "metadata": {
    "ExecuteTime": {
     "end_time": "2021-09-06T06:04:33.141214Z",
     "start_time": "2021-09-06T06:04:33.134244Z"
    },
    "hidden": true
   },
   "outputs": [
    {
     "name": "stdout",
     "output_type": "stream",
     "text": [
      "-- MSZoning --\n",
      "train : 0\n",
      "test : 4\n"
     ]
    }
   ],
   "source": [
    "null_check('MSZoning')"
   ]
  },
  {
   "cell_type": "code",
   "execution_count": 12,
   "metadata": {
    "ExecuteTime": {
     "end_time": "2021-09-06T06:04:35.966299Z",
     "start_time": "2021-09-06T06:04:35.958321Z"
    },
    "hidden": true
   },
   "outputs": [
    {
     "name": "stdout",
     "output_type": "stream",
     "text": [
      "-- MSZoning --\n",
      "train : 0\n",
      "test : 0\n"
     ]
    }
   ],
   "source": [
    "test['MSZoning'].fillna('RL', inplace=True)\n",
    "null_check('MSZoning')"
   ]
  },
  {
   "cell_type": "markdown",
   "metadata": {
    "hidden": true
   },
   "source": [
    "#### 매핑\n",
    "- C, FV 생각하면 <span class=\"mark\">카테고라이즈</span> 하고 싶은데 근데 RL, RM, RH간에는 순서?가 있어 보여서..  \n",
    "->일단 RL -> RM -> RH -> C -> FV 순으로 숫자로 매핑해보기로(0~4)"
   ]
  },
  {
   "cell_type": "code",
   "execution_count": 13,
   "metadata": {
    "ExecuteTime": {
     "end_time": "2021-09-06T06:04:42.314935Z",
     "start_time": "2021-09-06T06:04:42.307887Z"
    },
    "hidden": true
   },
   "outputs": [],
   "source": [
    "# RL -> RM -> RH -> C -> FV \n",
    "MSZoning_list = ['RL', 'RM', 'RH', 'C (all)', 'FV']\n",
    "train['MSZoning'] = map_order(train, 'MSZoning', MSZoning_list)\n",
    "test['MSZoning'] = map_order(test, 'MSZoning', MSZoning_list)"
   ]
  },
  {
   "cell_type": "code",
   "execution_count": 14,
   "metadata": {
    "ExecuteTime": {
     "end_time": "2021-09-06T06:04:42.901285Z",
     "start_time": "2021-09-06T06:04:42.888292Z"
    },
    "hidden": true,
    "scrolled": true
   },
   "outputs": [
    {
     "name": "stdout",
     "output_type": "stream",
     "text": [
      "----- MSZoning -----\n",
      "---- train ----\n",
      "0    1151\n",
      "1     218\n",
      "4      65\n",
      "2      16\n",
      "3      10\n",
      "Name: MSZoning, dtype: int64\n",
      "---- test ----\n",
      "0    1118\n",
      "1     242\n",
      "4      74\n",
      "3      15\n",
      "2      10\n",
      "Name: MSZoning, dtype: int64 \n",
      "\n"
     ]
    }
   ],
   "source": [
    "val_count('MSZoning')"
   ]
  },
  {
   "cell_type": "markdown",
   "metadata": {
    "hidden": true
   },
   "source": [
    "#### 분류\n",
    "- 일단 순서를 줘서 매핑을 했으니까 feature_order 리스트에 'MSZoning' 넣기"
   ]
  },
  {
   "cell_type": "code",
   "execution_count": 16,
   "metadata": {
    "ExecuteTime": {
     "end_time": "2021-09-06T06:04:58.674020Z",
     "start_time": "2021-09-06T06:04:58.670007Z"
    },
    "hidden": true
   },
   "outputs": [],
   "source": [
    "feature_map.append('MSZoning')"
   ]
  },
  {
   "cell_type": "markdown",
   "metadata": {
    "heading_collapsed": true
   },
   "source": [
    "----------------------------------\n",
    "### LotFrontage / LotArea"
   ]
  },
  {
   "cell_type": "markdown",
   "metadata": {
    "hidden": true
   },
   "source": [
    "- LotFrontage : Linear feet of street connected to property\n",
    "- LotArea : Lot size in square feet"
   ]
  },
  {
   "cell_type": "markdown",
   "metadata": {
    "hidden": true
   },
   "source": [
    "#### 의견"
   ]
  },
  {
   "cell_type": "markdown",
   "metadata": {
    "hidden": true
   },
   "source": [
    "- 둘 다 길이, 넓이로 숫자 데이터라서 그냥 넣을 것.\n",
    "- <span class=\"mark\">값이 큰데 어떻게 normalize할지?</span>\n",
    "- <span class=\"mark\">길이가 길면, 면적도 넓어질텐데 둘을 하나로 합칠 수 있나?</span>"
   ]
  },
  {
   "cell_type": "markdown",
   "metadata": {
    "hidden": true
   },
   "source": [
    "#### 데이터 확인"
   ]
  },
  {
   "cell_type": "code",
   "execution_count": 17,
   "metadata": {
    "ExecuteTime": {
     "end_time": "2021-09-06T06:05:00.169136Z",
     "start_time": "2021-09-06T06:05:00.152181Z"
    },
    "cell_style": "split",
    "hidden": true
   },
   "outputs": [
    {
     "name": "stdout",
     "output_type": "stream",
     "text": [
      "----- LotFrontage -----\n",
      "---- train ----\n",
      "60.0     143\n",
      "70.0      70\n",
      "80.0      69\n",
      "50.0      57\n",
      "75.0      53\n",
      "        ... \n",
      "106.0      1\n",
      "38.0       1\n",
      "138.0      1\n",
      "140.0      1\n",
      "137.0      1\n",
      "Name: LotFrontage, Length: 110, dtype: int64\n",
      "---- test ----\n",
      "60.0     133\n",
      "80.0      68\n",
      "70.0      63\n",
      "50.0      60\n",
      "75.0      52\n",
      "        ... \n",
      "22.0       1\n",
      "136.0      1\n",
      "149.0      1\n",
      "31.0       1\n",
      "131.0      1\n",
      "Name: LotFrontage, Length: 115, dtype: int64 \n",
      "\n"
     ]
    }
   ],
   "source": [
    "val_count('LotFrontage')"
   ]
  },
  {
   "cell_type": "code",
   "execution_count": 18,
   "metadata": {
    "ExecuteTime": {
     "end_time": "2021-09-06T06:05:00.632136Z",
     "start_time": "2021-09-06T06:05:00.621165Z"
    },
    "cell_style": "split",
    "hidden": true
   },
   "outputs": [
    {
     "name": "stdout",
     "output_type": "stream",
     "text": [
      "----- LotArea -----\n",
      "---- train ----\n",
      "7200     25\n",
      "9600     24\n",
      "6000     17\n",
      "10800    14\n",
      "9000     14\n",
      "         ..\n",
      "7094      1\n",
      "6130      1\n",
      "9337      1\n",
      "5232      1\n",
      "8190      1\n",
      "Name: LotArea, Length: 1073, dtype: int64\n",
      "---- test ----\n",
      "9600     20\n",
      "7200     18\n",
      "6000     17\n",
      "9000     15\n",
      "7500     12\n",
      "         ..\n",
      "9638      1\n",
      "9545      1\n",
      "11563     1\n",
      "13607     1\n",
      "12291     1\n",
      "Name: LotArea, Length: 1106, dtype: int64 \n",
      "\n"
     ]
    }
   ],
   "source": [
    "val_count('LotArea')"
   ]
  },
  {
   "cell_type": "markdown",
   "metadata": {
    "hidden": true
   },
   "source": [
    "#### 결측치 확인\n",
    "- LotFrontage에 결측치가 꽤 많음\n",
    "- 넓이에 따라서 (넓으면 길이도 길게) 넣어주면 좋을거같음"
   ]
  },
  {
   "cell_type": "code",
   "execution_count": 19,
   "metadata": {
    "ExecuteTime": {
     "end_time": "2021-09-06T06:05:01.535951Z",
     "start_time": "2021-09-06T06:05:01.526945Z"
    },
    "hidden": true
   },
   "outputs": [
    {
     "name": "stdout",
     "output_type": "stream",
     "text": [
      "-- LotFrontage --\n",
      "train : 259\n",
      "test : 227\n",
      "-- LotArea --\n",
      "train : 0\n",
      "test : 0\n"
     ]
    },
    {
     "data": {
      "text/plain": [
       "(None, None)"
      ]
     },
     "execution_count": 19,
     "metadata": {},
     "output_type": "execute_result"
    }
   ],
   "source": [
    "null_check('LotFrontage'), null_check('LotArea')"
   ]
  },
  {
   "cell_type": "markdown",
   "metadata": {
    "hidden": true
   },
   "source": [
    "- 길이 / 넓이 의 비율을 평균내서, 이 비율을 넓이에 곱해줘서 결측치를 채워줄거임.\n",
    "- 다행히도 넓이는 결측이 없어서 ㅎㅎ (다행히?다행이?)"
   ]
  },
  {
   "cell_type": "code",
   "execution_count": 20,
   "metadata": {
    "ExecuteTime": {
     "end_time": "2021-09-06T06:05:02.284742Z",
     "start_time": "2021-09-06T06:05:02.250827Z"
    },
    "hidden": true
   },
   "outputs": [],
   "source": [
    "#Lot_ratio : train/test 데이터의 비율을 다 구해서 평균\n",
    "Lot_ratio = ((train['LotFrontage']/train['LotArea']).mean() + (test['LotFrontage']/test['LotArea']).mean())/2\n",
    "train['LotFrontage'].fillna(train['LotArea']*Lot_ratio, inplace=True)\n",
    "test['LotFrontage'].fillna(test['LotArea']*Lot_ratio, inplace=True) "
   ]
  },
  {
   "cell_type": "code",
   "execution_count": 21,
   "metadata": {
    "ExecuteTime": {
     "end_time": "2021-09-06T06:05:02.776255Z",
     "start_time": "2021-09-06T06:05:02.766279Z"
    },
    "hidden": true
   },
   "outputs": [
    {
     "name": "stdout",
     "output_type": "stream",
     "text": [
      "-- LotFrontage --\n",
      "train : 0\n",
      "test : 0\n"
     ]
    }
   ],
   "source": [
    "null_check('LotFrontage')"
   ]
  },
  {
   "cell_type": "markdown",
   "metadata": {
    "hidden": true
   },
   "source": [
    "#### 분류\n",
    "- 숫자(길이, 넓이) 데이터니까 일단 그냥 넣기\n",
    "- Normalize에 대한 고민."
   ]
  },
  {
   "cell_type": "code",
   "execution_count": 22,
   "metadata": {
    "ExecuteTime": {
     "end_time": "2021-09-06T06:05:03.941151Z",
     "start_time": "2021-09-06T06:05:03.937161Z"
    },
    "hidden": true
   },
   "outputs": [],
   "source": [
    "feature_raw.append('LotFrontage')\n",
    "feature_raw.append('LotArea')"
   ]
  },
  {
   "cell_type": "markdown",
   "metadata": {
    "heading_collapsed": true
   },
   "source": [
    "----------------------------------\n",
    "### Street / Alley"
   ]
  },
  {
   "cell_type": "markdown",
   "metadata": {
    "hidden": true
   },
   "source": [
    "- 거리, 골목의 유형?"
   ]
  },
  {
   "cell_type": "markdown",
   "metadata": {
    "hidden": true
   },
   "source": [
    "#### 의견"
   ]
  },
  {
   "cell_type": "markdown",
   "metadata": {
    "hidden": true
   },
   "source": [
    "- Street는 Gravl, Pave를 categorize\n",
    "- Alley는 NA 까지 3개로 categorize?\n",
    "- <span class=\"mark\">그냥 0/1/2를 쓰면 안되는지?</span>"
   ]
  },
  {
   "cell_type": "markdown",
   "metadata": {
    "hidden": true
   },
   "source": [
    "#### 데이터 확인\n",
    "- Gravel / Pave / NA(골목이 없음)"
   ]
  },
  {
   "cell_type": "code",
   "execution_count": 23,
   "metadata": {
    "ExecuteTime": {
     "end_time": "2021-09-06T06:05:05.525465Z",
     "start_time": "2021-09-06T06:05:05.507512Z"
    },
    "hidden": true
   },
   "outputs": [
    {
     "name": "stdout",
     "output_type": "stream",
     "text": [
      "----- Street -----\n",
      "---- train ----\n",
      "Pave    1454\n",
      "Grvl       6\n",
      "Name: Street, dtype: int64\n",
      "---- test ----\n",
      "Pave    1453\n",
      "Grvl       6\n",
      "Name: Street, dtype: int64 \n",
      "\n",
      "----- Alley -----\n",
      "---- train ----\n",
      "Grvl    50\n",
      "Pave    41\n",
      "Name: Alley, dtype: int64\n",
      "---- test ----\n",
      "Grvl    70\n",
      "Pave    37\n",
      "Name: Alley, dtype: int64 \n",
      "\n"
     ]
    },
    {
     "data": {
      "text/plain": [
       "(None, None)"
      ]
     },
     "execution_count": 23,
     "metadata": {},
     "output_type": "execute_result"
    }
   ],
   "source": [
    "val_count('Street'), val_count('Alley')"
   ]
  },
  {
   "cell_type": "markdown",
   "metadata": {
    "hidden": true
   },
   "source": [
    "#### 결측치 확인"
   ]
  },
  {
   "cell_type": "markdown",
   "metadata": {
    "hidden": true
   },
   "source": [
    "- Alley에 골목이 없는 경우 null 값이 들어가 있는데, 'NA'로 채워주기"
   ]
  },
  {
   "cell_type": "code",
   "execution_count": 24,
   "metadata": {
    "ExecuteTime": {
     "end_time": "2021-09-06T06:05:06.740100Z",
     "start_time": "2021-09-06T06:05:06.733145Z"
    },
    "hidden": true
   },
   "outputs": [
    {
     "name": "stdout",
     "output_type": "stream",
     "text": [
      "-- Street --\n",
      "train : 0\n",
      "test : 0\n",
      "-- Alley --\n",
      "train : 1369\n",
      "test : 1352\n"
     ]
    },
    {
     "data": {
      "text/plain": [
       "(None, None)"
      ]
     },
     "execution_count": 24,
     "metadata": {},
     "output_type": "execute_result"
    }
   ],
   "source": [
    "null_check('Street'), null_check('Alley')"
   ]
  },
  {
   "cell_type": "code",
   "execution_count": 25,
   "metadata": {
    "ExecuteTime": {
     "end_time": "2021-09-06T06:05:07.250743Z",
     "start_time": "2021-09-06T06:05:07.243763Z"
    },
    "hidden": true
   },
   "outputs": [],
   "source": [
    "train['Alley'].fillna('NA', inplace=True)\n",
    "test['Alley'].fillna('NA', inplace=True)"
   ]
  },
  {
   "cell_type": "code",
   "execution_count": 26,
   "metadata": {
    "ExecuteTime": {
     "end_time": "2021-09-06T06:05:07.799001Z",
     "start_time": "2021-09-06T06:05:07.790025Z"
    },
    "hidden": true
   },
   "outputs": [
    {
     "name": "stdout",
     "output_type": "stream",
     "text": [
      "-- Alley --\n",
      "train : 0\n",
      "test : 0\n"
     ]
    }
   ],
   "source": [
    "null_check('Alley')"
   ]
  },
  {
   "cell_type": "code",
   "execution_count": 27,
   "metadata": {
    "ExecuteTime": {
     "end_time": "2021-09-06T06:05:08.331782Z",
     "start_time": "2021-09-06T06:05:08.317824Z"
    },
    "hidden": true
   },
   "outputs": [
    {
     "name": "stdout",
     "output_type": "stream",
     "text": [
      "----- Alley -----\n",
      "---- train ----\n",
      "NA      1369\n",
      "Grvl      50\n",
      "Pave      41\n",
      "Name: Alley, dtype: int64\n",
      "---- test ----\n",
      "NA      1352\n",
      "Grvl      70\n",
      "Pave      37\n",
      "Name: Alley, dtype: int64 \n",
      "\n"
     ]
    }
   ],
   "source": [
    "val_count('Alley')"
   ]
  },
  {
   "cell_type": "code",
   "execution_count": 24,
   "metadata": {},
   "outputs": [
    {
     "data": {
      "text/html": [
       "<div>\n",
       "<style scoped>\n",
       "    .dataframe tbody tr th:only-of-type {\n",
       "        vertical-align: middle;\n",
       "    }\n",
       "\n",
       "    .dataframe tbody tr th {\n",
       "        vertical-align: top;\n",
       "    }\n",
       "\n",
       "    .dataframe thead th {\n",
       "        text-align: right;\n",
       "    }\n",
       "</style>\n",
       "<table border=\"1\" class=\"dataframe\">\n",
       "  <thead>\n",
       "    <tr style=\"text-align: right;\">\n",
       "      <th></th>\n",
       "      <th>Grvl</th>\n",
       "      <th>Pave</th>\n",
       "    </tr>\n",
       "  </thead>\n",
       "  <tbody>\n",
       "    <tr>\n",
       "      <td>0</td>\n",
       "      <td>0</td>\n",
       "      <td>1</td>\n",
       "    </tr>\n",
       "    <tr>\n",
       "      <td>1</td>\n",
       "      <td>0</td>\n",
       "      <td>1</td>\n",
       "    </tr>\n",
       "    <tr>\n",
       "      <td>2</td>\n",
       "      <td>0</td>\n",
       "      <td>1</td>\n",
       "    </tr>\n",
       "    <tr>\n",
       "      <td>3</td>\n",
       "      <td>0</td>\n",
       "      <td>1</td>\n",
       "    </tr>\n",
       "    <tr>\n",
       "      <td>4</td>\n",
       "      <td>0</td>\n",
       "      <td>1</td>\n",
       "    </tr>\n",
       "    <tr>\n",
       "      <td>...</td>\n",
       "      <td>...</td>\n",
       "      <td>...</td>\n",
       "    </tr>\n",
       "    <tr>\n",
       "      <td>1455</td>\n",
       "      <td>0</td>\n",
       "      <td>1</td>\n",
       "    </tr>\n",
       "    <tr>\n",
       "      <td>1456</td>\n",
       "      <td>0</td>\n",
       "      <td>1</td>\n",
       "    </tr>\n",
       "    <tr>\n",
       "      <td>1457</td>\n",
       "      <td>0</td>\n",
       "      <td>1</td>\n",
       "    </tr>\n",
       "    <tr>\n",
       "      <td>1458</td>\n",
       "      <td>0</td>\n",
       "      <td>1</td>\n",
       "    </tr>\n",
       "    <tr>\n",
       "      <td>1459</td>\n",
       "      <td>0</td>\n",
       "      <td>1</td>\n",
       "    </tr>\n",
       "  </tbody>\n",
       "</table>\n",
       "<p>1460 rows × 2 columns</p>\n",
       "</div>"
      ],
      "text/plain": [
       "      Grvl  Pave\n",
       "0        0     1\n",
       "1        0     1\n",
       "2        0     1\n",
       "3        0     1\n",
       "4        0     1\n",
       "...    ...   ...\n",
       "1455     0     1\n",
       "1456     0     1\n",
       "1457     0     1\n",
       "1458     0     1\n",
       "1459     0     1\n",
       "\n",
       "[1460 rows x 2 columns]"
      ]
     },
     "execution_count": 24,
     "metadata": {},
     "output_type": "execute_result"
    }
   ],
   "source": [
    "pd.get_dummies(train['Street'])"
   ]
  },
  {
   "cell_type": "markdown",
   "metadata": {
    "hidden": true
   },
   "source": [
    "#### 분류"
   ]
  },
  {
   "cell_type": "code",
   "execution_count": 28,
   "metadata": {
    "ExecuteTime": {
     "end_time": "2021-09-06T06:05:09.803072Z",
     "start_time": "2021-09-06T06:05:09.798121Z"
    },
    "hidden": true
   },
   "outputs": [],
   "source": [
    "feature_cat.append('Street')\n",
    "feature_cat.append('Alley')"
   ]
  },
  {
   "cell_type": "markdown",
   "metadata": {
    "heading_collapsed": true
   },
   "source": [
    "----------------------------------\n",
    "### LotShape"
   ]
  },
  {
   "cell_type": "markdown",
   "metadata": {
    "hidden": true
   },
   "source": [
    "- General shape of property"
   ]
  },
  {
   "cell_type": "markdown",
   "metadata": {
    "hidden": true
   },
   "source": [
    "#### 의견"
   ]
  },
  {
   "cell_type": "markdown",
   "metadata": {
    "hidden": true
   },
   "source": [
    "- Reg -> IR3 순으로 0,1,2,3 으로 매핑\n",
    "- 근데 이거 뿐만 아니라 Reg처럼 가장 많은 value를 0으로 채우면, <span class=\"mark\">0이 너무 많은거 아닌가??</span>"
   ]
  },
  {
   "cell_type": "markdown",
   "metadata": {
    "hidden": true
   },
   "source": [
    "#### 데이터 확인"
   ]
  },
  {
   "cell_type": "markdown",
   "metadata": {
    "hidden": true
   },
   "source": [
    "- Regular부터, IR의 숫자가 커질수록 안좋은거."
   ]
  },
  {
   "cell_type": "code",
   "execution_count": 29,
   "metadata": {
    "ExecuteTime": {
     "end_time": "2021-09-06T06:05:12.003565Z",
     "start_time": "2021-09-06T06:05:11.996581Z"
    },
    "hidden": true
   },
   "outputs": [
    {
     "name": "stdout",
     "output_type": "stream",
     "text": [
      "----- LotShape -----\n",
      "---- train ----\n",
      "Reg    925\n",
      "IR1    484\n",
      "IR2     41\n",
      "IR3     10\n",
      "Name: LotShape, dtype: int64\n",
      "---- test ----\n",
      "Reg    934\n",
      "IR1    484\n",
      "IR2     35\n",
      "IR3      6\n",
      "Name: LotShape, dtype: int64 \n",
      "\n"
     ]
    }
   ],
   "source": [
    "val_count('LotShape')"
   ]
  },
  {
   "cell_type": "markdown",
   "metadata": {
    "hidden": true
   },
   "source": [
    "#### 결측치 확인\n",
    "- 없음"
   ]
  },
  {
   "cell_type": "code",
   "execution_count": 30,
   "metadata": {
    "ExecuteTime": {
     "end_time": "2021-09-06T06:05:13.138227Z",
     "start_time": "2021-09-06T06:05:13.133278Z"
    },
    "hidden": true
   },
   "outputs": [
    {
     "name": "stdout",
     "output_type": "stream",
     "text": [
      "-- LotShape --\n",
      "train : 0\n",
      "test : 0\n"
     ]
    }
   ],
   "source": [
    "null_check('LotShape')"
   ]
  },
  {
   "cell_type": "markdown",
   "metadata": {
    "hidden": true
   },
   "source": [
    "#### 매핑\n",
    "- Reg -> IR3 을 0->3 순으로 매핑"
   ]
  },
  {
   "cell_type": "code",
   "execution_count": 39,
   "metadata": {
    "ExecuteTime": {
     "end_time": "2021-09-06T06:06:32.305641Z",
     "start_time": "2021-09-06T06:06:32.295701Z"
    },
    "hidden": true
   },
   "outputs": [],
   "source": [
    "map_LotShape = ['Reg', 'IR1', 'IR2', 'IR3']\n",
    "train['LotShape'] = map_order(train, 'LotShape', map_LotShape)\n",
    "test['LotShape'] = map_order(test, 'LotShape', map_LotShape)"
   ]
  },
  {
   "cell_type": "code",
   "execution_count": 40,
   "metadata": {
    "ExecuteTime": {
     "end_time": "2021-09-06T06:06:36.593063Z",
     "start_time": "2021-09-06T06:06:36.584088Z"
    },
    "hidden": true
   },
   "outputs": [
    {
     "name": "stdout",
     "output_type": "stream",
     "text": [
      "----- LotShape -----\n",
      "---- train ----\n",
      "0    925\n",
      "1    484\n",
      "2     41\n",
      "3     10\n",
      "Name: LotShape, dtype: int64\n",
      "---- test ----\n",
      "0    934\n",
      "1    484\n",
      "2     35\n",
      "3      6\n",
      "Name: LotShape, dtype: int64 \n",
      "\n"
     ]
    }
   ],
   "source": [
    "val_count('LotShape')"
   ]
  },
  {
   "cell_type": "markdown",
   "metadata": {
    "hidden": true
   },
   "source": [
    "#### 분류\n",
    "- 순서대로 매핑해줬고, feature_map에 추가"
   ]
  },
  {
   "cell_type": "code",
   "execution_count": 41,
   "metadata": {
    "ExecuteTime": {
     "end_time": "2021-09-06T06:07:18.699395Z",
     "start_time": "2021-09-06T06:07:18.695439Z"
    },
    "hidden": true
   },
   "outputs": [],
   "source": [
    "feature_map.append('LotShape')"
   ]
  },
  {
   "cell_type": "markdown",
   "metadata": {
    "heading_collapsed": true
   },
   "source": [
    "----------------------------------\n",
    "### LandContour"
   ]
  },
  {
   "cell_type": "markdown",
   "metadata": {
    "hidden": true
   },
   "source": [
    "- Flatness of the property\n",
    "- 경사도 : 얼마나 평평한지?"
   ]
  },
  {
   "cell_type": "markdown",
   "metadata": {
    "hidden": true
   },
   "source": [
    "#### 의견"
   ]
  },
  {
   "cell_type": "markdown",
   "metadata": {
    "hidden": true
   },
   "source": [
    "- 경사가 낮음 -> 높음 순으로 매핑\n",
    "- Lv1 -> Low -> HLS -> Bnk 순으로 매핑\n",
    "- <span class=\"mark\">여기도 0이 너무 많은데..</span>"
   ]
  },
  {
   "cell_type": "markdown",
   "metadata": {
    "hidden": true
   },
   "source": [
    "#### 데이터 확인\n",
    "- Lvl : 거의 평지 / Near Flat/Level \n",
    "- Bnk : 경사가 가장 심하다고 봐야하나? / Bank - Quick and Significant rise\n",
    "- HLS : 경사가 꽤 있음 / Hillside - Significant slope\n",
    "- Low : 경사가 낮음 / Depression"
   ]
  },
  {
   "cell_type": "code",
   "execution_count": 43,
   "metadata": {
    "ExecuteTime": {
     "end_time": "2021-09-06T06:15:16.018844Z",
     "start_time": "2021-09-06T06:15:16.008876Z"
    },
    "hidden": true,
    "scrolled": true
   },
   "outputs": [
    {
     "name": "stdout",
     "output_type": "stream",
     "text": [
      "----- LandContour -----\n",
      "---- train ----\n",
      "Lvl    1311\n",
      "Bnk      63\n",
      "HLS      50\n",
      "Low      36\n",
      "Name: LandContour, dtype: int64\n",
      "---- test ----\n",
      "Lvl    1311\n",
      "HLS      70\n",
      "Bnk      54\n",
      "Low      24\n",
      "Name: LandContour, dtype: int64 \n",
      "\n"
     ]
    }
   ],
   "source": [
    "val_count('LandContour')"
   ]
  },
  {
   "cell_type": "markdown",
   "metadata": {
    "heading_collapsed": true,
    "hidden": true
   },
   "source": [
    "#### 결측치 확인\n",
    "- 없음"
   ]
  },
  {
   "cell_type": "code",
   "execution_count": 44,
   "metadata": {
    "ExecuteTime": {
     "end_time": "2021-09-06T06:15:29.713094Z",
     "start_time": "2021-09-06T06:15:29.707144Z"
    },
    "hidden": true
   },
   "outputs": [
    {
     "name": "stdout",
     "output_type": "stream",
     "text": [
      "-- LandContour --\n",
      "train : 0\n",
      "test : 0\n"
     ]
    }
   ],
   "source": [
    "null_check('LandContour')"
   ]
  },
  {
   "cell_type": "markdown",
   "metadata": {
    "hidden": true
   },
   "source": [
    "#### 매핑"
   ]
  },
  {
   "cell_type": "code",
   "execution_count": 45,
   "metadata": {
    "ExecuteTime": {
     "end_time": "2021-09-06T06:17:55.520178Z",
     "start_time": "2021-09-06T06:17:55.510131Z"
    },
    "hidden": true
   },
   "outputs": [],
   "source": [
    "map_LandContour = ['Lvl', 'Low', 'HLS', 'Bnk']\n",
    "train['LandContour'] = map_order(train, 'LandContour', map_LandContour)\n",
    "test['LandContour'] = map_order(test, 'LandContour', map_LandContour)"
   ]
  },
  {
   "cell_type": "code",
   "execution_count": 46,
   "metadata": {
    "ExecuteTime": {
     "end_time": "2021-09-06T06:18:06.078257Z",
     "start_time": "2021-09-06T06:18:06.069281Z"
    },
    "hidden": true
   },
   "outputs": [
    {
     "name": "stdout",
     "output_type": "stream",
     "text": [
      "----- LandContour -----\n",
      "---- train ----\n",
      "0    1311\n",
      "3      63\n",
      "2      50\n",
      "1      36\n",
      "Name: LandContour, dtype: int64\n",
      "---- test ----\n",
      "0    1311\n",
      "2      70\n",
      "3      54\n",
      "1      24\n",
      "Name: LandContour, dtype: int64 \n",
      "\n"
     ]
    }
   ],
   "source": [
    "val_count('LandContour')"
   ]
  },
  {
   "cell_type": "markdown",
   "metadata": {
    "hidden": true
   },
   "source": [
    "#### 분류\n",
    "- 매핑했으므로 feature_map에 추가"
   ]
  },
  {
   "cell_type": "code",
   "execution_count": 47,
   "metadata": {
    "ExecuteTime": {
     "end_time": "2021-09-06T06:19:15.422348Z",
     "start_time": "2021-09-06T06:19:15.419353Z"
    },
    "hidden": true
   },
   "outputs": [],
   "source": [
    "feature_map.append('LandContour')"
   ]
  },
  {
   "cell_type": "markdown",
   "metadata": {
    "heading_collapsed": true
   },
   "source": [
    "----------------------------------\n",
    "### Utilities"
   ]
  },
  {
   "cell_type": "markdown",
   "metadata": {
    "hidden": true
   },
   "source": [
    "#### 의견"
   ]
  },
  {
   "cell_type": "markdown",
   "metadata": {
    "hidden": true
   },
   "source": [
    "train set에서 1개 빼고 모두 AllPub이고  \n",
    "test set에도 결측 2개 제외하고는 모두 AllPub.  \n",
    "-> 제거해도 될지도?"
   ]
  },
  {
   "cell_type": "markdown",
   "metadata": {
    "hidden": true
   },
   "source": [
    "#### 데이터 확인 / 결측치 확인"
   ]
  },
  {
   "cell_type": "markdown",
   "metadata": {
    "hidden": true
   },
   "source": [
    "- AllPub : 다 있음\n",
    "- NoSewr : 전기, 가스, 물\n",
    "- NoSeWa : 전기, 가스\n",
    "- ELO : 전기만 있음"
   ]
  },
  {
   "cell_type": "code",
   "execution_count": 48,
   "metadata": {
    "ExecuteTime": {
     "end_time": "2021-09-06T06:20:48.617034Z",
     "start_time": "2021-09-06T06:20:48.607062Z"
    },
    "hidden": true
   },
   "outputs": [
    {
     "name": "stdout",
     "output_type": "stream",
     "text": [
      "----- Utilities -----\n",
      "---- train ----\n",
      "AllPub    1459\n",
      "NoSeWa       1\n",
      "Name: Utilities, dtype: int64\n",
      "---- test ----\n",
      "AllPub    1457\n",
      "Name: Utilities, dtype: int64 \n",
      "\n"
     ]
    }
   ],
   "source": [
    "val_count('Utilities')"
   ]
  },
  {
   "cell_type": "code",
   "execution_count": 49,
   "metadata": {
    "ExecuteTime": {
     "end_time": "2021-09-06T06:21:11.473673Z",
     "start_time": "2021-09-06T06:21:11.468657Z"
    },
    "hidden": true
   },
   "outputs": [
    {
     "name": "stdout",
     "output_type": "stream",
     "text": [
      "-- Utilities --\n",
      "train : 0\n",
      "test : 2\n"
     ]
    }
   ],
   "source": [
    "null_check('Utilities')"
   ]
  },
  {
   "cell_type": "markdown",
   "metadata": {
    "hidden": true
   },
   "source": [
    "#### 분류\n",
    "- 컬럼을 지워버릴거니까 feature_del에 추가."
   ]
  },
  {
   "cell_type": "code",
   "execution_count": 50,
   "metadata": {
    "ExecuteTime": {
     "end_time": "2021-09-06T06:23:08.171312Z",
     "start_time": "2021-09-06T06:23:08.167972Z"
    },
    "hidden": true
   },
   "outputs": [],
   "source": [
    "feature_del.append('Utilities')"
   ]
  },
  {
   "cell_type": "markdown",
   "metadata": {
    "heading_collapsed": true
   },
   "source": [
    "----------------------------------\n",
    "### !!! LotConfig"
   ]
  },
  {
   "cell_type": "markdown",
   "metadata": {
    "hidden": true
   },
   "source": [
    "- Lot Configuration\n",
    "- Lot(마당/마당+집?)의 구성"
   ]
  },
  {
   "cell_type": "markdown",
   "metadata": {
    "hidden": true
   },
   "source": [
    "#### 의견"
   ]
  },
  {
   "cell_type": "markdown",
   "metadata": {
    "hidden": true
   },
   "source": [
    "- 어느게 좋은지 모르니까 가격 평균? 보기\n",
    "- 평균이 뭐 많이 차이가 안나는데.. 어떻게 하지?"
   ]
  },
  {
   "cell_type": "markdown",
   "metadata": {
    "hidden": true
   },
   "source": [
    "#### 데이터 확인\n",
    "- 대부분 inside"
   ]
  },
  {
   "cell_type": "code",
   "execution_count": 51,
   "metadata": {
    "ExecuteTime": {
     "end_time": "2021-09-06T06:24:01.982758Z",
     "start_time": "2021-09-06T06:24:01.970791Z"
    },
    "hidden": true
   },
   "outputs": [
    {
     "name": "stdout",
     "output_type": "stream",
     "text": [
      "----- LotConfig -----\n",
      "---- train ----\n",
      "Inside     1052\n",
      "Corner      263\n",
      "CulDSac      94\n",
      "FR2          47\n",
      "FR3           4\n",
      "Name: LotConfig, dtype: int64\n",
      "---- test ----\n",
      "Inside     1081\n",
      "Corner      248\n",
      "CulDSac      82\n",
      "FR2          38\n",
      "FR3          10\n",
      "Name: LotConfig, dtype: int64 \n",
      "\n"
     ]
    }
   ],
   "source": [
    "val_count('LotConfig')"
   ]
  },
  {
   "cell_type": "markdown",
   "metadata": {
    "hidden": true
   },
   "source": [
    "- 비슷? 하다고 봐야하나.. 어떻게 하지"
   ]
  },
  {
   "cell_type": "code",
   "execution_count": 60,
   "metadata": {
    "ExecuteTime": {
     "end_time": "2021-09-06T06:37:19.158048Z",
     "start_time": "2021-09-06T06:37:19.144827Z"
    },
    "hidden": true
   },
   "outputs": [
    {
     "name": "stdout",
     "output_type": "stream",
     "text": [
      "FR3 : 208475.0\n",
      "Corner : 181623.4258555133\n",
      "CulDSac : 223854.6170212766\n",
      "Inside : 176938.0475285171\n",
      "FR2 : 177934.5744680851\n"
     ]
    }
   ],
   "source": [
    "avg_price('LotConfig')"
   ]
  },
  {
   "cell_type": "markdown",
   "metadata": {
    "hidden": true
   },
   "source": [
    "#### 결측치 확인\n",
    "- 없음"
   ]
  },
  {
   "cell_type": "code",
   "execution_count": 62,
   "metadata": {
    "ExecuteTime": {
     "end_time": "2021-09-06T06:38:47.438571Z",
     "start_time": "2021-09-06T06:38:47.432618Z"
    },
    "hidden": true
   },
   "outputs": [
    {
     "name": "stdout",
     "output_type": "stream",
     "text": [
      "-- LotConfig --\n",
      "train : 0\n",
      "test : 0\n"
     ]
    }
   ],
   "source": [
    "null_check('LotConfig')"
   ]
  },
  {
   "cell_type": "markdown",
   "metadata": {
    "hidden": true
   },
   "source": [
    "#### 분류"
   ]
  },
  {
   "cell_type": "markdown",
   "metadata": {
    "hidden": true
   },
   "source": [
    "- 추가적으로 고민해보는걸루"
   ]
  },
  {
   "cell_type": "code",
   "execution_count": 63,
   "metadata": {
    "ExecuteTime": {
     "end_time": "2021-09-06T06:39:11.995280Z",
     "start_time": "2021-09-06T06:39:11.991290Z"
    },
    "hidden": true
   },
   "outputs": [],
   "source": [
    "feature_extra.append('LotConfig')"
   ]
  },
  {
   "cell_type": "markdown",
   "metadata": {
    "heading_collapsed": true
   },
   "source": [
    "----------------------------------\n",
    "### LandSlope"
   ]
  },
  {
   "cell_type": "markdown",
   "metadata": {
    "hidden": true
   },
   "source": [
    "- 경사도\n",
    "- Gentle -> Moderate -> Severe"
   ]
  },
  {
   "cell_type": "markdown",
   "metadata": {
    "hidden": true
   },
   "source": [
    "#### 의견"
   ]
  },
  {
   "cell_type": "markdown",
   "metadata": {
    "ExecuteTime": {
     "end_time": "2021-09-06T06:42:51.534414Z",
     "start_time": "2021-09-06T06:42:51.528430Z"
    },
    "hidden": true
   },
   "source": [
    "- 위에 LandContour랑 차이가 뭔지?\n",
    "- 합치거나 할 수 있을지?"
   ]
  },
  {
   "cell_type": "markdown",
   "metadata": {
    "hidden": true
   },
   "source": [
    "#### 데이터 확인"
   ]
  },
  {
   "cell_type": "markdown",
   "metadata": {
    "hidden": true
   },
   "source": [
    "- 대부분 다 젠틀하다고 나옴."
   ]
  },
  {
   "cell_type": "code",
   "execution_count": 64,
   "metadata": {
    "ExecuteTime": {
     "end_time": "2021-09-06T06:40:49.787679Z",
     "start_time": "2021-09-06T06:40:49.779667Z"
    },
    "hidden": true
   },
   "outputs": [
    {
     "name": "stdout",
     "output_type": "stream",
     "text": [
      "----- LandSlope -----\n",
      "---- train ----\n",
      "Gtl    1382\n",
      "Mod      65\n",
      "Sev      13\n",
      "Name: LandSlope, dtype: int64\n",
      "---- test ----\n",
      "Gtl    1396\n",
      "Mod      60\n",
      "Sev       3\n",
      "Name: LandSlope, dtype: int64 \n",
      "\n"
     ]
    }
   ],
   "source": [
    "val_count('LandSlope')"
   ]
  },
  {
   "cell_type": "markdown",
   "metadata": {
    "hidden": true
   },
   "source": [
    "#### 결측치 확인\n",
    "- 없음"
   ]
  },
  {
   "cell_type": "code",
   "execution_count": 67,
   "metadata": {
    "ExecuteTime": {
     "end_time": "2021-09-06T06:43:34.209199Z",
     "start_time": "2021-09-06T06:43:34.203217Z"
    },
    "hidden": true
   },
   "outputs": [
    {
     "name": "stdout",
     "output_type": "stream",
     "text": [
      "-- LandSlope --\n",
      "train : 0\n",
      "test : 0\n"
     ]
    }
   ],
   "source": [
    "null_check('LandSlope')"
   ]
  },
  {
   "cell_type": "markdown",
   "metadata": {
    "hidden": true
   },
   "source": [
    "#### 매핑\n",
    "- Gtl -> Mod -> Sev 순으로"
   ]
  },
  {
   "cell_type": "code",
   "execution_count": 68,
   "metadata": {
    "ExecuteTime": {
     "end_time": "2021-09-06T06:46:56.374698Z",
     "start_time": "2021-09-06T06:46:56.365688Z"
    },
    "hidden": true
   },
   "outputs": [],
   "source": [
    "map_LandSlope = ['Gtl', 'Mod', 'Sev']\n",
    "train['LandSlope'] = map_order(train, 'LandSlope', map_LandSlope)\n",
    "test['LandSlope'] = map_order(test, 'LandSlope', map_LandSlope)"
   ]
  },
  {
   "cell_type": "code",
   "execution_count": 69,
   "metadata": {
    "ExecuteTime": {
     "end_time": "2021-09-06T06:47:11.861735Z",
     "start_time": "2021-09-06T06:47:11.853757Z"
    },
    "hidden": true
   },
   "outputs": [
    {
     "name": "stdout",
     "output_type": "stream",
     "text": [
      "----- LandSlope -----\n",
      "---- train ----\n",
      "0    1382\n",
      "1      65\n",
      "2      13\n",
      "Name: LandSlope, dtype: int64\n",
      "---- test ----\n",
      "0    1396\n",
      "1      60\n",
      "2       3\n",
      "Name: LandSlope, dtype: int64 \n",
      "\n"
     ]
    }
   ],
   "source": [
    "val_count('LandSlope')"
   ]
  },
  {
   "cell_type": "markdown",
   "metadata": {
    "hidden": true
   },
   "source": [
    "#### 분류"
   ]
  },
  {
   "cell_type": "code",
   "execution_count": 70,
   "metadata": {
    "ExecuteTime": {
     "end_time": "2021-09-06T06:47:39.210043Z",
     "start_time": "2021-09-06T06:47:39.206090Z"
    },
    "hidden": true
   },
   "outputs": [],
   "source": [
    "feature_map.append('LandSlope')"
   ]
  },
  {
   "cell_type": "markdown",
   "metadata": {
    "heading_collapsed": true
   },
   "source": [
    "----------------------------------\n",
    "### !!! Neighborhood"
   ]
  },
  {
   "cell_type": "markdown",
   "metadata": {
    "hidden": true
   },
   "source": [
    "- 도시 경계? 어디랑 인접해있는지?"
   ]
  },
  {
   "cell_type": "markdown",
   "metadata": {
    "hidden": true
   },
   "source": [
    "#### 의견"
   ]
  },
  {
   "cell_type": "markdown",
   "metadata": {
    "hidden": true
   },
   "source": [
    "- 모르겠다 얘가 제일 모르겠음 그냥 0~50 일케 숫자를 넣어야하나"
   ]
  },
  {
   "cell_type": "markdown",
   "metadata": {
    "hidden": true
   },
   "source": [
    "#### 데이터 확인"
   ]
  },
  {
   "cell_type": "markdown",
   "metadata": {
    "hidden": true
   },
   "source": [
    "어질어질하다 뭔지 모르겠다"
   ]
  },
  {
   "cell_type": "code",
   "execution_count": 72,
   "metadata": {
    "ExecuteTime": {
     "end_time": "2021-09-06T06:53:07.464238Z",
     "start_time": "2021-09-06T06:53:07.454266Z"
    },
    "collapsed": true,
    "hidden": true
   },
   "outputs": [
    {
     "name": "stdout",
     "output_type": "stream",
     "text": [
      "----- Neighborhood -----\n",
      "---- train ----\n",
      "NAmes      225\n",
      "CollgCr    150\n",
      "OldTown    113\n",
      "Edwards    100\n",
      "Somerst     86\n",
      "Gilbert     79\n",
      "NridgHt     77\n",
      "Sawyer      74\n",
      "NWAmes      73\n",
      "SawyerW     59\n",
      "BrkSide     58\n",
      "Crawfor     51\n",
      "Mitchel     49\n",
      "NoRidge     41\n",
      "Timber      38\n",
      "IDOTRR      37\n",
      "ClearCr     28\n",
      "StoneBr     25\n",
      "SWISU       25\n",
      "Blmngtn     17\n",
      "MeadowV     17\n",
      "BrDale      16\n",
      "Veenker     11\n",
      "NPkVill      9\n",
      "Blueste      2\n",
      "Name: Neighborhood, dtype: int64\n",
      "---- test ----\n",
      "NAmes      218\n",
      "OldTown    126\n",
      "CollgCr    117\n",
      "Somerst     96\n",
      "Edwards     94\n",
      "NridgHt     89\n",
      "Gilbert     86\n",
      "Sawyer      77\n",
      "SawyerW     66\n",
      "Mitchel     65\n",
      "NWAmes      58\n",
      "IDOTRR      56\n",
      "Crawfor     52\n",
      "BrkSide     50\n",
      "Timber      34\n",
      "NoRidge     30\n",
      "StoneBr     26\n",
      "SWISU       23\n",
      "MeadowV     20\n",
      "ClearCr     16\n",
      "BrDale      14\n",
      "NPkVill     14\n",
      "Veenker     13\n",
      "Blmngtn     11\n",
      "Blueste      8\n",
      "Name: Neighborhood, dtype: int64 \n",
      "\n"
     ]
    }
   ],
   "source": [
    "val_count('Neighborhood')"
   ]
  },
  {
   "cell_type": "code",
   "execution_count": 73,
   "metadata": {
    "ExecuteTime": {
     "end_time": "2021-09-06T06:53:54.608795Z",
     "start_time": "2021-09-06T06:53:54.572306Z"
    },
    "collapsed": true,
    "hidden": true
   },
   "outputs": [
    {
     "name": "stdout",
     "output_type": "stream",
     "text": [
      "IDOTRR : 100123.78378378379\n",
      "NWAmes : 189050.0684931507\n",
      "Somerst : 225379.83720930232\n",
      "MeadowV : 98576.4705882353\n",
      "NAmes : 145847.08\n",
      "SWISU : 142591.36\n",
      "CollgCr : 197965.77333333335\n",
      "Crawfor : 210624.72549019608\n",
      "BrkSide : 124834.05172413793\n",
      "BrDale : 104493.75\n",
      "NPkVill : 142694.44444444444\n",
      "NoRidge : 335295.31707317074\n",
      "Edwards : 128219.7\n",
      "Veenker : 238772.72727272726\n",
      "OldTown : 128225.30088495575\n",
      "NridgHt : 316270.6233766234\n",
      "Gilbert : 192854.50632911394\n",
      "Sawyer : 136793.13513513515\n",
      "StoneBr : 310499.0\n",
      "ClearCr : 212565.42857142858\n",
      "Timber : 242247.44736842104\n",
      "Blueste : 137500.0\n",
      "SawyerW : 186555.7966101695\n",
      "Blmngtn : 194870.88235294117\n",
      "Mitchel : 156270.1224489796\n"
     ]
    }
   ],
   "source": [
    "avg_price('Neighborhood')"
   ]
  },
  {
   "cell_type": "markdown",
   "metadata": {
    "hidden": true
   },
   "source": [
    "#### 결측치 확인"
   ]
  },
  {
   "cell_type": "code",
   "execution_count": 74,
   "metadata": {
    "ExecuteTime": {
     "end_time": "2021-09-06T06:54:20.017533Z",
     "start_time": "2021-09-06T06:54:20.010552Z"
    },
    "hidden": true
   },
   "outputs": [
    {
     "name": "stdout",
     "output_type": "stream",
     "text": [
      "-- Neighborhood --\n",
      "train : 0\n",
      "test : 0\n"
     ]
    }
   ],
   "source": [
    "null_check('Neighborhood')"
   ]
  },
  {
   "cell_type": "markdown",
   "metadata": {
    "hidden": true
   },
   "source": [
    "#### 분류"
   ]
  },
  {
   "cell_type": "code",
   "execution_count": 76,
   "metadata": {
    "ExecuteTime": {
     "end_time": "2021-09-06T07:20:21.721190Z",
     "start_time": "2021-09-06T07:20:21.719194Z"
    },
    "hidden": true
   },
   "outputs": [],
   "source": [
    "feature_extra.append('Neighborhood')"
   ]
  },
  {
   "cell_type": "markdown",
   "metadata": {
    "heading_collapsed": true
   },
   "source": [
    "----------------------------------\n",
    "### !!! Condition1/2"
   ]
  },
  {
   "cell_type": "markdown",
   "metadata": {
    "hidden": true
   },
   "source": [
    "- Condition\n",
    "- 그린벨트여부, 주변에 철도 여부 등등"
   ]
  },
  {
   "cell_type": "markdown",
   "metadata": {
    "hidden": true
   },
   "source": [
    "#### 의견"
   ]
  },
  {
   "cell_type": "markdown",
   "metadata": {
    "hidden": true
   },
   "source": [
    "- 1과 2를 합치는건 좋아 보이는데.\n",
    "- 근데 단순 컨디션 갯수로 판단하는게 괜찮을까?\n",
    "- 예를 들어 좋은? 컨디션 1개가 보통?의 컨디션 2개보다 집 값에 영향을 더 끼칠수도 있는데  \n",
    "- +컨디션이 집값을 떨어트리는 요인도 있음. 추가로 생각해봐야할듯."
   ]
  },
  {
   "cell_type": "markdown",
   "metadata": {
    "hidden": true
   },
   "source": [
    "#### 데이터 확인"
   ]
  },
  {
   "cell_type": "markdown",
   "metadata": {
    "hidden": true
   },
   "source": [
    "- 대부분 노말임."
   ]
  },
  {
   "cell_type": "code",
   "execution_count": 82,
   "metadata": {
    "ExecuteTime": {
     "end_time": "2021-09-06T07:23:34.033954Z",
     "start_time": "2021-09-06T07:23:34.025501Z"
    },
    "collapsed": true,
    "hidden": true
   },
   "outputs": [
    {
     "name": "stdout",
     "output_type": "stream",
     "text": [
      "----- Condition1 -----\n",
      "---- train ----\n",
      "Norm      1260\n",
      "Feedr       81\n",
      "Artery      48\n",
      "RRAn        26\n",
      "PosN        19\n",
      "RRAe        11\n",
      "PosA         8\n",
      "RRNn         5\n",
      "RRNe         2\n",
      "Name: Condition1, dtype: int64\n",
      "---- test ----\n",
      "Norm      1251\n",
      "Feedr       83\n",
      "Artery      44\n",
      "RRAn        24\n",
      "PosN        20\n",
      "RRAe        17\n",
      "PosA        12\n",
      "RRNn         4\n",
      "RRNe         4\n",
      "Name: Condition1, dtype: int64 \n",
      "\n"
     ]
    }
   ],
   "source": [
    "val_count('Condition1')"
   ]
  },
  {
   "cell_type": "markdown",
   "metadata": {
    "hidden": true
   },
   "source": [
    "- norm보다 싼거도 있네  \n",
    "- 옵션이 있다고 무조건 좋은게 아닌가봄..  \n",
    "- 그러면 컨디션 개수로 묶는건 진짜 아닌거같은뎅.."
   ]
  },
  {
   "cell_type": "code",
   "execution_count": 90,
   "metadata": {
    "ExecuteTime": {
     "end_time": "2021-09-06T07:26:32.104034Z",
     "start_time": "2021-09-06T07:26:32.093066Z"
    },
    "hidden": true
   },
   "outputs": [
    {
     "name": "stdout",
     "output_type": "stream",
     "text": [
      "Feedr : 121166.66666666667\n",
      "PosN : 284875.0\n",
      "Artery : 106500.0\n",
      "Norm : 181169.40553633217\n",
      "RRAe : 190000.0\n",
      "RRNn : 96750.0\n",
      "RRAn : 136905.0\n",
      "PosA : 325000.0\n"
     ]
    }
   ],
   "source": [
    "avg_price('Condition2')"
   ]
  },
  {
   "cell_type": "code",
   "execution_count": 88,
   "metadata": {
    "ExecuteTime": {
     "end_time": "2021-09-06T07:24:45.985757Z",
     "start_time": "2021-09-06T07:24:45.978680Z"
    },
    "hidden": true
   },
   "outputs": [
    {
     "data": {
      "text/plain": [
       "9       Artery\n",
       "29       Feedr\n",
       "63        RRAn\n",
       "88       Feedr\n",
       "184       RRAn\n",
       "523       PosN\n",
       "531       RRNn\n",
       "548      Feedr\n",
       "583     Artery\n",
       "589       RRAn\n",
       "825       PosN\n",
       "974       RRAn\n",
       "1003     Feedr\n",
       "1186    Artery\n",
       "1230     Feedr\n",
       "Name: Condition1, dtype: object"
      ]
     },
     "execution_count": 88,
     "metadata": {},
     "output_type": "execute_result"
    }
   ],
   "source": [
    "# 컨디션 2가 Norm이 아닌데, 컨디션 1이 Norm인 경우는 없음.\n",
    "train['Condition1'][train['Condition2']!='Norm']"
   ]
  },
  {
   "cell_type": "markdown",
   "metadata": {
    "heading_collapsed": true,
    "hidden": true
   },
   "source": [
    "#### 결측치 확인\n",
    "- 없음~"
   ]
  },
  {
   "cell_type": "code",
   "execution_count": 84,
   "metadata": {
    "ExecuteTime": {
     "end_time": "2021-09-06T07:23:56.369255Z",
     "start_time": "2021-09-06T07:23:56.359278Z"
    },
    "hidden": true
   },
   "outputs": [
    {
     "name": "stdout",
     "output_type": "stream",
     "text": [
      "-- Condition1 --\n",
      "train : 0\n",
      "test : 0\n",
      "-- Condition2 --\n",
      "train : 0\n",
      "test : 0\n"
     ]
    },
    {
     "data": {
      "text/plain": [
       "(None, None)"
      ]
     },
     "execution_count": 84,
     "metadata": {},
     "output_type": "execute_result"
    }
   ],
   "source": [
    "null_check('Condition1'), null_check('Condition2')"
   ]
  },
  {
   "cell_type": "markdown",
   "metadata": {
    "hidden": true
   },
   "source": [
    "#### 분류"
   ]
  },
  {
   "cell_type": "code",
   "execution_count": 91,
   "metadata": {
    "ExecuteTime": {
     "end_time": "2021-09-06T07:28:11.635030Z",
     "start_time": "2021-09-06T07:28:11.632046Z"
    },
    "hidden": true
   },
   "outputs": [],
   "source": [
    "feature_extra.append('Condition1')\n",
    "feature_extra.append('Condition2')"
   ]
  },
  {
   "cell_type": "markdown",
   "metadata": {
    "heading_collapsed": true
   },
   "source": [
    "----------------------------------\n",
    "### BldgType"
   ]
  },
  {
   "cell_type": "markdown",
   "metadata": {
    "hidden": true
   },
   "source": [
    "- 주거 형태 \n",
    "- 1Fam : 독채\n",
    "- 2FmCon : 독채에 두 가구 거주\n",
    "- Duplx : Duplex(이중?)\n",
    "- TwnhsE : Townhouse End unit\n",
    "- Twnhs(I) : Townhouse Inside unit\n",
    "    - 설명 문서엔 TwnhsI 였는데 실제 값은 Twnhs 가 들어가있음"
   ]
  },
  {
   "cell_type": "markdown",
   "metadata": {
    "hidden": true
   },
   "source": [
    "#### 의견"
   ]
  },
  {
   "cell_type": "markdown",
   "metadata": {
    "hidden": true
   },
   "source": [
    "- 2fmCon < Duplex <= Twnhs <<<< TwnhsE <= 1Fam\n",
    "- 순서대로 넣어보자 일단은 0-5"
   ]
  },
  {
   "cell_type": "markdown",
   "metadata": {
    "heading_collapsed": true,
    "hidden": true
   },
   "source": [
    "#### 데이터 확인"
   ]
  },
  {
   "cell_type": "code",
   "execution_count": 92,
   "metadata": {
    "ExecuteTime": {
     "end_time": "2021-09-06T07:29:11.511947Z",
     "start_time": "2021-09-06T07:29:11.502929Z"
    },
    "hidden": true
   },
   "outputs": [
    {
     "name": "stdout",
     "output_type": "stream",
     "text": [
      "----- BldgType -----\n",
      "---- train ----\n",
      "1Fam      1220\n",
      "TwnhsE     114\n",
      "Duplex      52\n",
      "Twnhs       43\n",
      "2fmCon      31\n",
      "Name: BldgType, dtype: int64\n",
      "---- test ----\n",
      "1Fam      1205\n",
      "TwnhsE     113\n",
      "Duplex      57\n",
      "Twnhs       53\n",
      "2fmCon      31\n",
      "Name: BldgType, dtype: int64 \n",
      "\n"
     ]
    }
   ],
   "source": [
    "val_count('BldgType')"
   ]
  },
  {
   "cell_type": "code",
   "execution_count": 93,
   "metadata": {
    "ExecuteTime": {
     "end_time": "2021-09-06T07:35:15.270837Z",
     "start_time": "2021-09-06T07:35:15.258458Z"
    },
    "hidden": true
   },
   "outputs": [
    {
     "name": "stdout",
     "output_type": "stream",
     "text": [
      "2fmCon : 128432.25806451614\n",
      "1Fam : 185763.80737704918\n",
      "TwnhsE : 181959.34210526315\n",
      "Duplex : 133541.07692307694\n",
      "Twnhs : 135911.62790697673\n"
     ]
    }
   ],
   "source": [
    "avg_price('BldgType')"
   ]
  },
  {
   "cell_type": "markdown",
   "metadata": {
    "heading_collapsed": true,
    "hidden": true
   },
   "source": [
    "#### 결측치 확인\n",
    "- 없다!"
   ]
  },
  {
   "cell_type": "code",
   "execution_count": 94,
   "metadata": {
    "ExecuteTime": {
     "end_time": "2021-09-06T07:40:46.278844Z",
     "start_time": "2021-09-06T07:40:46.271864Z"
    },
    "hidden": true
   },
   "outputs": [
    {
     "name": "stdout",
     "output_type": "stream",
     "text": [
      "-- BldgType --\n",
      "train : 0\n",
      "test : 0\n"
     ]
    }
   ],
   "source": [
    "null_check('BldgType')"
   ]
  },
  {
   "cell_type": "markdown",
   "metadata": {
    "heading_collapsed": true,
    "hidden": true
   },
   "source": [
    "#### 매핑"
   ]
  },
  {
   "cell_type": "code",
   "execution_count": 102,
   "metadata": {
    "ExecuteTime": {
     "end_time": "2021-09-06T07:44:55.465891Z",
     "start_time": "2021-09-06T07:44:55.454166Z"
    },
    "hidden": true
   },
   "outputs": [],
   "source": [
    "map_BldgType = ['2fmCon', 'Duplex', 'Twnhs', 'TwnhsE', '1Fam']\n",
    "train['BldgType'] = map_order(train, 'BldgType', map_BldgType)\n",
    "test['BldgType'] = map_order(test, 'BldgType', map_BldgType)"
   ]
  },
  {
   "cell_type": "code",
   "execution_count": 103,
   "metadata": {
    "ExecuteTime": {
     "end_time": "2021-09-06T07:45:10.628183Z",
     "start_time": "2021-09-06T07:45:10.616724Z"
    },
    "hidden": true
   },
   "outputs": [
    {
     "name": "stdout",
     "output_type": "stream",
     "text": [
      "----- BldgType -----\n",
      "---- train ----\n",
      "4    1220\n",
      "3     114\n",
      "1      52\n",
      "2      43\n",
      "0      31\n",
      "Name: BldgType, dtype: int64\n",
      "---- test ----\n",
      "4    1205\n",
      "3     113\n",
      "1      57\n",
      "2      53\n",
      "0      31\n",
      "Name: BldgType, dtype: int64 \n",
      "\n"
     ]
    }
   ],
   "source": [
    "val_count('BldgType')"
   ]
  },
  {
   "cell_type": "markdown",
   "metadata": {
    "hidden": true
   },
   "source": [
    "#### 분류"
   ]
  },
  {
   "cell_type": "code",
   "execution_count": 104,
   "metadata": {
    "ExecuteTime": {
     "end_time": "2021-09-06T07:45:26.850555Z",
     "start_time": "2021-09-06T07:45:26.846567Z"
    },
    "hidden": true
   },
   "outputs": [],
   "source": [
    "feature_map.append('BldgType')"
   ]
  },
  {
   "cell_type": "markdown",
   "metadata": {
    "heading_collapsed": true
   },
   "source": [
    "----------------------------------\n",
    "### HouseStyle"
   ]
  },
  {
   "cell_type": "markdown",
   "metadata": {
    "hidden": true
   },
   "source": [
    "- 주거 스타일"
   ]
  },
  {
   "cell_type": "markdown",
   "metadata": {
    "hidden": true
   },
   "source": [
    "#### 의견"
   ]
  },
  {
   "cell_type": "markdown",
   "metadata": {
    "hidden": true
   },
   "source": [
    "- 일단 가격 평균 순서대로 매핑했음.  \n",
    "- 그거랑 상관 없이 실제 인덱스?를 따라 가야할까"
   ]
  },
  {
   "cell_type": "markdown",
   "metadata": {
    "hidden": true
   },
   "source": [
    "#### 데이터 확인"
   ]
  },
  {
   "cell_type": "code",
   "execution_count": 105,
   "metadata": {
    "ExecuteTime": {
     "end_time": "2021-09-06T07:46:27.128711Z",
     "start_time": "2021-09-06T07:46:27.118139Z"
    },
    "hidden": true
   },
   "outputs": [
    {
     "name": "stdout",
     "output_type": "stream",
     "text": [
      "----- HouseStyle -----\n",
      "---- train ----\n",
      "1Story    726\n",
      "2Story    445\n",
      "1.5Fin    154\n",
      "SLvl       65\n",
      "SFoyer     37\n",
      "1.5Unf     14\n",
      "2.5Unf     11\n",
      "2.5Fin      8\n",
      "Name: HouseStyle, dtype: int64\n",
      "---- test ----\n",
      "1Story    745\n",
      "2Story    427\n",
      "1.5Fin    160\n",
      "SLvl       63\n",
      "SFoyer     46\n",
      "2.5Unf     13\n",
      "1.5Unf      5\n",
      "Name: HouseStyle, dtype: int64 \n",
      "\n"
     ]
    }
   ],
   "source": [
    "val_count('HouseStyle')"
   ]
  },
  {
   "cell_type": "code",
   "execution_count": 106,
   "metadata": {
    "ExecuteTime": {
     "end_time": "2021-09-06T07:46:48.144859Z",
     "start_time": "2021-09-06T07:46:48.127918Z"
    },
    "hidden": true
   },
   "outputs": [
    {
     "name": "stdout",
     "output_type": "stream",
     "text": [
      "2.5Fin : 220000.0\n",
      "2Story : 210051.76404494382\n",
      "SFoyer : 135074.48648648648\n",
      "SLvl : 166703.38461538462\n",
      "2.5Unf : 157354.54545454544\n",
      "1.5Fin : 143116.74025974027\n",
      "1Story : 175985.4779614325\n",
      "1.5Unf : 110150.0\n"
     ]
    }
   ],
   "source": [
    "avg_price('HouseStyle')"
   ]
  },
  {
   "cell_type": "markdown",
   "metadata": {
    "hidden": true
   },
   "source": [
    "#### 결측치 확인\n",
    "- 없음!"
   ]
  },
  {
   "cell_type": "code",
   "execution_count": 107,
   "metadata": {
    "ExecuteTime": {
     "end_time": "2021-09-06T07:47:21.005760Z",
     "start_time": "2021-09-06T07:47:20.992800Z"
    },
    "hidden": true
   },
   "outputs": [
    {
     "name": "stdout",
     "output_type": "stream",
     "text": [
      "-- HouseStyle --\n",
      "train : 0\n",
      "test : 0\n"
     ]
    }
   ],
   "source": [
    "null_check('HouseStyle')"
   ]
  },
  {
   "cell_type": "markdown",
   "metadata": {
    "hidden": true
   },
   "source": [
    "#### 매핑\n",
    "- 주어진 인덱스 순?  \n",
    "- 가격순?  \n",
    "- 일단은 가격순으로"
   ]
  },
  {
   "cell_type": "code",
   "execution_count": 109,
   "metadata": {
    "ExecuteTime": {
     "end_time": "2021-09-06T07:52:12.469185Z",
     "start_time": "2021-09-06T07:52:12.460208Z"
    },
    "hidden": true
   },
   "outputs": [],
   "source": [
    "map_HouseStyle = ['1.5Unf', 'SFoyer', '1.5Fin', '2.5Unf', \n",
    "                  'SLvl', '1Story', '2Story', '2.5Fin']\n",
    "\n",
    "train['HouseStyle'] = map_order(train, 'HouseStyle', map_HouseStyle)\n",
    "test['HouseStyle'] = map_order(test, 'HouseStyle', map_HouseStyle)"
   ]
  },
  {
   "cell_type": "code",
   "execution_count": 110,
   "metadata": {
    "ExecuteTime": {
     "end_time": "2021-09-06T07:52:27.464764Z",
     "start_time": "2021-09-06T07:52:27.457746Z"
    },
    "hidden": true
   },
   "outputs": [
    {
     "name": "stdout",
     "output_type": "stream",
     "text": [
      "----- HouseStyle -----\n",
      "---- train ----\n",
      "5    726\n",
      "6    445\n",
      "2    154\n",
      "4     65\n",
      "1     37\n",
      "0     14\n",
      "3     11\n",
      "7      8\n",
      "Name: HouseStyle, dtype: int64\n",
      "---- test ----\n",
      "5    745\n",
      "6    427\n",
      "2    160\n",
      "4     63\n",
      "1     46\n",
      "3     13\n",
      "0      5\n",
      "Name: HouseStyle, dtype: int64 \n",
      "\n"
     ]
    }
   ],
   "source": [
    "val_count('HouseStyle')"
   ]
  },
  {
   "cell_type": "markdown",
   "metadata": {
    "hidden": true
   },
   "source": [
    "#### 분류"
   ]
  },
  {
   "cell_type": "code",
   "execution_count": 111,
   "metadata": {
    "ExecuteTime": {
     "end_time": "2021-09-06T07:52:43.173983Z",
     "start_time": "2021-09-06T07:52:43.169992Z"
    },
    "hidden": true
   },
   "outputs": [],
   "source": [
    "feature_map.append('HouseStyle')"
   ]
  },
  {
   "cell_type": "markdown",
   "metadata": {
    "heading_collapsed": true
   },
   "source": [
    "----------------------------------\n",
    "### OverallQual / OverallCond"
   ]
  },
  {
   "cell_type": "markdown",
   "metadata": {
    "hidden": true
   },
   "source": [
    "- 전체적인 퀄리티, 컨디션을 평가한 지표"
   ]
  },
  {
   "cell_type": "markdown",
   "metadata": {
    "hidden": true
   },
   "source": [
    "#### 의견"
   ]
  },
  {
   "cell_type": "markdown",
   "metadata": {
    "hidden": true
   },
   "source": [
    "- 그냥 숫자라서 그대로 넣으면 될 듯?"
   ]
  },
  {
   "cell_type": "markdown",
   "metadata": {
    "hidden": true
   },
   "source": [
    "#### 데이터 확인"
   ]
  },
  {
   "cell_type": "code",
   "execution_count": 113,
   "metadata": {
    "ExecuteTime": {
     "end_time": "2021-09-06T07:56:11.142619Z",
     "start_time": "2021-09-06T07:56:11.129059Z"
    },
    "collapsed": true,
    "hidden": true
   },
   "outputs": [
    {
     "name": "stdout",
     "output_type": "stream",
     "text": [
      "----- OverallQual -----\n",
      "---- train ----\n",
      "5     397\n",
      "6     374\n",
      "7     319\n",
      "8     168\n",
      "4     116\n",
      "9      43\n",
      "3      20\n",
      "10     18\n",
      "2       3\n",
      "1       2\n",
      "Name: OverallQual, dtype: int64\n",
      "---- test ----\n",
      "5     428\n",
      "6     357\n",
      "7     281\n",
      "8     174\n",
      "4     110\n",
      "9      64\n",
      "3      20\n",
      "10     13\n",
      "2      10\n",
      "1       2\n",
      "Name: OverallQual, dtype: int64 \n",
      "\n",
      "----- OverallCond -----\n",
      "---- train ----\n",
      "5    821\n",
      "6    252\n",
      "7    205\n",
      "8     72\n",
      "4     57\n",
      "3     25\n",
      "9     22\n",
      "2      5\n",
      "1      1\n",
      "Name: OverallCond, dtype: int64\n",
      "---- test ----\n",
      "5    824\n",
      "6    279\n",
      "7    185\n",
      "8     72\n",
      "4     44\n",
      "3     25\n",
      "9     19\n",
      "1      6\n",
      "2      5\n",
      "Name: OverallCond, dtype: int64 \n",
      "\n"
     ]
    },
    {
     "data": {
      "text/plain": [
       "(None, None)"
      ]
     },
     "execution_count": 113,
     "metadata": {},
     "output_type": "execute_result"
    }
   ],
   "source": [
    "val_count('OverallQual'), val_count('OverallCond')"
   ]
  },
  {
   "cell_type": "markdown",
   "metadata": {
    "heading_collapsed": true,
    "hidden": true
   },
   "source": [
    "#### 결측치 확인\n",
    "- 없음!"
   ]
  },
  {
   "cell_type": "code",
   "execution_count": 115,
   "metadata": {
    "ExecuteTime": {
     "end_time": "2021-09-06T08:06:11.759203Z",
     "start_time": "2021-09-06T08:06:11.751473Z"
    },
    "hidden": true
   },
   "outputs": [
    {
     "name": "stdout",
     "output_type": "stream",
     "text": [
      "-- OverallQual --\n",
      "train : 0\n",
      "test : 0\n",
      "-- OverallCond --\n",
      "train : 0\n",
      "test : 0\n"
     ]
    },
    {
     "data": {
      "text/plain": [
       "(None, None)"
      ]
     },
     "execution_count": 115,
     "metadata": {},
     "output_type": "execute_result"
    }
   ],
   "source": [
    "null_check('OverallQual'), null_check('OverallCond')"
   ]
  },
  {
   "cell_type": "markdown",
   "metadata": {
    "hidden": true
   },
   "source": [
    "#### 분류"
   ]
  },
  {
   "cell_type": "code",
   "execution_count": 117,
   "metadata": {
    "ExecuteTime": {
     "end_time": "2021-09-06T08:07:08.003233Z",
     "start_time": "2021-09-06T08:07:07.999243Z"
    },
    "hidden": true
   },
   "outputs": [],
   "source": [
    "feature_raw.append('OverallQual')\n",
    "feature_raw.append('OverallCond')"
   ]
  },
  {
   "cell_type": "markdown",
   "metadata": {
    "heading_collapsed": true
   },
   "source": [
    "----------------------------------\n",
    "### YearBuilt / YearRemodAdd"
   ]
  },
  {
   "cell_type": "markdown",
   "metadata": {
    "hidden": true
   },
   "source": [
    "- 지어진 년도 / 리모델링한 년도"
   ]
  },
  {
   "cell_type": "markdown",
   "metadata": {
    "hidden": true
   },
   "source": [
    "#### 의견"
   ]
  },
  {
   "cell_type": "markdown",
   "metadata": {
    "hidden": true
   },
   "source": [
    "- 같은 년도에 공사를 했어도, 새 건물이 리모델링한 건물보다 좋겠지?\n",
    "- 일단 각각 넣고 두 feature를 합칠 방법이 있을지?\n",
    "- normalize : 1872를 빼주자"
   ]
  },
  {
   "cell_type": "markdown",
   "metadata": {
    "hidden": true
   },
   "source": [
    "#### 데이터 확인"
   ]
  },
  {
   "cell_type": "code",
   "execution_count": 134,
   "metadata": {
    "ExecuteTime": {
     "end_time": "2021-09-06T08:13:14.786137Z",
     "start_time": "2021-09-06T08:13:14.778753Z"
    },
    "hidden": true
   },
   "outputs": [
    {
     "data": {
      "text/plain": [
       "1872"
      ]
     },
     "execution_count": 134,
     "metadata": {},
     "output_type": "execute_result"
    }
   ],
   "source": [
    "# 가장 오래전에 지어진 건물의 년도 출력\n",
    "val_list(train, 'YearBuilt')[0]"
   ]
  },
  {
   "cell_type": "code",
   "execution_count": 119,
   "metadata": {
    "ExecuteTime": {
     "end_time": "2021-09-06T08:08:02.788139Z",
     "start_time": "2021-09-06T08:08:02.779131Z"
    },
    "hidden": true
   },
   "outputs": [
    {
     "name": "stdout",
     "output_type": "stream",
     "text": [
      "----- YearRemodAdd -----\n",
      "---- train ----\n",
      "1950    178\n",
      "2006     97\n",
      "2007     76\n",
      "2005     73\n",
      "2004     62\n",
      "       ... \n",
      "2010      6\n",
      "1983      5\n",
      "1952      5\n",
      "1986      5\n",
      "1951      4\n",
      "Name: YearRemodAdd, Length: 61, dtype: int64\n",
      "---- test ----\n",
      "1950    183\n",
      "2006    105\n",
      "2007     88\n",
      "2005     68\n",
      "2004     49\n",
      "       ... \n",
      "1988      6\n",
      "1983      6\n",
      "1985      5\n",
      "1981      4\n",
      "1982      2\n",
      "Name: YearRemodAdd, Length: 61, dtype: int64 \n",
      "\n"
     ]
    }
   ],
   "source": [
    "val_count('YearRemodAdd')"
   ]
  },
  {
   "cell_type": "markdown",
   "metadata": {
    "hidden": true
   },
   "source": [
    "#### 결측치 확인\n",
    "- 없음!"
   ]
  },
  {
   "cell_type": "code",
   "execution_count": 135,
   "metadata": {
    "ExecuteTime": {
     "end_time": "2021-09-06T08:14:09.338130Z",
     "start_time": "2021-09-06T08:14:09.329106Z"
    },
    "hidden": true
   },
   "outputs": [
    {
     "name": "stdout",
     "output_type": "stream",
     "text": [
      "-- YearBuilt --\n",
      "train : 0\n",
      "test : 0\n",
      "-- YearRemodAdd --\n",
      "train : 0\n",
      "test : 0\n"
     ]
    },
    {
     "data": {
      "text/plain": [
       "(None, None)"
      ]
     },
     "execution_count": 135,
     "metadata": {},
     "output_type": "execute_result"
    }
   ],
   "source": [
    "null_check('YearBuilt'), null_check('YearRemodAdd')"
   ]
  },
  {
   "cell_type": "markdown",
   "metadata": {
    "hidden": true
   },
   "source": [
    "#### Normalize"
   ]
  },
  {
   "cell_type": "markdown",
   "metadata": {
    "hidden": true
   },
   "source": [
    "- 가장 오래된 년도인 1872년 빼주자"
   ]
  },
  {
   "cell_type": "code",
   "execution_count": 142,
   "metadata": {
    "ExecuteTime": {
     "end_time": "2021-09-06T08:19:00.204835Z",
     "start_time": "2021-09-06T08:19:00.197804Z"
    },
    "hidden": true
   },
   "outputs": [],
   "source": [
    "train['YearBuilt'] -= 1872\n",
    "test['YearBuilt'] -= 1872\n",
    "train['YearRemodAdd'] -= 1872\n",
    "test['YearRemodAdd'] -= 1872"
   ]
  },
  {
   "cell_type": "code",
   "execution_count": 143,
   "metadata": {
    "ExecuteTime": {
     "end_time": "2021-09-06T08:19:32.704336Z",
     "start_time": "2021-09-06T08:19:32.698326Z"
    },
    "hidden": true
   },
   "outputs": [
    {
     "data": {
      "text/plain": [
       "0    131\n",
       "1    104\n",
       "2    129\n",
       "3     43\n",
       "4    128\n",
       "Name: YearBuilt, dtype: int64"
      ]
     },
     "execution_count": 143,
     "metadata": {},
     "output_type": "execute_result"
    }
   ],
   "source": [
    "train['YearBuilt'].head()"
   ]
  },
  {
   "cell_type": "markdown",
   "metadata": {
    "hidden": true
   },
   "source": [
    "#### 분류"
   ]
  },
  {
   "cell_type": "code",
   "execution_count": 144,
   "metadata": {
    "ExecuteTime": {
     "end_time": "2021-09-06T08:21:41.929871Z",
     "start_time": "2021-09-06T08:21:41.924922Z"
    },
    "hidden": true
   },
   "outputs": [],
   "source": [
    "feature_raw.append('YearBuilt')\n",
    "feature_raw.append('YearRemodAdd')"
   ]
  },
  {
   "cell_type": "markdown",
   "metadata": {
    "heading_collapsed": true
   },
   "source": [
    "----------------------------------\n",
    "### RoofStyle / RoofMatl"
   ]
  },
  {
   "cell_type": "markdown",
   "metadata": {
    "hidden": true
   },
   "source": [
    "- 지붕 스타일, 재질"
   ]
  },
  {
   "cell_type": "markdown",
   "metadata": {
    "hidden": true
   },
   "source": [
    "#### 의견"
   ]
  },
  {
   "cell_type": "markdown",
   "metadata": {
    "hidden": true
   },
   "source": [
    "- 위에 MSZoning 이런애들처럼 0이 한가지가 엄청 많은데... \n",
    "- 어케 나눠줘야하지? 가장 많은거랑 나머지로 나누면 문제가 생기나?\n",
    "- 가격 평균을 보는게 맞나\n",
    "- 그냥 임의 순서로 mapping 해보자 0~~"
   ]
  },
  {
   "cell_type": "markdown",
   "metadata": {
    "hidden": true
   },
   "source": [
    "#### 데이터 확인"
   ]
  },
  {
   "cell_type": "markdown",
   "metadata": {
    "hidden": true
   },
   "source": [
    "거의 다 Gable / CompShg 임."
   ]
  },
  {
   "cell_type": "code",
   "execution_count": 147,
   "metadata": {
    "ExecuteTime": {
     "end_time": "2021-09-06T08:25:54.111334Z",
     "start_time": "2021-09-06T08:25:54.099306Z"
    },
    "collapsed": true,
    "hidden": true
   },
   "outputs": [
    {
     "name": "stdout",
     "output_type": "stream",
     "text": [
      "----- RoofStyle -----\n",
      "---- train ----\n",
      "Gable      1141\n",
      "Hip         286\n",
      "Flat         13\n",
      "Gambrel      11\n",
      "Mansard       7\n",
      "Shed          2\n",
      "Name: RoofStyle, dtype: int64\n",
      "---- test ----\n",
      "Gable      1169\n",
      "Hip         265\n",
      "Gambrel      11\n",
      "Flat          7\n",
      "Mansard       4\n",
      "Shed          3\n",
      "Name: RoofStyle, dtype: int64 \n",
      "\n",
      "----- RoofMatl -----\n",
      "---- train ----\n",
      "CompShg    1434\n",
      "Tar&Grv      11\n",
      "WdShngl       6\n",
      "WdShake       5\n",
      "Membran       1\n",
      "ClyTile       1\n",
      "Metal         1\n",
      "Roll          1\n",
      "Name: RoofMatl, dtype: int64\n",
      "---- test ----\n",
      "CompShg    1442\n",
      "Tar&Grv      12\n",
      "WdShake       4\n",
      "WdShngl       1\n",
      "Name: RoofMatl, dtype: int64 \n",
      "\n"
     ]
    },
    {
     "data": {
      "text/plain": [
       "(None, None)"
      ]
     },
     "execution_count": 147,
     "metadata": {},
     "output_type": "execute_result"
    }
   ],
   "source": [
    "val_count('RoofStyle'), val_count('RoofMatl')"
   ]
  },
  {
   "cell_type": "code",
   "execution_count": 151,
   "metadata": {
    "ExecuteTime": {
     "end_time": "2021-09-06T08:26:38.956371Z",
     "start_time": "2021-09-06T08:26:38.934918Z"
    },
    "hidden": true
   },
   "outputs": [
    {
     "name": "stdout",
     "output_type": "stream",
     "text": [
      "Flat : 194690.0\n",
      "Mansard : 180568.42857142858\n",
      "Hip : 218876.93356643355\n",
      "Gable : 171483.95617879054\n",
      "Shed : 225000.0\n",
      "Gambrel : 148909.0909090909\n",
      "--------------------\n",
      "ClyTile : 160000.0\n",
      "WdShngl : 390250.0\n",
      "Roll : 137000.0\n",
      "WdShake : 241400.0\n",
      "Metal : 180000.0\n",
      "CompShg : 179803.6792189679\n",
      "Membran : 241500.0\n",
      "Tar&Grv : 185406.36363636365\n"
     ]
    }
   ],
   "source": [
    "avg_price('RoofStyle')\n",
    "print('-'*20)\n",
    "avg_price('RoofMatl')"
   ]
  },
  {
   "cell_type": "markdown",
   "metadata": {
    "hidden": true
   },
   "source": [
    "#### 결측치 확인\n",
    "- 없음!"
   ]
  },
  {
   "cell_type": "code",
   "execution_count": 153,
   "metadata": {
    "ExecuteTime": {
     "end_time": "2021-09-06T08:31:02.067054Z",
     "start_time": "2021-09-06T08:31:02.061104Z"
    },
    "hidden": true
   },
   "outputs": [
    {
     "name": "stdout",
     "output_type": "stream",
     "text": [
      "-- RoofStyle --\n",
      "train : 0\n",
      "test : 0\n",
      "-- RoofMatl --\n",
      "train : 0\n",
      "test : 0\n"
     ]
    },
    {
     "data": {
      "text/plain": [
       "(None, None)"
      ]
     },
     "execution_count": 153,
     "metadata": {},
     "output_type": "execute_result"
    }
   ],
   "source": [
    "null_check('RoofStyle'), null_check('RoofMatl')"
   ]
  },
  {
   "cell_type": "markdown",
   "metadata": {
    "hidden": true
   },
   "source": [
    "#### 매핑"
   ]
  },
  {
   "cell_type": "code",
   "execution_count": 163,
   "metadata": {
    "ExecuteTime": {
     "end_time": "2021-09-06T08:38:10.739959Z",
     "start_time": "2021-09-06T08:38:10.728489Z"
    },
    "hidden": true
   },
   "outputs": [],
   "source": [
    "map_RoofStyle = val_list(train, 'RoofStyle')\n",
    "train['RoofStyle'] = map_order(train, 'RoofStyle', map_RoofStyle)\n",
    "test['RoofStyle'] = map_order(test, 'RoofStyle', map_RoofStyle)\n",
    "\n",
    "map_RoofMatl = val_list(train, 'RoofMatl')\n",
    "train['RoofMatl'] = map_order(train, 'RoofMatl', map_RoofMatl)\n",
    "test['RoofMatl'] = map_order(test, 'RoofMatl', map_RoofMatl)"
   ]
  },
  {
   "cell_type": "code",
   "execution_count": 165,
   "metadata": {
    "ExecuteTime": {
     "end_time": "2021-09-06T08:38:23.867183Z",
     "start_time": "2021-09-06T08:38:23.853654Z"
    },
    "collapsed": true,
    "hidden": true
   },
   "outputs": [
    {
     "name": "stdout",
     "output_type": "stream",
     "text": [
      "----- RoofStyle -----\n",
      "---- train ----\n",
      "3    1141\n",
      "2     286\n",
      "0      13\n",
      "5      11\n",
      "1       7\n",
      "4       2\n",
      "Name: RoofStyle, dtype: int64\n",
      "---- test ----\n",
      "3    1169\n",
      "2     265\n",
      "5      11\n",
      "0       7\n",
      "1       4\n",
      "4       3\n",
      "Name: RoofStyle, dtype: int64 \n",
      "\n",
      "----- RoofMatl -----\n",
      "---- train ----\n",
      "5    1434\n",
      "7      11\n",
      "1       6\n",
      "3       5\n",
      "6       1\n",
      "4       1\n",
      "2       1\n",
      "0       1\n",
      "Name: RoofMatl, dtype: int64\n",
      "---- test ----\n",
      "5    1442\n",
      "7      12\n",
      "3       4\n",
      "1       1\n",
      "Name: RoofMatl, dtype: int64 \n",
      "\n"
     ]
    },
    {
     "data": {
      "text/plain": [
       "(None, None)"
      ]
     },
     "execution_count": 165,
     "metadata": {},
     "output_type": "execute_result"
    }
   ],
   "source": [
    "val_count('RoofStyle'), val_count('RoofMatl')"
   ]
  },
  {
   "cell_type": "markdown",
   "metadata": {
    "hidden": true
   },
   "source": [
    "#### 분류"
   ]
  },
  {
   "cell_type": "code",
   "execution_count": 167,
   "metadata": {
    "ExecuteTime": {
     "end_time": "2021-09-06T08:39:11.378783Z",
     "start_time": "2021-09-06T08:39:11.373800Z"
    },
    "hidden": true
   },
   "outputs": [],
   "source": [
    "feature_map.append('RoofStyle')\n",
    "feature_map.append('RoofMatl')"
   ]
  },
  {
   "cell_type": "markdown",
   "metadata": {},
   "source": [
    "----------------------------------\n",
    "### Exterior1st / Exterior2nd"
   ]
  },
  {
   "cell_type": "markdown",
   "metadata": {},
   "source": [
    "- "
   ]
  },
  {
   "cell_type": "markdown",
   "metadata": {},
   "source": [
    "#### 의견"
   ]
  },
  {
   "cell_type": "markdown",
   "metadata": {},
   "source": [
    "- "
   ]
  },
  {
   "cell_type": "markdown",
   "metadata": {},
   "source": [
    "#### 데이터 확인"
   ]
  },
  {
   "cell_type": "code",
   "execution_count": null,
   "metadata": {},
   "outputs": [],
   "source": []
  },
  {
   "cell_type": "markdown",
   "metadata": {},
   "source": [
    "#### 결측치 확인"
   ]
  },
  {
   "cell_type": "code",
   "execution_count": null,
   "metadata": {},
   "outputs": [],
   "source": []
  },
  {
   "cell_type": "markdown",
   "metadata": {},
   "source": [
    "#### 분류"
   ]
  },
  {
   "cell_type": "code",
   "execution_count": null,
   "metadata": {},
   "outputs": [],
   "source": []
  },
  {
   "cell_type": "markdown",
   "metadata": {
    "heading_collapsed": true
   },
   "source": [
    "----------------------------------\n",
    "### feature"
   ]
  },
  {
   "cell_type": "markdown",
   "metadata": {
    "hidden": true
   },
   "source": [
    "- "
   ]
  },
  {
   "cell_type": "markdown",
   "metadata": {
    "hidden": true
   },
   "source": [
    "#### 의견"
   ]
  },
  {
   "cell_type": "markdown",
   "metadata": {
    "hidden": true
   },
   "source": [
    "- "
   ]
  },
  {
   "cell_type": "markdown",
   "metadata": {
    "hidden": true
   },
   "source": [
    "#### 데이터 확인"
   ]
  },
  {
   "cell_type": "code",
   "execution_count": null,
   "metadata": {
    "hidden": true
   },
   "outputs": [],
   "source": []
  },
  {
   "cell_type": "markdown",
   "metadata": {
    "hidden": true
   },
   "source": [
    "#### 결측치 확인"
   ]
  },
  {
   "cell_type": "code",
   "execution_count": null,
   "metadata": {
    "hidden": true
   },
   "outputs": [],
   "source": []
  },
  {
   "cell_type": "markdown",
   "metadata": {
    "hidden": true
   },
   "source": [
    "#### 분류"
   ]
  },
  {
   "cell_type": "code",
   "execution_count": null,
   "metadata": {
    "hidden": true
   },
   "outputs": [],
   "source": []
  },
  {
   "cell_type": "markdown",
   "metadata": {
    "heading_collapsed": true
   },
   "source": [
    "----------------------------------\n",
    "### feature"
   ]
  },
  {
   "cell_type": "markdown",
   "metadata": {
    "hidden": true
   },
   "source": [
    "- "
   ]
  },
  {
   "cell_type": "markdown",
   "metadata": {
    "hidden": true
   },
   "source": [
    "#### 의견"
   ]
  },
  {
   "cell_type": "markdown",
   "metadata": {
    "hidden": true
   },
   "source": [
    "- "
   ]
  },
  {
   "cell_type": "markdown",
   "metadata": {
    "hidden": true
   },
   "source": [
    "#### 데이터 확인"
   ]
  },
  {
   "cell_type": "code",
   "execution_count": null,
   "metadata": {
    "hidden": true
   },
   "outputs": [],
   "source": []
  },
  {
   "cell_type": "markdown",
   "metadata": {
    "hidden": true
   },
   "source": [
    "#### 결측치 확인"
   ]
  },
  {
   "cell_type": "code",
   "execution_count": null,
   "metadata": {
    "hidden": true
   },
   "outputs": [],
   "source": []
  },
  {
   "cell_type": "markdown",
   "metadata": {
    "hidden": true
   },
   "source": [
    "#### 분류"
   ]
  },
  {
   "cell_type": "code",
   "execution_count": null,
   "metadata": {
    "hidden": true
   },
   "outputs": [],
   "source": []
  },
  {
   "cell_type": "markdown",
   "metadata": {
    "heading_collapsed": true
   },
   "source": [
    "----------------------------------\n",
    "### feature"
   ]
  },
  {
   "cell_type": "markdown",
   "metadata": {
    "hidden": true
   },
   "source": [
    "- "
   ]
  },
  {
   "cell_type": "markdown",
   "metadata": {
    "hidden": true
   },
   "source": [
    "#### 의견"
   ]
  },
  {
   "cell_type": "markdown",
   "metadata": {
    "hidden": true
   },
   "source": [
    "- "
   ]
  },
  {
   "cell_type": "markdown",
   "metadata": {
    "hidden": true
   },
   "source": [
    "#### 데이터 확인"
   ]
  },
  {
   "cell_type": "code",
   "execution_count": null,
   "metadata": {
    "hidden": true
   },
   "outputs": [],
   "source": []
  },
  {
   "cell_type": "markdown",
   "metadata": {
    "hidden": true
   },
   "source": [
    "#### 결측치 확인"
   ]
  },
  {
   "cell_type": "code",
   "execution_count": null,
   "metadata": {
    "hidden": true
   },
   "outputs": [],
   "source": []
  },
  {
   "cell_type": "markdown",
   "metadata": {
    "hidden": true
   },
   "source": [
    "#### 분류"
   ]
  },
  {
   "cell_type": "code",
   "execution_count": null,
   "metadata": {
    "hidden": true
   },
   "outputs": [],
   "source": []
  },
  {
   "cell_type": "markdown",
   "metadata": {
    "heading_collapsed": true
   },
   "source": [
    "----------------------------------\n",
    "### feature"
   ]
  },
  {
   "cell_type": "markdown",
   "metadata": {
    "hidden": true
   },
   "source": [
    "- "
   ]
  },
  {
   "cell_type": "markdown",
   "metadata": {
    "hidden": true
   },
   "source": [
    "#### 의견"
   ]
  },
  {
   "cell_type": "markdown",
   "metadata": {
    "hidden": true
   },
   "source": [
    "- "
   ]
  },
  {
   "cell_type": "markdown",
   "metadata": {
    "hidden": true
   },
   "source": [
    "#### 데이터 확인"
   ]
  },
  {
   "cell_type": "code",
   "execution_count": null,
   "metadata": {
    "hidden": true
   },
   "outputs": [],
   "source": []
  },
  {
   "cell_type": "markdown",
   "metadata": {
    "hidden": true
   },
   "source": [
    "#### 결측치 확인"
   ]
  },
  {
   "cell_type": "code",
   "execution_count": null,
   "metadata": {
    "hidden": true
   },
   "outputs": [],
   "source": []
  },
  {
   "cell_type": "markdown",
   "metadata": {
    "hidden": true
   },
   "source": [
    "#### 분류"
   ]
  },
  {
   "cell_type": "code",
   "execution_count": null,
   "metadata": {
    "hidden": true
   },
   "outputs": [],
   "source": []
  },
  {
   "cell_type": "markdown",
   "metadata": {
    "heading_collapsed": true
   },
   "source": [
    "----------------------------------\n",
    "### feature"
   ]
  },
  {
   "cell_type": "markdown",
   "metadata": {
    "hidden": true
   },
   "source": [
    "- "
   ]
  },
  {
   "cell_type": "markdown",
   "metadata": {
    "hidden": true
   },
   "source": [
    "#### 의견"
   ]
  },
  {
   "cell_type": "markdown",
   "metadata": {
    "hidden": true
   },
   "source": [
    "- "
   ]
  },
  {
   "cell_type": "markdown",
   "metadata": {
    "hidden": true
   },
   "source": [
    "#### 데이터 확인"
   ]
  },
  {
   "cell_type": "code",
   "execution_count": null,
   "metadata": {
    "hidden": true
   },
   "outputs": [],
   "source": []
  },
  {
   "cell_type": "markdown",
   "metadata": {
    "hidden": true
   },
   "source": [
    "#### 결측치 확인"
   ]
  },
  {
   "cell_type": "code",
   "execution_count": null,
   "metadata": {
    "hidden": true
   },
   "outputs": [],
   "source": []
  },
  {
   "cell_type": "markdown",
   "metadata": {
    "hidden": true
   },
   "source": [
    "#### 분류"
   ]
  },
  {
   "cell_type": "code",
   "execution_count": null,
   "metadata": {
    "hidden": true
   },
   "outputs": [],
   "source": []
  },
  {
   "cell_type": "markdown",
   "metadata": {
    "heading_collapsed": true
   },
   "source": [
    "----------------------------------\n",
    "### feature"
   ]
  },
  {
   "cell_type": "markdown",
   "metadata": {
    "hidden": true
   },
   "source": [
    "- "
   ]
  },
  {
   "cell_type": "markdown",
   "metadata": {
    "hidden": true
   },
   "source": [
    "#### 의견"
   ]
  },
  {
   "cell_type": "markdown",
   "metadata": {
    "hidden": true
   },
   "source": [
    "- "
   ]
  },
  {
   "cell_type": "markdown",
   "metadata": {
    "hidden": true
   },
   "source": [
    "#### 데이터 확인"
   ]
  },
  {
   "cell_type": "code",
   "execution_count": null,
   "metadata": {
    "hidden": true
   },
   "outputs": [],
   "source": []
  },
  {
   "cell_type": "markdown",
   "metadata": {
    "hidden": true
   },
   "source": [
    "#### 결측치 확인"
   ]
  },
  {
   "cell_type": "code",
   "execution_count": null,
   "metadata": {
    "hidden": true
   },
   "outputs": [],
   "source": []
  },
  {
   "cell_type": "markdown",
   "metadata": {
    "hidden": true
   },
   "source": [
    "#### 분류"
   ]
  },
  {
   "cell_type": "code",
   "execution_count": null,
   "metadata": {
    "hidden": true
   },
   "outputs": [],
   "source": []
  },
  {
   "cell_type": "markdown",
   "metadata": {
    "heading_collapsed": true
   },
   "source": [
    "----------------------------------\n",
    "### feature"
   ]
  },
  {
   "cell_type": "markdown",
   "metadata": {
    "hidden": true
   },
   "source": [
    "- "
   ]
  },
  {
   "cell_type": "markdown",
   "metadata": {
    "hidden": true
   },
   "source": [
    "#### 의견"
   ]
  },
  {
   "cell_type": "markdown",
   "metadata": {
    "hidden": true
   },
   "source": [
    "- "
   ]
  },
  {
   "cell_type": "markdown",
   "metadata": {
    "hidden": true
   },
   "source": [
    "#### 데이터 확인"
   ]
  },
  {
   "cell_type": "code",
   "execution_count": null,
   "metadata": {
    "hidden": true
   },
   "outputs": [],
   "source": []
  },
  {
   "cell_type": "markdown",
   "metadata": {
    "hidden": true
   },
   "source": [
    "#### 결측치 확인"
   ]
  },
  {
   "cell_type": "code",
   "execution_count": null,
   "metadata": {
    "hidden": true
   },
   "outputs": [],
   "source": []
  },
  {
   "cell_type": "markdown",
   "metadata": {
    "hidden": true
   },
   "source": [
    "#### 분류"
   ]
  },
  {
   "cell_type": "code",
   "execution_count": null,
   "metadata": {
    "hidden": true
   },
   "outputs": [],
   "source": []
  },
  {
   "cell_type": "markdown",
   "metadata": {
    "heading_collapsed": true
   },
   "source": [
    "----------------------------------\n",
    "### feature"
   ]
  },
  {
   "cell_type": "markdown",
   "metadata": {
    "hidden": true
   },
   "source": [
    "- "
   ]
  },
  {
   "cell_type": "markdown",
   "metadata": {
    "hidden": true
   },
   "source": [
    "#### 의견"
   ]
  },
  {
   "cell_type": "markdown",
   "metadata": {
    "hidden": true
   },
   "source": [
    "- "
   ]
  },
  {
   "cell_type": "markdown",
   "metadata": {
    "hidden": true
   },
   "source": [
    "#### 데이터 확인"
   ]
  },
  {
   "cell_type": "code",
   "execution_count": null,
   "metadata": {
    "hidden": true
   },
   "outputs": [],
   "source": []
  },
  {
   "cell_type": "markdown",
   "metadata": {
    "hidden": true
   },
   "source": [
    "#### 결측치 확인"
   ]
  },
  {
   "cell_type": "code",
   "execution_count": null,
   "metadata": {
    "hidden": true
   },
   "outputs": [],
   "source": []
  },
  {
   "cell_type": "markdown",
   "metadata": {
    "hidden": true
   },
   "source": [
    "#### 분류"
   ]
  },
  {
   "cell_type": "code",
   "execution_count": null,
   "metadata": {
    "hidden": true
   },
   "outputs": [],
   "source": []
  },
  {
   "cell_type": "markdown",
   "metadata": {
    "heading_collapsed": true
   },
   "source": [
    "----------------------------------\n",
    "### feature"
   ]
  },
  {
   "cell_type": "markdown",
   "metadata": {
    "hidden": true
   },
   "source": [
    "- "
   ]
  },
  {
   "cell_type": "markdown",
   "metadata": {
    "hidden": true
   },
   "source": [
    "#### 의견"
   ]
  },
  {
   "cell_type": "markdown",
   "metadata": {
    "hidden": true
   },
   "source": [
    "- "
   ]
  },
  {
   "cell_type": "markdown",
   "metadata": {
    "hidden": true
   },
   "source": [
    "#### 데이터 확인"
   ]
  },
  {
   "cell_type": "code",
   "execution_count": null,
   "metadata": {
    "hidden": true
   },
   "outputs": [],
   "source": []
  },
  {
   "cell_type": "markdown",
   "metadata": {
    "hidden": true
   },
   "source": [
    "#### 결측치 확인"
   ]
  },
  {
   "cell_type": "code",
   "execution_count": null,
   "metadata": {
    "hidden": true
   },
   "outputs": [],
   "source": []
  },
  {
   "cell_type": "markdown",
   "metadata": {
    "hidden": true
   },
   "source": [
    "#### 분류"
   ]
  },
  {
   "cell_type": "code",
   "execution_count": null,
   "metadata": {
    "hidden": true
   },
   "outputs": [],
   "source": []
  },
  {
   "cell_type": "markdown",
   "metadata": {
    "heading_collapsed": true
   },
   "source": [
    "----------------------------------\n",
    "### feature"
   ]
  },
  {
   "cell_type": "markdown",
   "metadata": {
    "hidden": true
   },
   "source": [
    "- "
   ]
  },
  {
   "cell_type": "markdown",
   "metadata": {
    "hidden": true
   },
   "source": [
    "#### 의견"
   ]
  },
  {
   "cell_type": "markdown",
   "metadata": {
    "hidden": true
   },
   "source": [
    "- "
   ]
  },
  {
   "cell_type": "markdown",
   "metadata": {
    "hidden": true
   },
   "source": [
    "#### 데이터 확인"
   ]
  },
  {
   "cell_type": "code",
   "execution_count": null,
   "metadata": {
    "hidden": true
   },
   "outputs": [],
   "source": []
  },
  {
   "cell_type": "markdown",
   "metadata": {
    "hidden": true
   },
   "source": [
    "#### 결측치 확인"
   ]
  },
  {
   "cell_type": "code",
   "execution_count": null,
   "metadata": {
    "hidden": true
   },
   "outputs": [],
   "source": []
  },
  {
   "cell_type": "markdown",
   "metadata": {
    "hidden": true
   },
   "source": [
    "#### 분류"
   ]
  },
  {
   "cell_type": "code",
   "execution_count": null,
   "metadata": {
    "hidden": true
   },
   "outputs": [],
   "source": []
  },
  {
   "cell_type": "markdown",
   "metadata": {
    "heading_collapsed": true
   },
   "source": [
    "----------------------------------\n",
    "### feature"
   ]
  },
  {
   "cell_type": "markdown",
   "metadata": {
    "hidden": true
   },
   "source": [
    "- "
   ]
  },
  {
   "cell_type": "markdown",
   "metadata": {
    "hidden": true
   },
   "source": [
    "#### 의견"
   ]
  },
  {
   "cell_type": "markdown",
   "metadata": {
    "hidden": true
   },
   "source": [
    "- "
   ]
  },
  {
   "cell_type": "markdown",
   "metadata": {
    "hidden": true
   },
   "source": [
    "#### 데이터 확인"
   ]
  },
  {
   "cell_type": "code",
   "execution_count": null,
   "metadata": {
    "hidden": true
   },
   "outputs": [],
   "source": []
  },
  {
   "cell_type": "markdown",
   "metadata": {
    "hidden": true
   },
   "source": [
    "#### 결측치 확인"
   ]
  },
  {
   "cell_type": "code",
   "execution_count": null,
   "metadata": {
    "hidden": true
   },
   "outputs": [],
   "source": []
  },
  {
   "cell_type": "markdown",
   "metadata": {
    "hidden": true
   },
   "source": [
    "#### 분류"
   ]
  },
  {
   "cell_type": "code",
   "execution_count": null,
   "metadata": {
    "hidden": true
   },
   "outputs": [],
   "source": []
  },
  {
   "cell_type": "markdown",
   "metadata": {
    "heading_collapsed": true
   },
   "source": [
    "----------------------------------\n",
    "### feature"
   ]
  },
  {
   "cell_type": "markdown",
   "metadata": {
    "hidden": true
   },
   "source": [
    "- "
   ]
  },
  {
   "cell_type": "markdown",
   "metadata": {
    "hidden": true
   },
   "source": [
    "#### 의견"
   ]
  },
  {
   "cell_type": "markdown",
   "metadata": {
    "hidden": true
   },
   "source": [
    "- "
   ]
  },
  {
   "cell_type": "markdown",
   "metadata": {
    "hidden": true
   },
   "source": [
    "#### 데이터 확인"
   ]
  },
  {
   "cell_type": "code",
   "execution_count": null,
   "metadata": {
    "hidden": true
   },
   "outputs": [],
   "source": []
  },
  {
   "cell_type": "markdown",
   "metadata": {
    "hidden": true
   },
   "source": [
    "#### 결측치 확인"
   ]
  },
  {
   "cell_type": "code",
   "execution_count": null,
   "metadata": {
    "hidden": true
   },
   "outputs": [],
   "source": []
  },
  {
   "cell_type": "markdown",
   "metadata": {
    "hidden": true
   },
   "source": [
    "#### 분류"
   ]
  },
  {
   "cell_type": "code",
   "execution_count": null,
   "metadata": {
    "hidden": true
   },
   "outputs": [],
   "source": []
  },
  {
   "cell_type": "markdown",
   "metadata": {
    "heading_collapsed": true
   },
   "source": [
    "----------------------------------\n",
    "### feature"
   ]
  },
  {
   "cell_type": "markdown",
   "metadata": {
    "hidden": true
   },
   "source": [
    "- "
   ]
  },
  {
   "cell_type": "markdown",
   "metadata": {
    "hidden": true
   },
   "source": [
    "#### 의견"
   ]
  },
  {
   "cell_type": "markdown",
   "metadata": {
    "hidden": true
   },
   "source": [
    "- "
   ]
  },
  {
   "cell_type": "markdown",
   "metadata": {
    "hidden": true
   },
   "source": [
    "#### 데이터 확인"
   ]
  },
  {
   "cell_type": "code",
   "execution_count": null,
   "metadata": {
    "hidden": true
   },
   "outputs": [],
   "source": []
  },
  {
   "cell_type": "markdown",
   "metadata": {
    "hidden": true
   },
   "source": [
    "#### 결측치 확인"
   ]
  },
  {
   "cell_type": "code",
   "execution_count": null,
   "metadata": {
    "hidden": true
   },
   "outputs": [],
   "source": []
  },
  {
   "cell_type": "markdown",
   "metadata": {
    "hidden": true
   },
   "source": [
    "#### 분류"
   ]
  },
  {
   "cell_type": "code",
   "execution_count": null,
   "metadata": {
    "hidden": true
   },
   "outputs": [],
   "source": []
  },
  {
   "cell_type": "markdown",
   "metadata": {
    "heading_collapsed": true
   },
   "source": [
    "----------------------------------\n",
    "### feature"
   ]
  },
  {
   "cell_type": "markdown",
   "metadata": {
    "hidden": true
   },
   "source": [
    "- "
   ]
  },
  {
   "cell_type": "markdown",
   "metadata": {
    "hidden": true
   },
   "source": [
    "#### 의견"
   ]
  },
  {
   "cell_type": "markdown",
   "metadata": {
    "hidden": true
   },
   "source": [
    "- "
   ]
  },
  {
   "cell_type": "markdown",
   "metadata": {
    "hidden": true
   },
   "source": [
    "#### 데이터 확인"
   ]
  },
  {
   "cell_type": "code",
   "execution_count": null,
   "metadata": {
    "hidden": true
   },
   "outputs": [],
   "source": []
  },
  {
   "cell_type": "markdown",
   "metadata": {
    "hidden": true
   },
   "source": [
    "#### 결측치 확인"
   ]
  },
  {
   "cell_type": "code",
   "execution_count": null,
   "metadata": {
    "hidden": true
   },
   "outputs": [],
   "source": []
  },
  {
   "cell_type": "markdown",
   "metadata": {
    "hidden": true
   },
   "source": [
    "#### 분류"
   ]
  },
  {
   "cell_type": "code",
   "execution_count": null,
   "metadata": {
    "hidden": true
   },
   "outputs": [],
   "source": []
  },
  {
   "cell_type": "markdown",
   "metadata": {
    "heading_collapsed": true
   },
   "source": [
    "----------------------------------\n",
    "### feature"
   ]
  },
  {
   "cell_type": "markdown",
   "metadata": {
    "hidden": true
   },
   "source": [
    "- "
   ]
  },
  {
   "cell_type": "markdown",
   "metadata": {
    "hidden": true
   },
   "source": [
    "#### 의견"
   ]
  },
  {
   "cell_type": "markdown",
   "metadata": {
    "hidden": true
   },
   "source": [
    "- "
   ]
  },
  {
   "cell_type": "markdown",
   "metadata": {
    "hidden": true
   },
   "source": [
    "#### 데이터 확인"
   ]
  },
  {
   "cell_type": "code",
   "execution_count": null,
   "metadata": {
    "hidden": true
   },
   "outputs": [],
   "source": []
  },
  {
   "cell_type": "markdown",
   "metadata": {
    "hidden": true
   },
   "source": [
    "#### 결측치 확인"
   ]
  },
  {
   "cell_type": "code",
   "execution_count": null,
   "metadata": {
    "hidden": true
   },
   "outputs": [],
   "source": []
  },
  {
   "cell_type": "markdown",
   "metadata": {
    "hidden": true
   },
   "source": [
    "#### 분류"
   ]
  },
  {
   "cell_type": "code",
   "execution_count": null,
   "metadata": {
    "hidden": true
   },
   "outputs": [],
   "source": []
  },
  {
   "cell_type": "markdown",
   "metadata": {
    "heading_collapsed": true
   },
   "source": [
    "----------------------------------\n",
    "### feature"
   ]
  },
  {
   "cell_type": "markdown",
   "metadata": {
    "hidden": true
   },
   "source": [
    "- "
   ]
  },
  {
   "cell_type": "markdown",
   "metadata": {
    "hidden": true
   },
   "source": [
    "#### 의견"
   ]
  },
  {
   "cell_type": "markdown",
   "metadata": {
    "hidden": true
   },
   "source": [
    "- "
   ]
  },
  {
   "cell_type": "markdown",
   "metadata": {
    "hidden": true
   },
   "source": [
    "#### 데이터 확인"
   ]
  },
  {
   "cell_type": "code",
   "execution_count": null,
   "metadata": {
    "hidden": true
   },
   "outputs": [],
   "source": []
  },
  {
   "cell_type": "markdown",
   "metadata": {
    "hidden": true
   },
   "source": [
    "#### 결측치 확인"
   ]
  },
  {
   "cell_type": "code",
   "execution_count": null,
   "metadata": {
    "hidden": true
   },
   "outputs": [],
   "source": []
  },
  {
   "cell_type": "markdown",
   "metadata": {
    "hidden": true
   },
   "source": [
    "#### 분류"
   ]
  },
  {
   "cell_type": "code",
   "execution_count": null,
   "metadata": {
    "hidden": true
   },
   "outputs": [],
   "source": []
  },
  {
   "cell_type": "markdown",
   "metadata": {
    "heading_collapsed": true
   },
   "source": [
    "----------------------------------\n",
    "### feature"
   ]
  },
  {
   "cell_type": "markdown",
   "metadata": {
    "hidden": true
   },
   "source": [
    "- "
   ]
  },
  {
   "cell_type": "markdown",
   "metadata": {
    "hidden": true
   },
   "source": [
    "#### 의견"
   ]
  },
  {
   "cell_type": "markdown",
   "metadata": {
    "hidden": true
   },
   "source": [
    "- "
   ]
  },
  {
   "cell_type": "markdown",
   "metadata": {
    "hidden": true
   },
   "source": [
    "#### 데이터 확인"
   ]
  },
  {
   "cell_type": "code",
   "execution_count": null,
   "metadata": {
    "hidden": true
   },
   "outputs": [],
   "source": []
  },
  {
   "cell_type": "markdown",
   "metadata": {
    "hidden": true
   },
   "source": [
    "#### 결측치 확인"
   ]
  },
  {
   "cell_type": "code",
   "execution_count": null,
   "metadata": {
    "hidden": true
   },
   "outputs": [],
   "source": []
  },
  {
   "cell_type": "markdown",
   "metadata": {
    "hidden": true
   },
   "source": [
    "#### 분류"
   ]
  },
  {
   "cell_type": "code",
   "execution_count": null,
   "metadata": {
    "hidden": true
   },
   "outputs": [],
   "source": []
  },
  {
   "cell_type": "markdown",
   "metadata": {
    "heading_collapsed": true
   },
   "source": [
    "----------------------------------\n",
    "### feature"
   ]
  },
  {
   "cell_type": "markdown",
   "metadata": {
    "hidden": true
   },
   "source": [
    "- "
   ]
  },
  {
   "cell_type": "markdown",
   "metadata": {
    "hidden": true
   },
   "source": [
    "#### 의견"
   ]
  },
  {
   "cell_type": "markdown",
   "metadata": {
    "hidden": true
   },
   "source": [
    "- "
   ]
  },
  {
   "cell_type": "markdown",
   "metadata": {
    "hidden": true
   },
   "source": [
    "#### 데이터 확인"
   ]
  },
  {
   "cell_type": "code",
   "execution_count": null,
   "metadata": {
    "hidden": true
   },
   "outputs": [],
   "source": []
  },
  {
   "cell_type": "markdown",
   "metadata": {
    "hidden": true
   },
   "source": [
    "#### 결측치 확인"
   ]
  },
  {
   "cell_type": "code",
   "execution_count": null,
   "metadata": {
    "hidden": true
   },
   "outputs": [],
   "source": []
  },
  {
   "cell_type": "markdown",
   "metadata": {
    "hidden": true
   },
   "source": [
    "#### 분류"
   ]
  },
  {
   "cell_type": "code",
   "execution_count": null,
   "metadata": {
    "hidden": true
   },
   "outputs": [],
   "source": []
  },
  {
   "cell_type": "markdown",
   "metadata": {
    "heading_collapsed": true
   },
   "source": [
    "----------------------------------\n",
    "### feature"
   ]
  },
  {
   "cell_type": "markdown",
   "metadata": {
    "hidden": true
   },
   "source": [
    "- "
   ]
  },
  {
   "cell_type": "markdown",
   "metadata": {
    "hidden": true
   },
   "source": [
    "#### 의견"
   ]
  },
  {
   "cell_type": "markdown",
   "metadata": {
    "hidden": true
   },
   "source": [
    "- "
   ]
  },
  {
   "cell_type": "markdown",
   "metadata": {
    "hidden": true
   },
   "source": [
    "#### 데이터 확인"
   ]
  },
  {
   "cell_type": "code",
   "execution_count": null,
   "metadata": {
    "hidden": true
   },
   "outputs": [],
   "source": []
  },
  {
   "cell_type": "markdown",
   "metadata": {
    "hidden": true
   },
   "source": [
    "#### 결측치 확인"
   ]
  },
  {
   "cell_type": "code",
   "execution_count": null,
   "metadata": {
    "hidden": true
   },
   "outputs": [],
   "source": []
  },
  {
   "cell_type": "markdown",
   "metadata": {
    "hidden": true
   },
   "source": [
    "#### 분류"
   ]
  },
  {
   "cell_type": "code",
   "execution_count": null,
   "metadata": {
    "hidden": true
   },
   "outputs": [],
   "source": []
  },
  {
   "cell_type": "markdown",
   "metadata": {
    "heading_collapsed": true
   },
   "source": [
    "----------------------------------\n",
    "### feature"
   ]
  },
  {
   "cell_type": "markdown",
   "metadata": {
    "hidden": true
   },
   "source": [
    "- "
   ]
  },
  {
   "cell_type": "markdown",
   "metadata": {
    "hidden": true
   },
   "source": [
    "#### 의견"
   ]
  },
  {
   "cell_type": "markdown",
   "metadata": {
    "hidden": true
   },
   "source": [
    "- "
   ]
  },
  {
   "cell_type": "markdown",
   "metadata": {
    "hidden": true
   },
   "source": [
    "#### 데이터 확인"
   ]
  },
  {
   "cell_type": "code",
   "execution_count": null,
   "metadata": {
    "hidden": true
   },
   "outputs": [],
   "source": []
  },
  {
   "cell_type": "markdown",
   "metadata": {
    "hidden": true
   },
   "source": [
    "#### 결측치 확인"
   ]
  },
  {
   "cell_type": "code",
   "execution_count": null,
   "metadata": {
    "hidden": true
   },
   "outputs": [],
   "source": []
  },
  {
   "cell_type": "markdown",
   "metadata": {
    "hidden": true
   },
   "source": [
    "#### 분류"
   ]
  },
  {
   "cell_type": "code",
   "execution_count": null,
   "metadata": {
    "hidden": true
   },
   "outputs": [],
   "source": []
  },
  {
   "cell_type": "markdown",
   "metadata": {
    "heading_collapsed": true
   },
   "source": [
    "----------------------------------\n",
    "### feature"
   ]
  },
  {
   "cell_type": "markdown",
   "metadata": {
    "hidden": true
   },
   "source": [
    "- "
   ]
  },
  {
   "cell_type": "markdown",
   "metadata": {
    "hidden": true
   },
   "source": [
    "#### 의견"
   ]
  },
  {
   "cell_type": "markdown",
   "metadata": {
    "hidden": true
   },
   "source": [
    "- "
   ]
  },
  {
   "cell_type": "markdown",
   "metadata": {
    "hidden": true
   },
   "source": [
    "#### 데이터 확인"
   ]
  },
  {
   "cell_type": "code",
   "execution_count": null,
   "metadata": {
    "hidden": true
   },
   "outputs": [],
   "source": []
  },
  {
   "cell_type": "markdown",
   "metadata": {
    "hidden": true
   },
   "source": [
    "#### 결측치 확인"
   ]
  },
  {
   "cell_type": "code",
   "execution_count": null,
   "metadata": {
    "hidden": true
   },
   "outputs": [],
   "source": []
  },
  {
   "cell_type": "markdown",
   "metadata": {
    "hidden": true
   },
   "source": [
    "#### 분류"
   ]
  },
  {
   "cell_type": "code",
   "execution_count": null,
   "metadata": {
    "hidden": true
   },
   "outputs": [],
   "source": []
  },
  {
   "cell_type": "markdown",
   "metadata": {
    "heading_collapsed": true
   },
   "source": [
    "----------------------------------\n",
    "### feature"
   ]
  },
  {
   "cell_type": "markdown",
   "metadata": {
    "hidden": true
   },
   "source": [
    "- "
   ]
  },
  {
   "cell_type": "markdown",
   "metadata": {
    "hidden": true
   },
   "source": [
    "#### 의견"
   ]
  },
  {
   "cell_type": "markdown",
   "metadata": {
    "hidden": true
   },
   "source": [
    "- "
   ]
  },
  {
   "cell_type": "markdown",
   "metadata": {
    "hidden": true
   },
   "source": [
    "#### 데이터 확인"
   ]
  },
  {
   "cell_type": "code",
   "execution_count": null,
   "metadata": {
    "hidden": true
   },
   "outputs": [],
   "source": []
  },
  {
   "cell_type": "markdown",
   "metadata": {
    "hidden": true
   },
   "source": [
    "#### 결측치 확인"
   ]
  },
  {
   "cell_type": "code",
   "execution_count": null,
   "metadata": {
    "hidden": true
   },
   "outputs": [],
   "source": []
  },
  {
   "cell_type": "markdown",
   "metadata": {
    "hidden": true
   },
   "source": [
    "#### 분류"
   ]
  },
  {
   "cell_type": "code",
   "execution_count": null,
   "metadata": {
    "hidden": true
   },
   "outputs": [],
   "source": []
  },
  {
   "cell_type": "markdown",
   "metadata": {
    "heading_collapsed": true
   },
   "source": [
    "----------------------------------\n",
    "### feature"
   ]
  },
  {
   "cell_type": "markdown",
   "metadata": {
    "hidden": true
   },
   "source": [
    "- "
   ]
  },
  {
   "cell_type": "markdown",
   "metadata": {
    "hidden": true
   },
   "source": [
    "#### 의견"
   ]
  },
  {
   "cell_type": "markdown",
   "metadata": {
    "hidden": true
   },
   "source": [
    "- "
   ]
  },
  {
   "cell_type": "markdown",
   "metadata": {
    "hidden": true
   },
   "source": [
    "#### 데이터 확인"
   ]
  },
  {
   "cell_type": "code",
   "execution_count": null,
   "metadata": {
    "hidden": true
   },
   "outputs": [],
   "source": []
  },
  {
   "cell_type": "markdown",
   "metadata": {
    "hidden": true
   },
   "source": [
    "#### 결측치 확인"
   ]
  },
  {
   "cell_type": "code",
   "execution_count": null,
   "metadata": {
    "hidden": true
   },
   "outputs": [],
   "source": []
  },
  {
   "cell_type": "markdown",
   "metadata": {
    "hidden": true
   },
   "source": [
    "#### 분류"
   ]
  },
  {
   "cell_type": "code",
   "execution_count": null,
   "metadata": {
    "hidden": true
   },
   "outputs": [],
   "source": []
  },
  {
   "cell_type": "markdown",
   "metadata": {
    "heading_collapsed": true
   },
   "source": [
    "----------------------------------\n",
    "### feature"
   ]
  },
  {
   "cell_type": "markdown",
   "metadata": {
    "hidden": true
   },
   "source": [
    "- "
   ]
  },
  {
   "cell_type": "markdown",
   "metadata": {
    "hidden": true
   },
   "source": [
    "#### 의견"
   ]
  },
  {
   "cell_type": "markdown",
   "metadata": {
    "hidden": true
   },
   "source": [
    "- "
   ]
  },
  {
   "cell_type": "markdown",
   "metadata": {
    "hidden": true
   },
   "source": [
    "#### 데이터 확인"
   ]
  },
  {
   "cell_type": "code",
   "execution_count": null,
   "metadata": {
    "hidden": true
   },
   "outputs": [],
   "source": []
  },
  {
   "cell_type": "markdown",
   "metadata": {
    "hidden": true
   },
   "source": [
    "#### 결측치 확인"
   ]
  },
  {
   "cell_type": "code",
   "execution_count": null,
   "metadata": {
    "hidden": true
   },
   "outputs": [],
   "source": []
  },
  {
   "cell_type": "markdown",
   "metadata": {
    "hidden": true
   },
   "source": [
    "#### 분류"
   ]
  },
  {
   "cell_type": "code",
   "execution_count": null,
   "metadata": {
    "hidden": true
   },
   "outputs": [],
   "source": []
  },
  {
   "cell_type": "code",
   "execution_count": null,
   "metadata": {
    "hidden": true
   },
   "outputs": [],
   "source": []
  },
  {
   "cell_type": "code",
   "execution_count": null,
   "metadata": {
    "hidden": true
   },
   "outputs": [],
   "source": []
  },
  {
   "cell_type": "code",
   "execution_count": null,
   "metadata": {
    "hidden": true
   },
   "outputs": [],
   "source": []
  }
 ],
 "metadata": {
  "kernelspec": {
   "display_name": "Python 3",
   "language": "python",
   "name": "python3"
  },
  "language_info": {
   "codemirror_mode": {
    "name": "ipython",
    "version": 3
   },
   "file_extension": ".py",
   "mimetype": "text/x-python",
   "name": "python",
   "nbconvert_exporter": "python",
   "pygments_lexer": "ipython3",
   "version": "3.7.4"
  },
  "latex_envs": {
   "LaTeX_envs_menu_present": true,
   "autoclose": false,
   "autocomplete": true,
   "bibliofile": "biblio.bib",
   "cite_by": "apalike",
   "current_citInitial": 1,
   "eqLabelWithNumbers": true,
   "eqNumInitial": 1,
   "hotkeys": {
    "equation": "Ctrl-E",
    "itemize": "Ctrl-I"
   },
   "labels_anchors": false,
   "latex_user_defs": false,
   "report_style_numbering": false,
   "user_envs_cfg": false
  },
  "toc": {
   "base_numbering": 1,
   "nav_menu": {},
   "number_sections": true,
   "sideBar": true,
   "skip_h1_title": false,
   "title_cell": "Table of Contents",
   "title_sidebar": "Contents",
   "toc_cell": false,
   "toc_position": {
    "height": "calc(100% - 180px)",
    "left": "10px",
    "top": "150px",
    "width": "268.312px"
   },
   "toc_section_display": true,
   "toc_window_display": true
  },
  "varInspector": {
   "cols": {
    "lenName": 16,
    "lenType": 16,
    "lenVar": 40
   },
   "kernels_config": {
    "python": {
     "delete_cmd_postfix": "",
     "delete_cmd_prefix": "del ",
     "library": "var_list.py",
     "varRefreshCmd": "print(var_dic_list())"
    },
    "r": {
     "delete_cmd_postfix": ") ",
     "delete_cmd_prefix": "rm(",
     "library": "var_list.r",
     "varRefreshCmd": "cat(var_dic_list()) "
    }
   },
   "types_to_exclude": [
    "module",
    "function",
    "builtin_function_or_method",
    "instance",
    "_Feature"
   ],
   "window_display": false
  }
 },
 "nbformat": 4,
 "nbformat_minor": 2
}
