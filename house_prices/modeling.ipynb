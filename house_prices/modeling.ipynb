{
 "cells": [
  {
   "cell_type": "markdown",
   "metadata": {},
   "source": [
    "# 불러오기"
   ]
  },
  {
   "cell_type": "code",
   "execution_count": null,
   "metadata": {
    "ExecuteTime": {
     "end_time": "2021-09-10T08:11:50.112085Z",
     "start_time": "2021-09-10T08:11:50.092134Z"
    }
   },
   "outputs": [],
   "source": [
    "import numpy as np\n",
    "import pandas as pd\n",
    "import matplotlib.pyplot as plt\n",
    "import seaborn as sns\n",
    "import statsmodels.api as sm;\n",
    "from statsmodels.stats.outliers_influence import variance_inflation_factor\n",
    "import sklearn"
   ]
  },
  {
   "cell_type": "code",
   "execution_count": null,
   "metadata": {},
   "outputs": [],
   "source": [
    "sklearn.__version__"
   ]
  },
  {
   "cell_type": "code",
   "execution_count": null,
   "metadata": {
    "ExecuteTime": {
     "end_time": "2021-09-10T08:11:50.241776Z",
     "start_time": "2021-09-10T08:11:50.116073Z"
    }
   },
   "outputs": [],
   "source": [
    "train =  pd.read_csv('data/preprocess/train_0910.csv')\n",
    "test =  pd.read_csv('data/preprocess/test_0910.csv')"
   ]
  },
  {
   "cell_type": "code",
   "execution_count": null,
   "metadata": {
    "ExecuteTime": {
     "end_time": "2021-09-10T08:11:50.255697Z",
     "start_time": "2021-09-10T08:11:50.245724Z"
    }
   },
   "outputs": [],
   "source": [
    "X = train.drop('SalePrice', axis=1)\n",
    "y = train['SalePrice']"
   ]
  },
  {
   "cell_type": "code",
   "execution_count": null,
   "metadata": {
    "ExecuteTime": {
     "end_time": "2021-09-10T08:11:50.267668Z",
     "start_time": "2021-09-10T08:11:50.261685Z"
    }
   },
   "outputs": [],
   "source": [
    "#y"
   ]
  },
  {
   "cell_type": "markdown",
   "metadata": {},
   "source": [
    "# RandomForestRegressor"
   ]
  },
  {
   "cell_type": "code",
   "execution_count": null,
   "metadata": {
    "ExecuteTime": {
     "end_time": "2021-09-10T08:11:51.624401Z",
     "start_time": "2021-09-10T08:11:50.272652Z"
    }
   },
   "outputs": [],
   "source": [
    "from sklearn.ensemble import RandomForestRegressor\n",
    "from sklearn.metrics import mean_squared_error, mean_squared_log_error, r2_score\n",
    "from sklearn.model_selection import train_test_split\n",
    "\n",
    "# RMSLE 정의\n",
    "def rmsle(origin, pred):\n",
    "    return np.sqrt(mean_squared_log_error(origin, pred))\n",
    "\n",
    "# X, y를 split\n",
    "X_train, X_test, y_train, y_test = train_test_split(\n",
    "    X, y, test_size=0.3, random_state=1)"
   ]
  },
  {
   "cell_type": "markdown",
   "metadata": {},
   "source": [
    "### Train\n",
    "- 우리가 가진 데이터셋 내에서 훈련 -> 예측 -> 검증을 해보면서 모델의 성능을 평가/향상시키려고 함\n",
    "- 그래서 가격을 알고 있는 데이터(여기선 X,y)를 7:3 비율로 train : test로 쪼개서 우리가 돌리는 모델을 검증해보려고 함\n",
    "- 근데 아직은 K-Fold Validation이라던가 유의미한 방법은 적용 안해봄.  \n",
    "\n",
    "그래서 아직은\n",
    "- 큰 의미가 있는 과정이라기보다는, RandomForestRegressor가 잘 돌아가는구나~\n",
    "- 우리가 가진 데이터 내에서 검증해봤을때 RMSLE 가 0.012면 꽤 잘 나오는구나~\n",
    "- feature importance 관찰용\n",
    "- 정도로 생각하시면 될 듯 (이제 여러가지 시도해봐야죠 ㅎㅎ)"
   ]
  },
  {
   "cell_type": "code",
   "execution_count": null,
   "metadata": {
    "ExecuteTime": {
     "end_time": "2021-09-10T08:11:56.299126Z",
     "start_time": "2021-09-10T08:11:51.627363Z"
    }
   },
   "outputs": [],
   "source": [
    "forest_train = RandomForestRegressor(n_estimators=1000, \n",
    "                              criterion='mse',\n",
    "                              random_state=1,\n",
    "                              n_jobs=-1)\n",
    "forest_train.fit(X_train, y_train)\n",
    "y_train_pred = forest_train.predict(X_train)\n",
    "y_test_pred = forest_train.predict(X_test)\n",
    "\n",
    "print('훈련 MSE: %.3f, 테스트 MSE: %.3f' % (\n",
    "        mean_squared_error(y_train, y_train_pred),\n",
    "        mean_squared_error(y_test, y_test_pred)))\n",
    "print('훈련 R^2: %.3f, 테스트 R^2: %.3f' % (\n",
    "        r2_score(y_train, y_train_pred),\n",
    "        r2_score(y_test, y_test_pred)))\n",
    "print('훈련 RMSLE: %.3f, 테스트 RMSLE: %.3f' % (\n",
    "        rmsle(y_train, y_train_pred),\n",
    "        rmsle(y_test, y_test_pred)))"
   ]
  },
  {
   "cell_type": "markdown",
   "metadata": {},
   "source": [
    "importance가 낮은 feature drop"
   ]
  },
  {
   "cell_type": "code",
   "execution_count": null,
   "metadata": {
    "ExecuteTime": {
     "end_time": "2021-09-10T08:11:56.523034Z",
     "start_time": "2021-09-10T08:11:56.306103Z"
    }
   },
   "outputs": [],
   "source": [
    "importance = forest_train.feature_importances_"
   ]
  },
  {
   "cell_type": "code",
   "execution_count": null,
   "metadata": {
    "ExecuteTime": {
     "end_time": "2021-09-10T08:11:56.541982Z",
     "start_time": "2021-09-10T08:11:56.530014Z"
    }
   },
   "outputs": [],
   "source": [
    "del_list = []\n",
    "for i in range(len(test.columns.tolist())):\n",
    "    if importance[i] < 0.0001:\n",
    "        del_list.append(test.columns.tolist()[i])\n",
    "len(del_list)"
   ]
  },
  {
   "cell_type": "code",
   "execution_count": null,
   "metadata": {
    "ExecuteTime": {
     "end_time": "2021-09-10T08:11:56.562928Z",
     "start_time": "2021-09-10T08:11:56.546978Z"
    }
   },
   "outputs": [],
   "source": [
    "X = X.drop(columns=del_list,axis=1)\n",
    "test = test.drop(columns=del_list,axis=1)"
   ]
  },
  {
   "cell_type": "code",
   "execution_count": null,
   "metadata": {
    "ExecuteTime": {
     "end_time": "2021-09-10T08:12:02.752191Z",
     "start_time": "2021-09-10T08:11:56.565918Z"
    }
   },
   "outputs": [],
   "source": [
    "forest = RandomForestRegressor(n_estimators=1000, \n",
    "                              criterion='mse',\n",
    "                              random_state=1,\n",
    "                              n_jobs=-1)\n",
    "forest.fit(X, y)\n",
    "pred = forest.predict(test)\n",
    "pred = np.expm1(pred)"
   ]
  },
  {
   "cell_type": "code",
   "execution_count": null,
   "metadata": {
    "ExecuteTime": {
     "end_time": "2021-09-10T08:12:02.774134Z",
     "start_time": "2021-09-10T08:12:02.764160Z"
    }
   },
   "outputs": [],
   "source": [
    "pred"
   ]
  },
  {
   "cell_type": "markdown",
   "metadata": {},
   "source": [
    "- 저장"
   ]
  },
  {
   "cell_type": "code",
   "execution_count": null,
   "metadata": {
    "ExecuteTime": {
     "end_time": "2021-09-10T08:12:02.787107Z",
     "start_time": "2021-09-10T08:12:02.779122Z"
    }
   },
   "outputs": [],
   "source": [
    "# sub=pd.read_csv('data/sample_submission.csv')\n",
    "# sub['SalePrice']=pred\n",
    "# sub.to_csv('submission/sub_1_0910.csv',index=False)"
   ]
  },
  {
   "cell_type": "markdown",
   "metadata": {},
   "source": [
    "# XGBoost\n",
    "- 이건 아직 복붙해서 돌려본거라...\n",
    "- 대충 돌려봤는데도 RandomForest보다 훨씬 잘 나옴\n",
    "- 더 잘 해보고 수정하겠음..."
   ]
  },
  {
   "cell_type": "code",
   "execution_count": null,
   "metadata": {
    "ExecuteTime": {
     "end_time": "2021-09-10T08:12:02.799066Z",
     "start_time": "2021-09-10T08:12:02.795077Z"
    }
   },
   "outputs": [],
   "source": [
    "# from sklearn.linear_model import ElasticNet, Lasso,  BayesianRidge, LassoLarsIC\n",
    "# from sklearn.ensemble import RandomForestRegressor,  GradientBoostingRegressor\n",
    "# from sklearn.kernel_ridge import KernelRidge\n",
    "# from sklearn.pipeline import make_pipeline\n",
    "# from sklearn.preprocessing import RobustScaler\n",
    "# from sklearn.base import BaseEstimator, TransformerMixin, RegressorMixin, clone\n",
    "# from sklearn.model_selection import KFold, cross_val_score, train_test_split\n",
    "# from sklearn.metrics import mean_squared_error\n",
    "# from xgboost import XGBRegressor\n",
    "# import xgboost as xgb\n",
    "# import lightgbm as lgb\n",
    "# from sklearn.svm import SVR\n",
    "# from sklearn.ensemble import RandomForestRegressor\n",
    "# from sklearn.datasets import make_regression\n",
    "# from sklearn.model_selection import GridSearchCV"
   ]
  },
  {
   "cell_type": "code",
   "execution_count": null,
   "metadata": {
    "ExecuteTime": {
     "end_time": "2021-09-10T08:12:02.811044Z",
     "start_time": "2021-09-10T08:12:02.802059Z"
    }
   },
   "outputs": [],
   "source": [
    "# #Validation function\n",
    "# n_folds = 10\n",
    "\n",
    "# def rmsle_cv(model):\n",
    "#     kf = KFold(n_folds, shuffle=True, random_state=42).get_n_splits(train.values)\n",
    "#     rmse= np.sqrt(-cross_val_score(model, train.values, y_train, scoring=\"neg_mean_squared_error\", cv = kf))\n",
    "#     return(rmse)"
   ]
  },
  {
   "cell_type": "code",
   "execution_count": null,
   "metadata": {
    "ExecuteTime": {
     "end_time": "2021-09-10T08:12:02.822011Z",
     "start_time": "2021-09-10T08:12:02.816022Z"
    }
   },
   "outputs": [],
   "source": [
    "# model_xgb = xgb.XGBRegressor(colsample_bytree=0.4603, gamma=0.0468, \n",
    "#                              learning_rate=0.05, max_depth=3, \n",
    "#                              min_child_weight=1.7817, n_estimators=2200,\n",
    "#                              reg_alpha=0.4640, reg_lambda=0.8571,\n",
    "#                              subsample=0.5213, silent=1,\n",
    "#                              random_state =7, nthread = -1)"
   ]
  },
  {
   "cell_type": "code",
   "execution_count": null,
   "metadata": {
    "ExecuteTime": {
     "end_time": "2021-09-10T08:12:02.835969Z",
     "start_time": "2021-09-10T08:12:02.830982Z"
    }
   },
   "outputs": [],
   "source": [
    "# model_xgb.fit(X_train, y_train)\n",
    "# xgb_train_pred = model_xgb.predict(X_train)\n",
    "# xgb_pred = np.expm1(model_xgb.predict(X_test))\n",
    "# print(rmsle(y_train, xgb_train_pred))\n",
    "# print(rmsle(y_test, xgb_pred))"
   ]
  },
  {
   "cell_type": "code",
   "execution_count": null,
   "metadata": {
    "ExecuteTime": {
     "end_time": "2021-09-10T08:12:02.848946Z",
     "start_time": "2021-09-10T08:12:02.841953Z"
    }
   },
   "outputs": [],
   "source": [
    "# model_xgb.fit(X, y)\n",
    "# pred_xgb = model_xgb.predict(test)"
   ]
  },
  {
   "cell_type": "code",
   "execution_count": null,
   "metadata": {
    "ExecuteTime": {
     "end_time": "2021-09-10T08:12:02.858906Z",
     "start_time": "2021-09-10T08:12:02.853922Z"
    }
   },
   "outputs": [],
   "source": [
    "# pred_log_xgb = np.expm1(pred_xgb)"
   ]
  },
  {
   "cell_type": "code",
   "execution_count": null,
   "metadata": {
    "ExecuteTime": {
     "end_time": "2021-09-10T08:12:02.870877Z",
     "start_time": "2021-09-10T08:12:02.863894Z"
    }
   },
   "outputs": [],
   "source": [
    "# sub=pd.read_csv('data/sample_submission.csv')\n",
    "# sub['SalePrice']=pred_log_xgb\n",
    "# sub.to_csv('sub_0910_xgb.csv',index=False)"
   ]
  },
  {
   "cell_type": "markdown",
   "metadata": {},
   "source": [
    "# 앙상블"
   ]
  },
  {
   "cell_type": "code",
   "execution_count": null,
   "metadata": {},
   "outputs": [],
   "source": []
  }
 ],
 "metadata": {
  "kernelspec": {
   "display_name": "Python 3",
   "language": "python",
   "name": "python3"
  },
  "language_info": {
   "codemirror_mode": {
    "name": "ipython",
    "version": 3
   },
   "file_extension": ".py",
   "mimetype": "text/x-python",
   "name": "python",
   "nbconvert_exporter": "python",
   "pygments_lexer": "ipython3",
   "version": "3.8.8"
  },
  "latex_envs": {
   "LaTeX_envs_menu_present": true,
   "autoclose": false,
   "autocomplete": true,
   "bibliofile": "biblio.bib",
   "cite_by": "apalike",
   "current_citInitial": 1,
   "eqLabelWithNumbers": true,
   "eqNumInitial": 1,
   "hotkeys": {
    "equation": "Ctrl-E",
    "itemize": "Ctrl-I"
   },
   "labels_anchors": false,
   "latex_user_defs": false,
   "report_style_numbering": false,
   "user_envs_cfg": false
  },
  "toc": {
   "base_numbering": 1,
   "nav_menu": {},
   "number_sections": true,
   "sideBar": true,
   "skip_h1_title": false,
   "title_cell": "Table of Contents",
   "title_sidebar": "Contents",
   "toc_cell": false,
   "toc_position": {},
   "toc_section_display": true,
   "toc_window_display": false
  },
  "varInspector": {
   "cols": {
    "lenName": 16,
    "lenType": 16,
    "lenVar": 40
   },
   "kernels_config": {
    "python": {
     "delete_cmd_postfix": "",
     "delete_cmd_prefix": "del ",
     "library": "var_list.py",
     "varRefreshCmd": "print(var_dic_list())"
    },
    "r": {
     "delete_cmd_postfix": ") ",
     "delete_cmd_prefix": "rm(",
     "library": "var_list.r",
     "varRefreshCmd": "cat(var_dic_list()) "
    }
   },
   "types_to_exclude": [
    "module",
    "function",
    "builtin_function_or_method",
    "instance",
    "_Feature"
   ],
   "window_display": false
  }
 },
 "nbformat": 4,
 "nbformat_minor": 2
}
