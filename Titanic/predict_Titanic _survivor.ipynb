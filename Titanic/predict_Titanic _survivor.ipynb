{
 "cells": [
  {
   "cell_type": "code",
   "execution_count": null,
   "id": "42de1213",
   "metadata": {},
   "outputs": [],
   "source": [
    "import pandas as pd\n",
    "import sklearn\n",
    "from sklearn.tree import DecisionTreeClassifier\n",
    "from sklearn.tree import DecisionTreeRegressor\n",
    "train=pd.read_csv('./train.csv')\n",
    "test=pd.read_csv('./test.csv')"
   ]
  },
  {
   "cell_type": "code",
   "execution_count": null,
   "id": "2283a32b",
   "metadata": {
    "scrolled": true
   },
   "outputs": [],
   "source": [
    "train.shape"
   ]
  },
  {
   "cell_type": "code",
   "execution_count": null,
   "id": "b204d204",
   "metadata": {},
   "outputs": [],
   "source": [
    "train.head(10)"
   ]
  },
  {
   "cell_type": "code",
   "execution_count": null,
   "id": "c3021436",
   "metadata": {},
   "outputs": [],
   "source": [
    "train.info()"
   ]
  },
  {
   "cell_type": "code",
   "execution_count": null,
   "id": "52d77983",
   "metadata": {
    "scrolled": false
   },
   "outputs": [],
   "source": [
    "train.isnull().sum()"
   ]
  },
  {
   "cell_type": "markdown",
   "id": "f75bc598",
   "metadata": {},
   "source": [
    "# 첫번째 제출"
   ]
  },
  {
   "cell_type": "code",
   "execution_count": null,
   "id": "6a419b9f",
   "metadata": {},
   "outputs": [],
   "source": [
    "train['Age'].fillna(int(train['Age'].mean()), inplace=True)"
   ]
  },
  {
   "cell_type": "code",
   "execution_count": null,
   "id": "6fe30627",
   "metadata": {
    "scrolled": true
   },
   "outputs": [],
   "source": [
    "train.isnull().sum()"
   ]
  },
  {
   "cell_type": "code",
   "execution_count": null,
   "id": "6713a4d2",
   "metadata": {},
   "outputs": [],
   "source": [
    "train['Age'].head(20)"
   ]
  },
  {
   "cell_type": "code",
   "execution_count": null,
   "id": "c13d4b90",
   "metadata": {},
   "outputs": [],
   "source": [
    "train.info()"
   ]
  },
  {
   "cell_type": "code",
   "execution_count": null,
   "id": "b6cd6d07",
   "metadata": {},
   "outputs": [],
   "source": [
    "train['Sex']=train['Sex'].replace('male', 0)"
   ]
  },
  {
   "cell_type": "code",
   "execution_count": null,
   "id": "b01d08c6",
   "metadata": {},
   "outputs": [],
   "source": [
    "train['Sex']=train['Sex'].replace('female', 1)"
   ]
  },
  {
   "cell_type": "code",
   "execution_count": null,
   "id": "ee6fac5b",
   "metadata": {
    "scrolled": true
   },
   "outputs": [],
   "source": [
    "train['Sex'].head(10)"
   ]
  },
  {
   "cell_type": "code",
   "execution_count": null,
   "id": "b43b86e3",
   "metadata": {
    "scrolled": true
   },
   "outputs": [],
   "source": [
    "train['Embarked']=train['Embarked'].replace('Q',0)\n",
    "train['Embarked']=train['Embarked'].replace('C',1)\n",
    "train['Embarked']=train['Embarked'].replace('S',2)\n",
    "train['Embarked']"
   ]
  },
  {
   "cell_type": "code",
   "execution_count": null,
   "id": "d4f37b35",
   "metadata": {},
   "outputs": [],
   "source": [
    "train['Embarked']=train['Embarked'].fillna(1)"
   ]
  },
  {
   "cell_type": "code",
   "execution_count": null,
   "id": "ee0ec9ba",
   "metadata": {},
   "outputs": [],
   "source": [
    "train['Cabin'].head(70)"
   ]
  },
  {
   "cell_type": "code",
   "execution_count": null,
   "id": "277fc670",
   "metadata": {},
   "outputs": [],
   "source": [
    "X_train=train.drop(['PassengerId','Survived','Name','Ticket','Cabin'], axis=1)\n",
    "Y_train=train['Survived']"
   ]
  },
  {
   "cell_type": "code",
   "execution_count": null,
   "id": "96179fc3",
   "metadata": {},
   "outputs": [],
   "source": [
    "model=DecisionTreeRegressor()\n",
    "model.fit(X_train, Y_train)"
   ]
  },
  {
   "cell_type": "code",
   "execution_count": null,
   "id": "60988688",
   "metadata": {},
   "outputs": [],
   "source": [
    "test['Sex']=test['Sex'].replace('male', 0)\n",
    "test['Sex']=test['Sex'].replace('female', 1)\n",
    "test['Sex']"
   ]
  },
  {
   "cell_type": "code",
   "execution_count": null,
   "id": "b7d79222",
   "metadata": {},
   "outputs": [],
   "source": [
    "test['Embarked']=test['Embarked'].replace('Q',0)\n",
    "test['Embarked']=test['Embarked'].replace('C',1)\n",
    "test['Embarked']=test['Embarked'].replace('S',2)\n",
    "test['Embarked']"
   ]
  },
  {
   "cell_type": "code",
   "execution_count": null,
   "id": "8b4649e5",
   "metadata": {},
   "outputs": [],
   "source": [
    "test['Embarked']=test['Embarked'].fillna(1)"
   ]
  },
  {
   "cell_type": "code",
   "execution_count": null,
   "id": "d2529554",
   "metadata": {},
   "outputs": [],
   "source": [
    "test['Age'].fillna(int(test['Age'].mean()), inplace=True)"
   ]
  },
  {
   "cell_type": "code",
   "execution_count": null,
   "id": "d0b46d32",
   "metadata": {},
   "outputs": [],
   "source": [
    "test['Fare'].fillna(int(test['Fare'].mean()), inplace=True)"
   ]
  },
  {
   "cell_type": "code",
   "execution_count": null,
   "id": "54a05396",
   "metadata": {},
   "outputs": [],
   "source": [
    "test_1=test.drop(['PassengerId','Name','Ticket','Cabin'], axis=1)"
   ]
  },
  {
   "cell_type": "code",
   "execution_count": null,
   "id": "960dddc5",
   "metadata": {},
   "outputs": [],
   "source": [
    "X_train.isnull().sum()"
   ]
  },
  {
   "cell_type": "code",
   "execution_count": null,
   "id": "dfff7613",
   "metadata": {},
   "outputs": [],
   "source": [
    "pred=model.predict(test_1)"
   ]
  },
  {
   "cell_type": "code",
   "execution_count": null,
   "id": "f09d1445",
   "metadata": {},
   "outputs": [],
   "source": [
    "test_1.isnull().sum()"
   ]
  },
  {
   "cell_type": "code",
   "execution_count": null,
   "id": "26e3465a",
   "metadata": {},
   "outputs": [],
   "source": [
    "sub=pd.read_csv('./submission.csv')"
   ]
  },
  {
   "cell_type": "code",
   "execution_count": null,
   "id": "4c9dc411",
   "metadata": {},
   "outputs": [],
   "source": [
    "sub['Survived']=pred"
   ]
  },
  {
   "cell_type": "code",
   "execution_count": null,
   "id": "8a8314b9",
   "metadata": {},
   "outputs": [],
   "source": [
    "sub.to_csv('sub.csv',index=False)"
   ]
  },
  {
   "cell_type": "markdown",
   "id": "032d98ac",
   "metadata": {},
   "source": [
    "# 두번째 제출"
   ]
  },
  {
   "cell_type": "code",
   "execution_count": null,
   "id": "89f009a9",
   "metadata": {},
   "outputs": [],
   "source": [
    "model.feature_importances_"
   ]
  },
  {
   "cell_type": "code",
   "execution_count": null,
   "id": "2c40793c",
   "metadata": {},
   "outputs": [],
   "source": [
    "X_train_2=X_train.drop(['Embarked'], axis=1)\n",
    "test_2=test_1.drop(['Embarked'], axis=1)"
   ]
  },
  {
   "cell_type": "code",
   "execution_count": null,
   "id": "74d641f7",
   "metadata": {},
   "outputs": [],
   "source": [
    "model=DecisionTreeRegressor()\n",
    "model.fit(X_train_2, Y_train)\n",
    "pred=model.predict(test_2)"
   ]
  },
  {
   "cell_type": "code",
   "execution_count": null,
   "id": "c4b945a6",
   "metadata": {},
   "outputs": [],
   "source": [
    "model.feature_importances_"
   ]
  },
  {
   "cell_type": "code",
   "execution_count": null,
   "id": "0ab4de0f",
   "metadata": {},
   "outputs": [],
   "source": [
    "sub=pd.read_csv('./submission.csv')\n",
    "sub['Survived']=pred\n",
    "sub.to_csv('sub_2.csv',index=False)"
   ]
  },
  {
   "cell_type": "markdown",
   "id": "665558b9",
   "metadata": {},
   "source": [
    "# 세번째 제출"
   ]
  },
  {
   "cell_type": "code",
   "execution_count": null,
   "id": "80d04d25",
   "metadata": {},
   "outputs": [],
   "source": [
    "X_train_3=X_train.drop(['Embarked','Parch'], axis=1)\n",
    "test_3=test_1.drop(['Embarked','Parch'], axis=1)"
   ]
  },
  {
   "cell_type": "code",
   "execution_count": null,
   "id": "fa4c9e01",
   "metadata": {},
   "outputs": [],
   "source": [
    "model=DecisionTreeRegressor()\n",
    "model.fit(X_train_3, Y_train)\n",
    "pred=model.predict(test_3)"
   ]
  },
  {
   "cell_type": "code",
   "execution_count": null,
   "id": "391ab9b4",
   "metadata": {},
   "outputs": [],
   "source": [
    "model.feature_importances_"
   ]
  },
  {
   "cell_type": "code",
   "execution_count": null,
   "id": "766fa744",
   "metadata": {},
   "outputs": [],
   "source": [
    "sub=pd.read_csv('./submission.csv')\n",
    "sub['Survived']=pred\n",
    "sub.to_csv('sub_3.csv',index=False)"
   ]
  },
  {
   "cell_type": "markdown",
   "id": "c687597b",
   "metadata": {},
   "source": [
    "# 네번째 제출"
   ]
  },
  {
   "cell_type": "code",
   "execution_count": null,
   "id": "f35ef0f3",
   "metadata": {},
   "outputs": [],
   "source": [
    "X_train_4=X_train.drop(['Embarked','Parch','SibSp'], axis=1)\n",
    "test_4=test_1.drop(['Embarked','Parch','SibSp'], axis=1)"
   ]
  },
  {
   "cell_type": "code",
   "execution_count": null,
   "id": "3659aa89",
   "metadata": {},
   "outputs": [],
   "source": [
    "model=DecisionTreeRegressor()\n",
    "model.fit(X_train_4, Y_train)\n",
    "pred=model.predict(test_4)"
   ]
  },
  {
   "cell_type": "code",
   "execution_count": null,
   "id": "a457d3be",
   "metadata": {},
   "outputs": [],
   "source": [
    "model.feature_importances_"
   ]
  },
  {
   "cell_type": "code",
   "execution_count": null,
   "id": "f22cd643",
   "metadata": {},
   "outputs": [],
   "source": [
    "sub=pd.read_csv('./submission.csv')\n",
    "sub['Survived']=pred\n",
    "sub.to_csv('sub_4.csv',index=False)"
   ]
  },
  {
   "cell_type": "markdown",
   "id": "7e7608d6",
   "metadata": {},
   "source": [
    "# 다섯번째 제출"
   ]
  },
  {
   "cell_type": "code",
   "execution_count": null,
   "id": "e98f2529",
   "metadata": {},
   "outputs": [],
   "source": [
    "from sklearn.ensemble import RandomForestRegressor"
   ]
  },
  {
   "cell_type": "code",
   "execution_count": null,
   "id": "d0e719ec",
   "metadata": {},
   "outputs": [],
   "source": [
    "model=RandomForestRegressor(criterion='mse')\n",
    "model.fit(X_train_4, Y_train)"
   ]
  },
  {
   "cell_type": "code",
   "execution_count": null,
   "id": "1d272f72",
   "metadata": {
    "scrolled": false
   },
   "outputs": [],
   "source": [
    "model.feature_importances_"
   ]
  },
  {
   "cell_type": "code",
   "execution_count": null,
   "id": "870c4253",
   "metadata": {},
   "outputs": [],
   "source": [
    "pred=model.predict(test_4)"
   ]
  },
  {
   "cell_type": "code",
   "execution_count": null,
   "id": "92cdbaa7",
   "metadata": {},
   "outputs": [],
   "source": [
    "sub=pd.read_csv('./submission.csv')\n",
    "sub['Survived']=pred\n",
    "sub.to_csv('sub_5.csv',index=False)"
   ]
  },
  {
   "cell_type": "markdown",
   "id": "223ab070",
   "metadata": {},
   "source": [
    "# 여섯번째 제출"
   ]
  },
  {
   "cell_type": "code",
   "execution_count": null,
   "id": "98f6b3f4",
   "metadata": {},
   "outputs": [],
   "source": [
    "import numpy as np\n",
    "import pandas as pd\n",
    "import sklearn\n",
    "from sklearn.tree import DecisionTreeClassifier\n",
    "from sklearn.tree import DecisionTreeRegressor\n",
    "train=pd.read_csv('./train.csv')\n",
    "test=pd.read_csv('./test.csv')"
   ]
  },
  {
   "cell_type": "code",
   "execution_count": null,
   "id": "6c07bc59",
   "metadata": {},
   "outputs": [],
   "source": [
    "train.isnull().sum()"
   ]
  },
  {
   "cell_type": "code",
   "execution_count": null,
   "id": "88325972",
   "metadata": {},
   "outputs": [],
   "source": [
    "train['Age'].fillna(int(train['Age'].mean()), inplace=True)"
   ]
  },
  {
   "cell_type": "code",
   "execution_count": null,
   "id": "1787fd2a",
   "metadata": {},
   "outputs": [],
   "source": [
    "male=[]\n",
    "for i in range(len(train)):\n",
    "    if train['Sex'][i]=='male':\n",
    "        male.append(1)\n",
    "    else:\n",
    "        male.append(0)"
   ]
  },
  {
   "cell_type": "code",
   "execution_count": null,
   "id": "9bcf264d",
   "metadata": {},
   "outputs": [],
   "source": [
    "train['male']=male"
   ]
  },
  {
   "cell_type": "code",
   "execution_count": null,
   "id": "90aed376",
   "metadata": {},
   "outputs": [],
   "source": [
    "female=[]\n",
    "for i in range(len(train)):\n",
    "    if train['Sex'][i]=='female':\n",
    "        female.append(1)\n",
    "    else:\n",
    "        female.append(0)\n",
    "train['female']=female"
   ]
  },
  {
   "cell_type": "code",
   "execution_count": null,
   "id": "d2d2cac5",
   "metadata": {},
   "outputs": [],
   "source": [
    "S=[]\n",
    "for i in range(len(train)):\n",
    "    if train['Embarked'][i]=='S':\n",
    "        S.append(1)\n",
    "    else:\n",
    "        S.append(0)\n",
    "train['S']=S\n",
    "Q=[]\n",
    "for i in range(len(train)):\n",
    "    if train['Embarked'][i]=='Q':\n",
    "        Q.append(1)\n",
    "    else:\n",
    "        Q.append(0)\n",
    "train['Q']=Q\n",
    "C=[]\n",
    "for i in range(len(train)):\n",
    "    if train['Embarked'][i]=='C':\n",
    "        C.append(1)\n",
    "    else:\n",
    "        C.append(0)\n",
    "train['C']=C"
   ]
  },
  {
   "cell_type": "code",
   "execution_count": null,
   "id": "4b8a07e7",
   "metadata": {},
   "outputs": [],
   "source": [
    "X_train_6=train.drop(['PassengerId','Survived','Name','Ticket','Cabin','Embarked','Sex'], axis=1)\n",
    "Y_train=train['Survived']"
   ]
  },
  {
   "cell_type": "code",
   "execution_count": null,
   "id": "61801633",
   "metadata": {},
   "outputs": [],
   "source": [
    "test['Age'].fillna(int(test['Age'].mean()), inplace=True)"
   ]
  },
  {
   "cell_type": "code",
   "execution_count": null,
   "id": "04367b52",
   "metadata": {},
   "outputs": [],
   "source": [
    "test['Fare'].fillna(int(test['Fare'].mean()), inplace=True)"
   ]
  },
  {
   "cell_type": "code",
   "execution_count": null,
   "id": "33eb46ee",
   "metadata": {},
   "outputs": [],
   "source": [
    "male=[]\n",
    "for i in range(len(test)):\n",
    "    if test['Sex'][i]=='male':\n",
    "        male.append(1)\n",
    "    else:\n",
    "        male.append(0)\n",
    "test['male']=male\n",
    "female=[]\n",
    "for i in range(len(test)):\n",
    "    if test['Sex'][i]=='female':\n",
    "        female.append(1)\n",
    "    else:\n",
    "        female.append(0)\n",
    "test['female']=female"
   ]
  },
  {
   "cell_type": "code",
   "execution_count": null,
   "id": "926414b1",
   "metadata": {},
   "outputs": [],
   "source": [
    "S=[]\n",
    "for i in range(len(test)):\n",
    "    if test['Embarked'][i]=='S':\n",
    "        S.append(1)\n",
    "    else:\n",
    "        S.append(0)\n",
    "test['S']=S\n",
    "Q=[]\n",
    "for i in range(len(test)):\n",
    "    if test['Embarked'][i]=='Q':\n",
    "        Q.append(1)\n",
    "    else:\n",
    "        Q.append(0)\n",
    "test['Q']=Q\n",
    "C=[]\n",
    "for i in range(len(test)):\n",
    "    if test['Embarked'][i]=='C':\n",
    "        C.append(1)\n",
    "    else:\n",
    "        C.append(0)\n",
    "test['C']=C"
   ]
  },
  {
   "cell_type": "code",
   "execution_count": null,
   "id": "9682cb28",
   "metadata": {},
   "outputs": [],
   "source": [
    "test_6=test.drop(['PassengerId','Name','Ticket','Cabin','Embarked','Sex'], axis=1)"
   ]
  },
  {
   "cell_type": "code",
   "execution_count": null,
   "id": "36091521",
   "metadata": {},
   "outputs": [],
   "source": [
    "from sklearn.ensemble import RandomForestRegressor\n",
    "model=RandomForestRegressor(criterion='mse')\n",
    "model.fit(X_train_6, Y_train)"
   ]
  },
  {
   "cell_type": "code",
   "execution_count": null,
   "id": "0977ab72",
   "metadata": {},
   "outputs": [],
   "source": [
    "model.feature_importances_"
   ]
  },
  {
   "cell_type": "code",
   "execution_count": null,
   "id": "4a4b99d0",
   "metadata": {},
   "outputs": [],
   "source": [
    "pred=model.predict(test_6)"
   ]
  },
  {
   "cell_type": "code",
   "execution_count": null,
   "id": "d6dd4781",
   "metadata": {},
   "outputs": [],
   "source": [
    "sub=pd.read_csv('./submission.csv')\n",
    "sub['Survived']=pred\n",
    "sub.to_csv('sub_6.csv',index=False)"
   ]
  },
  {
   "cell_type": "code",
   "execution_count": null,
   "id": "36c596ec",
   "metadata": {},
   "outputs": [],
   "source": [
    "X_train_6.info()"
   ]
  },
  {
   "cell_type": "markdown",
   "id": "16e2d183",
   "metadata": {},
   "source": [
    "# 일곱번째 제출"
   ]
  },
  {
   "cell_type": "code",
   "execution_count": null,
   "id": "7f88ce3c",
   "metadata": {},
   "outputs": [],
   "source": [
    "X_train_7=X_train_6.drop(['S','Q','C'], axis=1)\n",
    "test_7=test_6.drop(['S','Q','C'], axis=1)"
   ]
  },
  {
   "cell_type": "code",
   "execution_count": null,
   "id": "1a052728",
   "metadata": {},
   "outputs": [],
   "source": [
    "from sklearn.ensemble import RandomForestRegressor\n",
    "model=RandomForestRegressor(criterion='mse')\n",
    "model.fit(X_train_7, Y_train)"
   ]
  },
  {
   "cell_type": "code",
   "execution_count": null,
   "id": "7a35ae77",
   "metadata": {},
   "outputs": [],
   "source": [
    "model.feature_importances_"
   ]
  },
  {
   "cell_type": "code",
   "execution_count": null,
   "id": "223b1e70",
   "metadata": {},
   "outputs": [],
   "source": [
    "X_train_7.info()"
   ]
  },
  {
   "cell_type": "code",
   "execution_count": null,
   "id": "de4ad4fd",
   "metadata": {},
   "outputs": [],
   "source": [
    "pred=model.predict(test_7)"
   ]
  },
  {
   "cell_type": "code",
   "execution_count": null,
   "id": "0f6547a8",
   "metadata": {},
   "outputs": [],
   "source": [
    "sub=pd.read_csv('./submission.csv')\n",
    "sub['Survived']=pred\n",
    "sub.to_csv('sub_7.csv',index=False)"
   ]
  },
  {
   "cell_type": "markdown",
   "id": "7c985b41",
   "metadata": {},
   "source": [
    "# 여덟번째 제출"
   ]
  },
  {
   "cell_type": "code",
   "execution_count": null,
   "id": "189663d1",
   "metadata": {},
   "outputs": [],
   "source": [
    "X_train_8=X_train_6.drop(['S','Q','C','SibSp','Parch'], axis=1)\n",
    "test_8=test_6.drop(['S','Q','C','SibSp','Parch'], axis=1)"
   ]
  },
  {
   "cell_type": "code",
   "execution_count": null,
   "id": "279d1c3d",
   "metadata": {},
   "outputs": [],
   "source": [
    "from sklearn.ensemble import RandomForestRegressor\n",
    "model=RandomForestRegressor(criterion='mse')\n",
    "model.fit(X_train_8, Y_train)\n",
    "pred=model.predict(test_8)"
   ]
  },
  {
   "cell_type": "code",
   "execution_count": null,
   "id": "fdcb0731",
   "metadata": {},
   "outputs": [],
   "source": [
    "sub=pd.read_csv('./submission.csv')\n",
    "sub['Survived']=pred\n",
    "sub.to_csv('sub_8.csv',index=False)"
   ]
  },
  {
   "cell_type": "markdown",
   "id": "ee3be423",
   "metadata": {},
   "source": [
    "# 아홉번째 제출"
   ]
  },
  {
   "cell_type": "code",
   "execution_count": null,
   "id": "8ba4bbdc",
   "metadata": {
    "scrolled": true
   },
   "outputs": [],
   "source": [
    "X_train_6['Pclass'] = X_train_6['Pclass'].astype('category')\n",
    "X_train_9=X_train_6\n",
    "X_train_9['1']=pd.get_dummies(X_train_6['Pclass'])[1]\n",
    "X_train_9['2']=pd.get_dummies(X_train_6['Pclass'])[2]\n",
    "X_train_9['3']=pd.get_dummies(X_train_6['Pclass'])[3]"
   ]
  },
  {
   "cell_type": "code",
   "execution_count": null,
   "id": "33b0fbef",
   "metadata": {},
   "outputs": [],
   "source": [
    "X_train_9"
   ]
  },
  {
   "cell_type": "code",
   "execution_count": null,
   "id": "6d80832d",
   "metadata": {},
   "outputs": [],
   "source": [
    "test_6['Pclass'] = test_6['Pclass'].astype('category')\n",
    "test_9=test_6\n",
    "test_9['1']=pd.get_dummies(test_6['Pclass'])[1]\n",
    "test_9['2']=pd.get_dummies(test_6['Pclass'])[2]\n",
    "test_9['3']=pd.get_dummies(test_6['Pclass'])[3]"
   ]
  },
  {
   "cell_type": "code",
   "execution_count": null,
   "id": "3114640d",
   "metadata": {},
   "outputs": [],
   "source": [
    "X_train_9.drop(['Pclass'], axis=1, inplace=True)\n",
    "test_9.drop(['Pclass'], axis=1, inplace=True)"
   ]
  },
  {
   "cell_type": "code",
   "execution_count": null,
   "id": "98c076c2",
   "metadata": {},
   "outputs": [],
   "source": [
    "model=RandomForestRegressor(criterion='mse')\n",
    "model.fit(X_train_9, Y_train)"
   ]
  },
  {
   "cell_type": "code",
   "execution_count": null,
   "id": "a205bc09",
   "metadata": {},
   "outputs": [],
   "source": [
    "pred=model.predict(test_9)"
   ]
  },
  {
   "cell_type": "code",
   "execution_count": null,
   "id": "963a1dd7",
   "metadata": {},
   "outputs": [],
   "source": [
    "sub=pd.read_csv('./submission.csv')\n",
    "sub['Survived']=pred\n",
    "sub.to_csv('sub_9.csv',index=False)"
   ]
  },
  {
   "cell_type": "markdown",
   "id": "81393fae",
   "metadata": {},
   "source": [
    "# 열번째 제출"
   ]
  },
  {
   "cell_type": "code",
   "execution_count": null,
   "id": "e41612fb",
   "metadata": {},
   "outputs": [],
   "source": [
    "X_train_10=X_train_6.drop(['SibSp','Parch'], axis=1)\n",
    "test_10=test_6.drop(['SibSp','Parch'], axis=1)"
   ]
  },
  {
   "cell_type": "code",
   "execution_count": null,
   "id": "ca6c8219",
   "metadata": {},
   "outputs": [],
   "source": [
    "from sklearn.ensemble import RandomForestRegressor\n",
    "model=RandomForestRegressor(criterion='mse')\n",
    "model.fit(X_train_10, Y_train)\n",
    "pred=model.predict(test_10)"
   ]
  },
  {
   "cell_type": "code",
   "execution_count": null,
   "id": "ffe719dd",
   "metadata": {},
   "outputs": [],
   "source": [
    "sub=pd.read_csv('./submission.csv')\n",
    "sub['Survived']=pred\n",
    "sub.to_csv('sub_10.csv',index=False)"
   ]
  }
 ],
 "metadata": {
  "kernelspec": {
   "display_name": "Python 3",
   "language": "python",
   "name": "python3"
  },
  "language_info": {
   "codemirror_mode": {
    "name": "ipython",
    "version": 3
   },
   "file_extension": ".py",
   "mimetype": "text/x-python",
   "name": "python",
   "nbconvert_exporter": "python",
   "pygments_lexer": "ipython3",
   "version": "3.8.8"
  },
  "toc": {
   "base_numbering": 1,
   "nav_menu": {},
   "number_sections": true,
   "sideBar": true,
   "skip_h1_title": false,
   "title_cell": "Table of Contents",
   "title_sidebar": "Contents",
   "toc_cell": false,
   "toc_position": {},
   "toc_section_display": true,
   "toc_window_display": false
  }
 },
 "nbformat": 4,
 "nbformat_minor": 5
}
