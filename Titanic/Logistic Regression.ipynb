{
 "cells": [
  {
   "cell_type": "code",
   "execution_count": null,
   "id": "1de51f66",
   "metadata": {},
   "outputs": [],
   "source": [
    "import pandas as pd\n",
    "train=pd.read_csv('./data/preprocessed/train1006.csv')\n",
    "test=pd.read_csv('./data/preprocessed/test1006.csv')"
   ]
  },
  {
   "cell_type": "code",
   "execution_count": null,
   "id": "75c04d8b",
   "metadata": {},
   "outputs": [],
   "source": [
    "X=train.drop(columns=['Survived'])\n",
    "y=train['Survived']"
   ]
  },
  {
   "cell_type": "markdown",
   "id": "0dc1c4a6",
   "metadata": {},
   "source": [
    "# modeling"
   ]
  },
  {
   "cell_type": "code",
   "execution_count": null,
   "id": "2611bf4c",
   "metadata": {},
   "outputs": [],
   "source": [
    "from sklearn.model_selection import train_test_split\n",
    "\n",
    "X_train, X_test, y_train, y_test = train_test_split(X,y,\n",
    "                                                    test_size = 0.3,\n",
    "                                                    stratify = y,\n",
    "                                                    random_state = 2045)\n",
    "\n",
    "print('Train Data : ', X_train.shape, y_train.shape)\n",
    "print('Test Data : ', X_test.shape, y_test.shape)"
   ]
  },
  {
   "cell_type": "code",
   "execution_count": null,
   "id": "b2327e7e",
   "metadata": {},
   "outputs": [],
   "source": [
    "from sklearn.linear_model import LogisticRegression\n",
    "\n",
    "LR1 = LogisticRegression(C = 0.3,\n",
    "                        penalty = 'l2',\n",
    "                        multi_class = 'multinomial',\n",
    "                        n_jobs = -1)\n",
    "\n",
    "LR1.fit(X_train, y_train)"
   ]
  },
  {
   "cell_type": "code",
   "execution_count": null,
   "id": "3c8849e8",
   "metadata": {
    "scrolled": false
   },
   "outputs": [],
   "source": [
    "from sklearn.metrics import accuracy_score, confusion_matrix, roc_auc_score\n",
    "\n",
    "print(accuracy_score(y_test, LR1.predict(X_test)), '\\n')\n",
    "print(confusion_matrix(y_test, LR1.predict(X_test)), '\\n')\n",
    "print(roc_auc_score(y_test, LR1.predict(X_test)))"
   ]
  },
  {
   "cell_type": "code",
   "execution_count": null,
   "id": "05e4f7fd",
   "metadata": {},
   "outputs": [],
   "source": [
    "LR2 = LogisticRegression(C = 0.3,\n",
    "                        penalty = 'l2',\n",
    "                        multi_class = 'multinomial',\n",
    "                        n_jobs = -1)\n",
    "\n",
    "LR2.fit(X, y)"
   ]
  },
  {
   "cell_type": "code",
   "execution_count": null,
   "id": "82bfc0fa",
   "metadata": {},
   "outputs": [],
   "source": [
    "pred=LR2.predict(test)\n",
    "sub=pd.read_csv('./submissions/submission.csv')\n",
    "sub['Survived']=pred\n",
    "sub.to_csv('./submissions/LR_1.csv',index=False)"
   ]
  },
  {
   "cell_type": "markdown",
   "id": "fbaeb347",
   "metadata": {},
   "source": [
    "# tuning"
   ]
  },
  {
   "cell_type": "code",
   "execution_count": null,
   "id": "90e43faf",
   "metadata": {},
   "outputs": [],
   "source": [
    "import pandas as pd\n",
    "import numpy as np\n",
    "\n",
    "from sklearn.model_selection import GridSearchCV\n",
    "from sklearn.model_selection import KFold, train_test_split"
   ]
  },
  {
   "cell_type": "code",
   "execution_count": null,
   "id": "95a22e72",
   "metadata": {},
   "outputs": [],
   "source": [
    "params={'C': [0.01, 0.03, 0.05, 0.1, 0.15 , 0.2, 0.3, 0.4, 0.5, 0.6, 0.7, 1,3,5,10]}"
   ]
  },
  {
   "cell_type": "code",
   "execution_count": null,
   "id": "efe3d393",
   "metadata": {},
   "outputs": [],
   "source": [
    "import sklearn\n",
    "sklearn.metrics.SCORERS.keys()"
   ]
  },
  {
   "cell_type": "code",
   "execution_count": null,
   "id": "5af85f0f",
   "metadata": {},
   "outputs": [],
   "source": [
    "Model_LR=LogisticRegression()\n",
    "\n",
    "gcv_LR=GridSearchCV(Model_LR,\n",
    "                    param_grid=params,\n",
    "                    scoring='roc_auc',\n",
    "                    cv=KFold(n_splits=5,\n",
    "                             shuffle=True,\n",
    "                             random_state=2045),\n",
    "                   refit=True)"
   ]
  },
  {
   "cell_type": "code",
   "execution_count": null,
   "id": "23ec317b",
   "metadata": {},
   "outputs": [],
   "source": [
    "X=train.drop(columns=['Survived'])\n",
    "y=train['Survived']\n",
    "gcv_LR.fit(X,y)"
   ]
  },
  {
   "cell_type": "code",
   "execution_count": null,
   "id": "4d15ea53",
   "metadata": {},
   "outputs": [],
   "source": [
    "gcv_LR.best_params_"
   ]
  },
  {
   "cell_type": "code",
   "execution_count": null,
   "id": "85dbb7fd",
   "metadata": {},
   "outputs": [],
   "source": [
    "gcv_LR.best_score_"
   ]
  },
  {
   "cell_type": "code",
   "execution_count": null,
   "id": "d24510a4",
   "metadata": {},
   "outputs": [],
   "source": [
    "pred=gcv_LR.predict(test)\n",
    "sub=pd.read_csv('./submissions/submission.csv')\n",
    "sub['Survived']=pred\n",
    "sub.to_csv('./submissions/GCV_LR_1.csv',index=False)"
   ]
  },
  {
   "cell_type": "markdown",
   "id": "b252e3dd",
   "metadata": {},
   "source": [
    "# VC"
   ]
  },
  {
   "cell_type": "code",
   "execution_count": null,
   "id": "3035d2e2",
   "metadata": {},
   "outputs": [],
   "source": [
    "import pandas as pd\n",
    "train=pd.read_csv('./data/preprocessed/train1006.csv')\n",
    "test=pd.read_csv('./data/preprocessed/test1006.csv')"
   ]
  },
  {
   "cell_type": "code",
   "execution_count": null,
   "id": "b7c4b9ef",
   "metadata": {},
   "outputs": [],
   "source": [
    "X=train.drop(columns=['Survived'])\n",
    "y=train['Survived']"
   ]
  },
  {
   "cell_type": "code",
   "execution_count": null,
   "id": "8ed81eaf",
   "metadata": {},
   "outputs": [],
   "source": [
    "from sklearn.ensemble import VotingClassifier\n",
    "from sklearn.ensemble import RandomForestClassifier\n",
    "from sklearn.linear_model import LogisticRegression\n",
    "from xgboost import XGBClassifier"
   ]
  },
  {
   "cell_type": "markdown",
   "id": "8ac16eee",
   "metadata": {},
   "source": [
    "## RF & LR"
   ]
  },
  {
   "cell_type": "code",
   "execution_count": null,
   "id": "e896722e",
   "metadata": {},
   "outputs": [],
   "source": [
    "RF=RandomForestClassifier()\n",
    "LR = LogisticRegression(C = 3,\n",
    "                        penalty = 'l2',\n",
    "                        multi_class = 'multinomial',\n",
    "                        n_jobs = -1)\n",
    "\n",
    "VC1=VotingClassifier(estimators=[('rf',RF),('lr',LR)],voting='soft')"
   ]
  },
  {
   "cell_type": "code",
   "execution_count": null,
   "id": "281dadb8",
   "metadata": {},
   "outputs": [],
   "source": [
    "VC1.fit(X,y)"
   ]
  },
  {
   "cell_type": "code",
   "execution_count": null,
   "id": "964d093f",
   "metadata": {},
   "outputs": [],
   "source": [
    "pred=VC1.predict(test)\n",
    "sub=pd.read_csv('./submissions/submission.csv')\n",
    "sub['Survived']=pred\n",
    "sub.to_csv('./submissions/VC_by_RF_and_LR.csv',index=False)"
   ]
  },
  {
   "cell_type": "code",
   "execution_count": null,
   "id": "398da57c",
   "metadata": {},
   "outputs": [],
   "source": [
    "pred"
   ]
  },
  {
   "cell_type": "markdown",
   "id": "044fbdd3",
   "metadata": {},
   "source": [
    "## XGB & LR"
   ]
  },
  {
   "cell_type": "code",
   "execution_count": null,
   "id": "d81dcfc9",
   "metadata": {},
   "outputs": [],
   "source": [
    "XGB=XGBClassifier()\n",
    "LR = LogisticRegression(C = 3,\n",
    "                        penalty = 'l2',\n",
    "                        multi_class = 'multinomial',\n",
    "                        n_jobs = -1)\n",
    "\n",
    "VC2=VotingClassifier(estimators=[('xgb',XGB),('lr',LR)],voting='soft')\n",
    "VC2.fit(X,y)"
   ]
  },
  {
   "cell_type": "code",
   "execution_count": null,
   "id": "15f3cb70",
   "metadata": {},
   "outputs": [],
   "source": [
    "pred=VC2.predict(test)\n",
    "sub=pd.read_csv('./submissions/submission.csv')\n",
    "sub['Survived']=pred\n",
    "sub.to_csv('./submissions/VC_by_XGB_and_LR.csv',index=False)"
   ]
  },
  {
   "cell_type": "code",
   "execution_count": null,
   "id": "472c051c",
   "metadata": {},
   "outputs": [],
   "source": [
    "pred"
   ]
  },
  {
   "cell_type": "markdown",
   "id": "e55fe733",
   "metadata": {},
   "source": [
    "## XGB & RF & LR"
   ]
  },
  {
   "cell_type": "code",
   "execution_count": null,
   "id": "56304cfd",
   "metadata": {},
   "outputs": [],
   "source": [
    "RF=RandomForestClassifier()\n",
    "XGB=XGBClassifier()\n",
    "LR = LogisticRegression(C = 3,\n",
    "                        penalty = 'l2',\n",
    "                        multi_class = 'multinomial',\n",
    "                        n_jobs = -1)\n",
    "\n",
    "VC3=VotingClassifier(estimators=[('rf',RF),('xgb',XGB),('lr',LR)],voting='soft')\n",
    "VC3.fit(X,y)"
   ]
  },
  {
   "cell_type": "code",
   "execution_count": null,
   "id": "88d90676",
   "metadata": {},
   "outputs": [],
   "source": [
    "pred=VC3.predict(test)\n",
    "sub=pd.read_csv('./submissions/submission.csv')\n",
    "sub['Survived']=pred\n",
    "sub.to_csv('./submissions/VC_by_XGB&RF&LR.csv',index=False)"
   ]
  },
  {
   "cell_type": "code",
   "execution_count": null,
   "id": "245c78f8",
   "metadata": {},
   "outputs": [],
   "source": []
  }
 ],
 "metadata": {
  "kernelspec": {
   "display_name": "Python 3",
   "language": "python",
   "name": "python3"
  },
  "language_info": {
   "codemirror_mode": {
    "name": "ipython",
    "version": 3
   },
   "file_extension": ".py",
   "mimetype": "text/x-python",
   "name": "python",
   "nbconvert_exporter": "python",
   "pygments_lexer": "ipython3",
   "version": "3.8.8"
  },
  "toc": {
   "base_numbering": 1,
   "nav_menu": {},
   "number_sections": true,
   "sideBar": true,
   "skip_h1_title": false,
   "title_cell": "Table of Contents",
   "title_sidebar": "Contents",
   "toc_cell": false,
   "toc_position": {},
   "toc_section_display": true,
   "toc_window_display": false
  }
 },
 "nbformat": 4,
 "nbformat_minor": 5
}
