{
 "cells": [
  {
   "cell_type": "code",
   "execution_count": null,
   "id": "92d980a1",
   "metadata": {},
   "outputs": [],
   "source": [
    "import pandas as pd\n",
    "import matplotlib as mpl\n",
    "import matplotlib.pyplot as plt"
   ]
  },
  {
   "cell_type": "code",
   "execution_count": null,
   "id": "1c1d8bdd",
   "metadata": {},
   "outputs": [],
   "source": [
    "train=pd.read_csv('./train.csv')\n",
    "test=pd.read_csv('./test.csv')"
   ]
  },
  {
   "cell_type": "code",
   "execution_count": null,
   "id": "b1de293d",
   "metadata": {},
   "outputs": [],
   "source": [
    "train.head()"
   ]
  },
  {
   "cell_type": "code",
   "execution_count": null,
   "id": "4a88a181",
   "metadata": {},
   "outputs": [],
   "source": [
    "test.head()"
   ]
  },
  {
   "cell_type": "code",
   "execution_count": null,
   "id": "9351e849",
   "metadata": {},
   "outputs": [],
   "source": [
    "train=train.drop(['Survived'], axis=1)"
   ]
  },
  {
   "cell_type": "code",
   "execution_count": null,
   "id": "ae5a35f9",
   "metadata": {},
   "outputs": [],
   "source": [
    "passengers=train.append(test)"
   ]
  },
  {
   "cell_type": "code",
   "execution_count": null,
   "id": "16ae0350",
   "metadata": {},
   "outputs": [],
   "source": [
    "passengers['Pclass']"
   ]
  },
  {
   "cell_type": "code",
   "execution_count": null,
   "id": "53f89290",
   "metadata": {},
   "outputs": [],
   "source": [
    "title_map = {'Mr':0, 'Miss':1, 'Mrs':1, 'Lady':1, 'Ms':1, 'Countess':1,\n",
    "           'Master':2, 'Dr':2, 'Rev':2, 'Major':2, 'Mile':2, 'Col':2, \n",
    "           'Jonkheer':2, 'Sir':2, 'Mme':2, 'Don':2}"
   ]
  },
  {
   "cell_type": "code",
   "execution_count": null,
   "id": "05534647",
   "metadata": {},
   "outputs": [],
   "source": [
    "plt.plot(train['Age'], train['Survived'] )"
   ]
  },
  {
   "cell_type": "code",
   "execution_count": null,
   "id": "7ba58937",
   "metadata": {},
   "outputs": [],
   "source": [
    "max(train['Age'])"
   ]
  },
  {
   "cell_type": "code",
   "execution_count": null,
   "id": "94bf5835",
   "metadata": {
    "scrolled": true
   },
   "outputs": [],
   "source": [
    "min(train['Age'])"
   ]
  },
  {
   "cell_type": "code",
   "execution_count": null,
   "id": "68e6f1db",
   "metadata": {},
   "outputs": [],
   "source": [
    "Age_Sur=train[['Age', 'Survived']]"
   ]
  },
  {
   "cell_type": "code",
   "execution_count": null,
   "id": "2494c39d",
   "metadata": {},
   "outputs": [],
   "source": [
    "Age_Sur"
   ]
  },
  {
   "cell_type": "code",
   "execution_count": null,
   "id": "b82108a9",
   "metadata": {},
   "outputs": [],
   "source": [
    "Age_Sur=Age_Sur.dropna()"
   ]
  },
  {
   "cell_type": "code",
   "execution_count": null,
   "id": "f71bf7a0",
   "metadata": {},
   "outputs": [],
   "source": [
    "Age_Sur.info()"
   ]
  },
  {
   "cell_type": "code",
   "execution_count": null,
   "id": "a23198b6",
   "metadata": {},
   "outputs": [],
   "source": [
    "is_under_1=Age_Sur['Age']<=1"
   ]
  },
  {
   "cell_type": "code",
   "execution_count": null,
   "id": "23e487ff",
   "metadata": {},
   "outputs": [],
   "source": [
    "r0_1=Age_Sur[is_under_1]"
   ]
  },
  {
   "cell_type": "code",
   "execution_count": null,
   "id": "2d52ecff",
   "metadata": {},
   "outputs": [],
   "source": [
    "len(r0_1)"
   ]
  },
  {
   "cell_type": "code",
   "execution_count": null,
   "id": "a1b6dce1",
   "metadata": {},
   "outputs": [],
   "source": [
    "sur_rate0_1=r0_1['Survived'].sum()/len(r0_1)"
   ]
  },
  {
   "cell_type": "code",
   "execution_count": null,
   "id": "78f247da",
   "metadata": {},
   "outputs": [],
   "source": [
    "x=[]\n",
    "for i in range(0,80,5):\n",
    "    x.append('{}~{}'.format(i,i+5))"
   ]
  },
  {
   "cell_type": "code",
   "execution_count": null,
   "id": "b73847be",
   "metadata": {},
   "outputs": [],
   "source": [
    "y=[]\n",
    "for i in range(16):\n",
    "    under=Age_Sur['Age']<=i+5\n",
    "    over=Age_Sur['Age']>i\n",
    "    temp=Age_Sur[under & over]\n",
    "    y.append(temp['Survived'].sum()/len(temp))"
   ]
  },
  {
   "cell_type": "code",
   "execution_count": null,
   "id": "0af1ac5e",
   "metadata": {
    "scrolled": true
   },
   "outputs": [],
   "source": [
    "y"
   ]
  },
  {
   "cell_type": "code",
   "execution_count": null,
   "id": "83d8e356",
   "metadata": {},
   "outputs": [],
   "source": [
    "over=Age_Sur['Age']>1"
   ]
  },
  {
   "cell_type": "code",
   "execution_count": null,
   "id": "8c6bcc0f",
   "metadata": {},
   "outputs": [],
   "source": [
    "over"
   ]
  },
  {
   "cell_type": "code",
   "execution_count": null,
   "id": "80abffc2",
   "metadata": {},
   "outputs": [],
   "source": [
    "y=[]\n",
    "under=Age_Sur['Age']<=10\n",
    "over=Age_Sur['Age']>9\n",
    "temp=Age_Sur[under & over]\n",
    "y.append(temp['Survived'].sum()/len(temp))"
   ]
  },
  {
   "cell_type": "code",
   "execution_count": null,
   "id": "0e1c5f3b",
   "metadata": {},
   "outputs": [],
   "source": [
    "y"
   ]
  },
  {
   "cell_type": "code",
   "execution_count": null,
   "id": "a8c61a01",
   "metadata": {},
   "outputs": [],
   "source": [
    "temp['Survived'].sum()/len(temp)"
   ]
  },
  {
   "cell_type": "code",
   "execution_count": null,
   "id": "af3f0ace",
   "metadata": {},
   "outputs": [],
   "source": [
    "len(temp)"
   ]
  },
  {
   "cell_type": "code",
   "execution_count": null,
   "id": "1d074184",
   "metadata": {
    "scrolled": false
   },
   "outputs": [],
   "source": [
    "plt.figure(figsize=(14,6))\n",
    "plt.xlabel('Age')\n",
    "plt.ylabel('Survived_rate')\n",
    "plt.plot(x,y)"
   ]
  },
  {
   "cell_type": "code",
   "execution_count": null,
   "id": "4fcb52e8",
   "metadata": {},
   "outputs": [],
   "source": [
    "# plot 시각화 함수\n",
    "def SR_plot(feature):\n",
    "    Age_Sur=train[[feature, 'Survived']]"
   ]
  },
  {
   "cell_type": "code",
   "execution_count": null,
   "id": "99fa39f8",
   "metadata": {},
   "outputs": [],
   "source": [
    "plt.hist(Age_Sur['Age'])"
   ]
  },
  {
   "cell_type": "code",
   "execution_count": null,
   "id": "c3995345",
   "metadata": {},
   "outputs": [],
   "source": []
  }
 ],
 "metadata": {
  "kernelspec": {
   "display_name": "Python 3",
   "language": "python",
   "name": "python3"
  },
  "language_info": {
   "codemirror_mode": {
    "name": "ipython",
    "version": 3
   },
   "file_extension": ".py",
   "mimetype": "text/x-python",
   "name": "python",
   "nbconvert_exporter": "python",
   "pygments_lexer": "ipython3",
   "version": "3.8.8"
  },
  "toc": {
   "base_numbering": 1,
   "nav_menu": {},
   "number_sections": true,
   "sideBar": true,
   "skip_h1_title": false,
   "title_cell": "Table of Contents",
   "title_sidebar": "Contents",
   "toc_cell": false,
   "toc_position": {},
   "toc_section_display": true,
   "toc_window_display": false
  }
 },
 "nbformat": 4,
 "nbformat_minor": 5
}
