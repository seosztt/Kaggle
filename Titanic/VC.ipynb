{
 "cells": [
  {
   "cell_type": "code",
   "execution_count": null,
   "id": "6a6f586c",
   "metadata": {},
   "outputs": [],
   "source": [
    "import pandas as pd\n",
    "train=pd.read_csv('./preprocessed/train_LabelEncoder.csv')\n",
    "test=pd.read_csv('./preprocessed/test_LabelEncoder.csv')"
   ]
  },
  {
   "cell_type": "code",
   "execution_count": null,
   "id": "0228744a",
   "metadata": {},
   "outputs": [],
   "source": [
    "from sklearn.ensemble import VotingClassifier\n",
    "from sklearn.ensemble import RandomForestClassifier\n",
    "from lightgbm import LGBMClassifier\n",
    "from xgboost import XGBClassifier"
   ]
  },
  {
   "cell_type": "code",
   "execution_count": null,
   "id": "a4ace0ec",
   "metadata": {},
   "outputs": [],
   "source": [
    "LGBM=LGBMClassifier()\n",
    "XGB=XGBClassifier()\n",
    "RF=RandomForestClassifier()\n",
    "\n",
    "VC=VotingClassifier(estimators=[('rf',RF),('xgb',XGB),('lgbm',LGBM)],voting='soft')"
   ]
  },
  {
   "cell_type": "code",
   "execution_count": null,
   "id": "9fb74709",
   "metadata": {},
   "outputs": [],
   "source": [
    "X=train.drop(['Survived'], axis=1)\n",
    "y=train['Survived']\n",
    "VC.fit(X,y)"
   ]
  },
  {
   "cell_type": "code",
   "execution_count": null,
   "id": "5042ffe3",
   "metadata": {},
   "outputs": [],
   "source": [
    "pred=VC.predict(test)"
   ]
  },
  {
   "cell_type": "code",
   "execution_count": null,
   "id": "6de57b5a",
   "metadata": {},
   "outputs": [],
   "source": [
    "sub=pd.read_csv('./submissions/submission.csv')\n",
    "sub['Survived']=pred\n",
    "sub.to_csv('/submissions/VC_1.csv',index=False)"
   ]
  },
  {
   "cell_type": "code",
   "execution_count": null,
   "id": "d9380126",
   "metadata": {},
   "outputs": [],
   "source": [
    "pred"
   ]
  }
 ],
 "metadata": {
  "kernelspec": {
   "display_name": "Python 3",
   "language": "python",
   "name": "python3"
  },
  "language_info": {
   "codemirror_mode": {
    "name": "ipython",
    "version": 3
   },
   "file_extension": ".py",
   "mimetype": "text/x-python",
   "name": "python",
   "nbconvert_exporter": "python",
   "pygments_lexer": "ipython3",
   "version": "3.8.8"
  },
  "toc": {
   "base_numbering": 1,
   "nav_menu": {},
   "number_sections": true,
   "sideBar": true,
   "skip_h1_title": false,
   "title_cell": "Table of Contents",
   "title_sidebar": "Contents",
   "toc_cell": false,
   "toc_position": {},
   "toc_section_display": true,
   "toc_window_display": false
  }
 },
 "nbformat": 4,
 "nbformat_minor": 5
}
