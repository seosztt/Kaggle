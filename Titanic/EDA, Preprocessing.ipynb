{
 "cells": [
  {
   "cell_type": "code",
   "execution_count": null,
   "id": "33960ebb",
   "metadata": {},
   "outputs": [],
   "source": [
    "import pandas as pd\n",
    "train=pd.read_csv('./data/train.csv')\n",
    "test=pd.read_csv('./data/test.csv')"
   ]
  },
  {
   "cell_type": "markdown",
   "id": "c16fe2f7",
   "metadata": {},
   "source": [
    "# EDA"
   ]
  },
  {
   "cell_type": "code",
   "execution_count": null,
   "id": "e7468085",
   "metadata": {},
   "outputs": [],
   "source": [
    "import seaborn as sns\n",
    "import matplotlib.pyplot as plt"
   ]
  },
  {
   "cell_type": "code",
   "execution_count": null,
   "id": "d888d3b0",
   "metadata": {},
   "outputs": [],
   "source": [
    "sns.pairplot(train.loc[:,'Age':'Fare'])\n",
    "plt.show()"
   ]
  },
  {
   "cell_type": "code",
   "execution_count": null,
   "id": "11911ee9",
   "metadata": {},
   "outputs": [],
   "source": [
    "sns.pairplot(train.loc[:,['Age','Pclass','Embarked']])\n",
    "plt.show()"
   ]
  },
  {
   "cell_type": "markdown",
   "id": "4fd21467",
   "metadata": {},
   "source": [
    "# Preprocessing"
   ]
  },
  {
   "cell_type": "code",
   "execution_count": null,
   "id": "6a888c0d",
   "metadata": {},
   "outputs": [],
   "source": [
    "# drop\n",
    "train.drop(['Cabin','PassengerId','Ticket','Name'],axis=1,inplace=True)\n",
    "test.drop(['Cabin','PassengerId','Ticket','Name'],axis=1,inplace=True)"
   ]
  },
  {
   "cell_type": "code",
   "execution_count": null,
   "id": "45ce13eb",
   "metadata": {},
   "outputs": [],
   "source": [
    "# train과 test의 Age의 결측 처리\n",
    "train[\"Age\"] = train[\"Age\"].fillna(train.groupby(['Pclass','SibSp','Parch'])['Age'].transform('mean'))\n",
    "test[\"Age\"] = test[\"Age\"].fillna(test.groupby(['Pclass','SibSp','Parch'])['Age'].transform('mean'))\n",
    "\n",
    "train[\"Age\"] = train[\"Age\"].fillna(train[\"Age\"].mean())\n",
    "test[\"Age\"] = test[\"Age\"].fillna(test[\"Age\"].mean())"
   ]
  },
  {
   "cell_type": "code",
   "execution_count": null,
   "id": "80716161",
   "metadata": {
    "scrolled": true
   },
   "outputs": [],
   "source": [
    "# train의 Embarked의 결측 처리\n",
    "train[train['Embarked'].isnull()]"
   ]
  },
  {
   "cell_type": "code",
   "execution_count": null,
   "id": "c5078de2",
   "metadata": {},
   "outputs": [],
   "source": [
    "a=train['Pclass']==1\n",
    "b=train['Sex']=='female'\n",
    "c=train['Age']>37\n",
    "d=train['SibSp']==0\n",
    "e=train['Parch']==0\n",
    "f=train['Embarked']=='S'\n",
    "\n",
    "train[a&b&d&e][['Embarked']].value_counts()"
   ]
  },
  {
   "cell_type": "code",
   "execution_count": null,
   "id": "fa5e03d7",
   "metadata": {},
   "outputs": [],
   "source": [
    "train['Embarked']=train['Embarked'].fillna('C')"
   ]
  },
  {
   "cell_type": "code",
   "execution_count": null,
   "id": "aa6d6fca",
   "metadata": {},
   "outputs": [],
   "source": [
    "# test의 Fare 결측 처리\n",
    "test[test['Fare'].isnull()]"
   ]
  },
  {
   "cell_type": "code",
   "execution_count": null,
   "id": "b8828238",
   "metadata": {},
   "outputs": [],
   "source": [
    "a=test['Pclass']==3\n",
    "b=test['Sex']=='male'\n",
    "c=test['Age']>37\n",
    "d=test['SibSp']==0\n",
    "e=test['Parch']==0\n",
    "f=test['Embarked']=='S'\n",
    "\n",
    "test[a&b&f&d&e&c].mean()"
   ]
  },
  {
   "cell_type": "code",
   "execution_count": null,
   "id": "5cc57986",
   "metadata": {},
   "outputs": [],
   "source": [
    "test['Fare']=test['Fare'].fillna(10)"
   ]
  },
  {
   "cell_type": "code",
   "execution_count": null,
   "id": "28806fe8",
   "metadata": {},
   "outputs": [],
   "source": [
    "# LabelEncoder\n",
    "from sklearn.preprocessing import LabelEncoder\n",
    "le1=LabelEncoder()\n",
    "Sex_le=le1.fit_transform(train['Sex'])\n",
    "train['Sex']=Sex_le\n",
    "\n",
    "Embarked_le=le1.fit_transform(test['Sex'])\n",
    "test['Sex']=Embarked_le\n",
    "\n",
    "le2=LabelEncoder()\n",
    "Embarked_le=le2.fit_transform(train['Embarked'])\n",
    "train['Embarked']=Embarked_le\n",
    "\n",
    "Embarked_le=le2.fit_transform(test['Embarked'])\n",
    "test['Embarked']=Embarked_le"
   ]
  },
  {
   "cell_type": "code",
   "execution_count": null,
   "id": "bd0ea00f",
   "metadata": {},
   "outputs": [],
   "source": [
    "# MinMaxScaler\n",
    "from sklearn.preprocessing import MinMaxScaler\n",
    "MMS1=MinMaxScaler()\n",
    "Fare_MMS=MMS1.fit_transform(train[['Fare']])\n",
    "train['Fare']=Fare_MMS\n",
    "\n",
    "Fare_MMS=MMS1.fit_transform(test[['Fare']])\n",
    "test['Fare']=Fare_MMS\n",
    "\n",
    "MMS2=MinMaxScaler()\n",
    "Fare_MMS=MMS2.fit_transform(train[['Age']])\n",
    "train['Age']=Fare_MMS\n",
    "\n",
    "Fare_MMS=MMS2.fit_transform(test[['Age']])\n",
    "test['Age']=Fare_MMS"
   ]
  },
  {
   "cell_type": "code",
   "execution_count": null,
   "id": "14178782",
   "metadata": {},
   "outputs": [],
   "source": [
    "train.info()"
   ]
  },
  {
   "cell_type": "code",
   "execution_count": null,
   "id": "839ccb8c",
   "metadata": {},
   "outputs": [],
   "source": [
    "test.info()"
   ]
  },
  {
   "cell_type": "markdown",
   "id": "1fe8fb60",
   "metadata": {},
   "source": [
    "# Save"
   ]
  },
  {
   "cell_type": "code",
   "execution_count": null,
   "id": "1321b1c9",
   "metadata": {},
   "outputs": [],
   "source": [
    "train"
   ]
  },
  {
   "cell_type": "code",
   "execution_count": null,
   "id": "18f77d53",
   "metadata": {},
   "outputs": [],
   "source": [
    "train.to_csv('./data/preprocessed/train1006.csv',index=False)\n",
    "test.to_csv('./data/preprocessed/test1006.csv',index=False)"
   ]
  },
  {
   "cell_type": "markdown",
   "id": "12b98c10",
   "metadata": {},
   "source": [
    "#The end#"
   ]
  }
 ],
 "metadata": {
  "kernelspec": {
   "display_name": "Python 3",
   "language": "python",
   "name": "python3"
  },
  "language_info": {
   "codemirror_mode": {
    "name": "ipython",
    "version": 3
   },
   "file_extension": ".py",
   "mimetype": "text/x-python",
   "name": "python",
   "nbconvert_exporter": "python",
   "pygments_lexer": "ipython3",
   "version": "3.8.8"
  },
  "toc": {
   "base_numbering": 1,
   "nav_menu": {},
   "number_sections": true,
   "sideBar": true,
   "skip_h1_title": false,
   "title_cell": "Table of Contents",
   "title_sidebar": "Contents",
   "toc_cell": false,
   "toc_position": {},
   "toc_section_display": true,
   "toc_window_display": false
  }
 },
 "nbformat": 4,
 "nbformat_minor": 5
}
