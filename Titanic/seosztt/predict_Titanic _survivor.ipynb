{
 "cells": [
  {
   "cell_type": "code",
   "execution_count": 1,
   "id": "42de1213",
   "metadata": {},
   "outputs": [],
   "source": [
    "import pandas as pd\n",
    "import sklearn\n",
    "from sklearn.tree import DecisionTreeClassifier\n",
    "from sklearn.tree import DecisionTreeRegressor\n",
    "train=pd.read_csv('./train.csv')\n",
    "test=pd.read_csv('./test.csv')"
   ]
  },
  {
   "cell_type": "code",
   "execution_count": 3,
   "id": "2283a32b",
   "metadata": {
    "scrolled": true
   },
   "outputs": [
    {
     "data": {
      "text/plain": [
       "(891, 12)"
      ]
     },
     "execution_count": 3,
     "metadata": {},
     "output_type": "execute_result"
    }
   ],
   "source": [
    "train.shape"
   ]
  },
  {
   "cell_type": "code",
   "execution_count": 4,
   "id": "b204d204",
   "metadata": {},
   "outputs": [
    {
     "data": {
      "text/html": [
       "<div>\n",
       "<style scoped>\n",
       "    .dataframe tbody tr th:only-of-type {\n",
       "        vertical-align: middle;\n",
       "    }\n",
       "\n",
       "    .dataframe tbody tr th {\n",
       "        vertical-align: top;\n",
       "    }\n",
       "\n",
       "    .dataframe thead th {\n",
       "        text-align: right;\n",
       "    }\n",
       "</style>\n",
       "<table border=\"1\" class=\"dataframe\">\n",
       "  <thead>\n",
       "    <tr style=\"text-align: right;\">\n",
       "      <th></th>\n",
       "      <th>PassengerId</th>\n",
       "      <th>Survived</th>\n",
       "      <th>Pclass</th>\n",
       "      <th>Name</th>\n",
       "      <th>Sex</th>\n",
       "      <th>Age</th>\n",
       "      <th>SibSp</th>\n",
       "      <th>Parch</th>\n",
       "      <th>Ticket</th>\n",
       "      <th>Fare</th>\n",
       "      <th>Cabin</th>\n",
       "      <th>Embarked</th>\n",
       "    </tr>\n",
       "  </thead>\n",
       "  <tbody>\n",
       "    <tr>\n",
       "      <th>0</th>\n",
       "      <td>1</td>\n",
       "      <td>0</td>\n",
       "      <td>3</td>\n",
       "      <td>Braund, Mr. Owen Harris</td>\n",
       "      <td>male</td>\n",
       "      <td>22.0</td>\n",
       "      <td>1</td>\n",
       "      <td>0</td>\n",
       "      <td>A/5 21171</td>\n",
       "      <td>7.2500</td>\n",
       "      <td>NaN</td>\n",
       "      <td>S</td>\n",
       "    </tr>\n",
       "    <tr>\n",
       "      <th>1</th>\n",
       "      <td>2</td>\n",
       "      <td>1</td>\n",
       "      <td>1</td>\n",
       "      <td>Cumings, Mrs. John Bradley (Florence Briggs Th...</td>\n",
       "      <td>female</td>\n",
       "      <td>38.0</td>\n",
       "      <td>1</td>\n",
       "      <td>0</td>\n",
       "      <td>PC 17599</td>\n",
       "      <td>71.2833</td>\n",
       "      <td>C85</td>\n",
       "      <td>C</td>\n",
       "    </tr>\n",
       "    <tr>\n",
       "      <th>2</th>\n",
       "      <td>3</td>\n",
       "      <td>1</td>\n",
       "      <td>3</td>\n",
       "      <td>Heikkinen, Miss. Laina</td>\n",
       "      <td>female</td>\n",
       "      <td>26.0</td>\n",
       "      <td>0</td>\n",
       "      <td>0</td>\n",
       "      <td>STON/O2. 3101282</td>\n",
       "      <td>7.9250</td>\n",
       "      <td>NaN</td>\n",
       "      <td>S</td>\n",
       "    </tr>\n",
       "    <tr>\n",
       "      <th>3</th>\n",
       "      <td>4</td>\n",
       "      <td>1</td>\n",
       "      <td>1</td>\n",
       "      <td>Futrelle, Mrs. Jacques Heath (Lily May Peel)</td>\n",
       "      <td>female</td>\n",
       "      <td>35.0</td>\n",
       "      <td>1</td>\n",
       "      <td>0</td>\n",
       "      <td>113803</td>\n",
       "      <td>53.1000</td>\n",
       "      <td>C123</td>\n",
       "      <td>S</td>\n",
       "    </tr>\n",
       "    <tr>\n",
       "      <th>4</th>\n",
       "      <td>5</td>\n",
       "      <td>0</td>\n",
       "      <td>3</td>\n",
       "      <td>Allen, Mr. William Henry</td>\n",
       "      <td>male</td>\n",
       "      <td>35.0</td>\n",
       "      <td>0</td>\n",
       "      <td>0</td>\n",
       "      <td>373450</td>\n",
       "      <td>8.0500</td>\n",
       "      <td>NaN</td>\n",
       "      <td>S</td>\n",
       "    </tr>\n",
       "    <tr>\n",
       "      <th>5</th>\n",
       "      <td>6</td>\n",
       "      <td>0</td>\n",
       "      <td>3</td>\n",
       "      <td>Moran, Mr. James</td>\n",
       "      <td>male</td>\n",
       "      <td>NaN</td>\n",
       "      <td>0</td>\n",
       "      <td>0</td>\n",
       "      <td>330877</td>\n",
       "      <td>8.4583</td>\n",
       "      <td>NaN</td>\n",
       "      <td>Q</td>\n",
       "    </tr>\n",
       "    <tr>\n",
       "      <th>6</th>\n",
       "      <td>7</td>\n",
       "      <td>0</td>\n",
       "      <td>1</td>\n",
       "      <td>McCarthy, Mr. Timothy J</td>\n",
       "      <td>male</td>\n",
       "      <td>54.0</td>\n",
       "      <td>0</td>\n",
       "      <td>0</td>\n",
       "      <td>17463</td>\n",
       "      <td>51.8625</td>\n",
       "      <td>E46</td>\n",
       "      <td>S</td>\n",
       "    </tr>\n",
       "    <tr>\n",
       "      <th>7</th>\n",
       "      <td>8</td>\n",
       "      <td>0</td>\n",
       "      <td>3</td>\n",
       "      <td>Palsson, Master. Gosta Leonard</td>\n",
       "      <td>male</td>\n",
       "      <td>2.0</td>\n",
       "      <td>3</td>\n",
       "      <td>1</td>\n",
       "      <td>349909</td>\n",
       "      <td>21.0750</td>\n",
       "      <td>NaN</td>\n",
       "      <td>S</td>\n",
       "    </tr>\n",
       "    <tr>\n",
       "      <th>8</th>\n",
       "      <td>9</td>\n",
       "      <td>1</td>\n",
       "      <td>3</td>\n",
       "      <td>Johnson, Mrs. Oscar W (Elisabeth Vilhelmina Berg)</td>\n",
       "      <td>female</td>\n",
       "      <td>27.0</td>\n",
       "      <td>0</td>\n",
       "      <td>2</td>\n",
       "      <td>347742</td>\n",
       "      <td>11.1333</td>\n",
       "      <td>NaN</td>\n",
       "      <td>S</td>\n",
       "    </tr>\n",
       "    <tr>\n",
       "      <th>9</th>\n",
       "      <td>10</td>\n",
       "      <td>1</td>\n",
       "      <td>2</td>\n",
       "      <td>Nasser, Mrs. Nicholas (Adele Achem)</td>\n",
       "      <td>female</td>\n",
       "      <td>14.0</td>\n",
       "      <td>1</td>\n",
       "      <td>0</td>\n",
       "      <td>237736</td>\n",
       "      <td>30.0708</td>\n",
       "      <td>NaN</td>\n",
       "      <td>C</td>\n",
       "    </tr>\n",
       "  </tbody>\n",
       "</table>\n",
       "</div>"
      ],
      "text/plain": [
       "   PassengerId  Survived  Pclass  \\\n",
       "0            1         0       3   \n",
       "1            2         1       1   \n",
       "2            3         1       3   \n",
       "3            4         1       1   \n",
       "4            5         0       3   \n",
       "5            6         0       3   \n",
       "6            7         0       1   \n",
       "7            8         0       3   \n",
       "8            9         1       3   \n",
       "9           10         1       2   \n",
       "\n",
       "                                                Name     Sex   Age  SibSp  \\\n",
       "0                            Braund, Mr. Owen Harris    male  22.0      1   \n",
       "1  Cumings, Mrs. John Bradley (Florence Briggs Th...  female  38.0      1   \n",
       "2                             Heikkinen, Miss. Laina  female  26.0      0   \n",
       "3       Futrelle, Mrs. Jacques Heath (Lily May Peel)  female  35.0      1   \n",
       "4                           Allen, Mr. William Henry    male  35.0      0   \n",
       "5                                   Moran, Mr. James    male   NaN      0   \n",
       "6                            McCarthy, Mr. Timothy J    male  54.0      0   \n",
       "7                     Palsson, Master. Gosta Leonard    male   2.0      3   \n",
       "8  Johnson, Mrs. Oscar W (Elisabeth Vilhelmina Berg)  female  27.0      0   \n",
       "9                Nasser, Mrs. Nicholas (Adele Achem)  female  14.0      1   \n",
       "\n",
       "   Parch            Ticket     Fare Cabin Embarked  \n",
       "0      0         A/5 21171   7.2500   NaN        S  \n",
       "1      0          PC 17599  71.2833   C85        C  \n",
       "2      0  STON/O2. 3101282   7.9250   NaN        S  \n",
       "3      0            113803  53.1000  C123        S  \n",
       "4      0            373450   8.0500   NaN        S  \n",
       "5      0            330877   8.4583   NaN        Q  \n",
       "6      0             17463  51.8625   E46        S  \n",
       "7      1            349909  21.0750   NaN        S  \n",
       "8      2            347742  11.1333   NaN        S  \n",
       "9      0            237736  30.0708   NaN        C  "
      ]
     },
     "execution_count": 4,
     "metadata": {},
     "output_type": "execute_result"
    }
   ],
   "source": [
    "train.head(10)"
   ]
  },
  {
   "cell_type": "code",
   "execution_count": 5,
   "id": "c3021436",
   "metadata": {},
   "outputs": [
    {
     "name": "stdout",
     "output_type": "stream",
     "text": [
      "<class 'pandas.core.frame.DataFrame'>\n",
      "RangeIndex: 891 entries, 0 to 890\n",
      "Data columns (total 12 columns):\n",
      " #   Column       Non-Null Count  Dtype  \n",
      "---  ------       --------------  -----  \n",
      " 0   PassengerId  891 non-null    int64  \n",
      " 1   Survived     891 non-null    int64  \n",
      " 2   Pclass       891 non-null    int64  \n",
      " 3   Name         891 non-null    object \n",
      " 4   Sex          891 non-null    object \n",
      " 5   Age          714 non-null    float64\n",
      " 6   SibSp        891 non-null    int64  \n",
      " 7   Parch        891 non-null    int64  \n",
      " 8   Ticket       891 non-null    object \n",
      " 9   Fare         891 non-null    float64\n",
      " 10  Cabin        204 non-null    object \n",
      " 11  Embarked     889 non-null    object \n",
      "dtypes: float64(2), int64(5), object(5)\n",
      "memory usage: 83.7+ KB\n"
     ]
    }
   ],
   "source": [
    "train.info()"
   ]
  },
  {
   "cell_type": "code",
   "execution_count": 6,
   "id": "52d77983",
   "metadata": {
    "scrolled": false
   },
   "outputs": [
    {
     "data": {
      "text/plain": [
       "PassengerId      0\n",
       "Survived         0\n",
       "Pclass           0\n",
       "Name             0\n",
       "Sex              0\n",
       "Age            177\n",
       "SibSp            0\n",
       "Parch            0\n",
       "Ticket           0\n",
       "Fare             0\n",
       "Cabin          687\n",
       "Embarked         2\n",
       "dtype: int64"
      ]
     },
     "execution_count": 6,
     "metadata": {},
     "output_type": "execute_result"
    }
   ],
   "source": [
    "train.isnull().sum()"
   ]
  },
  {
   "cell_type": "markdown",
   "id": "f75bc598",
   "metadata": {},
   "source": [
    "# 첫번째 제출"
   ]
  },
  {
   "cell_type": "code",
   "execution_count": 2,
   "id": "6a419b9f",
   "metadata": {},
   "outputs": [],
   "source": [
    "train['Age'].fillna(int(train['Age'].mean()), inplace=True)"
   ]
  },
  {
   "cell_type": "code",
   "execution_count": 8,
   "id": "6fe30627",
   "metadata": {
    "scrolled": true
   },
   "outputs": [
    {
     "data": {
      "text/plain": [
       "PassengerId      0\n",
       "Survived         0\n",
       "Pclass           0\n",
       "Name             0\n",
       "Sex              0\n",
       "Age              0\n",
       "SibSp            0\n",
       "Parch            0\n",
       "Ticket           0\n",
       "Fare             0\n",
       "Cabin          687\n",
       "Embarked         2\n",
       "dtype: int64"
      ]
     },
     "execution_count": 8,
     "metadata": {},
     "output_type": "execute_result"
    }
   ],
   "source": [
    "train.isnull().sum()"
   ]
  },
  {
   "cell_type": "code",
   "execution_count": 9,
   "id": "6713a4d2",
   "metadata": {},
   "outputs": [
    {
     "data": {
      "text/plain": [
       "0     22.0\n",
       "1     38.0\n",
       "2     26.0\n",
       "3     35.0\n",
       "4     35.0\n",
       "5     29.0\n",
       "6     54.0\n",
       "7      2.0\n",
       "8     27.0\n",
       "9     14.0\n",
       "10     4.0\n",
       "11    58.0\n",
       "12    20.0\n",
       "13    39.0\n",
       "14    14.0\n",
       "15    55.0\n",
       "16     2.0\n",
       "17    29.0\n",
       "18    31.0\n",
       "19    29.0\n",
       "Name: Age, dtype: float64"
      ]
     },
     "execution_count": 9,
     "metadata": {},
     "output_type": "execute_result"
    }
   ],
   "source": [
    "train['Age'].head(20)"
   ]
  },
  {
   "cell_type": "code",
   "execution_count": 10,
   "id": "c13d4b90",
   "metadata": {},
   "outputs": [
    {
     "name": "stdout",
     "output_type": "stream",
     "text": [
      "<class 'pandas.core.frame.DataFrame'>\n",
      "RangeIndex: 891 entries, 0 to 890\n",
      "Data columns (total 12 columns):\n",
      " #   Column       Non-Null Count  Dtype  \n",
      "---  ------       --------------  -----  \n",
      " 0   PassengerId  891 non-null    int64  \n",
      " 1   Survived     891 non-null    int64  \n",
      " 2   Pclass       891 non-null    int64  \n",
      " 3   Name         891 non-null    object \n",
      " 4   Sex          891 non-null    object \n",
      " 5   Age          891 non-null    float64\n",
      " 6   SibSp        891 non-null    int64  \n",
      " 7   Parch        891 non-null    int64  \n",
      " 8   Ticket       891 non-null    object \n",
      " 9   Fare         891 non-null    float64\n",
      " 10  Cabin        204 non-null    object \n",
      " 11  Embarked     889 non-null    object \n",
      "dtypes: float64(2), int64(5), object(5)\n",
      "memory usage: 83.7+ KB\n"
     ]
    }
   ],
   "source": [
    "train.info()"
   ]
  },
  {
   "cell_type": "code",
   "execution_count": 3,
   "id": "b6cd6d07",
   "metadata": {},
   "outputs": [],
   "source": [
    "train['Sex']=train['Sex'].replace('male', 0)"
   ]
  },
  {
   "cell_type": "code",
   "execution_count": 4,
   "id": "b01d08c6",
   "metadata": {},
   "outputs": [],
   "source": [
    "train['Sex']=train['Sex'].replace('female', 1)"
   ]
  },
  {
   "cell_type": "code",
   "execution_count": 5,
   "id": "ee6fac5b",
   "metadata": {
    "scrolled": true
   },
   "outputs": [
    {
     "data": {
      "text/plain": [
       "0    0\n",
       "1    1\n",
       "2    1\n",
       "3    1\n",
       "4    0\n",
       "5    0\n",
       "6    0\n",
       "7    0\n",
       "8    1\n",
       "9    1\n",
       "Name: Sex, dtype: int64"
      ]
     },
     "execution_count": 5,
     "metadata": {},
     "output_type": "execute_result"
    }
   ],
   "source": [
    "train['Sex'].head(10)"
   ]
  },
  {
   "cell_type": "code",
   "execution_count": 6,
   "id": "b43b86e3",
   "metadata": {
    "scrolled": true
   },
   "outputs": [
    {
     "data": {
      "text/plain": [
       "0      2.0\n",
       "1      1.0\n",
       "2      2.0\n",
       "3      2.0\n",
       "4      2.0\n",
       "      ... \n",
       "886    2.0\n",
       "887    2.0\n",
       "888    2.0\n",
       "889    1.0\n",
       "890    0.0\n",
       "Name: Embarked, Length: 891, dtype: float64"
      ]
     },
     "execution_count": 6,
     "metadata": {},
     "output_type": "execute_result"
    }
   ],
   "source": [
    "train['Embarked']=train['Embarked'].replace('Q',0)\n",
    "train['Embarked']=train['Embarked'].replace('C',1)\n",
    "train['Embarked']=train['Embarked'].replace('S',2)\n",
    "train['Embarked']"
   ]
  },
  {
   "cell_type": "code",
   "execution_count": 7,
   "id": "d4f37b35",
   "metadata": {},
   "outputs": [],
   "source": [
    "train['Embarked']=train['Embarked'].fillna(1)"
   ]
  },
  {
   "cell_type": "code",
   "execution_count": 8,
   "id": "ee0ec9ba",
   "metadata": {},
   "outputs": [
    {
     "data": {
      "text/plain": [
       "0      NaN\n",
       "1      C85\n",
       "2      NaN\n",
       "3     C123\n",
       "4      NaN\n",
       "      ... \n",
       "65     NaN\n",
       "66     F33\n",
       "67     NaN\n",
       "68     NaN\n",
       "69     NaN\n",
       "Name: Cabin, Length: 70, dtype: object"
      ]
     },
     "execution_count": 8,
     "metadata": {},
     "output_type": "execute_result"
    }
   ],
   "source": [
    "train['Cabin'].head(70)"
   ]
  },
  {
   "cell_type": "code",
   "execution_count": 3,
   "id": "277fc670",
   "metadata": {},
   "outputs": [],
   "source": [
    "X_train=train.drop(['PassengerId','Survived','Name','Ticket','Cabin'], axis=1)\n",
    "Y_train=train['Survived']"
   ]
  },
  {
   "cell_type": "code",
   "execution_count": 38,
   "id": "96179fc3",
   "metadata": {},
   "outputs": [
    {
     "data": {
      "text/plain": [
       "DecisionTreeRegressor()"
      ]
     },
     "execution_count": 38,
     "metadata": {},
     "output_type": "execute_result"
    }
   ],
   "source": [
    "model=DecisionTreeRegressor()\n",
    "model.fit(X_train, Y_train)"
   ]
  },
  {
   "cell_type": "code",
   "execution_count": 10,
   "id": "60988688",
   "metadata": {},
   "outputs": [
    {
     "data": {
      "text/plain": [
       "0      0\n",
       "1      1\n",
       "2      0\n",
       "3      0\n",
       "4      1\n",
       "      ..\n",
       "413    0\n",
       "414    1\n",
       "415    0\n",
       "416    0\n",
       "417    0\n",
       "Name: Sex, Length: 418, dtype: int64"
      ]
     },
     "execution_count": 10,
     "metadata": {},
     "output_type": "execute_result"
    }
   ],
   "source": [
    "test['Sex']=test['Sex'].replace('male', 0)\n",
    "test['Sex']=test['Sex'].replace('female', 1)\n",
    "test['Sex']"
   ]
  },
  {
   "cell_type": "code",
   "execution_count": 11,
   "id": "b7d79222",
   "metadata": {},
   "outputs": [
    {
     "data": {
      "text/plain": [
       "0      0\n",
       "1      2\n",
       "2      0\n",
       "3      2\n",
       "4      2\n",
       "      ..\n",
       "413    2\n",
       "414    1\n",
       "415    2\n",
       "416    2\n",
       "417    1\n",
       "Name: Embarked, Length: 418, dtype: int64"
      ]
     },
     "execution_count": 11,
     "metadata": {},
     "output_type": "execute_result"
    }
   ],
   "source": [
    "test['Embarked']=test['Embarked'].replace('Q',0)\n",
    "test['Embarked']=test['Embarked'].replace('C',1)\n",
    "test['Embarked']=test['Embarked'].replace('S',2)\n",
    "test['Embarked']"
   ]
  },
  {
   "cell_type": "code",
   "execution_count": 12,
   "id": "8b4649e5",
   "metadata": {},
   "outputs": [],
   "source": [
    "test['Embarked']=test['Embarked'].fillna(1)"
   ]
  },
  {
   "cell_type": "code",
   "execution_count": 13,
   "id": "d2529554",
   "metadata": {},
   "outputs": [],
   "source": [
    "test['Age'].fillna(int(test['Age'].mean()), inplace=True)"
   ]
  },
  {
   "cell_type": "code",
   "execution_count": 14,
   "id": "d0b46d32",
   "metadata": {},
   "outputs": [],
   "source": [
    "test['Fare'].fillna(int(test['Fare'].mean()), inplace=True)"
   ]
  },
  {
   "cell_type": "code",
   "execution_count": 15,
   "id": "54a05396",
   "metadata": {},
   "outputs": [],
   "source": [
    "test_1=test.drop(['PassengerId','Name','Ticket','Cabin'], axis=1)"
   ]
  },
  {
   "cell_type": "code",
   "execution_count": 25,
   "id": "960dddc5",
   "metadata": {},
   "outputs": [
    {
     "data": {
      "text/plain": [
       "Pclass      0\n",
       "Sex         0\n",
       "Age         0\n",
       "SibSp       0\n",
       "Parch       0\n",
       "Fare        0\n",
       "Embarked    0\n",
       "dtype: int64"
      ]
     },
     "execution_count": 25,
     "metadata": {},
     "output_type": "execute_result"
    }
   ],
   "source": [
    "X_train.isnull().sum()"
   ]
  },
  {
   "cell_type": "code",
   "execution_count": 26,
   "id": "dfff7613",
   "metadata": {},
   "outputs": [],
   "source": [
    "pred=model.predict(test_1)"
   ]
  },
  {
   "cell_type": "code",
   "execution_count": 27,
   "id": "f09d1445",
   "metadata": {},
   "outputs": [
    {
     "data": {
      "text/plain": [
       "Pclass      0\n",
       "Sex         0\n",
       "Age         0\n",
       "SibSp       0\n",
       "Parch       0\n",
       "Fare        0\n",
       "Embarked    0\n",
       "dtype: int64"
      ]
     },
     "execution_count": 27,
     "metadata": {},
     "output_type": "execute_result"
    }
   ],
   "source": [
    "test_1.isnull().sum()"
   ]
  },
  {
   "cell_type": "code",
   "execution_count": 28,
   "id": "26e3465a",
   "metadata": {},
   "outputs": [],
   "source": [
    "sub=pd.read_csv('./submission.csv')"
   ]
  },
  {
   "cell_type": "code",
   "execution_count": 29,
   "id": "4c9dc411",
   "metadata": {},
   "outputs": [],
   "source": [
    "sub['Survived']=pred"
   ]
  },
  {
   "cell_type": "code",
   "execution_count": 30,
   "id": "8a8314b9",
   "metadata": {},
   "outputs": [],
   "source": [
    "sub.to_csv('sub.csv',index=False)"
   ]
  },
  {
   "cell_type": "markdown",
   "id": "032d98ac",
   "metadata": {},
   "source": [
    "# 두번째 제출"
   ]
  },
  {
   "cell_type": "code",
   "execution_count": 40,
   "id": "89f009a9",
   "metadata": {},
   "outputs": [
    {
     "data": {
      "text/plain": [
       "array([0.11145424, 0.31412978, 0.24433583, 0.04277106, 0.02297719,\n",
       "       0.2532678 , 0.0110641 ])"
      ]
     },
     "execution_count": 40,
     "metadata": {},
     "output_type": "execute_result"
    }
   ],
   "source": [
    "model.feature_importances_"
   ]
  },
  {
   "cell_type": "code",
   "execution_count": 41,
   "id": "2c40793c",
   "metadata": {},
   "outputs": [],
   "source": [
    "X_train_2=X_train.drop(['Embarked'], axis=1)\n",
    "test_2=test_1.drop(['Embarked'], axis=1)"
   ]
  },
  {
   "cell_type": "code",
   "execution_count": 43,
   "id": "74d641f7",
   "metadata": {},
   "outputs": [],
   "source": [
    "model=DecisionTreeRegressor()\n",
    "model.fit(X_train_2, Y_train)\n",
    "pred=model.predict(test_2)"
   ]
  },
  {
   "cell_type": "code",
   "execution_count": 45,
   "id": "c4b945a6",
   "metadata": {},
   "outputs": [
    {
     "data": {
      "text/plain": [
       "array([0.12093668, 0.31455994, 0.23398545, 0.04682305, 0.03707105,\n",
       "       0.24662382])"
      ]
     },
     "execution_count": 45,
     "metadata": {},
     "output_type": "execute_result"
    }
   ],
   "source": [
    "model.feature_importances_"
   ]
  },
  {
   "cell_type": "code",
   "execution_count": 44,
   "id": "0ab4de0f",
   "metadata": {},
   "outputs": [],
   "source": [
    "sub=pd.read_csv('./submission.csv')\n",
    "sub['Survived']=pred\n",
    "sub.to_csv('sub_2.csv',index=False)"
   ]
  },
  {
   "cell_type": "markdown",
   "id": "665558b9",
   "metadata": {},
   "source": [
    "# 세번째 제출"
   ]
  },
  {
   "cell_type": "code",
   "execution_count": 47,
   "id": "80d04d25",
   "metadata": {},
   "outputs": [],
   "source": [
    "X_train_3=X_train.drop(['Embarked','Parch'], axis=1)\n",
    "test_3=test_1.drop(['Embarked','Parch'], axis=1)"
   ]
  },
  {
   "cell_type": "code",
   "execution_count": 48,
   "id": "fa4c9e01",
   "metadata": {},
   "outputs": [],
   "source": [
    "model=DecisionTreeRegressor()\n",
    "model.fit(X_train_3, Y_train)\n",
    "pred=model.predict(test_3)"
   ]
  },
  {
   "cell_type": "code",
   "execution_count": 49,
   "id": "391ab9b4",
   "metadata": {},
   "outputs": [
    {
     "data": {
      "text/plain": [
       "array([0.11018022, 0.31564608, 0.22750291, 0.05064231, 0.29602848])"
      ]
     },
     "execution_count": 49,
     "metadata": {},
     "output_type": "execute_result"
    }
   ],
   "source": [
    "model.feature_importances_"
   ]
  },
  {
   "cell_type": "code",
   "execution_count": 50,
   "id": "766fa744",
   "metadata": {},
   "outputs": [],
   "source": [
    "sub=pd.read_csv('./submission.csv')\n",
    "sub['Survived']=pred\n",
    "sub.to_csv('sub_3.csv',index=False)"
   ]
  },
  {
   "cell_type": "markdown",
   "id": "c687597b",
   "metadata": {},
   "source": [
    "# 네번째 제출"
   ]
  },
  {
   "cell_type": "code",
   "execution_count": 16,
   "id": "f35ef0f3",
   "metadata": {},
   "outputs": [],
   "source": [
    "X_train_4=X_train.drop(['Embarked','Parch','SibSp'], axis=1)\n",
    "test_4=test_1.drop(['Embarked','Parch','SibSp'], axis=1)"
   ]
  },
  {
   "cell_type": "code",
   "execution_count": 52,
   "id": "3659aa89",
   "metadata": {},
   "outputs": [],
   "source": [
    "model=DecisionTreeRegressor()\n",
    "model.fit(X_train_4, Y_train)\n",
    "pred=model.predict(test_4)"
   ]
  },
  {
   "cell_type": "code",
   "execution_count": 53,
   "id": "a457d3be",
   "metadata": {},
   "outputs": [
    {
     "data": {
      "text/plain": [
       "array([0.12579812, 0.31649764, 0.24103894, 0.31666531])"
      ]
     },
     "execution_count": 53,
     "metadata": {},
     "output_type": "execute_result"
    }
   ],
   "source": [
    "model.feature_importances_"
   ]
  },
  {
   "cell_type": "code",
   "execution_count": 55,
   "id": "f22cd643",
   "metadata": {},
   "outputs": [],
   "source": [
    "sub=pd.read_csv('./submission.csv')\n",
    "sub['Survived']=pred\n",
    "sub.to_csv('sub_4.csv',index=False)"
   ]
  },
  {
   "cell_type": "markdown",
   "id": "7e7608d6",
   "metadata": {},
   "source": [
    "# 다섯번째 제출"
   ]
  },
  {
   "cell_type": "code",
   "execution_count": 18,
   "id": "e98f2529",
   "metadata": {},
   "outputs": [],
   "source": [
    "from sklearn.ensemble import RandomForestRegressor"
   ]
  },
  {
   "cell_type": "code",
   "execution_count": 56,
   "id": "d0e719ec",
   "metadata": {},
   "outputs": [
    {
     "data": {
      "text/plain": [
       "RandomForestRegressor()"
      ]
     },
     "execution_count": 56,
     "metadata": {},
     "output_type": "execute_result"
    }
   ],
   "source": [
    "model=RandomForestRegressor(criterion='mse')\n",
    "model.fit(X_train_4, Y_train)"
   ]
  },
  {
   "cell_type": "code",
   "execution_count": 57,
   "id": "1d272f72",
   "metadata": {
    "scrolled": false
   },
   "outputs": [
    {
     "data": {
      "text/plain": [
       "array([0.11208674, 0.31029135, 0.26647562, 0.31114629])"
      ]
     },
     "execution_count": 57,
     "metadata": {},
     "output_type": "execute_result"
    }
   ],
   "source": [
    "model.feature_importances_"
   ]
  },
  {
   "cell_type": "code",
   "execution_count": 60,
   "id": "870c4253",
   "metadata": {},
   "outputs": [],
   "source": [
    "pred=model.predict(test_4)"
   ]
  },
  {
   "cell_type": "code",
   "execution_count": 61,
   "id": "92cdbaa7",
   "metadata": {},
   "outputs": [],
   "source": [
    "sub=pd.read_csv('./submission.csv')\n",
    "sub['Survived']=pred\n",
    "sub.to_csv('sub_5.csv',index=False)"
   ]
  },
  {
   "cell_type": "markdown",
   "id": "223ab070",
   "metadata": {},
   "source": [
    "# 여섯번째 제출"
   ]
  },
  {
   "cell_type": "code",
   "execution_count": 1,
   "id": "98f6b3f4",
   "metadata": {},
   "outputs": [],
   "source": [
    "import numpy as np\n",
    "import pandas as pd\n",
    "import sklearn\n",
    "from sklearn.tree import DecisionTreeClassifier\n",
    "from sklearn.tree import DecisionTreeRegressor\n",
    "train=pd.read_csv('./train.csv')\n",
    "test=pd.read_csv('./test.csv')"
   ]
  },
  {
   "cell_type": "code",
   "execution_count": 76,
   "id": "6c07bc59",
   "metadata": {},
   "outputs": [
    {
     "data": {
      "text/plain": [
       "PassengerId      0\n",
       "Survived         0\n",
       "Pclass           0\n",
       "Name             0\n",
       "Sex              0\n",
       "Age            177\n",
       "SibSp            0\n",
       "Parch            0\n",
       "Ticket           0\n",
       "Fare             0\n",
       "Cabin          687\n",
       "Embarked         2\n",
       "dtype: int64"
      ]
     },
     "execution_count": 76,
     "metadata": {},
     "output_type": "execute_result"
    }
   ],
   "source": [
    "train.isnull().sum()"
   ]
  },
  {
   "cell_type": "code",
   "execution_count": 2,
   "id": "88325972",
   "metadata": {},
   "outputs": [],
   "source": [
    "train['Age'].fillna(int(train['Age'].mean()), inplace=True)"
   ]
  },
  {
   "cell_type": "code",
   "execution_count": 3,
   "id": "1787fd2a",
   "metadata": {},
   "outputs": [],
   "source": [
    "male=[]\n",
    "for i in range(len(train)):\n",
    "    if train['Sex'][i]=='male':\n",
    "        male.append(1)\n",
    "    else:\n",
    "        male.append(0)"
   ]
  },
  {
   "cell_type": "code",
   "execution_count": 4,
   "id": "9bcf264d",
   "metadata": {},
   "outputs": [],
   "source": [
    "train['male']=male"
   ]
  },
  {
   "cell_type": "code",
   "execution_count": 5,
   "id": "90aed376",
   "metadata": {},
   "outputs": [],
   "source": [
    "female=[]\n",
    "for i in range(len(train)):\n",
    "    if train['Sex'][i]=='female':\n",
    "        female.append(1)\n",
    "    else:\n",
    "        female.append(0)\n",
    "train['female']=female"
   ]
  },
  {
   "cell_type": "code",
   "execution_count": 6,
   "id": "d2d2cac5",
   "metadata": {},
   "outputs": [],
   "source": [
    "S=[]\n",
    "for i in range(len(train)):\n",
    "    if train['Embarked'][i]=='S':\n",
    "        S.append(1)\n",
    "    else:\n",
    "        S.append(0)\n",
    "train['S']=S\n",
    "Q=[]\n",
    "for i in range(len(train)):\n",
    "    if train['Embarked'][i]=='Q':\n",
    "        Q.append(1)\n",
    "    else:\n",
    "        Q.append(0)\n",
    "train['Q']=Q\n",
    "C=[]\n",
    "for i in range(len(train)):\n",
    "    if train['Embarked'][i]=='C':\n",
    "        C.append(1)\n",
    "    else:\n",
    "        C.append(0)\n",
    "train['C']=C"
   ]
  },
  {
   "cell_type": "code",
   "execution_count": 7,
   "id": "4b8a07e7",
   "metadata": {},
   "outputs": [],
   "source": [
    "X_train_6=train.drop(['PassengerId','Survived','Name','Ticket','Cabin','Embarked','Sex'], axis=1)\n",
    "Y_train=train['Survived']"
   ]
  },
  {
   "cell_type": "code",
   "execution_count": 8,
   "id": "61801633",
   "metadata": {},
   "outputs": [],
   "source": [
    "test['Age'].fillna(int(test['Age'].mean()), inplace=True)"
   ]
  },
  {
   "cell_type": "code",
   "execution_count": 9,
   "id": "04367b52",
   "metadata": {},
   "outputs": [],
   "source": [
    "test['Fare'].fillna(int(test['Fare'].mean()), inplace=True)"
   ]
  },
  {
   "cell_type": "code",
   "execution_count": 10,
   "id": "33eb46ee",
   "metadata": {},
   "outputs": [],
   "source": [
    "male=[]\n",
    "for i in range(len(test)):\n",
    "    if test['Sex'][i]=='male':\n",
    "        male.append(1)\n",
    "    else:\n",
    "        male.append(0)\n",
    "test['male']=male\n",
    "female=[]\n",
    "for i in range(len(test)):\n",
    "    if test['Sex'][i]=='female':\n",
    "        female.append(1)\n",
    "    else:\n",
    "        female.append(0)\n",
    "test['female']=female"
   ]
  },
  {
   "cell_type": "code",
   "execution_count": 11,
   "id": "926414b1",
   "metadata": {},
   "outputs": [],
   "source": [
    "S=[]\n",
    "for i in range(len(test)):\n",
    "    if test['Embarked'][i]=='S':\n",
    "        S.append(1)\n",
    "    else:\n",
    "        S.append(0)\n",
    "test['S']=S\n",
    "Q=[]\n",
    "for i in range(len(test)):\n",
    "    if test['Embarked'][i]=='Q':\n",
    "        Q.append(1)\n",
    "    else:\n",
    "        Q.append(0)\n",
    "test['Q']=Q\n",
    "C=[]\n",
    "for i in range(len(test)):\n",
    "    if test['Embarked'][i]=='C':\n",
    "        C.append(1)\n",
    "    else:\n",
    "        C.append(0)\n",
    "test['C']=C"
   ]
  },
  {
   "cell_type": "code",
   "execution_count": 12,
   "id": "9682cb28",
   "metadata": {},
   "outputs": [],
   "source": [
    "test_6=test.drop(['PassengerId','Name','Ticket','Cabin','Embarked','Sex'], axis=1)"
   ]
  },
  {
   "cell_type": "code",
   "execution_count": 14,
   "id": "36091521",
   "metadata": {},
   "outputs": [
    {
     "data": {
      "text/plain": [
       "RandomForestRegressor()"
      ]
     },
     "execution_count": 14,
     "metadata": {},
     "output_type": "execute_result"
    }
   ],
   "source": [
    "from sklearn.ensemble import RandomForestRegressor\n",
    "model=RandomForestRegressor(criterion='mse')\n",
    "model.fit(X_train_6, Y_train)"
   ]
  },
  {
   "cell_type": "code",
   "execution_count": 15,
   "id": "0977ab72",
   "metadata": {},
   "outputs": [
    {
     "data": {
      "text/plain": [
       "array([0.10442394, 0.24180355, 0.04689414, 0.02477015, 0.2486114 ,\n",
       "       0.14977526, 0.15364263, 0.01511085, 0.00507597, 0.0098921 ])"
      ]
     },
     "execution_count": 15,
     "metadata": {},
     "output_type": "execute_result"
    }
   ],
   "source": [
    "model.feature_importances_"
   ]
  },
  {
   "cell_type": "code",
   "execution_count": 16,
   "id": "4a4b99d0",
   "metadata": {},
   "outputs": [],
   "source": [
    "pred=model.predict(test_6)"
   ]
  },
  {
   "cell_type": "code",
   "execution_count": 17,
   "id": "d6dd4781",
   "metadata": {},
   "outputs": [],
   "source": [
    "sub=pd.read_csv('./submission.csv')\n",
    "sub['Survived']=pred\n",
    "sub.to_csv('sub_6.csv',index=False)"
   ]
  },
  {
   "cell_type": "code",
   "execution_count": 59,
   "id": "36c596ec",
   "metadata": {},
   "outputs": [
    {
     "name": "stdout",
     "output_type": "stream",
     "text": [
      "<class 'pandas.core.frame.DataFrame'>\n",
      "RangeIndex: 891 entries, 0 to 890\n",
      "Data columns (total 10 columns):\n",
      " #   Column  Non-Null Count  Dtype  \n",
      "---  ------  --------------  -----  \n",
      " 0   Pclass  891 non-null    int64  \n",
      " 1   Age     891 non-null    float64\n",
      " 2   SibSp   891 non-null    int64  \n",
      " 3   Parch   891 non-null    int64  \n",
      " 4   Fare    891 non-null    float64\n",
      " 5   male    891 non-null    int64  \n",
      " 6   female  891 non-null    int64  \n",
      " 7   S       891 non-null    int64  \n",
      " 8   Q       891 non-null    int64  \n",
      " 9   C       891 non-null    int64  \n",
      "dtypes: float64(2), int64(8)\n",
      "memory usage: 69.7 KB\n"
     ]
    }
   ],
   "source": [
    "X_train_6.info()"
   ]
  },
  {
   "cell_type": "markdown",
   "id": "16e2d183",
   "metadata": {},
   "source": [
    "# 일곱번째 제출"
   ]
  },
  {
   "cell_type": "code",
   "execution_count": 13,
   "id": "7f88ce3c",
   "metadata": {},
   "outputs": [],
   "source": [
    "X_train_7=X_train_6.drop(['S','Q','C'], axis=1)\n",
    "test_7=test_6.drop(['S','Q','C'], axis=1)"
   ]
  },
  {
   "cell_type": "code",
   "execution_count": 15,
   "id": "1a052728",
   "metadata": {},
   "outputs": [
    {
     "data": {
      "text/plain": [
       "RandomForestRegressor()"
      ]
     },
     "execution_count": 15,
     "metadata": {},
     "output_type": "execute_result"
    }
   ],
   "source": [
    "from sklearn.ensemble import RandomForestRegressor\n",
    "model=RandomForestRegressor(criterion='mse')\n",
    "model.fit(X_train_7, Y_train)"
   ]
  },
  {
   "cell_type": "code",
   "execution_count": 62,
   "id": "7a35ae77",
   "metadata": {},
   "outputs": [
    {
     "data": {
      "text/plain": [
       "array([0.10324528, 0.25095282, 0.0450211 , 0.0243792 , 0.26716052,\n",
       "       0.13569631, 0.17354478])"
      ]
     },
     "execution_count": 62,
     "metadata": {},
     "output_type": "execute_result"
    }
   ],
   "source": [
    "model.feature_importances_"
   ]
  },
  {
   "cell_type": "code",
   "execution_count": 63,
   "id": "223b1e70",
   "metadata": {},
   "outputs": [
    {
     "name": "stdout",
     "output_type": "stream",
     "text": [
      "<class 'pandas.core.frame.DataFrame'>\n",
      "RangeIndex: 891 entries, 0 to 890\n",
      "Data columns (total 7 columns):\n",
      " #   Column  Non-Null Count  Dtype  \n",
      "---  ------  --------------  -----  \n",
      " 0   Pclass  891 non-null    int64  \n",
      " 1   Age     891 non-null    float64\n",
      " 2   SibSp   891 non-null    int64  \n",
      " 3   Parch   891 non-null    int64  \n",
      " 4   Fare    891 non-null    float64\n",
      " 5   male    891 non-null    int64  \n",
      " 6   female  891 non-null    int64  \n",
      "dtypes: float64(2), int64(5)\n",
      "memory usage: 48.9 KB\n"
     ]
    }
   ],
   "source": [
    "X_train_7.info()"
   ]
  },
  {
   "cell_type": "code",
   "execution_count": 16,
   "id": "de4ad4fd",
   "metadata": {},
   "outputs": [],
   "source": [
    "pred=model.predict(test_7)"
   ]
  },
  {
   "cell_type": "code",
   "execution_count": 17,
   "id": "0f6547a8",
   "metadata": {},
   "outputs": [],
   "source": [
    "sub=pd.read_csv('./submission.csv')\n",
    "sub['Survived']=pred\n",
    "sub.to_csv('sub_7.csv',index=False)"
   ]
  },
  {
   "cell_type": "markdown",
   "id": "7c985b41",
   "metadata": {},
   "source": [
    "# 여덟번째 제출"
   ]
  },
  {
   "cell_type": "code",
   "execution_count": 13,
   "id": "189663d1",
   "metadata": {},
   "outputs": [],
   "source": [
    "X_train_8=X_train_6.drop(['S','Q','C','SibSp','Parch'], axis=1)\n",
    "test_8=test_6.drop(['S','Q','C','SibSp','Parch'], axis=1)"
   ]
  },
  {
   "cell_type": "code",
   "execution_count": 14,
   "id": "279d1c3d",
   "metadata": {},
   "outputs": [],
   "source": [
    "from sklearn.ensemble import RandomForestRegressor\n",
    "model=RandomForestRegressor(criterion='mse')\n",
    "model.fit(X_train_8, Y_train)\n",
    "pred=model.predict(test_8)"
   ]
  },
  {
   "cell_type": "code",
   "execution_count": 15,
   "id": "fdcb0731",
   "metadata": {},
   "outputs": [],
   "source": [
    "sub=pd.read_csv('./submission.csv')\n",
    "sub['Survived']=pred\n",
    "sub.to_csv('sub_8.csv',index=False)"
   ]
  },
  {
   "cell_type": "markdown",
   "id": "ee3be423",
   "metadata": {},
   "source": [
    "# 아홉번째 제출"
   ]
  },
  {
   "cell_type": "code",
   "execution_count": 91,
   "id": "8ba4bbdc",
   "metadata": {
    "scrolled": true
   },
   "outputs": [],
   "source": [
    "X_train_6['Pclass'] = X_train_6['Pclass'].astype('category')\n",
    "X_train_9=X_train_6\n",
    "X_train_9['1']=pd.get_dummies(X_train_6['Pclass'])[1]\n",
    "X_train_9['2']=pd.get_dummies(X_train_6['Pclass'])[2]\n",
    "X_train_9['3']=pd.get_dummies(X_train_6['Pclass'])[3]"
   ]
  },
  {
   "cell_type": "code",
   "execution_count": 92,
   "id": "33b0fbef",
   "metadata": {},
   "outputs": [
    {
     "data": {
      "text/html": [
       "<div>\n",
       "<style scoped>\n",
       "    .dataframe tbody tr th:only-of-type {\n",
       "        vertical-align: middle;\n",
       "    }\n",
       "\n",
       "    .dataframe tbody tr th {\n",
       "        vertical-align: top;\n",
       "    }\n",
       "\n",
       "    .dataframe thead th {\n",
       "        text-align: right;\n",
       "    }\n",
       "</style>\n",
       "<table border=\"1\" class=\"dataframe\">\n",
       "  <thead>\n",
       "    <tr style=\"text-align: right;\">\n",
       "      <th></th>\n",
       "      <th>Pclass</th>\n",
       "      <th>Age</th>\n",
       "      <th>SibSp</th>\n",
       "      <th>Parch</th>\n",
       "      <th>Fare</th>\n",
       "      <th>male</th>\n",
       "      <th>female</th>\n",
       "      <th>S</th>\n",
       "      <th>Q</th>\n",
       "      <th>C</th>\n",
       "      <th>1</th>\n",
       "      <th>2</th>\n",
       "      <th>3</th>\n",
       "    </tr>\n",
       "  </thead>\n",
       "  <tbody>\n",
       "    <tr>\n",
       "      <th>0</th>\n",
       "      <td>3</td>\n",
       "      <td>22.0</td>\n",
       "      <td>1</td>\n",
       "      <td>0</td>\n",
       "      <td>7.2500</td>\n",
       "      <td>1</td>\n",
       "      <td>0</td>\n",
       "      <td>1</td>\n",
       "      <td>0</td>\n",
       "      <td>0</td>\n",
       "      <td>0</td>\n",
       "      <td>0</td>\n",
       "      <td>1</td>\n",
       "    </tr>\n",
       "    <tr>\n",
       "      <th>1</th>\n",
       "      <td>1</td>\n",
       "      <td>38.0</td>\n",
       "      <td>1</td>\n",
       "      <td>0</td>\n",
       "      <td>71.2833</td>\n",
       "      <td>0</td>\n",
       "      <td>1</td>\n",
       "      <td>0</td>\n",
       "      <td>0</td>\n",
       "      <td>1</td>\n",
       "      <td>1</td>\n",
       "      <td>0</td>\n",
       "      <td>0</td>\n",
       "    </tr>\n",
       "    <tr>\n",
       "      <th>2</th>\n",
       "      <td>3</td>\n",
       "      <td>26.0</td>\n",
       "      <td>0</td>\n",
       "      <td>0</td>\n",
       "      <td>7.9250</td>\n",
       "      <td>0</td>\n",
       "      <td>1</td>\n",
       "      <td>1</td>\n",
       "      <td>0</td>\n",
       "      <td>0</td>\n",
       "      <td>0</td>\n",
       "      <td>0</td>\n",
       "      <td>1</td>\n",
       "    </tr>\n",
       "    <tr>\n",
       "      <th>3</th>\n",
       "      <td>1</td>\n",
       "      <td>35.0</td>\n",
       "      <td>1</td>\n",
       "      <td>0</td>\n",
       "      <td>53.1000</td>\n",
       "      <td>0</td>\n",
       "      <td>1</td>\n",
       "      <td>1</td>\n",
       "      <td>0</td>\n",
       "      <td>0</td>\n",
       "      <td>1</td>\n",
       "      <td>0</td>\n",
       "      <td>0</td>\n",
       "    </tr>\n",
       "    <tr>\n",
       "      <th>4</th>\n",
       "      <td>3</td>\n",
       "      <td>35.0</td>\n",
       "      <td>0</td>\n",
       "      <td>0</td>\n",
       "      <td>8.0500</td>\n",
       "      <td>1</td>\n",
       "      <td>0</td>\n",
       "      <td>1</td>\n",
       "      <td>0</td>\n",
       "      <td>0</td>\n",
       "      <td>0</td>\n",
       "      <td>0</td>\n",
       "      <td>1</td>\n",
       "    </tr>\n",
       "    <tr>\n",
       "      <th>...</th>\n",
       "      <td>...</td>\n",
       "      <td>...</td>\n",
       "      <td>...</td>\n",
       "      <td>...</td>\n",
       "      <td>...</td>\n",
       "      <td>...</td>\n",
       "      <td>...</td>\n",
       "      <td>...</td>\n",
       "      <td>...</td>\n",
       "      <td>...</td>\n",
       "      <td>...</td>\n",
       "      <td>...</td>\n",
       "      <td>...</td>\n",
       "    </tr>\n",
       "    <tr>\n",
       "      <th>886</th>\n",
       "      <td>2</td>\n",
       "      <td>27.0</td>\n",
       "      <td>0</td>\n",
       "      <td>0</td>\n",
       "      <td>13.0000</td>\n",
       "      <td>1</td>\n",
       "      <td>0</td>\n",
       "      <td>1</td>\n",
       "      <td>0</td>\n",
       "      <td>0</td>\n",
       "      <td>0</td>\n",
       "      <td>1</td>\n",
       "      <td>0</td>\n",
       "    </tr>\n",
       "    <tr>\n",
       "      <th>887</th>\n",
       "      <td>1</td>\n",
       "      <td>19.0</td>\n",
       "      <td>0</td>\n",
       "      <td>0</td>\n",
       "      <td>30.0000</td>\n",
       "      <td>0</td>\n",
       "      <td>1</td>\n",
       "      <td>1</td>\n",
       "      <td>0</td>\n",
       "      <td>0</td>\n",
       "      <td>1</td>\n",
       "      <td>0</td>\n",
       "      <td>0</td>\n",
       "    </tr>\n",
       "    <tr>\n",
       "      <th>888</th>\n",
       "      <td>3</td>\n",
       "      <td>29.0</td>\n",
       "      <td>1</td>\n",
       "      <td>2</td>\n",
       "      <td>23.4500</td>\n",
       "      <td>0</td>\n",
       "      <td>1</td>\n",
       "      <td>1</td>\n",
       "      <td>0</td>\n",
       "      <td>0</td>\n",
       "      <td>0</td>\n",
       "      <td>0</td>\n",
       "      <td>1</td>\n",
       "    </tr>\n",
       "    <tr>\n",
       "      <th>889</th>\n",
       "      <td>1</td>\n",
       "      <td>26.0</td>\n",
       "      <td>0</td>\n",
       "      <td>0</td>\n",
       "      <td>30.0000</td>\n",
       "      <td>1</td>\n",
       "      <td>0</td>\n",
       "      <td>0</td>\n",
       "      <td>0</td>\n",
       "      <td>1</td>\n",
       "      <td>1</td>\n",
       "      <td>0</td>\n",
       "      <td>0</td>\n",
       "    </tr>\n",
       "    <tr>\n",
       "      <th>890</th>\n",
       "      <td>3</td>\n",
       "      <td>32.0</td>\n",
       "      <td>0</td>\n",
       "      <td>0</td>\n",
       "      <td>7.7500</td>\n",
       "      <td>1</td>\n",
       "      <td>0</td>\n",
       "      <td>0</td>\n",
       "      <td>1</td>\n",
       "      <td>0</td>\n",
       "      <td>0</td>\n",
       "      <td>0</td>\n",
       "      <td>1</td>\n",
       "    </tr>\n",
       "  </tbody>\n",
       "</table>\n",
       "<p>891 rows × 13 columns</p>\n",
       "</div>"
      ],
      "text/plain": [
       "    Pclass   Age  SibSp  Parch     Fare  male  female  S  Q  C  1  2  3\n",
       "0        3  22.0      1      0   7.2500     1       0  1  0  0  0  0  1\n",
       "1        1  38.0      1      0  71.2833     0       1  0  0  1  1  0  0\n",
       "2        3  26.0      0      0   7.9250     0       1  1  0  0  0  0  1\n",
       "3        1  35.0      1      0  53.1000     0       1  1  0  0  1  0  0\n",
       "4        3  35.0      0      0   8.0500     1       0  1  0  0  0  0  1\n",
       "..     ...   ...    ...    ...      ...   ...     ... .. .. .. .. .. ..\n",
       "886      2  27.0      0      0  13.0000     1       0  1  0  0  0  1  0\n",
       "887      1  19.0      0      0  30.0000     0       1  1  0  0  1  0  0\n",
       "888      3  29.0      1      2  23.4500     0       1  1  0  0  0  0  1\n",
       "889      1  26.0      0      0  30.0000     1       0  0  0  1  1  0  0\n",
       "890      3  32.0      0      0   7.7500     1       0  0  1  0  0  0  1\n",
       "\n",
       "[891 rows x 13 columns]"
      ]
     },
     "execution_count": 92,
     "metadata": {},
     "output_type": "execute_result"
    }
   ],
   "source": [
    "X_train_9"
   ]
  },
  {
   "cell_type": "code",
   "execution_count": 93,
   "id": "6d80832d",
   "metadata": {},
   "outputs": [],
   "source": [
    "test_6['Pclass'] = test_6['Pclass'].astype('category')\n",
    "test_9=test_6\n",
    "test_9['1']=pd.get_dummies(test_6['Pclass'])[1]\n",
    "test_9['2']=pd.get_dummies(test_6['Pclass'])[2]\n",
    "test_9['3']=pd.get_dummies(test_6['Pclass'])[3]"
   ]
  },
  {
   "cell_type": "code",
   "execution_count": 95,
   "id": "3114640d",
   "metadata": {},
   "outputs": [],
   "source": [
    "X_train_9.drop(['Pclass'], axis=1, inplace=True)\n",
    "test_9.drop(['Pclass'], axis=1, inplace=True)"
   ]
  },
  {
   "cell_type": "code",
   "execution_count": 97,
   "id": "98c076c2",
   "metadata": {},
   "outputs": [
    {
     "data": {
      "text/plain": [
       "RandomForestRegressor()"
      ]
     },
     "execution_count": 97,
     "metadata": {},
     "output_type": "execute_result"
    }
   ],
   "source": [
    "model=RandomForestRegressor(criterion='mse')\n",
    "model.fit(X_train_9, Y_train)"
   ]
  },
  {
   "cell_type": "code",
   "execution_count": 98,
   "id": "a205bc09",
   "metadata": {},
   "outputs": [],
   "source": [
    "pred=model.predict(test_9)"
   ]
  },
  {
   "cell_type": "code",
   "execution_count": 99,
   "id": "963a1dd7",
   "metadata": {},
   "outputs": [],
   "source": [
    "sub=pd.read_csv('./submission.csv')\n",
    "sub['Survived']=pred\n",
    "sub.to_csv('sub_9.csv',index=False)"
   ]
  },
  {
   "cell_type": "markdown",
   "id": "81393fae",
   "metadata": {},
   "source": [
    "# 열번째 제출"
   ]
  },
  {
   "cell_type": "code",
   "execution_count": 13,
   "id": "e41612fb",
   "metadata": {},
   "outputs": [],
   "source": [
    "X_train_10=X_train_6.drop(['SibSp','Parch'], axis=1)\n",
    "test_10=test_6.drop(['SibSp','Parch'], axis=1)"
   ]
  },
  {
   "cell_type": "code",
   "execution_count": 14,
   "id": "ca6c8219",
   "metadata": {},
   "outputs": [],
   "source": [
    "from sklearn.ensemble import RandomForestRegressor\n",
    "model=RandomForestRegressor(criterion='mse')\n",
    "model.fit(X_train_10, Y_train)\n",
    "pred=model.predict(test_10)"
   ]
  },
  {
   "cell_type": "code",
   "execution_count": 15,
   "id": "ffe719dd",
   "metadata": {},
   "outputs": [],
   "source": [
    "sub=pd.read_csv('./submission.csv')\n",
    "sub['Survived']=pred\n",
    "sub.to_csv('sub_10.csv',index=False)"
   ]
  }
 ],
 "metadata": {
  "kernelspec": {
   "display_name": "Python 3",
   "language": "python",
   "name": "python3"
  },
  "language_info": {
   "codemirror_mode": {
    "name": "ipython",
    "version": 3
   },
   "file_extension": ".py",
   "mimetype": "text/x-python",
   "name": "python",
   "nbconvert_exporter": "python",
   "pygments_lexer": "ipython3",
   "version": "3.8.8"
  }
 },
 "nbformat": 4,
 "nbformat_minor": 5
}
